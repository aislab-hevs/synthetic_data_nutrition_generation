{
 "cells": [
  {
   "cell_type": "code",
   "execution_count": 432,
   "metadata": {},
   "outputs": [],
   "source": [
    "import pandas as pd\n",
    "import numpy as np \n",
    "from faker import Faker\n",
    "from enum import Enum\n",
    "from typing import List, Any, Tuple\n",
    "import string\n",
    "import uuid\n",
    "import seaborn as sns\n",
    "import matplotlib.pyplot as plt\n",
    "from prettytable import PrettyTable, ALL, FRAME"
   ]
  },
  {
   "cell_type": "code",
   "execution_count": 141,
   "metadata": {},
   "outputs": [],
   "source": [
    "person_entity = {\n",
    "    \"userId\": str, \n",
    "    \"username\": str, \n",
    "    \"password\": str, \n",
    "    \"email\": str, \n",
    "    \"name\": str, \n",
    "    \"surname\": str, \n",
    "    \"clinical_gender\": [\"M\", \"F\"], \n",
    "    \"current_location\": [], \n",
    "    \"age_range\": [\"20-29\", \"30-39\", \"40-49\", \"50-59\", \"60-69\", \"70-79\", \"80-89\", \"90-100\"],\n",
    "    \"living_country\": [], \n",
    "    \"country_of_origin\": []\n",
    "    }\n",
    "\n",
    "user_entity = {\n",
    "    \"current_working_status\": [\"Half-time-worker\", \"Full-time-worker\", \"Self-employee\", \"Unemployed\"],\n",
    "    \"marital_status\": [\"Single\", \"Married\"], \n",
    "    \"life_style\": [\"Sedentary\", \"Lightly active\", \"Moderately active\", \"Very active\"], \n",
    "    \"weight\": [],\n",
    "    \"ethnicity\": [\"White\", \"Black\", \"Latino\", \"Asian\"], \n",
    "    \"height\": []\n",
    "}\n",
    "\n",
    "cultural_factors = {\n",
    "    \"vegan_observant\": [True, False],\n",
    "    \"vegetarian_observant\": [True, False], \n",
    "    \"halal_observant\": [True, False], \n",
    "    \"kosher_observant\": [True, False],\n",
    "    \"religion_observant\": [True, False], \n",
    "    \"drink_limitation\": [True, False], \n",
    "    \"pescatarian_observant\": [True, False],\n",
    "    \"religion\": [],\n",
    "    \"food_limitation\": []\n",
    "}\n",
    "\n",
    "sustainability = {\n",
    "    \"environmental_harm\": [],\n",
    "    \"eco_score\": [],\n",
    "    \"co2_food_print\": [],\n",
    "    \"recyclable_packaging\": []\n",
    "}\n",
    "\n",
    "actions = {\n",
    "    \"action_type\": [],\n",
    "    \"location\": [], \n",
    "    \"action_date\": []\n",
    "}\n",
    "\n",
    "preferences = {\n",
    "    \"breakfast_time\": [],\n",
    "    \"lunch_time\": [],\n",
    "    \"dinner_time\": []\n",
    "}\n",
    "\n",
    "health_conditions = {\n",
    "    \"food_allergies\": []\n",
    "}\n",
    "\n",
    "user_goals = {\n",
    "    \"user_goals\": [\"loss_weight\", \"fit\", \"food_restrictions\"]\n",
    "}\n",
    "\n",
    "cultural_factors = {\n",
    "    \"cultural_factors\": []\n",
    "}\n",
    "\n",
    "diet = {\n",
    "    \"diet_daily_calories\": [],\n",
    "    \"calorie_deficit\": []\n",
    "}\n",
    "\n",
    "    "
   ]
  },
  {
   "cell_type": "code",
   "execution_count": 8,
   "metadata": {},
   "outputs": [],
   "source": [
    "df_personal_data = pd.DataFrame(data=[], columns = list(person_entity.keys()))"
   ]
  },
  {
   "cell_type": "code",
   "execution_count": 13,
   "metadata": {},
   "outputs": [],
   "source": [
    "# set seed for random generator \n",
    "np.random.seed(0)"
   ]
  },
  {
   "cell_type": "code",
   "execution_count": 14,
   "metadata": {},
   "outputs": [],
   "source": [
    "df_personal_data[\"clinical_gender\"] = np.random.choice(np.array(person_entity.get(\"clinical_gender\")), \n",
    "                                                       size=500, \n",
    "                                                       replace=True, \n",
    "                                                       p=[0.5, 0.5])"
   ]
  },
  {
   "cell_type": "code",
   "execution_count": 19,
   "metadata": {},
   "outputs": [],
   "source": [
    "fake = Faker()"
   ]
  },
  {
   "cell_type": "code",
   "execution_count": 18,
   "metadata": {},
   "outputs": [],
   "source": [
    "class Gender(str, Enum):\n",
    "    male = \"M\"\n",
    "    female = \"F\""
   ]
  },
  {
   "cell_type": "code",
   "execution_count": 22,
   "metadata": {},
   "outputs": [],
   "source": [
    "def create_name_surname(gender: str) -> str:\n",
    "    if gender == Gender.male:\n",
    "        names = fake.name_male()\n",
    "    else:\n",
    "        names = fake.name_female()\n",
    "    return names.split(\" \")"
   ]
  },
  {
   "cell_type": "code",
   "execution_count": 53,
   "metadata": {},
   "outputs": [],
   "source": [
    "def generate_country(samples) -> List:\n",
    "    return list(map(lambda x: fake.country(), range(samples)))"
   ]
  },
  {
   "cell_type": "code",
   "execution_count": 60,
   "metadata": {},
   "outputs": [],
   "source": [
    "def generate_email_from_name(name: str, surname: str, domain: str=\"fake.com\"):\n",
    "    return f\"{name.lower()}.{surname.lower()}@{domain.lower()}\""
   ]
  },
  {
   "cell_type": "code",
   "execution_count": 96,
   "metadata": {},
   "outputs": [],
   "source": [
    "def password_generation(length): \n",
    "    chars = string.ascii_letters + string.digits\n",
    "    list_chars = list(chars)\n",
    "    password = np.random.choice(list_chars, length)\n",
    "    return ''.join(password)"
   ]
  },
  {
   "cell_type": "code",
   "execution_count": 115,
   "metadata": {},
   "outputs": [],
   "source": [
    "def generate_age_range(probabilities = None, list_age_range:List = person_entity.get(\"age_range\")):\n",
    "    return np.random.choice(list_age_range, size=1, replace=True, p=probabilities)[0]"
   ]
  },
  {
   "cell_type": "code",
   "execution_count": 128,
   "metadata": {},
   "outputs": [],
   "source": [
    "def generate_localization(samples): \n",
    "    return list(map(lambda x: fake.locale(), range(samples)))"
   ]
  },
  {
   "cell_type": "code",
   "execution_count": 30,
   "metadata": {},
   "outputs": [],
   "source": [
    "names = df_personal_data[\"clinical_gender\"].apply(create_name_surname)"
   ]
  },
  {
   "cell_type": "code",
   "execution_count": 37,
   "metadata": {},
   "outputs": [],
   "source": [
    "names_list = list(zip(*names))"
   ]
  },
  {
   "cell_type": "code",
   "execution_count": 38,
   "metadata": {},
   "outputs": [],
   "source": [
    "df_personal_data[\"name\"] = names_list[0]\n",
    "df_personal_data[\"surname\"] = names_list[1]"
   ]
  },
  {
   "cell_type": "code",
   "execution_count": 129,
   "metadata": {},
   "outputs": [],
   "source": [
    "df_personal_data[\"country_of_origin\"] = generate_country(500)\n",
    "df_personal_data[\"living_country\"] = generate_country(500)\n",
    "df_personal_data[\"current_location\"] = generate_country(500)\n",
    "df_personal_data[\"current_location\"] = generate_localization(500)"
   ]
  },
  {
   "cell_type": "code",
   "execution_count": 76,
   "metadata": {},
   "outputs": [],
   "source": [
    "list_names = list(zip(*df_personal_data[[\"name\", \"surname\"]].values.tolist()))"
   ]
  },
  {
   "cell_type": "code",
   "execution_count": 80,
   "metadata": {},
   "outputs": [],
   "source": [
    "df_personal_data[\"email\"] =list(map(lambda x, y: generate_email_from_name(x, y), list_names[0], list_names[1]))"
   ]
  },
  {
   "cell_type": "code",
   "execution_count": 98,
   "metadata": {},
   "outputs": [],
   "source": [
    "df_personal_data[\"password\"] = list(map(lambda x: password_generation(8), range(500)))"
   ]
  },
  {
   "cell_type": "code",
   "execution_count": 110,
   "metadata": {},
   "outputs": [],
   "source": [
    "df_personal_data[\"username\"] = df_personal_data[\"name\"].apply(lambda x: x.lower()+str(uuid.uuid4()).split(\"-\")[-2])\n",
    "df_personal_data[\"userId\"] = df_personal_data[\"name\"].apply(lambda x: x.lower()+str(uuid.uuid4()).split(\"-\")[-2])"
   ]
  },
  {
   "cell_type": "code",
   "execution_count": 122,
   "metadata": {},
   "outputs": [],
   "source": [
    "df_personal_data[\"age_range\"] = list(map(lambda x: generate_age_range(), range(500)))"
   ]
  },
  {
   "cell_type": "code",
   "execution_count": 130,
   "metadata": {},
   "outputs": [
    {
     "data": {
      "text/html": [
       "<div>\n",
       "<style scoped>\n",
       "    .dataframe tbody tr th:only-of-type {\n",
       "        vertical-align: middle;\n",
       "    }\n",
       "\n",
       "    .dataframe tbody tr th {\n",
       "        vertical-align: top;\n",
       "    }\n",
       "\n",
       "    .dataframe thead th {\n",
       "        text-align: right;\n",
       "    }\n",
       "</style>\n",
       "<table border=\"1\" class=\"dataframe\">\n",
       "  <thead>\n",
       "    <tr style=\"text-align: right;\">\n",
       "      <th></th>\n",
       "      <th>userId</th>\n",
       "      <th>username</th>\n",
       "      <th>password</th>\n",
       "      <th>email</th>\n",
       "      <th>name</th>\n",
       "      <th>surname</th>\n",
       "      <th>clinical_gender</th>\n",
       "      <th>current_location</th>\n",
       "      <th>age_range</th>\n",
       "      <th>living_country</th>\n",
       "      <th>country_of_origin</th>\n",
       "    </tr>\n",
       "  </thead>\n",
       "  <tbody>\n",
       "    <tr>\n",
       "      <th>0</th>\n",
       "      <td>cynthiaa85a</td>\n",
       "      <td>cynthiabf65</td>\n",
       "      <td>uR2aKTPc</td>\n",
       "      <td>cynthia.franklin@fake.com</td>\n",
       "      <td>Cynthia</td>\n",
       "      <td>Franklin</td>\n",
       "      <td>F</td>\n",
       "      <td>ka_GE</td>\n",
       "      <td>30-39</td>\n",
       "      <td>Guadeloupe</td>\n",
       "      <td>Canada</td>\n",
       "    </tr>\n",
       "    <tr>\n",
       "      <th>1</th>\n",
       "      <td>gloria81ec</td>\n",
       "      <td>gloriaa8e7</td>\n",
       "      <td>Hmp2Hxmf</td>\n",
       "      <td>gloria.flores@fake.com</td>\n",
       "      <td>Gloria</td>\n",
       "      <td>Flores</td>\n",
       "      <td>F</td>\n",
       "      <td>el_GR</td>\n",
       "      <td>20-29</td>\n",
       "      <td>Guinea</td>\n",
       "      <td>Guadeloupe</td>\n",
       "    </tr>\n",
       "    <tr>\n",
       "      <th>2</th>\n",
       "      <td>karena0a0</td>\n",
       "      <td>karen9701</td>\n",
       "      <td>Mbkg9gMM</td>\n",
       "      <td>karen.mason@fake.com</td>\n",
       "      <td>Karen</td>\n",
       "      <td>Mason</td>\n",
       "      <td>F</td>\n",
       "      <td>lo_LA</td>\n",
       "      <td>90-100</td>\n",
       "      <td>Peru</td>\n",
       "      <td>Germany</td>\n",
       "    </tr>\n",
       "    <tr>\n",
       "      <th>3</th>\n",
       "      <td>autumnbd78</td>\n",
       "      <td>autumn9165</td>\n",
       "      <td>lYvYYZcm</td>\n",
       "      <td>autumn.peterson@fake.com</td>\n",
       "      <td>Autumn</td>\n",
       "      <td>Peterson</td>\n",
       "      <td>F</td>\n",
       "      <td>gv_GB</td>\n",
       "      <td>20-29</td>\n",
       "      <td>Monaco</td>\n",
       "      <td>Sao Tome and Principe</td>\n",
       "    </tr>\n",
       "    <tr>\n",
       "      <th>4</th>\n",
       "      <td>robert9174</td>\n",
       "      <td>robert8465</td>\n",
       "      <td>DjZif01R</td>\n",
       "      <td>robert.moore@fake.com</td>\n",
       "      <td>Robert</td>\n",
       "      <td>Moore</td>\n",
       "      <td>M</td>\n",
       "      <td>de_LU</td>\n",
       "      <td>20-29</td>\n",
       "      <td>Antigua and Barbuda</td>\n",
       "      <td>Niger</td>\n",
       "    </tr>\n",
       "    <tr>\n",
       "      <th>5</th>\n",
       "      <td>anna9399</td>\n",
       "      <td>anna924c</td>\n",
       "      <td>bRpmVmv4</td>\n",
       "      <td>anna.roberts@fake.com</td>\n",
       "      <td>Anna</td>\n",
       "      <td>Roberts</td>\n",
       "      <td>F</td>\n",
       "      <td>pt_BR</td>\n",
       "      <td>40-49</td>\n",
       "      <td>French Guiana</td>\n",
       "      <td>Russian Federation</td>\n",
       "    </tr>\n",
       "    <tr>\n",
       "      <th>6</th>\n",
       "      <td>anthonyb087</td>\n",
       "      <td>anthony9d52</td>\n",
       "      <td>sznECSPv</td>\n",
       "      <td>anthony.house@fake.com</td>\n",
       "      <td>Anthony</td>\n",
       "      <td>House</td>\n",
       "      <td>M</td>\n",
       "      <td>my_MM</td>\n",
       "      <td>50-59</td>\n",
       "      <td>Cambodia</td>\n",
       "      <td>Turkey</td>\n",
       "    </tr>\n",
       "  </tbody>\n",
       "</table>\n",
       "</div>"
      ],
      "text/plain": [
       "        userId     username  password                      email     name  \\\n",
       "0  cynthiaa85a  cynthiabf65  uR2aKTPc  cynthia.franklin@fake.com  Cynthia   \n",
       "1   gloria81ec   gloriaa8e7  Hmp2Hxmf     gloria.flores@fake.com   Gloria   \n",
       "2    karena0a0    karen9701  Mbkg9gMM       karen.mason@fake.com    Karen   \n",
       "3   autumnbd78   autumn9165  lYvYYZcm   autumn.peterson@fake.com   Autumn   \n",
       "4   robert9174   robert8465  DjZif01R      robert.moore@fake.com   Robert   \n",
       "5     anna9399     anna924c  bRpmVmv4      anna.roberts@fake.com     Anna   \n",
       "6  anthonyb087  anthony9d52  sznECSPv     anthony.house@fake.com  Anthony   \n",
       "\n",
       "    surname clinical_gender current_location age_range       living_country  \\\n",
       "0  Franklin               F            ka_GE     30-39           Guadeloupe   \n",
       "1    Flores               F            el_GR     20-29               Guinea   \n",
       "2     Mason               F            lo_LA    90-100                 Peru   \n",
       "3  Peterson               F            gv_GB     20-29               Monaco   \n",
       "4     Moore               M            de_LU     20-29  Antigua and Barbuda   \n",
       "5   Roberts               F            pt_BR     40-49        French Guiana   \n",
       "6     House               M            my_MM     50-59             Cambodia   \n",
       "\n",
       "       country_of_origin  \n",
       "0                 Canada  \n",
       "1             Guadeloupe  \n",
       "2                Germany  \n",
       "3  Sao Tome and Principe  \n",
       "4                  Niger  \n",
       "5     Russian Federation  \n",
       "6                 Turkey  "
      ]
     },
     "execution_count": 130,
     "metadata": {},
     "output_type": "execute_result"
    }
   ],
   "source": [
    "df_personal_data.head(7)"
   ]
  },
  {
   "cell_type": "code",
   "execution_count": 131,
   "metadata": {},
   "outputs": [],
   "source": [
    "# save data \n",
    "df_personal_data.to_csv(\"personal_profiles.csv\", index=False)"
   ]
  },
  {
   "cell_type": "markdown",
   "metadata": {},
   "source": [
    "# 2. Generate User data "
   ]
  },
  {
   "cell_type": "code",
   "execution_count": 200,
   "metadata": {},
   "outputs": [],
   "source": [
    "user_columns = [\"userId\", \"current_working_status\", \"marital_status\", \"life_style\", \"weight\", \"ethnicity\", \"height\"]\n",
    "df_user_entity = pd.DataFrame(data=[], columns=user_columns)"
   ]
  },
  {
   "cell_type": "code",
   "execution_count": 201,
   "metadata": {},
   "outputs": [],
   "source": [
    "df_user_entity[\"userId\"] = df_personal_data[\"userId\"]"
   ]
  },
  {
   "cell_type": "code",
   "execution_count": 202,
   "metadata": {},
   "outputs": [],
   "source": [
    "def choose_one_from_list(list_values: List, \n",
    "                         samples : int,  \n",
    "                         probabilities: List = None, \n",
    "                         size: int =1,\n",
    "                         replace: bool = True):\n",
    "    return list(map(lambda x: np.random.choice(list_values, size=size, replace=replace, p=probabilities), range(samples)))"
   ]
  },
  {
   "cell_type": "code",
   "execution_count": 203,
   "metadata": {},
   "outputs": [],
   "source": [
    "df_user_entity[\"current_working_status\"] = choose_one_from_list(user_entity.get(\"current_working_status\"), samples=500)\n",
    "df_user_entity[\"marital_status\"] = choose_one_from_list(user_entity.get(\"marital_status\"), samples=500)\n",
    "df_user_entity[\"life_style\"] = choose_one_from_list(user_entity.get(\"life_style\"), samples=500)\n",
    "df_user_entity[\"ethnicity\"] = choose_one_from_list(user_entity.get(\"ethnicity\"), samples=500)"
   ]
  },
  {
   "cell_type": "code",
   "execution_count": 204,
   "metadata": {},
   "outputs": [],
   "source": [
    "# generate BMI cases \n",
    "BMI_values = [\"underweight\", \"healthy\", \"overweight\", \"obesity\"]\n",
    "BMI_prob = [0.1, 0.3, 0.3, 0.3]\n",
    "bmis = np.random.choice(BMI_values, size=500, replace=True, p=BMI_prob)"
   ]
  },
  {
   "cell_type": "code",
   "execution_count": 205,
   "metadata": {},
   "outputs": [],
   "source": [
    "male_height = np.random.normal(170, 10, 500)\n",
    "female_height = np.random.normal(160, 10, 500)"
   ]
  },
  {
   "cell_type": "code",
   "execution_count": 206,
   "metadata": {},
   "outputs": [],
   "source": [
    "# set height \n",
    "df_user_entity[\"BMI\"] = bmis"
   ]
  },
  {
   "cell_type": "code",
   "execution_count": 207,
   "metadata": {},
   "outputs": [],
   "source": [
    "df_user_entity.loc[df_personal_data[\"clinical_gender\"] == 'F',\"height\"] = np.random.choice(female_height, size=246)\n",
    "df_user_entity.loc[df_personal_data[\"clinical_gender\"] == 'M',\"height\"] = np.random.choice(male_height, size=254)"
   ]
  },
  {
   "cell_type": "code",
   "execution_count": 208,
   "metadata": {},
   "outputs": [],
   "source": [
    "df_user_entity[\"height\"] = df_user_entity[\"height\"].astype(int)"
   ]
  },
  {
   "cell_type": "code",
   "execution_count": 235,
   "metadata": {},
   "outputs": [],
   "source": [
    "class BMI_constants(str, Enum):\n",
    "    underweight = \"underweight\"\n",
    "    healthy = \"healthy\"\n",
    "    overweight = \"overweight\"\n",
    "    obesity = \"obesity\""
   ]
  },
  {
   "cell_type": "code",
   "execution_count": 210,
   "metadata": {},
   "outputs": [],
   "source": [
    "# set the weight \n",
    "def calculate_weight_from_height(height: float, bmi: string):\n",
    "    bmi_numeric = 0.0\n",
    "    if bmi == BMI_constants.underweight:\n",
    "        bmi_numeric = 18.0\n",
    "    elif bmi == BMI_constants.healthy:\n",
    "        bmi_numeric = 21.0\n",
    "    elif bmi == BMI_constants.overweight:\n",
    "        bmi_numeric = 28.0\n",
    "    else:\n",
    "        bmi_numeric = 32.0\n",
    "    return (height**2)*bmi_numeric"
   ]
  },
  {
   "cell_type": "code",
   "execution_count": 211,
   "metadata": {},
   "outputs": [],
   "source": [
    "df_user_entity[\"weight\"] = np.round(df_user_entity.apply(lambda row: calculate_weight_from_height(row[\"height\"]/100.0, row[\"BMI\"]), axis=1), 2)"
   ]
  },
  {
   "cell_type": "code",
   "execution_count": 212,
   "metadata": {},
   "outputs": [],
   "source": [
    "df_user_entity[\"current_working_status\"] = df_user_entity[\"current_working_status\"].apply(lambda x: x[0])\n",
    "df_user_entity[\"marital_status\"] = df_user_entity[\"marital_status\"].apply(lambda x: x[0])\n",
    "df_user_entity[\"life_style\"] = df_user_entity[\"life_style\"].apply(lambda x: x[0])\n",
    "df_user_entity[\"ethnicity\"] = df_user_entity[\"ethnicity\"].apply(lambda x: x[0])"
   ]
  },
  {
   "cell_type": "code",
   "execution_count": 213,
   "metadata": {},
   "outputs": [
    {
     "data": {
      "text/html": [
       "<div>\n",
       "<style scoped>\n",
       "    .dataframe tbody tr th:only-of-type {\n",
       "        vertical-align: middle;\n",
       "    }\n",
       "\n",
       "    .dataframe tbody tr th {\n",
       "        vertical-align: top;\n",
       "    }\n",
       "\n",
       "    .dataframe thead th {\n",
       "        text-align: right;\n",
       "    }\n",
       "</style>\n",
       "<table border=\"1\" class=\"dataframe\">\n",
       "  <thead>\n",
       "    <tr style=\"text-align: right;\">\n",
       "      <th></th>\n",
       "      <th>userId</th>\n",
       "      <th>current_working_status</th>\n",
       "      <th>marital_status</th>\n",
       "      <th>life_style</th>\n",
       "      <th>weight</th>\n",
       "      <th>ethnicity</th>\n",
       "      <th>height</th>\n",
       "      <th>BMI</th>\n",
       "    </tr>\n",
       "  </thead>\n",
       "  <tbody>\n",
       "    <tr>\n",
       "      <th>0</th>\n",
       "      <td>cynthiaa85a</td>\n",
       "      <td>Half-time-worker</td>\n",
       "      <td>Married</td>\n",
       "      <td>Very active</td>\n",
       "      <td>47.88</td>\n",
       "      <td>Asian</td>\n",
       "      <td>151</td>\n",
       "      <td>healthy</td>\n",
       "    </tr>\n",
       "    <tr>\n",
       "      <th>1</th>\n",
       "      <td>gloria81ec</td>\n",
       "      <td>Half-time-worker</td>\n",
       "      <td>Married</td>\n",
       "      <td>Lightly active</td>\n",
       "      <td>65.55</td>\n",
       "      <td>White</td>\n",
       "      <td>153</td>\n",
       "      <td>overweight</td>\n",
       "    </tr>\n",
       "    <tr>\n",
       "      <th>2</th>\n",
       "      <td>karena0a0</td>\n",
       "      <td>Unemployed</td>\n",
       "      <td>Single</td>\n",
       "      <td>Moderately active</td>\n",
       "      <td>41.04</td>\n",
       "      <td>Latino</td>\n",
       "      <td>151</td>\n",
       "      <td>underweight</td>\n",
       "    </tr>\n",
       "    <tr>\n",
       "      <th>3</th>\n",
       "      <td>autumnbd78</td>\n",
       "      <td>Full-time-worker</td>\n",
       "      <td>Married</td>\n",
       "      <td>Moderately active</td>\n",
       "      <td>50.45</td>\n",
       "      <td>Latino</td>\n",
       "      <td>155</td>\n",
       "      <td>healthy</td>\n",
       "    </tr>\n",
       "    <tr>\n",
       "      <th>4</th>\n",
       "      <td>robert9174</td>\n",
       "      <td>Half-time-worker</td>\n",
       "      <td>Married</td>\n",
       "      <td>Sedentary</td>\n",
       "      <td>67.29</td>\n",
       "      <td>Black</td>\n",
       "      <td>179</td>\n",
       "      <td>healthy</td>\n",
       "    </tr>\n",
       "    <tr>\n",
       "      <th>5</th>\n",
       "      <td>anna9399</td>\n",
       "      <td>Full-time-worker</td>\n",
       "      <td>Single</td>\n",
       "      <td>Moderately active</td>\n",
       "      <td>40.50</td>\n",
       "      <td>Asian</td>\n",
       "      <td>150</td>\n",
       "      <td>underweight</td>\n",
       "    </tr>\n",
       "  </tbody>\n",
       "</table>\n",
       "</div>"
      ],
      "text/plain": [
       "        userId current_working_status marital_status         life_style  \\\n",
       "0  cynthiaa85a       Half-time-worker        Married        Very active   \n",
       "1   gloria81ec       Half-time-worker        Married     Lightly active   \n",
       "2    karena0a0             Unemployed         Single  Moderately active   \n",
       "3   autumnbd78       Full-time-worker        Married  Moderately active   \n",
       "4   robert9174       Half-time-worker        Married          Sedentary   \n",
       "5     anna9399       Full-time-worker         Single  Moderately active   \n",
       "\n",
       "   weight ethnicity  height          BMI  \n",
       "0   47.88     Asian     151      healthy  \n",
       "1   65.55     White     153   overweight  \n",
       "2   41.04    Latino     151  underweight  \n",
       "3   50.45    Latino     155      healthy  \n",
       "4   67.29     Black     179      healthy  \n",
       "5   40.50     Asian     150  underweight  "
      ]
     },
     "execution_count": 213,
     "metadata": {},
     "output_type": "execute_result"
    }
   ],
   "source": [
    "df_user_entity.head(6)"
   ]
  },
  {
   "cell_type": "code",
   "execution_count": 214,
   "metadata": {},
   "outputs": [],
   "source": [
    "df_user_entity.to_csv(\"user_entity.csv\", index=False)"
   ]
  },
  {
   "cell_type": "markdown",
   "metadata": {},
   "source": [
    "# 3. Generate health conditions "
   ]
  },
  {
   "cell_type": "code",
   "execution_count": 217,
   "metadata": {},
   "outputs": [],
   "source": [
    "df_health_conditions = pd.DataFrame(data=[], columns=[\"userId\", \"allergy\"])"
   ]
  },
  {
   "cell_type": "code",
   "execution_count": 219,
   "metadata": {},
   "outputs": [],
   "source": [
    "df_health_conditions[\"userId\"] = df_user_entity[\"userId\"]"
   ]
  },
  {
   "cell_type": "code",
   "execution_count": 223,
   "metadata": {},
   "outputs": [],
   "source": [
    "# allergy array \n",
    "allergies = [\"cow's milk\", \"eggs\", \"peanut\", \"soy\", \"fish\", \"tree nuts\", \"shellfish\", \"wheat\", \"None\"]\n",
    "allergies_prob = [0.075, 0.075, 0.075, 0.075, 0.075, 0.075, 0.075, 0.075, 0.4]"
   ]
  },
  {
   "cell_type": "code",
   "execution_count": 224,
   "metadata": {},
   "outputs": [],
   "source": [
    "user_allergies = np.random.choice(allergies, size=500, replace=True, p = allergies_prob)"
   ]
  },
  {
   "cell_type": "code",
   "execution_count": 226,
   "metadata": {},
   "outputs": [],
   "source": [
    "df_health_conditions[\"allergy\"] = user_allergies"
   ]
  },
  {
   "cell_type": "code",
   "execution_count": 231,
   "metadata": {},
   "outputs": [
    {
     "data": {
      "text/html": [
       "<div>\n",
       "<style scoped>\n",
       "    .dataframe tbody tr th:only-of-type {\n",
       "        vertical-align: middle;\n",
       "    }\n",
       "\n",
       "    .dataframe tbody tr th {\n",
       "        vertical-align: top;\n",
       "    }\n",
       "\n",
       "    .dataframe thead th {\n",
       "        text-align: right;\n",
       "    }\n",
       "</style>\n",
       "<table border=\"1\" class=\"dataframe\">\n",
       "  <thead>\n",
       "    <tr style=\"text-align: right;\">\n",
       "      <th></th>\n",
       "      <th>userId</th>\n",
       "      <th>allergy</th>\n",
       "    </tr>\n",
       "  </thead>\n",
       "  <tbody>\n",
       "    <tr>\n",
       "      <th>0</th>\n",
       "      <td>cynthiaa85a</td>\n",
       "      <td>fish</td>\n",
       "    </tr>\n",
       "    <tr>\n",
       "      <th>1</th>\n",
       "      <td>gloria81ec</td>\n",
       "      <td>None</td>\n",
       "    </tr>\n",
       "    <tr>\n",
       "      <th>2</th>\n",
       "      <td>karena0a0</td>\n",
       "      <td>None</td>\n",
       "    </tr>\n",
       "    <tr>\n",
       "      <th>3</th>\n",
       "      <td>autumnbd78</td>\n",
       "      <td>None</td>\n",
       "    </tr>\n",
       "    <tr>\n",
       "      <th>4</th>\n",
       "      <td>robert9174</td>\n",
       "      <td>None</td>\n",
       "    </tr>\n",
       "    <tr>\n",
       "      <th>5</th>\n",
       "      <td>anna9399</td>\n",
       "      <td>shellfish</td>\n",
       "    </tr>\n",
       "  </tbody>\n",
       "</table>\n",
       "</div>"
      ],
      "text/plain": [
       "        userId    allergy\n",
       "0  cynthiaa85a       fish\n",
       "1   gloria81ec       None\n",
       "2    karena0a0       None\n",
       "3   autumnbd78       None\n",
       "4   robert9174       None\n",
       "5     anna9399  shellfish"
      ]
     },
     "execution_count": 231,
     "metadata": {},
     "output_type": "execute_result"
    }
   ],
   "source": [
    "df_health_conditions.head(6)"
   ]
  },
  {
   "cell_type": "code",
   "execution_count": 232,
   "metadata": {},
   "outputs": [],
   "source": [
    "df_health_conditions.to_csv(\"health_conditions.csv\", index=False)"
   ]
  },
  {
   "cell_type": "markdown",
   "metadata": {},
   "source": [
    "# 4. Generate user goals"
   ]
  },
  {
   "cell_type": "code",
   "execution_count": 233,
   "metadata": {},
   "outputs": [],
   "source": [
    "# define user goals \n",
    "# define loose weight \n",
    "df_user_goals = pd.DataFrame(columns=[\"userId\", \"nutrition_goal\"], data=[])"
   ]
  },
  {
   "cell_type": "code",
   "execution_count": 234,
   "metadata": {},
   "outputs": [],
   "source": [
    "df_user_goals[\"userId\"] = df_user_entity[\"userId\"]"
   ]
  },
  {
   "cell_type": "code",
   "execution_count": 246,
   "metadata": {},
   "outputs": [],
   "source": [
    "class NutritionGoals(str, Enum):\n",
    "    lose_weight = \"lose_weight\"\n",
    "    maintain_fit = \"maintain_fit\"\n",
    "    gain_weight = \"gain_weight\""
   ]
  },
  {
   "cell_type": "code",
   "execution_count": 241,
   "metadata": {},
   "outputs": [],
   "source": [
    "def define_user_goal_according_BMI(bmi: str):\n",
    "    if bmi == BMI_constants.underweight:\n",
    "        # goal gain muscle \n",
    "        return f\"{NutritionGoals.gain_weight}\"\n",
    "    elif bmi == BMI_constants.healthy:\n",
    "        # Maintain fit and increase activity if required \n",
    "        return f\"{NutritionGoals.maintain_fit}\"\n",
    "    else:\n",
    "        # nutritional goal loss weight \n",
    "        return f\"{NutritionGoals.lose_weight}\""
   ]
  },
  {
   "cell_type": "code",
   "execution_count": 247,
   "metadata": {},
   "outputs": [],
   "source": [
    "df_user_goals[\"nutrition_goal\"]=df_user_entity[\"BMI\"].apply(lambda x: define_user_goal_according_BMI(x))"
   ]
  },
  {
   "cell_type": "code",
   "execution_count": 248,
   "metadata": {},
   "outputs": [
    {
     "data": {
      "text/html": [
       "<div>\n",
       "<style scoped>\n",
       "    .dataframe tbody tr th:only-of-type {\n",
       "        vertical-align: middle;\n",
       "    }\n",
       "\n",
       "    .dataframe tbody tr th {\n",
       "        vertical-align: top;\n",
       "    }\n",
       "\n",
       "    .dataframe thead th {\n",
       "        text-align: right;\n",
       "    }\n",
       "</style>\n",
       "<table border=\"1\" class=\"dataframe\">\n",
       "  <thead>\n",
       "    <tr style=\"text-align: right;\">\n",
       "      <th></th>\n",
       "      <th>userId</th>\n",
       "      <th>nutrition_goal</th>\n",
       "    </tr>\n",
       "  </thead>\n",
       "  <tbody>\n",
       "    <tr>\n",
       "      <th>0</th>\n",
       "      <td>cynthiaa85a</td>\n",
       "      <td>maintain_fit</td>\n",
       "    </tr>\n",
       "    <tr>\n",
       "      <th>1</th>\n",
       "      <td>gloria81ec</td>\n",
       "      <td>lose_weight</td>\n",
       "    </tr>\n",
       "    <tr>\n",
       "      <th>2</th>\n",
       "      <td>karena0a0</td>\n",
       "      <td>gain_weight</td>\n",
       "    </tr>\n",
       "    <tr>\n",
       "      <th>3</th>\n",
       "      <td>autumnbd78</td>\n",
       "      <td>maintain_fit</td>\n",
       "    </tr>\n",
       "    <tr>\n",
       "      <th>4</th>\n",
       "      <td>robert9174</td>\n",
       "      <td>maintain_fit</td>\n",
       "    </tr>\n",
       "    <tr>\n",
       "      <th>5</th>\n",
       "      <td>anna9399</td>\n",
       "      <td>gain_weight</td>\n",
       "    </tr>\n",
       "  </tbody>\n",
       "</table>\n",
       "</div>"
      ],
      "text/plain": [
       "        userId nutrition_goal\n",
       "0  cynthiaa85a   maintain_fit\n",
       "1   gloria81ec    lose_weight\n",
       "2    karena0a0    gain_weight\n",
       "3   autumnbd78   maintain_fit\n",
       "4   robert9174   maintain_fit\n",
       "5     anna9399    gain_weight"
      ]
     },
     "execution_count": 248,
     "metadata": {},
     "output_type": "execute_result"
    }
   ],
   "source": [
    "df_user_goals.head(6)"
   ]
  },
  {
   "cell_type": "markdown",
   "metadata": {},
   "source": [
    "# 4. Generate cultural factors "
   ]
  },
  {
   "cell_type": "code",
   "execution_count": 250,
   "metadata": {},
   "outputs": [],
   "source": [
    "df_cultural_factors = pd.DataFrame(data=[], columns=[\"userId\", \"cultural_factor\"])"
   ]
  },
  {
   "cell_type": "code",
   "execution_count": 260,
   "metadata": {},
   "outputs": [],
   "source": [
    "df_cultural_factors[\"userId\"] = df_personal_data[\"userId\"]"
   ]
  },
  {
   "cell_type": "code",
   "execution_count": 255,
   "metadata": {},
   "outputs": [],
   "source": [
    "food_restrictions = [\"vegan_observant\", \"vegetarian_observant\", \"halal_observant\", \"kosher_observant\", \"None\"]\n",
    "food_restriction_probs = [0.2, 0.3, 0.05, 0.05, 0.4]"
   ]
  },
  {
   "cell_type": "code",
   "execution_count": 256,
   "metadata": {},
   "outputs": [],
   "source": [
    "food_restrictions_user = np.random.choice(food_restrictions, size=500, replace=True, p=food_restriction_probs)"
   ]
  },
  {
   "cell_type": "code",
   "execution_count": 258,
   "metadata": {},
   "outputs": [],
   "source": [
    "df_cultural_factors[\"cultural_factor\"] = food_restrictions_user"
   ]
  },
  {
   "cell_type": "code",
   "execution_count": 261,
   "metadata": {},
   "outputs": [
    {
     "data": {
      "text/html": [
       "<div>\n",
       "<style scoped>\n",
       "    .dataframe tbody tr th:only-of-type {\n",
       "        vertical-align: middle;\n",
       "    }\n",
       "\n",
       "    .dataframe tbody tr th {\n",
       "        vertical-align: top;\n",
       "    }\n",
       "\n",
       "    .dataframe thead th {\n",
       "        text-align: right;\n",
       "    }\n",
       "</style>\n",
       "<table border=\"1\" class=\"dataframe\">\n",
       "  <thead>\n",
       "    <tr style=\"text-align: right;\">\n",
       "      <th></th>\n",
       "      <th>userId</th>\n",
       "      <th>cultural_factor</th>\n",
       "    </tr>\n",
       "  </thead>\n",
       "  <tbody>\n",
       "    <tr>\n",
       "      <th>0</th>\n",
       "      <td>cynthiaa85a</td>\n",
       "      <td>vegan_observant</td>\n",
       "    </tr>\n",
       "    <tr>\n",
       "      <th>1</th>\n",
       "      <td>gloria81ec</td>\n",
       "      <td>None</td>\n",
       "    </tr>\n",
       "    <tr>\n",
       "      <th>2</th>\n",
       "      <td>karena0a0</td>\n",
       "      <td>None</td>\n",
       "    </tr>\n",
       "    <tr>\n",
       "      <th>3</th>\n",
       "      <td>autumnbd78</td>\n",
       "      <td>vegetarian_observant</td>\n",
       "    </tr>\n",
       "    <tr>\n",
       "      <th>4</th>\n",
       "      <td>robert9174</td>\n",
       "      <td>None</td>\n",
       "    </tr>\n",
       "    <tr>\n",
       "      <th>5</th>\n",
       "      <td>anna9399</td>\n",
       "      <td>None</td>\n",
       "    </tr>\n",
       "  </tbody>\n",
       "</table>\n",
       "</div>"
      ],
      "text/plain": [
       "        userId       cultural_factor\n",
       "0  cynthiaa85a       vegan_observant\n",
       "1   gloria81ec                  None\n",
       "2    karena0a0                  None\n",
       "3   autumnbd78  vegetarian_observant\n",
       "4   robert9174                  None\n",
       "5     anna9399                  None"
      ]
     },
     "execution_count": 261,
     "metadata": {},
     "output_type": "execute_result"
    }
   ],
   "source": [
    "df_cultural_factors.head(6)"
   ]
  },
  {
   "cell_type": "code",
   "execution_count": 263,
   "metadata": {},
   "outputs": [],
   "source": [
    "df_cultural_factors.to_csv(\"cultural_factors.csv\", index=False)"
   ]
  },
  {
   "cell_type": "markdown",
   "metadata": {},
   "source": [
    "# 5. Generate preferences"
   ]
  },
  {
   "cell_type": "code",
   "execution_count": 264,
   "metadata": {},
   "outputs": [],
   "source": [
    "df_preferences = pd.DataFrame(data=[], columns=[\"userId\", \"breakfast_time\", \"lunch_time\", \"dinner_time\"])"
   ]
  },
  {
   "cell_type": "code",
   "execution_count": 266,
   "metadata": {},
   "outputs": [],
   "source": [
    "df_preferences[\"userId\"] = df_personal_data[\"userId\"]"
   ]
  },
  {
   "cell_type": "code",
   "execution_count": 268,
   "metadata": {},
   "outputs": [],
   "source": [
    "breakfast_time = np.random.normal(7, 1, size=500)\n",
    "lunch_time = np.random.normal(13, 1, size=500)\n",
    "dinner_time = np.random.normal(20, 1, size=500)"
   ]
  },
  {
   "cell_type": "code",
   "execution_count": 271,
   "metadata": {},
   "outputs": [],
   "source": [
    "df_preferences[\"breakfast_time\"] = np.round(breakfast_time, 2)\n",
    "df_preferences[\"lunch_time\"] = np.round(lunch_time, 2)\n",
    "df_preferences[\"dinner_time\"] = np.round(dinner_time, 2)"
   ]
  },
  {
   "cell_type": "code",
   "execution_count": 272,
   "metadata": {},
   "outputs": [
    {
     "data": {
      "text/html": [
       "<div>\n",
       "<style scoped>\n",
       "    .dataframe tbody tr th:only-of-type {\n",
       "        vertical-align: middle;\n",
       "    }\n",
       "\n",
       "    .dataframe tbody tr th {\n",
       "        vertical-align: top;\n",
       "    }\n",
       "\n",
       "    .dataframe thead th {\n",
       "        text-align: right;\n",
       "    }\n",
       "</style>\n",
       "<table border=\"1\" class=\"dataframe\">\n",
       "  <thead>\n",
       "    <tr style=\"text-align: right;\">\n",
       "      <th></th>\n",
       "      <th>userId</th>\n",
       "      <th>breakfast_time</th>\n",
       "      <th>lunch_time</th>\n",
       "      <th>dinner_time</th>\n",
       "    </tr>\n",
       "  </thead>\n",
       "  <tbody>\n",
       "    <tr>\n",
       "      <th>0</th>\n",
       "      <td>cynthiaa85a</td>\n",
       "      <td>7.15</td>\n",
       "      <td>11.98</td>\n",
       "      <td>22.33</td>\n",
       "    </tr>\n",
       "    <tr>\n",
       "      <th>1</th>\n",
       "      <td>gloria81ec</td>\n",
       "      <td>6.96</td>\n",
       "      <td>13.32</td>\n",
       "      <td>20.13</td>\n",
       "    </tr>\n",
       "    <tr>\n",
       "      <th>2</th>\n",
       "      <td>karena0a0</td>\n",
       "      <td>6.14</td>\n",
       "      <td>13.31</td>\n",
       "      <td>19.69</td>\n",
       "    </tr>\n",
       "    <tr>\n",
       "      <th>3</th>\n",
       "      <td>autumnbd78</td>\n",
       "      <td>4.91</td>\n",
       "      <td>13.90</td>\n",
       "      <td>18.16</td>\n",
       "    </tr>\n",
       "    <tr>\n",
       "      <th>4</th>\n",
       "      <td>robert9174</td>\n",
       "      <td>6.80</td>\n",
       "      <td>13.72</td>\n",
       "      <td>20.36</td>\n",
       "    </tr>\n",
       "    <tr>\n",
       "      <th>5</th>\n",
       "      <td>anna9399</td>\n",
       "      <td>6.33</td>\n",
       "      <td>13.36</td>\n",
       "      <td>21.48</td>\n",
       "    </tr>\n",
       "  </tbody>\n",
       "</table>\n",
       "</div>"
      ],
      "text/plain": [
       "        userId  breakfast_time  lunch_time  dinner_time\n",
       "0  cynthiaa85a            7.15       11.98        22.33\n",
       "1   gloria81ec            6.96       13.32        20.13\n",
       "2    karena0a0            6.14       13.31        19.69\n",
       "3   autumnbd78            4.91       13.90        18.16\n",
       "4   robert9174            6.80       13.72        20.36\n",
       "5     anna9399            6.33       13.36        21.48"
      ]
     },
     "execution_count": 272,
     "metadata": {},
     "output_type": "execute_result"
    }
   ],
   "source": [
    "df_preferences.head(6)"
   ]
  },
  {
   "cell_type": "code",
   "execution_count": 273,
   "metadata": {},
   "outputs": [],
   "source": [
    "df_preferences.to_csv(\"preferences.csv\", index=False)"
   ]
  },
  {
   "cell_type": "markdown",
   "metadata": {},
   "source": [
    "# 6. Generate Therapy (Diet)\n",
    "\n",
    "Based on Harris-Benedict equations:\n",
    "* For men: \n",
    "  $BMR = 13.397W + 4.799H - 5.677A + 88.362$\n",
    "* For women: \n",
    "  $BMR = 9.247W + 3.098H - 4.330A + 447.593$"
   ]
  },
  {
   "cell_type": "code",
   "execution_count": 275,
   "metadata": {},
   "outputs": [],
   "source": [
    "def calculate_basal_metabolic_rate(weight: float, height: float, age: int, clinical_gender: str):\n",
    "    BMR = 0\n",
    "    if Gender.male == clinical_gender:\n",
    "        BMR = 88.362 + (13.397 * weight) + (4.799 * height) - (5.677 * age)\n",
    "    else:\n",
    "        BMR = 447.593 + (9.247 * weight) + (3.098 * height) - (4.330 * age)\n",
    "    return BMR"
   ]
  },
  {
   "cell_type": "code",
   "execution_count": 277,
   "metadata": {},
   "outputs": [],
   "source": [
    "class ActivityLevel(str, Enum): \n",
    "    sedentary = \"Sedentary\"\n",
    "    light_active = \"Lightly active\"\n",
    "    moderate_active = \"Moderately active\"\n",
    "    very_active = \"Very active\""
   ]
  },
  {
   "cell_type": "code",
   "execution_count": 279,
   "metadata": {},
   "outputs": [],
   "source": [
    "def calculate_daily_calorie_needs(BMR: float, activity_level: str):\n",
    "    calories_daily = 0\n",
    "    if activity_level == ActivityLevel.sedentary:\n",
    "        calories_daily = 1.2 * BMR\n",
    "    elif activity_level == ActivityLevel.light_active:\n",
    "        calories_daily = 1.375 * BMR\n",
    "    elif activity_level == ActivityLevel.moderate_active:\n",
    "        calories_daily = 1.725 * BMR\n",
    "    else:\n",
    "        calories_daily = 1.9 * BMR\n",
    "    return calories_daily"
   ]
  },
  {
   "cell_type": "code",
   "execution_count": 286,
   "metadata": {},
   "outputs": [],
   "source": [
    "def define_daily_calorie_needs(nutrition_goal: str, daily_calorie_need: float):\n",
    "    projected_calories_need = 0 \n",
    "    if nutrition_goal == NutritionGoals.gain_weight:\n",
    "        projected_calories_need = daily_calorie_need + 500\n",
    "    elif nutrition_goal == NutritionGoals.maintain_fit:\n",
    "        projected_calories_need = daily_calorie_need\n",
    "    else:\n",
    "        projected_calories_need = daily_calorie_need - 500\n",
    "    return projected_calories_need"
   ]
  },
  {
   "cell_type": "code",
   "execution_count": 319,
   "metadata": {},
   "outputs": [],
   "source": [
    "def generate_diet_plan(weight: float, \n",
    "                       height: float, \n",
    "                       age_range: str, \n",
    "                       clinical_gender: str, \n",
    "                       activity_level: str, \n",
    "                       nutrition_goal: str): \n",
    "    # transform age \n",
    "    age_list = age_range.split(\"-\")\n",
    "    age = np.ceil((int(age_list[-1]) - int(age_list[0]))/2 + int(age_list[0]))\n",
    "    bmr = calculate_basal_metabolic_rate(weight, height, age, clinical_gender)\n",
    "    calorie_needs = calculate_daily_calorie_needs(bmr, activity_level)\n",
    "    projected_calorie_needs = define_daily_calorie_needs(nutrition_goal, calorie_needs)\n",
    "    return projected_calorie_needs\n",
    "    "
   ]
  },
  {
   "cell_type": "code",
   "execution_count": 281,
   "metadata": {},
   "outputs": [],
   "source": [
    "# generate treatment for the users \n",
    "df_treatment = pd.DataFrame(data=[], columns=[\"userId\", \"projected_daily_calories\"])\n"
   ]
  },
  {
   "cell_type": "code",
   "execution_count": 296,
   "metadata": {},
   "outputs": [],
   "source": [
    "# prepare data\n",
    "df_user_data = df_user_goals.merge(df_personal_data[[\"userId\", \"clinical_gender\", \"age_range\"]],\n",
    "                                  on=\"userId\")\n"
   ]
  },
  {
   "cell_type": "code",
   "execution_count": 298,
   "metadata": {},
   "outputs": [],
   "source": [
    "df_user_data = df_user_data.merge(df_user_entity[[\"userId\",\"life_style\", \"weight\", \"height\"]], \n",
    "                                  on=\"userId\")"
   ]
  },
  {
   "cell_type": "code",
   "execution_count": 325,
   "metadata": {},
   "outputs": [],
   "source": [
    "df_treatment[\"projected_daily_calories\"] = np.ceil(df_user_data.apply(lambda row: generate_diet_plan(weight=row[\"weight\"], \n",
    "                                                  height=row[\"height\"], \n",
    "                                                  age_range=row[\"age_range\"],\n",
    "                                                  clinical_gender=row[\"clinical_gender\"],\n",
    "                                                  activity_level=row[\"life_style\"],\n",
    "                                                  nutrition_goal=row[\"nutrition_goal\"]\n",
    "                                                  ), axis=1))"
   ]
  },
  {
   "cell_type": "code",
   "execution_count": 326,
   "metadata": {},
   "outputs": [
    {
     "data": {
      "text/html": [
       "<div>\n",
       "<style scoped>\n",
       "    .dataframe tbody tr th:only-of-type {\n",
       "        vertical-align: middle;\n",
       "    }\n",
       "\n",
       "    .dataframe tbody tr th {\n",
       "        vertical-align: top;\n",
       "    }\n",
       "\n",
       "    .dataframe thead th {\n",
       "        text-align: right;\n",
       "    }\n",
       "</style>\n",
       "<table border=\"1\" class=\"dataframe\">\n",
       "  <thead>\n",
       "    <tr style=\"text-align: right;\">\n",
       "      <th></th>\n",
       "      <th>userId</th>\n",
       "      <th>projected_daily_calories</th>\n",
       "    </tr>\n",
       "  </thead>\n",
       "  <tbody>\n",
       "    <tr>\n",
       "      <th>0</th>\n",
       "      <td>cynthiaa85a</td>\n",
       "      <td>2293.0</td>\n",
       "    </tr>\n",
       "    <tr>\n",
       "      <th>1</th>\n",
       "      <td>gloria81ec</td>\n",
       "      <td>1452.0</td>\n",
       "    </tr>\n",
       "    <tr>\n",
       "      <th>2</th>\n",
       "      <td>karena0a0</td>\n",
       "      <td>2025.0</td>\n",
       "    </tr>\n",
       "    <tr>\n",
       "      <th>3</th>\n",
       "      <td>autumnbd78</td>\n",
       "      <td>2219.0</td>\n",
       "    </tr>\n",
       "  </tbody>\n",
       "</table>\n",
       "</div>"
      ],
      "text/plain": [
       "        userId  projected_daily_calories\n",
       "0  cynthiaa85a                    2293.0\n",
       "1   gloria81ec                    1452.0\n",
       "2    karena0a0                    2025.0\n",
       "3   autumnbd78                    2219.0"
      ]
     },
     "execution_count": 326,
     "metadata": {},
     "output_type": "execute_result"
    }
   ],
   "source": [
    "df_treatment.head(4)"
   ]
  },
  {
   "cell_type": "code",
   "execution_count": 327,
   "metadata": {},
   "outputs": [],
   "source": [
    "df_treatment.to_csv(\"projected_calories.csv\", index=False)"
   ]
  },
  {
   "cell_type": "code",
   "execution_count": 330,
   "metadata": {},
   "outputs": [
    {
     "data": {
      "text/plain": [
       "716.0"
      ]
     },
     "execution_count": 330,
     "metadata": {},
     "output_type": "execute_result"
    }
   ],
   "source": [
    "df_treatment[\"projected_daily_calories\"].min(axis=0)"
   ]
  },
  {
   "cell_type": "code",
   "execution_count": 331,
   "metadata": {},
   "outputs": [
    {
     "data": {
      "text/html": [
       "<div>\n",
       "<style scoped>\n",
       "    .dataframe tbody tr th:only-of-type {\n",
       "        vertical-align: middle;\n",
       "    }\n",
       "\n",
       "    .dataframe tbody tr th {\n",
       "        vertical-align: top;\n",
       "    }\n",
       "\n",
       "    .dataframe thead th {\n",
       "        text-align: right;\n",
       "    }\n",
       "</style>\n",
       "<table border=\"1\" class=\"dataframe\">\n",
       "  <thead>\n",
       "    <tr style=\"text-align: right;\">\n",
       "      <th></th>\n",
       "      <th>userId</th>\n",
       "      <th>cultural_factor</th>\n",
       "    </tr>\n",
       "  </thead>\n",
       "  <tbody>\n",
       "    <tr>\n",
       "      <th>0</th>\n",
       "      <td>cynthiaa85a</td>\n",
       "      <td>vegan_observant</td>\n",
       "    </tr>\n",
       "    <tr>\n",
       "      <th>1</th>\n",
       "      <td>gloria81ec</td>\n",
       "      <td>None</td>\n",
       "    </tr>\n",
       "    <tr>\n",
       "      <th>2</th>\n",
       "      <td>karena0a0</td>\n",
       "      <td>None</td>\n",
       "    </tr>\n",
       "    <tr>\n",
       "      <th>3</th>\n",
       "      <td>autumnbd78</td>\n",
       "      <td>vegetarian_observant</td>\n",
       "    </tr>\n",
       "    <tr>\n",
       "      <th>4</th>\n",
       "      <td>robert9174</td>\n",
       "      <td>None</td>\n",
       "    </tr>\n",
       "    <tr>\n",
       "      <th>...</th>\n",
       "      <td>...</td>\n",
       "      <td>...</td>\n",
       "    </tr>\n",
       "    <tr>\n",
       "      <th>495</th>\n",
       "      <td>justina50a</td>\n",
       "      <td>None</td>\n",
       "    </tr>\n",
       "    <tr>\n",
       "      <th>496</th>\n",
       "      <td>tyler8373</td>\n",
       "      <td>vegan_observant</td>\n",
       "    </tr>\n",
       "    <tr>\n",
       "      <th>497</th>\n",
       "      <td>markb904</td>\n",
       "      <td>vegetarian_observant</td>\n",
       "    </tr>\n",
       "    <tr>\n",
       "      <th>498</th>\n",
       "      <td>richard8319</td>\n",
       "      <td>vegan_observant</td>\n",
       "    </tr>\n",
       "    <tr>\n",
       "      <th>499</th>\n",
       "      <td>dawnbb3f</td>\n",
       "      <td>vegetarian_observant</td>\n",
       "    </tr>\n",
       "  </tbody>\n",
       "</table>\n",
       "<p>500 rows × 2 columns</p>\n",
       "</div>"
      ],
      "text/plain": [
       "          userId       cultural_factor\n",
       "0    cynthiaa85a       vegan_observant\n",
       "1     gloria81ec                  None\n",
       "2      karena0a0                  None\n",
       "3     autumnbd78  vegetarian_observant\n",
       "4     robert9174                  None\n",
       "..           ...                   ...\n",
       "495   justina50a                  None\n",
       "496    tyler8373       vegan_observant\n",
       "497     markb904  vegetarian_observant\n",
       "498  richard8319       vegan_observant\n",
       "499     dawnbb3f  vegetarian_observant\n",
       "\n",
       "[500 rows x 2 columns]"
      ]
     },
     "execution_count": 331,
     "metadata": {},
     "output_type": "execute_result"
    }
   ],
   "source": [
    "df_cultural_factors"
   ]
  },
  {
   "cell_type": "markdown",
   "metadata": {},
   "source": [
    "# 7. Data Analysis"
   ]
  },
  {
   "cell_type": "code",
   "execution_count": 333,
   "metadata": {},
   "outputs": [
    {
     "data": {
      "text/html": [
       "<div>\n",
       "<style scoped>\n",
       "    .dataframe tbody tr th:only-of-type {\n",
       "        vertical-align: middle;\n",
       "    }\n",
       "\n",
       "    .dataframe tbody tr th {\n",
       "        vertical-align: top;\n",
       "    }\n",
       "\n",
       "    .dataframe thead th {\n",
       "        text-align: right;\n",
       "    }\n",
       "</style>\n",
       "<table border=\"1\" class=\"dataframe\">\n",
       "  <thead>\n",
       "    <tr style=\"text-align: right;\">\n",
       "      <th></th>\n",
       "      <th>userId</th>\n",
       "      <th>username</th>\n",
       "      <th>password</th>\n",
       "      <th>email</th>\n",
       "      <th>name</th>\n",
       "      <th>surname</th>\n",
       "      <th>clinical_gender</th>\n",
       "      <th>current_location</th>\n",
       "      <th>age_range</th>\n",
       "      <th>living_country</th>\n",
       "      <th>country_of_origin</th>\n",
       "    </tr>\n",
       "  </thead>\n",
       "  <tbody>\n",
       "    <tr>\n",
       "      <th>0</th>\n",
       "      <td>cynthiaa85a</td>\n",
       "      <td>cynthiabf65</td>\n",
       "      <td>uR2aKTPc</td>\n",
       "      <td>cynthia.franklin@fake.com</td>\n",
       "      <td>Cynthia</td>\n",
       "      <td>Franklin</td>\n",
       "      <td>F</td>\n",
       "      <td>ka_GE</td>\n",
       "      <td>30-39</td>\n",
       "      <td>Guadeloupe</td>\n",
       "      <td>Canada</td>\n",
       "    </tr>\n",
       "    <tr>\n",
       "      <th>1</th>\n",
       "      <td>gloria81ec</td>\n",
       "      <td>gloriaa8e7</td>\n",
       "      <td>Hmp2Hxmf</td>\n",
       "      <td>gloria.flores@fake.com</td>\n",
       "      <td>Gloria</td>\n",
       "      <td>Flores</td>\n",
       "      <td>F</td>\n",
       "      <td>el_GR</td>\n",
       "      <td>20-29</td>\n",
       "      <td>Guinea</td>\n",
       "      <td>Guadeloupe</td>\n",
       "    </tr>\n",
       "    <tr>\n",
       "      <th>2</th>\n",
       "      <td>karena0a0</td>\n",
       "      <td>karen9701</td>\n",
       "      <td>Mbkg9gMM</td>\n",
       "      <td>karen.mason@fake.com</td>\n",
       "      <td>Karen</td>\n",
       "      <td>Mason</td>\n",
       "      <td>F</td>\n",
       "      <td>lo_LA</td>\n",
       "      <td>90-100</td>\n",
       "      <td>Peru</td>\n",
       "      <td>Germany</td>\n",
       "    </tr>\n",
       "  </tbody>\n",
       "</table>\n",
       "</div>"
      ],
      "text/plain": [
       "        userId     username  password                      email     name  \\\n",
       "0  cynthiaa85a  cynthiabf65  uR2aKTPc  cynthia.franklin@fake.com  Cynthia   \n",
       "1   gloria81ec   gloriaa8e7  Hmp2Hxmf     gloria.flores@fake.com   Gloria   \n",
       "2    karena0a0    karen9701  Mbkg9gMM       karen.mason@fake.com    Karen   \n",
       "\n",
       "    surname clinical_gender current_location age_range living_country  \\\n",
       "0  Franklin               F            ka_GE     30-39     Guadeloupe   \n",
       "1    Flores               F            el_GR     20-29         Guinea   \n",
       "2     Mason               F            lo_LA    90-100           Peru   \n",
       "\n",
       "  country_of_origin  \n",
       "0            Canada  \n",
       "1        Guadeloupe  \n",
       "2           Germany  "
      ]
     },
     "execution_count": 333,
     "metadata": {},
     "output_type": "execute_result"
    }
   ],
   "source": [
    "df_personal_data.head(3)"
   ]
  },
  {
   "cell_type": "code",
   "execution_count": 345,
   "metadata": {},
   "outputs": [
    {
     "data": {
      "text/html": [
       "<div>\n",
       "<style scoped>\n",
       "    .dataframe tbody tr th:only-of-type {\n",
       "        vertical-align: middle;\n",
       "    }\n",
       "\n",
       "    .dataframe tbody tr th {\n",
       "        vertical-align: top;\n",
       "    }\n",
       "\n",
       "    .dataframe thead th {\n",
       "        text-align: right;\n",
       "    }\n",
       "</style>\n",
       "<table border=\"1\" class=\"dataframe\">\n",
       "  <thead>\n",
       "    <tr style=\"text-align: right;\">\n",
       "      <th></th>\n",
       "      <th>userId</th>\n",
       "      <th>current_working_status</th>\n",
       "      <th>marital_status</th>\n",
       "      <th>life_style</th>\n",
       "      <th>weight</th>\n",
       "      <th>ethnicity</th>\n",
       "      <th>height</th>\n",
       "      <th>BMI</th>\n",
       "    </tr>\n",
       "  </thead>\n",
       "  <tbody>\n",
       "    <tr>\n",
       "      <th>0</th>\n",
       "      <td>cynthiaa85a</td>\n",
       "      <td>Half-time-worker</td>\n",
       "      <td>Married</td>\n",
       "      <td>Very active</td>\n",
       "      <td>47.88</td>\n",
       "      <td>Asian</td>\n",
       "      <td>151</td>\n",
       "      <td>healthy</td>\n",
       "    </tr>\n",
       "    <tr>\n",
       "      <th>1</th>\n",
       "      <td>gloria81ec</td>\n",
       "      <td>Half-time-worker</td>\n",
       "      <td>Married</td>\n",
       "      <td>Lightly active</td>\n",
       "      <td>65.55</td>\n",
       "      <td>White</td>\n",
       "      <td>153</td>\n",
       "      <td>overweight</td>\n",
       "    </tr>\n",
       "    <tr>\n",
       "      <th>2</th>\n",
       "      <td>karena0a0</td>\n",
       "      <td>Unemployed</td>\n",
       "      <td>Single</td>\n",
       "      <td>Moderately active</td>\n",
       "      <td>41.04</td>\n",
       "      <td>Latino</td>\n",
       "      <td>151</td>\n",
       "      <td>underweight</td>\n",
       "    </tr>\n",
       "    <tr>\n",
       "      <th>3</th>\n",
       "      <td>autumnbd78</td>\n",
       "      <td>Full-time-worker</td>\n",
       "      <td>Married</td>\n",
       "      <td>Moderately active</td>\n",
       "      <td>50.45</td>\n",
       "      <td>Latino</td>\n",
       "      <td>155</td>\n",
       "      <td>healthy</td>\n",
       "    </tr>\n",
       "  </tbody>\n",
       "</table>\n",
       "</div>"
      ],
      "text/plain": [
       "        userId current_working_status marital_status         life_style  \\\n",
       "0  cynthiaa85a       Half-time-worker        Married        Very active   \n",
       "1   gloria81ec       Half-time-worker        Married     Lightly active   \n",
       "2    karena0a0             Unemployed         Single  Moderately active   \n",
       "3   autumnbd78       Full-time-worker        Married  Moderately active   \n",
       "\n",
       "   weight ethnicity  height          BMI  \n",
       "0   47.88     Asian     151      healthy  \n",
       "1   65.55     White     153   overweight  \n",
       "2   41.04    Latino     151  underweight  \n",
       "3   50.45    Latino     155      healthy  "
      ]
     },
     "execution_count": 345,
     "metadata": {},
     "output_type": "execute_result"
    }
   ],
   "source": [
    "df_user_entity.head(4)"
   ]
  },
  {
   "cell_type": "code",
   "execution_count": 372,
   "metadata": {},
   "outputs": [
    {
     "data": {
      "text/html": [
       "<div>\n",
       "<style scoped>\n",
       "    .dataframe tbody tr th:only-of-type {\n",
       "        vertical-align: middle;\n",
       "    }\n",
       "\n",
       "    .dataframe tbody tr th {\n",
       "        vertical-align: top;\n",
       "    }\n",
       "\n",
       "    .dataframe thead th {\n",
       "        text-align: right;\n",
       "    }\n",
       "</style>\n",
       "<table border=\"1\" class=\"dataframe\">\n",
       "  <thead>\n",
       "    <tr style=\"text-align: right;\">\n",
       "      <th></th>\n",
       "      <th>userId</th>\n",
       "      <th>allergy</th>\n",
       "    </tr>\n",
       "  </thead>\n",
       "  <tbody>\n",
       "    <tr>\n",
       "      <th>0</th>\n",
       "      <td>cynthiaa85a</td>\n",
       "      <td>fish</td>\n",
       "    </tr>\n",
       "    <tr>\n",
       "      <th>1</th>\n",
       "      <td>gloria81ec</td>\n",
       "      <td>None</td>\n",
       "    </tr>\n",
       "    <tr>\n",
       "      <th>2</th>\n",
       "      <td>karena0a0</td>\n",
       "      <td>None</td>\n",
       "    </tr>\n",
       "  </tbody>\n",
       "</table>\n",
       "</div>"
      ],
      "text/plain": [
       "        userId allergy\n",
       "0  cynthiaa85a    fish\n",
       "1   gloria81ec    None\n",
       "2    karena0a0    None"
      ]
     },
     "execution_count": 372,
     "metadata": {},
     "output_type": "execute_result"
    }
   ],
   "source": [
    "df_health_conditions.head(3)"
   ]
  },
  {
   "cell_type": "code",
   "execution_count": 388,
   "metadata": {},
   "outputs": [],
   "source": [
    "users = df_user_entity[df_user_entity[\"BMI\"] == \"underweight\"][\"userId\"]"
   ]
  },
  {
   "cell_type": "code",
   "execution_count": 395,
   "metadata": {},
   "outputs": [
    {
     "data": {
      "text/plain": [
       "['karena0a0',\n",
       " 'anna9399',\n",
       " 'nicole8cf0',\n",
       " 'carlosac7e',\n",
       " 'chad9c16',\n",
       " 'christineb68e',\n",
       " 'martha97ae',\n",
       " 'russell8ba0',\n",
       " 'taylorb6fb',\n",
       " 'stephanie9dc0',\n",
       " 'anita8e1b',\n",
       " 'robert9408',\n",
       " 'sheila8ee7',\n",
       " 'james905d',\n",
       " 'michael90e3',\n",
       " 'jacobbb69',\n",
       " 'dawnbcec',\n",
       " 'jamie9a39',\n",
       " 'andreab665',\n",
       " 'patricka19a',\n",
       " 'james9960',\n",
       " 'gary9a04',\n",
       " 'ambera045',\n",
       " 'robertaef3',\n",
       " 'katrina8bff',\n",
       " 'kevina02a',\n",
       " 'gracea6c3',\n",
       " 'paulb627',\n",
       " 'paulb293',\n",
       " 'jonathan9229',\n",
       " 'katherinea872',\n",
       " 'benjamina636',\n",
       " 'kevin84dc',\n",
       " 'robert8929',\n",
       " 'sheryla8dc',\n",
       " 'ashlee85fa',\n",
       " 'adrianab88e',\n",
       " 'joseph88ac',\n",
       " 'craiga9a6',\n",
       " 'samuel8715',\n",
       " 'amy8326',\n",
       " 'joannae38',\n",
       " 'markad86',\n",
       " 'donnab2bf',\n",
       " 'nicole871c']"
      ]
     },
     "execution_count": 395,
     "metadata": {},
     "output_type": "execute_result"
    }
   ],
   "source": [
    "list(users.values)"
   ]
  },
  {
   "cell_type": "code",
   "execution_count": 409,
   "metadata": {},
   "outputs": [],
   "source": [
    "vals = df_health_conditions[\"allergy\"].value_counts()"
   ]
  },
  {
   "cell_type": "code",
   "execution_count": 418,
   "metadata": {},
   "outputs": [
    {
     "data": {
      "text/plain": [
       "[('None', 195),\n",
       " ('peanut', 45),\n",
       " ('shellfish', 41),\n",
       " ('eggs', 41),\n",
       " ('tree nuts', 39),\n",
       " ('soy', 37),\n",
       " (\"cow's milk\", 37),\n",
       " ('fish', 35),\n",
       " ('wheat', 30)]"
      ]
     },
     "execution_count": 418,
     "metadata": {},
     "output_type": "execute_result"
    }
   ],
   "source": [
    "list(zip(list(vals.index), list(vals.values)))"
   ]
  },
  {
   "cell_type": "code",
   "execution_count": 411,
   "metadata": {},
   "outputs": [
    {
     "data": {
      "text/plain": [
       "Index(['None', 'peanut', 'shellfish', 'eggs', 'tree nuts', 'soy', 'cow's milk',\n",
       "       'fish', 'wheat'],\n",
       "      dtype='object', name='allergy')"
      ]
     },
     "execution_count": 411,
     "metadata": {},
     "output_type": "execute_result"
    }
   ],
   "source": [
    "vals.index"
   ]
  },
  {
   "cell_type": "code",
   "execution_count": 413,
   "metadata": {},
   "outputs": [
    {
     "data": {
      "text/plain": [
       "array([195,  45,  41,  41,  39,  37,  37,  35,  30])"
      ]
     },
     "execution_count": 413,
     "metadata": {},
     "output_type": "execute_result"
    }
   ],
   "source": [
    "vals.values"
   ]
  },
  {
   "cell_type": "code",
   "execution_count": 347,
   "metadata": {},
   "outputs": [],
   "source": [
    "weight_condition = df_user_entity[\"BMI\"].value_counts()"
   ]
  },
  {
   "cell_type": "code",
   "execution_count": 351,
   "metadata": {},
   "outputs": [
    {
     "data": {
      "text/plain": [
       "500"
      ]
     },
     "execution_count": 351,
     "metadata": {},
     "output_type": "execute_result"
    }
   ],
   "source": [
    "weight_condition.sum()"
   ]
  },
  {
   "cell_type": "code",
   "execution_count": 420,
   "metadata": {},
   "outputs": [],
   "source": [
    "a = \"{0}: {1}\""
   ]
  },
  {
   "cell_type": "code",
   "execution_count": 421,
   "metadata": {},
   "outputs": [
    {
     "data": {
      "text/plain": [
       "'a: b'"
      ]
     },
     "execution_count": 421,
     "metadata": {},
     "output_type": "execute_result"
    }
   ],
   "source": [
    "a.format(\"a\", \"b\")"
   ]
  },
  {
   "cell_type": "code",
   "execution_count": 423,
   "metadata": {},
   "outputs": [],
   "source": [
    "def format_dict_text(tuple_values: Tuple):\n",
    "    text_template = \"{0}: {1}\"\n",
    "    return text_template.format(tuple_values[0], tuple_values[1])"
   ]
  },
  {
   "cell_type": "code",
   "execution_count": 416,
   "metadata": {},
   "outputs": [],
   "source": [
    "def format_multiline(list_to_format: List[Any]): \n",
    "    format_string = \" \\t \".join(list_to_format)\n",
    "    return format_string"
   ]
  },
  {
   "cell_type": "code",
   "execution_count": 369,
   "metadata": {},
   "outputs": [],
   "source": [
    "def draw_summary_row(row_text, character = \"-\", up_multiplicity=0, down_multiplicity=0): \n",
    "    print(f\"{character*up_multiplicity}\")\n",
    "    print(f\"| {row_text} |\")\n",
    "    if down_multiplicity > 0:\n",
    "        print(f\"{character*down_multiplicity}\")"
   ]
  },
  {
   "cell_type": "code",
   "execution_count": 381,
   "metadata": {},
   "outputs": [
    {
     "name": "stdout",
     "output_type": "stream",
     "text": [
      "healthy\n",
      "overweight\n",
      "obesity\n",
      "underweight\n"
     ]
    }
   ],
   "source": [
    "weight_condition = df_user_entity[\"BMI\"].value_counts()\n",
    "for condition in weight_condition.index:\n",
    "    print(condition)"
   ]
  },
  {
   "cell_type": "code",
   "execution_count": 439,
   "metadata": {},
   "outputs": [],
   "source": [
    "def create_a_summary_table():\n",
    "    total_users = df_personal_data.shape[0]\n",
    "    weight_condition = df_user_entity[\"BMI\"].value_counts()\n",
    "    healthy_conditions = [\n",
    "        f\"Underweight users: {weight_condition.underweight} ({round(weight_condition.underweight/weight_condition.sum(), 1)*100} %)\",\n",
    "        f\"Fit users: {weight_condition.healthy} ({round(weight_condition.healthy/weight_condition.sum(), 1)*100} %)\",\n",
    "        f\"Overweight users: {weight_condition.overweight} ({round(weight_condition.overweight/weight_condition.sum(), 1)*100} %)\",\n",
    "        f\"Obese users: {weight_condition.healthy} ({round(weight_condition.healthy/weight_condition.sum(), 1)*100} %)\"\n",
    "    ]\n",
    "    allergies_per_weight_condition = []\n",
    "    temp_df = df_health_conditions.merge(df_user_entity, on=\"userId\")\n",
    "    # Allergies \n",
    "    for condition in weight_condition.index:\n",
    "        allergies = temp_df[temp_df[\"BMI\"] == condition][\"allergy\"].value_counts()\n",
    "        allergy_list = list(zip(list(allergies.index), list(allergies.values)))\n",
    "        allergy_text_list = [format_dict_text(t) for t in allergy_list]\n",
    "        allergies_per_weight_condition.append(allergy_text_list)\n",
    "    # Cultural factors \n",
    "    temp_df = df_user_entity.merge(df_cultural_factors, on=\"userId\")\n",
    "    cf_per_weight_condition = []\n",
    "    for condition in weight_condition.index:\n",
    "        cf = temp_df[temp_df[\"BMI\"] == condition][\"cultural_factor\"].value_counts()\n",
    "        condition_list = list(zip(list(cf.index), list(cf.values)))\n",
    "        cf_text_list = [format_dict_text(t) for t in condition_list]\n",
    "        cf_per_weight_condition.append(cf_text_list)\n",
    "    # generate table \n",
    "    table = PrettyTable()\n",
    "    table.header = False\n",
    "    table.field_names = [\"col1\", \"col2\", \"col3\", \"col4\"]\n",
    "    table.add_row([f\"Total users: {total_users}\", \"\", \"\", \"\"])\n",
    "    table.hrules = ALL\n",
    "    table.add_row([i for i in healthy_conditions])\n",
    "    table.add_row([\"\\n\".join(i) for i in allergies_per_weight_condition])\n",
    "    table.add_row([\"\\n\".join(i) for i in cf_per_weight_condition])\n",
    "    print(table)\n",
    "    "
   ]
  },
  {
   "cell_type": "code",
   "execution_count": 440,
   "metadata": {},
   "outputs": [
    {
     "name": "stdout",
     "output_type": "stream",
     "text": [
      "+--------------------------------+--------------------------+--------------------------------+---------------------------+\n",
      "|        Total users: 500        |                          |                                |                           |\n",
      "+--------------------------------+--------------------------+--------------------------------+---------------------------+\n",
      "| Underweight users: 45 (10.0 %) | Fit users: 153 (30.0 %)  | Overweight users: 152 (30.0 %) | Obese users: 153 (30.0 %) |\n",
      "+--------------------------------+--------------------------+--------------------------------+---------------------------+\n",
      "|            None: 63            |         None: 52         |            None: 61            |          None: 19         |\n",
      "|         tree nuts: 16          |         eggs: 20         |           peanut: 20           |        shellfish: 8       |\n",
      "|           peanut: 14           |         soy: 15          |           wheat: 13            |        tree nuts: 5       |\n",
      "|            soy: 13             |      shellfish: 15       |         cow's milk: 13         |          eggs: 4          |\n",
      "|            fish: 12            |      cow's milk: 14      |         shellfish: 11          |          wheat: 3         |\n",
      "|            eggs: 10            |         fish: 12         |          tree nuts: 9          |          fish: 2          |\n",
      "|            wheat: 9            |        peanut: 10        |            fish: 9             |           soy: 2          |\n",
      "|         cow's milk: 9          |       tree nuts: 9       |             soy: 7             |         peanut: 1         |\n",
      "|          shellfish: 7          |         wheat: 5         |            eggs: 7             |       cow's milk: 1       |\n",
      "+--------------------------------+--------------------------+--------------------------------+---------------------------+\n",
      "|            None: 62            |         None: 61         |            None: 57            |          None: 21         |\n",
      "|    vegetarian_observant: 44    | vegetarian_observant: 47 |    vegetarian_observant: 46    |  vegetarian_observant: 11 |\n",
      "|      vegan_observant: 35       |   vegan_observant: 25    |      vegan_observant: 31       |     vegan_observant: 8    |\n",
      "|      kosher_observant: 6       |   kosher_observant: 11   |      kosher_observant: 9       |     halal_observant: 3    |\n",
      "|       halal_observant: 6       |    halal_observant: 8    |       halal_observant: 7       |    kosher_observant: 2    |\n",
      "+--------------------------------+--------------------------+--------------------------------+---------------------------+\n"
     ]
    }
   ],
   "source": [
    "create_a_summary_table()"
   ]
  },
  {
   "cell_type": "markdown",
   "metadata": {},
   "source": [
    "# 8 Simulation "
   ]
  },
  {
   "cell_type": "code",
   "execution_count": 443,
   "metadata": {},
   "outputs": [],
   "source": [
    "from scipy.stats import bernoulli"
   ]
  },
  {
   "cell_type": "code",
   "execution_count": 441,
   "metadata": {},
   "outputs": [],
   "source": [
    "p = np.array([[0.65, 0.35, 0.0, 0.0], \n",
    "              [0.05, 0.80, 0.15, 0.0],\n",
    "              [0.0, 0.28, 0.67, 0.05],\n",
    "              [0.0, 0.0, 0.35, 0.65]\n",
    "              ])"
   ]
  },
  {
   "cell_type": "code",
   "execution_count": 449,
   "metadata": {},
   "outputs": [],
   "source": [
    "def simulate_final_result(probability_matrix: np.array, samples_size_list: List[int], state_list: List[str]):\n",
    "    # generate transitions \n",
    "    transitions =  {}\n",
    "    for i in range(probability_matrix.shape[0]):\n",
    "        initial_state = state_list[i]\n",
    "        sample_size = samples_size_list[i]\n",
    "        transitions[initial_state] = {}\n",
    "        for j in range(probability_matrix.shape[1]):\n",
    "            if sample_size > 0 and probability_matrix[i][j] > 0.0:\n",
    "                next_state = state_list[j]\n",
    "                transition_sample = bernoulli.rvs(probability_matrix[i][j], size=sample_size)\n",
    "                transitions[initial_state][next_state] = transition_sample\n",
    "                sample_size -= sum(transition_sample)\n",
    "    return transitions\n",
    "        \n",
    "    "
   ]
  },
  {
   "cell_type": "code",
   "execution_count": 453,
   "metadata": {},
   "outputs": [],
   "source": [
    "users_health = df_user_entity[\"BMI\"].value_counts()"
   ]
  },
  {
   "cell_type": "code",
   "execution_count": null,
   "metadata": {},
   "outputs": [],
   "source": []
  },
  {
   "cell_type": "code",
   "execution_count": 455,
   "metadata": {},
   "outputs": [
    {
     "data": {
      "text/plain": [
       "Index(['healthy', 'overweight', 'obesity', 'underweight'], dtype='object', name='BMI')"
      ]
     },
     "execution_count": 455,
     "metadata": {},
     "output_type": "execute_result"
    }
   ],
   "source": [
    "users_health.index"
   ]
  },
  {
   "cell_type": "code",
   "execution_count": 456,
   "metadata": {},
   "outputs": [
    {
     "data": {
      "text/plain": [
       "array([153, 152, 150,  45])"
      ]
     },
     "execution_count": 456,
     "metadata": {},
     "output_type": "execute_result"
    }
   ],
   "source": [
    "users_health.values"
   ]
  },
  {
   "cell_type": "code",
   "execution_count": 457,
   "metadata": {},
   "outputs": [],
   "source": [
    "transition_matrix = simulate_final_result(p, list(users_health.values), list(users_health.index))"
   ]
  },
  {
   "cell_type": "code",
   "execution_count": 458,
   "metadata": {},
   "outputs": [
    {
     "data": {
      "text/plain": [
       "{'healthy': {'healthy': array([1, 1, 1, 0, 1, 0, 0, 0, 1, 0, 0, 0, 0, 1, 1, 1, 1, 1, 1, 1, 1, 1,\n",
       "         1, 1, 1, 1, 1, 0, 1, 1, 0, 1, 1, 1, 1, 1, 1, 1, 1, 1, 1, 1, 1, 0,\n",
       "         0, 1, 1, 1, 1, 1, 1, 1, 0, 0, 1, 0, 1, 1, 0, 0, 0, 1, 1, 1, 0, 1,\n",
       "         0, 1, 1, 0, 1, 0, 1, 0, 1, 0, 1, 1, 1, 1, 0, 1, 0, 1, 0, 0, 1, 1,\n",
       "         1, 1, 0, 0, 1, 1, 1, 1, 1, 1, 1, 1, 0, 0, 1, 0, 1, 1, 1, 1, 1, 1,\n",
       "         1, 1, 1, 1, 1, 0, 1, 0, 1, 0, 1, 1, 1, 0, 1, 1, 0, 1, 0, 1, 1, 1,\n",
       "         1, 1, 1, 1, 1, 1, 1, 1, 1, 1, 0, 0, 1, 0, 0, 1, 1, 1, 1, 1, 1]),\n",
       "  'overweight': array([0, 1, 1, 0, 1, 1, 1, 1, 1, 0, 1, 0, 0, 0, 1, 0, 1, 0, 1, 1, 0, 0,\n",
       "         1, 0, 1, 0, 1, 0, 0, 0, 0, 0, 0, 1, 1, 1, 0, 0, 0, 1, 0, 0, 1])},\n",
       " 'overweight': {'healthy': array([1, 0, 0, 0, 0, 0, 0, 0, 0, 0, 0, 0, 0, 0, 0, 0, 0, 0, 0, 0, 0, 0,\n",
       "         0, 0, 0, 0, 1, 0, 0, 0, 0, 0, 0, 0, 0, 0, 0, 0, 1, 0, 0, 0, 1, 0,\n",
       "         0, 0, 0, 0, 0, 0, 0, 0, 0, 0, 0, 0, 0, 0, 0, 0, 0, 1, 0, 0, 0, 0,\n",
       "         0, 0, 0, 0, 0, 0, 1, 1, 0, 0, 0, 0, 0, 0, 0, 0, 0, 0, 0, 0, 0, 0,\n",
       "         0, 0, 0, 0, 0, 0, 0, 0, 0, 0, 1, 0, 0, 0, 0, 0, 0, 0, 0, 0, 0, 0,\n",
       "         0, 0, 0, 0, 0, 0, 0, 0, 0, 0, 0, 0, 0, 0, 0, 0, 0, 0, 0, 0, 0, 0,\n",
       "         0, 0, 0, 0, 0, 0, 0, 0, 0, 0, 0, 0, 0, 0, 0, 0, 0, 0, 0, 0]),\n",
       "  'overweight': array([1, 0, 1, 1, 1, 0, 1, 1, 0, 0, 0, 1, 0, 1, 1, 0, 1, 1, 1, 1, 0, 1,\n",
       "         1, 0, 1, 1, 1, 1, 0, 1, 0, 0, 1, 0, 1, 1, 1, 1, 1, 1, 1, 1, 1, 1,\n",
       "         1, 1, 0, 0, 1, 1, 1, 0, 1, 1, 1, 1, 0, 1, 1, 1, 0, 1, 0, 0, 0, 1,\n",
       "         1, 1, 1, 0, 1, 1, 1, 1, 1, 1, 1, 0, 1, 1, 1, 1, 1, 0, 0, 0, 1, 1,\n",
       "         1, 1, 1, 1, 1, 1, 1, 1, 0, 1, 0, 1, 1, 1, 1, 1, 1, 1, 1, 1, 1, 1,\n",
       "         0, 0, 1, 1, 1, 1, 0, 1, 1, 0, 1, 0, 0, 1, 1, 1, 1, 1, 0, 0, 1, 1,\n",
       "         1, 1, 1, 1, 1, 0, 0, 1, 1, 1, 1, 1]),\n",
       "  'obesity': array([1, 1, 0, 1, 0, 1, 1, 0, 1, 0, 0, 1, 0, 1, 1, 0, 1, 0, 1, 1, 1, 1,\n",
       "         1, 1, 0, 1, 1, 1, 1, 1, 0, 1, 1, 0, 0, 1, 0, 1])},\n",
       " 'obesity': {'overweight': array([0, 1, 0, 0, 0, 0, 0, 0, 0, 0, 1, 0, 0, 1, 0, 0, 1, 0, 0, 0, 1, 0,\n",
       "         1, 0, 0, 0, 0, 0, 0, 0, 0, 1, 0, 0, 1, 0, 0, 1, 1, 0, 0, 1, 1, 0,\n",
       "         1, 0, 0, 0, 0, 1, 0, 1, 0, 1, 1, 0, 0, 0, 0, 0, 0, 0, 0, 1, 0, 0,\n",
       "         0, 1, 0, 0, 1, 1, 0, 0, 0, 0, 0, 1, 0, 0, 0, 0, 0, 0, 0, 1, 0, 0,\n",
       "         0, 0, 0, 0, 1, 0, 0, 1, 0, 0, 0, 0, 1, 0, 1, 1, 1, 1, 0, 0, 1, 0,\n",
       "         0, 0, 1, 0, 0, 0, 1, 1, 0, 0, 0, 0, 0, 0, 0, 0, 0, 1, 0, 0, 0, 0,\n",
       "         1, 0, 0, 0, 0, 1, 0, 0, 0, 0, 1, 1, 1, 0, 0, 0, 0, 0]),\n",
       "  'obesity': array([1, 1, 1, 1, 1, 1, 0, 0, 0, 1, 1, 0, 1, 1, 1, 1, 1, 1, 1, 1, 1, 1,\n",
       "         1, 1, 1, 1, 1, 1, 1, 1, 1, 1, 0, 1, 1, 1, 0, 1, 1, 1, 1, 0, 1, 1,\n",
       "         1, 1, 0, 1, 1, 1, 0, 1, 1, 1, 0, 1, 0, 1, 1, 1, 0, 0, 1, 0, 1, 0,\n",
       "         1, 0, 0, 1, 0, 1, 0, 0, 0, 1, 0, 1, 1, 0, 1, 0, 1, 1, 1, 0, 1, 1,\n",
       "         1, 0, 1, 1, 0, 1, 1, 1, 0, 1, 1, 1, 1, 1, 1, 1, 1, 0, 1, 1, 1, 1]),\n",
       "  'underweight': array([0, 0, 0, 0, 0, 0, 0, 0, 0, 0, 0, 0, 0, 0, 1, 0, 0, 0, 0, 0, 0, 0,\n",
       "         0, 0, 1, 0, 0, 0, 0])},\n",
       " 'underweight': {'obesity': array([0, 1, 1, 0, 0, 0, 0, 1, 1, 0, 0, 0, 0, 0, 0, 1, 0, 1, 0, 0, 0, 1,\n",
       "         1, 0, 0, 0, 1, 0, 0, 0, 0, 0, 1, 1, 1, 1, 0, 1, 0, 1, 0, 0, 0, 0,\n",
       "         0]),\n",
       "  'underweight': array([1, 0, 0, 1, 1, 0, 0, 0, 1, 1, 1, 1, 0, 1, 1, 1, 1, 1, 1, 1, 0, 1,\n",
       "         1, 1, 1, 1, 1, 1, 1, 0])}}"
      ]
     },
     "execution_count": 458,
     "metadata": {},
     "output_type": "execute_result"
    }
   ],
   "source": [
    "transition_matrix"
   ]
  },
  {
   "cell_type": "code",
   "execution_count": 448,
   "metadata": {},
   "outputs": [
    {
     "data": {
      "text/plain": [
       "array([0, 0, 0, 0, 0, 0, 1, 0, 0, 1, 0, 1, 0, 0, 1, 0, 1, 0, 1, 1, 0, 1,\n",
       "       0, 0, 1, 1, 0, 1, 0, 1, 1, 0, 0, 1, 0, 1, 1, 0, 0, 0, 0, 0, 1, 0,\n",
       "       1, 0, 1, 1, 0, 0])"
      ]
     },
     "execution_count": 448,
     "metadata": {},
     "output_type": "execute_result"
    }
   ],
   "source": [
    "sampling"
   ]
  },
  {
   "cell_type": "code",
   "execution_count": 442,
   "metadata": {},
   "outputs": [
    {
     "data": {
      "text/plain": [
       "array([[0.65, 0.35, 0.  , 0.  ],\n",
       "       [0.05, 0.8 , 0.67, 0.  ],\n",
       "       [0.  , 0.28, 0.67, 0.05],\n",
       "       [0.  , 0.  , 0.35, 0.65]])"
      ]
     },
     "execution_count": 442,
     "metadata": {},
     "output_type": "execute_result"
    }
   ],
   "source": [
    "p"
   ]
  },
  {
   "cell_type": "code",
   "execution_count": null,
   "metadata": {},
   "outputs": [],
   "source": []
  },
  {
   "cell_type": "code",
   "execution_count": 402,
   "metadata": {},
   "outputs": [
    {
     "data": {
      "text/html": [
       "<div>\n",
       "<style scoped>\n",
       "    .dataframe tbody tr th:only-of-type {\n",
       "        vertical-align: middle;\n",
       "    }\n",
       "\n",
       "    .dataframe tbody tr th {\n",
       "        vertical-align: top;\n",
       "    }\n",
       "\n",
       "    .dataframe thead th {\n",
       "        text-align: right;\n",
       "    }\n",
       "</style>\n",
       "<table border=\"1\" class=\"dataframe\">\n",
       "  <thead>\n",
       "    <tr style=\"text-align: right;\">\n",
       "      <th></th>\n",
       "      <th>userId</th>\n",
       "      <th>cultural_factor</th>\n",
       "    </tr>\n",
       "  </thead>\n",
       "  <tbody>\n",
       "    <tr>\n",
       "      <th>0</th>\n",
       "      <td>cynthiaa85a</td>\n",
       "      <td>vegan_observant</td>\n",
       "    </tr>\n",
       "    <tr>\n",
       "      <th>1</th>\n",
       "      <td>gloria81ec</td>\n",
       "      <td>None</td>\n",
       "    </tr>\n",
       "    <tr>\n",
       "      <th>2</th>\n",
       "      <td>karena0a0</td>\n",
       "      <td>None</td>\n",
       "    </tr>\n",
       "    <tr>\n",
       "      <th>3</th>\n",
       "      <td>autumnbd78</td>\n",
       "      <td>vegetarian_observant</td>\n",
       "    </tr>\n",
       "    <tr>\n",
       "      <th>4</th>\n",
       "      <td>robert9174</td>\n",
       "      <td>None</td>\n",
       "    </tr>\n",
       "    <tr>\n",
       "      <th>...</th>\n",
       "      <td>...</td>\n",
       "      <td>...</td>\n",
       "    </tr>\n",
       "    <tr>\n",
       "      <th>495</th>\n",
       "      <td>justina50a</td>\n",
       "      <td>None</td>\n",
       "    </tr>\n",
       "    <tr>\n",
       "      <th>496</th>\n",
       "      <td>tyler8373</td>\n",
       "      <td>vegan_observant</td>\n",
       "    </tr>\n",
       "    <tr>\n",
       "      <th>497</th>\n",
       "      <td>markb904</td>\n",
       "      <td>vegetarian_observant</td>\n",
       "    </tr>\n",
       "    <tr>\n",
       "      <th>498</th>\n",
       "      <td>richard8319</td>\n",
       "      <td>vegan_observant</td>\n",
       "    </tr>\n",
       "    <tr>\n",
       "      <th>499</th>\n",
       "      <td>dawnbb3f</td>\n",
       "      <td>vegetarian_observant</td>\n",
       "    </tr>\n",
       "  </tbody>\n",
       "</table>\n",
       "<p>500 rows × 2 columns</p>\n",
       "</div>"
      ],
      "text/plain": [
       "          userId       cultural_factor\n",
       "0    cynthiaa85a       vegan_observant\n",
       "1     gloria81ec                  None\n",
       "2      karena0a0                  None\n",
       "3     autumnbd78  vegetarian_observant\n",
       "4     robert9174                  None\n",
       "..           ...                   ...\n",
       "495   justina50a                  None\n",
       "496    tyler8373       vegan_observant\n",
       "497     markb904  vegetarian_observant\n",
       "498  richard8319       vegan_observant\n",
       "499     dawnbb3f  vegetarian_observant\n",
       "\n",
       "[500 rows x 2 columns]"
      ]
     },
     "execution_count": 402,
     "metadata": {},
     "output_type": "execute_result"
    }
   ],
   "source": [
    "df_cultural_factors"
   ]
  },
  {
   "cell_type": "code",
   "execution_count": 401,
   "metadata": {},
   "outputs": [
    {
     "name": "stdout",
     "output_type": "stream",
     "text": [
      "--------------------\n",
      "| Total users: 500 |\n",
      "allergy\n",
      "None          63\n",
      "tree nuts     16\n",
      "peanut        14\n",
      "soy           13\n",
      "fish          12\n",
      "eggs          10\n",
      "wheat          9\n",
      "cow's milk     9\n",
      "shellfish      7\n",
      "Name: count, dtype: int64\n",
      "allergy\n",
      "None          52\n",
      "eggs          20\n",
      "soy           15\n",
      "shellfish     15\n",
      "cow's milk    14\n",
      "fish          12\n",
      "peanut        10\n",
      "tree nuts      9\n",
      "wheat          5\n",
      "Name: count, dtype: int64\n",
      "allergy\n",
      "None          61\n",
      "peanut        20\n",
      "wheat         13\n",
      "cow's milk    13\n",
      "shellfish     11\n",
      "tree nuts      9\n",
      "fish           9\n",
      "soy            7\n",
      "eggs           7\n",
      "Name: count, dtype: int64\n",
      "allergy\n",
      "None          19\n",
      "shellfish      8\n",
      "tree nuts      5\n",
      "eggs           4\n",
      "wheat          3\n",
      "fish           2\n",
      "soy            2\n",
      "peanut         1\n",
      "cow's milk     1\n",
      "Name: count, dtype: int64\n",
      "-------------------------------------------------------------------------------------------------------------------------\n",
      "| Underweight users: 45 (10.0 %) | Fit users: 153 (30.0 %) | Overweight users: 152 (30.0 %) | Obese users: 153 (30.0 %) |\n",
      "-------------------------------------------------------------------------------------------------------------------------\n"
     ]
    }
   ],
   "source": [
    "create_a_summary_table()"
   ]
  }
 ],
 "metadata": {
  "interpreter": {
   "hash": "66bbf4fa6c6f4d9b7980e4a2f72372316a7dd0cd9956aefbd48db4c89728009f"
  },
  "kernelspec": {
   "display_name": "Python 3.9.16 ('data_gen')",
   "language": "python",
   "name": "python3"
  },
  "language_info": {
   "codemirror_mode": {
    "name": "ipython",
    "version": 3
   },
   "file_extension": ".py",
   "mimetype": "text/x-python",
   "name": "python",
   "nbconvert_exporter": "python",
   "pygments_lexer": "ipython3",
   "version": "3.9.16"
  },
  "orig_nbformat": 4
 },
 "nbformat": 4,
 "nbformat_minor": 2
}
