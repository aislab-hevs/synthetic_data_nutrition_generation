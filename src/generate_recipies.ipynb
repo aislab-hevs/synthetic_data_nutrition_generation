{
 "cells": [
  {
   "cell_type": "markdown",
   "metadata": {},
   "source": [
    "# Generate recipes from chat GPT"
   ]
  },
  {
   "cell_type": "code",
   "execution_count": 39,
   "metadata": {},
   "outputs": [],
   "source": [
    "import pandas as pd\n",
    "import numpy as np \n",
    "from dotenv import load_dotenv\n",
    "import os\n",
    "import openai\n",
    "import json "
   ]
  },
  {
   "cell_type": "code",
   "execution_count": 4,
   "metadata": {},
   "outputs": [
    {
     "data": {
      "text/plain": [
       "True"
      ]
     },
     "execution_count": 4,
     "metadata": {},
     "output_type": "execute_result"
    }
   ],
   "source": [
    "load_dotenv()"
   ]
  },
  {
   "cell_type": "code",
   "execution_count": 7,
   "metadata": {},
   "outputs": [],
   "source": [
    "api_key = os.getenv(\"API_KEY\")"
   ]
  },
  {
   "cell_type": "code",
   "execution_count": 10,
   "metadata": {},
   "outputs": [],
   "source": [
    "openai.api_key = api_key"
   ]
  },
  {
   "cell_type": "code",
   "execution_count": 66,
   "metadata": {},
   "outputs": [],
   "source": [
    "models = openai.Model.list()"
   ]
  },
  {
   "cell_type": "code",
   "execution_count": 68,
   "metadata": {},
   "outputs": [],
   "source": [
    "user_text = \"\"\"\n",
    "                Please give me {number}, {temporal} nutrition plan. \n",
    "                For each nutrition plan give me {n_meals} meals in this order:\n",
    "                {breakfast}, {snack}, {lunch}, {snack}, {dinner} that in total sum up \n",
    "                maximum {maximum_calories}kcals per {daily_calorie_restriction}. \n",
    "                {cultural_restrictions}\n",
    "            \"\"\""
   ]
  },
  {
   "cell_type": "code",
   "execution_count": 69,
   "metadata": {},
   "outputs": [],
   "source": [
    "dict_parameters = {\"number\": \"7\",\n",
    "                   \"temporal\": \"daily\",\n",
    "                   \"n_meals\": \"5\",\n",
    "                   \"breakfast\": \"breakfast\",\n",
    "                   \"snack\": \"snacks\",\n",
    "                   \"lunch\": \"lunch\",\n",
    "                   \"dinner\": \"dinner\",\n",
    "                   \"maximum_calories\": 1000,\n",
    "                   \"daily_calorie_restriction\": \"day\",\n",
    "                   \"cultural_restrictions\": \"\"\n",
    "                   }"
   ]
  },
  {
   "cell_type": "code",
   "execution_count": 67,
   "metadata": {},
   "outputs": [],
   "source": [
    "def generate_nutrition_plans(user_text: str, samples_to_generated: int = 10, model: str = \"gpt-3.5-turbo\"):\n",
    "    response = openai.ChatCompletion.create(\n",
    "        model=\"gpt-3.5-turbo\",\n",
    "        n = samples_to_generated,\n",
    "        messages =[\n",
    "            {\"role\": \"system\", \"content\": \"Generating recipes\"},\n",
    "            {\"role\": \"user\", \"content\": user_text}\n",
    "            ]\n",
    "        )\n",
    "    return response\n"
   ]
  },
  {
   "cell_type": "code",
   "execution_count": 90,
   "metadata": {},
   "outputs": [],
   "source": [
    "def generate_meals():\n",
    "    food_restrictions = [\"vegan\", \"vegetarian\", \"halal\", \"kosher\", \"None\"]\n",
    "    user_text = \"\"\"Please give me {number} different food recipes for {type_food} between \n",
    "    {low_calories}kcals and {high_calories}kcals per portion. For each recipe, \n",
    "    give me the total amount of calories per portion, total portions, allergic warnings, \n",
    "    and origin country if available.\n",
    "    {cultural_restrictions}\n",
    "    \"\"\"\n",
    "    dict_parameters = {\"number\": 50,\n",
    "                       \"type_food\": \"breakfast\",\n",
    "                       \"low_calories\": 20,\n",
    "                       \"high_calories\": 1000,\n",
    "                       \"cultural_restrictions\": \"\"\n",
    "                       }\n",
    "    type_food_max_calories = {#\"breakfast\":900,\n",
    "                              \"morning snacks\": 300,\n",
    "                              \"afternoon snacks\": 300,\n",
    "                              \"lunch\": 1200,\n",
    "                              \"dinner\": 600}\n",
    "    for type_food, max_calories in type_food_max_calories.items():\n",
    "        for cultural_restriction in food_restrictions:\n",
    "            print(f\"Generating recipes for {type_food} with max calories: {max_calories} with cultural restrictions: {cultural_restriction}\")\n",
    "            if cultural_restriction != \"None\":\n",
    "                dict_parameters[\"cultural_restrictions\"] = f\" The recipes should be {cultural_restriction}.\"\n",
    "                dict_parameters[\"number\"] = 100\n",
    "            else:\n",
    "                dict_parameters[\"cultural_restrictions\"] = \"\"\n",
    "                dict_parameters[\"number\"] = 200\n",
    "            dict_parameters[\"type_food\"] = type_food\n",
    "            dict_parameters[\"max_calories\"] = max_calories\n",
    "            user_text_formate = user_text.format(**dict_parameters)\n",
    "            print(f\"Text to sent to chat: {user_text_formate}\")\n",
    "            response = generate_nutrition_plans(user_text_formate, \n",
    "                                                samples_to_generated = 10, \n",
    "                                                model = \"gpt-3.5-turbo\")\n",
    "            with open(f\"{type_food}_{cultural_restriction}.json\", \"w\", encoding='utf-8') as fp:\n",
    "                json.dump(response, fp, ensure_ascii=False, indent=4)\n",
    "            print(\"Finished!!!\")\n",
    "            print(\".\"*300)\n",
    "    print(\"success!!!\")"
   ]
  },
  {
   "cell_type": "code",
   "execution_count": 91,
   "metadata": {},
   "outputs": [
    {
     "name": "stdout",
     "output_type": "stream",
     "text": [
      "Generating recipes for morning snacks with max calories: 300 with cultural restrictions: vegan\n",
      "Text to sent to chat: Please give me 100 different food recipes for morning snacks between \n",
      "    20kcals and 1000kcals per portion. For each recipe, \n",
      "    give me the total amount of calories per portion, total portions, allergic warnings, \n",
      "    and origin country if available.\n",
      "     The recipes should be vegan.\n",
      "    \n",
      "Finished!!!\n",
      "............................................................................................................................................................................................................................................................................................................\n",
      "Generating recipes for morning snacks with max calories: 300 with cultural restrictions: vegetarian\n",
      "Text to sent to chat: Please give me 100 different food recipes for morning snacks between \n",
      "    20kcals and 1000kcals per portion. For each recipe, \n",
      "    give me the total amount of calories per portion, total portions, allergic warnings, \n",
      "    and origin country if available.\n",
      "     The recipes should be vegetarian.\n",
      "    \n",
      "Finished!!!\n",
      "............................................................................................................................................................................................................................................................................................................\n",
      "Generating recipes for morning snacks with max calories: 300 with cultural restrictions: halal\n",
      "Text to sent to chat: Please give me 100 different food recipes for morning snacks between \n",
      "    20kcals and 1000kcals per portion. For each recipe, \n",
      "    give me the total amount of calories per portion, total portions, allergic warnings, \n",
      "    and origin country if available.\n",
      "     The recipes should be halal.\n",
      "    \n",
      "Finished!!!\n",
      "............................................................................................................................................................................................................................................................................................................\n",
      "Generating recipes for morning snacks with max calories: 300 with cultural restrictions: kosher\n",
      "Text to sent to chat: Please give me 100 different food recipes for morning snacks between \n",
      "    20kcals and 1000kcals per portion. For each recipe, \n",
      "    give me the total amount of calories per portion, total portions, allergic warnings, \n",
      "    and origin country if available.\n",
      "     The recipes should be kosher.\n",
      "    \n",
      "Finished!!!\n",
      "............................................................................................................................................................................................................................................................................................................\n",
      "Generating recipes for morning snacks with max calories: 300 with cultural restrictions: None\n",
      "Text to sent to chat: Please give me 200 different food recipes for morning snacks between \n",
      "    20kcals and 1000kcals per portion. For each recipe, \n",
      "    give me the total amount of calories per portion, total portions, allergic warnings, \n",
      "    and origin country if available.\n",
      "    \n",
      "    \n",
      "Finished!!!\n",
      "............................................................................................................................................................................................................................................................................................................\n",
      "Generating recipes for afternoon snacks with max calories: 300 with cultural restrictions: vegan\n",
      "Text to sent to chat: Please give me 100 different food recipes for afternoon snacks between \n",
      "    20kcals and 1000kcals per portion. For each recipe, \n",
      "    give me the total amount of calories per portion, total portions, allergic warnings, \n",
      "    and origin country if available.\n",
      "     The recipes should be vegan.\n",
      "    \n",
      "Finished!!!\n",
      "............................................................................................................................................................................................................................................................................................................\n",
      "Generating recipes for afternoon snacks with max calories: 300 with cultural restrictions: vegetarian\n",
      "Text to sent to chat: Please give me 100 different food recipes for afternoon snacks between \n",
      "    20kcals and 1000kcals per portion. For each recipe, \n",
      "    give me the total amount of calories per portion, total portions, allergic warnings, \n",
      "    and origin country if available.\n",
      "     The recipes should be vegetarian.\n",
      "    \n",
      "Finished!!!\n",
      "............................................................................................................................................................................................................................................................................................................\n",
      "Generating recipes for afternoon snacks with max calories: 300 with cultural restrictions: halal\n",
      "Text to sent to chat: Please give me 100 different food recipes for afternoon snacks between \n",
      "    20kcals and 1000kcals per portion. For each recipe, \n",
      "    give me the total amount of calories per portion, total portions, allergic warnings, \n",
      "    and origin country if available.\n",
      "     The recipes should be halal.\n",
      "    \n",
      "Finished!!!\n",
      "............................................................................................................................................................................................................................................................................................................\n",
      "Generating recipes for afternoon snacks with max calories: 300 with cultural restrictions: kosher\n",
      "Text to sent to chat: Please give me 100 different food recipes for afternoon snacks between \n",
      "    20kcals and 1000kcals per portion. For each recipe, \n",
      "    give me the total amount of calories per portion, total portions, allergic warnings, \n",
      "    and origin country if available.\n",
      "     The recipes should be kosher.\n",
      "    \n",
      "Finished!!!\n",
      "............................................................................................................................................................................................................................................................................................................\n",
      "Generating recipes for afternoon snacks with max calories: 300 with cultural restrictions: None\n",
      "Text to sent to chat: Please give me 200 different food recipes for afternoon snacks between \n",
      "    20kcals and 1000kcals per portion. For each recipe, \n",
      "    give me the total amount of calories per portion, total portions, allergic warnings, \n",
      "    and origin country if available.\n",
      "    \n",
      "    \n",
      "Finished!!!\n",
      "............................................................................................................................................................................................................................................................................................................\n",
      "Generating recipes for lunch with max calories: 1200 with cultural restrictions: vegan\n",
      "Text to sent to chat: Please give me 100 different food recipes for lunch between \n",
      "    20kcals and 1000kcals per portion. For each recipe, \n",
      "    give me the total amount of calories per portion, total portions, allergic warnings, \n",
      "    and origin country if available.\n",
      "     The recipes should be vegan.\n",
      "    \n",
      "Finished!!!\n",
      "............................................................................................................................................................................................................................................................................................................\n",
      "Generating recipes for lunch with max calories: 1200 with cultural restrictions: vegetarian\n",
      "Text to sent to chat: Please give me 100 different food recipes for lunch between \n",
      "    20kcals and 1000kcals per portion. For each recipe, \n",
      "    give me the total amount of calories per portion, total portions, allergic warnings, \n",
      "    and origin country if available.\n",
      "     The recipes should be vegetarian.\n",
      "    \n",
      "Finished!!!\n",
      "............................................................................................................................................................................................................................................................................................................\n",
      "Generating recipes for lunch with max calories: 1200 with cultural restrictions: halal\n",
      "Text to sent to chat: Please give me 100 different food recipes for lunch between \n",
      "    20kcals and 1000kcals per portion. For each recipe, \n",
      "    give me the total amount of calories per portion, total portions, allergic warnings, \n",
      "    and origin country if available.\n",
      "     The recipes should be halal.\n",
      "    \n"
     ]
    }
   ],
   "source": [
    "generate_meals()"
   ]
  },
  {
   "cell_type": "code",
   "execution_count": null,
   "metadata": {},
   "outputs": [],
   "source": []
  },
  {
   "cell_type": "code",
   "execution_count": null,
   "metadata": {},
   "outputs": [],
   "source": [
    "    for calories in range(2000, 3500, 500):\n",
    "        for restriction in food_restrictions:\n",
    "            dict_parameters[\"maximum_calories\"] = calories\n",
    "            print(f\"Generating recipes with restriction: {restriction} per calories: {calories}\")\n",
    "            if restriction != \"None\":\n",
    "                dict_parameters[\"cultural_restrictions\"] = f\"recipes must be {restriction}.\"\n",
    "                print(f\"Generated restriction\")\n",
    "            else:\n",
    "                dict_parameters[\"cultural_restrictions\"] = \"\""
   ]
  },
  {
   "cell_type": "code",
   "execution_count": null,
   "metadata": {},
   "outputs": [],
   "source": [
    "user_text.format(**dict_parameters)"
   ]
  },
  {
   "cell_type": "code",
   "execution_count": null,
   "metadata": {},
   "outputs": [],
   "source": [
    "    with open(f\"with_{restriction}_{calories}.json\", 'w', encoding='utf-8') as f:\n",
    "        json.dump(response, f, ensure_ascii=False, indent=4)"
   ]
  },
  {
   "cell_type": "code",
   "execution_count": 63,
   "metadata": {},
   "outputs": [
    {
     "name": "stdout",
     "output_type": "stream",
     "text": [
      "Generating recipes with restriction: vegan per calories: 2000\n",
      "Generated restriction\n",
      "Generating recipes with restriction: vegetarian per calories: 2000\n",
      "Generated restriction\n",
      "Generating recipes with restriction: halal per calories: 2000\n",
      "Generated restriction\n",
      "Generating recipes with restriction: kosher per calories: 2000\n",
      "Generated restriction\n",
      "Generating recipes with restriction: None per calories: 2000\n",
      "Generating recipes with restriction: vegan per calories: 2500\n",
      "Generated restriction\n",
      "Generating recipes with restriction: vegetarian per calories: 2500\n",
      "Generated restriction\n",
      "Generating recipes with restriction: halal per calories: 2500\n",
      "Generated restriction\n",
      "Generating recipes with restriction: kosher per calories: 2500\n",
      "Generated restriction\n",
      "Generating recipes with restriction: None per calories: 2500\n",
      "Generating recipes with restriction: vegan per calories: 3000\n",
      "Generated restriction\n",
      "Generating recipes with restriction: vegetarian per calories: 3000\n",
      "Generated restriction\n",
      "Generating recipes with restriction: halal per calories: 3000\n",
      "Generated restriction\n",
      "Generating recipes with restriction: kosher per calories: 3000\n",
      "Generated restriction\n",
      "Generating recipes with restriction: None per calories: 3000\n"
     ]
    }
   ],
   "source": [
    "generate_nutrition_plans()"
   ]
  },
  {
   "cell_type": "code",
   "execution_count": 36,
   "metadata": {},
   "outputs": [],
   "source": [
    "food_restrictions = [\"vegan_observant\", \"vegetarian_observant\", \"halal_observant\", \"kosher_observant\", \"None\"]\n",
    "food_restriction_probs = [0.2, 0.3, 0.05, 0.05, 0.4]"
   ]
  },
  {
   "cell_type": "code",
   "execution_count": 51,
   "metadata": {},
   "outputs": [],
   "source": [
    "user_text = \"\"\"\n",
    "Please give me {number}, {temporal} nutrition plan. \n",
    "For each nutrition plan give me {n_meals} meals in this order:\n",
    "{breakfast}, {snack}, {lunch}, {snack}, {dinner} that in total sum up \n",
    "maximum {maximum_calories}kcals per {daily_calorie_restriction}. \n",
    "{cultural_restrictions}\n",
    "\"\"\""
   ]
  },
  {
   "cell_type": "code",
   "execution_count": 54,
   "metadata": {},
   "outputs": [],
   "source": [
    "dict_parameters = {\"number\": \"7\",\n",
    "                   \"temporal\": \"daily\",\n",
    "                   \"n_meals\": \"5\",\n",
    "                   \"breakfast\": \"breakfast\",\n",
    "                   \"snack\": \"snack\",\n",
    "                   \"lunch\": \"lunch\",\n",
    "                   \"dinner\": \"dinner\",\n",
    "                   \"maximum_calories\": 1000,\n",
    "                   \"daily_calorie_restriction\": \"day\",\n",
    "                   \"cultural_restrictions\": \"\"\n",
    "                   }"
   ]
  },
  {
   "cell_type": "code",
   "execution_count": 55,
   "metadata": {},
   "outputs": [
    {
     "data": {
      "text/plain": [
       "'\\nPlease give me 7, daily nutrition plan. \\nFor each nutrition plan give me 5 meals in this order:\\nbreakfast, snack, lunch, snack, dinner that in total sum up \\nmaximum 1000kcals per day .\\n'"
      ]
     },
     "execution_count": 55,
     "metadata": {},
     "output_type": "execute_result"
    }
   ],
   "source": [
    "user_text.format(**dict_parameters)"
   ]
  },
  {
   "cell_type": "code",
   "execution_count": 40,
   "metadata": {},
   "outputs": [],
   "source": [
    "response = openai.ChatCompletion.create(\n",
    "    model=\"gpt-3.5-turbo\",\n",
    "    n = 10,\n",
    "    messages =[\n",
    "        {\"role\": \"system\", \"content\": \"Generating recipes\"},\n",
    "        {\"role\": \"user\", \"content\": user_text.format(dict_parameters)}\n",
    "    ]\n",
    ")"
   ]
  },
  {
   "cell_type": "code",
   "execution_count": 41,
   "metadata": {},
   "outputs": [],
   "source": [
    "# save response \n",
    "with open(\"without_restrictions.json\", 'w', encoding='utf-8') as f:\n",
    "    json.dump(response, f, ensure_ascii=False, indent=4)"
   ]
  },
  {
   "cell_type": "code",
   "execution_count": null,
   "metadata": {},
   "outputs": [],
   "source": []
  },
  {
   "cell_type": "code",
   "execution_count": null,
   "metadata": {},
   "outputs": [],
   "source": []
  },
  {
   "cell_type": "code",
   "execution_count": null,
   "metadata": {},
   "outputs": [],
   "source": []
  },
  {
   "cell_type": "code",
   "execution_count": 34,
   "metadata": {},
   "outputs": [
    {
     "data": {
      "text/plain": [
       "<OpenAIObject chat.completion id=chatcmpl-7gwpYYexdutRj82VWQDqQ69B44HBJ at 0x7facbc7fe310> JSON: {\n",
       "  \"id\": \"chatcmpl-7gwpYYexdutRj82VWQDqQ69B44HBJ\",\n",
       "  \"object\": \"chat.completion\",\n",
       "  \"created\": 1690470276,\n",
       "  \"model\": \"gpt-3.5-turbo-0613\",\n",
       "  \"choices\": [\n",
       "    {\n",
       "      \"index\": 0,\n",
       "      \"message\": {\n",
       "        \"role\": \"assistant\",\n",
       "        \"content\": \"Sure! Here's a 10-day nutrition plan with five meals per day, each totaling maximum 1000 calories:\\n\\nDay 1:\\nBreakfast: Veggie Omelette (300 calories)\\n- 2 eggs (140 calories)\\n- \\u00bc cup diced bell peppers (10 calories)\\n- \\u00bc cup diced onions (10 calories)\\n- \\u00bc cup spinach (3 calories)\\n- 1 slice of whole wheat toast (70 calories)\\nSnack: Apple slices with almond butter (150 calories)\\n- 1 medium apple (95 calories)\\n- 1 tablespoon almond butter (55 calories)\\nLunch: Greek Salad (300 calories)\\n- 2 cups mixed greens (20 calories)\\n- \\u00bd cup cherry tomatoes (13 calories)\\n- \\u00bc cup sliced cucumbers (4 calories)\\n- \\u00bc cup crumbled feta cheese (100 calories)\\n- 2 tablespoons Greek dressing (100 calories)\\nSnack: Greek yogurt with berries (100 calories)\\n- \\u00bd cup plain Greek yogurt (75 calories)\\n- \\u00bc cup mixed berries (25 calories)\\nDinner: Grilled Chicken with Quinoa and Roasted Veggies (250 calories)\\n- 4 oz grilled chicken breast (120 calories)\\n- \\u00bd cup cooked quinoa (110 calories)\\n- 1 cup roasted mixed vegetables (20 calories)\\n\\nDay 2:\\nBreakfast: Overnight Chia Pudding (300 calories)\\n- 2 tablespoons chia seeds (120 calories)\\n- 1 cup unsweetened almond milk (30 calories)\\n- \\u00bd cup sliced strawberries (25 calories)\\n- 1 tablespoon honey (45 calories)\\nSnack: Celery sticks with hummus (150 calories)\\n- 2 celery stalks (10 calories)\\n- 2 tablespoons hummus (140 calories)\\nLunch: Turkey Wrap (300 calories)\\n- 2 slices of deli turkey (60 calories)\\n- 1 whole wheat wrap (100 calories)\\n- \\u00bc avocado (60 calories)\\n- 1 tablespoon mayo (50 calories)\\n- \\u00bd cup lettuce (20 calories)\\nSnack: Hard-boiled egg (70 calories)\\n- 1 large egg (70 calories)\\nDinner: Baked Salmon with Sweet Potatoes and Broccoli (250 calories)\\n- 4 oz baked salmon fillet (200 calories)\\n- \\u00bd medium sweet potato (80 calories)\\n- 1 cup steamed broccoli (40 calories)\\n\\nDay 3:\\nBreakfast: Protein Pancakes with Berries (300 calories)\\n- 2 protein pancakes (200 calories)\\n- \\u00bc cup mixed berries (25 calories)\\n- 2 tablespoons maple syrup (75 calories)\\nSnack: Carrot sticks with hummus (100 calories)\\n- 4 medium carrots (60 calories)\\n- 2 tablespoons hummus (40 calories)\\nLunch: Quinoa Salad with Chicken and Veggies (300 calories)\\n- \\u00bd cup cooked quinoa (110 calories)\\n- 2 oz cooked chicken breast (120 calories)\\n- \\u00bc cup diced bell peppers (10 calories)\\n- \\u00bc cup diced cucumbers (4 calories)\\n- 2 tablespoons balsamic vinaigrette (56 calories)\\nSnack: Cottage cheese with pineapple (100 calories)\\n- \\u00bd cup low-fat cottage cheese (80 calories)\\n- \\u00bc cup diced pineapple (20 calories)\\nDinner: Stir-Fried Tofu with Brown Rice and Mixed Vegetables (250 calories)\\n- 3 oz firm tofu (150 calories)\\n- \\u00bd cup cooked brown rice (110 calories)\\n- 1 cup stir-fried mixed vegetables (50 calories)\\n\\nDay 4:\\nBreakfast: Green Smoothie (300 calories)\\n- 1 cup spinach (7 calories)\\n- 1 cup unsweetened almond milk (30 calories)\\n- \\u00bd banana (53 calories)\\n- \\u00bc cup frozen mango chunks (40 calories)\\n- 1 tablespoon almond butter (90 calories)\\nSnack: Rice cakes with peanut butter (150 calories)\\n- 2 rice cakes (70 calories)\\n- 2 tablespoons peanut butter (80 calories)\\nLunch: Salad with Grilled Chicken (300 calories)\\n- 2 cups mixed greens (20 calories)\\n- 2 oz grilled chicken breast (120 calories)\\n- \\u00bc cup cherry tomatoes (7 calories)\\n- \\u00bc cup sliced cucumbers (4 calories)\\n- 2 tablespoons balsamic vinaigrette (56 calories)\\nSnack: Sliced bell peppers with hummus (100 calories)\\n- 1 medium bell pepper (30 calories)\\n- 2 tablespoons hummus (70 calories)\\nDinner: Shrimp Stir-Fry with Zoodles (250 calories)\\n- 4 oz shrimp (90 calories)\\n- 1 medium zucchini, spiralized (30 calories)\\n- 1 cup stir-fried mixed vegetables (50 calories)\\n- 1 tablespoon low-sodium soy sauce (50 calories)\\n- 1 teaspoon sesame oil (30 calories)\\n\\nDay 5:\\nBreakfast: Avocado Toast with Egg (300 calories)\\n- 1 slice of whole wheat toast (70 calories)\\n- \\u00bc avocado (60 calories)\\n- 1 poached egg (70 calories)\\n- \\u00bd cup sliced tomatoes (10 calories)\\nSnack: Greek yogurt with granola (150 calories)\\n- \\u00bd cup plain Greek yogurt (75 calories)\\n- \\u00bc cup granola (75 calories)\\nLunch: Caprese Salad Wrap (300 calories)\\n- 1 whole wheat wrap (100 calories)\\n- 2 slices of mozzarella cheese (180 calories)\\n- \\u00bd cup sliced tomatoes (10 calories)\\n- Basil leaves (5 calories)\\nSnack: Almonds (100 calories)\\n- 15 almonds (100 calories)\\nDinner: Chicken Stir-Fry with Cauliflower Rice (250 calories)\\n- 3 oz cooked chicken breast (180 calories)\\n- 1 cup cauliflower rice (25 calories)\\n- 1 cup stir-fried mixed vegetables (45 calories)\\n\\nPlease note that the calorie counts provided are approximate and can vary based on portion sizes and specific ingredients used. It's always a good idea to double-check nutrition labels or use a reliable calorie tracking app for accuracy.\"\n",
       "      },\n",
       "      \"finish_reason\": \"stop\"\n",
       "    },\n",
       "    {\n",
       "      \"index\": 1,\n",
       "      \"message\": {\n",
       "        \"role\": \"assistant\",\n",
       "        \"content\": \"Here's a 10-day nutrition plan with 5 meals per day, ensuring each day's total calorie intake is below 1000 calories:\\n\\nDay 1:\\n\\nBreakfast:\\n- Spinach and mushroom omelette (200 calories)\\n- 1 small apple (50 calories)\\n\\nSnack:\\n- 1 cup cucumber slices with 2 tbsp hummus (100 calories)\\n\\nLunch:\\n- Grilled chicken salad with mixed greens, cherry tomatoes, and balsamic vinaigrette (300 calories)\\n\\nSnack:\\n- 1 small plain Greek yogurt (80 calories)\\n\\nDinner:\\n- Baked salmon with lemon and dill (250 calories)\\n- Steamed broccoli (50 calories)\\n\\nDay 2:\\n\\nBreakfast:\\n- 1 small whole-grain toast with 1 tbsp peanut butter (150 calories)\\n- 1 medium banana (100 calories)\\n\\nSnack:\\n- 1 boiled egg (80 calories)\\n\\nLunch:\\n- Turkey lettuce wraps with sliced cucumber and bell peppers (300 calories)\\n\\nSnack:\\n- 10 baby carrots with 2 tbsp hummus (80 calories)\\n\\nDinner:\\n- Grilled shrimp skewers with zucchini and bell peppers (250 calories)\\n- Steamed cauliflower (100 calories)\\n\\nDay 3:\\n\\nBreakfast:\\n- Overnight oats made with \\u00bd cup oats, \\u00bd cup almond milk, 1 tbsp chia seeds, and \\u00bd cup mixed berries (200 calories)\\n\\nSnack:\\n- 1 small orange (60 calories)\\n\\nLunch:\\n- Quinoa salad with diced tomatoes, cucumbers, and feta cheese (300 calories)\\n\\nSnack:\\n- 1 small plain Greek yogurt with \\u00bd cup sliced strawberries (80 calories)\\n\\nDinner:\\n- Baked chicken breast with roasted Brussels sprouts (250 calories)\\n- 1 small baked sweet potato (100 calories)\\n\\nDay 4:\\n\\nBreakfast:\\n- Avocado toast on 1 small whole-grain bread (200 calories)\\n\\nSnack:\\n- 1 cup sliced bell peppers with 2 tbsp hummus (100 calories)\\n\\nLunch:\\n- Greek salad with mixed greens, bell peppers, tomatoes, cucumbers, olives, and feta cheese (300 calories)\\n\\nSnack:\\n- \\u00bd cup cottage cheese with \\u00bd cup pineapple chunks (80 calories)\\n\\nDinner:\\n- Baked cod with lemon and garlic (250 calories)\\n- Saut\\u00e9ed spinach (50 calories)\\n\\nDay 5:\\n\\nBreakfast:\\n- Egg white scramble with spinach, mushrooms, and cherry tomatoes (150 calories)\\n\\nSnack:\\n- 1 small pear (50 calories)\\n\\nLunch:\\n- Grilled chicken breast with steamed green beans (300 calories)\\n\\nSnack:\\n- 1 small orange (60 calories)\\n\\nDinner:\\n- Zucchini noodles with marinara sauce and grilled shrimp (250 calories)\\n- 1 small whole-grain dinner roll (100 calories)\\n\\nDay 6-10: (Repeat the cycle of Days 1-5)\\n\\nRemember to consult a nutritionist or doctor before starting any restrictive diet plan to ensure it aligns with your personal health goals and requirements.\"\n",
       "      },\n",
       "      \"finish_reason\": \"stop\"\n",
       "    },\n",
       "    {\n",
       "      \"index\": 2,\n",
       "      \"message\": {\n",
       "        \"role\": \"assistant\",\n",
       "        \"content\": \"Here's a 10-day nutrition plan with meals that are approximately 1000 calories per day. It includes breakfast, snack, lunch, snack, and dinner for each day.\\n\\nDay 1:\\nBreakfast: \\n- Scrambled eggs with veggies (2 eggs, mixed vegetables) \\nSnack: \\n- Greek yogurt with berries (1 cup non-fat Greek yogurt, \\u00bd cup berries) \\nLunch: \\n- Chickpea salad (\\u00bd cup chickpeas, mixed greens, cherry tomatoes, cucumber, lemon-tahini dressing) \\nSnack: \\n- Carrot sticks with hummus (10 baby carrots, 2 tbsp hummus) \\nDinner: \\n- Grilled chicken breast with quinoa and steamed broccoli (4 oz chicken breast, \\u2153 cup cooked quinoa, 1 cup steamed broccoli)\\n\\nDay 2:\\nBreakfast: \\n- Oatmeal with almond milk and banana (\\u00bd cup oats, 1 cup unsweetened almond milk, 1 small banana) \\nSnack: \\n- Apple slices with almond butter (1 medium apple, 2 tbsp almond butter) \\nLunch: \\n- Turkey wrap with whole wheat tortilla (4 oz sliced turkey breast, lettuce, tomato, mustard) \\nSnack: \\n- Mixed nuts (1 oz mixed nuts) \\nDinner: \\n- Baked salmon with roasted sweet potatoes and asparagus (4 oz salmon fillet, \\u00bd cup roasted sweet potatoes, 1 cup roasted asparagus)\\n\\nDay 3:\\nBreakfast: \\n- Avocado toast with tomato and feta cheese (1 slice whole grain bread, \\u00bd avocado, sliced tomato, 1 tbsp crumbled feta cheese) \\nSnack: \\n- Cottage cheese with pineapple (\\u00bd cup low-fat cottage cheese, \\u00bd cup pineapple chunks) \\nLunch: \\n- Quinoa salad with black beans and corn (\\u00bd cup cooked quinoa, \\u00bc cup black beans, \\u00bc cup corn, diced bell peppers, lime dressing) \\nSnack: \\n- Hard-boiled eggs (2 hard-boiled eggs) \\nDinner: \\n- Vegetable stir-fry with tofu (1 cup mixed vegetables, 3 oz firm tofu, soy sauce, sesame oil)\\n\\nDay 4:\\nBreakfast: \\n- Protein smoothie with spinach and berries (1 cup unsweetened almond milk, 1 scoop protein powder, 1 cup spinach, \\u00bd cup berries) \\nSnack: \\n- Rice cakes with peanut butter (2 rice cakes, 2 tbsp peanut butter) \\nLunch: \\n- Grilled chicken salad with mixed greens (4 oz grilled chicken breast, mixed greens, cherry tomatoes, cucumbers, balsamic vinaigrette) \\nSnack: \\n- Cottage cheese with cucumber slices (\\u00bd cup low-fat cottage cheese, 10 cucumber slices) \\nDinner: \\n- Baked cod with quinoa and steamed broccoli (4 oz cod fillet, \\u2153 cup cooked quinoa, 1 cup steamed broccoli)\\n\\nDay 5:\\nBreakfast: \\n- Veggie omelette (2 eggs, bell peppers, onions, spinach) \\nSnack: \\n- Greek yogurt with granola (1 cup non-fat Greek yogurt, \\u00bc cup granola) \\nLunch: \\n- Turkey and avocado wrap (4 oz sliced turkey breast, avocado, lettuce, tomato, whole wheat tortilla) \\nSnack: \\n- Edamame (1 cup edamame, steamed) \\nDinner: \\n- Grilled shrimp with quinoa and roasted Brussels sprouts (4 oz grilled shrimp, \\u2153 cup cooked quinoa, 1 cup roasted Brussels sprouts)\\n\\nDay 6:\\nBreakfast: \\n- Overnight oats with almond milk and berries (\\u00bd cup oats, 1 cup unsweetened almond milk, \\u00bd cup berries) \\nSnack: \\n- Apple slices with cottage cheese (1 medium apple, \\u00bd cup low-fat cottage cheese) \\nLunch: \\n- Lentil soup with whole grain bread (1 cup lentil soup, 1 slice whole grain bread) \\nSnack: \\n- Trail mix (1 oz trail mix) \\nDinner: \\n- Baked chicken breast with brown rice and steamed vegetables (4 oz chicken breast, \\u00bd cup cooked brown rice, 1 cup steamed vegetables)\\n\\nDay 7:\\nBreakfast: \\n- Whole wheat toast with almond butter and sliced banana (2 slices whole wheat toast, 2 tbsp almond butter, 1 small banana) \\nSnack: \\n- Grapefruit segments (1 medium grapefruit) \\nLunch: \\n- Tuna salad with whole grain crackers (3 oz canned tuna, mixed greens, cherry tomatoes, cucumber, whole grain crackers) \\nSnack: \\n- Celery sticks with peanut butter (2 celery stalks, 2 tbsp peanut butter) \\nDinner: \\n- Baked cod with quinoa and roasted zucchini (4 oz cod fillet, \\u2153 cup cooked quinoa, 1 cup roasted zucchini)\\n\\nDay 8:\\nBreakfast: \\n- Vegetable scramble with tofu (\\u00bd cup tofu, bell peppers, onions, spinach) \\nSnack: \\n- Greek yogurt with honey and walnuts (1 cup non-fat Greek yogurt, 1 tbsp honey, 2 tbsp chopped walnuts) \\nLunch: \\n- Quinoa salad with grilled chicken (\\u00bd cup cooked quinoa, mixed greens, cherry tomatoes, cucumber, grilled chicken breast, lemon-tahini dressing) \\nSnack: \\n- Cherry tomatoes with mozzarella cheese (1 cup cherry tomatoes, 1 oz mozzarella cheese) \\nDinner: \\n- Grilled turkey burger with sweet potato fries (4 oz turkey patty, whole wheat bun, lettuce, tomato, 1 cup baked sweet potato fries)\\n\\nDay 9:\\nBreakfast: \\n- Protein pancakes with berries (2 small protein pancakes, \\u00bd cup berries) \\nSnack: \\n- Rice cakes with avocado (2 rice cakes, \\u00bd avocado) \\nLunch: \\n- Chickpea salad with whole grain pita (\\u00bd cup chickpeas, mixed greens, cherry tomatoes, cucumber, lemon-tahini dressing, 1 whole grain pita) \\nSnack: \\n- Hard-boiled eggs (2 hard-boiled eggs) \\nDinner: \\n- Baked salmon with quinoa and roasted asparagus (4 oz salmon fillet, \\u2153 cup cooked quinoa, 1 cup roasted asparagus)\\n\\nDay 10:\\nBreakfast: \\n- Yogurt parfait with granola and berries (1 cup non-fat Greek yogurt, \\u00bc cup granola, \\u00bd cup berries) \\nSnack: \\n- Carrot sticks with hummus (10 baby carrots, 2 tbsp hummus) \\nLunch: \\n- Turkey wrap with avocado and whole grain tortilla (4 oz sliced turkey breast, avocado, lettuce, tomato, whole wheat tortilla) \\nSnack: \\n- Mixed nuts (1 oz mixed nuts) \\nDinner: \\n- Vegetable stir-fry with tofu (1 cup mixed vegetables, 3 oz firm tofu, soy sauce, sesame oil)\\n\\nPlease note that these meal suggestions are not personalized and may not suit specific dietary restrictions or preferences. It's advisable to consult a healthcare professional or a registered dietitian for a personalized nutrition plan.\"\n",
       "      },\n",
       "      \"finish_reason\": \"stop\"\n",
       "    },\n",
       "    {\n",
       "      \"index\": 3,\n",
       "      \"message\": {\n",
       "        \"role\": \"assistant\",\n",
       "        \"content\": \"Sure! Here's a 10-day nutrition plan with 5 meals per day, each totaling a maximum of 1000 calories.\\n\\nDay 1:\\nBreakfast: Egg white omelette with spinach and tomatoes (200 calories)\\nSnack: Greek yogurt with berries (100 calories)\\nLunch: Grilled chicken salad with mixed greens, cucumber, and vinegar dressing (250 calories)\\nSnack: Carrot sticks with hummus (100 calories)\\nDinner: Baked salmon with quinoa and steamed broccoli (350 calories)\\n\\nDay 2:\\nBreakfast: Whole grain toast with avocado and a boiled egg (250 calories)\\nSnack: Apple slices with almond butter (150 calories)\\nLunch: Turkey and vegetable wrap with whole wheat tortilla (200 calories)\\nSnack: Edamame beans (100 calories)\\nDinner: Grilled shrimp with brown rice and roasted asparagus (300 calories)\\n\\nDay 3:\\nBreakfast: Protein smoothie with almond milk, banana, and spinach (200 calories)\\nSnack: Cottage cheese with peach slices (150 calories)\\nLunch: Quinoa salad with black beans, corn, and lime dressing (250 calories)\\nSnack: Rice cakes with peanut butter (100 calories)\\nDinner: Grilled chicken breast with roasted sweet potatoes and green beans (300 calories)\\n\\nDay 4:\\nBreakfast: Oatmeal with blueberries and a dollop of Greek yogurt (250 calories)\\nSnack: Celery sticks with cream cheese (100 calories)\\nLunch: Lentil soup with a side of mixed greens (200 calories)\\nSnack: Almonds (150 calories)\\nDinner: Baked cod with quinoa and steamed asparagus (300 calories)\\n\\nDay 5:\\nBreakfast: Veggie omelette made with egg whites, mushrooms, and bell peppers (200 calories)\\nSnack: Banana with a small handful of walnuts (150 calories)\\nLunch: Grilled chicken and vegetable skewers with a small green salad (250 calories)\\nSnack: Sliced cucumber with tzatziki sauce (100 calories)\\nDinner: Beef stir-fry with mixed vegetables and brown rice (300 calories)\\n\\nDay 6:\\nBreakfast: Greek yogurt with granola and strawberries (250 calories)\\nSnack: Hard-boiled eggs (100 calories)\\nLunch: Spinach salad with grilled tofu, cherry tomatoes, and balsamic dressing (200 calories)\\nSnack: Air-popped popcorn (100 calories)\\nDinner: Baked chicken breast with mixed vegetables and quinoa (350 calories)\\n\\nDay 7:\\nBreakfast: Whole grain toast with mashed avocado and tomato slices (200 calories)\\nSnack: Orange slices (100 calories)\\nLunch: Zucchini noodles with marinara sauce and a side salad (250 calories)\\nSnack: Hummus with whole grain crackers (150 calories)\\nDinner: Grilled salmon with roasted Brussels sprouts and brown rice (300 calories)\\n\\nDay 8:\\nBreakfast: Protein pancakes with maple syrup and a side of mixed berries (250 calories)\\nSnack: Baby carrots with hummus (100 calories)\\nLunch: Quinoa salad with grilled chicken, cucumber, and lemon dressing (250 calories)\\nSnack: Mixed nuts (150 calories)\\nDinner: Turkey meatballs with marinara sauce and zucchini noodles (250 calories)\\n\\nDay 9:\\nBreakfast: Smoothie bowl with almond milk, banana, spinach, and topped with granola (200 calories)\\nSnack: Rice cakes with cream cheese and cucumber slices (100 calories)\\nLunch: Whole grain wrap with grilled vegetables and feta cheese (250 calories)\\nSnack: Sliced bell peppers with guacamole (100 calories)\\nDinner: Baked tofu with roasted sweet potatoes and steamed broccoli (350 calories)\\n\\nDay 10:\\nBreakfast: Scrambled eggs with spinach and tomatoes, served with whole grain toast (250 calories)\\nSnack: Greek yogurt with honey and sliced almonds (150 calories)\\nLunch: Chickpea salad with cherry tomatoes and balsamic dressing (200 calories)\\nSnack: Apple slices with peanut butter (100 calories)\\nDinner: Grilled chicken breast with quinoa and roasted asparagus (300 calories)\\n\\nRemember to adjust portion sizes as needed and consult a healthcare professional before making any major dietary changes. Enjoy your nutritious meals!\"\n",
       "      },\n",
       "      \"finish_reason\": \"stop\"\n",
       "    },\n",
       "    {\n",
       "      \"index\": 4,\n",
       "      \"message\": {\n",
       "        \"role\": \"assistant\",\n",
       "        \"content\": \"Day 1:\\n\\nBreakfast:\\n- Scrambled egg whites with spinach and cherry tomatoes (150 kcal)\\n- 1 slice of whole wheat toast (70 kcal)\\n\\nSnack:\\n- 1 small apple (80 kcal)\\n\\nLunch:\\n- Grilled chicken breast salad with mixed greens, cucumber, and lemon vinaigrette dressing (200 kcal)\\n\\nSnack:\\n- Greek yogurt with sliced strawberries (100 kcal)\\n\\nDinner:\\n- Baked salmon with lemon and dill (300 kcal)\\n- Steamed asparagus (50 kcal)\\n\\nTotal: 950 kcal\\n\\nDay 2:\\n\\nBreakfast:\\n- Overnight oats made with rolled oats, almond milk, chia seeds, and mixed berries (200 kcal)\\n\\nSnack:\\n- Carrot sticks with hummus (100 kcal)\\n\\nLunch:\\n- Quinoa salad with grilled veggies (bell peppers, zucchini, and eggplant) (250 kcal)\\n\\nSnack:\\n- Handful of almonds (150 kcal)\\n\\nDinner:\\n- Grilled chicken breast with steamed broccoli (250 kcal)\\n\\nTotal: 950 kcal\\n\\nDay 3:\\n\\nBreakfast:\\n- Egg white omelet with spinach, mushrooms, and feta cheese (200 kcal)\\n\\nSnack:\\n- 1 small banana (90 kcal)\\n\\nLunch:\\n- Tuna salad lettuce wraps with cucumber and avocado (250 kcal)\\n\\nSnack:\\n- 1 cup of cherry tomatoes (50 kcal)\\n\\nDinner:\\n- Baked cod with roasted Brussels sprouts (300 kcal)\\n\\nTotal: 890 kcal\\n\\nDay 4:\\n\\nBreakfast:\\n- Protein smoothie with almond milk, banana, spinach, and almond butter (250 kcal)\\n\\nSnack:\\n- 2 hard-boiled eggs (140 kcal)\\n\\nLunch:\\n- Turkey breast wrap with whole wheat tortilla, lettuce, tomato, and mustard (200 kcal)\\n\\nSnack:\\n- Celery sticks with almond butter (100 kcal)\\n\\nDinner:\\n- Grilled shrimp skewers with grilled zucchini and bell peppers (300 kcal)\\n\\nTotal: 990 kcal\\n\\nDay 5:\\n\\nBreakfast:\\n- 2 slices of turkey bacon with a hard-boiled egg (200 kcal)\\n\\nSnack:\\n- 1 cup of watermelon cubes (90 kcal)\\n\\nLunch:\\n- Quinoa bowl with roasted sweet potatoes, black beans, and salsa (250 kcal)\\n\\nSnack:\\n- 1 small orange (60 kcal)\\n\\nDinner:\\n- Baked chicken breast with steamed green beans (300 kcal)\\n\\nTotal: 900 kcal\\n\\nDay 6:\\n\\nBreakfast:\\n- Protein pancakes made with banana, oats, and almond milk (250 kcal)\\n\\nSnack:\\n- 1 small pear (90 kcal)\\n\\nLunch:\\n- Grilled vegetable wrap with whole wheat tortilla and balsamic glaze (200 kcal)\\n\\nSnack:\\n- 1 ounce of mixed nuts (170 kcal)\\n\\nDinner:\\n- Baked tofu with stir-fried vegetables (290 kcal)\\n\\nTotal: 1000 kcal\\n\\nDay 7:\\n\\nBreakfast:\\n- Veggie omelet with bell peppers, onions, and feta cheese (200 kcal)\\n\\nSnack:\\n- 1 cup of cucumber slices (20 kcal)\\n\\nLunch:\\n- Mixed greens salad with grilled chicken, cherry tomatoes, and balsamic vinaigrette (250 kcal)\\n\\nSnack:\\n- 1 small apple (80 kcal)\\n\\nDinner:\\n- Baked cod with quinoa and roasted asparagus (300 kcal)\\n\\nTotal: 850 kcal\\n\\nDay 8:\\n\\nBreakfast:\\n- Greek yogurt parfait with mixed berries and granola (200 kcal)\\n\\nSnack:\\n- Carrot sticks with hummus (100 kcal)\\n\\nLunch:\\n- Grilled chicken and vegetable skewers with quinoa (300 kcal)\\n\\nSnack:\\n- 2 hard-boiled eggs (140 kcal)\\n\\nDinner:\\n- Zucchini noodles with turkey meatballs and marinara sauce (250 kcal)\\n\\nTotal: 990 kcal\\n\\nDay 9:\\n\\nBreakfast:\\n- Whole wheat toast with avocado and sliced tomatoes (200 kcal)\\n\\nSnack:\\n- 1 small orange (60 kcal)\\n\\nLunch:\\n- Chickpea and vegetable soup (250 kcal)\\n\\nSnack:\\n- 1 cup of celery sticks (20 kcal)\\n\\nDinner:\\n- Grilled shrimp with brown rice and roasted broccoli (300 kcal)\\n\\nTotal: 890 kcal\\n\\nDay 10:\\n\\nBreakfast:\\n- Egg white scramble with spinach, mushrooms, and diced bell peppers (200 kcal)\\n\\nSnack:\\n- 1 small banana (90 kcal)\\n\\nLunch:\\n- Grilled chicken salad with mixed greens, cucumber, and lemon vinaigrette (200 kcal)\\n\\nSnack:\\n- Greek yogurt with sliced strawberries (100 kcal)\\n\\nDinner:\\n- Baked salmon with quinoa and steamed asparagus (300 kcal)\\n\\nTotal: 890 kcal\"\n",
       "      },\n",
       "      \"finish_reason\": \"stop\"\n",
       "    },\n",
       "    {\n",
       "      \"index\": 5,\n",
       "      \"message\": {\n",
       "        \"role\": \"assistant\",\n",
       "        \"content\": \"Day 1:\\nBreakfast: \\n- 1 small omelette (2 egg whites and 1 whole egg) with spinach and diced tomatoes (150 kcal)\\nSnack: \\n- Greek yogurt with 1 tablespoon of chia seeds (100 kcal)\\nLunch: \\n- Grilled chicken breast with a side of roasted vegetables (200 kcal)\\nSnack: \\n- 1 medium apple (80 kcal)\\nDinner: \\n- Baked salmon with steamed broccoli and quinoa (350 kcal)\\n\\nDay 2:\\nBreakfast: \\n- Whole grain toast with 1 tablespoon of almond butter and sliced banana (200 kcal)\\nSnack: \\n- 1 small handful of almonds (150 kcal)\\nLunch: \\n- Mixed greens salad with grilled chicken, cherry tomatoes, and balsamic vinaigrette (150 kcal)\\nSnack: \\n- Carrot sticks with hummus (100 kcal)\\nDinner: \\n- Zucchini noodles with lean ground turkey and marinara sauce (400 kcal)\\n\\nDay 3:\\nBreakfast: \\n- Overnight oats made with 1/2 cup of rolled oats, almond milk, and berries (200 kcal)\\nSnack: \\n- 1 small low-fat cheese stick (80 kcal)\\nLunch: \\n- Quinoa salad with mixed vegetables and grilled shrimp (250 kcal)\\nSnack: \\n- 1 small orange (60 kcal)\\nDinner: \\n- Grilled chicken breast with roasted sweet potatoes and steamed green beans (410 kcal)\\n\\nDay 4:\\nBreakfast: \\n- Egg white scramble with spinach, mushrooms, and diced bell peppers (150 kcal)\\nSnack: \\n- 1 small protein bar (150 kcal)\\nLunch: \\n- Turkey lettuce wraps with sliced avocado and tomato (200 kcal)\\nSnack: \\n- Celery sticks with peanut butter (100 kcal)\\nDinner: \\n- Baked cod with saut\\u00e9ed Brussels sprouts and quinoa (400 kcal)\\n\\nDay 5:\\nBreakfast: \\n- Whole grain cereal with almond milk and sliced strawberries (200 kcal)\\nSnack: \\n- 1 small handful of walnuts (150 kcal)\\nLunch: \\n- Grilled chicken salad with mixed greens, cucumber, and lemon vinaigrette (200 kcal)\\nSnack: \\n- 1 small serving of low-fat cottage cheese (80 kcal)\\nDinner: \\n- Baked tofu with stir-fried vegetables and brown rice (370 kcal)\\n\\nDay 6:\\nBreakfast: \\n- Veggie omelette (egg whites with diced bell peppers, onion, and spinach) (150 kcal)\\nSnack: \\n- 1 small protein smoothie with almond milk and mixed berries (100 kcal)\\nLunch: \\n- Turkey and lettuce wrap with sliced avocado and mustard (150 kcal)\\nSnack: \\n- 1 small pear (80 kcal)\\nDinner: \\n- Grilled shrimp skewers with grilled zucchini and couscous (350 kcal)\\n\\nDay 7:\\nBreakfast: \\n- Whole grain toast with smashed avocado and sliced tomato (200 kcal)\\nSnack: \\n- 1 small handful of cashews (150 kcal)\\nLunch: \\n- Mixed greens salad with grilled chicken, cherry tomatoes, and balsamic vinaigrette (150 kcal)\\nSnack: \\n- 1 small apple (80 kcal)\\nDinner: \\n- Baked salmon with roasted asparagus and quinoa (400 kcal)\\n\\nDay 8:\\nBreakfast: \\n- Greek yogurt with 1 tablespoon of chia seeds and sliced almonds (200 kcal)\\nSnack: \\n- 1 small protein bar (150 kcal)\\nLunch: \\n- Quinoa salad with mixed vegetables and grilled shrimp (250 kcal)\\nSnack: \\n- Carrot sticks with hummus (100 kcal)\\nDinner: \\n- Turkey meatballs with zucchini noodles and marinara sauce (300 kcal)\\n\\nDay 9:\\nBreakfast: \\n- Overnight oats made with 1/2 cup of rolled oats, almond milk, and berries (200 kcal)\\nSnack: \\n- 1 small low-fat cheese stick (80 kcal)\\nLunch: \\n- Grilled chicken wrap with lettuce, tomatoes, and tzatziki sauce (250 kcal)\\nSnack: \\n- 1 small orange (60 kcal)\\nDinner: \\n- Baked tofu with roasted sweet potatoes and steamed broccoli (410 kcal)\\n\\nDay 10:\\nBreakfast: \\n- Egg white scramble with spinach, mushrooms, and diced bell peppers (150 kcal)\\nSnack: \\n- 1 small handful of almonds (150 kcal)\\nLunch: \\n- Turkey lettuce wraps with sliced avocado and tomato (200 kcal)\\nSnack: \\n- Celery sticks with peanut butter (100 kcal)\\nDinner: \\n- Grilled cod with quinoa and steamed asparagus (400 kcal)\"\n",
       "      },\n",
       "      \"finish_reason\": \"stop\"\n",
       "    },\n",
       "    {\n",
       "      \"index\": 6,\n",
       "      \"message\": {\n",
       "        \"role\": \"assistant\",\n",
       "        \"content\": \"Sure! Here's a 10-day nutrition plan with 5 meals a day that each total a maximum of 1000 calories. Please note that these recipes provide low-calorie options, so make sure they meet your dietary requirements and consider adding more calories if needed.\\n\\nDay 1:\\nBreakfast - Berry Protein Smoothie\\nIngredient:\\n- 1 cup mixed berries\\n- 1 scoop protein powder\\n- 1 cup unsweetened almond milk\\n- Stevia (optional, for sweetness)\\n\\nSnack - Greek Yogurt Parfait\\nIngredients:\\n- 1/2 cup plain Greek yogurt\\n- 1 tablespoon honey\\n- 1/4 cup granola\\n- 1/4 cup mixed berries\\n\\nLunch - Mediterranean Salad\\nIngredients:\\n- 2 cups mixed greens\\n- 1/4 cup cherry tomatoes\\n- 1/4 cup cucumber slices\\n- 1/4 cup feta cheese\\n- 2 tablespoons balsamic vinaigrette\\n\\nSnack - Carrot Sticks with Hummus\\nIngredients:\\n- 1 medium carrot, cut into sticks\\n- 2 tablespoons hummus\\n\\nDinner - Grilled Chicken with Steamed Vegetables\\nIngredients:\\n- 4 oz grilled chicken breast\\n- 1 cup steamed broccoli\\n- 1/2 cup steamed carrots\\n- 1 tablespoon olive oil for cooking\\n\\nDay 2:\\nBreakfast - Veggie Omelette\\nIngredients:\\n- 2 egg whites\\n- 1/4 cup diced bell peppers\\n- 1/4 cup diced onions\\n- 1/4 cup spinach\\n- Salt and pepper to taste\\n\\nSnack - Apple slices with Peanut Butter\\nIngredients:\\n- 1 small apple, sliced\\n- 1 tablespoon peanut butter\\n\\nLunch - Quinoa Salad\\nIngredients:\\n- 1/2 cup cooked quinoa\\n- 1/4 cup diced cucumber\\n- 1/4 cup diced cherry tomatoes\\n- 1/4 cup diced bell peppers\\n- 2 tablespoons lemon juice\\n\\nSnack - Celery Sticks with Almond Butter\\nIngredients:\\n- 2 medium celery stalks\\n- 1 tablespoon almond butter\\n\\nDinner - Baked Salmon with Asparagus\\nIngredients:\\n- 4 oz salmon fillet\\n- 1 cup asparagus\\n- 1 tablespoon olive oil for cooking\\n- Lemon slices for garnish\\n\\nDay 3:\\nBreakfast - Banana Chia Pudding\\nIngredients:\\n- 1 ripe banana, mashed\\n- 2 tablespoons chia seeds\\n- 1 cup unsweetened almond milk\\n- Cinnamon (optional, for flavor)\\n\\nSnack - Rice Cakes with Cottage Cheese\\nIngredients:\\n- 2 rice cakes\\n- 1/4 cup low-fat cottage cheese\\n\\nLunch - Spinach and Mushroom Salad\\nIngredients:\\n- 2 cups baby spinach\\n- 1/4 cup sliced mushrooms\\n- 1/4 cup sliced red onions\\n- 1/4 cup goat cheese\\n- 2 tablespoons balsamic vinaigrette\\n\\nSnack - Edamame\\nIngredients:\\n- 1/2 cup frozen edamame, steamed\\n\\nDinner - Turkey Lettuce Wraps\\nIngredients:\\n- 4 oz ground turkey\\n- 4 large lettuce leaves\\n- 1/4 cup diced tomatoes\\n- 1/4 cup diced cucumbers\\n- 1 tablespoon teriyaki sauce\\n\\nDay 4:\\nBreakfast - Overnight Oats\\nIngredients:\\n- 1/2 cup rolled oats\\n- 1/2 cup unsweetened almond milk\\n- 1 tablespoon chia seeds\\n- 1/4 cup sliced strawberries\\n- 1 tablespoon honey (optional, for sweetness)\\n\\nSnack - Hard-Boiled Eggs\\nIngredients:\\n- 2 hard-boiled eggs\\n\\nLunch - Caprese Salad\\nIngredients:\\n- 1 medium tomato, sliced\\n- 1/4 cup fresh mozzarella, sliced\\n- 1/4 cup fresh basil leaves\\n- 1 tablespoon balsamic glaze\\n\\nSnack - Mixed Nuts\\nIngredients:\\n- 1/4 cup mixed nuts (almonds, walnuts, cashews, etc.)\\n\\nDinner - Veggie Stir-Fry\\nIngredients:\\n- 1 cup mixed vegetables (broccoli, snap peas, bell peppers, etc.)\\n- 1/4 cup sliced tofu\\n- 1 tablespoon low-sodium soy sauce\\n- 1 teaspoon sesame oil for cooking\\n\\nDay 5:\\nBreakfast - Green Smoothie Bowl\\nIngredients:\\n- 1 cup spinach\\n- 1/2 avocado\\n- 1/2 cup unsweetened almond milk\\n- 1/2 frozen banana\\n- Toppings: sliced strawberries, chia seeds, shredded coconut\\n\\nSnack - Cottage Cheese with Berries\\nIngredients:\\n- 1/2 cup low-fat cottage cheese\\n- 1/4 cup mixed berries\\n\\nLunch - Lentil Soup\\nIngredients:\\n- 1/2 cup cooked lentils\\n- 1/4 cup diced carrots\\n- 1/4 cup diced celery\\n- 1/4 cup diced onions\\n- 1 cup low-sodium vegetable broth\\n\\nSnack - Cucumber Slices with Tzatziki\\nIngredients:\\n- 1 medium cucumber, sliced\\n- 2 tablespoons tzatziki sauce\\n\\nDinner - Grilled Shrimp Skewers with Zucchini\\nIngredients:\\n- 4 oz shrimp\\n- 1 medium zucchini, sliced\\n- 1 tablespoon olive oil for cooking\\n- Lemon wedges for garnish\\n\\nThese were the meal ideas for the first five days. Let me know if you would like more suggestions for the remaining five days!\"\n",
       "      },\n",
       "      \"finish_reason\": \"stop\"\n",
       "    },\n",
       "    {\n",
       "      \"index\": 7,\n",
       "      \"message\": {\n",
       "        \"role\": \"assistant\",\n",
       "        \"content\": \"Day 1: 1000 kcal\\n\\nBreakfast: \\n- Scrambled Egg Whites with Spinach and Mushrooms (250 kcal)\\n- 1 slice of Whole Wheat Toast (80 kcal)\\n\\nSnack:\\n- Apple Slices with 2 tablespoons of Peanut Butter (200 kcal)\\n\\nLunch:\\n- Grilled Chicken Breast Salad with Mixed Greens, Cherry Tomatoes, Cucumber, and Balsamic Vinaigrette (300 kcal)\\n\\nSnack:\\n- Greek Yogurt with Berries and a sprinkle of Granola (150 kcal)\\n\\nDinner:\\n- Baked Salmon with Lemon and Dill, served with Steamed Broccoli and Quinoa (320 kcal)\\n\\nDay 2: 1000 kcal\\n\\nBreakfast:\\n- Oatmeal with Almond Milk, Chia Seeds, and Sliced Banana (250 kcal)\\n- Green Tea\\n\\nSnack:\\n- Carrot Sticks with Hummus (100 kcal)\\n\\nLunch:\\n- Turkey Lettuce Wraps with Lean Ground Turkey, Lettuce Leaves, Tomatoes, Cucumber, and Avocado (300 kcal)\\n\\nSnack:\\n- Mixed Nuts (150 kcal)\\n\\nDinner:\\n- Grilled Shrimp Skewers with Bell Peppers and Zucchini, served with Cauliflower Rice (200 kcal)\\n\\nDay 3: 1000 kcal\\n\\nBreakfast:\\n- Greek Yogurt with Mixed Berries and a sprinkle of Almonds (250 kcal)\\n- Green Tea\\n\\nSnack:\\n- Celery Sticks with Peanut Butter (100 kcal)\\n\\nLunch:\\n- Quinoa Salad with Chickpeas, Cherry Tomatoes, Cucumber, Feta Cheese, and Lemon Vinaigrette (300 kcal)\\n\\nSnack:\\n- Hard-boiled Egg (70 kcal)\\n\\nDinner:\\n- Baked Chicken Breast with Steamed Asparagus and Brown Rice (280 kcal)\\n\\nDay 4: 1000 kcal\\n\\nBreakfast:\\n- Spinach and Mushroom Omelette with Egg Whites (250 kcal)\\n- Herbal Tea\\n\\nSnack:\\n- 1 Small Orange (70 kcal)\\n\\nLunch:\\n- Lentil Soup with Mixed Vegetables (300 kcal)\\n\\nSnack:\\n- Cottage Cheese with Sliced Cucumbers (100 kcal)\\n\\nDinner:\\n- Baked Cod with Roasted Brussels Sprouts and Quinoa (280 kcal)\\n\\nDay 5: 1000 kcal\\n\\nBreakfast:\\n- Overnight Chia Pudding with Almond Milk, Berries, and a sprinkle of Cinnamon (250 kcal)\\n- Green Tea\\n\\nSnack:\\n- Homemade Kale Chips (70 kcal)\\n\\nLunch:\\n- Grilled Chicken Breast with Steamed Broccoli and Mashed Sweet Potatoes (300 kcal)\\n\\nSnack:\\n- 1 medium-sized Apple (80 kcal)\\n\\nDinner:\\n- Stir-Fried Tofu with Mixed Vegetables and Brown Rice (300 kcal)\\n\\nDay 6: 1000 kcal\\n\\nBreakfast:\\n- Protein Pancakes with Banana Slices and a drizzle of Maple Syrup (250 kcal)\\n- Herbal Tea\\n\\nSnack:\\n- Low-fat Cheese Stick (80 kcal)\\n\\nLunch:\\n- Quinoa Stuffed Bell Peppers with Ground Turkey, Black Beans, and Tomato Sauce (300 kcal)\\n\\nSnack:\\n- Edamame (100 kcal)\\n\\nDinner:\\n- Grilled Salmon with Roasted Cauliflower and Steamed Green Beans (270 kcal)\\n\\nDay 7: 1000 kcal\\n\\nBreakfast:\\n- Whole Grain Toast with Smashed Avocado and Sliced Tomato (250 kcal)\\n- Green Tea\\n\\nSnack:\\n- Homemade Trail Mix with Dried Fruits and Nuts (150 kcal)\\n\\nLunch:\\n- Shrimp and Veggie Stir-Fry with Brown Rice (300 kcal)\\n\\nSnack:\\n- 1 Small Banana (80 kcal)\\n\\nDinner:\\n- Baked Turkey Meatballs with Marinara Sauce, served with Zucchini Noodles (220 kcal)\\n\\nDay 8: 1000 kcal\\n\\nBreakfast:\\n- Veggie Egg Muffins (250 kcal)\\n- Herbal Tea\\n\\nSnack:\\n- Sliced Bell Peppers with Hummus (100 kcal)\\n\\nLunch:\\n- Spinach Salad with Grilled Chicken, Cherry Tomatoes, Red Onion, Feta Cheese, and Balsamic Vinaigrette (300 kcal)\\n\\nSnack:\\n- Unsweetened Greek Yogurt with Berries (150 kcal)\\n\\nDinner:\\n- Baked Tilapia with Steamed Asparagus and Quinoa (200 kcal)\\n\\nDay 9: 1000 kcal\\n\\nBreakfast:\\n- Banana Smoothie with Unsweetened Almond Milk, Spinach, and a scoop of Protein Powder (250 kcal)\\n- Green Tea\\n\\nSnack:\\n- Hard-boiled Egg (70 kcal)\\n\\nLunch:\\n- Mediterranean Quinoa Salad with Cucumber, Cherry Tomatoes, Kalamata Olives, Feta Cheese, and Lemon Vinaigrette (300 kcal)\\n\\nSnack:\\n- 1 Small Orange (70 kcal)\\n\\nDinner:\\n- Baked Chicken Breast with Roasted Brussels Sprouts and Sweet Potato Mash (310 kcal)\\n\\nDay 10: 1000 kcal\\n\\nBreakfast:\\n- Avocado Toast with Cherry Tomatoes and a sprinkle of Chili Flakes (250 kcal)\\n- Herbal Tea\\n\\nSnack:\\n- Carrot Sticks with Hummus (100 kcal)\\n\\nLunch:\\n- Turkey and Vegetable Stir-Fry with Brown Rice (300 kcal)\\n\\nSnack:\\n- Cottage Cheese with Sliced Cucumbers (100 kcal)\\n\\nDinner:\\n- Lentil Curry with Cauliflower Rice (250 kcal)\"\n",
       "      },\n",
       "      \"finish_reason\": \"stop\"\n",
       "    },\n",
       "    {\n",
       "      \"index\": 8,\n",
       "      \"message\": {\n",
       "        \"role\": \"assistant\",\n",
       "        \"content\": \"Day 1:\\n- Breakfast: Egg white omelet with spinach and mushrooms (120 kcal)\\n- Snack: Greek yogurt with berries (80 kcal)\\n- Lunch: Grilled chicken salad with mixed greens and balsamic vinaigrette (200 kcal)\\n- Snack: Carrot sticks with hummus (60 kcal)\\n- Dinner: Baked salmon with roasted asparagus and quinoa (350 kcal)\\n\\nDay 2:\\n- Breakfast: Overnight oats with almond milk, chia seeds, and sliced banana (180 kcal)\\n- Snack: Apple slices with almond butter (100 kcal)\\n- Lunch: Tuna salad wrap with lettuce and whole grain tortilla (200 kcal)\\n- Snack: Hard-boiled egg with cucumber slices (70 kcal)\\n- Dinner: Grilled chicken breast with steamed broccoli and brown rice (350 kcal)\\n\\nDay 3:\\n- Breakfast: Avocado toast on whole grain bread (150 kcal)\\n- Snack: Mixed nuts and dried fruit (120 kcal)\\n- Lunch: Quinoa and black bean salad with tomatoes and cilantro (250 kcal)\\n- Snack: Sliced bell peppers with guacamole (70 kcal)\\n- Dinner: Turkey meatballs with zucchini noodles and marinara sauce (410 kcal)\\n\\nDay 4:\\n- Breakfast: Banana protein smoothie with almond milk and spinach (180 kcal)\\n- Snack: Cottage cheese with sliced peaches (90 kcal)\\n- Lunch: Grilled shrimp skewers with roasted vegetables (250 kcal)\\n- Snack: Baked kale chips (50 kcal)\\n- Dinner: Baked chicken breast with steamed green beans and sweet potato (430 kcal)\\n\\nDay 5:\\n- Breakfast: Veggie omelet with peppers, onions, and tomatoes (150 kcal)\\n- Snack: Homemade energy balls with dates and nuts (120 kcal)\\n- Lunch: Lentil soup with side salad (250 kcal)\\n- Snack: Sliced cucumber with tzatziki sauce (70 kcal)\\n- Dinner: Grilled tofu with stir-fried vegetables and brown rice (410 kcal)\\n\\nDay 6:\\n- Breakfast: Almond butter and banana sandwich on whole grain bread (180 kcal)\\n- Snack: Low-fat cottage cheese with pineapple chunks (100 kcal)\\n- Lunch: Chickpea and vegetable stir-fry (250 kcal)\\n- Snack: Rice cakes with peanut butter (70 kcal)\\n- Dinner: Baked cod with roasted Brussels sprouts and quinoa (400 kcal)\\n\\nDay 7:\\n- Breakfast: Quinoa porridge with blueberries and almond milk (180 kcal)\\n- Snack: Greek yogurt with sliced almonds (100 kcal)\\n- Lunch: Grilled chicken Caesar salad with light dressing (250 kcal)\\n- Snack: Edamame beans (70 kcal)\\n- Dinner: Zucchini noodles with turkey Bolognese sauce (400 kcal)\\n\\nDay 8:\\n- Breakfast: Berry and spinach smoothie bowl topped with granola (180 kcal)\\n- Snack: Cucumber slices with cottage cheese (80 kcal)\\n- Lunch: Roasted vegetable wrap with hummus (250 kcal)\\n- Snack: Air-popped popcorn (50 kcal)\\n- Dinner: Grilled salmon with quinoa and steamed asparagus (440 kcal)\\n\\nDay 9:\\n- Breakfast: Scrambled egg whites with tomatoes and feta cheese (150 kcal)\\n- Snack: Sliced pear with almond butter (100 kcal)\\n- Lunch: Quinoa and vegetable stuffed bell peppers (250 kcal)\\n- Snack: Celery sticks with peanut butter (70 kcal)\\n- Dinner: Grilled chicken breast with roasted cauliflower and quinoa (430 kcal)\\n\\nDay 10:\\n- Breakfast: Oatmeal with sliced banana and cinnamon (180 kcal)\\n- Snack: Homemade trail mix with dried fruits and nuts (100 kcal)\\n- Lunch: Turkey and avocado wrap with lettuce and whole grain tortilla (250 kcal)\\n- Snack: Baked apple chips (70 kcal)\\n- Dinner: Baked cod with steamed broccoli and quinoa (400 kcal)\\n\\nPlease note that the serving sizes and total calorie counts are approximate. Adjustments can be made based on your specific dietary needs and preferences. It is always recommended to consult with a healthcare professional before making any significant changes to your diet.\"\n",
       "      },\n",
       "      \"finish_reason\": \"stop\"\n",
       "    },\n",
       "    {\n",
       "      \"index\": 9,\n",
       "      \"message\": {\n",
       "        \"role\": \"assistant\",\n",
       "        \"content\": \"Day 1:\\nBreakfast: Veggie scramble with 2 eggs (160 kcals), 1 cup of saut\\u00e9ed spinach (30 kcals), and 1/4 cup of diced bell peppers (30 kcals) - Total: 220 kcals\\nSnack: 1 small apple (52 kcals) - Total: 52 kcals\\nLunch: Grilled chicken salad with 3 oz of grilled chicken breast (142 kcals), mixed greens (10 kcals), cherry tomatoes (15 kcals), cucumber slices (8 kcals), and 1 tablespoon of balsamic vinaigrette (42 kcals) - Total: 217 kcals\\nSnack: Carrot sticks with 2 tablespoons of hummus (85 kcals) - Total: 85 kcals\\nDinner: Baked salmon fillet (206 kcals) with 1/2 cup of roasted Brussels sprouts (28 kcals) and 1/4 cup of quinoa (56 kcals) - Total: 290 kcals\\nTotal for the day: 864 kcals\\n\\nDay 2:\\nBreakfast: Overnight oats made with 1/2 cup of rolled oats (150 kcals), 1/2 cup of unsweetened almond milk (15 kcals), 1/2 tablespoon of chia seeds (30 kcals), and 1/2 cup of mixed berries (35 kcals) - Total: 230 kcals\\nSnack: 5 whole grain crackers (77 kcals) with 1 tablespoon of almond butter (90 kcals) - Total: 167 kcals\\nLunch: Quinoa salad with 1/2 cup of cooked quinoa (111 kcals), 3 oz of grilled chicken breast (142 kcals), mixed greens (10 kcals), 1/4 cup of diced cucumber (4 kcals), and 1 tablespoon of lemon vinaigrette (35 kcals) - Total: 302 kcals\\nSnack: Greek yogurt with 1/4 cup of mixed berries (35 kcals) - Total: 75 kcals\\nDinner: Stir-fried tofu with 3 oz of tofu (94 kcals), 1 cup of mixed stir-fried vegetables (60 kcals), and 1 tablespoon of low-sodium soy sauce (11 kcals) - Total: 165 kcals\\nTotal for the day: 939 kcals\\n\\nDay 3:\\nBreakfast: Egg white omelet with 3 egg whites (51 kcals), 1/4 cup of diced bell peppers (9 kcals), 1/4 cup of diced onions (13 kcals), and 1/2 cup of baby spinach (7 kcals) - Total: 80 kcals\\nSnack: 1 small orange (45 kcals) - Total: 45 kcals\\nLunch: Turkey wrap with 3 oz of sliced turkey breast (92 kcals), 1 small whole wheat tortilla (80 kcals), 1/4 cup of shredded lettuce (2 kcals), 1/4 cup of diced tomatoes (7 kcals), and 1 tablespoon of mustard (3 kcals) - Total: 184 kcals\\nSnack: 1 hard-boiled egg (78 kcals) - Total: 78 kcals\\nDinner: Baked chicken breast (165 kcals) with 1/2 cup of steamed broccoli (27 kcals) and 1/4 cup of cooked brown rice (55 kcals) - Total: 247 kcals\\nTotal for the day: 634 kcals\\n\\nDay 4:\\nBreakfast: Cottage cheese with 1/2 cup of low-fat cottage cheese (90 kcals) and 1/4 cup of diced pineapple (31 kcals) - Total: 121 kcals\\nSnack: Celery sticks with 2 tablespoons of peanut butter (188 kcals) - Total: 188 kcals\\nLunch: Quinoa and black bean salad with 1/2 cup of cooked quinoa (111 kcals), 1/4 cup of black beans (55 kcals), 1/4 cup of diced bell peppers (9 kcals), 1/4 cup of diced tomatoes (7 kcals), and 1 tablespoon of lime vinaigrette (24 kcals) - Total: 206 kcals\\nSnack: 1 small banana (90 kcals) - Total: 90 kcals\\nDinner: Grilled shrimp skewers with 3 oz of shrimp (90 kcals), 1/2 cup of zucchini slices (10 kcals), 1/4 cup of red onion chunks (16 kcals), and 1 tablespoon of lemon garlic marinade (30 kcals) - Total: 146 kcals\\nTotal for the day: 751 kcals\\n\\nDay 5:\\nBreakfast: Protein smoothie made with 1 scoop of protein powder (120 kcals), 1/2 cup of unsweetened almond milk (15 kcals), 1/2 cup of frozen berries (40 kcals), and 1 tablespoon of almond butter (90 kcals) - Total: 265 kcals\\nSnack: 5 baby carrots (20 kcals) with 2 tablespoons of hummus (85 kcals) - Total: 105 kcals\\nLunch: Caprese salad with 1/2 cup of cherry tomatoes (15 kcals), 1 oz of fresh mozzarella cheese (70 kcals), 1 tablespoon of balsamic glaze (20 kcals), and fresh basil leaves (1 kcal) - Total: 106 kcals\\nSnack: 1 small peach (38 kcals) - Total: 38 kcals\\nDinner: Baked cod fillet (105 kcals) with 1/2 cup of roasted asparagus (25 kcals) and 1/4 cup of quinoa (56 kcals) - Total: 186 kcals\\nTotal for the day: 700 kcals\\n\\nDay 6:\\nBreakfast: Greek yogurt bowl with 1/2 cup of plain Greek yogurt (80 kcals), 1/4 cup of granola (100 kcals), and 1/4 cup of mixed berries (35 kcals) - Total: 215 kcals\\nSnack: 1 small apple (52 kcals) - Total: 52 kcals\\nLunch: Veggie wrap with 1 small whole wheat tortilla (80 kcals), 1/4 of an avocado (60 kcals), 1/4 cup of shredded lettuce (2 kcals), 1/4 cup of sliced cucumbers (4 kcals), and 1 tablespoon of hummus (35 kcals) - Total: 181 kcals\\nSnack: 1 hard-boiled egg (78 kcals) - Total: 78 kcals\\nDinner: Grilled chicken breast (142 kcals) with 1 cup of steamed broccoli (55 kcals) and 1/4 cup of cooked brown rice (55 kcals) - Total: 252 kcals\\nTotal for the day: 778 kcals\\n\\nDay 7:\\nBreakfast: Vegetable smoothie with 1 cup of spinach (7 kcals), 1/2 cup of unsweetened almond milk (15 kcals), 1/2 cup of chopped cucumbers (8 kcals), 1/2 cup of sliced zucchini (10 kcals), and 1/4 cup of diced pineapple (31 kcals) - Total: 71 kcals\\nSnack: 5 baby carrots (20 kcals) with 2 tablespoons of hummus (85 kcals) - Total: 105 kcals\\nLunch: Turkey and cheese roll-ups with 3 oz of sliced turkey breast (92 kcals), 1 slice of low-fat cheese (50 kcals), and 1/4 cup of baby spinach (7 kcals) - Total: 149 kcals\\nSnack: 1 small orange (45 kcals) - Total: 45 kcals\\nDinner: Baked salmon fillet (206 kcals) with 1/2 cup of roasted Brussels sprouts (28 kcals) and 1/4 cup of quinoa (56 kcals) - Total: 290 kcals\\nTotal for the day: 660 kcals\\n\\nDay 8:\\nBreakfast: Omelet muffins with 2 egg whites (34 kcals), 1/4 cup of diced bell peppers (9 kcals), 1/4 cup of diced onions (13 kcals), and 1/4 cup of baby spinach (4 kcals) - Total: 60 kcals\\nSnack: 1 small banana (90 kcals) - Total: 90 kcals\\nLunch: Chickpea salad with 1/2 cup of chickpeas (120 kcals), 1/4 cup of diced cucumbers (4 kcals), 1/4 cup of diced tomatoes (7 kcals), 1 tablespoon of lemon vinaigrette (24 kcals), and mixed greens (5 kcal) - Total: 160 kcals\\nSnack: Celery sticks with 2 tablespoons of almond butter (188 kcals) - Total: 188 kcals\\nDinner: Grilled chicken breast (142 kcals) with 1 cup of steamed broccoli (55 kcals) and 1/4 cup of cooked brown rice (55 kcals) - Total: 252 kcals\\nTotal for the day: 750 kcals\\n\\nDay 9:\\nBreakfast: Protein pancake with 1 scoop of protein powder (120 kcals), 1/2 banana (45 kcals), and 1/4 cup of unsweetened almond milk (8 kcals) - Total: 173 kcals\\nSnack: 1 small apple (52 kcals) - Total: 52 kcals\\nLunch: Caprese salad with 1/2 cup of cherry tomatoes (15 kcals), 1 oz of fresh mozzarella cheese (70 kcals), 1 tablespoon of balsamic glaze (20 kcals), and fresh basil leaves (1 kcal) - Total: 106 kcals\\nSnack: 1 hard-boiled egg (78 kcals) - Total: 78 kcals\\nDinner: Turkey meatballs with 3 oz of ground turkey (165 kcals), 1/4 cup of whole wheat breadcrumbs (30 kcals), 1/4 cup of marinara sauce (25 kcals), and 1/2 cup of zucchini noodles (17 kcals) - Total: 237 kcals\\nTotal for the day: 646 kcals\\n\\nDay 10:\\nBreakfast: Greek yogurt bowl with 1/2 cup of plain Greek yogurt (80 kcals), 1/4 cup of granola (100 kcals), and 1/4 cup of mixed berries (35 kcals) - Total: 215 kcals\\nSnack: 5 baby carrots (20 kcals) with 2 tablespoons of hummus (85 kcals) - Total: 105 kcals\\nLunch: Quinoa and black bean salad with 1/2 cup of cooked quinoa (111 kcals), 1/4 cup of black beans (55 kcals), 1/4 cup of diced bell peppers (9 kcals), 1/4 cup of diced tomatoes (7 kcals), and 1 tablespoon of lime vinaigrette (24 kcals) - Total: 206 kcals\\nSnack: 1 small orange (45 kcals) - Total: 45 kcals\\nDinner: Baked cod fillet (105 kcals) with 1/2 cup of roasted asparagus (25 kcals) and 1/4 cup of quinoa (56 kcals) - Total: 186 kcals\\nTotal for the day: 757 kcals\"\n",
       "      },\n",
       "      \"finish_reason\": \"stop\"\n",
       "    }\n",
       "  ],\n",
       "  \"usage\": {\n",
       "    \"prompt_tokens\": 54,\n",
       "    \"completion_tokens\": 11915,\n",
       "    \"total_tokens\": 11969\n",
       "  }\n",
       "}"
      ]
     },
     "execution_count": 34,
     "metadata": {},
     "output_type": "execute_result"
    }
   ],
   "source": [
    "response"
   ]
  },
  {
   "cell_type": "code",
   "execution_count": 32,
   "metadata": {},
   "outputs": [],
   "source": [
    "recipes = response[\"choices\"][0][\"message\"][\"content\"]"
   ]
  },
  {
   "cell_type": "code",
   "execution_count": 35,
   "metadata": {},
   "outputs": [],
   "source": [
    "with open(\"general_raw_recipes_10_days_1000.txt\", \"w\") as fp:\n",
    "    fp.writelines(recipes)"
   ]
  },
  {
   "cell_type": "code",
   "execution_count": 22,
   "metadata": {},
   "outputs": [
    {
     "name": "stdout",
     "output_type": "stream",
     "text": [
      "Recipe 1: Breakfast - Scrambled Egg Toast\n",
      "- 2 slices of whole wheat bread (160 calories)\n",
      "- 2 large eggs (140 calories)\n",
      "- 1/4 cup of chopped vegetables (20 calories)\n",
      "- Salt and pepper to taste\n",
      "- Non-stick cooking spray\n",
      "\n",
      "Instructions:\n",
      "1. Lightly coat a non-stick skillet with cooking spray and heat over medium heat.\n",
      "2. In a bowl, whisk the eggs together and season with salt and pepper.\n",
      "3. Add the chopped vegetables to the skillet and sauté for a couple of minutes until slightly softened.\n",
      "4. Pour the whisked eggs into the skillet and scramble them with the vegetables until fully cooked.\n",
      "5. Toast the bread slices and serve the scrambled eggs on top. Enjoy!\n",
      "\n",
      "Recipe 2: Snack - Greek Yogurt Parfait\n",
      "- 1 cup of plain Greek yogurt (130 calories)\n",
      "- 1/4 cup of granola (100 calories)\n",
      "- 1/2 cup of mixed berries (70 calories)\n",
      "- 1 teaspoon of honey (20 calories)\n",
      "\n",
      "Instructions:\n",
      "1. In a bowl or glass, start by layering half of the Greek yogurt.\n",
      "2. Add half of the granola on top of the yogurt.\n",
      "3. Layer half of the mixed berries on top of the granola.\n",
      "4. Repeat the layers with the remaining ingredients.\n",
      "5. Drizzle the honey on top and enjoy this nutritious and satisfying snack.\n",
      "\n",
      "Recipe 3: Lunch - Chicken and Vegetable Stir-Fry\n",
      "- 4 oz of boneless, skinless chicken breast (120 calories)\n",
      "- 1 cup of mixed vegetables (60 calories)\n",
      "- 2 teaspoons of low-sodium soy sauce (20 calories)\n",
      "- 1 teaspoon of sesame oil (40 calories)\n",
      "- 1 clove of garlic, minced\n",
      "- Salt and pepper to taste\n",
      "\n",
      "Instructions:\n",
      "1. In a non-stick skillet, heat the sesame oil over medium-high heat.\n",
      "2. Add the minced garlic and sauté for a minute until fragrant.\n",
      "3. Add the chicken breast and cook until browned and cooked through.\n",
      "4. Add the mixed vegetables and stir-fry for a few minutes until tender.\n",
      "5. Season with soy sauce, salt, and pepper. Serve hot.\n",
      "\n",
      "Recipe 4: Snack - Apple Slices with Peanut Butter\n",
      "- 1 small apple, sliced (65 calories)\n",
      "- 1 tablespoon of peanut butter (95 calories)\n",
      "\n",
      "Instructions:\n",
      "1. Wash and slice the apple into thin wedges.\n",
      "2. Spread the peanut butter on one side of each apple slice.\n",
      "3. Arrange the apple slices on a plate and enjoy this simple and healthy snack.\n",
      "\n",
      "Recipe 5: Dinner - Baked Lemon Herb Salmon\n",
      "- 4 oz of salmon fillet (280 calories)\n",
      "- 1 tablespoon of lemon juice (4 calories)\n",
      "- 1 teaspoon of olive oil (40 calories)\n",
      "- 1/2 teaspoon of dried herbs (such as dill, thyme, or parsley)\n",
      "- Salt and pepper to taste\n",
      "\n",
      "Instructions:\n",
      "1. Preheat the oven to 375°F (190°C).\n",
      "2. In a small bowl, mix together the lemon juice, olive oil, herbs, salt, and pepper.\n",
      "3. Place the salmon fillet on a baking sheet lined with parchment paper.\n",
      "4. Brush the lemon herb mixture over the salmon.\n",
      "5. Bake for 15-20 minutes or until the salmon is cooked through. Serve hot.\n",
      "\n",
      "..............................................................................................\n"
     ]
    }
   ],
   "source": [
    "print(recipes)"
   ]
  }
 ],
 "metadata": {
  "interpreter": {
   "hash": "66bbf4fa6c6f4d9b7980e4a2f72372316a7dd0cd9956aefbd48db4c89728009f"
  },
  "kernelspec": {
   "display_name": "Python 3.9.16 ('data_gen')",
   "language": "python",
   "name": "python3"
  },
  "language_info": {
   "codemirror_mode": {
    "name": "ipython",
    "version": 3
   },
   "file_extension": ".py",
   "mimetype": "text/x-python",
   "name": "python",
   "nbconvert_exporter": "python",
   "pygments_lexer": "ipython3",
   "version": "3.9.16"
  },
  "orig_nbformat": 4
 },
 "nbformat": 4,
 "nbformat_minor": 2
}
