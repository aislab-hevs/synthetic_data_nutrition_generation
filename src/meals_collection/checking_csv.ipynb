{
 "cells": [
  {
   "cell_type": "code",
   "execution_count": 1,
   "metadata": {},
   "outputs": [],
   "source": [
    "import pandas as pd \n",
    "import numpy as np \n",
    "import re\n",
    "from functools import partial\n",
    "from typing import List, Dict\n",
    "import json\n",
    "import os"
   ]
  },
  {
   "cell_type": "code",
   "execution_count": 132,
   "metadata": {},
   "outputs": [],
   "source": [
    "recipes_df = pd.read_csv(\"/home/victor/Documents/Expectation_data_generation/src/meals_collection/df_unique_recipes_6865.csv\", \n",
    "                         sep=\"|\")"
   ]
  },
  {
   "cell_type": "code",
   "execution_count": 133,
   "metadata": {},
   "outputs": [
    {
     "data": {
      "text/plain": [
       "2394"
      ]
     },
     "execution_count": 133,
     "metadata": {},
     "output_type": "execute_result"
    }
   ],
   "source": [
    "sum(recipes_df[\"calories\"].isna())"
   ]
  },
  {
   "cell_type": "code",
   "execution_count": 134,
   "metadata": {},
   "outputs": [
    {
     "name": "stdout",
     "output_type": "stream",
     "text": [
      "(2394, 9)\n"
     ]
    }
   ],
   "source": [
    "mask = recipes_df[\"calories\"].isna()\n",
    "calorie_completion = recipes_df.loc[mask, :]\n",
    "print(calorie_completion.shape)"
   ]
  },
  {
   "cell_type": "code",
   "execution_count": 135,
   "metadata": {},
   "outputs": [],
   "source": [
    "def extract_calories(text: str, pattern: str):\n",
    "    lower_text = text.lower()\n",
    "    # split the text \n",
    "    splits = lower_text.split(\"\\n\")\n",
    "    for split in splits:\n",
    "        result = re.findall(pattern, split)\n",
    "        if len(result) == 1:\n",
    "            return result[0]"
   ]
  },
  {
   "cell_type": "code",
   "execution_count": 108,
   "metadata": {},
   "outputs": [],
   "source": [
    "processing_function = partial(extract_calories, \n",
    "                              pattern=r\"calories per portion:|calories: (\\d+)\")"
   ]
  },
  {
   "cell_type": "code",
   "execution_count": 136,
   "metadata": {},
   "outputs": [],
   "source": [
    "temp_series = calorie_completion['raw_text'].apply(lambda x: processing_function(x))"
   ]
  },
  {
   "cell_type": "code",
   "execution_count": 138,
   "metadata": {},
   "outputs": [],
   "source": [
    "calorie_completion.loc[temp_series.index, 'calories'] = temp_series.values"
   ]
  },
  {
   "cell_type": "code",
   "execution_count": 139,
   "metadata": {},
   "outputs": [
    {
     "data": {
      "text/plain": [
       "599"
      ]
     },
     "execution_count": 139,
     "metadata": {},
     "output_type": "execute_result"
    }
   ],
   "source": [
    "sum(calorie_completion[\"calories\"].isna())"
   ]
  },
  {
   "cell_type": "code",
   "execution_count": 140,
   "metadata": {},
   "outputs": [],
   "source": [
    "second_processing = calorie_completion.loc[calorie_completion[\"calories\"].isna(), :]"
   ]
  },
  {
   "cell_type": "code",
   "execution_count": 144,
   "metadata": {},
   "outputs": [],
   "source": [
    "processing_function_v2 = partial(extract_calories, \n",
    "                              pattern=r\"(\\d+)\\s*kcal\")"
   ]
  },
  {
   "cell_type": "code",
   "execution_count": 145,
   "metadata": {},
   "outputs": [],
   "source": [
    "temp_series = second_processing['raw_text'].apply(lambda x: processing_function_v2(x))"
   ]
  },
  {
   "cell_type": "code",
   "execution_count": 146,
   "metadata": {},
   "outputs": [
    {
     "data": {
      "text/plain": [
       "0"
      ]
     },
     "execution_count": 146,
     "metadata": {},
     "output_type": "execute_result"
    }
   ],
   "source": [
    "sum(temp_series.isna())"
   ]
  },
  {
   "cell_type": "code",
   "execution_count": 147,
   "metadata": {},
   "outputs": [],
   "source": [
    "calorie_completion.loc[temp_series.index, 'calories'] = temp_series.values"
   ]
  },
  {
   "cell_type": "code",
   "execution_count": 149,
   "metadata": {},
   "outputs": [
    {
     "data": {
      "text/plain": [
       "0"
      ]
     },
     "execution_count": 149,
     "metadata": {},
     "output_type": "execute_result"
    }
   ],
   "source": [
    "sum(calorie_completion[\"calories\"].isna())"
   ]
  },
  {
   "cell_type": "code",
   "execution_count": 150,
   "metadata": {},
   "outputs": [],
   "source": [
    "recipes_df.loc[calorie_completion.index, \"calories\"] = calorie_completion.loc[:, \"calories\"]"
   ]
  },
  {
   "cell_type": "code",
   "execution_count": 151,
   "metadata": {},
   "outputs": [
    {
     "data": {
      "text/plain": [
       "0"
      ]
     },
     "execution_count": 151,
     "metadata": {},
     "output_type": "execute_result"
    }
   ],
   "source": [
    "sum(recipes_df[\"calories\"].isna())"
   ]
  },
  {
   "cell_type": "code",
   "execution_count": 152,
   "metadata": {},
   "outputs": [
    {
     "data": {
      "text/plain": [
       "0        70.0\n",
       "1       150.0\n",
       "2       200.0\n",
       "3       250.0\n",
       "4       300.0\n",
       "        ...  \n",
       "6860    450.0\n",
       "6861    350.0\n",
       "6862    420.0\n",
       "6863    480.0\n",
       "6864    350.0\n",
       "Name: calories, Length: 6865, dtype: object"
      ]
     },
     "execution_count": 152,
     "metadata": {},
     "output_type": "execute_result"
    }
   ],
   "source": [
    "recipes_df[\"calories\"]"
   ]
  },
  {
   "cell_type": "code",
   "execution_count": 153,
   "metadata": {},
   "outputs": [],
   "source": [
    "recipes_df.to_csv(\"reciped_fixed_calories.csv\", sep=\"|\", index=False)"
   ]
  },
  {
   "cell_type": "code",
   "execution_count": 154,
   "metadata": {},
   "outputs": [
    {
     "data": {
      "text/plain": [
       "153"
      ]
     },
     "execution_count": 154,
     "metadata": {},
     "output_type": "execute_result"
    }
   ],
   "source": [
    "# Fix the \n",
    "sum(recipes_df[\"ingredients\"].isna())"
   ]
  },
  {
   "cell_type": "code",
   "execution_count": 156,
   "metadata": {},
   "outputs": [],
   "source": [
    "def clean_titles(text:str):\n",
    "    value = text.split('\\n')[0]\n",
    "    return value"
   ]
  },
  {
   "cell_type": "code",
   "execution_count": 164,
   "metadata": {},
   "outputs": [],
   "source": [
    "recipes_df['title']=recipes_df['title'].apply(lambda x: clean_titles(x))"
   ]
  },
  {
   "cell_type": "code",
   "execution_count": 165,
   "metadata": {},
   "outputs": [],
   "source": [
    "unique_recipes = recipes_df['title'].unique()"
   ]
  },
  {
   "cell_type": "code",
   "execution_count": 166,
   "metadata": {},
   "outputs": [
    {
     "data": {
      "text/plain": [
       "6195"
      ]
     },
     "execution_count": 166,
     "metadata": {},
     "output_type": "execute_result"
    }
   ],
   "source": [
    "len(unique_recipes)"
   ]
  },
  {
   "cell_type": "code",
   "execution_count": 168,
   "metadata": {},
   "outputs": [
    {
     "data": {
      "text/plain": [
       "1"
      ]
     },
     "execution_count": 168,
     "metadata": {},
     "output_type": "execute_result"
    }
   ],
   "source": [
    "sum(recipes_df['title'] == 'Tofu Scramble')"
   ]
  },
  {
   "cell_type": "code",
   "execution_count": null,
   "metadata": {},
   "outputs": [],
   "source": [
    "# remove duplicates "
   ]
  },
  {
   "cell_type": "code",
   "execution_count": 169,
   "metadata": {},
   "outputs": [],
   "source": [
    "recipes_to_fix = recipes_df.loc[recipes_df[\"ingredients\"].isna(), \"title\"].tolist()"
   ]
  },
  {
   "cell_type": "code",
   "execution_count": 173,
   "metadata": {},
   "outputs": [],
   "source": [
    "with open(\"recipes_to_fix.json\", 'w') as fp:\n",
    "    json.dump(recipes_to_fix, fp)"
   ]
  },
  {
   "cell_type": "code",
   "execution_count": 175,
   "metadata": {},
   "outputs": [
    {
     "data": {
      "text/plain": [
       "(6865, 9)"
      ]
     },
     "execution_count": 175,
     "metadata": {},
     "output_type": "execute_result"
    }
   ],
   "source": [
    "recipes_df.shape"
   ]
  },
  {
   "cell_type": "code",
   "execution_count": 188,
   "metadata": {},
   "outputs": [],
   "source": [
    "def check_text(text: str, word_list:List[str]):\n",
    "    try:\n",
    "        lower_text = text.lower()\n",
    "        for word in word_list:\n",
    "            if word in lower_text:\n",
    "                return True\n",
    "        return False\n",
    "    except Exception as e:\n",
    "        print(f\"error in processing: {text}, {e}.\")\n",
    "        return False"
   ]
  },
  {
   "cell_type": "code",
   "execution_count": 189,
   "metadata": {},
   "outputs": [],
   "source": [
    "non_empty_recipes = recipes_df.loc[~recipes_df[\"ingredients\"].isna(), :]"
   ]
  },
  {
   "cell_type": "code",
   "execution_count": 190,
   "metadata": {},
   "outputs": [],
   "source": [
    "# check answers \n",
    "word_list = [\"apologies\", \"sorry\", \"apology\"]\n",
    "partial_check_text = partial(check_text, word_list=word_list)\n",
    "ans = non_empty_recipes[\"ingredients\"].apply(lambda x: partial_check_text(x))"
   ]
  },
  {
   "cell_type": "code",
   "execution_count": 191,
   "metadata": {},
   "outputs": [
    {
     "data": {
      "text/plain": [
       "20"
      ]
     },
     "execution_count": 191,
     "metadata": {},
     "output_type": "execute_result"
    }
   ],
   "source": [
    "sum(ans)"
   ]
  },
  {
   "cell_type": "code",
   "execution_count": 193,
   "metadata": {},
   "outputs": [],
   "source": [
    "bad_generated_recipes = non_empty_recipes.loc[ans, :] "
   ]
  },
  {
   "cell_type": "code",
   "execution_count": 194,
   "metadata": {},
   "outputs": [
    {
     "data": {
      "text/html": [
       "<div>\n",
       "<style scoped>\n",
       "    .dataframe tbody tr th:only-of-type {\n",
       "        vertical-align: middle;\n",
       "    }\n",
       "\n",
       "    .dataframe tbody tr th {\n",
       "        vertical-align: top;\n",
       "    }\n",
       "\n",
       "    .dataframe thead th {\n",
       "        text-align: right;\n",
       "    }\n",
       "</style>\n",
       "<table border=\"1\" class=\"dataframe\">\n",
       "  <thead>\n",
       "    <tr style=\"text-align: right;\">\n",
       "      <th></th>\n",
       "      <th>title</th>\n",
       "      <th>raw_text</th>\n",
       "      <th>meal_type</th>\n",
       "      <th>cultural_restriction</th>\n",
       "      <th>calories</th>\n",
       "      <th>allergies</th>\n",
       "      <th>recipeId</th>\n",
       "      <th>ingredients</th>\n",
       "      <th>preparation</th>\n",
       "    </tr>\n",
       "  </thead>\n",
       "  <tbody>\n",
       "    <tr>\n",
       "      <th>644</th>\n",
       "      <td>Vegan Banana Bread</td>\n",
       "      <td>12. Vegan Banana Bread\\n    Calories: 230 per ...</td>\n",
       "      <td>afternoon snacks</td>\n",
       "      <td>vegan</td>\n",
       "      <td>230</td>\n",
       "      <td>NaN</td>\n",
       "      <td>food_691</td>\n",
       "      <td>sorry, i am an ai language model and i don't h...</td>\n",
       "      <td>\\n1. preheat your oven to 350°f (175°c) and gr...</td>\n",
       "    </tr>\n",
       "    <tr>\n",
       "      <th>656</th>\n",
       "      <td>Vegan Granola Bars</td>\n",
       "      <td>24. Vegan Granola Bars\\n    Calories: 150 per ...</td>\n",
       "      <td>afternoon snacks</td>\n",
       "      <td>vegan</td>\n",
       "      <td>150</td>\n",
       "      <td>NaN</td>\n",
       "      <td>food_703</td>\n",
       "      <td>i'm sorry, but as a text-based ai, i can't dir...</td>\n",
       "      <td>\\n1. preheat your oven to 350°f (175°c) and li...</td>\n",
       "    </tr>\n",
       "    <tr>\n",
       "      <th>660</th>\n",
       "      <td>Chickpea Salad Wraps</td>\n",
       "      <td>28. Chickpea Salad Wraps\\n    Calories: 180 pe...</td>\n",
       "      <td>afternoon snacks</td>\n",
       "      <td>vegan</td>\n",
       "      <td>180</td>\n",
       "      <td>NaN</td>\n",
       "      <td>food_707</td>\n",
       "      <td>i'm sorry, but as an ai text model, i don't ha...</td>\n",
       "      <td>\\n1. in a medium bowl, mash the chickpeas roug...</td>\n",
       "    </tr>\n",
       "    <tr>\n",
       "      <th>715</th>\n",
       "      <td>Vegan Greek Salad Skewers</td>\n",
       "      <td>83. Vegan Greek Salad Skewers\\n    Calories: 2...</td>\n",
       "      <td>afternoon snacks</td>\n",
       "      <td>vegan</td>\n",
       "      <td>200</td>\n",
       "      <td>NaN</td>\n",
       "      <td>food_762</td>\n",
       "      <td>i'm sorry, as a language model ai, i don't hav...</td>\n",
       "      <td>\\n1. in a bowl, combine the olive oil, lemon j...</td>\n",
       "    </tr>\n",
       "    <tr>\n",
       "      <th>722</th>\n",
       "      <td>Vegan Quinoa Stuffed Bell Peppers</td>\n",
       "      <td>90. Vegan Quinoa Stuffed Bell Peppers\\n    Cal...</td>\n",
       "      <td>afternoon snacks</td>\n",
       "      <td>vegan</td>\n",
       "      <td>170</td>\n",
       "      <td>NaN</td>\n",
       "      <td>food_769</td>\n",
       "      <td>i'm sorry, but as an ai language model, i can'...</td>\n",
       "      <td>\\n1. preheat your oven to 375°f (190°c).\\n2. c...</td>\n",
       "    </tr>\n",
       "    <tr>\n",
       "      <th>724</th>\n",
       "      <td>Vegan Vegetable Fritters</td>\n",
       "      <td>92. Vegan Vegetable Fritters\\n    Calories: 13...</td>\n",
       "      <td>afternoon snacks</td>\n",
       "      <td>vegan</td>\n",
       "      <td>130</td>\n",
       "      <td>NaN</td>\n",
       "      <td>food_771</td>\n",
       "      <td>i'm sorry, but i'm unable to provide specific ...</td>\n",
       "      <td>\\n1. in a large mixing bowl, combine grated zu...</td>\n",
       "    </tr>\n",
       "    <tr>\n",
       "      <th>1251</th>\n",
       "      <td>Vegan Pho</td>\n",
       "      <td>20. Vegan Pho\\nCalories: 400 per portion\\nPort...</td>\n",
       "      <td>lunch</td>\n",
       "      <td>vegan</td>\n",
       "      <td>400</td>\n",
       "      <td>NaN</td>\n",
       "      <td>food_1338</td>\n",
       "      <td>i'm sorry, but as an ai language model, i don'...</td>\n",
       "      <td>\\n1. in a large pot, combine the vegetable bro...</td>\n",
       "    </tr>\n",
       "    <tr>\n",
       "      <th>2242</th>\n",
       "      <td>Quinoa and Roasted Vegetable Wrap</td>\n",
       "      <td>77. Quinoa and Roasted Vegetable Wrap\\nCalorie...</td>\n",
       "      <td>morning snacks</td>\n",
       "      <td>vegetarian</td>\n",
       "      <td>280</td>\n",
       "      <td>NaN</td>\n",
       "      <td>food_2492</td>\n",
       "      <td>i'm sorry, but i can't generate the ingredient...</td>\n",
       "      <td>\\n1. cook the quinoa according to package inst...</td>\n",
       "    </tr>\n",
       "    <tr>\n",
       "      <th>3681</th>\n",
       "      <td>Malaysian Roti Canai</td>\n",
       "      <td>29. Malaysian Roti Canai\\n    Calories: 400 pe...</td>\n",
       "      <td>breakfast</td>\n",
       "      <td>halal</td>\n",
       "      <td>400</td>\n",
       "      <td>NaN</td>\n",
       "      <td>food_4313</td>\n",
       "      <td>i'm sorry, but i'm unable to provide the calor...</td>\n",
       "      <td>\\n1. in a large bowl, mix together the flour a...</td>\n",
       "    </tr>\n",
       "    <tr>\n",
       "      <th>4907</th>\n",
       "      <td>Lemon garlic grilled shrimp</td>\n",
       "      <td>7. Lemon garlic grilled shrimp\\n- Calories: 10...</td>\n",
       "      <td>dinner</td>\n",
       "      <td>halal</td>\n",
       "      <td>100</td>\n",
       "      <td>NaN</td>\n",
       "      <td>food_5764</td>\n",
       "      <td>i'm sorry, but as a language model ai, i don't...</td>\n",
       "      <td>\\n1. in a bowl, combine the minced garlic, lem...</td>\n",
       "    </tr>\n",
       "    <tr>\n",
       "      <th>4909</th>\n",
       "      <td>Chicken and vegetable kabobs</td>\n",
       "      <td>9. Chicken and vegetable kabobs\\n- Calories: 2...</td>\n",
       "      <td>dinner</td>\n",
       "      <td>halal</td>\n",
       "      <td>250</td>\n",
       "      <td>NaN</td>\n",
       "      <td>food_5766</td>\n",
       "      <td>i'm sorry, but as an ai language model, i don'...</td>\n",
       "      <td>\\n1. cut the chicken breasts into bite-sized p...</td>\n",
       "    </tr>\n",
       "    <tr>\n",
       "      <th>4912</th>\n",
       "      <td>Lentil soup with bread</td>\n",
       "      <td>13. Lentil soup with bread\\n- Calories: 250 pe...</td>\n",
       "      <td>dinner</td>\n",
       "      <td>halal</td>\n",
       "      <td>250</td>\n",
       "      <td>NaN</td>\n",
       "      <td>food_5770</td>\n",
       "      <td>i'm sorry, but i cannot provide specific calor...</td>\n",
       "      <td>\\n1. rinse the lentils under cold water and dr...</td>\n",
       "    </tr>\n",
       "    <tr>\n",
       "      <th>4921</th>\n",
       "      <td>Chicken and vegetable stir</td>\n",
       "      <td>25. Chicken and vegetable stir-fry with noodle...</td>\n",
       "      <td>dinner</td>\n",
       "      <td>halal</td>\n",
       "      <td>400</td>\n",
       "      <td>NaN</td>\n",
       "      <td>food_5782</td>\n",
       "      <td>i'm sorry, but as an ai text-based model, i do...</td>\n",
       "      <td>\\n1. cook the noodles according to the package...</td>\n",
       "    </tr>\n",
       "    <tr>\n",
       "      <th>4928</th>\n",
       "      <td>Moroccan spiced roasted vegetables with couscous</td>\n",
       "      <td>32. Moroccan spiced roasted vegetables with co...</td>\n",
       "      <td>dinner</td>\n",
       "      <td>halal</td>\n",
       "      <td>300</td>\n",
       "      <td>NaN</td>\n",
       "      <td>food_5789</td>\n",
       "      <td>i'm sorry, but as a language model, i don't ha...</td>\n",
       "      <td>\\n1. preheat your oven to 425°f (220°c). line ...</td>\n",
       "    </tr>\n",
       "    <tr>\n",
       "      <th>4929</th>\n",
       "      <td>Honey glazed chicken with roasted sweet potatoes</td>\n",
       "      <td>33. Honey glazed chicken with roasted sweet po...</td>\n",
       "      <td>dinner</td>\n",
       "      <td>halal</td>\n",
       "      <td>400</td>\n",
       "      <td>NaN</td>\n",
       "      <td>food_5790</td>\n",
       "      <td>i'm sorry, but as a language model ai, i don't...</td>\n",
       "      <td>\\n1. preheat your oven to 425°f (220°c).\\n\\n2....</td>\n",
       "    </tr>\n",
       "    <tr>\n",
       "      <th>4931</th>\n",
       "      <td>Chicken enchilada casserole</td>\n",
       "      <td>35. Chicken enchilada casserole\\n- Calories: 3...</td>\n",
       "      <td>dinner</td>\n",
       "      <td>halal</td>\n",
       "      <td>350</td>\n",
       "      <td>NaN</td>\n",
       "      <td>food_5792</td>\n",
       "      <td>i'm sorry, but i cannot provide caloric inform...</td>\n",
       "      <td>\\n1. preheat the oven to 375°f (190°c).\\n2. in...</td>\n",
       "    </tr>\n",
       "    <tr>\n",
       "      <th>4945</th>\n",
       "      <td>Vegetarian pad see ew (thick rice noodles)</td>\n",
       "      <td>52. Vegetarian pad see ew (thick rice noodles)...</td>\n",
       "      <td>dinner</td>\n",
       "      <td>halal</td>\n",
       "      <td>350</td>\n",
       "      <td>NaN</td>\n",
       "      <td>food_5809</td>\n",
       "      <td>i'm sorry, but as an ai language model, i cann...</td>\n",
       "      <td>\\n\\n1. cook the rice noodles according to pack...</td>\n",
       "    </tr>\n",
       "    <tr>\n",
       "      <th>4967</th>\n",
       "      <td>Balsamic marinated grilled vegetables with cou...</td>\n",
       "      <td>74. Balsamic marinated grilled vegetables with...</td>\n",
       "      <td>dinner</td>\n",
       "      <td>halal</td>\n",
       "      <td>300</td>\n",
       "      <td>NaN</td>\n",
       "      <td>food_5831</td>\n",
       "      <td>i'm sorry, but i can't generate that recipe fo...</td>\n",
       "      <td>\\n1. in a large bowl, whisk together balsamic ...</td>\n",
       "    </tr>\n",
       "    <tr>\n",
       "      <th>4973</th>\n",
       "      <td>Grilled honey lime chicken with quinoa and veg...</td>\n",
       "      <td>80. Grilled honey lime chicken with quinoa and...</td>\n",
       "      <td>dinner</td>\n",
       "      <td>halal</td>\n",
       "      <td>400</td>\n",
       "      <td>NaN</td>\n",
       "      <td>food_5837</td>\n",
       "      <td>i'm sorry, but as a language model ai, i do no...</td>\n",
       "      <td>\\n1. in a small bowl, whisk together honey, li...</td>\n",
       "    </tr>\n",
       "    <tr>\n",
       "      <th>4974</th>\n",
       "      <td>Ratatouille with crusty bread</td>\n",
       "      <td>81. Ratatouille with crusty bread\\n- Calories:...</td>\n",
       "      <td>dinner</td>\n",
       "      <td>halal</td>\n",
       "      <td>350</td>\n",
       "      <td>NaN</td>\n",
       "      <td>food_5838</td>\n",
       "      <td>i'm sorry, but i'm an ai language model and i ...</td>\n",
       "      <td>\\n1. prepare the vegetables: cut the eggplant,...</td>\n",
       "    </tr>\n",
       "  </tbody>\n",
       "</table>\n",
       "</div>"
      ],
      "text/plain": [
       "                                                  title  \\\n",
       "644                                  Vegan Banana Bread   \n",
       "656                                  Vegan Granola Bars   \n",
       "660                                Chickpea Salad Wraps   \n",
       "715                           Vegan Greek Salad Skewers   \n",
       "722                   Vegan Quinoa Stuffed Bell Peppers   \n",
       "724                            Vegan Vegetable Fritters   \n",
       "1251                                          Vegan Pho   \n",
       "2242                  Quinoa and Roasted Vegetable Wrap   \n",
       "3681                               Malaysian Roti Canai   \n",
       "4907                        Lemon garlic grilled shrimp   \n",
       "4909                       Chicken and vegetable kabobs   \n",
       "4912                             Lentil soup with bread   \n",
       "4921                         Chicken and vegetable stir   \n",
       "4928   Moroccan spiced roasted vegetables with couscous   \n",
       "4929   Honey glazed chicken with roasted sweet potatoes   \n",
       "4931                        Chicken enchilada casserole   \n",
       "4945         Vegetarian pad see ew (thick rice noodles)   \n",
       "4967  Balsamic marinated grilled vegetables with cou...   \n",
       "4973  Grilled honey lime chicken with quinoa and veg...   \n",
       "4974                      Ratatouille with crusty bread   \n",
       "\n",
       "                                               raw_text         meal_type  \\\n",
       "644   12. Vegan Banana Bread\\n    Calories: 230 per ...  afternoon snacks   \n",
       "656   24. Vegan Granola Bars\\n    Calories: 150 per ...  afternoon snacks   \n",
       "660   28. Chickpea Salad Wraps\\n    Calories: 180 pe...  afternoon snacks   \n",
       "715   83. Vegan Greek Salad Skewers\\n    Calories: 2...  afternoon snacks   \n",
       "722   90. Vegan Quinoa Stuffed Bell Peppers\\n    Cal...  afternoon snacks   \n",
       "724   92. Vegan Vegetable Fritters\\n    Calories: 13...  afternoon snacks   \n",
       "1251  20. Vegan Pho\\nCalories: 400 per portion\\nPort...             lunch   \n",
       "2242  77. Quinoa and Roasted Vegetable Wrap\\nCalorie...    morning snacks   \n",
       "3681  29. Malaysian Roti Canai\\n    Calories: 400 pe...         breakfast   \n",
       "4907  7. Lemon garlic grilled shrimp\\n- Calories: 10...            dinner   \n",
       "4909  9. Chicken and vegetable kabobs\\n- Calories: 2...            dinner   \n",
       "4912  13. Lentil soup with bread\\n- Calories: 250 pe...            dinner   \n",
       "4921  25. Chicken and vegetable stir-fry with noodle...            dinner   \n",
       "4928  32. Moroccan spiced roasted vegetables with co...            dinner   \n",
       "4929  33. Honey glazed chicken with roasted sweet po...            dinner   \n",
       "4931  35. Chicken enchilada casserole\\n- Calories: 3...            dinner   \n",
       "4945  52. Vegetarian pad see ew (thick rice noodles)...            dinner   \n",
       "4967  74. Balsamic marinated grilled vegetables with...            dinner   \n",
       "4973  80. Grilled honey lime chicken with quinoa and...            dinner   \n",
       "4974  81. Ratatouille with crusty bread\\n- Calories:...            dinner   \n",
       "\n",
       "     cultural_restriction calories allergies   recipeId  \\\n",
       "644                 vegan      230       NaN   food_691   \n",
       "656                 vegan      150       NaN   food_703   \n",
       "660                 vegan      180       NaN   food_707   \n",
       "715                 vegan      200       NaN   food_762   \n",
       "722                 vegan      170       NaN   food_769   \n",
       "724                 vegan      130       NaN   food_771   \n",
       "1251                vegan      400       NaN  food_1338   \n",
       "2242           vegetarian      280       NaN  food_2492   \n",
       "3681                halal      400       NaN  food_4313   \n",
       "4907                halal      100       NaN  food_5764   \n",
       "4909                halal      250       NaN  food_5766   \n",
       "4912                halal      250       NaN  food_5770   \n",
       "4921                halal      400       NaN  food_5782   \n",
       "4928                halal      300       NaN  food_5789   \n",
       "4929                halal      400       NaN  food_5790   \n",
       "4931                halal      350       NaN  food_5792   \n",
       "4945                halal      350       NaN  food_5809   \n",
       "4967                halal      300       NaN  food_5831   \n",
       "4973                halal      400       NaN  food_5837   \n",
       "4974                halal      350       NaN  food_5838   \n",
       "\n",
       "                                            ingredients  \\\n",
       "644   sorry, i am an ai language model and i don't h...   \n",
       "656   i'm sorry, but as a text-based ai, i can't dir...   \n",
       "660   i'm sorry, but as an ai text model, i don't ha...   \n",
       "715   i'm sorry, as a language model ai, i don't hav...   \n",
       "722   i'm sorry, but as an ai language model, i can'...   \n",
       "724   i'm sorry, but i'm unable to provide specific ...   \n",
       "1251  i'm sorry, but as an ai language model, i don'...   \n",
       "2242  i'm sorry, but i can't generate the ingredient...   \n",
       "3681  i'm sorry, but i'm unable to provide the calor...   \n",
       "4907  i'm sorry, but as a language model ai, i don't...   \n",
       "4909  i'm sorry, but as an ai language model, i don'...   \n",
       "4912  i'm sorry, but i cannot provide specific calor...   \n",
       "4921  i'm sorry, but as an ai text-based model, i do...   \n",
       "4928  i'm sorry, but as a language model, i don't ha...   \n",
       "4929  i'm sorry, but as a language model ai, i don't...   \n",
       "4931  i'm sorry, but i cannot provide caloric inform...   \n",
       "4945  i'm sorry, but as an ai language model, i cann...   \n",
       "4967  i'm sorry, but i can't generate that recipe fo...   \n",
       "4973  i'm sorry, but as a language model ai, i do no...   \n",
       "4974  i'm sorry, but i'm an ai language model and i ...   \n",
       "\n",
       "                                            preparation  \n",
       "644   \\n1. preheat your oven to 350°f (175°c) and gr...  \n",
       "656   \\n1. preheat your oven to 350°f (175°c) and li...  \n",
       "660   \\n1. in a medium bowl, mash the chickpeas roug...  \n",
       "715   \\n1. in a bowl, combine the olive oil, lemon j...  \n",
       "722   \\n1. preheat your oven to 375°f (190°c).\\n2. c...  \n",
       "724   \\n1. in a large mixing bowl, combine grated zu...  \n",
       "1251  \\n1. in a large pot, combine the vegetable bro...  \n",
       "2242  \\n1. cook the quinoa according to package inst...  \n",
       "3681  \\n1. in a large bowl, mix together the flour a...  \n",
       "4907  \\n1. in a bowl, combine the minced garlic, lem...  \n",
       "4909  \\n1. cut the chicken breasts into bite-sized p...  \n",
       "4912  \\n1. rinse the lentils under cold water and dr...  \n",
       "4921  \\n1. cook the noodles according to the package...  \n",
       "4928  \\n1. preheat your oven to 425°f (220°c). line ...  \n",
       "4929  \\n1. preheat your oven to 425°f (220°c).\\n\\n2....  \n",
       "4931  \\n1. preheat the oven to 375°f (190°c).\\n2. in...  \n",
       "4945  \\n\\n1. cook the rice noodles according to pack...  \n",
       "4967  \\n1. in a large bowl, whisk together balsamic ...  \n",
       "4973  \\n1. in a small bowl, whisk together honey, li...  \n",
       "4974  \\n1. prepare the vegetables: cut the eggplant,...  "
      ]
     },
     "execution_count": 194,
     "metadata": {},
     "output_type": "execute_result"
    }
   ],
   "source": [
    "bad_generated_recipes"
   ]
  },
  {
   "cell_type": "code",
   "execution_count": 196,
   "metadata": {},
   "outputs": [],
   "source": [
    "# titles to generate again \n",
    "titles_to_check = bad_generated_recipes[\"title\"].tolist()"
   ]
  },
  {
   "cell_type": "code",
   "execution_count": 199,
   "metadata": {},
   "outputs": [],
   "source": [
    "with open(\"recipes_to_fix_2.json\", 'w') as fp:\n",
    "    json.dump(titles_to_check, fp)"
   ]
  },
  {
   "cell_type": "markdown",
   "metadata": {},
   "source": [
    "## Process additional recipes "
   ]
  },
  {
   "cell_type": "code",
   "execution_count": 200,
   "metadata": {},
   "outputs": [],
   "source": [
    "# load dictionaries \n",
    "base_path = \"/home/victor/Documents/Expectation_data_generation/\"\n",
    "dict_1 = \"missing_recipes_ingredients_raw.json\"\n",
    "dict_2 = \"missing_recipes_ingredients_raw_2.json\"\n"
   ]
  },
  {
   "cell_type": "code",
   "execution_count": 202,
   "metadata": {},
   "outputs": [],
   "source": [
    "# process dictionary \n",
    "def load_data_row(path:str):\n",
    "    data = None\n",
    "    with open(path, 'r') as fp:\n",
    "        data = json.load(fp)\n",
    "    if data is not None:\n",
    "        return data\n",
    "    else:\n",
    "        return None"
   ]
  },
  {
   "cell_type": "code",
   "execution_count": 203,
   "metadata": {},
   "outputs": [],
   "source": [
    "data_row_20 = load_data_row(os.path.join(base_path, dict_2))"
   ]
  },
  {
   "cell_type": "code",
   "execution_count": 359,
   "metadata": {},
   "outputs": [],
   "source": [
    "data_raw_153 = load_data_row(os.path.join(base_path, dict_1))"
   ]
  },
  {
   "cell_type": "code",
   "execution_count": 361,
   "metadata": {},
   "outputs": [],
   "source": [
    "need_to_query_again = []\n",
    "for k,v in data_raw_153.items():\n",
    "    if len(v) < 5:\n",
    "        need_to_query_again.append(k)"
   ]
  },
  {
   "cell_type": "code",
   "execution_count": 362,
   "metadata": {},
   "outputs": [
    {
     "data": {
      "text/plain": [
       "['Vegan Gyoza']"
      ]
     },
     "execution_count": 362,
     "metadata": {},
     "output_type": "execute_result"
    }
   ],
   "source": [
    "need_to_query_again"
   ]
  },
  {
   "cell_type": "code",
   "execution_count": 366,
   "metadata": {},
   "outputs": [
    {
     "data": {
      "text/plain": [
       "151"
      ]
     },
     "execution_count": 366,
     "metadata": {},
     "output_type": "execute_result"
    }
   ],
   "source": [
    "len(data_raw_153)"
   ]
  },
  {
   "cell_type": "code",
   "execution_count": 207,
   "metadata": {},
   "outputs": [],
   "source": [
    "# extract the information \n"
   ]
  },
  {
   "cell_type": "code",
   "execution_count": 219,
   "metadata": {},
   "outputs": [],
   "source": [
    "def extract_ingredients(text: str, \n",
    "                        pattern: str= r'ingredients:([\\s\\S]*?)(?=\\*\\*preparation steps\\:)'):\n",
    "    lower_text = text.lower()\n",
    "    ingredients =  re.findall(pattern, \n",
    "                              lower_text, re.IGNORECASE)\n",
    "    if len(ingredients) == 1:\n",
    "        return ingredients[0]\n",
    "    else:\n",
    "        return None"
   ]
  },
  {
   "cell_type": "code",
   "execution_count": 220,
   "metadata": {},
   "outputs": [],
   "source": [
    "def generate_ingredients(dict_raw_text: Dict[str, str], \n",
    "                         pattern: str = r'ingredients:([\\s\\S]*?)(?=\\*\\*preparation steps\\:)'):\n",
    "    answer_dict = {}\n",
    "    for k, v in dict_raw_text.items():\n",
    "        ingredients = extract_ingredients(v, \n",
    "                                          pattern=pattern)\n",
    "        if ingredients:\n",
    "            answer_dict[k] = ingredients\n",
    "    return answer_dict"
   ]
  },
  {
   "cell_type": "code",
   "execution_count": 388,
   "metadata": {},
   "outputs": [],
   "source": [
    "ingredients_dict_1 = generate_ingredients(data_raw_153, \n",
    "                                          pattern=r'Ingredients([\\s\\S]*)(?=Preparation|Instructions)')"
   ]
  },
  {
   "cell_type": "code",
   "execution_count": 389,
   "metadata": {},
   "outputs": [
    {
     "data": {
      "text/plain": [
       "147"
      ]
     },
     "execution_count": 389,
     "metadata": {},
     "output_type": "execute_result"
    }
   ],
   "source": [
    "len(ingredients_dict_1)"
   ]
  },
  {
   "cell_type": "code",
   "execution_count": 390,
   "metadata": {},
   "outputs": [],
   "source": [
    "second_processing_dict = {k:v for k,v in data_raw_153.items() if k not in ingredients_dict_1.keys()}"
   ]
  },
  {
   "cell_type": "code",
   "execution_count": 392,
   "metadata": {},
   "outputs": [
    {
     "data": {
      "text/plain": [
       "4"
      ]
     },
     "execution_count": 392,
     "metadata": {},
     "output_type": "execute_result"
    }
   ],
   "source": [
    "len(second_processing_dict)"
   ]
  },
  {
   "cell_type": "code",
   "execution_count": 393,
   "metadata": {},
   "outputs": [
    {
     "name": "stdout",
     "output_type": "stream",
     "text": [
      "['Bean Burritos', 'Tofu Stir Fry', 'Grilled Eggplant Rolls', 'Roasted Vegetable and Goat Cheese Pizza']\n"
     ]
    }
   ],
   "source": [
    "print(list(second_processing_dict.keys()))"
   ]
  },
  {
   "cell_type": "code",
   "execution_count": 406,
   "metadata": {},
   "outputs": [],
   "source": [
    "ingredients_dict_2 =  generate_ingredients(second_processing_dict, \n",
    "                                          pattern=r'Ingredient List:([\\s\\S]*)(?=Preparation Steps:)')"
   ]
  },
  {
   "cell_type": "code",
   "execution_count": 409,
   "metadata": {},
   "outputs": [
    {
     "data": {
      "text/plain": [
       "4"
      ]
     },
     "execution_count": 409,
     "metadata": {},
     "output_type": "execute_result"
    }
   ],
   "source": [
    "len(ingredients_dict_2)"
   ]
  },
  {
   "cell_type": "code",
   "execution_count": 410,
   "metadata": {},
   "outputs": [],
   "source": [
    "ingredients_dict_1.update(ingredients_dict_2)"
   ]
  },
  {
   "cell_type": "code",
   "execution_count": 412,
   "metadata": {},
   "outputs": [
    {
     "data": {
      "text/plain": [
       "151"
      ]
     },
     "execution_count": 412,
     "metadata": {},
     "output_type": "execute_result"
    }
   ],
   "source": [
    "len(ingredients_dict_1)"
   ]
  },
  {
   "cell_type": "code",
   "execution_count": 413,
   "metadata": {},
   "outputs": [],
   "source": [
    "#second_processing_dict = {k: v for k, v in second_processing_dict.items() if k not in list(ingredients_dict_5.keys())}"
   ]
  },
  {
   "cell_type": "code",
   "execution_count": 414,
   "metadata": {},
   "outputs": [
    {
     "name": "stdout",
     "output_type": "stream",
     "text": [
      "4\n"
     ]
    }
   ],
   "source": [
    "list_keys = list(second_processing_dict.keys())\n",
    "print(len(list_keys))"
   ]
  },
  {
   "cell_type": "code",
   "execution_count": 417,
   "metadata": {},
   "outputs": [
    {
     "data": {
      "text/plain": [
       "['Bean Burritos',\n",
       " 'Tofu Stir Fry',\n",
       " 'Grilled Eggplant Rolls',\n",
       " 'Roasted Vegetable and Goat Cheese Pizza']"
      ]
     },
     "execution_count": 417,
     "metadata": {},
     "output_type": "execute_result"
    }
   ],
   "source": [
    "list_keys"
   ]
  },
  {
   "cell_type": "code",
   "execution_count": 283,
   "metadata": {},
   "outputs": [],
   "source": [
    "#ingredients_total_dict = {}\n",
    "#len(ingredients_total_dict)"
   ]
  },
  {
   "cell_type": "code",
   "execution_count": 418,
   "metadata": {},
   "outputs": [],
   "source": [
    "# ingredients_total_dict['Ratatouille with crusty bread'] = \"\"\"\n",
    "# For the Ratatouille:\n",
    "\n",
    "# 1 large eggplant\n",
    "# 2 medium zucchini\n",
    "# 2 red bell peppers\n",
    "# 2 yellow bell peppers\n",
    "# 2 onions\n",
    "# 4 cloves garlic\n",
    "# 4 ripe tomatoes\n",
    "# 1/4 cup olive oil\n",
    "# 2 teaspoons dried thyme\n",
    "# 2 teaspoons dried basil\n",
    "# Salt and pepper to taste\n",
    "# Fresh basil leaves for garnish (optional)\n",
    "# For the Crusty Bread:\n",
    "\n",
    "# 1 loaf of crusty bread (such as baguette)\n",
    "# \"\"\""
   ]
  },
  {
   "cell_type": "markdown",
   "metadata": {},
   "source": [
    "## Process the preparation steps "
   ]
  },
  {
   "cell_type": "code",
   "execution_count": 419,
   "metadata": {},
   "outputs": [],
   "source": [
    "preparation_steps_dict = {}"
   ]
  },
  {
   "cell_type": "code",
   "execution_count": 301,
   "metadata": {},
   "outputs": [],
   "source": [
    "# preparation_steps_dict['Ratatouille with crusty bread'] = \"\"\"\n",
    "# 1. Prepare the Vegetables:\n",
    "\n",
    "# * Wash and peel the eggplant, if desired. Cut it into 1-inch cubes.\n",
    "# * Wash the zucchini and cut them into 1-inch thick slices.\n",
    "# * Core and seed the bell peppers, then cut them into 1-inch strips.\n",
    "# * Peel and chop the onions.\n",
    "# * Peel and mince the garlic.\n",
    "# * Blanch the tomatoes in boiling water for about 1-2 minutes, then transfer them to ice water to cool. This will make it easier to peel them. Remove the skins, core, and chop the tomatoes.\n",
    "# 2. Sauté the Vegetables:\n",
    "\n",
    "# * In a large, deep skillet or a Dutch oven, heat the olive oil over medium heat.\n",
    "# * Add the chopped onions and minced garlic and sauté for about 2-3 minutes, until they become translucent.\n",
    "# 3. Add the Vegetables:\n",
    "\n",
    "# * Add the eggplant cubes to the skillet and cook for about 5 minutes, stirring occasionally.\n",
    "# * Next, add the zucchini and bell peppers, and continue to cook for another 5 minutes.\n",
    "# 4. Season and Simmer:\n",
    "\n",
    "# * Stir in the chopped tomatoes, dried thyme, dried basil, salt, and pepper.\n",
    "# * Reduce the heat to low, cover the skillet, and simmer the mixture for about 30-40 minutes, or until the vegetables are tender and the flavors have melded together. Stir occasionally.\n",
    "\n",
    "# 5. Prepare the Crusty Bread:\n",
    "\n",
    "# * While the Ratatouille is simmering, preheat your oven to 350°F (175°C).\n",
    "# * Slice the crusty bread into thick slices and place them on a baking sheet.\n",
    "# * Toast the bread in the oven for about 10-15 minutes, or until it's crusty and slightly golden.\n",
    "# 6. Serve:\n",
    "\n",
    "# * Once the Ratatouille is ready, taste and adjust the seasoning if needed.\n",
    "# * Serve the Ratatouille hot, garnished with fresh basil leaves if desired, alongside the crusty bread.\n",
    "# Enjoy your delicious homemade Ratatouille with crusty bread! It's a hearty and satisfying dish that's perfect for any time of the year.\n",
    "# \"\"\""
   ]
  },
  {
   "cell_type": "code",
   "execution_count": null,
   "metadata": {},
   "outputs": [],
   "source": [
    "# get the rest o the procedures "
   ]
  },
  {
   "cell_type": "code",
   "execution_count": 425,
   "metadata": {},
   "outputs": [
    {
     "name": "stdout",
     "output_type": "stream",
     "text": [
      "151\n"
     ]
    }
   ],
   "source": [
    "list_keys = list(data_raw_153.keys())\n",
    "print(len(list_keys))"
   ]
  },
  {
   "cell_type": "code",
   "execution_count": 421,
   "metadata": {},
   "outputs": [],
   "source": [
    "def get_preparation_instructions(text:str, pattern: str):\n",
    "    lower_text = text.lower()\n",
    "    instructions = re.findall(pattern, lower_text, re.IGNORECASE)\n",
    "    if len(instructions) == 1:\n",
    "        return instructions[0]\n",
    "    else:\n",
    "        return None \n",
    "    "
   ]
  },
  {
   "cell_type": "code",
   "execution_count": 422,
   "metadata": {},
   "outputs": [],
   "source": [
    "def get_dict_preparation_steps(raw_dict: Dict[str, str], pattern: str):\n",
    "    new_dict = {}\n",
    "    for k, v in raw_dict.items():\n",
    "        result = get_preparation_instructions(v, pattern=pattern)\n",
    "        if result:\n",
    "            new_dict[k] = result\n",
    "    return new_dict"
   ]
  },
  {
   "cell_type": "code",
   "execution_count": 433,
   "metadata": {},
   "outputs": [],
   "source": [
    "preparation_steps_1 = get_dict_preparation_steps(data_raw_153, \n",
    "                                                 pattern='Preparation Steps([\\s\\S]*)')"
   ]
  },
  {
   "cell_type": "code",
   "execution_count": 434,
   "metadata": {},
   "outputs": [
    {
     "data": {
      "text/plain": [
       "147"
      ]
     },
     "execution_count": 434,
     "metadata": {},
     "output_type": "execute_result"
    }
   ],
   "source": [
    "len(preparation_steps_1)"
   ]
  },
  {
   "cell_type": "code",
   "execution_count": 435,
   "metadata": {},
   "outputs": [],
   "source": [
    "second_revision = {k: v for k, v in data_raw_153.items() if k not in preparation_steps_1.keys()}"
   ]
  },
  {
   "cell_type": "code",
   "execution_count": 449,
   "metadata": {},
   "outputs": [],
   "source": [
    "preparation_steps_3 = get_dict_preparation_steps(second_revision, \n",
    "                                                 pattern='Preparation([\\s\\S]*)')"
   ]
  },
  {
   "cell_type": "code",
   "execution_count": 450,
   "metadata": {},
   "outputs": [],
   "source": [
    "preparation_steps_1.update(preparation_steps_3)"
   ]
  },
  {
   "cell_type": "code",
   "execution_count": 451,
   "metadata": {},
   "outputs": [
    {
     "name": "stdout",
     "output_type": "stream",
     "text": [
      "151\n"
     ]
    }
   ],
   "source": [
    "print(len(preparation_steps_1))"
   ]
  },
  {
   "cell_type": "code",
   "execution_count": 452,
   "metadata": {},
   "outputs": [],
   "source": [
    "# transform in data frame \n",
    "preparation_df = pd.DataFrame(preparation_steps_1.items(), \n",
    "                              columns=[\"title\", \"preparation_steps\"])"
   ]
  },
  {
   "cell_type": "code",
   "execution_count": 453,
   "metadata": {},
   "outputs": [],
   "source": [
    "preparation_df.set_index(\"title\", inplace=True)"
   ]
  },
  {
   "cell_type": "code",
   "execution_count": 455,
   "metadata": {},
   "outputs": [],
   "source": [
    "# transform in data frame ingredients \n",
    "ingredients_df = pd.DataFrame(ingredients_dict_1.items(), \n",
    "                              columns=[\"title\", 'ingredients'])"
   ]
  },
  {
   "cell_type": "code",
   "execution_count": 456,
   "metadata": {},
   "outputs": [],
   "source": [
    "ingredients_df.set_index('title', inplace=True)"
   ]
  },
  {
   "cell_type": "code",
   "execution_count": 457,
   "metadata": {},
   "outputs": [
    {
     "data": {
      "text/plain": [
       "151"
      ]
     },
     "execution_count": 457,
     "metadata": {},
     "output_type": "execute_result"
    }
   ],
   "source": [
    "len(ingredients_dict_1)"
   ]
  },
  {
   "cell_type": "code",
   "execution_count": 458,
   "metadata": {},
   "outputs": [],
   "source": [
    "new_recipes_df = ingredients_df.join(preparation_df)"
   ]
  },
  {
   "cell_type": "code",
   "execution_count": 459,
   "metadata": {},
   "outputs": [
    {
     "data": {
      "text/html": [
       "<div>\n",
       "<style scoped>\n",
       "    .dataframe tbody tr th:only-of-type {\n",
       "        vertical-align: middle;\n",
       "    }\n",
       "\n",
       "    .dataframe tbody tr th {\n",
       "        vertical-align: top;\n",
       "    }\n",
       "\n",
       "    .dataframe thead th {\n",
       "        text-align: right;\n",
       "    }\n",
       "</style>\n",
       "<table border=\"1\" class=\"dataframe\">\n",
       "  <thead>\n",
       "    <tr style=\"text-align: right;\">\n",
       "      <th></th>\n",
       "      <th>ingredients</th>\n",
       "      <th>preparation_steps</th>\n",
       "    </tr>\n",
       "    <tr>\n",
       "      <th>title</th>\n",
       "      <th></th>\n",
       "      <th></th>\n",
       "    </tr>\n",
       "  </thead>\n",
       "  <tbody>\n",
       "    <tr>\n",
       "      <th>Tofu Scramble</th>\n",
       "      <td>and preparation steps:\\n\\ningredients:\\n- 1 b...</td>\n",
       "      <td>:\\n\\ningredients:\\n- 1 block (14 to 16 oz) of ...</td>\n",
       "    </tr>\n",
       "    <tr>\n",
       "      <th>Vegan Breakfast Bars</th>\n",
       "      <td>:\\n- 2 cups rolled oats\\n- 1/2 cup almonds, ch...</td>\n",
       "      <td>:\\n1. preheat your oven to 350°f (175°c). line...</td>\n",
       "    </tr>\n",
       "    <tr>\n",
       "      <th>Vegan Waffles with Fruit Compote</th>\n",
       "      <td>:\\n- 2 cups all-purpose flour or whole wheat f...</td>\n",
       "      <td>.\\n2. in a large mixing bowl, whisk together t...</td>\n",
       "    </tr>\n",
       "    <tr>\n",
       "      <th>Berry Quinoa Breakfast Bowl</th>\n",
       "      <td>:**\\n\\nfor the breakfast bowl:\\n- 1 cup uncook...</td>\n",
       "      <td>:**\\n\\n1. **rinse the quinoa**: in a fine mesh...</td>\n",
       "    </tr>\n",
       "    <tr>\n",
       "      <th>Vegan Protein Pancakes</th>\n",
       "      <td>that are high in protein. this recipe will ma...</td>\n",
       "      <td>:\\n1. **dry ingredients preparation**: in a la...</td>\n",
       "    </tr>\n",
       "    <tr>\n",
       "      <th>...</th>\n",
       "      <td>...</td>\n",
       "      <td>...</td>\n",
       "    </tr>\n",
       "    <tr>\n",
       "      <th>Stuffed Portobello mushrooms with quinoa and feta</th>\n",
       "      <td>:\\n- 4 large portobello mushrooms, stems and g...</td>\n",
       "      <td>:\\n\\n1. preheat the oven to 375°f (190°c). lin...</td>\n",
       "    </tr>\n",
       "    <tr>\n",
       "      <th>Bean Burritos</th>\n",
       "      <td>\\n- 1 cup of cooked and drained black beans (o...</td>\n",
       "      <td>:\\n\\n1. prepare the beans:\\n   - if you're usi...</td>\n",
       "    </tr>\n",
       "    <tr>\n",
       "      <th>Tofu Stir Fry</th>\n",
       "      <td>\\n\\n- **firm tofu:** 1 block (around 14 ounces...</td>\n",
       "      <td>:\\n\\n1. **press the tofu:** remove the tofu fr...</td>\n",
       "    </tr>\n",
       "    <tr>\n",
       "      <th>Grilled Eggplant Rolls</th>\n",
       "      <td>\\n- 2 large eggplants, cut lengthwise into 1/4...</td>\n",
       "      <td>:\\n1. **preheat grill or grill pan:** preheat ...</td>\n",
       "    </tr>\n",
       "    <tr>\n",
       "      <th>Roasted Vegetable and Goat Cheese Pizza</th>\n",
       "      <td>\\n\\n- 1 pizza dough (store-bought or homemade)...</td>\n",
       "      <td>:\\n\\n1. **preheat oven and prep vegetables**:\\...</td>\n",
       "    </tr>\n",
       "  </tbody>\n",
       "</table>\n",
       "<p>151 rows × 2 columns</p>\n",
       "</div>"
      ],
      "text/plain": [
       "                                                                                         ingredients  \\\n",
       "title                                                                                                  \n",
       "Tofu Scramble                                       and preparation steps:\\n\\ningredients:\\n- 1 b...   \n",
       "Vegan Breakfast Bars                               :\\n- 2 cups rolled oats\\n- 1/2 cup almonds, ch...   \n",
       "Vegan Waffles with Fruit Compote                   :\\n- 2 cups all-purpose flour or whole wheat f...   \n",
       "Berry Quinoa Breakfast Bowl                        :**\\n\\nfor the breakfast bowl:\\n- 1 cup uncook...   \n",
       "Vegan Protein Pancakes                              that are high in protein. this recipe will ma...   \n",
       "...                                                                                              ...   \n",
       "Stuffed Portobello mushrooms with quinoa and feta  :\\n- 4 large portobello mushrooms, stems and g...   \n",
       "Bean Burritos                                      \\n- 1 cup of cooked and drained black beans (o...   \n",
       "Tofu Stir Fry                                      \\n\\n- **firm tofu:** 1 block (around 14 ounces...   \n",
       "Grilled Eggplant Rolls                             \\n- 2 large eggplants, cut lengthwise into 1/4...   \n",
       "Roasted Vegetable and Goat Cheese Pizza            \\n\\n- 1 pizza dough (store-bought or homemade)...   \n",
       "\n",
       "                                                                                   preparation_steps  \n",
       "title                                                                                                 \n",
       "Tofu Scramble                                      :\\n\\ningredients:\\n- 1 block (14 to 16 oz) of ...  \n",
       "Vegan Breakfast Bars                               :\\n1. preheat your oven to 350°f (175°c). line...  \n",
       "Vegan Waffles with Fruit Compote                   .\\n2. in a large mixing bowl, whisk together t...  \n",
       "Berry Quinoa Breakfast Bowl                        :**\\n\\n1. **rinse the quinoa**: in a fine mesh...  \n",
       "Vegan Protein Pancakes                             :\\n1. **dry ingredients preparation**: in a la...  \n",
       "...                                                                                              ...  \n",
       "Stuffed Portobello mushrooms with quinoa and feta  :\\n\\n1. preheat the oven to 375°f (190°c). lin...  \n",
       "Bean Burritos                                      :\\n\\n1. prepare the beans:\\n   - if you're usi...  \n",
       "Tofu Stir Fry                                      :\\n\\n1. **press the tofu:** remove the tofu fr...  \n",
       "Grilled Eggplant Rolls                             :\\n1. **preheat grill or grill pan:** preheat ...  \n",
       "Roasted Vegetable and Goat Cheese Pizza            :\\n\\n1. **preheat oven and prep vegetables**:\\...  \n",
       "\n",
       "[151 rows x 2 columns]"
      ]
     },
     "execution_count": 459,
     "metadata": {},
     "output_type": "execute_result"
    }
   ],
   "source": [
    "new_recipes_df"
   ]
  },
  {
   "cell_type": "code",
   "execution_count": 463,
   "metadata": {},
   "outputs": [],
   "source": [
    "# load previous data frame \n",
    "recipes_20 = pd.read_csv(\"new_recipes_fixed_20.csv\", sep='|', index_col=0)"
   ]
  },
  {
   "cell_type": "code",
   "execution_count": 466,
   "metadata": {},
   "outputs": [],
   "source": [
    "fixed_recipes = pd.concat([new_recipes_df, recipes_20], axis=0)"
   ]
  },
  {
   "cell_type": "code",
   "execution_count": 470,
   "metadata": {},
   "outputs": [
    {
     "data": {
      "text/plain": [
       "(171, 2)"
      ]
     },
     "execution_count": 470,
     "metadata": {},
     "output_type": "execute_result"
    }
   ],
   "source": [
    "fixed_recipes.shape"
   ]
  },
  {
   "cell_type": "code",
   "execution_count": 477,
   "metadata": {},
   "outputs": [],
   "source": [
    "text = fixed_recipes.loc[\"Tofu Scramble\", \"ingredients\"]"
   ]
  },
  {
   "cell_type": "code",
   "execution_count": 488,
   "metadata": {},
   "outputs": [],
   "source": [
    "a = text.split(\"\\n\\n\")"
   ]
  },
  {
   "cell_type": "code",
   "execution_count": 492,
   "metadata": {},
   "outputs": [
    {
     "data": {
      "text/plain": [
       "0"
      ]
     },
     "execution_count": 492,
     "metadata": {},
     "output_type": "execute_result"
    }
   ],
   "source": [
    "len(a[2])"
   ]
  },
  {
   "cell_type": "code",
   "execution_count": 476,
   "metadata": {},
   "outputs": [
    {
     "name": "stdout",
     "output_type": "stream",
     "text": [
      " and preparation steps:\n",
      "\n",
      "ingredients:\n",
      "- 1 block (14 to 16 oz) of firm or extra-firm tofu\n",
      "- 1 tablespoon of olive oil or your preferred cooking oil\n",
      "- 1/4 teaspoon of turmeric powder (for color)\n",
      "- 1/2 teaspoon of garlic powder (or 1-2 cloves of fresh garlic, minced)\n",
      "- 1/2 teaspoon of ground cumin (optional)\n",
      "- 1/4 teaspoon of paprika (optional)\n",
      "- salt and pepper, to taste\n",
      "- 1/4 cup of nutritional yeast (for a cheesy flavor, optional)\n",
      "- 1/4 cup of plant-based milk or water (if needed, for moisture)\n",
      "- vegetables of choice: e.g., diced onions, bell peppers, tomatoes, spinach, kale, mushrooms (quantities as desired)\n",
      "- fresh herbs like chives, parsley, or cilantro (optional, for garnish)\n",
      "- squeeze of fresh lemon juice or a dash of kala namak (black salt, for an eggy flavor, optional)\n",
      "\n",
      "\n"
     ]
    }
   ],
   "source": [
    "print(fixed_recipes.loc[\"Tofu Scramble\", \"ingredients\"].lstrip(\":\"))"
   ]
  },
  {
   "cell_type": "code",
   "execution_count": 543,
   "metadata": {},
   "outputs": [],
   "source": [
    "# clean text \n",
    "def clean_text_ingredients(text: str):\n",
    "    # checking integrity \n",
    "    pre_text = text\n",
    "    if \"ingredients\" in text:\n",
    "        splits = text.split(\"ingredients\")\n",
    "        pre_text = \"\\n\".join(splits[1:])\n",
    "    if pre_text.startswith(\":\\n\") or pre_text.startswith(\":**\")\\\n",
    "        or pre_text.startswith(\":\") or pre_text.startswith(\"\\n\"):\n",
    "        ans = pre_text.removeprefix(\":\\n\")\n",
    "        ans = ans.removeprefix(\"\\n\")\n",
    "        ans = ans.removeprefix(\":**\")\n",
    "        ans = ans.removeprefix(\":\")\n",
    "    else:\n",
    "        ans = pre_text\n",
    "    if \"preparation\" in ans or \"instructions\" in ans:\n",
    "        ans = ans.split(\"preparation\")[0]\n",
    "        ans = ans.split(\"instructions\")[0]\n",
    "    return ans\n",
    "    # checking_list = text.split(\"\\n\\n\")\n",
    "    # if len(checking_list) == 1:\n",
    "    #     return checking_list[0]\n",
    "    # else:\n",
    "    #     value_to_return = None\n",
    "    #     max = -1\n",
    "    #     for temp in checking_list:\n",
    "    #         if len(temp) > max:\n",
    "    #             value_to_return = temp\n",
    "    #             max = len(temp)\n",
    "    #     return value_to_return\n",
    "    "
   ]
  },
  {
   "cell_type": "code",
   "execution_count": 560,
   "metadata": {},
   "outputs": [],
   "source": [
    "clean_ingredients = fixed_recipes[\"ingredients\"].apply(lambda x: clean_text_ingredients(x))"
   ]
  },
  {
   "cell_type": "code",
   "execution_count": 553,
   "metadata": {},
   "outputs": [],
   "source": [
    "# clean text \n",
    "def clean_text_preparation_steps(text: str):\n",
    "    # checking integrity \n",
    "    pre_text = text\n",
    "    if \"preparation steps:\" in pre_text:\n",
    "        data = pre_text.split(\"preparation steps:\")\n",
    "        if len(data) == 1:\n",
    "            ans = data[0]\n",
    "        else:\n",
    "            ans = \"\\n\".join(data[1:])\n",
    "    elif \"preparation:\" in pre_text:\n",
    "        data = pre_text.split(\"preparation:\")\n",
    "        if len(data) == 1:\n",
    "            ans = data[0]\n",
    "        else:\n",
    "            ans = \"\\n\".join(data[1:])\n",
    "    elif \"instructions:\" in pre_text:\n",
    "        data = pre_text.split(\"instructions:\")\n",
    "        if len(data) == 1:\n",
    "            ans = data[0]\n",
    "        else:\n",
    "            ans = \"\\n\".join(data[1:])\n",
    "    else:\n",
    "        ans = pre_text\n",
    "    if ans.startswith(\":\\n\") or ans.startswith(\":**\")\\\n",
    "        or ans.startswith(\":\") or ans.startswith(\"\\n\")\\\n",
    "            or ans.startswith(\".\\n\"):\n",
    "        ans = ans.removeprefix(\".\\n\")\n",
    "        ans = ans.removeprefix(\":\\n\")\n",
    "        ans = ans.removeprefix(\"\\n\")\n",
    "        ans = ans.removeprefix(\":**\")\n",
    "        ans = ans.removeprefix(\":\")\n",
    "    return ans\n",
    "    # checking_list = text.split(\"\\n\\n\")\n",
    "    # if len(checking_list) == 1:\n",
    "    #     return checking_list[0]\n",
    "    # else:\n",
    "    #     value_to_return = None\n",
    "    #     max = -1\n",
    "    #     for temp in checking_list:\n",
    "    #         if len(temp) > max:\n",
    "    #             value_to_return = temp\n",
    "    #             max = len(temp)\n",
    "    #     return value_to_return"
   ]
  },
  {
   "cell_type": "code",
   "execution_count": 561,
   "metadata": {},
   "outputs": [],
   "source": [
    "clean_steps = fixed_recipes[\"preparation_steps\"].apply(lambda x: clean_text_preparation_steps(x))"
   ]
  },
  {
   "cell_type": "code",
   "execution_count": 569,
   "metadata": {},
   "outputs": [],
   "source": [
    "clean_recipes = clean_ingredients.to_frame().join(clean_steps.to_frame())"
   ]
  },
  {
   "cell_type": "code",
   "execution_count": 570,
   "metadata": {},
   "outputs": [
    {
     "data": {
      "text/html": [
       "<div>\n",
       "<style scoped>\n",
       "    .dataframe tbody tr th:only-of-type {\n",
       "        vertical-align: middle;\n",
       "    }\n",
       "\n",
       "    .dataframe tbody tr th {\n",
       "        vertical-align: top;\n",
       "    }\n",
       "\n",
       "    .dataframe thead th {\n",
       "        text-align: right;\n",
       "    }\n",
       "</style>\n",
       "<table border=\"1\" class=\"dataframe\">\n",
       "  <thead>\n",
       "    <tr style=\"text-align: right;\">\n",
       "      <th></th>\n",
       "      <th>ingredients</th>\n",
       "      <th>preparation_steps</th>\n",
       "    </tr>\n",
       "    <tr>\n",
       "      <th>title</th>\n",
       "      <th></th>\n",
       "      <th></th>\n",
       "    </tr>\n",
       "  </thead>\n",
       "  <tbody>\n",
       "    <tr>\n",
       "      <th>Almond Butter and Banana Rice Cakes</th>\n",
       "      <td>\\n- rice cakes (plain or lightly salted)\\n- al...</td>\n",
       "      <td>\\n1. **gather ingredients:** make sure you hav...</td>\n",
       "    </tr>\n",
       "    <tr>\n",
       "      <th>Apple Cinnamon Protein Muffins</th>\n",
       "      <td>\\n- 1 cup whole wheat flour (or all-purpose, o...</td>\n",
       "      <td>\\n\\n1. preheat your oven to 350 degrees fahren...</td>\n",
       "    </tr>\n",
       "    <tr>\n",
       "      <th>BBQ pulled chicken sandwiches</th>\n",
       "      <td>\\n\\n- 3 cups shredded cooked chicken (rotisser...</td>\n",
       "      <td>\\n\\n1. prepare the chicken. if you are using l...</td>\n",
       "    </tr>\n",
       "    <tr>\n",
       "      <th>Baba ganoush with pita bread</th>\n",
       "      <td>for pita bread (if making from scratch):\\n\\n-...</td>\n",
       "      <td>for baba ganoush:\\n1. preheat your oven to 400...</td>\n",
       "    </tr>\n",
       "    <tr>\n",
       "      <th>Baked Cinnamon Sugar Pita Chips</th>\n",
       "      <td>- 4 to 6 whole wheat pita breads\\n- 1/4 cup un...</td>\n",
       "      <td>1. preheat your oven to 375 degrees f (190 deg...</td>\n",
       "    </tr>\n",
       "    <tr>\n",
       "      <th>...</th>\n",
       "      <td>...</td>\n",
       "      <td>...</td>\n",
       "    </tr>\n",
       "    <tr>\n",
       "      <th>Veggie Scramble</th>\n",
       "      <td>\\n- 4 large eggs\\n- salt and pepper, to taste\\...</td>\n",
       "      <td>\\n\\n1. crack the eggs into a bowl, add salt an...</td>\n",
       "    </tr>\n",
       "    <tr>\n",
       "      <th>Veggie Sushi Burrito</th>\n",
       "      <td>**sushi rice:**\\n- 1 cup sushi rice (short-gra...</td>\n",
       "      <td>or use a rice cooker.\\n   - while the rice is...</td>\n",
       "    </tr>\n",
       "    <tr>\n",
       "      <th>Veggie Wrap with Avocado and Spinach</th>\n",
       "      <td>- 2 large whole wheat tortillas or wraps\\n- 1 ...</td>\n",
       "      <td>1. lay out the tortillas or wraps on a clean, ...</td>\n",
       "    </tr>\n",
       "    <tr>\n",
       "      <th>Zimbabwean sadza (cornmeal porridge) with beef stew</th>\n",
       "      <td>\\n- 1 lb beef, cut into cubes\\n- 2 tablespoons...</td>\n",
       "      <td>**\\n1. season the beef cubes with salt and pep...</td>\n",
       "    </tr>\n",
       "    <tr>\n",
       "      <th>Zucchini and Sweet Potato Pancakes</th>\n",
       "      <td>- 1 medium zucchini, grated\\n- 1 medium sweet ...</td>\n",
       "      <td>1. in a colander, place the grated zucchini an...</td>\n",
       "    </tr>\n",
       "  </tbody>\n",
       "</table>\n",
       "<p>173 rows × 2 columns</p>\n",
       "</div>"
      ],
      "text/plain": [
       "                                                                                          ingredients  \\\n",
       "title                                                                                                   \n",
       "Almond Butter and Banana Rice Cakes                 \\n- rice cakes (plain or lightly salted)\\n- al...   \n",
       "Apple Cinnamon Protein Muffins                      \\n- 1 cup whole wheat flour (or all-purpose, o...   \n",
       "BBQ pulled chicken sandwiches                       \\n\\n- 3 cups shredded cooked chicken (rotisser...   \n",
       "Baba ganoush with pita bread                         for pita bread (if making from scratch):\\n\\n-...   \n",
       "Baked Cinnamon Sugar Pita Chips                     - 4 to 6 whole wheat pita breads\\n- 1/4 cup un...   \n",
       "...                                                                                               ...   \n",
       "Veggie Scramble                                     \\n- 4 large eggs\\n- salt and pepper, to taste\\...   \n",
       "Veggie Sushi Burrito                                **sushi rice:**\\n- 1 cup sushi rice (short-gra...   \n",
       "Veggie Wrap with Avocado and Spinach                - 2 large whole wheat tortillas or wraps\\n- 1 ...   \n",
       "Zimbabwean sadza (cornmeal porridge) with beef ...  \\n- 1 lb beef, cut into cubes\\n- 2 tablespoons...   \n",
       "Zucchini and Sweet Potato Pancakes                  - 1 medium zucchini, grated\\n- 1 medium sweet ...   \n",
       "\n",
       "                                                                                    preparation_steps  \n",
       "title                                                                                                  \n",
       "Almond Butter and Banana Rice Cakes                 \\n1. **gather ingredients:** make sure you hav...  \n",
       "Apple Cinnamon Protein Muffins                      \\n\\n1. preheat your oven to 350 degrees fahren...  \n",
       "BBQ pulled chicken sandwiches                       \\n\\n1. prepare the chicken. if you are using l...  \n",
       "Baba ganoush with pita bread                        for baba ganoush:\\n1. preheat your oven to 400...  \n",
       "Baked Cinnamon Sugar Pita Chips                     1. preheat your oven to 375 degrees f (190 deg...  \n",
       "...                                                                                               ...  \n",
       "Veggie Scramble                                     \\n\\n1. crack the eggs into a bowl, add salt an...  \n",
       "Veggie Sushi Burrito                                 or use a rice cooker.\\n   - while the rice is...  \n",
       "Veggie Wrap with Avocado and Spinach                1. lay out the tortillas or wraps on a clean, ...  \n",
       "Zimbabwean sadza (cornmeal porridge) with beef ...  **\\n1. season the beef cubes with salt and pep...  \n",
       "Zucchini and Sweet Potato Pancakes                  1. in a colander, place the grated zucchini an...  \n",
       "\n",
       "[173 rows x 2 columns]"
      ]
     },
     "execution_count": 570,
     "metadata": {},
     "output_type": "execute_result"
    }
   ],
   "source": [
    "clean_recipes"
   ]
  },
  {
   "cell_type": "code",
   "execution_count": 460,
   "metadata": {},
   "outputs": [],
   "source": [
    "#new_recipes_df.to_csv(\"new_recipes_fixed_151.csv\", sep='|')"
   ]
  },
  {
   "cell_type": "code",
   "execution_count": 573,
   "metadata": {},
   "outputs": [],
   "source": [
    "full_data_df = recipes_df.copy()"
   ]
  },
  {
   "cell_type": "code",
   "execution_count": 579,
   "metadata": {},
   "outputs": [
    {
     "data": {
      "text/plain": [
       "(1, 9)"
      ]
     },
     "execution_count": 579,
     "metadata": {},
     "output_type": "execute_result"
    }
   ],
   "source": [
    "recipes_df[recipes_df['title']=='Zucchini and Sweet Potato Pancakes'].shape"
   ]
  },
  {
   "cell_type": "code",
   "execution_count": 580,
   "metadata": {},
   "outputs": [
    {
     "data": {
      "text/plain": [
       "Index(['title', 'raw_text', 'meal_type', 'cultural_restriction', 'calories',\n",
       "       'allergies', 'recipeId', 'ingredients', 'preparation'],\n",
       "      dtype='object')"
      ]
     },
     "execution_count": 580,
     "metadata": {},
     "output_type": "execute_result"
    }
   ],
   "source": [
    "recipes_df.columns"
   ]
  },
  {
   "cell_type": "code",
   "execution_count": 584,
   "metadata": {},
   "outputs": [],
   "source": [
    "empty_recipes = recipes_df.loc[recipes_df[\"ingredients\"].isna(), :]"
   ]
  },
  {
   "cell_type": "code",
   "execution_count": 585,
   "metadata": {},
   "outputs": [
    {
     "data": {
      "text/plain": [
       "(153, 9)"
      ]
     },
     "execution_count": 585,
     "metadata": {},
     "output_type": "execute_result"
    }
   ],
   "source": [
    "empty_recipes.shape"
   ]
  },
  {
   "cell_type": "code",
   "execution_count": 583,
   "metadata": {},
   "outputs": [
    {
     "data": {
      "text/plain": [
       "(20, 9)"
      ]
     },
     "execution_count": 583,
     "metadata": {},
     "output_type": "execute_result"
    }
   ],
   "source": [
    "bad_generated_recipes.shape"
   ]
  },
  {
   "cell_type": "code",
   "execution_count": 593,
   "metadata": {},
   "outputs": [],
   "source": [
    "to_fill_df = pd.concat([empty_recipes, bad_generated_recipes], axis=0)\n",
    "to_fill_df.reset_index(inplace=True)"
   ]
  },
  {
   "cell_type": "code",
   "execution_count": 615,
   "metadata": {},
   "outputs": [],
   "source": [
    "clean_rc = clean_recipes.reset_index()"
   ]
  },
  {
   "cell_type": "code",
   "execution_count": 616,
   "metadata": {},
   "outputs": [],
   "source": [
    "clean_rc.drop_duplicates(subset=\"title\", keep='first', inplace=True)"
   ]
  },
  {
   "cell_type": "code",
   "execution_count": 647,
   "metadata": {},
   "outputs": [
    {
     "name": "stdout",
     "output_type": "stream",
     "text": [
      "1\n",
      "0    \\n- rice cakes (plain or lightly salted)\\n- al...\n",
      "Name: ingredients, dtype: object\n",
      "1\n",
      "1    \\n- 1 cup whole wheat flour (or all-purpose, o...\n",
      "Name: ingredients, dtype: object\n",
      "1\n",
      "2    \\n\\n- 3 cups shredded cooked chicken (rotisser...\n",
      "Name: ingredients, dtype: object\n",
      "1\n",
      "3     for pita bread (if making from scratch):\\n\\n-...\n",
      "Name: ingredients, dtype: object\n",
      "1\n",
      "4    - 4 to 6 whole wheat pita breads\\n- 1/4 cup un...\n",
      "Name: ingredients, dtype: object\n",
      "1\n",
      "5    - 1 medium-sized eggplant\\n- 1/2 cup all-purpo...\n",
      "Name: ingredients, dtype: object\n",
      "1\n",
      "6    - 2 cups of dried chickpeas (soaked overnight ...\n",
      "Name: ingredients, dtype: object\n",
      "1\n",
      "7    - 1 cup quinoa, uncooked\\n- 2 cups water or ve...\n",
      "Name: ingredients, dtype: object\n",
      "1\n",
      "8    - 2 medium-sized sweet potatoes (about 1 lb or...\n",
      "Name: ingredients, dtype: object\n",
      "1\n",
      "9    - 2 cups dried chickpeas, soaked overnight (do...\n",
      "Name: ingredients, dtype: object\n",
      "1\n",
      "10    **\\n\\nfor the balsamic marinade:\\n- 1/4 cup ba...\n",
      "Name: ingredients, dtype: object\n",
      "1\n",
      "11    - 3 ripe bananas, mashed\\n- 3/4 cup white suga...\n",
      "Name: ingredients, dtype: object\n",
      "1\n",
      "12    - 1 cup of cooked and drained black beans (or ...\n",
      "Name: ingredients, dtype: object\n",
      "1\n",
      "13    ** together in a large bowl. combine the flour...\n",
      "Name: ingredients, dtype: object\n",
      "1\n",
      "14    - 12 large cremini or white mushrooms\\n- 1 tab...\n",
      "Name: ingredients, dtype: object\n",
      "1\n",
      "15    - 1 cup quinoa, rinsed\\n- 2 cups water or milk...\n",
      "Name: ingredients, dtype: object\n",
      "1\n",
      "16    \\n\\nfor the breakfast bowl:\\n- 1 cup uncooked ...\n",
      "Name: ingredients, dtype: object\n",
      "1\n",
      "17    - 1 can (15 oz) black beans, drained and rinse...\n",
      "Name: ingredients, dtype: object\n",
      "1\n",
      "18     for 2 portions:\\n- 1 cup of tapioca flour (st...\n",
      "Name: ingredients, dtype: object\n",
      "1\n",
      "19    #### for the empanada dough:\\n- 2 1/4 cups all...\n",
      "Name: ingredients, dtype: object\n",
      "1\n",
      "20    - 4 medium-sized sweet potatoes\\n- 2 cups of b...\n",
      "Name: ingredients, dtype: object\n",
      "1\n",
      "21    - 1 medium butternut squash (about 2 pounds), ...\n",
      "Name: ingredients, dtype: object\n",
      "1\n",
      "22    - 1 french baguette or a loaf of crusty italia...\n",
      "Name: ingredients, dtype: object\n",
      "1\n",
      "23    \\n\\n- cherry tomatoes\\n- mozzarella balls (pre...\n",
      "Name: ingredients, dtype: object\n",
      "1\n",
      "24    - 4 large portobello mushroom caps, stems remo...\n",
      "Name: ingredients, dtype: object\n",
      "1\n",
      "25    \\n\\n- 4 medium zucchini\\n- 2 medium tomatoes, ...\n",
      "Name: ingredients, dtype: object\n",
      "1\n",
      "26    \\n\\n- 4 cups water\\n- 1 cup grits (stone-groun...\n",
      "Name: ingredients, dtype: object\n",
      "1\n",
      "27    \\n\\n- 6 large eggs\\n- 1/2 cup milk\\n- 1 cup ch...\n",
      "Name: ingredients, dtype: object\n",
      "1\n",
      "28    - 2 cups cooked and shredded chicken (about 2 ...\n",
      "Name: ingredients, dtype: object\n",
      "1\n",
      "29     for chicken tikka masala:\\n\\n#### for the chi...\n",
      "Name: ingredients, dtype: object\n",
      "1\n",
      "30    \\n- 2 large boneless, skinless chicken breasts...\n",
      "Name: ingredients, dtype: object\n",
      "1\n",
      "31    **\\n\\n- 2 chicken breasts, thinly sliced\\n- 2 ...\n",
      "Name: ingredients, dtype: object\n",
      "1\n",
      "32    **\\n\\n- 3 cups of cooked, shredded chicken (yo...\n",
      "Name: ingredients, dtype: object\n",
      "1\n",
      "33     for mashed cauliflower:**\\n- 1 large head of ...\n",
      "Name: ingredients, dtype: object\n",
      "1\n",
      "34     for the rice:**\\n\\n- 1 cup of basmati rice\\n-...\n",
      "Name: ingredients, dtype: object\n",
      "1\n",
      "35    - 1 can (15 oz) chickpeas, drained and rinsed\\...\n",
      "Name: ingredients, dtype: object\n",
      "1\n",
      "36    - 1 ripe banana, preferably frozen\\n- 1 cup mi...\n",
      "Name: ingredients, dtype: object\n",
      "1\n",
      "37    - 1 cup rolled oats\\n- 1/2 cup chocolate prote...\n",
      "Name: ingredients, dtype: object\n",
      "1\n",
      "38    - 4-5 ripe tomatoes, diced\\n- 8 ounces fresh m...\n",
      "Name: ingredients, dtype: object\n",
      "1\n",
      "39    - 1 cup of rice (white jasmine or short-grain ...\n",
      "Name: ingredients, dtype: object\n",
      "1\n",
      "40    - 2 large cucumbers, peeled, seeded, and chopp...\n",
      "Name: ingredients, dtype: object\n",
      "1\n",
      "41    \\n\\n- 1 can (15 oz) of cooked chickpeas, drain...\n",
      "Name: ingredients, dtype: object\n",
      "1\n",
      "42    for the dough (détrempe):\\n- 500 grams all-pur...\n",
      "Name: ingredients, dtype: object\n",
      "1\n",
      "43    for the crêpes:\\n- 1 cup (125g) all-purpose fl...\n",
      "Name: ingredients, dtype: object\n",
      "1\n",
      "44    - 4-5 large potatoes, peeled and cut into wedg...\n",
      "Name: ingredients, dtype: object\n",
      "1\n",
      "45    - 6 large potatoes, peeled and cut into wedges...\n",
      "Name: ingredients, dtype: object\n",
      "1\n",
      "46    - 1 package of phyllo dough (16 oz), thawed\\n-...\n",
      "Name: ingredients, dtype: object\n",
      "1\n",
      "47    for the grilled chicken:\\n- 2 boneless, skinle...\n",
      "Name: ingredients, dtype: object\n",
      "1\n",
      "48    - 2 large eggplants, cut lengthwise into 1/4-i...\n",
      "Name: ingredients, dtype: object\n",
      "1\n",
      "49    #### for the grilled salmon:\\n- 4 salmon fille...\n",
      "Name: ingredients, dtype: object\n",
      "1\n",
      "50     for grilled honey lime chicken:**\\n\\n- 4 bone...\n",
      "Name: ingredients, dtype: object\n",
      "1\n",
      "51     for 2 portions:**\\n\\n- 2 salmon fillets (6 ou...\n",
      "Name: ingredients, dtype: object\n",
      "1\n",
      "52    #### for guacamole:\\n- 3 ripe avocados, peeled...\n",
      "Name: ingredients, dtype: object\n",
      "1\n",
      "53     for guacamole:\\n- 3 ripe avocados\\n- 1 lime (...\n",
      "Name: ingredients, dtype: object\n",
      "1\n",
      "54    \\n**for the honey glazed chicken:**\\n- 4 chick...\n",
      "Name: ingredients, dtype: object\n",
      "1\n",
      "55    \\n\\n- 2 cups all-purpose flour or bread flour ...\n",
      "Name: ingredients, dtype: object\n",
      "1\n",
      "56     for idli:\\n- 1 cup urad dal (split black lent...\n",
      "Name: ingredients, dtype: object\n",
      "1\n",
      "57    - 2 cups all-purpose flour\\n- 1/2 cup unsalted...\n",
      "Name: ingredients, dtype: object\n",
      "1\n",
      "58    - 2 medium cucumbers, finely diced\\n- 3 medium...\n",
      "Name: ingredients, dtype: object\n",
      "1\n",
      "59    #### for the cannoli shells:\\n- 2 cups all-pur...\n",
      "Name: ingredients, dtype: object\n",
      "1\n",
      "60    - 1 cup all-purpose flour\\n- 3/4 cup water or ...\n",
      "Name: ingredients, dtype: object\n",
      "1\n",
      "61    - 2 bunches of fresh flat-leaf parsley (about ...\n",
      "Name: ingredients, dtype: object\n",
      "1\n",
      "62    **\\n\\n- 1 pound large shrimp, peeled and devei...\n",
      "Name: ingredients, dtype: object\n",
      "1\n",
      "63    \\n\\n_for the lentil dal:_\\n- 1 cup red lentils...\n",
      "Name: ingredients, dtype: object\n",
      "1\n",
      "64    **:\\n- 1 cup dried green or brown lentils, rin...\n",
      "Name: ingredients, dtype: object\n",
      "1\n",
      "65    - 1 cup dried green or brown lentils, rinsed\\n...\n",
      "Name: ingredients, dtype: object\n",
      "1\n",
      "66     for lentil soup:\\n\\n- 1 tablespoon olive oil\\...\n",
      "Name: ingredients, dtype: object\n",
      "1\n",
      "67    **\\n- 3 cups of all-purpose flour, plus extra ...\n",
      "Name: ingredients, dtype: object\n",
      "1\n",
      "68    #### for dosa batter:\\n- 1 cup urad dal (split...\n",
      "Name: ingredients, dtype: object\n",
      "1\n",
      "69    - 2 cups coconut milk (you can use the canned ...\n",
      "Name: ingredients, dtype: object\n",
      "1\n",
      "70    \\n\\n- 4-6 pita bread rounds (or pre-made pita ...\n",
      "Name: ingredients, dtype: object\n",
      "1\n",
      "71    #### salad:\\n- 1 head of romaine lettuce, wash...\n",
      "Name: ingredients, dtype: object\n",
      "1\n",
      "72    - 1 ripe cantaloupe or honeydew melon\\n- 12 th...\n",
      "Name: ingredients, dtype: object\n",
      "1\n",
      "73    - 4 large eggs\\n- 4 corn tortillas\\n- 1/2 cup ...\n",
      "Name: ingredients, dtype: object\n",
      "1\n",
      "74    - 1 cup quinoa (uncooked)\\n- 2 cups water or v...\n",
      "Name: ingredients, dtype: object\n",
      "1\n",
      "75    - 4 cups corn kernels (from about 4-5 ears of ...\n",
      "Name: ingredients, dtype: object\n",
      "1\n",
      "76    \\n\\n- 4 tostada shells (store-bought or homema...\n",
      "Name: ingredients, dtype: object\n",
      "1\n",
      "77    - 2 tablespoons olive oil\\n- 1 large onion, di...\n",
      "Name: ingredients, dtype: object\n",
      "1\n",
      "78    **for the chilaquiles:**\\n- 12 corn tortillas,...\n",
      "Name: ingredients, dtype: object\n",
      "1\n",
      "79    - 1 pound ground beef (or a mix of beef and po...\n",
      "Name: ingredients, dtype: object\n",
      "1\n",
      "80    - 1 tablespoon olive oil or butter\\n- 1 small ...\n",
      "Name: ingredients, dtype: object\n",
      "1\n",
      "81    - 4 cups of dashi stock (japanese soup stock; ...\n",
      "Name: ingredients, dtype: object\n",
      "1\n",
      "82     to enhance the flavor without adding signific...\n",
      "Name: ingredients, dtype: object\n",
      "1\n",
      "83    \\n\\n- 1 lb (450g) ground lamb (you can use bee...\n",
      "Name: ingredients, dtype: object\n",
      "1\n",
      "84    - 1 cup dried lentils (green, brown, or red)\\n...\n",
      "Name: ingredients, dtype: object\n",
      "1\n",
      "85     for moroccan spiced roasted vegetables with c...\n",
      "Name: ingredients, dtype: object\n",
      "1\n",
      "86     for mushroom tacos:\\n\\n- 2 tablespoons olive ...\n",
      "Name: ingredients, dtype: object\n",
      "1\n",
      "87    - 6 large eggs\\n- 1/2 cup milk or cream\\n- 1/2...\n",
      "Name: ingredients, dtype: object\n",
      "1\n",
      "88    \\n\\nfor the lasagna:\\n- 9-12 lasagna noodles (...\n",
      "Name: ingredients, dtype: object\n",
      "1\n",
      "89    - 8 medium flour tortillas\\n- 2 tablespoons ol...\n",
      "Name: ingredients, dtype: object\n",
      "1\n",
      "90    - 1/2 cup (50g) rolled oats\\n- 1 cup (240ml) w...\n",
      "Name: ingredients, dtype: object\n",
      "1\n",
      "91    - 2 cups of whole wheat flour (atta), plus ext...\n",
      "Name: ingredients, dtype: object\n",
      "1\n",
      "92    - 2 1/4 teaspoons active dry yeast (1 packet)\\...\n",
      "Name: ingredients, dtype: object\n",
      "1\n",
      "93    **:\\n1. 1 can (15 oz) chickpeas, drained and r...\n",
      "Name: ingredients, dtype: object\n",
      "1\n",
      "94    \\n- 4 pita bread rounds\\n- 1 cup pizza sauce (...\n",
      "Name: ingredients, dtype: object\n",
      "1\n",
      "95     for tzatziki dip:\\n- 1 cup greek yogurt (full...\n",
      "Name: ingredients, dtype: object\n",
      "1\n",
      "96    - 1 cup rolled oats\\n- 1/2 cup protein powder ...\n",
      "Name: ingredients, dtype: object\n",
      "1\n",
      "97    - 1 cup quinoa (uncooked and rinsed)\\n- 2 cups...\n",
      "Name: ingredients, dtype: object\n",
      "1\n",
      "98    \\n\\n- 1 cup quinoa, rinsed\\n- 2 cups water or ...\n",
      "Name: ingredients, dtype: object\n",
      "1\n",
      "99    - 1 cup quinoa (uncooked)\\n- 2 cups water or v...\n",
      "Name: ingredients, dtype: object\n",
      "1\n",
      "100    - 1 cup cooked quinoa (cooled)\\n- 1/2 cup oats...\n",
      "Name: ingredients, dtype: object\n",
      "1\n",
      "101    \\n- 1 cup uncooked quinoa\\n- 2 cups of water (...\n",
      "Name: ingredients, dtype: object\n",
      "1\n",
      "102    **:\\n\\n* 1 cup quinoa (uncooked)\\n* 2 cups wat...\n",
      "Name: ingredients, dtype: object\n",
      "1\n",
      "103    - 2 cups all-purpose flour (plus extra for dus...\n",
      "Name: ingredients, dtype: object\n",
      "1\n",
      "104    \\n\\n- 1 eggplant (aubergine), cut into 1/2-inc...\n",
      "Name: ingredients, dtype: object\n",
      "1\n",
      "105    For the Ratatouille:\\n\\n1 large eggplant\\n2 me...\n",
      "Name: ingredients, dtype: object\n",
      "1\n",
      "106    - rice cakes (plain or flavored, as per prefer...\n",
      "Name: ingredients, dtype: object\n",
      "1\n",
      "107    - 1 cup (200g) uncooked white rice (short grai...\n",
      "Name: ingredients, dtype: object\n",
      "1\n",
      "108    for the roasted cauliflower:\\n- 1 head of caul...\n",
      "Name: ingredients, dtype: object\n",
      "1\n",
      "109    \\n- 1 pizza dough (store-bought or homemade)\\n...\n",
      "Name: ingredients, dtype: object\n",
      "1\n",
      "110    - 2 cups (250 grams) all-purpose flour\\n- 1/3 ...\n",
      "Name: ingredients, dtype: object\n",
      "1\n",
      "111    - 1 block (14 oz) firm or extra-firm tofu\\n- 2...\n",
      "Name: ingredients, dtype: object\n",
      "1\n",
      "112    \\n\\n- 1 tablespoon olive oil\\n- 1 large onion,...\n",
      "Name: ingredients, dtype: object\n",
      "1\n",
      "113    \\n\\n- 4 slices of rustic bread (such as a bagu...\n",
      "Name: ingredients, dtype: object\n",
      "1\n",
      "114    - 4 large bell peppers (any color)\\n- 1 cup ri...\n",
      "Name: ingredients, dtype: object\n",
      "1\n",
      "115    - 4 large portobello mushroom caps, stems and ...\n",
      "Name: ingredients, dtype: object\n",
      "1\n",
      "116    - 4 large portobello mushrooms, stems and gill...\n",
      "Name: ingredients, dtype: object\n",
      "1\n",
      "117     you might use in a sushi bowl, followed by \n",
      "Name: ingredients, dtype: object\n",
      "1\n",
      "118    - 1 tablespoon olive oil\\n- 1 medium sweet pot...\n",
      "Name: ingredients, dtype: object\n",
      "1\n",
      "119    - 2 medium sweet potatoes, peeled and cut into...\n",
      "Name: ingredients, dtype: object\n",
      "1\n",
      "120    - 1 kg chicken (legs or breast pieces), skinne...\n",
      "Name: ingredients, dtype: object\n",
      "1\n",
      "121    \\n1. 1 pound (450g) chicken breast or thigh, c...\n",
      "Name: ingredients, dtype: object\n",
      "1\n",
      "122    - 1 tablespoon coconut oil (or vegetable oil)\\...\n",
      "Name: ingredients, dtype: object\n",
      "1\n",
      "123    - 1 cup almonds, toasted\\n- 1 cup dates, pitte...\n",
      "Name: ingredients, dtype: object\n",
      "1\n",
      "124    \\n\\n- 7 ounces of firm tofu, pressed and cut i...\n",
      "Name: ingredients, dtype: object\n",
      "1\n",
      "125    - 1 block (14 to 16 oz) of firm or extra-firm ...\n",
      "Name: ingredients, dtype: object\n",
      "1\n",
      "126    \\n- **firm tofu:** 1 block (around 14 ounces),...\n",
      "Name: ingredients, dtype: object\n",
      "1\n",
      "127    for the dough:\\n- 3 cups (375g) all-purpose fl...\n",
      "Name: ingredients, dtype: object\n",
      "1\n",
      "128    **for menemen:**\\n- 3 tablespoons olive oil\\n-...\n",
      "Name: ingredients, dtype: object\n",
      "1\n",
      "129    \\n\\nfor the dough:\\n- 1 cup warm milk\\n- 1/2 c...\n",
      "Name: ingredients, dtype: object\n",
      "2\n",
      "130    - 4 cups (500g) all-purpose flour, plus more f...\n",
      "Name: ingredients, dtype: object\n",
      "1\n",
      "131    for the apple filling:\\n- 5-6 large apples, pe...\n",
      "Name: ingredients, dtype: object\n",
      "2\n",
      "132    - 4 ripe bananas (about 1 1/3 cups mashed)\\n- ...\n",
      "Name: ingredients, dtype: object\n",
      "1\n",
      "136    - 1 tablespoon olive oil\\n- 1 medium onion, fi...\n",
      "Name: ingredients, dtype: object\n",
      "1\n",
      "137    - 2 cups rolled oats\\n- 1/2 cup almonds, chopp...\n",
      "Name: ingredients, dtype: object\n",
      "1\n",
      "138    **for the vegan breakfast sausage:**\\n\\n1. 1 c...\n",
      "Name: ingredients, dtype: object\n",
      "1\n",
      "139     and whisk to combine.\\n\\n4. in another bowl, ...\n",
      "Name: ingredients, dtype: object\n",
      "1\n",
      "140    - 1 cup rolled oats\\n- 1/2 cup natural peanut ...\n",
      "Name: ingredients, dtype: object\n",
      "1\n",
      "141    \\n\\n- 2 tablespoons olive oil or vegetable oil...\n",
      "Name: ingredients, dtype: object\n",
      "1\n",
      "142    \\n- 2 cups old-fashioned oats\\n- 1/2 cup nuts ...\n",
      "Name: ingredients, dtype: object\n",
      "1\n",
      "143    \\n- 1 cucumber, thickly sliced into rounds\\n- ...\n",
      "Name: ingredients, dtype: object\n",
      "1\n",
      "144    #### for the noodles and vegetables:\\n- 250g (...\n",
      "Name: ingredients, dtype: object\n",
      "1\n",
      "145    #### for the lentil loaf:\\n- 1 cup dry green o...\n",
      "Name: ingredients, dtype: object\n",
      "1\n",
      "146    - 1 tablespoon olive oil\\n- 1 large onion, dic...\n",
      "Name: ingredients, dtype: object\n",
      "1\n",
      "147    - 1 cup water\\n- 2 tablespoons sugar, plus mor...\n",
      "Name: ingredients, dtype: object\n",
      "1\n",
      "148    \\nfor the broth:\\n- 1 large onion, peeled and ...\n",
      "Name: ingredients, dtype: object\n",
      "1\n",
      "149    - 1 cup whole wheat or oat flour\\n- 1 scoop (a...\n",
      "Name: ingredients, dtype: object\n",
      "1\n",
      "150    - 4 large bell peppers, tops cut away, and see...\n",
      "Name: ingredients, dtype: object\n",
      "1\n",
      "151    - 2 cups all-purpose flour (also works with wh...\n",
      "Name: ingredients, dtype: object\n",
      "1\n",
      "152    - 1 cup unsweetened coconut milk (you can also...\n",
      "Name: ingredients, dtype: object\n",
      "1\n",
      "153    for the dough:\\n- 2 cups of all-purpose flour\\...\n",
      "Name: ingredients, dtype: object\n",
      "1\n",
      "154     for pita chips:\\n- 4-6 pitas (use gluten-free...\n",
      "Name: ingredients, dtype: object\n",
      "1\n",
      "155    **for the sushi rice:**\\n- 1 cup sushi rice (s...\n",
      "Name: ingredients, dtype: object\n",
      "1\n",
      "156    - 1 block (14-16 oz) of extra-firm tofu\\n- 2 t...\n",
      "Name: ingredients, dtype: object\n",
      "1\n",
      "157    for the red curry broth:\\n- 1 tablespoon cocon...\n",
      "Name: ingredients, dtype: object\n",
      "1\n",
      "158     are well distributed.\\n\\n4. taste and adjust ...\n",
      "Name: ingredients, dtype: object\n",
      "1\n",
      "159    \\n- 1 cup chickpea flour (besan)\\n- 1 cup wate...\n",
      "Name: ingredients, dtype: object\n",
      "1\n",
      "160    - 2 cups mixed berries (fresh or frozen, such ...\n",
      "Name: ingredients, dtype: object\n",
      "1\n",
      "161    **:\\n\\n- 1 cup dried green or brown lentils, r...\n",
      "Name: ingredients, dtype: object\n",
      "1\n",
      "162     for chili:**\\n* 2 tablespoons olive oil (240 ...\n",
      "Name: ingredients, dtype: object\n",
      "1\n",
      "163    \\n\\n- 1 tablespoon olive oil\\n- 1 large onion,...\n",
      "Name: ingredients, dtype: object\n",
      "1\n",
      "164    ingredient list:\\n- 14 ounces (400g) fresh wid...\n",
      "Name: ingredients, dtype: object\n",
      "1\n",
      "165    \\n\\n- 2 large sweet potatoes\\n- 2 tablespoons ...\n",
      "Name: ingredients, dtype: object\n",
      "1\n",
      "166    - wooden or metal skewers (if using wooden ske...\n",
      "Name: ingredients, dtype: object\n",
      "1\n",
      "167    - 2 whole wheat pita bread rounds\\n- 1 small c...\n",
      "Name: ingredients, dtype: object\n",
      "1\n",
      "168    \\n- 4 large eggs\\n- salt and pepper, to taste\\...\n",
      "Name: ingredients, dtype: object\n",
      "1\n",
      "169    **sushi rice:**\\n- 1 cup sushi rice (short-gra...\n",
      "Name: ingredients, dtype: object\n",
      "1\n",
      "170    - 2 large whole wheat tortillas or wraps\\n- 1 ...\n",
      "Name: ingredients, dtype: object\n",
      "1\n",
      "171    \\n- 1 lb beef, cut into cubes\\n- 2 tablespoons...\n",
      "Name: ingredients, dtype: object\n",
      "1\n",
      "172    - 1 medium zucchini, grated\\n- 1 medium sweet ...\n",
      "Name: ingredients, dtype: object\n"
     ]
    }
   ],
   "source": [
    "# update the data\n",
    "for title in clean_rc['title'].tolist():\n",
    "    mask = to_fill_df[\"title\"] == title\n",
    "    print(sum(mask))\n",
    "    print(clean_rc.loc[clean_rc['title']==title][\"ingredients\"])\n",
    "    to_fill_df.loc[mask, \"ingredients\"] = clean_rc.loc[clean_rc['title']==title, \"ingredients\"].values[0]\n",
    "    to_fill_df.loc[mask, \"preparation\"] = clean_rc.loc[clean_rc['title']==title, \"preparation_steps\"].values[0]\n",
    "    # update ingredients \n"
   ]
  },
  {
   "cell_type": "code",
   "execution_count": 646,
   "metadata": {},
   "outputs": [
    {
     "data": {
      "text/plain": [
       "'- 4 ripe bananas (about 1 1/3 cups mashed)\\n- 1/3 cup melted coconut oil or vegetable oil\\n- 1/2 cup maple syrup or agave nectar\\n- 1/4 cup plant-based milk (almond, soy, oat, etc.)\\n- 1 teaspoon vanilla extract\\n- 2 cups all-purpose flour (for a healthier option, you can use whole wheat flour)\\n- 1/2 teaspoon salt\\n- 1 teaspoon baking soda\\n- 1/2 teaspoon ground cinnamon (optional)\\n- 1/2 cup chopped walnuts or pecans (optional)\\n- 1/2 cup vegan chocolate chips or blueberries (optional)\\n\\n### '"
      ]
     },
     "execution_count": 646,
     "metadata": {},
     "output_type": "execute_result"
    }
   ],
   "source": [
    "clean_rc.loc[clean_rc['title']=='Vegan Banana Bread', \"ingredients\"].values[0]"
   ]
  },
  {
   "cell_type": "code",
   "execution_count": 639,
   "metadata": {},
   "outputs": [],
   "source": [
    "to_fill_df.loc[0, \"ingredients\"] = \"hola\" #clean_rc.loc[clean_rc['title']=='Vegan Banana Bread'][\"ingredients\"]"
   ]
  },
  {
   "cell_type": "code",
   "execution_count": 648,
   "metadata": {},
   "outputs": [
    {
     "data": {
      "text/plain": [
       "'- 1 block (14 to 16 oz) of firm or extra-firm tofu\\n- 1 tablespoon of olive oil or your preferred cooking oil\\n- 1/4 teaspoon of turmeric powder (for color)\\n- 1/2 teaspoon of garlic powder (or 1-2 cloves of fresh garlic, minced)\\n- 1/2 teaspoon of ground cumin (optional)\\n- 1/4 teaspoon of paprika (optional)\\n- salt and pepper, to taste\\n- 1/4 cup of nutritional yeast (for a cheesy flavor, optional)\\n- 1/4 cup of plant-based milk or water (if needed, for moisture)\\n- vegetables of choice: e.g., diced onions, bell peppers, tomatoes, spinach, kale, mushrooms (quantities as desired)\\n- fresh herbs like chives, parsley, or cilantro (optional, for garnish)\\n- squeeze of fresh lemon juice or a dash of kala namak (black salt, for an eggy flavor, optional)\\n\\n'"
      ]
     },
     "execution_count": 648,
     "metadata": {},
     "output_type": "execute_result"
    }
   ],
   "source": [
    "to_fill_df.loc[0, \"ingredients\"]"
   ]
  },
  {
   "cell_type": "code",
   "execution_count": 654,
   "metadata": {},
   "outputs": [],
   "source": [
    "filtered_recipes = full_data_df[~full_data_df[\"ingredients\"].isna()]"
   ]
  },
  {
   "cell_type": "code",
   "execution_count": 657,
   "metadata": {},
   "outputs": [],
   "source": [
    "filtered_recipes = filtered_recipes[~filtered_recipes[\"preparation\"].isna()]"
   ]
  },
  {
   "cell_type": "code",
   "execution_count": 667,
   "metadata": {},
   "outputs": [],
   "source": [
    "full_recipes = pd.concat([filtered_recipes, to_fill_df], axis=0)"
   ]
  },
  {
   "cell_type": "code",
   "execution_count": 669,
   "metadata": {},
   "outputs": [
    {
     "data": {
      "text/html": [
       "<div>\n",
       "<style scoped>\n",
       "    .dataframe tbody tr th:only-of-type {\n",
       "        vertical-align: middle;\n",
       "    }\n",
       "\n",
       "    .dataframe tbody tr th {\n",
       "        vertical-align: top;\n",
       "    }\n",
       "\n",
       "    .dataframe thead th {\n",
       "        text-align: right;\n",
       "    }\n",
       "</style>\n",
       "<table border=\"1\" class=\"dataframe\">\n",
       "  <thead>\n",
       "    <tr style=\"text-align: right;\">\n",
       "      <th></th>\n",
       "      <th>title</th>\n",
       "      <th>raw_text</th>\n",
       "      <th>meal_type</th>\n",
       "      <th>cultural_restriction</th>\n",
       "      <th>calories</th>\n",
       "      <th>allergies</th>\n",
       "      <th>recipeId</th>\n",
       "      <th>ingredients</th>\n",
       "      <th>preparation</th>\n",
       "      <th>index</th>\n",
       "    </tr>\n",
       "  </thead>\n",
       "  <tbody>\n",
       "    <tr>\n",
       "      <th>169</th>\n",
       "      <td>Vegetarian pad see ew (thick rice noodles)</td>\n",
       "      <td>52. Vegetarian pad see ew (thick rice noodles)...</td>\n",
       "      <td>dinner</td>\n",
       "      <td>halal</td>\n",
       "      <td>350</td>\n",
       "      <td>NaN</td>\n",
       "      <td>food_5809</td>\n",
       "      <td>ingredient list:\\n- 14 ounces (400g) fresh wid...</td>\n",
       "      <td>\\n1. **prepare the noodles:**\\n   - if you're ...</td>\n",
       "      <td>4945.0</td>\n",
       "    </tr>\n",
       "    <tr>\n",
       "      <th>170</th>\n",
       "      <td>Balsamic marinated grilled vegetables with cou...</td>\n",
       "      <td>74. Balsamic marinated grilled vegetables with...</td>\n",
       "      <td>dinner</td>\n",
       "      <td>halal</td>\n",
       "      <td>300</td>\n",
       "      <td>NaN</td>\n",
       "      <td>food_5831</td>\n",
       "      <td>**\\n\\nfor the balsamic marinade:\\n- 1/4 cup ba...</td>\n",
       "      <td>**\\n\\n1. **create the marinade:**\\n   - in a s...</td>\n",
       "      <td>4967.0</td>\n",
       "    </tr>\n",
       "    <tr>\n",
       "      <th>171</th>\n",
       "      <td>Grilled honey lime chicken with quinoa and veg...</td>\n",
       "      <td>80. Grilled honey lime chicken with quinoa and...</td>\n",
       "      <td>dinner</td>\n",
       "      <td>halal</td>\n",
       "      <td>400</td>\n",
       "      <td>NaN</td>\n",
       "      <td>food_5837</td>\n",
       "      <td>for grilled honey lime chicken:**\\n\\n- 4 bone...</td>\n",
       "      <td>**\\n\\n1. **marinate the chicken:**\\n   - in a ...</td>\n",
       "      <td>4973.0</td>\n",
       "    </tr>\n",
       "    <tr>\n",
       "      <th>172</th>\n",
       "      <td>Ratatouille with crusty bread</td>\n",
       "      <td>81. Ratatouille with crusty bread\\n- Calories:...</td>\n",
       "      <td>dinner</td>\n",
       "      <td>halal</td>\n",
       "      <td>350</td>\n",
       "      <td>NaN</td>\n",
       "      <td>food_5838</td>\n",
       "      <td>For the Ratatouille:\\n\\n1 large eggplant\\n2 me...</td>\n",
       "      <td>1. Prepare the Vegetables:\\n\\n* Wash and peel ...</td>\n",
       "      <td>4974.0</td>\n",
       "    </tr>\n",
       "  </tbody>\n",
       "</table>\n",
       "</div>"
      ],
      "text/plain": [
       "                                                 title  \\\n",
       "169         Vegetarian pad see ew (thick rice noodles)   \n",
       "170  Balsamic marinated grilled vegetables with cou...   \n",
       "171  Grilled honey lime chicken with quinoa and veg...   \n",
       "172                      Ratatouille with crusty bread   \n",
       "\n",
       "                                              raw_text meal_type  \\\n",
       "169  52. Vegetarian pad see ew (thick rice noodles)...    dinner   \n",
       "170  74. Balsamic marinated grilled vegetables with...    dinner   \n",
       "171  80. Grilled honey lime chicken with quinoa and...    dinner   \n",
       "172  81. Ratatouille with crusty bread\\n- Calories:...    dinner   \n",
       "\n",
       "    cultural_restriction calories allergies   recipeId  \\\n",
       "169                halal      350       NaN  food_5809   \n",
       "170                halal      300       NaN  food_5831   \n",
       "171                halal      400       NaN  food_5837   \n",
       "172                halal      350       NaN  food_5838   \n",
       "\n",
       "                                           ingredients  \\\n",
       "169  ingredient list:\\n- 14 ounces (400g) fresh wid...   \n",
       "170  **\\n\\nfor the balsamic marinade:\\n- 1/4 cup ba...   \n",
       "171   for grilled honey lime chicken:**\\n\\n- 4 bone...   \n",
       "172  For the Ratatouille:\\n\\n1 large eggplant\\n2 me...   \n",
       "\n",
       "                                           preparation   index  \n",
       "169  \\n1. **prepare the noodles:**\\n   - if you're ...  4945.0  \n",
       "170  **\\n\\n1. **create the marinade:**\\n   - in a s...  4967.0  \n",
       "171  **\\n\\n1. **marinate the chicken:**\\n   - in a ...  4973.0  \n",
       "172  1. Prepare the Vegetables:\\n\\n* Wash and peel ...  4974.0  "
      ]
     },
     "execution_count": 669,
     "metadata": {},
     "output_type": "execute_result"
    }
   ],
   "source": [
    "full_recipes.tail(4)"
   ]
  },
  {
   "cell_type": "code",
   "execution_count": 670,
   "metadata": {},
   "outputs": [],
   "source": [
    "unique_fixed_recipes = full_recipes.drop_duplicates(subset=\"title\", keep='last')"
   ]
  },
  {
   "cell_type": "code",
   "execution_count": 671,
   "metadata": {},
   "outputs": [
    {
     "data": {
      "text/plain": [
       "(6195, 10)"
      ]
     },
     "execution_count": 671,
     "metadata": {},
     "output_type": "execute_result"
    }
   ],
   "source": [
    "unique_fixed_recipes.shape"
   ]
  },
  {
   "cell_type": "code",
   "execution_count": 673,
   "metadata": {},
   "outputs": [
    {
     "name": "stderr",
     "output_type": "stream",
     "text": [
      "/tmp/ipykernel_4115765/2154705007.py:1: SettingWithCopyWarning: \n",
      "A value is trying to be set on a copy of a slice from a DataFrame\n",
      "\n",
      "See the caveats in the documentation: https://pandas.pydata.org/pandas-docs/stable/user_guide/indexing.html#returning-a-view-versus-a-copy\n",
      "  unique_fixed_recipes.drop(columns=['index'], inplace=True)\n"
     ]
    }
   ],
   "source": [
    "unique_fixed_recipes.drop(columns=['index'], inplace=True)"
   ]
  },
  {
   "cell_type": "code",
   "execution_count": 675,
   "metadata": {},
   "outputs": [],
   "source": [
    "unique_fixed_recipes.to_csv(\"full_recipes_6195.csv\", sep=\"|\", index=False)"
   ]
  },
  {
   "cell_type": "code",
   "execution_count": null,
   "metadata": {},
   "outputs": [],
   "source": [
    "unique_fixed_recipes"
   ]
  },
  {
   "cell_type": "code",
   "execution_count": 680,
   "metadata": {},
   "outputs": [
    {
     "data": {
      "text/plain": [
       "array(['vegan', 'vegetarian', 'halal', 'kosher', 'NotRestriction'],\n",
       "      dtype=object)"
      ]
     },
     "execution_count": 680,
     "metadata": {},
     "output_type": "execute_result"
    }
   ],
   "source": [
    "# sample for text \n",
    "unique_fixed_recipes[\"cultural_restriction\"].unique()"
   ]
  },
  {
   "cell_type": "code",
   "execution_count": 682,
   "metadata": {},
   "outputs": [],
   "source": [
    "sampling = unique_fixed_recipes.groupby('cultural_restriction', group_keys=False).apply(lambda x:\n",
    "    x.sample(200))"
   ]
  },
  {
   "cell_type": "code",
   "execution_count": 684,
   "metadata": {},
   "outputs": [
    {
     "data": {
      "text/html": [
       "<div>\n",
       "<style scoped>\n",
       "    .dataframe tbody tr th:only-of-type {\n",
       "        vertical-align: middle;\n",
       "    }\n",
       "\n",
       "    .dataframe tbody tr th {\n",
       "        vertical-align: top;\n",
       "    }\n",
       "\n",
       "    .dataframe thead th {\n",
       "        text-align: right;\n",
       "    }\n",
       "</style>\n",
       "<table border=\"1\" class=\"dataframe\">\n",
       "  <thead>\n",
       "    <tr style=\"text-align: right;\">\n",
       "      <th></th>\n",
       "      <th>title</th>\n",
       "      <th>raw_text</th>\n",
       "      <th>meal_type</th>\n",
       "      <th>cultural_restriction</th>\n",
       "      <th>calories</th>\n",
       "      <th>allergies</th>\n",
       "      <th>recipeId</th>\n",
       "      <th>ingredients</th>\n",
       "      <th>preparation</th>\n",
       "    </tr>\n",
       "  </thead>\n",
       "  <tbody>\n",
       "    <tr>\n",
       "      <th>6654</th>\n",
       "      <td>Raspberry almond chia seed pudding</td>\n",
       "      <td>74. Raspberry almond chia seed pudding - Calor...</td>\n",
       "      <td>breakfast</td>\n",
       "      <td>NotRestriction</td>\n",
       "      <td>250</td>\n",
       "      <td>NaN</td>\n",
       "      <td>food_8172</td>\n",
       "      <td>ingredients:\\n- 1 cup raspberries\\n- 1 cup alm...</td>\n",
       "      <td>\\n1. in a blender, combine the raspberries and...</td>\n",
       "    </tr>\n",
       "    <tr>\n",
       "      <th>6727</th>\n",
       "      <td>Cinnamon Swirl Bread</td>\n",
       "      <td>100. Cinnamon Swirl Bread:\\n- Calories per por...</td>\n",
       "      <td>morning snacks</td>\n",
       "      <td>NotRestriction</td>\n",
       "      <td>300.0</td>\n",
       "      <td>NaN</td>\n",
       "      <td>food_8250</td>\n",
       "      <td>ingredients:\\n- 2 cups all-purpose flour\\n- 2 ...</td>\n",
       "      <td>\\n1. in a medium bowl, whisk together the flou...</td>\n",
       "    </tr>\n",
       "    <tr>\n",
       "      <th>6687</th>\n",
       "      <td>Nutella Toast</td>\n",
       "      <td>28. Nutella Toast:\\n- Calories per portion: 25...</td>\n",
       "      <td>morning snacks</td>\n",
       "      <td>NotRestriction</td>\n",
       "      <td>250.0</td>\n",
       "      <td>NaN</td>\n",
       "      <td>food_8208</td>\n",
       "      <td>ingredients:\\n- 2 slices of bread\\n- nutella\\n\\n</td>\n",
       "      <td>\\n1. toast the bread slices until golden brown...</td>\n",
       "    </tr>\n",
       "    <tr>\n",
       "      <th>6661</th>\n",
       "      <td>Breakfast fried rice with veggies and eggs</td>\n",
       "      <td>81. Breakfast fried rice with veggies and eggs...</td>\n",
       "      <td>breakfast</td>\n",
       "      <td>NotRestriction</td>\n",
       "      <td>400</td>\n",
       "      <td>NaN</td>\n",
       "      <td>food_8179</td>\n",
       "      <td>sure! here's a recipe for breakfast fried rice...</td>\n",
       "      <td>\\n1. heat the vegetable oil in a large skillet...</td>\n",
       "    </tr>\n",
       "    <tr>\n",
       "      <th>6831</th>\n",
       "      <td>Stuffed zucchini boats with ground turkey</td>\n",
       "      <td>63. Stuffed zucchini boats with ground turkey ...</td>\n",
       "      <td>dinner</td>\n",
       "      <td>NotRestriction</td>\n",
       "      <td>350.0</td>\n",
       "      <td>contains lactose</td>\n",
       "      <td>food_8413</td>\n",
       "      <td>ingredients: \\n- 2 medium zucchini \\n- 1 pound...</td>\n",
       "      <td>\\n1. preheat your oven to 375°f (190°c). \\n2. ...</td>\n",
       "    </tr>\n",
       "    <tr>\n",
       "      <th>...</th>\n",
       "      <td>...</td>\n",
       "      <td>...</td>\n",
       "      <td>...</td>\n",
       "      <td>...</td>\n",
       "      <td>...</td>\n",
       "      <td>...</td>\n",
       "      <td>...</td>\n",
       "      <td>...</td>\n",
       "      <td>...</td>\n",
       "    </tr>\n",
       "    <tr>\n",
       "      <th>2408</th>\n",
       "      <td>Garlic Bread</td>\n",
       "      <td>39. Garlic Bread: 250 calories per portion, 1 ...</td>\n",
       "      <td>morning snacks</td>\n",
       "      <td>vegetarian</td>\n",
       "      <td>250.0</td>\n",
       "      <td>NaN</td>\n",
       "      <td>food_2661</td>\n",
       "      <td>ingredients:\\n- 1 loaf of french bread\\n- 1/2 ...</td>\n",
       "      <td>\\n1. preheat your oven to 375°f (190°c).\\n2. s...</td>\n",
       "    </tr>\n",
       "    <tr>\n",
       "      <th>3408</th>\n",
       "      <td>Chana masala</td>\n",
       "      <td>38. Chana masala - 300 calories per portion, 4...</td>\n",
       "      <td>dinner</td>\n",
       "      <td>vegetarian</td>\n",
       "      <td>300.0</td>\n",
       "      <td>contains nuts (India)</td>\n",
       "      <td>food_4018</td>\n",
       "      <td>ingredients:\\n- 2 cups cooked chickpeas\\n- 1 l...</td>\n",
       "      <td>\\n1. heat the vegetable oil in a large pan ove...</td>\n",
       "    </tr>\n",
       "    <tr>\n",
       "      <th>2461</th>\n",
       "      <td>Chocolate Chia Seed Pudding</td>\n",
       "      <td>33. Chocolate Chia Seed Pudding: 300 calories ...</td>\n",
       "      <td>morning snacks</td>\n",
       "      <td>vegetarian</td>\n",
       "      <td>300.0</td>\n",
       "      <td>contains dairy</td>\n",
       "      <td>food_2715</td>\n",
       "      <td>ingredients:\\n- 1/4 cup chia seeds\\n- 1 cup mi...</td>\n",
       "      <td>\\n1. in a medium-sized bowl, combine chia seed...</td>\n",
       "    </tr>\n",
       "    <tr>\n",
       "      <th>2513</th>\n",
       "      <td>Mango Chia Pudding</td>\n",
       "      <td>5. Mango Chia Pudding: (180 kcals per portion)...</td>\n",
       "      <td>morning snacks</td>\n",
       "      <td>vegetarian</td>\n",
       "      <td>180.0</td>\n",
       "      <td>NaN</td>\n",
       "      <td>food_2770</td>\n",
       "      <td>ingredients:\\n- 1 ripe mango\\n- 1/4 cup chia s...</td>\n",
       "      <td>\\n1. peel the mango and cut the flesh into sma...</td>\n",
       "    </tr>\n",
       "    <tr>\n",
       "      <th>3117</th>\n",
       "      <td>Caprese Panzanella Salad</td>\n",
       "      <td>22. Caprese Panzanella Salad - 310kcals per po...</td>\n",
       "      <td>lunch</td>\n",
       "      <td>vegetarian</td>\n",
       "      <td>310.0</td>\n",
       "      <td>contains gluten</td>\n",
       "      <td>food_3466</td>\n",
       "      <td>ingredients:\\n- 2 cups of day-old bread, cut i...</td>\n",
       "      <td>\\n1. preheat your oven to 350°f (175°c).\\n2. i...</td>\n",
       "    </tr>\n",
       "  </tbody>\n",
       "</table>\n",
       "<p>1000 rows × 9 columns</p>\n",
       "</div>"
      ],
      "text/plain": [
       "                                           title  \\\n",
       "6654          Raspberry almond chia seed pudding   \n",
       "6727                        Cinnamon Swirl Bread   \n",
       "6687                               Nutella Toast   \n",
       "6661  Breakfast fried rice with veggies and eggs   \n",
       "6831   Stuffed zucchini boats with ground turkey   \n",
       "...                                          ...   \n",
       "2408                                Garlic Bread   \n",
       "3408                                Chana masala   \n",
       "2461                 Chocolate Chia Seed Pudding   \n",
       "2513                          Mango Chia Pudding   \n",
       "3117                    Caprese Panzanella Salad   \n",
       "\n",
       "                                               raw_text       meal_type  \\\n",
       "6654  74. Raspberry almond chia seed pudding - Calor...       breakfast   \n",
       "6727  100. Cinnamon Swirl Bread:\\n- Calories per por...  morning snacks   \n",
       "6687  28. Nutella Toast:\\n- Calories per portion: 25...  morning snacks   \n",
       "6661  81. Breakfast fried rice with veggies and eggs...       breakfast   \n",
       "6831  63. Stuffed zucchini boats with ground turkey ...          dinner   \n",
       "...                                                 ...             ...   \n",
       "2408  39. Garlic Bread: 250 calories per portion, 1 ...  morning snacks   \n",
       "3408  38. Chana masala - 300 calories per portion, 4...          dinner   \n",
       "2461  33. Chocolate Chia Seed Pudding: 300 calories ...  morning snacks   \n",
       "2513  5. Mango Chia Pudding: (180 kcals per portion)...  morning snacks   \n",
       "3117  22. Caprese Panzanella Salad - 310kcals per po...           lunch   \n",
       "\n",
       "     cultural_restriction calories              allergies   recipeId  \\\n",
       "6654       NotRestriction      250                    NaN  food_8172   \n",
       "6727       NotRestriction    300.0                    NaN  food_8250   \n",
       "6687       NotRestriction    250.0                    NaN  food_8208   \n",
       "6661       NotRestriction      400                    NaN  food_8179   \n",
       "6831       NotRestriction    350.0       contains lactose  food_8413   \n",
       "...                   ...      ...                    ...        ...   \n",
       "2408           vegetarian    250.0                    NaN  food_2661   \n",
       "3408           vegetarian    300.0  contains nuts (India)  food_4018   \n",
       "2461           vegetarian    300.0         contains dairy  food_2715   \n",
       "2513           vegetarian    180.0                    NaN  food_2770   \n",
       "3117           vegetarian    310.0        contains gluten  food_3466   \n",
       "\n",
       "                                            ingredients  \\\n",
       "6654  ingredients:\\n- 1 cup raspberries\\n- 1 cup alm...   \n",
       "6727  ingredients:\\n- 2 cups all-purpose flour\\n- 2 ...   \n",
       "6687   ingredients:\\n- 2 slices of bread\\n- nutella\\n\\n   \n",
       "6661  sure! here's a recipe for breakfast fried rice...   \n",
       "6831  ingredients: \\n- 2 medium zucchini \\n- 1 pound...   \n",
       "...                                                 ...   \n",
       "2408  ingredients:\\n- 1 loaf of french bread\\n- 1/2 ...   \n",
       "3408  ingredients:\\n- 2 cups cooked chickpeas\\n- 1 l...   \n",
       "2461  ingredients:\\n- 1/4 cup chia seeds\\n- 1 cup mi...   \n",
       "2513  ingredients:\\n- 1 ripe mango\\n- 1/4 cup chia s...   \n",
       "3117  ingredients:\\n- 2 cups of day-old bread, cut i...   \n",
       "\n",
       "                                            preparation  \n",
       "6654  \\n1. in a blender, combine the raspberries and...  \n",
       "6727  \\n1. in a medium bowl, whisk together the flou...  \n",
       "6687  \\n1. toast the bread slices until golden brown...  \n",
       "6661  \\n1. heat the vegetable oil in a large skillet...  \n",
       "6831  \\n1. preheat your oven to 375°f (190°c). \\n2. ...  \n",
       "...                                                 ...  \n",
       "2408  \\n1. preheat your oven to 375°f (190°c).\\n2. s...  \n",
       "3408  \\n1. heat the vegetable oil in a large pan ove...  \n",
       "2461  \\n1. in a medium-sized bowl, combine chia seed...  \n",
       "2513  \\n1. peel the mango and cut the flesh into sma...  \n",
       "3117  \\n1. preheat your oven to 350°f (175°c).\\n2. i...  \n",
       "\n",
       "[1000 rows x 9 columns]"
      ]
     },
     "execution_count": 684,
     "metadata": {},
     "output_type": "execute_result"
    }
   ],
   "source": [
    "sampling"
   ]
  },
  {
   "cell_type": "code",
   "execution_count": 686,
   "metadata": {},
   "outputs": [],
   "source": [
    "# prepare output for benoit \n",
    "import os "
   ]
  },
  {
   "cell_type": "code",
   "execution_count": 687,
   "metadata": {},
   "outputs": [],
   "source": [
    "base_dir = \"/home/victor/Documents/Expectation_data_generation/src/outputs/16-01-2024_17-12-01\""
   ]
  },
  {
   "cell_type": "code",
   "execution_count": 695,
   "metadata": {},
   "outputs": [],
   "source": [
    "user_df = pd.read_csv(os.path.join(base_dir, 'users_dataset.csv'), index_col=0)\n",
    "tracking_df = pd.read_csv(os.path.join(base_dir, 'tracking.csv'), index_col=0)"
   ]
  },
  {
   "cell_type": "code",
   "execution_count": 697,
   "metadata": {},
   "outputs": [
    {
     "data": {
      "text/plain": [
       "Index(['userId', 'nutrition_goal', 'clinical_gender', 'age_range',\n",
       "       'life_style', 'weight', 'height', 'projected_daily_calories',\n",
       "       'current_daily_calories', 'country_of_origin', 'living_country',\n",
       "       'current_location', 'cultural_factor', 'probabilities', 'allergy',\n",
       "       'Multi-allergy', 'current_working_status', 'marital_status',\n",
       "       'ethnicity', 'BMI', 'next_BMI'],\n",
       "      dtype='object')"
      ]
     },
     "execution_count": 697,
     "metadata": {},
     "output_type": "execute_result"
    }
   ],
   "source": [
    "user_df.columns"
   ]
  },
  {
   "cell_type": "code",
   "execution_count": 698,
   "metadata": {},
   "outputs": [],
   "source": [
    "user_features = user_df[['userId', 'nutrition_goal', 'clinical_gender', 'age_range',\n",
    "                         'life_style', 'weight', 'height', 'projected_daily_calories',\n",
    "                         'current_daily_calories', 'country_of_origin', 'living_country',\n",
    "                         'allergy', 'cultural_factor', 'Multi-allergy',\n",
    "                         'current_working_status', 'marital_status', 'ethnicity', 'BMI']]"
   ]
  },
  {
   "cell_type": "code",
   "execution_count": 700,
   "metadata": {},
   "outputs": [],
   "source": [
    "tracking_features = tracking_df[['day_number', \n",
    "                                 'meal_type', \n",
    "                                 'userId', \n",
    "                                 'foodId',\n",
    "                                 'time_of_meal_consumption', \n",
    "                                 'place_of_meal_consumption',\n",
    "                                 'social_situation_of_meal_consumption']]"
   ]
  },
  {
   "cell_type": "code",
   "execution_count": 701,
   "metadata": {},
   "outputs": [],
   "source": [
    "joint_dataset = user_features.merge(tracking_features, on='userId')"
   ]
  },
  {
   "cell_type": "code",
   "execution_count": 704,
   "metadata": {},
   "outputs": [],
   "source": [
    "joint_dataset.rename(columns={'foodId': 'label'}, inplace=True)"
   ]
  },
  {
   "cell_type": "code",
   "execution_count": 706,
   "metadata": {},
   "outputs": [],
   "source": [
    "joint_dataset = joint_dataset[['userId', 'nutrition_goal', 'clinical_gender', 'age_range',\n",
    "       'life_style', 'weight', 'height', 'projected_daily_calories',\n",
    "       'current_daily_calories', 'country_of_origin', 'living_country',\n",
    "       'allergy', 'cultural_factor', 'Multi-allergy', 'current_working_status',\n",
    "       'marital_status', 'ethnicity', 'BMI', 'day_number', 'meal_type',\n",
    "       'time_of_meal_consumption', 'place_of_meal_consumption',\n",
    "       'social_situation_of_meal_consumption', 'label']]"
   ]
  },
  {
   "cell_type": "code",
   "execution_count": 707,
   "metadata": {},
   "outputs": [],
   "source": [
    "joint_dataset.to_csv(\"dataset_1000_recipes.csv\", index=False)"
   ]
  },
  {
   "cell_type": "code",
   "execution_count": 699,
   "metadata": {},
   "outputs": [
    {
     "data": {
      "text/plain": [
       "Index(['day_number', 'meal_type', 'userId', 'foodId',\n",
       "       'time_of_meal_consumption', 'place_of_meal_consumption',\n",
       "       'social_situation_of_meal_consumption', 'appreciation_feedback'],\n",
       "      dtype='object')"
      ]
     },
     "execution_count": 699,
     "metadata": {},
     "output_type": "execute_result"
    }
   ],
   "source": [
    "tracking_df.columns"
   ]
  },
  {
   "cell_type": "code",
   "execution_count": 839,
   "metadata": {},
   "outputs": [],
   "source": [
    "# load second bach recipes\n",
    "df_additional_raw = pd.read_csv(\"/home/victor/Documents/Expectation_data_generation/df_protein_raw.csv\",\n",
    "                            sep=\"|\", index_col=0)"
   ]
  },
  {
   "cell_type": "code",
   "execution_count": 840,
   "metadata": {},
   "outputs": [],
   "source": [
    "def preprocess_text(text:str, pattern: str):\n",
    "    lower_text = text.lower()\n",
    "    ans = re.findall(pattern, lower_text, re.IGNORECASE)\n",
    "    return ans"
   ]
  },
  {
   "cell_type": "code",
   "execution_count": 765,
   "metadata": {},
   "outputs": [],
   "source": [
    "pattern = r'\\d+\\.?\\d*(?=g|gram|grams)'"
   ]
  },
  {
   "cell_type": "code",
   "execution_count": 766,
   "metadata": {},
   "outputs": [],
   "source": [
    "partial_extractor = partial(preprocess_text, pattern=pattern)"
   ]
  },
  {
   "cell_type": "code",
   "execution_count": 841,
   "metadata": {},
   "outputs": [],
   "source": [
    "extracted_results = df_additional_raw['raw_text'].apply(lambda x: partial_extractor(x))"
   ]
  },
  {
   "cell_type": "code",
   "execution_count": 842,
   "metadata": {},
   "outputs": [],
   "source": [
    "# second revision \n",
    "good_rows = extracted_results.apply(lambda x: len(x) > 1)"
   ]
  },
  {
   "cell_type": "code",
   "execution_count": 843,
   "metadata": {},
   "outputs": [
    {
     "data": {
      "text/plain": [
       "4116"
      ]
     },
     "execution_count": 843,
     "metadata": {},
     "output_type": "execute_result"
    }
   ],
   "source": [
    "sum(good_rows)"
   ]
  },
  {
   "cell_type": "code",
   "execution_count": 844,
   "metadata": {},
   "outputs": [],
   "source": [
    "rows_to_process = extracted_results[good_rows]"
   ]
  },
  {
   "cell_type": "code",
   "execution_count": 845,
   "metadata": {},
   "outputs": [],
   "source": [
    "def extract_number(list_num: List[float]):\n",
    "    last_num = list_num[-1]\n",
    "    return float(last_num)"
   ]
  },
  {
   "cell_type": "code",
   "execution_count": 846,
   "metadata": {},
   "outputs": [],
   "source": [
    "numeric_df = rows_to_process.apply(lambda x : extract_number(x))"
   ]
  },
  {
   "cell_type": "code",
   "execution_count": 847,
   "metadata": {},
   "outputs": [],
   "source": [
    "mask = numeric_df >= 100.00"
   ]
  },
  {
   "cell_type": "code",
   "execution_count": 848,
   "metadata": {},
   "outputs": [
    {
     "data": {
      "text/plain": [
       "654"
      ]
     },
     "execution_count": 848,
     "metadata": {},
     "output_type": "execute_result"
    }
   ],
   "source": [
    "sum(mask)"
   ]
  },
  {
   "cell_type": "code",
   "execution_count": 849,
   "metadata": {},
   "outputs": [],
   "source": [
    "ready_recipes = numeric_df[~mask]"
   ]
  },
  {
   "cell_type": "code",
   "execution_count": 850,
   "metadata": {},
   "outputs": [],
   "source": [
    "df_additional.loc[ready_recipes.index, \"protein\"] = ready_recipes.values"
   ]
  },
  {
   "cell_type": "code",
   "execution_count": 851,
   "metadata": {},
   "outputs": [
    {
     "data": {
      "text/html": [
       "<div>\n",
       "<style scoped>\n",
       "    .dataframe tbody tr th:only-of-type {\n",
       "        vertical-align: middle;\n",
       "    }\n",
       "\n",
       "    .dataframe tbody tr th {\n",
       "        vertical-align: top;\n",
       "    }\n",
       "\n",
       "    .dataframe thead th {\n",
       "        text-align: right;\n",
       "    }\n",
       "</style>\n",
       "<table border=\"1\" class=\"dataframe\">\n",
       "  <thead>\n",
       "    <tr style=\"text-align: right;\">\n",
       "      <th></th>\n",
       "      <th>title</th>\n",
       "      <th>raw_text</th>\n",
       "      <th>fat</th>\n",
       "      <th>fiber</th>\n",
       "      <th>protein</th>\n",
       "      <th>carbs</th>\n",
       "    </tr>\n",
       "  </thead>\n",
       "  <tbody>\n",
       "    <tr>\n",
       "      <th>0</th>\n",
       "      <td>Vegan Coconut Chia Pudding</td>\n",
       "      <td>To calculate the total fat per 100g for the gi...</td>\n",
       "      <td>NaN</td>\n",
       "      <td>5.2</td>\n",
       "      <td>NaN</td>\n",
       "      <td>NaN</td>\n",
       "    </tr>\n",
       "    <tr>\n",
       "      <th>1</th>\n",
       "      <td>Vegan Guacamole</td>\n",
       "      <td>The total fat per 100g in the recipe is 14g.</td>\n",
       "      <td>14.0</td>\n",
       "      <td>1.4</td>\n",
       "      <td>NaN</td>\n",
       "      <td>NaN</td>\n",
       "    </tr>\n",
       "    <tr>\n",
       "      <th>2</th>\n",
       "      <td>Vegan Spinach Dip</td>\n",
       "      <td>The total fat per 100g from the recipe is 42.4g.</td>\n",
       "      <td>42.4</td>\n",
       "      <td>NaN</td>\n",
       "      <td>NaN</td>\n",
       "      <td>NaN</td>\n",
       "    </tr>\n",
       "    <tr>\n",
       "      <th>3</th>\n",
       "      <td>Vegan Tofu Stir</td>\n",
       "      <td>To calculate the total fat per 100g from the g...</td>\n",
       "      <td>NaN</td>\n",
       "      <td>0.0</td>\n",
       "      <td>10.0</td>\n",
       "      <td>NaN</td>\n",
       "    </tr>\n",
       "    <tr>\n",
       "      <th>4</th>\n",
       "      <td>Vegan Sweet Potato Casserole</td>\n",
       "      <td>To calculate the total fat per 100g in the rec...</td>\n",
       "      <td>NaN</td>\n",
       "      <td>NaN</td>\n",
       "      <td>NaN</td>\n",
       "      <td>NaN</td>\n",
       "    </tr>\n",
       "    <tr>\n",
       "      <th>...</th>\n",
       "      <td>...</td>\n",
       "      <td>...</td>\n",
       "      <td>...</td>\n",
       "      <td>...</td>\n",
       "      <td>...</td>\n",
       "      <td>...</td>\n",
       "    </tr>\n",
       "    <tr>\n",
       "      <th>6860</th>\n",
       "      <td>Mexican stuffed bell peppers with ground beef ...</td>\n",
       "      <td>To calculate the total fat content per 100g of...</td>\n",
       "      <td>NaN</td>\n",
       "      <td>NaN</td>\n",
       "      <td>24.0</td>\n",
       "      <td>NaN</td>\n",
       "    </tr>\n",
       "    <tr>\n",
       "      <th>6861</th>\n",
       "      <td>Caprese quinoa salad with grilled chicken</td>\n",
       "      <td>Since the recipe does not specify the exact am...</td>\n",
       "      <td>NaN</td>\n",
       "      <td>NaN</td>\n",
       "      <td>21.4</td>\n",
       "      <td>NaN</td>\n",
       "    </tr>\n",
       "    <tr>\n",
       "      <th>6862</th>\n",
       "      <td>Baked coconut shrimp with mango salsa and jasm...</td>\n",
       "      <td>To calculate the total fat per 100g, we need t...</td>\n",
       "      <td>NaN</td>\n",
       "      <td>1.2</td>\n",
       "      <td>7.3</td>\n",
       "      <td>18.4</td>\n",
       "    </tr>\n",
       "    <tr>\n",
       "      <th>6863</th>\n",
       "      <td>One</td>\n",
       "      <td>To determine the total fat per 100g in the rec...</td>\n",
       "      <td>NaN</td>\n",
       "      <td>NaN</td>\n",
       "      <td>9.3</td>\n",
       "      <td>9.3</td>\n",
       "    </tr>\n",
       "    <tr>\n",
       "      <th>6864</th>\n",
       "      <td>Stuffed bell peppers with couscous, chickpeas,...</td>\n",
       "      <td>To calculate the total fat per 100g from the g...</td>\n",
       "      <td>NaN</td>\n",
       "      <td>NaN</td>\n",
       "      <td>NaN</td>\n",
       "      <td>NaN</td>\n",
       "    </tr>\n",
       "  </tbody>\n",
       "</table>\n",
       "<p>6865 rows × 6 columns</p>\n",
       "</div>"
      ],
      "text/plain": [
       "                                                  title  \\\n",
       "0                            Vegan Coconut Chia Pudding   \n",
       "1                                       Vegan Guacamole   \n",
       "2                                     Vegan Spinach Dip   \n",
       "3                                       Vegan Tofu Stir   \n",
       "4                          Vegan Sweet Potato Casserole   \n",
       "...                                                 ...   \n",
       "6860  Mexican stuffed bell peppers with ground beef ...   \n",
       "6861          Caprese quinoa salad with grilled chicken   \n",
       "6862  Baked coconut shrimp with mango salsa and jasm...   \n",
       "6863                                                One   \n",
       "6864  Stuffed bell peppers with couscous, chickpeas,...   \n",
       "\n",
       "                                               raw_text   fat  fiber  protein  \\\n",
       "0     To calculate the total fat per 100g for the gi...   NaN    5.2      NaN   \n",
       "1          The total fat per 100g in the recipe is 14g.  14.0    1.4      NaN   \n",
       "2      The total fat per 100g from the recipe is 42.4g.  42.4    NaN      NaN   \n",
       "3     To calculate the total fat per 100g from the g...   NaN    0.0     10.0   \n",
       "4     To calculate the total fat per 100g in the rec...   NaN    NaN      NaN   \n",
       "...                                                 ...   ...    ...      ...   \n",
       "6860  To calculate the total fat content per 100g of...   NaN    NaN     24.0   \n",
       "6861  Since the recipe does not specify the exact am...   NaN    NaN     21.4   \n",
       "6862  To calculate the total fat per 100g, we need t...   NaN    1.2      7.3   \n",
       "6863  To determine the total fat per 100g in the rec...   NaN    NaN      9.3   \n",
       "6864  To calculate the total fat per 100g from the g...   NaN    NaN      NaN   \n",
       "\n",
       "      carbs  \n",
       "0       NaN  \n",
       "1       NaN  \n",
       "2       NaN  \n",
       "3       NaN  \n",
       "4       NaN  \n",
       "...     ...  \n",
       "6860    NaN  \n",
       "6861    NaN  \n",
       "6862   18.4  \n",
       "6863    9.3  \n",
       "6864    NaN  \n",
       "\n",
       "[6865 rows x 6 columns]"
      ]
     },
     "execution_count": 851,
     "metadata": {},
     "output_type": "execute_result"
    }
   ],
   "source": [
    "df_additional"
   ]
  },
  {
   "cell_type": "code",
   "execution_count": 853,
   "metadata": {},
   "outputs": [
    {
     "data": {
      "text/plain": [
       "'Based on the listed ingredients, it is not possible to accurately determine the total protein per 100g without specific quantities for each ingredient.'"
      ]
     },
     "execution_count": 853,
     "metadata": {},
     "output_type": "execute_result"
    }
   ],
   "source": [
    "df_additional_raw.loc[6863, \"raw_text\"]"
   ]
  },
  {
   "cell_type": "code",
   "execution_count": 864,
   "metadata": {},
   "outputs": [],
   "source": [
    "unique_with_nutritional_info = pd.merge(unique_fixed_recipes, df_additional[[\"title\",\"carbs\", \"fat\", \"fiber\", \"protein\"]], on='title', \n",
    "         how='left')"
   ]
  },
  {
   "cell_type": "code",
   "execution_count": 865,
   "metadata": {},
   "outputs": [
    {
     "data": {
      "text/plain": [
       "(6195, 9)"
      ]
     },
     "execution_count": 865,
     "metadata": {},
     "output_type": "execute_result"
    }
   ],
   "source": [
    "unique_fixed_recipes.shape"
   ]
  },
  {
   "cell_type": "code",
   "execution_count": 866,
   "metadata": {},
   "outputs": [],
   "source": [
    "unique_with_nutritional_info.to_csv(\"unique_recipes_6195_with_nutritional.csv\", sep='|')"
   ]
  },
  {
   "cell_type": "code",
   "execution_count": 867,
   "metadata": {},
   "outputs": [],
   "source": [
    "# load additional data \n",
    "additional_data = pd.read_csv(\"/home/victor/Documents/Expectation_data_generation/full_reyhan_format_old_recipes.csv\",\n",
    "                              sep=\"|\")"
   ]
  },
  {
   "cell_type": "code",
   "execution_count": 868,
   "metadata": {},
   "outputs": [
    {
     "data": {
      "text/plain": [
       "Index(['title', 'raw_text', 'meal_type', 'cultural_restriction', 'calories',\n",
       "       'allergies', 'recipeId', 'ingredients', 'preparation', 'taste',\n",
       "       'cooking_style', 'meal_type_1', 'prep_time', 'price'],\n",
       "      dtype='object')"
      ]
     },
     "execution_count": 868,
     "metadata": {},
     "output_type": "execute_result"
    }
   ],
   "source": [
    "additional_data.columns"
   ]
  },
  {
   "cell_type": "code",
   "execution_count": 869,
   "metadata": {},
   "outputs": [],
   "source": [
    "join_df = pd.merge(unique_with_nutritional_info, additional_data[['title', \n",
    "                                                                  'taste',\n",
    "                                                                  'cooking_style', \n",
    "                                                                  'meal_type_1', \n",
    "                                                                  'prep_time', \n",
    "                                                                  'price']], \n",
    "                   on='title', how='left')"
   ]
  },
  {
   "cell_type": "code",
   "execution_count": 870,
   "metadata": {},
   "outputs": [
    {
     "data": {
      "text/plain": [
       "(6195, 18)"
      ]
     },
     "execution_count": 870,
     "metadata": {},
     "output_type": "execute_result"
    }
   ],
   "source": [
    "join_df.shape"
   ]
  },
  {
   "cell_type": "code",
   "execution_count": 871,
   "metadata": {},
   "outputs": [],
   "source": [
    "join_df.to_csv(\"df_reyhan_format_full_recipes_6195.csv\")"
   ]
  },
  {
   "cell_type": "code",
   "execution_count": 879,
   "metadata": {},
   "outputs": [],
   "source": [
    "load_new_batch = pd.read_csv(\"/home/victor/Documents/Expectation_data_generation/src/meals_collection/reyhan_format_new_recipes.csv\", \n",
    "                             sep='|')"
   ]
  },
  {
   "cell_type": "code",
   "execution_count": 880,
   "metadata": {},
   "outputs": [
    {
     "data": {
      "text/plain": [
       "Index(['title', 'raw_text', 'Ingredients', 'Preparation', 'Carbohydrates',\n",
       "       'Protein', 'Fat ', 'Fiber', 'Calories', 'Allergens', 'meal_types',\n",
       "       'Country', 'taste', 'cooking_style', 'meal_type', 'preparation_time',\n",
       "       'price'],\n",
       "      dtype='object')"
      ]
     },
     "execution_count": 880,
     "metadata": {},
     "output_type": "execute_result"
    }
   ],
   "source": [
    "# concatenate recipes \n",
    "load_new_batch.columns"
   ]
  },
  {
   "cell_type": "code",
   "execution_count": 884,
   "metadata": {},
   "outputs": [],
   "source": [
    "map_names  = {'Ingredients': 'ingredients', \n",
    "              'Preparation': 'preparation',\n",
    "              'Carbohydrates': 'carbs',\n",
    "              'Protein': 'protein', \n",
    "              'Fat ': 'fat', \n",
    "              'Fiber': 'fiber', \n",
    "              'Calories': 'calories', \n",
    "              'Allergens': 'allergies', \n",
    "              'meal_types': 'meal_type_1',\n",
    "              'Country': 'country', \n",
    "              'preparation_time': 'prep_time'}"
   ]
  },
  {
   "cell_type": "code",
   "execution_count": 885,
   "metadata": {},
   "outputs": [],
   "source": [
    "new_batch_df = load_new_batch.rename(columns=map_names)"
   ]
  },
  {
   "cell_type": "code",
   "execution_count": 886,
   "metadata": {},
   "outputs": [],
   "source": [
    "final_df = pd.concat([join_df, new_batch_df], axis=0, ignore_index=True)"
   ]
  },
  {
   "cell_type": "code",
   "execution_count": 887,
   "metadata": {},
   "outputs": [
    {
     "data": {
      "text/plain": [
       "(6522, 19)"
      ]
     },
     "execution_count": 887,
     "metadata": {},
     "output_type": "execute_result"
    }
   ],
   "source": [
    "final_df.shape"
   ]
  },
  {
   "cell_type": "code",
   "execution_count": 888,
   "metadata": {},
   "outputs": [],
   "source": [
    "# add 478 recipes \n",
    "indian_batch = pd.read_csv(\"/home/victor/Documents/Expectation_data_generation/src/meals_collection/indian_batch/IndianFoodDatasetCSV.csv\")"
   ]
  },
  {
   "cell_type": "code",
   "execution_count": 894,
   "metadata": {},
   "outputs": [],
   "source": [
    "# choose recipes \n",
    "choosen_recipes = indian_batch.sample(478)"
   ]
  },
  {
   "cell_type": "code",
   "execution_count": 895,
   "metadata": {},
   "outputs": [
    {
     "data": {
      "text/plain": [
       "Index(['Srno', 'RecipeName', 'TranslatedRecipeName', 'Ingredients',\n",
       "       'TranslatedIngredients', 'PrepTimeInMins', 'CookTimeInMins',\n",
       "       'TotalTimeInMins', 'Servings', 'Cuisine', 'Course', 'Diet',\n",
       "       'Instructions', 'TranslatedInstructions', 'URL'],\n",
       "      dtype='object')"
      ]
     },
     "execution_count": 895,
     "metadata": {},
     "output_type": "execute_result"
    }
   ],
   "source": [
    "choosen_recipes.columns"
   ]
  },
  {
   "cell_type": "code",
   "execution_count": 896,
   "metadata": {},
   "outputs": [],
   "source": [
    "# choose data \n",
    "df_indian = choosen_recipes[['TranslatedRecipeName',\n",
    "       'TranslatedIngredients', \n",
    "       'TotalTimeInMins', 'Cuisine', 'Course', 'Diet',\n",
    "     'TranslatedInstructions']]"
   ]
  },
  {
   "cell_type": "code",
   "execution_count": 892,
   "metadata": {},
   "outputs": [
    {
     "data": {
      "text/plain": [
       "Index(['title', 'raw_text', 'meal_type', 'cultural_restriction', 'calories',\n",
       "       'allergies', 'recipeId', 'ingredients', 'preparation', 'carbs', 'fat',\n",
       "       'fiber', 'protein', 'taste', 'cooking_style', 'meal_type_1',\n",
       "       'prep_time', 'price', 'country'],\n",
       "      dtype='object')"
      ]
     },
     "execution_count": 892,
     "metadata": {},
     "output_type": "execute_result"
    }
   ],
   "source": [
    "final_df.columns"
   ]
  },
  {
   "cell_type": "code",
   "execution_count": 898,
   "metadata": {},
   "outputs": [
    {
     "name": "stderr",
     "output_type": "stream",
     "text": [
      "/tmp/ipykernel_4115765/2661746753.py:2: SettingWithCopyWarning: \n",
      "A value is trying to be set on a copy of a slice from a DataFrame\n",
      "\n",
      "See the caveats in the documentation: https://pandas.pydata.org/pandas-docs/stable/user_guide/indexing.html#returning-a-view-versus-a-copy\n",
      "  df_indian.rename(columns={\n"
     ]
    }
   ],
   "source": [
    "# change names \n",
    "df_indian.rename(columns={\n",
    "    'TranslatedRecipeName': 'title',\n",
    "       'TranslatedIngredients': 'ingredients', \n",
    "       'TotalTimeInMins': 'prep_time', 'Cuisine': 'country', 'Course':'meal_type', \n",
    "       'Diet': 'meal_type_1',\n",
    "     'TranslatedInstructions': 'preparation'\n",
    "    \n",
    "}, inplace=True)"
   ]
  },
  {
   "cell_type": "code",
   "execution_count": 899,
   "metadata": {},
   "outputs": [
    {
     "data": {
      "text/html": [
       "<div>\n",
       "<style scoped>\n",
       "    .dataframe tbody tr th:only-of-type {\n",
       "        vertical-align: middle;\n",
       "    }\n",
       "\n",
       "    .dataframe tbody tr th {\n",
       "        vertical-align: top;\n",
       "    }\n",
       "\n",
       "    .dataframe thead th {\n",
       "        text-align: right;\n",
       "    }\n",
       "</style>\n",
       "<table border=\"1\" class=\"dataframe\">\n",
       "  <thead>\n",
       "    <tr style=\"text-align: right;\">\n",
       "      <th></th>\n",
       "      <th>title</th>\n",
       "      <th>ingredients</th>\n",
       "      <th>prep_time</th>\n",
       "      <th>country</th>\n",
       "      <th>meal_type</th>\n",
       "      <th>meal_type_1</th>\n",
       "      <th>preparation</th>\n",
       "    </tr>\n",
       "  </thead>\n",
       "  <tbody>\n",
       "    <tr>\n",
       "      <th>5224</th>\n",
       "      <td>Penne With Creamy Pumpkin Sauce Recipe With Br...</td>\n",
       "      <td>500 grams Broccoli,500 grams Penne pasta,2 cup...</td>\n",
       "      <td>60</td>\n",
       "      <td>Italian Recipes</td>\n",
       "      <td>Main Course</td>\n",
       "      <td>Vegetarian</td>\n",
       "      <td>To begin making the Penne with Creamy Pumpkin ...</td>\n",
       "    </tr>\n",
       "    <tr>\n",
       "      <th>897</th>\n",
       "      <td>Tomato Jam Recipe</td>\n",
       "      <td>1 kg Tomato - ripe,3/4 kg Sugar,Salt - a pinch...</td>\n",
       "      <td>50</td>\n",
       "      <td>Indian</td>\n",
       "      <td>World Breakfast</td>\n",
       "      <td>Vegetarian</td>\n",
       "      <td>To begin making the Tomato Jam recipe, wash to...</td>\n",
       "    </tr>\n",
       "    <tr>\n",
       "      <th>6262</th>\n",
       "      <td>Masaura And Potato Tarkari Recipe</td>\n",
       "      <td>1 cups Masauras,1 cup Potatoes (Aloo) - choppe...</td>\n",
       "      <td>35</td>\n",
       "      <td>Indian</td>\n",
       "      <td>Lunch</td>\n",
       "      <td>Vegetarian</td>\n",
       "      <td>To begin making the Masaura And Potato Tarkari...</td>\n",
       "    </tr>\n",
       "    <tr>\n",
       "      <th>6574</th>\n",
       "      <td>Potoler Dolma Recipe - Potoler Dolma Recipe</td>\n",
       "      <td>6 Parwal - Peel and cut on the side, 15 cashew...</td>\n",
       "      <td>50</td>\n",
       "      <td>Bengali Recipes</td>\n",
       "      <td>Lunch</td>\n",
       "      <td>Vegetarian</td>\n",
       "      <td>To make Potolare Dolma recipe, first heat 2 cu...</td>\n",
       "    </tr>\n",
       "  </tbody>\n",
       "</table>\n",
       "</div>"
      ],
      "text/plain": [
       "                                                  title  \\\n",
       "5224  Penne With Creamy Pumpkin Sauce Recipe With Br...   \n",
       "897                                   Tomato Jam Recipe   \n",
       "6262                  Masaura And Potato Tarkari Recipe   \n",
       "6574        Potoler Dolma Recipe - Potoler Dolma Recipe   \n",
       "\n",
       "                                            ingredients  prep_time  \\\n",
       "5224  500 grams Broccoli,500 grams Penne pasta,2 cup...         60   \n",
       "897   1 kg Tomato - ripe,3/4 kg Sugar,Salt - a pinch...         50   \n",
       "6262  1 cups Masauras,1 cup Potatoes (Aloo) - choppe...         35   \n",
       "6574  6 Parwal - Peel and cut on the side, 15 cashew...         50   \n",
       "\n",
       "              country        meal_type meal_type_1  \\\n",
       "5224  Italian Recipes      Main Course  Vegetarian   \n",
       "897            Indian  World Breakfast  Vegetarian   \n",
       "6262           Indian            Lunch  Vegetarian   \n",
       "6574  Bengali Recipes            Lunch  Vegetarian   \n",
       "\n",
       "                                            preparation  \n",
       "5224  To begin making the Penne with Creamy Pumpkin ...  \n",
       "897   To begin making the Tomato Jam recipe, wash to...  \n",
       "6262  To begin making the Masaura And Potato Tarkari...  \n",
       "6574  To make Potolare Dolma recipe, first heat 2 cu...  "
      ]
     },
     "execution_count": 899,
     "metadata": {},
     "output_type": "execute_result"
    }
   ],
   "source": [
    "df_indian.head(4)"
   ]
  },
  {
   "cell_type": "code",
   "execution_count": 900,
   "metadata": {},
   "outputs": [],
   "source": [
    "final_7000 = pd.concat([final_df, df_indian], axis=0, ignore_index=True)"
   ]
  },
  {
   "cell_type": "code",
   "execution_count": 903,
   "metadata": {},
   "outputs": [
    {
     "data": {
      "text/html": [
       "<div>\n",
       "<style scoped>\n",
       "    .dataframe tbody tr th:only-of-type {\n",
       "        vertical-align: middle;\n",
       "    }\n",
       "\n",
       "    .dataframe tbody tr th {\n",
       "        vertical-align: top;\n",
       "    }\n",
       "\n",
       "    .dataframe thead th {\n",
       "        text-align: right;\n",
       "    }\n",
       "</style>\n",
       "<table border=\"1\" class=\"dataframe\">\n",
       "  <thead>\n",
       "    <tr style=\"text-align: right;\">\n",
       "      <th></th>\n",
       "      <th>title</th>\n",
       "      <th>raw_text</th>\n",
       "      <th>meal_type</th>\n",
       "      <th>cultural_restriction</th>\n",
       "      <th>calories</th>\n",
       "      <th>allergies</th>\n",
       "      <th>recipeId</th>\n",
       "      <th>ingredients</th>\n",
       "      <th>preparation</th>\n",
       "      <th>carbs</th>\n",
       "      <th>fat</th>\n",
       "      <th>fiber</th>\n",
       "      <th>protein</th>\n",
       "      <th>taste</th>\n",
       "      <th>cooking_style</th>\n",
       "      <th>meal_type_1</th>\n",
       "      <th>prep_time</th>\n",
       "      <th>price</th>\n",
       "      <th>country</th>\n",
       "    </tr>\n",
       "  </thead>\n",
       "  <tbody>\n",
       "    <tr>\n",
       "      <th>0</th>\n",
       "      <td>Fruit Salad</td>\n",
       "      <td>1. Fruit Salad: 70 calories per portion, 4 por...</td>\n",
       "      <td>breakfast</td>\n",
       "      <td>vegan</td>\n",
       "      <td>70.0</td>\n",
       "      <td>contains fruits only</td>\n",
       "      <td>food_0</td>\n",
       "      <td>ingredients:\\n- 1 apple\\n- 1 banana\\n- 1 orang...</td>\n",
       "      <td>\\n1. wash and cut all the fruits into bite-siz...</td>\n",
       "      <td>NaN</td>\n",
       "      <td>NaN</td>\n",
       "      <td>0.0</td>\n",
       "      <td>15.0</td>\n",
       "      <td>sweet</td>\n",
       "      <td>mixed</td>\n",
       "      <td>fruit-based</td>\n",
       "      <td>NaN</td>\n",
       "      <td>2.0</td>\n",
       "      <td>NaN</td>\n",
       "    </tr>\n",
       "    <tr>\n",
       "      <th>1</th>\n",
       "      <td>Vegan Omelette</td>\n",
       "      <td>5. Vegan Omelette: 300 calories per portion, 1...</td>\n",
       "      <td>breakfast</td>\n",
       "      <td>vegan</td>\n",
       "      <td>300.0</td>\n",
       "      <td>contains chickpea flour</td>\n",
       "      <td>food_4</td>\n",
       "      <td>ingredients:\\n- 1 cup chickpea flour\\n- 1 cup ...</td>\n",
       "      <td>\\n1. in a mixing bowl, whisk together the chic...</td>\n",
       "      <td>NaN</td>\n",
       "      <td>NaN</td>\n",
       "      <td>6.0</td>\n",
       "      <td>15.0</td>\n",
       "      <td>NaN</td>\n",
       "      <td>sauteed</td>\n",
       "      <td>veggie</td>\n",
       "      <td>20.0</td>\n",
       "      <td>2.0</td>\n",
       "      <td>NaN</td>\n",
       "    </tr>\n",
       "    <tr>\n",
       "      <th>2</th>\n",
       "      <td>Vegan French Toast</td>\n",
       "      <td>7. Vegan French Toast: 400 calories per portio...</td>\n",
       "      <td>breakfast</td>\n",
       "      <td>vegan</td>\n",
       "      <td>400.0</td>\n",
       "      <td>NaN</td>\n",
       "      <td>food_6</td>\n",
       "      <td>ingredients:\\n- 4 slices of vegan bread\\n- 1 c...</td>\n",
       "      <td>\\n1. in a shallow dish, whisk together the alm...</td>\n",
       "      <td>NaN</td>\n",
       "      <td>NaN</td>\n",
       "      <td>NaN</td>\n",
       "      <td>17.0</td>\n",
       "      <td>sweet</td>\n",
       "      <td>sauteed</td>\n",
       "      <td>vegan</td>\n",
       "      <td>25.0</td>\n",
       "      <td>1.0</td>\n",
       "      <td>NaN</td>\n",
       "    </tr>\n",
       "    <tr>\n",
       "      <th>3</th>\n",
       "      <td>Granola with Soy Milk</td>\n",
       "      <td>10. Granola with Soy Milk: 550 calories per po...</td>\n",
       "      <td>breakfast</td>\n",
       "      <td>vegan</td>\n",
       "      <td>550.0</td>\n",
       "      <td>contains nuts (varies by brand)</td>\n",
       "      <td>food_9</td>\n",
       "      <td>ingredients:\\n- 3 cups rolled oats\\n- 1 cup nu...</td>\n",
       "      <td>\\n1. preheat your oven to 325°f (165°c).\\n2. i...</td>\n",
       "      <td>13.1</td>\n",
       "      <td>26.0</td>\n",
       "      <td>1.5</td>\n",
       "      <td>5.5</td>\n",
       "      <td>sweet</td>\n",
       "      <td>baked</td>\n",
       "      <td>grain-based</td>\n",
       "      <td>25.0</td>\n",
       "      <td>2.0</td>\n",
       "      <td>NaN</td>\n",
       "    </tr>\n",
       "    <tr>\n",
       "      <th>4</th>\n",
       "      <td>Vegan Waffles</td>\n",
       "      <td>11. Vegan Waffles: 600 calories per portion, 3...</td>\n",
       "      <td>breakfast</td>\n",
       "      <td>vegan</td>\n",
       "      <td>600.0</td>\n",
       "      <td>NaN</td>\n",
       "      <td>food_10</td>\n",
       "      <td>ingredients:\\n- 2 cups all-purpose flour\\n- 2 ...</td>\n",
       "      <td>\\n1. in a large bowl, whisk together the flour...</td>\n",
       "      <td>NaN</td>\n",
       "      <td>19.6</td>\n",
       "      <td>NaN</td>\n",
       "      <td>NaN</td>\n",
       "      <td>sweet</td>\n",
       "      <td>baked</td>\n",
       "      <td>vegan</td>\n",
       "      <td>50.0</td>\n",
       "      <td>2.0</td>\n",
       "      <td>NaN</td>\n",
       "    </tr>\n",
       "    <tr>\n",
       "      <th>...</th>\n",
       "      <td>...</td>\n",
       "      <td>...</td>\n",
       "      <td>...</td>\n",
       "      <td>...</td>\n",
       "      <td>...</td>\n",
       "      <td>...</td>\n",
       "      <td>...</td>\n",
       "      <td>...</td>\n",
       "      <td>...</td>\n",
       "      <td>...</td>\n",
       "      <td>...</td>\n",
       "      <td>...</td>\n",
       "      <td>...</td>\n",
       "      <td>...</td>\n",
       "      <td>...</td>\n",
       "      <td>...</td>\n",
       "      <td>...</td>\n",
       "      <td>...</td>\n",
       "      <td>...</td>\n",
       "    </tr>\n",
       "    <tr>\n",
       "      <th>6995</th>\n",
       "      <td>Crispy Oven Roasted Curried Chickpeas Recipe</td>\n",
       "      <td>NaN</td>\n",
       "      <td>Snack</td>\n",
       "      <td>NaN</td>\n",
       "      <td>NaN</td>\n",
       "      <td>NaN</td>\n",
       "      <td>NaN</td>\n",
       "      <td>1 cup Kabuli Chana (White Chickpeas),1 teaspoo...</td>\n",
       "      <td>To begin making Crispy Oven Roasted Curried Ch...</td>\n",
       "      <td>NaN</td>\n",
       "      <td>NaN</td>\n",
       "      <td>NaN</td>\n",
       "      <td>NaN</td>\n",
       "      <td>NaN</td>\n",
       "      <td>NaN</td>\n",
       "      <td>High Protein Vegetarian</td>\n",
       "      <td>180.0</td>\n",
       "      <td>NaN</td>\n",
       "      <td>Indian</td>\n",
       "    </tr>\n",
       "    <tr>\n",
       "      <th>6996</th>\n",
       "      <td>Arbi Tomato Onion Sabzi (Recipe in Hindi) with...</td>\n",
       "      <td>NaN</td>\n",
       "      <td>Lunch</td>\n",
       "      <td>NaN</td>\n",
       "      <td>NaN</td>\n",
       "      <td>NaN</td>\n",
       "      <td>NaN</td>\n",
       "      <td>12 arbi - finely chopped, 1 onion - chopped, 2...</td>\n",
       "      <td>To make tomato onion curry arabi vegetable, fi...</td>\n",
       "      <td>NaN</td>\n",
       "      <td>NaN</td>\n",
       "      <td>NaN</td>\n",
       "      <td>NaN</td>\n",
       "      <td>NaN</td>\n",
       "      <td>NaN</td>\n",
       "      <td>Vegetarian</td>\n",
       "      <td>55.0</td>\n",
       "      <td>NaN</td>\n",
       "      <td>North Indian Recipes</td>\n",
       "    </tr>\n",
       "    <tr>\n",
       "      <th>6997</th>\n",
       "      <td>Papad Parathas Recipe</td>\n",
       "      <td>NaN</td>\n",
       "      <td>Lunch</td>\n",
       "      <td>NaN</td>\n",
       "      <td>NaN</td>\n",
       "      <td>NaN</td>\n",
       "      <td>NaN</td>\n",
       "      <td>1-1/2 cups Whole Wheat Flour - kneaded to doug...</td>\n",
       "      <td>To begin with Papad Parathas, firstly fry the ...</td>\n",
       "      <td>NaN</td>\n",
       "      <td>NaN</td>\n",
       "      <td>NaN</td>\n",
       "      <td>NaN</td>\n",
       "      <td>NaN</td>\n",
       "      <td>NaN</td>\n",
       "      <td>Vegetarian</td>\n",
       "      <td>40.0</td>\n",
       "      <td>NaN</td>\n",
       "      <td>Indian</td>\n",
       "    </tr>\n",
       "    <tr>\n",
       "      <th>6998</th>\n",
       "      <td>Gujarati Style Bhakri Recipe-A Multigrain Flat...</td>\n",
       "      <td>NaN</td>\n",
       "      <td>North Indian Breakfast</td>\n",
       "      <td>NaN</td>\n",
       "      <td>NaN</td>\n",
       "      <td>NaN</td>\n",
       "      <td>NaN</td>\n",
       "      <td>1 cup Whole Wheat Flour,1 cup Jowar Flour (Sor...</td>\n",
       "      <td>To begin making the Bhakri's, in a wide bowl, ...</td>\n",
       "      <td>NaN</td>\n",
       "      <td>NaN</td>\n",
       "      <td>NaN</td>\n",
       "      <td>NaN</td>\n",
       "      <td>NaN</td>\n",
       "      <td>NaN</td>\n",
       "      <td>Diabetic Friendly</td>\n",
       "      <td>50.0</td>\n",
       "      <td>NaN</td>\n",
       "      <td>Maharashtrian Recipes</td>\n",
       "    </tr>\n",
       "    <tr>\n",
       "      <th>6999</th>\n",
       "      <td>Strawberry Panna Cotta Tart With Chocolate Gan...</td>\n",
       "      <td>NaN</td>\n",
       "      <td>Dessert</td>\n",
       "      <td>NaN</td>\n",
       "      <td>NaN</td>\n",
       "      <td>NaN</td>\n",
       "      <td>NaN</td>\n",
       "      <td>1-1/2 cups All Purpose Flour (Maida),1 teaspoo...</td>\n",
       "      <td>To begin making Strawberry Panna Cotta Tart Wi...</td>\n",
       "      <td>NaN</td>\n",
       "      <td>NaN</td>\n",
       "      <td>NaN</td>\n",
       "      <td>NaN</td>\n",
       "      <td>NaN</td>\n",
       "      <td>NaN</td>\n",
       "      <td>Non Vegeterian</td>\n",
       "      <td>65.0</td>\n",
       "      <td>NaN</td>\n",
       "      <td>Continental</td>\n",
       "    </tr>\n",
       "  </tbody>\n",
       "</table>\n",
       "<p>7000 rows × 19 columns</p>\n",
       "</div>"
      ],
      "text/plain": [
       "                                                  title  \\\n",
       "0                                           Fruit Salad   \n",
       "1                                        Vegan Omelette   \n",
       "2                                    Vegan French Toast   \n",
       "3                                 Granola with Soy Milk   \n",
       "4                                         Vegan Waffles   \n",
       "...                                                 ...   \n",
       "6995       Crispy Oven Roasted Curried Chickpeas Recipe   \n",
       "6996  Arbi Tomato Onion Sabzi (Recipe in Hindi) with...   \n",
       "6997                              Papad Parathas Recipe   \n",
       "6998  Gujarati Style Bhakri Recipe-A Multigrain Flat...   \n",
       "6999  Strawberry Panna Cotta Tart With Chocolate Gan...   \n",
       "\n",
       "                                               raw_text  \\\n",
       "0     1. Fruit Salad: 70 calories per portion, 4 por...   \n",
       "1     5. Vegan Omelette: 300 calories per portion, 1...   \n",
       "2     7. Vegan French Toast: 400 calories per portio...   \n",
       "3     10. Granola with Soy Milk: 550 calories per po...   \n",
       "4     11. Vegan Waffles: 600 calories per portion, 3...   \n",
       "...                                                 ...   \n",
       "6995                                                NaN   \n",
       "6996                                                NaN   \n",
       "6997                                                NaN   \n",
       "6998                                                NaN   \n",
       "6999                                                NaN   \n",
       "\n",
       "                   meal_type cultural_restriction calories  \\\n",
       "0                  breakfast                vegan     70.0   \n",
       "1                  breakfast                vegan    300.0   \n",
       "2                  breakfast                vegan    400.0   \n",
       "3                  breakfast                vegan    550.0   \n",
       "4                  breakfast                vegan    600.0   \n",
       "...                      ...                  ...      ...   \n",
       "6995                   Snack                  NaN      NaN   \n",
       "6996                   Lunch                  NaN      NaN   \n",
       "6997                   Lunch                  NaN      NaN   \n",
       "6998  North Indian Breakfast                  NaN      NaN   \n",
       "6999                 Dessert                  NaN      NaN   \n",
       "\n",
       "                            allergies recipeId  \\\n",
       "0                contains fruits only   food_0   \n",
       "1             contains chickpea flour   food_4   \n",
       "2                                 NaN   food_6   \n",
       "3     contains nuts (varies by brand)   food_9   \n",
       "4                                 NaN  food_10   \n",
       "...                               ...      ...   \n",
       "6995                              NaN      NaN   \n",
       "6996                              NaN      NaN   \n",
       "6997                              NaN      NaN   \n",
       "6998                              NaN      NaN   \n",
       "6999                              NaN      NaN   \n",
       "\n",
       "                                            ingredients  \\\n",
       "0     ingredients:\\n- 1 apple\\n- 1 banana\\n- 1 orang...   \n",
       "1     ingredients:\\n- 1 cup chickpea flour\\n- 1 cup ...   \n",
       "2     ingredients:\\n- 4 slices of vegan bread\\n- 1 c...   \n",
       "3     ingredients:\\n- 3 cups rolled oats\\n- 1 cup nu...   \n",
       "4     ingredients:\\n- 2 cups all-purpose flour\\n- 2 ...   \n",
       "...                                                 ...   \n",
       "6995  1 cup Kabuli Chana (White Chickpeas),1 teaspoo...   \n",
       "6996  12 arbi - finely chopped, 1 onion - chopped, 2...   \n",
       "6997  1-1/2 cups Whole Wheat Flour - kneaded to doug...   \n",
       "6998  1 cup Whole Wheat Flour,1 cup Jowar Flour (Sor...   \n",
       "6999  1-1/2 cups All Purpose Flour (Maida),1 teaspoo...   \n",
       "\n",
       "                                            preparation  carbs   fat  fiber  \\\n",
       "0     \\n1. wash and cut all the fruits into bite-siz...    NaN   NaN    0.0   \n",
       "1     \\n1. in a mixing bowl, whisk together the chic...    NaN   NaN    6.0   \n",
       "2     \\n1. in a shallow dish, whisk together the alm...    NaN   NaN    NaN   \n",
       "3     \\n1. preheat your oven to 325°f (165°c).\\n2. i...   13.1  26.0    1.5   \n",
       "4     \\n1. in a large bowl, whisk together the flour...    NaN  19.6    NaN   \n",
       "...                                                 ...    ...   ...    ...   \n",
       "6995  To begin making Crispy Oven Roasted Curried Ch...    NaN   NaN    NaN   \n",
       "6996  To make tomato onion curry arabi vegetable, fi...    NaN   NaN    NaN   \n",
       "6997  To begin with Papad Parathas, firstly fry the ...    NaN   NaN    NaN   \n",
       "6998  To begin making the Bhakri's, in a wide bowl, ...    NaN   NaN    NaN   \n",
       "6999  To begin making Strawberry Panna Cotta Tart Wi...    NaN   NaN    NaN   \n",
       "\n",
       "      protein  taste cooking_style              meal_type_1  prep_time  price  \\\n",
       "0        15.0  sweet         mixed              fruit-based        NaN    2.0   \n",
       "1        15.0    NaN       sauteed                   veggie       20.0    2.0   \n",
       "2        17.0  sweet       sauteed                    vegan       25.0    1.0   \n",
       "3         5.5  sweet         baked              grain-based       25.0    2.0   \n",
       "4         NaN  sweet         baked                    vegan       50.0    2.0   \n",
       "...       ...    ...           ...                      ...        ...    ...   \n",
       "6995      NaN    NaN           NaN  High Protein Vegetarian      180.0    NaN   \n",
       "6996      NaN    NaN           NaN               Vegetarian       55.0    NaN   \n",
       "6997      NaN    NaN           NaN               Vegetarian       40.0    NaN   \n",
       "6998      NaN    NaN           NaN        Diabetic Friendly       50.0    NaN   \n",
       "6999      NaN    NaN           NaN           Non Vegeterian       65.0    NaN   \n",
       "\n",
       "                    country  \n",
       "0                       NaN  \n",
       "1                       NaN  \n",
       "2                       NaN  \n",
       "3                       NaN  \n",
       "4                       NaN  \n",
       "...                     ...  \n",
       "6995                 Indian  \n",
       "6996   North Indian Recipes  \n",
       "6997                 Indian  \n",
       "6998  Maharashtrian Recipes  \n",
       "6999            Continental  \n",
       "\n",
       "[7000 rows x 19 columns]"
      ]
     },
     "execution_count": 903,
     "metadata": {},
     "output_type": "execute_result"
    }
   ],
   "source": [
    "final_7000.reset_index(drop=True)"
   ]
  },
  {
   "cell_type": "code",
   "execution_count": 904,
   "metadata": {},
   "outputs": [],
   "source": [
    "mask = final_7000[\"recipeId\"].isna()"
   ]
  },
  {
   "cell_type": "code",
   "execution_count": 906,
   "metadata": {},
   "outputs": [],
   "source": [
    "list_ids = final_7000.loc[~mask,\"recipeId\"].tolist()"
   ]
  },
  {
   "cell_type": "code",
   "execution_count": 907,
   "metadata": {},
   "outputs": [
    {
     "data": {
      "text/plain": [
       "6195"
      ]
     },
     "execution_count": 907,
     "metadata": {},
     "output_type": "execute_result"
    }
   ],
   "source": [
    "len(list_ids)"
   ]
  },
  {
   "cell_type": "code",
   "execution_count": 910,
   "metadata": {},
   "outputs": [],
   "source": [
    "new_ids = [f\"food_{i}\" for i in range(7000, 7000+805)]"
   ]
  },
  {
   "cell_type": "code",
   "execution_count": 912,
   "metadata": {},
   "outputs": [],
   "source": [
    "final_7000.loc[mask, \"recipeId\"] = new_ids"
   ]
  },
  {
   "cell_type": "code",
   "execution_count": 913,
   "metadata": {},
   "outputs": [
    {
     "data": {
      "text/html": [
       "<div>\n",
       "<style scoped>\n",
       "    .dataframe tbody tr th:only-of-type {\n",
       "        vertical-align: middle;\n",
       "    }\n",
       "\n",
       "    .dataframe tbody tr th {\n",
       "        vertical-align: top;\n",
       "    }\n",
       "\n",
       "    .dataframe thead th {\n",
       "        text-align: right;\n",
       "    }\n",
       "</style>\n",
       "<table border=\"1\" class=\"dataframe\">\n",
       "  <thead>\n",
       "    <tr style=\"text-align: right;\">\n",
       "      <th></th>\n",
       "      <th>title</th>\n",
       "      <th>raw_text</th>\n",
       "      <th>meal_type</th>\n",
       "      <th>cultural_restriction</th>\n",
       "      <th>calories</th>\n",
       "      <th>allergies</th>\n",
       "      <th>recipeId</th>\n",
       "      <th>ingredients</th>\n",
       "      <th>preparation</th>\n",
       "      <th>carbs</th>\n",
       "      <th>fat</th>\n",
       "      <th>fiber</th>\n",
       "      <th>protein</th>\n",
       "      <th>taste</th>\n",
       "      <th>cooking_style</th>\n",
       "      <th>meal_type_1</th>\n",
       "      <th>prep_time</th>\n",
       "      <th>price</th>\n",
       "      <th>country</th>\n",
       "    </tr>\n",
       "  </thead>\n",
       "  <tbody>\n",
       "    <tr>\n",
       "      <th>0</th>\n",
       "      <td>Fruit Salad</td>\n",
       "      <td>1. Fruit Salad: 70 calories per portion, 4 por...</td>\n",
       "      <td>breakfast</td>\n",
       "      <td>vegan</td>\n",
       "      <td>70.0</td>\n",
       "      <td>contains fruits only</td>\n",
       "      <td>food_0</td>\n",
       "      <td>ingredients:\\n- 1 apple\\n- 1 banana\\n- 1 orang...</td>\n",
       "      <td>\\n1. wash and cut all the fruits into bite-siz...</td>\n",
       "      <td>NaN</td>\n",
       "      <td>NaN</td>\n",
       "      <td>0.0</td>\n",
       "      <td>15.0</td>\n",
       "      <td>sweet</td>\n",
       "      <td>mixed</td>\n",
       "      <td>fruit-based</td>\n",
       "      <td>NaN</td>\n",
       "      <td>2.0</td>\n",
       "      <td>NaN</td>\n",
       "    </tr>\n",
       "    <tr>\n",
       "      <th>1</th>\n",
       "      <td>Vegan Omelette</td>\n",
       "      <td>5. Vegan Omelette: 300 calories per portion, 1...</td>\n",
       "      <td>breakfast</td>\n",
       "      <td>vegan</td>\n",
       "      <td>300.0</td>\n",
       "      <td>contains chickpea flour</td>\n",
       "      <td>food_4</td>\n",
       "      <td>ingredients:\\n- 1 cup chickpea flour\\n- 1 cup ...</td>\n",
       "      <td>\\n1. in a mixing bowl, whisk together the chic...</td>\n",
       "      <td>NaN</td>\n",
       "      <td>NaN</td>\n",
       "      <td>6.0</td>\n",
       "      <td>15.0</td>\n",
       "      <td>NaN</td>\n",
       "      <td>sauteed</td>\n",
       "      <td>veggie</td>\n",
       "      <td>20.0</td>\n",
       "      <td>2.0</td>\n",
       "      <td>NaN</td>\n",
       "    </tr>\n",
       "    <tr>\n",
       "      <th>2</th>\n",
       "      <td>Vegan French Toast</td>\n",
       "      <td>7. Vegan French Toast: 400 calories per portio...</td>\n",
       "      <td>breakfast</td>\n",
       "      <td>vegan</td>\n",
       "      <td>400.0</td>\n",
       "      <td>NaN</td>\n",
       "      <td>food_6</td>\n",
       "      <td>ingredients:\\n- 4 slices of vegan bread\\n- 1 c...</td>\n",
       "      <td>\\n1. in a shallow dish, whisk together the alm...</td>\n",
       "      <td>NaN</td>\n",
       "      <td>NaN</td>\n",
       "      <td>NaN</td>\n",
       "      <td>17.0</td>\n",
       "      <td>sweet</td>\n",
       "      <td>sauteed</td>\n",
       "      <td>vegan</td>\n",
       "      <td>25.0</td>\n",
       "      <td>1.0</td>\n",
       "      <td>NaN</td>\n",
       "    </tr>\n",
       "    <tr>\n",
       "      <th>3</th>\n",
       "      <td>Granola with Soy Milk</td>\n",
       "      <td>10. Granola with Soy Milk: 550 calories per po...</td>\n",
       "      <td>breakfast</td>\n",
       "      <td>vegan</td>\n",
       "      <td>550.0</td>\n",
       "      <td>contains nuts (varies by brand)</td>\n",
       "      <td>food_9</td>\n",
       "      <td>ingredients:\\n- 3 cups rolled oats\\n- 1 cup nu...</td>\n",
       "      <td>\\n1. preheat your oven to 325°f (165°c).\\n2. i...</td>\n",
       "      <td>13.1</td>\n",
       "      <td>26.0</td>\n",
       "      <td>1.5</td>\n",
       "      <td>5.5</td>\n",
       "      <td>sweet</td>\n",
       "      <td>baked</td>\n",
       "      <td>grain-based</td>\n",
       "      <td>25.0</td>\n",
       "      <td>2.0</td>\n",
       "      <td>NaN</td>\n",
       "    </tr>\n",
       "    <tr>\n",
       "      <th>4</th>\n",
       "      <td>Vegan Waffles</td>\n",
       "      <td>11. Vegan Waffles: 600 calories per portion, 3...</td>\n",
       "      <td>breakfast</td>\n",
       "      <td>vegan</td>\n",
       "      <td>600.0</td>\n",
       "      <td>NaN</td>\n",
       "      <td>food_10</td>\n",
       "      <td>ingredients:\\n- 2 cups all-purpose flour\\n- 2 ...</td>\n",
       "      <td>\\n1. in a large bowl, whisk together the flour...</td>\n",
       "      <td>NaN</td>\n",
       "      <td>19.6</td>\n",
       "      <td>NaN</td>\n",
       "      <td>NaN</td>\n",
       "      <td>sweet</td>\n",
       "      <td>baked</td>\n",
       "      <td>vegan</td>\n",
       "      <td>50.0</td>\n",
       "      <td>2.0</td>\n",
       "      <td>NaN</td>\n",
       "    </tr>\n",
       "    <tr>\n",
       "      <th>...</th>\n",
       "      <td>...</td>\n",
       "      <td>...</td>\n",
       "      <td>...</td>\n",
       "      <td>...</td>\n",
       "      <td>...</td>\n",
       "      <td>...</td>\n",
       "      <td>...</td>\n",
       "      <td>...</td>\n",
       "      <td>...</td>\n",
       "      <td>...</td>\n",
       "      <td>...</td>\n",
       "      <td>...</td>\n",
       "      <td>...</td>\n",
       "      <td>...</td>\n",
       "      <td>...</td>\n",
       "      <td>...</td>\n",
       "      <td>...</td>\n",
       "      <td>...</td>\n",
       "      <td>...</td>\n",
       "    </tr>\n",
       "    <tr>\n",
       "      <th>6995</th>\n",
       "      <td>Crispy Oven Roasted Curried Chickpeas Recipe</td>\n",
       "      <td>NaN</td>\n",
       "      <td>Snack</td>\n",
       "      <td>NaN</td>\n",
       "      <td>NaN</td>\n",
       "      <td>NaN</td>\n",
       "      <td>food_7800</td>\n",
       "      <td>1 cup Kabuli Chana (White Chickpeas),1 teaspoo...</td>\n",
       "      <td>To begin making Crispy Oven Roasted Curried Ch...</td>\n",
       "      <td>NaN</td>\n",
       "      <td>NaN</td>\n",
       "      <td>NaN</td>\n",
       "      <td>NaN</td>\n",
       "      <td>NaN</td>\n",
       "      <td>NaN</td>\n",
       "      <td>High Protein Vegetarian</td>\n",
       "      <td>180.0</td>\n",
       "      <td>NaN</td>\n",
       "      <td>Indian</td>\n",
       "    </tr>\n",
       "    <tr>\n",
       "      <th>6996</th>\n",
       "      <td>Arbi Tomato Onion Sabzi (Recipe in Hindi) with...</td>\n",
       "      <td>NaN</td>\n",
       "      <td>Lunch</td>\n",
       "      <td>NaN</td>\n",
       "      <td>NaN</td>\n",
       "      <td>NaN</td>\n",
       "      <td>food_7801</td>\n",
       "      <td>12 arbi - finely chopped, 1 onion - chopped, 2...</td>\n",
       "      <td>To make tomato onion curry arabi vegetable, fi...</td>\n",
       "      <td>NaN</td>\n",
       "      <td>NaN</td>\n",
       "      <td>NaN</td>\n",
       "      <td>NaN</td>\n",
       "      <td>NaN</td>\n",
       "      <td>NaN</td>\n",
       "      <td>Vegetarian</td>\n",
       "      <td>55.0</td>\n",
       "      <td>NaN</td>\n",
       "      <td>North Indian Recipes</td>\n",
       "    </tr>\n",
       "    <tr>\n",
       "      <th>6997</th>\n",
       "      <td>Papad Parathas Recipe</td>\n",
       "      <td>NaN</td>\n",
       "      <td>Lunch</td>\n",
       "      <td>NaN</td>\n",
       "      <td>NaN</td>\n",
       "      <td>NaN</td>\n",
       "      <td>food_7802</td>\n",
       "      <td>1-1/2 cups Whole Wheat Flour - kneaded to doug...</td>\n",
       "      <td>To begin with Papad Parathas, firstly fry the ...</td>\n",
       "      <td>NaN</td>\n",
       "      <td>NaN</td>\n",
       "      <td>NaN</td>\n",
       "      <td>NaN</td>\n",
       "      <td>NaN</td>\n",
       "      <td>NaN</td>\n",
       "      <td>Vegetarian</td>\n",
       "      <td>40.0</td>\n",
       "      <td>NaN</td>\n",
       "      <td>Indian</td>\n",
       "    </tr>\n",
       "    <tr>\n",
       "      <th>6998</th>\n",
       "      <td>Gujarati Style Bhakri Recipe-A Multigrain Flat...</td>\n",
       "      <td>NaN</td>\n",
       "      <td>North Indian Breakfast</td>\n",
       "      <td>NaN</td>\n",
       "      <td>NaN</td>\n",
       "      <td>NaN</td>\n",
       "      <td>food_7803</td>\n",
       "      <td>1 cup Whole Wheat Flour,1 cup Jowar Flour (Sor...</td>\n",
       "      <td>To begin making the Bhakri's, in a wide bowl, ...</td>\n",
       "      <td>NaN</td>\n",
       "      <td>NaN</td>\n",
       "      <td>NaN</td>\n",
       "      <td>NaN</td>\n",
       "      <td>NaN</td>\n",
       "      <td>NaN</td>\n",
       "      <td>Diabetic Friendly</td>\n",
       "      <td>50.0</td>\n",
       "      <td>NaN</td>\n",
       "      <td>Maharashtrian Recipes</td>\n",
       "    </tr>\n",
       "    <tr>\n",
       "      <th>6999</th>\n",
       "      <td>Strawberry Panna Cotta Tart With Chocolate Gan...</td>\n",
       "      <td>NaN</td>\n",
       "      <td>Dessert</td>\n",
       "      <td>NaN</td>\n",
       "      <td>NaN</td>\n",
       "      <td>NaN</td>\n",
       "      <td>food_7804</td>\n",
       "      <td>1-1/2 cups All Purpose Flour (Maida),1 teaspoo...</td>\n",
       "      <td>To begin making Strawberry Panna Cotta Tart Wi...</td>\n",
       "      <td>NaN</td>\n",
       "      <td>NaN</td>\n",
       "      <td>NaN</td>\n",
       "      <td>NaN</td>\n",
       "      <td>NaN</td>\n",
       "      <td>NaN</td>\n",
       "      <td>Non Vegeterian</td>\n",
       "      <td>65.0</td>\n",
       "      <td>NaN</td>\n",
       "      <td>Continental</td>\n",
       "    </tr>\n",
       "  </tbody>\n",
       "</table>\n",
       "<p>7000 rows × 19 columns</p>\n",
       "</div>"
      ],
      "text/plain": [
       "                                                  title  \\\n",
       "0                                           Fruit Salad   \n",
       "1                                        Vegan Omelette   \n",
       "2                                    Vegan French Toast   \n",
       "3                                 Granola with Soy Milk   \n",
       "4                                         Vegan Waffles   \n",
       "...                                                 ...   \n",
       "6995       Crispy Oven Roasted Curried Chickpeas Recipe   \n",
       "6996  Arbi Tomato Onion Sabzi (Recipe in Hindi) with...   \n",
       "6997                              Papad Parathas Recipe   \n",
       "6998  Gujarati Style Bhakri Recipe-A Multigrain Flat...   \n",
       "6999  Strawberry Panna Cotta Tart With Chocolate Gan...   \n",
       "\n",
       "                                               raw_text  \\\n",
       "0     1. Fruit Salad: 70 calories per portion, 4 por...   \n",
       "1     5. Vegan Omelette: 300 calories per portion, 1...   \n",
       "2     7. Vegan French Toast: 400 calories per portio...   \n",
       "3     10. Granola with Soy Milk: 550 calories per po...   \n",
       "4     11. Vegan Waffles: 600 calories per portion, 3...   \n",
       "...                                                 ...   \n",
       "6995                                                NaN   \n",
       "6996                                                NaN   \n",
       "6997                                                NaN   \n",
       "6998                                                NaN   \n",
       "6999                                                NaN   \n",
       "\n",
       "                   meal_type cultural_restriction calories  \\\n",
       "0                  breakfast                vegan     70.0   \n",
       "1                  breakfast                vegan    300.0   \n",
       "2                  breakfast                vegan    400.0   \n",
       "3                  breakfast                vegan    550.0   \n",
       "4                  breakfast                vegan    600.0   \n",
       "...                      ...                  ...      ...   \n",
       "6995                   Snack                  NaN      NaN   \n",
       "6996                   Lunch                  NaN      NaN   \n",
       "6997                   Lunch                  NaN      NaN   \n",
       "6998  North Indian Breakfast                  NaN      NaN   \n",
       "6999                 Dessert                  NaN      NaN   \n",
       "\n",
       "                            allergies   recipeId  \\\n",
       "0                contains fruits only     food_0   \n",
       "1             contains chickpea flour     food_4   \n",
       "2                                 NaN     food_6   \n",
       "3     contains nuts (varies by brand)     food_9   \n",
       "4                                 NaN    food_10   \n",
       "...                               ...        ...   \n",
       "6995                              NaN  food_7800   \n",
       "6996                              NaN  food_7801   \n",
       "6997                              NaN  food_7802   \n",
       "6998                              NaN  food_7803   \n",
       "6999                              NaN  food_7804   \n",
       "\n",
       "                                            ingredients  \\\n",
       "0     ingredients:\\n- 1 apple\\n- 1 banana\\n- 1 orang...   \n",
       "1     ingredients:\\n- 1 cup chickpea flour\\n- 1 cup ...   \n",
       "2     ingredients:\\n- 4 slices of vegan bread\\n- 1 c...   \n",
       "3     ingredients:\\n- 3 cups rolled oats\\n- 1 cup nu...   \n",
       "4     ingredients:\\n- 2 cups all-purpose flour\\n- 2 ...   \n",
       "...                                                 ...   \n",
       "6995  1 cup Kabuli Chana (White Chickpeas),1 teaspoo...   \n",
       "6996  12 arbi - finely chopped, 1 onion - chopped, 2...   \n",
       "6997  1-1/2 cups Whole Wheat Flour - kneaded to doug...   \n",
       "6998  1 cup Whole Wheat Flour,1 cup Jowar Flour (Sor...   \n",
       "6999  1-1/2 cups All Purpose Flour (Maida),1 teaspoo...   \n",
       "\n",
       "                                            preparation  carbs   fat  fiber  \\\n",
       "0     \\n1. wash and cut all the fruits into bite-siz...    NaN   NaN    0.0   \n",
       "1     \\n1. in a mixing bowl, whisk together the chic...    NaN   NaN    6.0   \n",
       "2     \\n1. in a shallow dish, whisk together the alm...    NaN   NaN    NaN   \n",
       "3     \\n1. preheat your oven to 325°f (165°c).\\n2. i...   13.1  26.0    1.5   \n",
       "4     \\n1. in a large bowl, whisk together the flour...    NaN  19.6    NaN   \n",
       "...                                                 ...    ...   ...    ...   \n",
       "6995  To begin making Crispy Oven Roasted Curried Ch...    NaN   NaN    NaN   \n",
       "6996  To make tomato onion curry arabi vegetable, fi...    NaN   NaN    NaN   \n",
       "6997  To begin with Papad Parathas, firstly fry the ...    NaN   NaN    NaN   \n",
       "6998  To begin making the Bhakri's, in a wide bowl, ...    NaN   NaN    NaN   \n",
       "6999  To begin making Strawberry Panna Cotta Tart Wi...    NaN   NaN    NaN   \n",
       "\n",
       "      protein  taste cooking_style              meal_type_1  prep_time  price  \\\n",
       "0        15.0  sweet         mixed              fruit-based        NaN    2.0   \n",
       "1        15.0    NaN       sauteed                   veggie       20.0    2.0   \n",
       "2        17.0  sweet       sauteed                    vegan       25.0    1.0   \n",
       "3         5.5  sweet         baked              grain-based       25.0    2.0   \n",
       "4         NaN  sweet         baked                    vegan       50.0    2.0   \n",
       "...       ...    ...           ...                      ...        ...    ...   \n",
       "6995      NaN    NaN           NaN  High Protein Vegetarian      180.0    NaN   \n",
       "6996      NaN    NaN           NaN               Vegetarian       55.0    NaN   \n",
       "6997      NaN    NaN           NaN               Vegetarian       40.0    NaN   \n",
       "6998      NaN    NaN           NaN        Diabetic Friendly       50.0    NaN   \n",
       "6999      NaN    NaN           NaN           Non Vegeterian       65.0    NaN   \n",
       "\n",
       "                    country  \n",
       "0                       NaN  \n",
       "1                       NaN  \n",
       "2                       NaN  \n",
       "3                       NaN  \n",
       "4                       NaN  \n",
       "...                     ...  \n",
       "6995                 Indian  \n",
       "6996   North Indian Recipes  \n",
       "6997                 Indian  \n",
       "6998  Maharashtrian Recipes  \n",
       "6999            Continental  \n",
       "\n",
       "[7000 rows x 19 columns]"
      ]
     },
     "execution_count": 913,
     "metadata": {},
     "output_type": "execute_result"
    }
   ],
   "source": [
    "final_7000"
   ]
  },
  {
   "cell_type": "code",
   "execution_count": 914,
   "metadata": {},
   "outputs": [],
   "source": [
    "final_7000.to_csv(\"recipes_df_7000.csv\", sep='|')"
   ]
  },
  {
   "cell_type": "code",
   "execution_count": 915,
   "metadata": {},
   "outputs": [
    {
     "data": {
      "text/plain": [
       "Index(['title', 'raw_text', 'meal_type', 'cultural_restriction', 'calories',\n",
       "       'allergies', 'recipeId', 'ingredients', 'preparation', 'carbs', 'fat',\n",
       "       'fiber', 'protein', 'taste', 'cooking_style', 'meal_type_1',\n",
       "       'prep_time', 'price', 'country'],\n",
       "      dtype='object')"
      ]
     },
     "execution_count": 915,
     "metadata": {},
     "output_type": "execute_result"
    }
   ],
   "source": [
    "final_7000.columns"
   ]
  },
  {
   "cell_type": "code",
   "execution_count": 916,
   "metadata": {},
   "outputs": [],
   "source": [
    "# to fix with chat gpt \n",
    "calories_mask = final_7000[\"calories\"].isna()\n",
    "carbs_mask = final_7000[\"carbs\"].isna()\n",
    "fat_mask = final_7000[\"fat\"].isna()\n",
    "fiber_mask = final_7000[\"fiber\"].isna()\n",
    "protein_mask = final_7000[\"protein\"].isna()\n",
    "allergies_mask = final_7000[\"allergies\"].isna()\n",
    "taste_mask = final_7000[\"taste\"].isna()\n",
    "cooking_mask = final_7000[\"cooking_style\"].isna()\n",
    "preptime_mask = final_7000[\"prep_time\"].isna()\n",
    "price_mask = final_7000[\"price\"].isna()\n",
    "country_mask = final_7000[\"country\"].isna()"
   ]
  },
  {
   "cell_type": "code",
   "execution_count": 918,
   "metadata": {},
   "outputs": [
    {
     "data": {
      "text/plain": [
       "478"
      ]
     },
     "execution_count": 918,
     "metadata": {},
     "output_type": "execute_result"
    }
   ],
   "source": [
    "sum(calories_mask)"
   ]
  },
  {
   "cell_type": "code",
   "execution_count": 919,
   "metadata": {},
   "outputs": [],
   "source": [
    "# save them \n",
    "list_columns = [calories_mask, carbs_mask, fat_mask, fiber_mask,\n",
    "protein_mask, allergies_mask, taste_mask, cooking_mask, preptime_mask, \n",
    "price_mask, country_mask]"
   ]
  },
  {
   "cell_type": "code",
   "execution_count": null,
   "metadata": {},
   "outputs": [],
   "source": [
    "names_list = [\n",
    "    \"calories_mask\", \"carbs_mask\", \"fat_mask\", \"fiber_mask\",\n",
    "\"protein_mask\", \"allergies_mask\", \"taste_mask\", \"cooking_mask\", preptime_mask, \n",
    "price_mask, country_mask\n",
    "]"
   ]
  },
  {
   "cell_type": "code",
   "execution_count": null,
   "metadata": {},
   "outputs": [],
   "source": [
    "for elm in list_columns:\n",
    "    "
   ]
  },
  {
   "cell_type": "code",
   "execution_count": 921,
   "metadata": {},
   "outputs": [],
   "source": [
    "#\n",
    "df_full = final_7000.fillna(\"ffill\")"
   ]
  },
  {
   "cell_type": "code",
   "execution_count": 922,
   "metadata": {},
   "outputs": [],
   "source": [
    "df_full.to_csv(\"df_recipes_full_7000.csv\", sep=\"|\")"
   ]
  },
  {
   "cell_type": "code",
   "execution_count": 749,
   "metadata": {},
   "outputs": [
    {
     "name": "stdout",
     "output_type": "stream",
     "text": [
      "0    ingredients:\\n- 1 apple\\n- 1 banana\\n- 1 orang...\n",
      "0    - 1 block (14 to 16 oz) of firm or extra-firm ...\n",
      "Name: ingredients, dtype: object\n"
     ]
    }
   ],
   "source": [
    "# Unique fixed recipes \n",
    "print(unique_fixed_recipes.loc[0, \"ingredients\"])"
   ]
  },
  {
   "cell_type": "code",
   "execution_count": 757,
   "metadata": {},
   "outputs": [],
   "source": [
    "unique_fixed_recipes.reset_index(drop=True, inplace=True)"
   ]
  },
  {
   "cell_type": "code",
   "execution_count": 760,
   "metadata": {},
   "outputs": [
    {
     "name": "stdout",
     "output_type": "stream",
     "text": [
      "ingredients:\n",
      "- 1 apple\n",
      "- 1 banana\n",
      "- 1 orange\n",
      "- 1 cup grapes\n",
      "- 1 cup strawberries\n",
      "- 1 cup pineapple chunks\n",
      "- 1/2 cup blueberries\n",
      "- 1/2 cup raspberries\n",
      "- 1/4 cup honey\n",
      "- 1 tablespoon lemon juice\n",
      "\n",
      "\n"
     ]
    }
   ],
   "source": [
    "print(unique_fixed_recipes.loc[0, \"ingredients\"])"
   ]
  },
  {
   "cell_type": "code",
   "execution_count": 746,
   "metadata": {},
   "outputs": [
    {
     "name": "stdout",
     "output_type": "stream",
     "text": [
      "To determine the total fat per 100g, we need to calculate the fat content of each ingredient, multiply it by the quantity used, and then add them all together.\n",
      "\n",
      "Assuming that nutritional information is not provided for each ingredient, I will provide an estimated answer based on standard values for similar ingredients.\n",
      "\n",
      "1. Shredded romaine lettuce: 0.2g fat per 100g\n",
      "2. Vegan caesar dressing: 35g fat per 100g\n",
      "3. Vegan parmesan cheese: 26g fat per 100g\n",
      "4. Cherry tomatoes: 0.2g fat per 100g\n",
      "5. Sliced cucumber: 0.1g fat per 100g\n",
      "6. Sliced black olives: 14g fat per 100g\n",
      "7. Diced red onion: 0.1g fat per 100g\n",
      "8. Flour tortillas: 7.4g fat per 100g\n",
      "\n",
      "Now, let's calculate the total fat per 100g:\n",
      "\n",
      "(1 cup shredded romaine lettuce) * (0.2g fat per 100g) +\n",
      "(1/4 cup vegan caesar dressing) * (35g fat per 100g) +\n",
      "(1/4 cup vegan parmesan cheese, grated) * (26g fat per 100g) +\n",
      "(1/4 cup cherry tomatoes, halved) * (0.2g fat per 100g) +\n",
      "(1/4 cup sliced cucumber) * (0.1g fat per 100g) +\n",
      "(1/4 cup sliced black olives) * (14g fat per 100g) +\n",
      "(1/4 cup diced red onion) * (0.1g fat per 100g) +\n",
      "(2 large flour tortillas) * (7.4g fat per 100g)\n",
      "\n",
      "This calculation requires specific measurements for each ingredient, as you have provided.\n"
     ]
    }
   ],
   "source": [
    "print(df_additional.iloc[7, 1])"
   ]
  },
  {
   "cell_type": "code",
   "execution_count": 939,
   "metadata": {},
   "outputs": [],
   "source": [
    "recipe_names = final_df[\"title\"].apply(lambda x: x.lower()).tolist()"
   ]
  },
  {
   "cell_type": "code",
   "execution_count": 949,
   "metadata": {},
   "outputs": [],
   "source": [
    "# load new recipes \n",
    "new_batch_recipes = pd.read_csv(\"/home/victor/Documents/Expectation_data_generation/src/meals_collection/additional_recipes/RecipeNLG_dataset.csv\",\n",
    "                                index_col=0)"
   ]
  },
  {
   "cell_type": "code",
   "execution_count": 950,
   "metadata": {},
   "outputs": [],
   "source": [
    "check = new_batch_recipes['title'].apply(lambda x: type(x)==float)"
   ]
  },
  {
   "cell_type": "code",
   "execution_count": 951,
   "metadata": {},
   "outputs": [],
   "source": [
    "new_batch_recipes.dropna(axis=0, inplace=True)"
   ]
  },
  {
   "cell_type": "code",
   "execution_count": 952,
   "metadata": {},
   "outputs": [],
   "source": [
    "new_batch_recipes.drop_duplicates(subset='title', inplace=True)"
   ]
  },
  {
   "cell_type": "code",
   "execution_count": 954,
   "metadata": {},
   "outputs": [],
   "source": [
    "new_batch_recipes.to_csv(\"/home/victor/Documents/Expectation_data_generation/src/meals_collection/additional_recipes/filtered_NGD.csv\")"
   ]
  },
  {
   "cell_type": "code",
   "execution_count": 955,
   "metadata": {},
   "outputs": [],
   "source": [
    "new_recipes_names = new_batch_recipes['title'].apply(lambda x: x.lower()).tolist()"
   ]
  },
  {
   "cell_type": "code",
   "execution_count": 964,
   "metadata": {},
   "outputs": [],
   "source": [
    "available_recipes = list(set(new_recipes_names) - set(recipe_names))"
   ]
  },
  {
   "cell_type": "code",
   "execution_count": 959,
   "metadata": {},
   "outputs": [
    {
     "data": {
      "text/plain": [
       "1295476"
      ]
     },
     "execution_count": 959,
     "metadata": {},
     "output_type": "execute_result"
    }
   ],
   "source": [
    "len(available_recipes)"
   ]
  },
  {
   "cell_type": "code",
   "execution_count": 965,
   "metadata": {},
   "outputs": [],
   "source": [
    "# choosing 700 random recipes \n",
    "cr = np.random.choice(available_recipes, size=700) "
   ]
  },
  {
   "cell_type": "code",
   "execution_count": 974,
   "metadata": {},
   "outputs": [],
   "source": [
    "# choose recipes \n",
    "mask_cr = new_batch_recipes[\"title\"].apply(lambda x: x.lower() in cr)"
   ]
  },
  {
   "cell_type": "code",
   "execution_count": 976,
   "metadata": {},
   "outputs": [],
   "source": [
    "new_recipes = new_batch_recipes.loc[mask_cr, :]"
   ]
  },
  {
   "cell_type": "code",
   "execution_count": 994,
   "metadata": {},
   "outputs": [],
   "source": [
    "def process_ingredients(text: str):\n",
    "    # preprocess \n",
    "    new_text = text.replace(\"\\\"\", \"\").replace(\"[\", \"\").replace(\"]\", \"\")\n",
    "    splitted_text = new_text.split(',')\n",
    "    return \" \\n \".join(splitted_text)"
   ]
  },
  {
   "cell_type": "code",
   "execution_count": 997,
   "metadata": {},
   "outputs": [
    {
     "name": "stderr",
     "output_type": "stream",
     "text": [
      "/tmp/ipykernel_4115765/3425381400.py:1: SettingWithCopyWarning: \n",
      "A value is trying to be set on a copy of a slice from a DataFrame.\n",
      "Try using .loc[row_indexer,col_indexer] = value instead\n",
      "\n",
      "See the caveats in the documentation: https://pandas.pydata.org/pandas-docs/stable/user_guide/indexing.html#returning-a-view-versus-a-copy\n",
      "  new_recipes[\"ingredients\"] = new_recipes[\"ingredients\"].apply(lambda x: process_ingredients(x))\n"
     ]
    }
   ],
   "source": [
    "new_recipes[\"ingredients\"] = new_recipes[\"ingredients\"].apply(lambda x: process_ingredients(x))"
   ]
  },
  {
   "cell_type": "code",
   "execution_count": 998,
   "metadata": {},
   "outputs": [
    {
     "name": "stderr",
     "output_type": "stream",
     "text": [
      "/tmp/ipykernel_4115765/57806532.py:1: SettingWithCopyWarning: \n",
      "A value is trying to be set on a copy of a slice from a DataFrame.\n",
      "Try using .loc[row_indexer,col_indexer] = value instead\n",
      "\n",
      "See the caveats in the documentation: https://pandas.pydata.org/pandas-docs/stable/user_guide/indexing.html#returning-a-view-versus-a-copy\n",
      "  new_recipes[\"directions\"] = new_recipes[\"directions\"].apply(lambda x: process_ingredients(x))\n"
     ]
    }
   ],
   "source": [
    "new_recipes[\"directions\"] = new_recipes[\"directions\"].apply(lambda x: process_ingredients(x))"
   ]
  },
  {
   "cell_type": "code",
   "execution_count": 1003,
   "metadata": {},
   "outputs": [
    {
     "data": {
      "text/plain": [
       "Index(['title', 'raw_text', 'meal_type', 'cultural_restriction', 'calories',\n",
       "       'allergies', 'recipeId', 'ingredients', 'preparation', 'carbs', 'fat',\n",
       "       'fiber', 'protein', 'taste', 'cooking_style', 'meal_type_1',\n",
       "       'prep_time', 'price', 'country'],\n",
       "      dtype='object')"
      ]
     },
     "execution_count": 1003,
     "metadata": {},
     "output_type": "execute_result"
    }
   ],
   "source": [
    "final_df.columns"
   ]
  },
  {
   "cell_type": "code",
   "execution_count": 1006,
   "metadata": {},
   "outputs": [
    {
     "name": "stderr",
     "output_type": "stream",
     "text": [
      "/tmp/ipykernel_4115765/3206908326.py:1: SettingWithCopyWarning: \n",
      "A value is trying to be set on a copy of a slice from a DataFrame\n",
      "\n",
      "See the caveats in the documentation: https://pandas.pydata.org/pandas-docs/stable/user_guide/indexing.html#returning-a-view-versus-a-copy\n",
      "  new_recipes.rename(columns= {\n"
     ]
    }
   ],
   "source": [
    "new_recipes.rename(columns= {\n",
    "    'directions': 'preparation'\n",
    "}, inplace=True)"
   ]
  },
  {
   "cell_type": "code",
   "execution_count": 1008,
   "metadata": {},
   "outputs": [
    {
     "data": {
      "text/html": [
       "<div>\n",
       "<style scoped>\n",
       "    .dataframe tbody tr th:only-of-type {\n",
       "        vertical-align: middle;\n",
       "    }\n",
       "\n",
       "    .dataframe tbody tr th {\n",
       "        vertical-align: top;\n",
       "    }\n",
       "\n",
       "    .dataframe thead th {\n",
       "        text-align: right;\n",
       "    }\n",
       "</style>\n",
       "<table border=\"1\" class=\"dataframe\">\n",
       "  <thead>\n",
       "    <tr style=\"text-align: right;\">\n",
       "      <th></th>\n",
       "      <th>title</th>\n",
       "      <th>ingredients</th>\n",
       "      <th>preparation</th>\n",
       "      <th>link</th>\n",
       "      <th>source</th>\n",
       "      <th>NER</th>\n",
       "    </tr>\n",
       "  </thead>\n",
       "  <tbody>\n",
       "    <tr>\n",
       "      <th>2619</th>\n",
       "      <td>Apple Cinnamon Cake</td>\n",
       "      <td>1 (18.25 oz.) pkg. spice or cake mix \\n  1 (21...</td>\n",
       "      <td>Preheat oven to 350\\u00b0. \\n  Blend together ...</td>\n",
       "      <td>www.cookbooks.com/Recipe-Details.aspx?id=729699</td>\n",
       "      <td>Gathered</td>\n",
       "      <td>[\"spice\", \"apple pie filling\", \"eggs\", \"sugar\"...</td>\n",
       "    </tr>\n",
       "    <tr>\n",
       "      <th>9271</th>\n",
       "      <td>Black Bottom Banana Bars</td>\n",
       "      <td>1/2 c. butter or margarine \\n  1 c. sugar \\n  ...</td>\n",
       "      <td>In mixing bowl \\n  cream butter and sugar. \\n ...</td>\n",
       "      <td>www.cookbooks.com/Recipe-Details.aspx?id=338602</td>\n",
       "      <td>Gathered</td>\n",
       "      <td>[\"butter\", \"sugar\", \"egg\", \"vanilla extract\", ...</td>\n",
       "    </tr>\n",
       "    <tr>\n",
       "      <th>11707</th>\n",
       "      <td>Tuna Ball</td>\n",
       "      <td>2 (7 oz.) cans white tuna \\n  drained \\n  8 oz...</td>\n",
       "      <td>Mix all ingredients \\n  except pecans. \\n  Chi...</td>\n",
       "      <td>www.cookbooks.com/Recipe-Details.aspx?id=781489</td>\n",
       "      <td>Gathered</td>\n",
       "      <td>[\"white tuna\", \"cream cheese\", \"horseradish\", ...</td>\n",
       "    </tr>\n",
       "    <tr>\n",
       "      <th>14050</th>\n",
       "      <td>Marinated Steak</td>\n",
       "      <td>1 thick flank steak or London broil (about 1 1...</td>\n",
       "      <td>Mix together the wine \\n  soy sauce and season...</td>\n",
       "      <td>www.cookbooks.com/Recipe-Details.aspx?id=882299</td>\n",
       "      <td>Gathered</td>\n",
       "      <td>[\"broil\", \"red wine\", \"soy sauce\", \"oregano\", ...</td>\n",
       "    </tr>\n",
       "  </tbody>\n",
       "</table>\n",
       "</div>"
      ],
      "text/plain": [
       "                          title  \\\n",
       "2619        Apple Cinnamon Cake   \n",
       "9271   Black Bottom Banana Bars   \n",
       "11707                 Tuna Ball   \n",
       "14050           Marinated Steak   \n",
       "\n",
       "                                             ingredients  \\\n",
       "2619   1 (18.25 oz.) pkg. spice or cake mix \\n  1 (21...   \n",
       "9271   1/2 c. butter or margarine \\n  1 c. sugar \\n  ...   \n",
       "11707  2 (7 oz.) cans white tuna \\n  drained \\n  8 oz...   \n",
       "14050  1 thick flank steak or London broil (about 1 1...   \n",
       "\n",
       "                                             preparation  \\\n",
       "2619   Preheat oven to 350\\u00b0. \\n  Blend together ...   \n",
       "9271   In mixing bowl \\n  cream butter and sugar. \\n ...   \n",
       "11707  Mix all ingredients \\n  except pecans. \\n  Chi...   \n",
       "14050  Mix together the wine \\n  soy sauce and season...   \n",
       "\n",
       "                                                  link    source  \\\n",
       "2619   www.cookbooks.com/Recipe-Details.aspx?id=729699  Gathered   \n",
       "9271   www.cookbooks.com/Recipe-Details.aspx?id=338602  Gathered   \n",
       "11707  www.cookbooks.com/Recipe-Details.aspx?id=781489  Gathered   \n",
       "14050  www.cookbooks.com/Recipe-Details.aspx?id=882299  Gathered   \n",
       "\n",
       "                                                     NER  \n",
       "2619   [\"spice\", \"apple pie filling\", \"eggs\", \"sugar\"...  \n",
       "9271   [\"butter\", \"sugar\", \"egg\", \"vanilla extract\", ...  \n",
       "11707  [\"white tuna\", \"cream cheese\", \"horseradish\", ...  \n",
       "14050  [\"broil\", \"red wine\", \"soy sauce\", \"oregano\", ...  "
      ]
     },
     "execution_count": 1008,
     "metadata": {},
     "output_type": "execute_result"
    }
   ],
   "source": [
    "new_recipes.head(4)"
   ]
  },
  {
   "cell_type": "code",
   "execution_count": 1009,
   "metadata": {},
   "outputs": [],
   "source": [
    "new_recipes = new_recipes[[\"title\", \"ingredients\", \"preparation\"]]"
   ]
  },
  {
   "cell_type": "code",
   "execution_count": 1012,
   "metadata": {},
   "outputs": [],
   "source": [
    "new_recipes.reset_index(drop=True, inplace=True)"
   ]
  },
  {
   "cell_type": "code",
   "execution_count": 1014,
   "metadata": {},
   "outputs": [],
   "source": [
    "new_recipes.to_csv(\"new_recipes_ng.csv\", sep=\"|\")"
   ]
  },
  {
   "cell_type": "code",
   "execution_count": 1015,
   "metadata": {},
   "outputs": [
    {
     "data": {
      "text/plain": [
       "(6522, 19)"
      ]
     },
     "execution_count": 1015,
     "metadata": {},
     "output_type": "execute_result"
    }
   ],
   "source": [
    "final_df.shape"
   ]
  },
  {
   "cell_type": "code",
   "execution_count": 1016,
   "metadata": {},
   "outputs": [],
   "source": [
    "final_df.to_csv(\"final_df_6522.csv\")"
   ]
  },
  {
   "cell_type": "code",
   "execution_count": 1017,
   "metadata": {},
   "outputs": [
    {
     "data": {
      "text/plain": [
       "Index(['title', 'ingredients', 'preparation'], dtype='object')"
      ]
     },
     "execution_count": 1017,
     "metadata": {},
     "output_type": "execute_result"
    }
   ],
   "source": [
    "new_recipes.columns"
   ]
  },
  {
   "cell_type": "code",
   "execution_count": 1020,
   "metadata": {},
   "outputs": [],
   "source": [
    "columns_to_check = [ 'calories', 'allergies', 'recipeId', 'ingredients', \n",
    "                 'preparation', 'carbs', 'fat', 'fiber', 'protein', \n",
    "                 'taste', 'cooking_style', 'meal_type_1',\n",
    "                 'prep_time', 'price', 'country']"
   ]
  },
  {
   "cell_type": "code",
   "execution_count": 1022,
   "metadata": {},
   "outputs": [],
   "source": [
    "def get_index_incomplete_data(df_test:pd.DataFrame, columns_to_check: List[str]):\n",
    "    index_to_fix = {}\n",
    "    for col in columns_to_check:\n",
    "        mask = df_test[col].isna()\n",
    "        index_to_fix[col] = list(df_test.index[mask])\n",
    "    return index_to_fix"
   ]
  },
  {
   "cell_type": "code",
   "execution_count": 1023,
   "metadata": {},
   "outputs": [],
   "source": [
    "columns_index_to_fix = get_index_incomplete_data(final_df, \n",
    "                                                 columns_to_check)"
   ]
  },
  {
   "cell_type": "code",
   "execution_count": 1025,
   "metadata": {},
   "outputs": [
    {
     "data": {
      "text/plain": [
       "dict_keys(['calories', 'allergies', 'recipeId', 'ingredients', 'preparation', 'carbs', 'fat', 'fiber', 'protein', 'taste', 'cooking_style', 'meal_type_1', 'prep_time', 'price', 'country'])"
      ]
     },
     "execution_count": 1025,
     "metadata": {},
     "output_type": "execute_result"
    }
   ],
   "source": [
    "columns_index_to_fix.keys()"
   ]
  },
  {
   "cell_type": "code",
   "execution_count": 1026,
   "metadata": {},
   "outputs": [],
   "source": [
    "important_cols = ['carbs', 'fat', 'fiber', 'protein']"
   ]
  },
  {
   "cell_type": "code",
   "execution_count": 1041,
   "metadata": {},
   "outputs": [
    {
     "data": {
      "text/plain": [
       "0"
      ]
     },
     "execution_count": 1041,
     "metadata": {},
     "output_type": "execute_result"
    }
   ],
   "source": [
    "sum(final_df['ingredients'].isna())"
   ]
  },
  {
   "cell_type": "code",
   "execution_count": 1042,
   "metadata": {},
   "outputs": [],
   "source": [
    "final_df.to_csv(\"final_recipes_6522_to_fix.csv\", sep=\"|\")"
   ]
  },
  {
   "cell_type": "code",
   "execution_count": 1043,
   "metadata": {},
   "outputs": [],
   "source": [
    "# save dictionary of indexes\n",
    "with open(\"dict_indexes_to_fix.json\", 'w') as fp:\n",
    "    json.dump(columns_index_to_fix, fp)"
   ]
  },
  {
   "cell_type": "code",
   "execution_count": 1044,
   "metadata": {},
   "outputs": [
    {
     "data": {
      "text/plain": [
       "dict_keys(['calories', 'allergies', 'recipeId', 'ingredients', 'preparation', 'carbs', 'fat', 'fiber', 'protein', 'taste', 'cooking_style', 'meal_type_1', 'prep_time', 'price', 'country'])"
      ]
     },
     "execution_count": 1044,
     "metadata": {},
     "output_type": "execute_result"
    }
   ],
   "source": [
    "columns_index_to_fix.keys()"
   ]
  },
  {
   "cell_type": "code",
   "execution_count": 1318,
   "metadata": {},
   "outputs": [],
   "source": [
    "# completing the file \n",
    "path = \"/home/victor/Documents/Expectation_data_generation/df_cuisine_6552_raw_new.csv\"\n",
    "df_to_process = pd.read_csv(path, sep=\"|\", index_col = 0)"
   ]
  },
  {
   "cell_type": "code",
   "execution_count": 1320,
   "metadata": {},
   "outputs": [
    {
     "data": {
      "text/plain": [
       "(6495, 2)"
      ]
     },
     "execution_count": 1320,
     "metadata": {},
     "output_type": "execute_result"
    }
   ],
   "source": [
    "df_to_process.shape"
   ]
  },
  {
   "cell_type": "code",
   "execution_count": 1319,
   "metadata": {},
   "outputs": [
    {
     "ename": "KeyError",
     "evalue": "'cuisine'",
     "output_type": "error",
     "traceback": [
      "\u001b[0;31m---------------------------------------------------------------------------\u001b[0m",
      "\u001b[0;31mKeyError\u001b[0m                                  Traceback (most recent call last)",
      "File \u001b[0;32m~/anaconda3/envs/data_gen/lib/python3.9/site-packages/pandas/core/indexes/base.py:3653\u001b[0m, in \u001b[0;36mIndex.get_loc\u001b[0;34m(self, key)\u001b[0m\n\u001b[1;32m   <a href='file:///home/victor/anaconda3/envs/data_gen/lib/python3.9/site-packages/pandas/core/indexes/base.py?line=3651'>3652</a>\u001b[0m \u001b[39mtry\u001b[39;00m:\n\u001b[0;32m-> <a href='file:///home/victor/anaconda3/envs/data_gen/lib/python3.9/site-packages/pandas/core/indexes/base.py?line=3652'>3653</a>\u001b[0m     \u001b[39mreturn\u001b[39;00m \u001b[39mself\u001b[39;49m\u001b[39m.\u001b[39;49m_engine\u001b[39m.\u001b[39;49mget_loc(casted_key)\n\u001b[1;32m   <a href='file:///home/victor/anaconda3/envs/data_gen/lib/python3.9/site-packages/pandas/core/indexes/base.py?line=3653'>3654</a>\u001b[0m \u001b[39mexcept\u001b[39;00m \u001b[39mKeyError\u001b[39;00m \u001b[39mas\u001b[39;00m err:\n",
      "File \u001b[0;32m~/anaconda3/envs/data_gen/lib/python3.9/site-packages/pandas/_libs/index.pyx:147\u001b[0m, in \u001b[0;36mpandas._libs.index.IndexEngine.get_loc\u001b[0;34m()\u001b[0m\n",
      "File \u001b[0;32m~/anaconda3/envs/data_gen/lib/python3.9/site-packages/pandas/_libs/index.pyx:176\u001b[0m, in \u001b[0;36mpandas._libs.index.IndexEngine.get_loc\u001b[0;34m()\u001b[0m\n",
      "File \u001b[0;32mpandas/_libs/hashtable_class_helper.pxi:7080\u001b[0m, in \u001b[0;36mpandas._libs.hashtable.PyObjectHashTable.get_item\u001b[0;34m()\u001b[0m\n",
      "File \u001b[0;32mpandas/_libs/hashtable_class_helper.pxi:7088\u001b[0m, in \u001b[0;36mpandas._libs.hashtable.PyObjectHashTable.get_item\u001b[0;34m()\u001b[0m\n",
      "\u001b[0;31mKeyError\u001b[0m: 'cuisine'",
      "\nThe above exception was the direct cause of the following exception:\n",
      "\u001b[0;31mKeyError\u001b[0m                                  Traceback (most recent call last)",
      "Cell \u001b[0;32mIn[1319], line 1\u001b[0m\n\u001b[0;32m----> 1\u001b[0m \u001b[38;5;28msum\u001b[39m(\u001b[43mfinal_df\u001b[49m\u001b[43m[\u001b[49m\u001b[38;5;124;43m'\u001b[39;49m\u001b[38;5;124;43mcuisine\u001b[39;49m\u001b[38;5;124;43m'\u001b[39;49m\u001b[43m]\u001b[49m\u001b[38;5;241m.\u001b[39misna())\n",
      "File \u001b[0;32m~/anaconda3/envs/data_gen/lib/python3.9/site-packages/pandas/core/frame.py:3761\u001b[0m, in \u001b[0;36mDataFrame.__getitem__\u001b[0;34m(self, key)\u001b[0m\n\u001b[1;32m   <a href='file:///home/victor/anaconda3/envs/data_gen/lib/python3.9/site-packages/pandas/core/frame.py?line=3758'>3759</a>\u001b[0m \u001b[39mif\u001b[39;00m \u001b[39mself\u001b[39m\u001b[39m.\u001b[39mcolumns\u001b[39m.\u001b[39mnlevels \u001b[39m>\u001b[39m \u001b[39m1\u001b[39m:\n\u001b[1;32m   <a href='file:///home/victor/anaconda3/envs/data_gen/lib/python3.9/site-packages/pandas/core/frame.py?line=3759'>3760</a>\u001b[0m     \u001b[39mreturn\u001b[39;00m \u001b[39mself\u001b[39m\u001b[39m.\u001b[39m_getitem_multilevel(key)\n\u001b[0;32m-> <a href='file:///home/victor/anaconda3/envs/data_gen/lib/python3.9/site-packages/pandas/core/frame.py?line=3760'>3761</a>\u001b[0m indexer \u001b[39m=\u001b[39m \u001b[39mself\u001b[39;49m\u001b[39m.\u001b[39;49mcolumns\u001b[39m.\u001b[39;49mget_loc(key)\n\u001b[1;32m   <a href='file:///home/victor/anaconda3/envs/data_gen/lib/python3.9/site-packages/pandas/core/frame.py?line=3761'>3762</a>\u001b[0m \u001b[39mif\u001b[39;00m is_integer(indexer):\n\u001b[1;32m   <a href='file:///home/victor/anaconda3/envs/data_gen/lib/python3.9/site-packages/pandas/core/frame.py?line=3762'>3763</a>\u001b[0m     indexer \u001b[39m=\u001b[39m [indexer]\n",
      "File \u001b[0;32m~/anaconda3/envs/data_gen/lib/python3.9/site-packages/pandas/core/indexes/base.py:3655\u001b[0m, in \u001b[0;36mIndex.get_loc\u001b[0;34m(self, key)\u001b[0m\n\u001b[1;32m   <a href='file:///home/victor/anaconda3/envs/data_gen/lib/python3.9/site-packages/pandas/core/indexes/base.py?line=3652'>3653</a>\u001b[0m     \u001b[39mreturn\u001b[39;00m \u001b[39mself\u001b[39m\u001b[39m.\u001b[39m_engine\u001b[39m.\u001b[39mget_loc(casted_key)\n\u001b[1;32m   <a href='file:///home/victor/anaconda3/envs/data_gen/lib/python3.9/site-packages/pandas/core/indexes/base.py?line=3653'>3654</a>\u001b[0m \u001b[39mexcept\u001b[39;00m \u001b[39mKeyError\u001b[39;00m \u001b[39mas\u001b[39;00m err:\n\u001b[0;32m-> <a href='file:///home/victor/anaconda3/envs/data_gen/lib/python3.9/site-packages/pandas/core/indexes/base.py?line=3654'>3655</a>\u001b[0m     \u001b[39mraise\u001b[39;00m \u001b[39mKeyError\u001b[39;00m(key) \u001b[39mfrom\u001b[39;00m \u001b[39merr\u001b[39;00m\n\u001b[1;32m   <a href='file:///home/victor/anaconda3/envs/data_gen/lib/python3.9/site-packages/pandas/core/indexes/base.py?line=3655'>3656</a>\u001b[0m \u001b[39mexcept\u001b[39;00m \u001b[39mTypeError\u001b[39;00m:\n\u001b[1;32m   <a href='file:///home/victor/anaconda3/envs/data_gen/lib/python3.9/site-packages/pandas/core/indexes/base.py?line=3656'>3657</a>\u001b[0m     \u001b[39m# If we have a listlike key, _check_indexing_error will raise\u001b[39;00m\n\u001b[1;32m   <a href='file:///home/victor/anaconda3/envs/data_gen/lib/python3.9/site-packages/pandas/core/indexes/base.py?line=3657'>3658</a>\u001b[0m     \u001b[39m#  InvalidIndexError. Otherwise we fall through and re-raise\u001b[39;00m\n\u001b[1;32m   <a href='file:///home/victor/anaconda3/envs/data_gen/lib/python3.9/site-packages/pandas/core/indexes/base.py?line=3658'>3659</a>\u001b[0m     \u001b[39m#  the TypeError.\u001b[39;00m\n\u001b[1;32m   <a href='file:///home/victor/anaconda3/envs/data_gen/lib/python3.9/site-packages/pandas/core/indexes/base.py?line=3659'>3660</a>\u001b[0m     \u001b[39mself\u001b[39m\u001b[39m.\u001b[39m_check_indexing_error(key)\n",
      "\u001b[0;31mKeyError\u001b[0m: 'cuisine'"
     ]
    }
   ],
   "source": [
    "sum(final_df['cuisine'].isna())"
   ]
  },
  {
   "cell_type": "code",
   "execution_count": 1309,
   "metadata": {},
   "outputs": [
    {
     "data": {
      "text/plain": [
       "(854, 2)"
      ]
     },
     "execution_count": 1309,
     "metadata": {},
     "output_type": "execute_result"
    }
   ],
   "source": [
    "df_to_process.shape"
   ]
  },
  {
   "cell_type": "code",
   "execution_count": 1310,
   "metadata": {},
   "outputs": [
    {
     "data": {
      "text/plain": [
       "'2'"
      ]
     },
     "execution_count": 1310,
     "metadata": {},
     "output_type": "execute_result"
    }
   ],
   "source": [
    "df_to_process[\"raw_text\"][1]"
   ]
  },
  {
   "cell_type": "code",
   "execution_count": 1276,
   "metadata": {},
   "outputs": [],
   "source": [
    "def extract_raw_nutritional_info(text: str, \n",
    "                                 pattern: str, \n",
    "                                 second_pattern:str=r'=[\\w\\W]*\\d+\\.?\\d*(?=\\s*g|\\s*gram|\\s*grams)'): \n",
    "    lower_text = text.lower()\n",
    "    #if \"for the entire recipe\" in lower_text or \"=\" in lower_text:\n",
    "    # if \"=\" in lower_text:\n",
    "    #     numbers = re.findall(second_pattern, lower_text, re.IGNORECASE)\n",
    "    # else:\n",
    "    numbers = re.findall(pattern, lower_text, re.IGNORECASE)\n",
    "    return numbers"
   ]
  },
  {
   "cell_type": "code",
   "execution_count": 1290,
   "metadata": {},
   "outputs": [],
   "source": [
    "grams_pattern = r'\\d+\\.?\\d*(?=\\s*g|\\s*gram|\\s*grams)'\n",
    "partial_extractor = partial(extract_raw_nutritional_info, pattern=grams_pattern)"
   ]
  },
  {
   "cell_type": "code",
   "execution_count": 1291,
   "metadata": {},
   "outputs": [],
   "source": [
    "partial_numbers_df = df_to_process[\"raw_text\"].apply(lambda x: partial_extractor(x))"
   ]
  },
  {
   "cell_type": "code",
   "execution_count": 1292,
   "metadata": {},
   "outputs": [],
   "source": [
    "# \n",
    "mask_empty = partial_numbers_df.apply(lambda x: len(x) == 0)"
   ]
  },
  {
   "cell_type": "code",
   "execution_count": 1293,
   "metadata": {},
   "outputs": [],
   "source": [
    "partial_data = partial_numbers_df[~mask_empty]"
   ]
  },
  {
   "cell_type": "code",
   "execution_count": 1294,
   "metadata": {},
   "outputs": [],
   "source": [
    "fat_series =  partial_data.apply(lambda x: x[-1])"
   ]
  },
  {
   "cell_type": "code",
   "execution_count": 1295,
   "metadata": {},
   "outputs": [],
   "source": [
    "for idx, val in fat_series.items():\n",
    "    df_to_process.loc[idx, \"protein\"] = val"
   ]
  },
  {
   "cell_type": "code",
   "execution_count": 1321,
   "metadata": {},
   "outputs": [],
   "source": [
    "dict_fat = dict(zip(df_to_process['title'], df_to_process['raw_text']))"
   ]
  },
  {
   "cell_type": "code",
   "execution_count": 1299,
   "metadata": {},
   "outputs": [
    {
     "data": {
      "text/plain": [
       "Index(['title', 'raw_text', 'meal_type', 'cultural_restriction', 'calories',\n",
       "       'allergies', 'recipeId', 'ingredients', 'preparation', 'carbs', 'fat',\n",
       "       'fiber', 'protein', 'taste', 'cooking_style', 'meal_type_1',\n",
       "       'prep_time', 'price', 'country'],\n",
       "      dtype='object')"
      ]
     },
     "execution_count": 1299,
     "metadata": {},
     "output_type": "execute_result"
    }
   ],
   "source": [
    "df_updated.columns"
   ]
  },
  {
   "cell_type": "code",
   "execution_count": 1322,
   "metadata": {},
   "outputs": [],
   "source": [
    "#df_updated = final_df.copy()\n",
    "for title, fat in dict_fat.items():\n",
    "    mask = df_updated['title'] == title\n",
    "    df_updated.loc[mask, \"cuisine\"] = fat"
   ]
  },
  {
   "cell_type": "code",
   "execution_count": 1323,
   "metadata": {},
   "outputs": [
    {
     "data": {
      "text/plain": [
       "2"
      ]
     },
     "execution_count": 1323,
     "metadata": {},
     "output_type": "execute_result"
    }
   ],
   "source": [
    "sum(df_updated['cuisine'].isna())"
   ]
  },
  {
   "cell_type": "code",
   "execution_count": 1324,
   "metadata": {},
   "outputs": [],
   "source": [
    "df_updated.to_csv(\"df_6552_updated_cuisine.csv\", sep='|')"
   ]
  },
  {
   "cell_type": "code",
   "execution_count": 1253,
   "metadata": {},
   "outputs": [
    {
     "data": {
      "text/plain": [
       "0          85\n",
       "1        17.6\n",
       "2          99\n",
       "3          68\n",
       "4        52.5\n",
       "        ...  \n",
       "1775       70\n",
       "1776    86.67\n",
       "1777       40\n",
       "1778       70\n",
       "1779       84\n",
       "Name: raw_text, Length: 1726, dtype: object"
      ]
     },
     "execution_count": 1253,
     "metadata": {},
     "output_type": "execute_result"
    }
   ],
   "source": [
    "fat_series"
   ]
  },
  {
   "cell_type": "code",
   "execution_count": 1166,
   "metadata": {},
   "outputs": [],
   "source": [
    "test = partial_numbers_df.apply(lambda x: len(x)==1)"
   ]
  },
  {
   "cell_type": "code",
   "execution_count": 1167,
   "metadata": {},
   "outputs": [
    {
     "name": "stdout",
     "output_type": "stream",
     "text": [
      "size: (1153,)\n"
     ]
    }
   ],
   "source": [
    "# second_extraction\n",
    "se_partial_df = partial_numbers_df[test]\n",
    "print(f\"size: {se_partial_df.shape}\")"
   ]
  },
  {
   "cell_type": "code",
   "execution_count": 1168,
   "metadata": {},
   "outputs": [],
   "source": [
    "te_partial_df = partial_numbers_df[~test]"
   ]
  },
  {
   "cell_type": "code",
   "execution_count": 1169,
   "metadata": {},
   "outputs": [
    {
     "data": {
      "text/plain": [
       "188"
      ]
     },
     "execution_count": 1169,
     "metadata": {},
     "output_type": "execute_result"
    }
   ],
   "source": [
    "len(te_partial_df)"
   ]
  },
  {
   "cell_type": "code",
   "execution_count": 1170,
   "metadata": {},
   "outputs": [],
   "source": [
    "fourth_mask = te_partial_df.apply(lambda x: len(x) == 0)"
   ]
  },
  {
   "cell_type": "code",
   "execution_count": 1171,
   "metadata": {},
   "outputs": [],
   "source": [
    "fe_partial = te_partial_df[~fourth_mask]"
   ]
  },
  {
   "cell_type": "code",
   "execution_count": 1177,
   "metadata": {},
   "outputs": [],
   "source": [
    "fe_final_list = fe_partial.apply(lambda x: x[-1])"
   ]
  },
  {
   "cell_type": "code",
   "execution_count": 1224,
   "metadata": {},
   "outputs": [
    {
     "data": {
      "text/plain": [
       "164"
      ]
     },
     "execution_count": 1224,
     "metadata": {},
     "output_type": "execute_result"
    }
   ],
   "source": [
    "len(fe_final_list)"
   ]
  },
  {
   "cell_type": "code",
   "execution_count": 1175,
   "metadata": {},
   "outputs": [
    {
     "data": {
      "text/plain": [
       "\"To calculate the total carbohydrates for the recipe, we need to consider the carbohydrate content of each ingredient. Spices like garlic powder, paprika, salt, and black pepper have negligible carbohydrate content, so we'll focus on the cauliflower and olive oil. Olive oil is entirely fat and contains no carbohydrates. Cauliflower is the only ingredient with a significant amount of carbohydrates.\\n\\nA medium-sized cauliflower (5-6 inches in diameter, 580 grams) has approximately 29 grams of carbohydrates.\\n\\nThus, the total carbohydrates in the recipe are:\\n\\nCauliflower: ~29 grams\\nOlive oil: 0 grams\\nSpices: Negligible \\n\\nTotal carbohydrates: 29 grams\\n\\nAnswer: 29\""
      ]
     },
     "execution_count": 1175,
     "metadata": {},
     "output_type": "execute_result"
    }
   ],
   "source": [
    "df_to_process.loc[1314, \"raw_text\"]"
   ]
  },
  {
   "cell_type": "code",
   "execution_count": 1178,
   "metadata": {},
   "outputs": [],
   "source": [
    "final_check = df_to_process.loc[mask_empty, :]"
   ]
  },
  {
   "cell_type": "code",
   "execution_count": 1205,
   "metadata": {},
   "outputs": [],
   "source": [
    "ing = final_df.loc[final_df['title'] == 'Vegan Creamy Broccoli Soup', \"ingredients\"]"
   ]
  },
  {
   "cell_type": "code",
   "execution_count": 1206,
   "metadata": {},
   "outputs": [
    {
     "name": "stdout",
     "output_type": "stream",
     "text": [
      "sure! here's a recipe for vegan creamy broccoli soup:\n",
      "\n",
      "ingredients:\n",
      "- 1 large head of broccoli, chopped into florets\n",
      "- 1 onion, diced\n",
      "- 3 cloves of garlic, minced\n",
      "- 3 cups vegetable broth\n",
      "- 1 cup unsweetened almond milk (or any other plant-based milk)\n",
      "- 2 tablespoons nutritional yeast\n",
      "- 1 tablespoon olive oil\n",
      "- salt and pepper to taste\n",
      "\n",
      "\n"
     ]
    }
   ],
   "source": [
    "print(ing.values[0])"
   ]
  },
  {
   "cell_type": "code",
   "execution_count": 1207,
   "metadata": {},
   "outputs": [],
   "source": [
    "final_check.loc[351, \"carbs\"] = 39"
   ]
  },
  {
   "cell_type": "code",
   "execution_count": 1209,
   "metadata": {},
   "outputs": [
    {
     "data": {
      "text/plain": [
       "['Vegan Spinach and Artichoke Stuffed Mushrooms',\n",
       " 'Vegan Caprese Skewers',\n",
       " 'Fruit Skewers',\n",
       " 'Thai Veggie Spring Rolls',\n",
       " 'Vegan Creamy Broccoli Soup',\n",
       " 'Vegan BBQ Chickpea Pizza',\n",
       " 'Tomato and feta breakfast tart',\n",
       " 'Tomato and Basil Omelette',\n",
       " 'Tofu Scramble Breakfast Burrito',\n",
       " 'Bruschetta with Mozzarella and Sun',\n",
       " 'Boiled Egg with Whole Wheat Crackers',\n",
       " 'Vegan Breakfast Muffuletta',\n",
       " 'Vegan Breakfast Phyllo Cups',\n",
       " 'Vegan Egg McMuffin',\n",
       " 'Vegan Mediterranean Breakfast Wrap',\n",
       " 'Vegan Mediterranean Toast with Hummus and Olives',\n",
       " 'Vegan Sausage and Veggie Skewers',\n",
       " 'Vegan Breakfast Pizza Rolls',\n",
       " 'Stuffed Dates',\n",
       " 'Healthy Veggie Nachos',\n",
       " 'Vegan Cinnamon Rolls',\n",
       " 'Vegan Mushroom and Spinach Pizza',\n",
       " 'Vegan Ratatouille Pastry Puffs',\n",
       " 'Chia Pudding ']"
      ]
     },
     "execution_count": 1209,
     "metadata": {},
     "output_type": "execute_result"
    }
   ],
   "source": [
    "final_check['title'].tolist()"
   ]
  },
  {
   "cell_type": "code",
   "execution_count": 1211,
   "metadata": {},
   "outputs": [],
   "source": [
    "# recipe names for \n",
    "with open(\"recipes_to_postprocessing_1.json\", 'w') as fp:\n",
    "    json.dump(final_check['title'].tolist(), fp) \n",
    "    "
   ]
  },
  {
   "cell_type": "code",
   "execution_count": 1212,
   "metadata": {},
   "outputs": [
    {
     "data": {
      "text/plain": [
       "0       [= 97g \\n\\nif cheese is added (assuming 2g for...\n",
       "1       [= 108g of carbohydrates\\n- plant-based milk: ...\n",
       "2       [= 58g\\n\\ntherefore, the total approximate car...\n",
       "3                                    [= approximately 92]\n",
       "4                                                 [= 129]\n",
       "                              ...                        \n",
       "1335    [= 41 grams\\n\\nthe total carbohydrates for the...\n",
       "1336    [= 126 grams of carbs\\n\\nnow, this is the tota...\n",
       "1338                                              [= 163]\n",
       "1339    [= 12 dates * 18 grams/date = 216 grams\\ntotal...\n",
       "1340    [= 190g\\n\\ntherefore, the total carbohydrates ...\n",
       "Name: raw_text, Length: 1153, dtype: object"
      ]
     },
     "execution_count": 1212,
     "metadata": {},
     "output_type": "execute_result"
    }
   ],
   "source": [
    "partial_numbers_df[test]"
   ]
  },
  {
   "cell_type": "code",
   "execution_count": 1144,
   "metadata": {},
   "outputs": [],
   "source": [
    "def second_extraction(text:str, pattern:str=r'\\d+\\.?\\d*'):\n",
    "    # get the final results \n",
    "    result = re.findall(pattern, text, re.IGNORECASE)\n",
    "    if len(result) > 0:\n",
    "        return result[-1]\n",
    "    else:\n",
    "        return result"
   ]
  },
  {
   "cell_type": "code",
   "execution_count": 1145,
   "metadata": {},
   "outputs": [],
   "source": [
    "list_final_values = se_partial_df.apply(lambda x: second_extraction(x[0]) if len(x) > 0 else None)"
   ]
  },
  {
   "cell_type": "code",
   "execution_count": 1147,
   "metadata": {},
   "outputs": [
    {
     "data": {
      "text/plain": [
       "0        99\n",
       "1       109\n",
       "2        58\n",
       "3        92\n",
       "4       129\n",
       "       ... \n",
       "1335     41\n",
       "1336    126\n",
       "1338    163\n",
       "1339    235\n",
       "1340    190\n",
       "Name: raw_text, Length: 1152, dtype: object"
      ]
     },
     "execution_count": 1147,
     "metadata": {},
     "output_type": "execute_result"
    }
   ],
   "source": [
    "list_final_values"
   ]
  },
  {
   "cell_type": "code",
   "execution_count": 1151,
   "metadata": {},
   "outputs": [
    {
     "data": {
      "text/plain": [
       "1341"
      ]
     },
     "execution_count": 1151,
     "metadata": {},
     "output_type": "execute_result"
    }
   ],
   "source": [
    "len(df_to_process)"
   ]
  },
  {
   "cell_type": "code",
   "execution_count": 1218,
   "metadata": {},
   "outputs": [],
   "source": [
    "def reformat_ingredients_and_preparation(text_obj):\n",
    "    print(type(text_obj))\n",
    "    if type(text_obj) == list:\n",
    "        return \" \".join(text_obj)\n",
    "    else:\n",
    "        return text_obj"
   ]
  },
  {
   "cell_type": "code",
   "execution_count": 1225,
   "metadata": {},
   "outputs": [],
   "source": [
    "# final list of calories values to fullfil \n",
    "final_result = pd.concat([list_final_values, fe_final_list])"
   ]
  },
  {
   "cell_type": "code",
   "execution_count": 1231,
   "metadata": {},
   "outputs": [],
   "source": []
  },
  {
   "cell_type": "code",
   "execution_count": 1233,
   "metadata": {},
   "outputs": [],
   "source": [
    "df_updated_calories = update_dataframe(final_df, \"carbs\", final_result)"
   ]
  },
  {
   "cell_type": "code",
   "execution_count": 1235,
   "metadata": {},
   "outputs": [
    {
     "data": {
      "text/plain": [
       "3458"
      ]
     },
     "execution_count": 1235,
     "metadata": {},
     "output_type": "execute_result"
    }
   ],
   "source": [
    "sum(df_updated_calories['carbs'].isna())"
   ]
  },
  {
   "cell_type": "code",
   "execution_count": 1237,
   "metadata": {},
   "outputs": [],
   "source": [
    "df_updated_calories.to_csv(\"reformated_6552_carbs.csv\", sep='|')"
   ]
  },
  {
   "cell_type": "code",
   "execution_count": 1540,
   "metadata": {},
   "outputs": [],
   "source": [
    "df_new = pd.read_csv(\"/home/victor/Documents/Expectation_data_generation/df_allergens_700_raw_new.csv\", \n",
    "                     sep=\"|\", \n",
    "                     index_col=0)"
   ]
  },
  {
   "cell_type": "code",
   "execution_count": 1541,
   "metadata": {},
   "outputs": [
    {
     "data": {
      "text/plain": [
       "(690, 2)"
      ]
     },
     "execution_count": 1541,
     "metadata": {},
     "output_type": "execute_result"
    }
   ],
   "source": [
    "df_new.shape"
   ]
  },
  {
   "cell_type": "code",
   "execution_count": 1514,
   "metadata": {},
   "outputs": [],
   "source": [
    "# choosen \n",
    "mask_fiber = df_updated['fiber'].isna()"
   ]
  },
  {
   "cell_type": "code",
   "execution_count": 1515,
   "metadata": {},
   "outputs": [],
   "source": [
    "titles = df_updated.loc[mask_fiber, \"title\"].tolist()"
   ]
  },
  {
   "cell_type": "code",
   "execution_count": 1472,
   "metadata": {},
   "outputs": [],
   "source": [
    "grams_pattern = r'\\d+\\.?\\d*(?=\\s*g|\\s*gram|\\s*grams)'\n",
    "partial_extractor = partial(extract_raw_nutritional_info, pattern=grams_pattern)"
   ]
  },
  {
   "cell_type": "code",
   "execution_count": 1510,
   "metadata": {},
   "outputs": [],
   "source": [
    "mask = df_new['raw_text'].apply(lambda x: type(x) == float)"
   ]
  },
  {
   "cell_type": "code",
   "execution_count": 1516,
   "metadata": {},
   "outputs": [],
   "source": [
    "df_to_process = df_new.loc[~mask,:]"
   ]
  },
  {
   "cell_type": "code",
   "execution_count": 1517,
   "metadata": {},
   "outputs": [],
   "source": [
    "partial_carbs = df_to_process[\"raw_text\"].apply(lambda x: partial_extractor(x))"
   ]
  },
  {
   "cell_type": "code",
   "execution_count": 1518,
   "metadata": {},
   "outputs": [],
   "source": [
    "df_new[\"carbs\"] = partial_carbs.apply(lambda x: x[-1] if len(x) > 0 else np.nan)"
   ]
  },
  {
   "cell_type": "code",
   "execution_count": 1519,
   "metadata": {},
   "outputs": [],
   "source": [
    "dict_up = dict(zip(df_new[\"title\"], df_new[\"carbs\"]))"
   ]
  },
  {
   "cell_type": "code",
   "execution_count": 1520,
   "metadata": {},
   "outputs": [],
   "source": [
    "for k, v in dict_up.items():\n",
    "    if k in titles:\n",
    "        mask = df_updated[\"title\"] == k\n",
    "        df_updated.loc[mask, \"fiber\"] = v"
   ]
  },
  {
   "cell_type": "code",
   "execution_count": 1521,
   "metadata": {},
   "outputs": [
    {
     "data": {
      "text/plain": [
       "659"
      ]
     },
     "execution_count": 1521,
     "metadata": {},
     "output_type": "execute_result"
    }
   ],
   "source": [
    "sum(df_updated[\"fiber\"].isna())"
   ]
  },
  {
   "cell_type": "code",
   "execution_count": 1491,
   "metadata": {},
   "outputs": [],
   "source": [
    "df_updated.to_csv(\"df_6552_almost_ready.csv\", sep=\"|\")"
   ]
  },
  {
   "cell_type": "code",
   "execution_count": 1435,
   "metadata": {},
   "outputs": [
    {
     "data": {
      "text/html": [
       "<div>\n",
       "<style scoped>\n",
       "    .dataframe tbody tr th:only-of-type {\n",
       "        vertical-align: middle;\n",
       "    }\n",
       "\n",
       "    .dataframe tbody tr th {\n",
       "        vertical-align: top;\n",
       "    }\n",
       "\n",
       "    .dataframe thead th {\n",
       "        text-align: right;\n",
       "    }\n",
       "</style>\n",
       "<table border=\"1\" class=\"dataframe\">\n",
       "  <thead>\n",
       "    <tr style=\"text-align: right;\">\n",
       "      <th></th>\n",
       "      <th>title</th>\n",
       "      <th>raw_text</th>\n",
       "    </tr>\n",
       "  </thead>\n",
       "  <tbody>\n",
       "    <tr>\n",
       "      <th>0</th>\n",
       "      <td>Zucchini and Parmesan Muffins</td>\n",
       "      <td>The estimated total carbohydrates for the reci...</td>\n",
       "    </tr>\n",
       "    <tr>\n",
       "      <th>1</th>\n",
       "      <td>Tomato Basil Quiche</td>\n",
       "      <td>The total carbohydrates for the recipe is appr...</td>\n",
       "    </tr>\n",
       "    <tr>\n",
       "      <th>2</th>\n",
       "      <td>Chia Seed Pancakes</td>\n",
       "      <td>The total carbohydrates for the recipe is appr...</td>\n",
       "    </tr>\n",
       "    <tr>\n",
       "      <th>3</th>\n",
       "      <td>Veggie Breakfast Pizza</td>\n",
       "      <td>The estimated total carbohydrates for the enti...</td>\n",
       "    </tr>\n",
       "    <tr>\n",
       "      <th>4</th>\n",
       "      <td>Veggie Breakfast Wrap</td>\n",
       "      <td>The estimated total carbohydrates for the give...</td>\n",
       "    </tr>\n",
       "    <tr>\n",
       "      <th>...</th>\n",
       "      <td>...</td>\n",
       "      <td>...</td>\n",
       "    </tr>\n",
       "    <tr>\n",
       "      <th>4446</th>\n",
       "      <td>Lebanese markouk bread with za'atar and olive ...</td>\n",
       "      <td>The total carbohydrates for the given recipe w...</td>\n",
       "    </tr>\n",
       "    <tr>\n",
       "      <th>4447</th>\n",
       "      <td>South African melktert (milk tart) with cinnam...</td>\n",
       "      <td>The total carbohydrates for the South African ...</td>\n",
       "    </tr>\n",
       "    <tr>\n",
       "      <th>4448</th>\n",
       "      <td>Vietnamese bánh cuốn (steamed rice rolls) with...</td>\n",
       "      <td>The total carbohydrates in the given recipe wo...</td>\n",
       "    </tr>\n",
       "    <tr>\n",
       "      <th>4449</th>\n",
       "      <td>Healthy Fruit Salad</td>\n",
       "      <td>The total carbohydrates for the given recipe i...</td>\n",
       "    </tr>\n",
       "    <tr>\n",
       "      <th>4450</th>\n",
       "      <td>Breakfast Burrito</td>\n",
       "      <td>The total carbohydrates for the recipe would b...</td>\n",
       "    </tr>\n",
       "  </tbody>\n",
       "</table>\n",
       "<p>4451 rows × 2 columns</p>\n",
       "</div>"
      ],
      "text/plain": [
       "                                                  title  \\\n",
       "0                         Zucchini and Parmesan Muffins   \n",
       "1                                   Tomato Basil Quiche   \n",
       "2                                    Chia Seed Pancakes   \n",
       "3                                Veggie Breakfast Pizza   \n",
       "4                                 Veggie Breakfast Wrap   \n",
       "...                                                 ...   \n",
       "4446  Lebanese markouk bread with za'atar and olive ...   \n",
       "4447  South African melktert (milk tart) with cinnam...   \n",
       "4448  Vietnamese bánh cuốn (steamed rice rolls) with...   \n",
       "4449                                Healthy Fruit Salad   \n",
       "4450                                  Breakfast Burrito   \n",
       "\n",
       "                                               raw_text  \n",
       "0     The estimated total carbohydrates for the reci...  \n",
       "1     The total carbohydrates for the recipe is appr...  \n",
       "2     The total carbohydrates for the recipe is appr...  \n",
       "3     The estimated total carbohydrates for the enti...  \n",
       "4     The estimated total carbohydrates for the give...  \n",
       "...                                                 ...  \n",
       "4446  The total carbohydrates for the given recipe w...  \n",
       "4447  The total carbohydrates for the South African ...  \n",
       "4448  The total carbohydrates in the given recipe wo...  \n",
       "4449  The total carbohydrates for the given recipe i...  \n",
       "4450  The total carbohydrates for the recipe would b...  \n",
       "\n",
       "[4451 rows x 2 columns]"
      ]
     },
     "execution_count": 1435,
     "metadata": {},
     "output_type": "execute_result"
    }
   ],
   "source": [
    "df_new"
   ]
  },
  {
   "cell_type": "code",
   "execution_count": null,
   "metadata": {},
   "outputs": [],
   "source": []
  },
  {
   "cell_type": "code",
   "execution_count": null,
   "metadata": {},
   "outputs": [],
   "source": []
  },
  {
   "cell_type": "markdown",
   "metadata": {},
   "source": [
    "## process the 700 "
   ]
  },
  {
   "cell_type": "code",
   "execution_count": 1328,
   "metadata": {},
   "outputs": [],
   "source": [
    "df_ng = pd.read_csv(\"/home/victor/Documents/Expectation_data_generation/src/meals_collection/new_recipes_ng.csv\", \n",
    "                    sep='|', \n",
    "                    index_col=0)"
   ]
  },
  {
   "cell_type": "code",
   "execution_count": 1329,
   "metadata": {},
   "outputs": [
    {
     "data": {
      "text/plain": [
       "Index(['title', 'ingredients', 'preparation'], dtype='object')"
      ]
     },
     "execution_count": 1329,
     "metadata": {},
     "output_type": "execute_result"
    }
   ],
   "source": [
    "df_ng.columns"
   ]
  },
  {
   "cell_type": "code",
   "execution_count": 1330,
   "metadata": {},
   "outputs": [
    {
     "data": {
      "text/plain": [
       "(705, 3)"
      ]
     },
     "execution_count": 1330,
     "metadata": {},
     "output_type": "execute_result"
    }
   ],
   "source": [
    "df_ng.shape"
   ]
  },
  {
   "cell_type": "code",
   "execution_count": 1551,
   "metadata": {},
   "outputs": [],
   "source": [
    "df_to_process = pd.read_csv(\"/home/victor/Documents/Expectation_data_generation/df_meal_type_raw_new.csv\", \n",
    "                            sep='|',\n",
    "                            index_col=0)"
   ]
  },
  {
   "cell_type": "code",
   "execution_count": 1543,
   "metadata": {},
   "outputs": [
    {
     "data": {
      "text/plain": [
       "(690, 2)"
      ]
     },
     "execution_count": 1543,
     "metadata": {},
     "output_type": "execute_result"
    }
   ],
   "source": [
    "df_to_process.shape"
   ]
  },
  {
   "cell_type": "code",
   "execution_count": 1528,
   "metadata": {},
   "outputs": [],
   "source": [
    "def get_prep_time(text):\n",
    "    try:\n",
    "        if type(text) == str:\n",
    "            lower_text = text.lower()\n",
    "            find_all = re.findall(r'\\d+\\.?\\d*', lower_text, re.IGNORECASE)\n",
    "            if len(find_all) == 0:\n",
    "                np.nan\n",
    "            else:\n",
    "                number = float(find_all[-1])\n",
    "                if number < 3.0:\n",
    "                    return number * 60.0\n",
    "                else:\n",
    "                    return number\n",
    "        elif text.isdigit():\n",
    "            if float(text) < 3.0:\n",
    "                return float(text)*60.0\n",
    "            else:\n",
    "                return float(text)\n",
    "    except Exception as e:\n",
    "        print(f\"Error: {e}\")\n",
    "    "
   ]
  },
  {
   "cell_type": "code",
   "execution_count": 1529,
   "metadata": {},
   "outputs": [],
   "source": [
    "prep_time =  df_to_process[\"raw_text\"].apply(lambda x: get_prep_time(x)) "
   ]
  },
  {
   "cell_type": "code",
   "execution_count": 1531,
   "metadata": {},
   "outputs": [],
   "source": [
    "df_ng[\"prep_time\"] = prep_time"
   ]
  },
  {
   "cell_type": "code",
   "execution_count": 1339,
   "metadata": {},
   "outputs": [],
   "source": [
    "def get_calories(text:str):\n",
    "    lower_text = text.lower()\n",
    "    lower_text = lower_text.replace(\",\", \"\")\n",
    "    result = re.findall(r'\\d+\\.?\\d*', lower_text, re.IGNORECASE)\n",
    "    if len(result) > 0:\n",
    "        return result[-1]"
   ]
  },
  {
   "cell_type": "code",
   "execution_count": 1364,
   "metadata": {},
   "outputs": [],
   "source": [
    "grams_pattern = r'\\d+\\.?\\d*(?=\\s*g|\\s*gram|\\s*grams)'\n",
    "partial_extractor = partial(extract_raw_nutritional_info, pattern=grams_pattern)"
   ]
  },
  {
   "cell_type": "code",
   "execution_count": 1375,
   "metadata": {},
   "outputs": [],
   "source": [
    "df_700_partial = df_to_process['raw_text'].apply(lambda x: partial_extractor(x))"
   ]
  },
  {
   "cell_type": "code",
   "execution_count": 1376,
   "metadata": {},
   "outputs": [],
   "source": [
    "mask_list = df_700_partial.apply(lambda x: len(x) > 0)"
   ]
  },
  {
   "cell_type": "code",
   "execution_count": 1377,
   "metadata": {},
   "outputs": [],
   "source": [
    "df_700_carbs = df_700_partial[mask_list].apply(lambda x: x[-1])"
   ]
  },
  {
   "cell_type": "code",
   "execution_count": 1552,
   "metadata": {},
   "outputs": [
    {
     "data": {
      "text/plain": [
       "(704, 2)"
      ]
     },
     "execution_count": 1552,
     "metadata": {},
     "output_type": "execute_result"
    }
   ],
   "source": [
    "df_to_process.shape"
   ]
  },
  {
   "cell_type": "code",
   "execution_count": 1405,
   "metadata": {},
   "outputs": [],
   "source": [
    "df_700_carbs =  df_to_process[\"raw_text\"]"
   ]
  },
  {
   "cell_type": "code",
   "execution_count": 1398,
   "metadata": {},
   "outputs": [],
   "source": [
    "for i, j in df_700_carbs.items():\n",
    "    df_ng.loc[i, \"cuisine\"] = j"
   ]
  },
  {
   "cell_type": "code",
   "execution_count": 1346,
   "metadata": {},
   "outputs": [],
   "source": [
    "#df_ng[\"calories\"] = df_to_process['raw_text'].apply(lambda x: get_calories(x))"
   ]
  },
  {
   "cell_type": "code",
   "execution_count": 1553,
   "metadata": {},
   "outputs": [],
   "source": [
    "dict_answer = dict(zip(df_to_process[\"title\"], df_to_process[\"raw_text\"]))"
   ]
  },
  {
   "cell_type": "code",
   "execution_count": 1554,
   "metadata": {},
   "outputs": [],
   "source": [
    "for k, v in dict_answer.items():\n",
    "    mask = df_ng['title'] == k \n",
    "    df_ng.loc[mask, \"meal_type\"] = v"
   ]
  },
  {
   "cell_type": "code",
   "execution_count": 1555,
   "metadata": {},
   "outputs": [],
   "source": [
    "df_ng.to_csv(\"df_700_new_recipes_rehyan_style.csv\", sep='|')"
   ]
  },
  {
   "cell_type": "code",
   "execution_count": 1556,
   "metadata": {},
   "outputs": [
    {
     "data": {
      "text/html": [
       "<div>\n",
       "<style scoped>\n",
       "    .dataframe tbody tr th:only-of-type {\n",
       "        vertical-align: middle;\n",
       "    }\n",
       "\n",
       "    .dataframe tbody tr th {\n",
       "        vertical-align: top;\n",
       "    }\n",
       "\n",
       "    .dataframe thead th {\n",
       "        text-align: right;\n",
       "    }\n",
       "</style>\n",
       "<table border=\"1\" class=\"dataframe\">\n",
       "  <thead>\n",
       "    <tr style=\"text-align: right;\">\n",
       "      <th></th>\n",
       "      <th>title</th>\n",
       "      <th>ingredients</th>\n",
       "      <th>preparation</th>\n",
       "      <th>calories</th>\n",
       "      <th>carbs</th>\n",
       "      <th>fat</th>\n",
       "      <th>fiber</th>\n",
       "      <th>protein</th>\n",
       "      <th>taste</th>\n",
       "      <th>price</th>\n",
       "      <th>cooking_style</th>\n",
       "      <th>cuisine</th>\n",
       "      <th>prep_time</th>\n",
       "      <th>meal_type</th>\n",
       "      <th>allergies</th>\n",
       "    </tr>\n",
       "  </thead>\n",
       "  <tbody>\n",
       "    <tr>\n",
       "      <th>0</th>\n",
       "      <td>Apple Cinnamon Cake</td>\n",
       "      <td>1 (18.25 oz.) pkg. spice or cake mix \\n  1 (21...</td>\n",
       "      <td>Preheat oven to 350\\u00b0. \\n  Blend together ...</td>\n",
       "      <td>3357.</td>\n",
       "      <td>706</td>\n",
       "      <td>55</td>\n",
       "      <td>69.2</td>\n",
       "      <td>38</td>\n",
       "      <td>Sweet</td>\n",
       "      <td>2</td>\n",
       "      <td>Slow-cooked</td>\n",
       "      <td>American</td>\n",
       "      <td>45.0</td>\n",
       "      <td>Dessert</td>\n",
       "      <td>NaN</td>\n",
       "    </tr>\n",
       "    <tr>\n",
       "      <th>1</th>\n",
       "      <td>Black Bottom Banana Bars</td>\n",
       "      <td>1/2 c. butter or margarine \\n  1 c. sugar \\n  ...</td>\n",
       "      <td>In mixing bowl \\n  cream butter and sugar. \\n ...</td>\n",
       "      <td>2681.</td>\n",
       "      <td>435.5</td>\n",
       "      <td>51</td>\n",
       "      <td>13.8</td>\n",
       "      <td>18</td>\n",
       "      <td>sweet</td>\n",
       "      <td>2</td>\n",
       "      <td>Baked</td>\n",
       "      <td>American</td>\n",
       "      <td>60.0</td>\n",
       "      <td>Vegetarian</td>\n",
       "      <td>Milk</td>\n",
       "    </tr>\n",
       "    <tr>\n",
       "      <th>2</th>\n",
       "      <td>Tuna Ball</td>\n",
       "      <td>2 (7 oz.) cans white tuna \\n  drained \\n  8 oz...</td>\n",
       "      <td>Mix all ingredients \\n  except pecans. \\n  Chi...</td>\n",
       "      <td>913.</td>\n",
       "      <td>45</td>\n",
       "      <td>36</td>\n",
       "      <td>30.6</td>\n",
       "      <td>119</td>\n",
       "      <td>Salty</td>\n",
       "      <td>2</td>\n",
       "      <td>Sauteed</td>\n",
       "      <td>American</td>\n",
       "      <td>10.0</td>\n",
       "      <td>Meat-based</td>\n",
       "      <td>Tree nuts</td>\n",
       "    </tr>\n",
       "    <tr>\n",
       "      <th>3</th>\n",
       "      <td>Marinated Steak</td>\n",
       "      <td>1 thick flank steak or London broil (about 1 1...</td>\n",
       "      <td>Mix together the wine \\n  soy sauce and season...</td>\n",
       "      <td>1215.</td>\n",
       "      <td>5</td>\n",
       "      <td>56</td>\n",
       "      <td>27</td>\n",
       "      <td>176</td>\n",
       "      <td>Sweet</td>\n",
       "      <td>2</td>\n",
       "      <td>Assembled</td>\n",
       "      <td>Italian</td>\n",
       "      <td>60.0</td>\n",
       "      <td>Meat-based</td>\n",
       "      <td>Soybeans</td>\n",
       "    </tr>\n",
       "  </tbody>\n",
       "</table>\n",
       "</div>"
      ],
      "text/plain": [
       "                      title  \\\n",
       "0       Apple Cinnamon Cake   \n",
       "1  Black Bottom Banana Bars   \n",
       "2                 Tuna Ball   \n",
       "3           Marinated Steak   \n",
       "\n",
       "                                         ingredients  \\\n",
       "0  1 (18.25 oz.) pkg. spice or cake mix \\n  1 (21...   \n",
       "1  1/2 c. butter or margarine \\n  1 c. sugar \\n  ...   \n",
       "2  2 (7 oz.) cans white tuna \\n  drained \\n  8 oz...   \n",
       "3  1 thick flank steak or London broil (about 1 1...   \n",
       "\n",
       "                                         preparation calories  carbs fat  \\\n",
       "0  Preheat oven to 350\\u00b0. \\n  Blend together ...    3357.    706  55   \n",
       "1  In mixing bowl \\n  cream butter and sugar. \\n ...    2681.  435.5  51   \n",
       "2  Mix all ingredients \\n  except pecans. \\n  Chi...     913.     45  36   \n",
       "3  Mix together the wine \\n  soy sauce and season...    1215.      5  56   \n",
       "\n",
       "  fiber protein  taste price cooking_style   cuisine  prep_time   meal_type  \\\n",
       "0  69.2      38  Sweet     2   Slow-cooked  American       45.0     Dessert   \n",
       "1  13.8      18  sweet     2         Baked  American       60.0  Vegetarian   \n",
       "2  30.6     119  Salty     2       Sauteed  American       10.0  Meat-based   \n",
       "3    27     176  Sweet     2     Assembled   Italian       60.0  Meat-based   \n",
       "\n",
       "   allergies  \n",
       "0        NaN  \n",
       "1       Milk  \n",
       "2  Tree nuts  \n",
       "3   Soybeans  "
      ]
     },
     "execution_count": 1556,
     "metadata": {},
     "output_type": "execute_result"
    }
   ],
   "source": [
    "df_ng.head(4)"
   ]
  },
  {
   "cell_type": "code",
   "execution_count": 1538,
   "metadata": {},
   "outputs": [
    {
     "data": {
      "text/plain": [
       "Index(['title', 'raw_text', 'meal_type', 'cultural_restriction', 'calories',\n",
       "       'allergies', 'recipeId', 'ingredients', 'preparation', 'carbs', 'fat',\n",
       "       'fiber', 'protein', 'taste', 'cooking_style', 'meal_type_1',\n",
       "       'prep_time', 'price', 'country', 'cuisine'],\n",
       "      dtype='object')"
      ]
     },
     "execution_count": 1538,
     "metadata": {},
     "output_type": "execute_result"
    }
   ],
   "source": [
    "df_updated.columns"
   ]
  },
  {
   "cell_type": "code",
   "execution_count": 1550,
   "metadata": {},
   "outputs": [
    {
     "data": {
      "text/plain": [
       "Index(['title', 'ingredients', 'preparation', 'calories', 'carbs', 'fat',\n",
       "       'fiber', 'protein', 'taste', 'price', 'cooking_style', 'cuisine',\n",
       "       'prep_time', 'meal_type', 'allergies'],\n",
       "      dtype='object')"
      ]
     },
     "execution_count": 1550,
     "metadata": {},
     "output_type": "execute_result"
    }
   ],
   "source": [
    "df_ng.columns"
   ]
  },
  {
   "cell_type": "code",
   "execution_count": null,
   "metadata": {},
   "outputs": [],
   "source": [
    "# create final dataset "
   ]
  },
  {
   "cell_type": "code",
   "execution_count": 1351,
   "metadata": {},
   "outputs": [
    {
     "data": {
      "text/plain": [
       "\"To calculate the total carbohydrates in this recipe, we will need to find the carbohydrate content of each ingredient and then add them together. Since the exact nutritional content for specific brands of ingredients, like spice or cake mix and apple pie filling, are not provided, I'll use general averages. \\n\\nKeep in mind that actual carbohydrate content may vary based on the brands and products used.\\n\\n1. Spice or Cake Mix (18.25 oz.): Depending on the brand, one package of dry cake mix typically contains around 36-52 grams of carbs per serving, with about 10 servings per package. Let's use an average: 44 grams x 10 servings = 440 grams of carbohydrates.\\n\\n2. Apple Pie Filling (21 oz.): The carbohydrate content for apple pie filling can widely vary, but it typically contains around 20-30 grams of carbs per 1/3 cup serving. There are roughly 3 cups in 21 oz., or about 9 servings of 1/3 cup each. Using an average of 25 grams: 25 grams x 9 servings = 225 grams of carbohydrates.\\n\\n3. Eggs: Eggs are very low in carbohydrates, with less than 1 gram per large egg, so 3 eggs will contribute approximately 3 grams of carbohydrates or even less.\\n\\n4. Sugar (3 Tbsp.): There are about 12.6 grams of carbohydrates in one tablespoon of sugar. So for 3 tablespoons: 12.6 grams x 3 = 37.8 grams of carbohydrates.\\n\\n5. Cinnamon (1 tsp.): Spices like ground cinnamon have negligible amounts of carbohydrates, especially in such small quantities, often less than 1 gram per teaspoon. \\n\\nAdding up the carbohydrate content from the major contributors:\\n\\nCake mix: 440 grams\\nApple pie filling: 225 grams\\nEggs: 3 grams (rounded up from < 3 grams)\\nSugar: 37.8 grams\\nCinnamon: negligible\\n\\nTotal carbohydrates = 440 + 225 + 3 + 37.8 ≈ 705.8 grams\\n\\nThe total carbohydrates in this recipe are approximately 706 grams when rounded to a whole number.\""
      ]
     },
     "execution_count": 1351,
     "metadata": {},
     "output_type": "execute_result"
    }
   ],
   "source": [
    "# get carbs \n",
    "df_to_process['raw_text'][0]"
   ]
  },
  {
   "cell_type": "code",
   "execution_count": 1387,
   "metadata": {},
   "outputs": [],
   "source": [
    "import glob"
   ]
  },
  {
   "cell_type": "code",
   "execution_count": 1407,
   "metadata": {},
   "outputs": [],
   "source": [
    "import requests"
   ]
  },
  {
   "cell_type": "code",
   "execution_count": 1408,
   "metadata": {},
   "outputs": [],
   "source": [
    "api_key = 'v7Xyli94PjQtMlzhIqEsfA==SUxH301I99fnLlXC'"
   ]
  },
  {
   "cell_type": "code",
   "execution_count": 1501,
   "metadata": {},
   "outputs": [],
   "source": [
    "mask = df_updated['fiber'].isna()"
   ]
  },
  {
   "cell_type": "code",
   "execution_count": 1502,
   "metadata": {},
   "outputs": [],
   "source": [
    "# Missed values \n",
    "df_to_fix = df_updated.loc[mask, :]"
   ]
  },
  {
   "cell_type": "code",
   "execution_count": 1494,
   "metadata": {},
   "outputs": [
    {
     "data": {
      "text/plain": [
       "(1292, 20)"
      ]
     },
     "execution_count": 1494,
     "metadata": {},
     "output_type": "execute_result"
    }
   ],
   "source": [
    "df_to_fix.shape"
   ]
  },
  {
   "cell_type": "code",
   "execution_count": 1495,
   "metadata": {},
   "outputs": [],
   "source": [
    "df_to_fix.to_csv(\"df_to_fix_fiber.csv\", sep='|')"
   ]
  },
  {
   "cell_type": "code",
   "execution_count": 1414,
   "metadata": {},
   "outputs": [
    {
     "data": {
      "text/plain": [
       "'ingredients:\\n- 1 apple\\n- 1 banana\\n- 1 orange\\n- 1 cup grapes\\n- 1 cup strawberries\\n- 1 cup pineapple chunks\\n- 1/2 cup blueberries\\n- 1/2 cup raspberries\\n- 1/4 cup honey\\n- 1 tablespoon lemon juice\\n\\n'"
      ]
     },
     "execution_count": 1414,
     "metadata": {},
     "output_type": "execute_result"
    }
   ],
   "source": [
    "df_to_fix[\"ingredients\"][0]"
   ]
  },
  {
   "cell_type": "code",
   "execution_count": 1415,
   "metadata": {},
   "outputs": [
    {
     "name": "stdout",
     "output_type": "stream",
     "text": [
      "[{\"name\": \"pineapple\", \"calories\": 126.9, \"serving_size_g\": 250.0, \"fat_total_g\": 0.3, \"fat_saturated_g\": 0.0, \"protein_g\": 1.4, \"sodium_mg\": 2, \"potassium_mg\": 20, \"cholesterol_mg\": 0, \"carbohydrates_total_g\": 32.6, \"fiber_g\": 3.6, \"sugar_g\": 24.7}, {\"name\": \"lemon\", \"calories\": 4.1, \"serving_size_g\": 14.175, \"fat_total_g\": 0.0, \"fat_saturated_g\": 0.0, \"protein_g\": 0.2, \"sodium_mg\": 0, \"potassium_mg\": 2, \"cholesterol_mg\": 0, \"carbohydrates_total_g\": 1.3, \"fiber_g\": 0.4, \"sugar_g\": 0.4}]\n"
     ]
    }
   ],
   "source": [
    "query = \"\"\"\n",
    "'ingredients:\\n- 1 apple\\n- 1 banana\\n- 1 orange\\n- 1 cup grapes\\n- 1 cup strawberries\\n\n",
    "- 1 cup pineapple chunks\\n- 1/2 cup blueberries\\n- 1/2 cup raspberries\\n- 1/4 cup honey\\n\n",
    "- 1 tablespoon lemon juice\\n\\n'\n",
    "\"\"\"\n",
    "api_url = 'https://api.api-ninjas.com/v1/nutrition?query={}'.format(query)\n",
    "response = requests.get(api_url, headers={'X-Api-Key': f'{api_key}'})\n",
    "if response.status_code == requests.codes.ok:\n",
    "    print(response.text)\n",
    "else:\n",
    "    print(\"Error:\", response.status_code, response.text)"
   ]
  },
  {
   "cell_type": "code",
   "execution_count": 1523,
   "metadata": {},
   "outputs": [
    {
     "data": {
      "text/plain": [
       "Index(['title', 'raw_text', 'meal_type', 'cultural_restriction', 'calories',\n",
       "       'allergies', 'recipeId', 'ingredients', 'preparation', 'carbs', 'fat',\n",
       "       'fiber', 'protein', 'taste', 'cooking_style', 'meal_type_1',\n",
       "       'prep_time', 'price', 'country', 'cuisine'],\n",
       "      dtype='object')"
      ]
     },
     "execution_count": 1523,
     "metadata": {},
     "output_type": "execute_result"
    }
   ],
   "source": [
    "# Join datasets \n",
    "df_updated"
   ]
  },
  {
   "cell_type": "code",
   "execution_count": 1557,
   "metadata": {},
   "outputs": [
    {
     "data": {
      "text/plain": [
       "Index(['title', 'ingredients', 'preparation', 'calories', 'carbs', 'fat',\n",
       "       'fiber', 'protein', 'taste', 'price', 'cooking_style', 'cuisine',\n",
       "       'prep_time', 'meal_type', 'allergies'],\n",
       "      dtype='object')"
      ]
     },
     "execution_count": 1557,
     "metadata": {},
     "output_type": "execute_result"
    }
   ],
   "source": [
    "df_ng.columns"
   ]
  },
  {
   "cell_type": "code",
   "execution_count": 1559,
   "metadata": {},
   "outputs": [],
   "source": [
    "df_ng.rename(columns={'meal_type': 'meal_type_1'}, inplace=True)"
   ]
  },
  {
   "cell_type": "code",
   "execution_count": 1560,
   "metadata": {},
   "outputs": [],
   "source": [
    "df_total_ds = pd.concat([df_updated, df_ng], ignore_index=True)"
   ]
  },
  {
   "cell_type": "code",
   "execution_count": 1561,
   "metadata": {},
   "outputs": [
    {
     "data": {
      "text/html": [
       "<div>\n",
       "<style scoped>\n",
       "    .dataframe tbody tr th:only-of-type {\n",
       "        vertical-align: middle;\n",
       "    }\n",
       "\n",
       "    .dataframe tbody tr th {\n",
       "        vertical-align: top;\n",
       "    }\n",
       "\n",
       "    .dataframe thead th {\n",
       "        text-align: right;\n",
       "    }\n",
       "</style>\n",
       "<table border=\"1\" class=\"dataframe\">\n",
       "  <thead>\n",
       "    <tr style=\"text-align: right;\">\n",
       "      <th></th>\n",
       "      <th>title</th>\n",
       "      <th>raw_text</th>\n",
       "      <th>meal_type</th>\n",
       "      <th>cultural_restriction</th>\n",
       "      <th>calories</th>\n",
       "      <th>allergies</th>\n",
       "      <th>recipeId</th>\n",
       "      <th>ingredients</th>\n",
       "      <th>preparation</th>\n",
       "      <th>carbs</th>\n",
       "      <th>fat</th>\n",
       "      <th>fiber</th>\n",
       "      <th>protein</th>\n",
       "      <th>taste</th>\n",
       "      <th>cooking_style</th>\n",
       "      <th>meal_type_1</th>\n",
       "      <th>prep_time</th>\n",
       "      <th>price</th>\n",
       "      <th>country</th>\n",
       "      <th>cuisine</th>\n",
       "    </tr>\n",
       "  </thead>\n",
       "  <tbody>\n",
       "    <tr>\n",
       "      <th>0</th>\n",
       "      <td>Fruit Salad</td>\n",
       "      <td>1. Fruit Salad: 70 calories per portion, 4 por...</td>\n",
       "      <td>breakfast</td>\n",
       "      <td>vegan</td>\n",
       "      <td>70.0</td>\n",
       "      <td>contains fruits only</td>\n",
       "      <td>food_0</td>\n",
       "      <td>ingredients:\\n- 1 apple\\n- 1 banana\\n- 1 orang...</td>\n",
       "      <td>\\n1. wash and cut all the fruits into bite-siz...</td>\n",
       "      <td>223</td>\n",
       "      <td>2</td>\n",
       "      <td>0.0</td>\n",
       "      <td>15.0</td>\n",
       "      <td>sweet</td>\n",
       "      <td>mixed</td>\n",
       "      <td>fruit-based</td>\n",
       "      <td>NaN</td>\n",
       "      <td>2.0</td>\n",
       "      <td>NaN</td>\n",
       "      <td>Fruit Salad - Mixed</td>\n",
       "    </tr>\n",
       "    <tr>\n",
       "      <th>1</th>\n",
       "      <td>Vegan Omelette</td>\n",
       "      <td>5. Vegan Omelette: 300 calories per portion, 1...</td>\n",
       "      <td>breakfast</td>\n",
       "      <td>vegan</td>\n",
       "      <td>300.0</td>\n",
       "      <td>contains chickpea flour</td>\n",
       "      <td>food_4</td>\n",
       "      <td>ingredients:\\n- 1 cup chickpea flour\\n- 1 cup ...</td>\n",
       "      <td>\\n1. in a mixing bowl, whisk together the chic...</td>\n",
       "      <td>100</td>\n",
       "      <td>20.5</td>\n",
       "      <td>6.0</td>\n",
       "      <td>15.0</td>\n",
       "      <td>Savory</td>\n",
       "      <td>sauteed</td>\n",
       "      <td>veggie</td>\n",
       "      <td>20.0</td>\n",
       "      <td>2.0</td>\n",
       "      <td>NaN</td>\n",
       "      <td>Vegan Omelette - Vegan</td>\n",
       "    </tr>\n",
       "    <tr>\n",
       "      <th>2</th>\n",
       "      <td>Vegan French Toast</td>\n",
       "      <td>7. Vegan French Toast: 400 calories per portio...</td>\n",
       "      <td>breakfast</td>\n",
       "      <td>vegan</td>\n",
       "      <td>400.0</td>\n",
       "      <td>NaN</td>\n",
       "      <td>food_6</td>\n",
       "      <td>ingredients:\\n- 4 slices of vegan bread\\n- 1 c...</td>\n",
       "      <td>\\n1. in a shallow dish, whisk together the alm...</td>\n",
       "      <td>115</td>\n",
       "      <td>38.5</td>\n",
       "      <td>11.8</td>\n",
       "      <td>17.0</td>\n",
       "      <td>sweet</td>\n",
       "      <td>sauteed</td>\n",
       "      <td>vegan</td>\n",
       "      <td>25.0</td>\n",
       "      <td>1.0</td>\n",
       "      <td>NaN</td>\n",
       "      <td>Vegan French Toast: French</td>\n",
       "    </tr>\n",
       "    <tr>\n",
       "      <th>3</th>\n",
       "      <td>Granola with Soy Milk</td>\n",
       "      <td>10. Granola with Soy Milk: 550 calories per po...</td>\n",
       "      <td>breakfast</td>\n",
       "      <td>vegan</td>\n",
       "      <td>550.0</td>\n",
       "      <td>contains nuts (varies by brand)</td>\n",
       "      <td>food_9</td>\n",
       "      <td>ingredients:\\n- 3 cups rolled oats\\n- 1 cup nu...</td>\n",
       "      <td>\\n1. preheat your oven to 325°f (165°c).\\n2. i...</td>\n",
       "      <td>13.1</td>\n",
       "      <td>26.0</td>\n",
       "      <td>1.5</td>\n",
       "      <td>5.5</td>\n",
       "      <td>sweet</td>\n",
       "      <td>baked</td>\n",
       "      <td>grain-based</td>\n",
       "      <td>25.0</td>\n",
       "      <td>2.0</td>\n",
       "      <td>NaN</td>\n",
       "      <td>Breakfast</td>\n",
       "    </tr>\n",
       "    <tr>\n",
       "      <th>4</th>\n",
       "      <td>Vegan Waffles</td>\n",
       "      <td>11. Vegan Waffles: 600 calories per portion, 3...</td>\n",
       "      <td>breakfast</td>\n",
       "      <td>vegan</td>\n",
       "      <td>600.0</td>\n",
       "      <td>NaN</td>\n",
       "      <td>food_10</td>\n",
       "      <td>ingredients:\\n- 2 cups all-purpose flour\\n- 2 ...</td>\n",
       "      <td>\\n1. in a large bowl, whisk together the flour...</td>\n",
       "      <td>382</td>\n",
       "      <td>19.6</td>\n",
       "      <td>3.6</td>\n",
       "      <td>2.6</td>\n",
       "      <td>sweet</td>\n",
       "      <td>baked</td>\n",
       "      <td>vegan</td>\n",
       "      <td>50.0</td>\n",
       "      <td>2.0</td>\n",
       "      <td>NaN</td>\n",
       "      <td>Vegan Waffles: Vegan</td>\n",
       "    </tr>\n",
       "    <tr>\n",
       "      <th>...</th>\n",
       "      <td>...</td>\n",
       "      <td>...</td>\n",
       "      <td>...</td>\n",
       "      <td>...</td>\n",
       "      <td>...</td>\n",
       "      <td>...</td>\n",
       "      <td>...</td>\n",
       "      <td>...</td>\n",
       "      <td>...</td>\n",
       "      <td>...</td>\n",
       "      <td>...</td>\n",
       "      <td>...</td>\n",
       "      <td>...</td>\n",
       "      <td>...</td>\n",
       "      <td>...</td>\n",
       "      <td>...</td>\n",
       "      <td>...</td>\n",
       "      <td>...</td>\n",
       "      <td>...</td>\n",
       "      <td>...</td>\n",
       "    </tr>\n",
       "    <tr>\n",
       "      <th>7222</th>\n",
       "      <td>Smoky Salmon with Miso-Dressed Vegetables</td>\n",
       "      <td>NaN</td>\n",
       "      <td>NaN</td>\n",
       "      <td>NaN</td>\n",
       "      <td>2106</td>\n",
       "      <td>NaN</td>\n",
       "      <td>NaN</td>\n",
       "      <td>1/4 cup white miso \\n  1/4 cup chicken stock \\...</td>\n",
       "      <td>In a saucepan \\n  cook the miso \\n  chicken st...</td>\n",
       "      <td>NaN</td>\n",
       "      <td>432</td>\n",
       "      <td>NaN</td>\n",
       "      <td>NaN</td>\n",
       "      <td>Salty</td>\n",
       "      <td>Baked</td>\n",
       "      <td>Meat-based</td>\n",
       "      <td>30.0</td>\n",
       "      <td>2</td>\n",
       "      <td>NaN</td>\n",
       "      <td>French</td>\n",
       "    </tr>\n",
       "    <tr>\n",
       "      <th>7223</th>\n",
       "      <td>Lobster of the Links Napa Cabbage Wraps</td>\n",
       "      <td>NaN</td>\n",
       "      <td>NaN</td>\n",
       "      <td>NaN</td>\n",
       "      <td>5093.</td>\n",
       "      <td>Shellfish</td>\n",
       "      <td>NaN</td>\n",
       "      <td>1 pound butter \\n  4 (4-ounce) lobster tails \\...</td>\n",
       "      <td>To begin the lobster filling: Melt the butter ...</td>\n",
       "      <td>NaN</td>\n",
       "      <td>292</td>\n",
       "      <td>NaN</td>\n",
       "      <td>NaN</td>\n",
       "      <td>sweet</td>\n",
       "      <td>Baked</td>\n",
       "      <td>Meat-based</td>\n",
       "      <td>60.0</td>\n",
       "      <td>2</td>\n",
       "      <td>NaN</td>\n",
       "      <td>Salad</td>\n",
       "    </tr>\n",
       "    <tr>\n",
       "      <th>7224</th>\n",
       "      <td>Fresh Gingerbread with Port-Poached Pears</td>\n",
       "      <td>NaN</td>\n",
       "      <td>NaN</td>\n",
       "      <td>NaN</td>\n",
       "      <td>7653.6</td>\n",
       "      <td>NaN</td>\n",
       "      <td>NaN</td>\n",
       "      <td>1/4 cup lemon juice fresh \\n  8 large pears fi...</td>\n",
       "      <td>FOR PEARS: Add lemon juice to large bowl of co...</td>\n",
       "      <td>NaN</td>\n",
       "      <td>10</td>\n",
       "      <td>NaN</td>\n",
       "      <td>NaN</td>\n",
       "      <td>Salty</td>\n",
       "      <td>Baked</td>\n",
       "      <td>dessert</td>\n",
       "      <td>45.0</td>\n",
       "      <td>2</td>\n",
       "      <td>NaN</td>\n",
       "      <td>Mediterranean</td>\n",
       "    </tr>\n",
       "    <tr>\n",
       "      <th>7225</th>\n",
       "      <td>Jamocha Bread</td>\n",
       "      <td>NaN</td>\n",
       "      <td>NaN</td>\n",
       "      <td>NaN</td>\n",
       "      <td>2128</td>\n",
       "      <td>NaN</td>\n",
       "      <td>NaN</td>\n",
       "      <td>1 cup strong coffee (quality blend and brewed ...</td>\n",
       "      <td>Warm the coffee to about 100 degrees (30 secon...</td>\n",
       "      <td>NaN</td>\n",
       "      <td>124</td>\n",
       "      <td>NaN</td>\n",
       "      <td>NaN</td>\n",
       "      <td>Sweet</td>\n",
       "      <td>Baked</td>\n",
       "      <td>Beverage</td>\n",
       "      <td>30.0</td>\n",
       "      <td>2</td>\n",
       "      <td>NaN</td>\n",
       "      <td>Soup.</td>\n",
       "    </tr>\n",
       "    <tr>\n",
       "      <th>7226</th>\n",
       "      <td>Roast Beef With Potato Salad</td>\n",
       "      <td>NaN</td>\n",
       "      <td>NaN</td>\n",
       "      <td>NaN</td>\n",
       "      <td>2180</td>\n",
       "      <td>NaN</td>\n",
       "      <td>NaN</td>\n",
       "      <td>2 lb. red potatoes \\n  1 small bunch of chives...</td>\n",
       "      <td>Place potatoes and water to cover in saucepan;...</td>\n",
       "      <td>NaN</td>\n",
       "      <td>NaN</td>\n",
       "      <td>NaN</td>\n",
       "      <td>NaN</td>\n",
       "      <td>sweet</td>\n",
       "      <td>NaN</td>\n",
       "      <td>Meat-based</td>\n",
       "      <td>30.0</td>\n",
       "      <td>NaN</td>\n",
       "      <td>NaN</td>\n",
       "      <td>NaN</td>\n",
       "    </tr>\n",
       "  </tbody>\n",
       "</table>\n",
       "<p>7227 rows × 20 columns</p>\n",
       "</div>"
      ],
      "text/plain": [
       "                                          title  \\\n",
       "0                                   Fruit Salad   \n",
       "1                                Vegan Omelette   \n",
       "2                            Vegan French Toast   \n",
       "3                         Granola with Soy Milk   \n",
       "4                                 Vegan Waffles   \n",
       "...                                         ...   \n",
       "7222  Smoky Salmon with Miso-Dressed Vegetables   \n",
       "7223    Lobster of the Links Napa Cabbage Wraps   \n",
       "7224  Fresh Gingerbread with Port-Poached Pears   \n",
       "7225                              Jamocha Bread   \n",
       "7226               Roast Beef With Potato Salad   \n",
       "\n",
       "                                               raw_text  meal_type  \\\n",
       "0     1. Fruit Salad: 70 calories per portion, 4 por...  breakfast   \n",
       "1     5. Vegan Omelette: 300 calories per portion, 1...  breakfast   \n",
       "2     7. Vegan French Toast: 400 calories per portio...  breakfast   \n",
       "3     10. Granola with Soy Milk: 550 calories per po...  breakfast   \n",
       "4     11. Vegan Waffles: 600 calories per portion, 3...  breakfast   \n",
       "...                                                 ...        ...   \n",
       "7222                                                NaN        NaN   \n",
       "7223                                                NaN        NaN   \n",
       "7224                                                NaN        NaN   \n",
       "7225                                                NaN        NaN   \n",
       "7226                                                NaN        NaN   \n",
       "\n",
       "     cultural_restriction calories                        allergies recipeId  \\\n",
       "0                   vegan     70.0             contains fruits only   food_0   \n",
       "1                   vegan    300.0          contains chickpea flour   food_4   \n",
       "2                   vegan    400.0                              NaN   food_6   \n",
       "3                   vegan    550.0  contains nuts (varies by brand)   food_9   \n",
       "4                   vegan    600.0                              NaN  food_10   \n",
       "...                   ...      ...                              ...      ...   \n",
       "7222                  NaN     2106                              NaN      NaN   \n",
       "7223                  NaN    5093.                        Shellfish      NaN   \n",
       "7224                  NaN   7653.6                              NaN      NaN   \n",
       "7225                  NaN     2128                              NaN      NaN   \n",
       "7226                  NaN     2180                              NaN      NaN   \n",
       "\n",
       "                                            ingredients  \\\n",
       "0     ingredients:\\n- 1 apple\\n- 1 banana\\n- 1 orang...   \n",
       "1     ingredients:\\n- 1 cup chickpea flour\\n- 1 cup ...   \n",
       "2     ingredients:\\n- 4 slices of vegan bread\\n- 1 c...   \n",
       "3     ingredients:\\n- 3 cups rolled oats\\n- 1 cup nu...   \n",
       "4     ingredients:\\n- 2 cups all-purpose flour\\n- 2 ...   \n",
       "...                                                 ...   \n",
       "7222  1/4 cup white miso \\n  1/4 cup chicken stock \\...   \n",
       "7223  1 pound butter \\n  4 (4-ounce) lobster tails \\...   \n",
       "7224  1/4 cup lemon juice fresh \\n  8 large pears fi...   \n",
       "7225  1 cup strong coffee (quality blend and brewed ...   \n",
       "7226  2 lb. red potatoes \\n  1 small bunch of chives...   \n",
       "\n",
       "                                            preparation carbs   fat fiber  \\\n",
       "0     \\n1. wash and cut all the fruits into bite-siz...   223     2   0.0   \n",
       "1     \\n1. in a mixing bowl, whisk together the chic...   100  20.5   6.0   \n",
       "2     \\n1. in a shallow dish, whisk together the alm...   115  38.5  11.8   \n",
       "3     \\n1. preheat your oven to 325°f (165°c).\\n2. i...  13.1  26.0   1.5   \n",
       "4     \\n1. in a large bowl, whisk together the flour...   382  19.6   3.6   \n",
       "...                                                 ...   ...   ...   ...   \n",
       "7222  In a saucepan \\n  cook the miso \\n  chicken st...   NaN   432   NaN   \n",
       "7223  To begin the lobster filling: Melt the butter ...   NaN   292   NaN   \n",
       "7224  FOR PEARS: Add lemon juice to large bowl of co...   NaN    10   NaN   \n",
       "7225  Warm the coffee to about 100 degrees (30 secon...   NaN   124   NaN   \n",
       "7226  Place potatoes and water to cover in saucepan;...   NaN   NaN   NaN   \n",
       "\n",
       "     protein   taste cooking_style  meal_type_1  prep_time price country  \\\n",
       "0       15.0   sweet         mixed  fruit-based        NaN   2.0     NaN   \n",
       "1       15.0  Savory       sauteed       veggie       20.0   2.0     NaN   \n",
       "2       17.0   sweet       sauteed        vegan       25.0   1.0     NaN   \n",
       "3        5.5   sweet         baked  grain-based       25.0   2.0     NaN   \n",
       "4        2.6   sweet         baked        vegan       50.0   2.0     NaN   \n",
       "...      ...     ...           ...          ...        ...   ...     ...   \n",
       "7222     NaN   Salty         Baked   Meat-based       30.0     2     NaN   \n",
       "7223     NaN   sweet         Baked   Meat-based       60.0     2     NaN   \n",
       "7224     NaN   Salty         Baked      dessert       45.0     2     NaN   \n",
       "7225     NaN   Sweet         Baked     Beverage       30.0     2     NaN   \n",
       "7226     NaN   sweet           NaN   Meat-based       30.0   NaN     NaN   \n",
       "\n",
       "                         cuisine  \n",
       "0            Fruit Salad - Mixed  \n",
       "1         Vegan Omelette - Vegan  \n",
       "2     Vegan French Toast: French  \n",
       "3                      Breakfast  \n",
       "4           Vegan Waffles: Vegan  \n",
       "...                          ...  \n",
       "7222                      French  \n",
       "7223                       Salad  \n",
       "7224               Mediterranean  \n",
       "7225                       Soup.  \n",
       "7226                         NaN  \n",
       "\n",
       "[7227 rows x 20 columns]"
      ]
     },
     "execution_count": 1561,
     "metadata": {},
     "output_type": "execute_result"
    }
   ],
   "source": [
    "df_total_ds"
   ]
  },
  {
   "cell_type": "code",
   "execution_count": 1562,
   "metadata": {},
   "outputs": [],
   "source": [
    "df_total_ds.to_csv('df_total_recipes_almost_ready_data.csv', sep='|')"
   ]
  },
  {
   "cell_type": "code",
   "execution_count": 1563,
   "metadata": {},
   "outputs": [],
   "source": [
    "mask_list = df_total_ds['recipeId'].isna()"
   ]
  },
  {
   "cell_type": "code",
   "execution_count": 1565,
   "metadata": {},
   "outputs": [],
   "source": [
    "list_values = [f\"food_{i}\" for i in range(7000, 7000+sum(mask_list))]"
   ]
  },
  {
   "cell_type": "code",
   "execution_count": 1566,
   "metadata": {},
   "outputs": [
    {
     "data": {
      "text/plain": [
       "1032"
      ]
     },
     "execution_count": 1566,
     "metadata": {},
     "output_type": "execute_result"
    }
   ],
   "source": [
    "len(list_values)"
   ]
  },
  {
   "cell_type": "code",
   "execution_count": 1567,
   "metadata": {},
   "outputs": [],
   "source": [
    "df_total_ds.loc[mask_list, 'recipeId'] = list_values"
   ]
  },
  {
   "cell_type": "code",
   "execution_count": 1569,
   "metadata": {},
   "outputs": [],
   "source": [
    "# view for \n",
    "df_almost_total = df_total_ds[['title', \n",
    "             'raw_text', \n",
    "             'cultural_restriction', \n",
    "             'calories',\n",
    "             'allergies', \n",
    "             'recipeId', \n",
    "             'ingredients', \n",
    "             'preparation', \n",
    "             'carbs', \n",
    "             'fat',\n",
    "             'fiber', \n",
    "             'protein', \n",
    "             'taste', \n",
    "             'cooking_style', \n",
    "             'meal_type_1',\n",
    "             'prep_time', \n",
    "             'cuisine',\n",
    "             'price'\n",
    "]]"
   ]
  },
  {
   "cell_type": "code",
   "execution_count": 1571,
   "metadata": {},
   "outputs": [],
   "source": [
    "df_almost_total.reset_index(drop=True, inplace=True)"
   ]
  },
  {
   "cell_type": "code",
   "execution_count": 1572,
   "metadata": {},
   "outputs": [
    {
     "name": "stderr",
     "output_type": "stream",
     "text": [
      "/tmp/ipykernel_4115765/2235655350.py:1: SettingWithCopyWarning: \n",
      "A value is trying to be set on a copy of a slice from a DataFrame\n",
      "\n",
      "See the caveats in the documentation: https://pandas.pydata.org/pandas-docs/stable/user_guide/indexing.html#returning-a-view-versus-a-copy\n",
      "  df_almost_total.rename(columns={'meal_type_1': 'meal_type'}, inplace=True)\n"
     ]
    }
   ],
   "source": [
    "df_almost_total.rename(columns={'meal_type_1': 'meal_type'}, inplace=True)"
   ]
  },
  {
   "cell_type": "code",
   "execution_count": 1573,
   "metadata": {},
   "outputs": [
    {
     "data": {
      "text/html": [
       "<div>\n",
       "<style scoped>\n",
       "    .dataframe tbody tr th:only-of-type {\n",
       "        vertical-align: middle;\n",
       "    }\n",
       "\n",
       "    .dataframe tbody tr th {\n",
       "        vertical-align: top;\n",
       "    }\n",
       "\n",
       "    .dataframe thead th {\n",
       "        text-align: right;\n",
       "    }\n",
       "</style>\n",
       "<table border=\"1\" class=\"dataframe\">\n",
       "  <thead>\n",
       "    <tr style=\"text-align: right;\">\n",
       "      <th></th>\n",
       "      <th>title</th>\n",
       "      <th>raw_text</th>\n",
       "      <th>cultural_restriction</th>\n",
       "      <th>calories</th>\n",
       "      <th>allergies</th>\n",
       "      <th>recipeId</th>\n",
       "      <th>ingredients</th>\n",
       "      <th>preparation</th>\n",
       "      <th>carbs</th>\n",
       "      <th>fat</th>\n",
       "      <th>fiber</th>\n",
       "      <th>protein</th>\n",
       "      <th>taste</th>\n",
       "      <th>cooking_style</th>\n",
       "      <th>meal_type</th>\n",
       "      <th>prep_time</th>\n",
       "      <th>cuisine</th>\n",
       "      <th>price</th>\n",
       "    </tr>\n",
       "  </thead>\n",
       "  <tbody>\n",
       "    <tr>\n",
       "      <th>0</th>\n",
       "      <td>Fruit Salad</td>\n",
       "      <td>1. Fruit Salad: 70 calories per portion, 4 por...</td>\n",
       "      <td>vegan</td>\n",
       "      <td>70.0</td>\n",
       "      <td>contains fruits only</td>\n",
       "      <td>food_0</td>\n",
       "      <td>ingredients:\\n- 1 apple\\n- 1 banana\\n- 1 orang...</td>\n",
       "      <td>\\n1. wash and cut all the fruits into bite-siz...</td>\n",
       "      <td>223</td>\n",
       "      <td>2</td>\n",
       "      <td>0.0</td>\n",
       "      <td>15.0</td>\n",
       "      <td>sweet</td>\n",
       "      <td>mixed</td>\n",
       "      <td>fruit-based</td>\n",
       "      <td>NaN</td>\n",
       "      <td>Fruit Salad - Mixed</td>\n",
       "      <td>2.0</td>\n",
       "    </tr>\n",
       "    <tr>\n",
       "      <th>1</th>\n",
       "      <td>Vegan Omelette</td>\n",
       "      <td>5. Vegan Omelette: 300 calories per portion, 1...</td>\n",
       "      <td>vegan</td>\n",
       "      <td>300.0</td>\n",
       "      <td>contains chickpea flour</td>\n",
       "      <td>food_4</td>\n",
       "      <td>ingredients:\\n- 1 cup chickpea flour\\n- 1 cup ...</td>\n",
       "      <td>\\n1. in a mixing bowl, whisk together the chic...</td>\n",
       "      <td>100</td>\n",
       "      <td>20.5</td>\n",
       "      <td>6.0</td>\n",
       "      <td>15.0</td>\n",
       "      <td>Savory</td>\n",
       "      <td>sauteed</td>\n",
       "      <td>veggie</td>\n",
       "      <td>20.0</td>\n",
       "      <td>Vegan Omelette - Vegan</td>\n",
       "      <td>2.0</td>\n",
       "    </tr>\n",
       "    <tr>\n",
       "      <th>2</th>\n",
       "      <td>Vegan French Toast</td>\n",
       "      <td>7. Vegan French Toast: 400 calories per portio...</td>\n",
       "      <td>vegan</td>\n",
       "      <td>400.0</td>\n",
       "      <td>NaN</td>\n",
       "      <td>food_6</td>\n",
       "      <td>ingredients:\\n- 4 slices of vegan bread\\n- 1 c...</td>\n",
       "      <td>\\n1. in a shallow dish, whisk together the alm...</td>\n",
       "      <td>115</td>\n",
       "      <td>38.5</td>\n",
       "      <td>11.8</td>\n",
       "      <td>17.0</td>\n",
       "      <td>sweet</td>\n",
       "      <td>sauteed</td>\n",
       "      <td>vegan</td>\n",
       "      <td>25.0</td>\n",
       "      <td>Vegan French Toast: French</td>\n",
       "      <td>1.0</td>\n",
       "    </tr>\n",
       "    <tr>\n",
       "      <th>3</th>\n",
       "      <td>Granola with Soy Milk</td>\n",
       "      <td>10. Granola with Soy Milk: 550 calories per po...</td>\n",
       "      <td>vegan</td>\n",
       "      <td>550.0</td>\n",
       "      <td>contains nuts (varies by brand)</td>\n",
       "      <td>food_9</td>\n",
       "      <td>ingredients:\\n- 3 cups rolled oats\\n- 1 cup nu...</td>\n",
       "      <td>\\n1. preheat your oven to 325°f (165°c).\\n2. i...</td>\n",
       "      <td>13.1</td>\n",
       "      <td>26.0</td>\n",
       "      <td>1.5</td>\n",
       "      <td>5.5</td>\n",
       "      <td>sweet</td>\n",
       "      <td>baked</td>\n",
       "      <td>grain-based</td>\n",
       "      <td>25.0</td>\n",
       "      <td>Breakfast</td>\n",
       "      <td>2.0</td>\n",
       "    </tr>\n",
       "    <tr>\n",
       "      <th>4</th>\n",
       "      <td>Vegan Waffles</td>\n",
       "      <td>11. Vegan Waffles: 600 calories per portion, 3...</td>\n",
       "      <td>vegan</td>\n",
       "      <td>600.0</td>\n",
       "      <td>NaN</td>\n",
       "      <td>food_10</td>\n",
       "      <td>ingredients:\\n- 2 cups all-purpose flour\\n- 2 ...</td>\n",
       "      <td>\\n1. in a large bowl, whisk together the flour...</td>\n",
       "      <td>382</td>\n",
       "      <td>19.6</td>\n",
       "      <td>3.6</td>\n",
       "      <td>2.6</td>\n",
       "      <td>sweet</td>\n",
       "      <td>baked</td>\n",
       "      <td>vegan</td>\n",
       "      <td>50.0</td>\n",
       "      <td>Vegan Waffles: Vegan</td>\n",
       "      <td>2.0</td>\n",
       "    </tr>\n",
       "    <tr>\n",
       "      <th>...</th>\n",
       "      <td>...</td>\n",
       "      <td>...</td>\n",
       "      <td>...</td>\n",
       "      <td>...</td>\n",
       "      <td>...</td>\n",
       "      <td>...</td>\n",
       "      <td>...</td>\n",
       "      <td>...</td>\n",
       "      <td>...</td>\n",
       "      <td>...</td>\n",
       "      <td>...</td>\n",
       "      <td>...</td>\n",
       "      <td>...</td>\n",
       "      <td>...</td>\n",
       "      <td>...</td>\n",
       "      <td>...</td>\n",
       "      <td>...</td>\n",
       "      <td>...</td>\n",
       "    </tr>\n",
       "    <tr>\n",
       "      <th>7222</th>\n",
       "      <td>Smoky Salmon with Miso-Dressed Vegetables</td>\n",
       "      <td>NaN</td>\n",
       "      <td>NaN</td>\n",
       "      <td>2106</td>\n",
       "      <td>NaN</td>\n",
       "      <td>food_8027</td>\n",
       "      <td>1/4 cup white miso \\n  1/4 cup chicken stock \\...</td>\n",
       "      <td>In a saucepan \\n  cook the miso \\n  chicken st...</td>\n",
       "      <td>NaN</td>\n",
       "      <td>432</td>\n",
       "      <td>NaN</td>\n",
       "      <td>NaN</td>\n",
       "      <td>Salty</td>\n",
       "      <td>Baked</td>\n",
       "      <td>Meat-based</td>\n",
       "      <td>30.0</td>\n",
       "      <td>French</td>\n",
       "      <td>2</td>\n",
       "    </tr>\n",
       "    <tr>\n",
       "      <th>7223</th>\n",
       "      <td>Lobster of the Links Napa Cabbage Wraps</td>\n",
       "      <td>NaN</td>\n",
       "      <td>NaN</td>\n",
       "      <td>5093.</td>\n",
       "      <td>Shellfish</td>\n",
       "      <td>food_8028</td>\n",
       "      <td>1 pound butter \\n  4 (4-ounce) lobster tails \\...</td>\n",
       "      <td>To begin the lobster filling: Melt the butter ...</td>\n",
       "      <td>NaN</td>\n",
       "      <td>292</td>\n",
       "      <td>NaN</td>\n",
       "      <td>NaN</td>\n",
       "      <td>sweet</td>\n",
       "      <td>Baked</td>\n",
       "      <td>Meat-based</td>\n",
       "      <td>60.0</td>\n",
       "      <td>Salad</td>\n",
       "      <td>2</td>\n",
       "    </tr>\n",
       "    <tr>\n",
       "      <th>7224</th>\n",
       "      <td>Fresh Gingerbread with Port-Poached Pears</td>\n",
       "      <td>NaN</td>\n",
       "      <td>NaN</td>\n",
       "      <td>7653.6</td>\n",
       "      <td>NaN</td>\n",
       "      <td>food_8029</td>\n",
       "      <td>1/4 cup lemon juice fresh \\n  8 large pears fi...</td>\n",
       "      <td>FOR PEARS: Add lemon juice to large bowl of co...</td>\n",
       "      <td>NaN</td>\n",
       "      <td>10</td>\n",
       "      <td>NaN</td>\n",
       "      <td>NaN</td>\n",
       "      <td>Salty</td>\n",
       "      <td>Baked</td>\n",
       "      <td>dessert</td>\n",
       "      <td>45.0</td>\n",
       "      <td>Mediterranean</td>\n",
       "      <td>2</td>\n",
       "    </tr>\n",
       "    <tr>\n",
       "      <th>7225</th>\n",
       "      <td>Jamocha Bread</td>\n",
       "      <td>NaN</td>\n",
       "      <td>NaN</td>\n",
       "      <td>2128</td>\n",
       "      <td>NaN</td>\n",
       "      <td>food_8030</td>\n",
       "      <td>1 cup strong coffee (quality blend and brewed ...</td>\n",
       "      <td>Warm the coffee to about 100 degrees (30 secon...</td>\n",
       "      <td>NaN</td>\n",
       "      <td>124</td>\n",
       "      <td>NaN</td>\n",
       "      <td>NaN</td>\n",
       "      <td>Sweet</td>\n",
       "      <td>Baked</td>\n",
       "      <td>Beverage</td>\n",
       "      <td>30.0</td>\n",
       "      <td>Soup.</td>\n",
       "      <td>2</td>\n",
       "    </tr>\n",
       "    <tr>\n",
       "      <th>7226</th>\n",
       "      <td>Roast Beef With Potato Salad</td>\n",
       "      <td>NaN</td>\n",
       "      <td>NaN</td>\n",
       "      <td>2180</td>\n",
       "      <td>NaN</td>\n",
       "      <td>food_8031</td>\n",
       "      <td>2 lb. red potatoes \\n  1 small bunch of chives...</td>\n",
       "      <td>Place potatoes and water to cover in saucepan;...</td>\n",
       "      <td>NaN</td>\n",
       "      <td>NaN</td>\n",
       "      <td>NaN</td>\n",
       "      <td>NaN</td>\n",
       "      <td>sweet</td>\n",
       "      <td>NaN</td>\n",
       "      <td>Meat-based</td>\n",
       "      <td>30.0</td>\n",
       "      <td>NaN</td>\n",
       "      <td>NaN</td>\n",
       "    </tr>\n",
       "  </tbody>\n",
       "</table>\n",
       "<p>7227 rows × 18 columns</p>\n",
       "</div>"
      ],
      "text/plain": [
       "                                          title  \\\n",
       "0                                   Fruit Salad   \n",
       "1                                Vegan Omelette   \n",
       "2                            Vegan French Toast   \n",
       "3                         Granola with Soy Milk   \n",
       "4                                 Vegan Waffles   \n",
       "...                                         ...   \n",
       "7222  Smoky Salmon with Miso-Dressed Vegetables   \n",
       "7223    Lobster of the Links Napa Cabbage Wraps   \n",
       "7224  Fresh Gingerbread with Port-Poached Pears   \n",
       "7225                              Jamocha Bread   \n",
       "7226               Roast Beef With Potato Salad   \n",
       "\n",
       "                                               raw_text cultural_restriction  \\\n",
       "0     1. Fruit Salad: 70 calories per portion, 4 por...                vegan   \n",
       "1     5. Vegan Omelette: 300 calories per portion, 1...                vegan   \n",
       "2     7. Vegan French Toast: 400 calories per portio...                vegan   \n",
       "3     10. Granola with Soy Milk: 550 calories per po...                vegan   \n",
       "4     11. Vegan Waffles: 600 calories per portion, 3...                vegan   \n",
       "...                                                 ...                  ...   \n",
       "7222                                                NaN                  NaN   \n",
       "7223                                                NaN                  NaN   \n",
       "7224                                                NaN                  NaN   \n",
       "7225                                                NaN                  NaN   \n",
       "7226                                                NaN                  NaN   \n",
       "\n",
       "     calories                        allergies   recipeId  \\\n",
       "0        70.0             contains fruits only     food_0   \n",
       "1       300.0          contains chickpea flour     food_4   \n",
       "2       400.0                              NaN     food_6   \n",
       "3       550.0  contains nuts (varies by brand)     food_9   \n",
       "4       600.0                              NaN    food_10   \n",
       "...       ...                              ...        ...   \n",
       "7222     2106                              NaN  food_8027   \n",
       "7223    5093.                        Shellfish  food_8028   \n",
       "7224   7653.6                              NaN  food_8029   \n",
       "7225     2128                              NaN  food_8030   \n",
       "7226     2180                              NaN  food_8031   \n",
       "\n",
       "                                            ingredients  \\\n",
       "0     ingredients:\\n- 1 apple\\n- 1 banana\\n- 1 orang...   \n",
       "1     ingredients:\\n- 1 cup chickpea flour\\n- 1 cup ...   \n",
       "2     ingredients:\\n- 4 slices of vegan bread\\n- 1 c...   \n",
       "3     ingredients:\\n- 3 cups rolled oats\\n- 1 cup nu...   \n",
       "4     ingredients:\\n- 2 cups all-purpose flour\\n- 2 ...   \n",
       "...                                                 ...   \n",
       "7222  1/4 cup white miso \\n  1/4 cup chicken stock \\...   \n",
       "7223  1 pound butter \\n  4 (4-ounce) lobster tails \\...   \n",
       "7224  1/4 cup lemon juice fresh \\n  8 large pears fi...   \n",
       "7225  1 cup strong coffee (quality blend and brewed ...   \n",
       "7226  2 lb. red potatoes \\n  1 small bunch of chives...   \n",
       "\n",
       "                                            preparation carbs   fat fiber  \\\n",
       "0     \\n1. wash and cut all the fruits into bite-siz...   223     2   0.0   \n",
       "1     \\n1. in a mixing bowl, whisk together the chic...   100  20.5   6.0   \n",
       "2     \\n1. in a shallow dish, whisk together the alm...   115  38.5  11.8   \n",
       "3     \\n1. preheat your oven to 325°f (165°c).\\n2. i...  13.1  26.0   1.5   \n",
       "4     \\n1. in a large bowl, whisk together the flour...   382  19.6   3.6   \n",
       "...                                                 ...   ...   ...   ...   \n",
       "7222  In a saucepan \\n  cook the miso \\n  chicken st...   NaN   432   NaN   \n",
       "7223  To begin the lobster filling: Melt the butter ...   NaN   292   NaN   \n",
       "7224  FOR PEARS: Add lemon juice to large bowl of co...   NaN    10   NaN   \n",
       "7225  Warm the coffee to about 100 degrees (30 secon...   NaN   124   NaN   \n",
       "7226  Place potatoes and water to cover in saucepan;...   NaN   NaN   NaN   \n",
       "\n",
       "     protein   taste cooking_style    meal_type  prep_time  \\\n",
       "0       15.0   sweet         mixed  fruit-based        NaN   \n",
       "1       15.0  Savory       sauteed       veggie       20.0   \n",
       "2       17.0   sweet       sauteed        vegan       25.0   \n",
       "3        5.5   sweet         baked  grain-based       25.0   \n",
       "4        2.6   sweet         baked        vegan       50.0   \n",
       "...      ...     ...           ...          ...        ...   \n",
       "7222     NaN   Salty         Baked   Meat-based       30.0   \n",
       "7223     NaN   sweet         Baked   Meat-based       60.0   \n",
       "7224     NaN   Salty         Baked      dessert       45.0   \n",
       "7225     NaN   Sweet         Baked     Beverage       30.0   \n",
       "7226     NaN   sweet           NaN   Meat-based       30.0   \n",
       "\n",
       "                         cuisine price  \n",
       "0            Fruit Salad - Mixed   2.0  \n",
       "1         Vegan Omelette - Vegan   2.0  \n",
       "2     Vegan French Toast: French   1.0  \n",
       "3                      Breakfast   2.0  \n",
       "4           Vegan Waffles: Vegan   2.0  \n",
       "...                          ...   ...  \n",
       "7222                      French     2  \n",
       "7223                       Salad     2  \n",
       "7224               Mediterranean     2  \n",
       "7225                       Soup.     2  \n",
       "7226                         NaN   NaN  \n",
       "\n",
       "[7227 rows x 18 columns]"
      ]
     },
     "execution_count": 1573,
     "metadata": {},
     "output_type": "execute_result"
    }
   ],
   "source": [
    "df_almost_total"
   ]
  },
  {
   "cell_type": "code",
   "execution_count": 1574,
   "metadata": {},
   "outputs": [],
   "source": [
    "df_almost_total.to_csv(\"df_recipes_7000_updated.csv\", sep='|')"
   ]
  },
  {
   "cell_type": "code",
   "execution_count": 5,
   "metadata": {},
   "outputs": [],
   "source": [
    "df_almost_total = pd.read_csv(\"df_recipes_7000_updated.csv\", sep='|', index_col=0)"
   ]
  },
  {
   "cell_type": "code",
   "execution_count": 6,
   "metadata": {},
   "outputs": [
    {
     "data": {
      "text/html": [
       "<div>\n",
       "<style scoped>\n",
       "    .dataframe tbody tr th:only-of-type {\n",
       "        vertical-align: middle;\n",
       "    }\n",
       "\n",
       "    .dataframe tbody tr th {\n",
       "        vertical-align: top;\n",
       "    }\n",
       "\n",
       "    .dataframe thead th {\n",
       "        text-align: right;\n",
       "    }\n",
       "</style>\n",
       "<table border=\"1\" class=\"dataframe\">\n",
       "  <thead>\n",
       "    <tr style=\"text-align: right;\">\n",
       "      <th></th>\n",
       "      <th>title</th>\n",
       "      <th>raw_text</th>\n",
       "      <th>cultural_restriction</th>\n",
       "      <th>calories</th>\n",
       "      <th>allergies</th>\n",
       "      <th>recipeId</th>\n",
       "      <th>ingredients</th>\n",
       "      <th>preparation</th>\n",
       "      <th>carbs</th>\n",
       "      <th>fat</th>\n",
       "      <th>fiber</th>\n",
       "      <th>protein</th>\n",
       "      <th>taste</th>\n",
       "      <th>cooking_style</th>\n",
       "      <th>meal_type</th>\n",
       "      <th>prep_time</th>\n",
       "      <th>cuisine</th>\n",
       "      <th>price</th>\n",
       "    </tr>\n",
       "  </thead>\n",
       "  <tbody>\n",
       "    <tr>\n",
       "      <th>0</th>\n",
       "      <td>Fruit Salad</td>\n",
       "      <td>1. Fruit Salad: 70 calories per portion, 4 por...</td>\n",
       "      <td>vegan</td>\n",
       "      <td>70.0</td>\n",
       "      <td>contains fruits only</td>\n",
       "      <td>food_0</td>\n",
       "      <td>ingredients:\\n- 1 apple\\n- 1 banana\\n- 1 orang...</td>\n",
       "      <td>\\n1. wash and cut all the fruits into bite-siz...</td>\n",
       "      <td>223.0</td>\n",
       "      <td>2.0</td>\n",
       "      <td>0.0</td>\n",
       "      <td>15.0</td>\n",
       "      <td>sweet</td>\n",
       "      <td>mixed</td>\n",
       "      <td>fruit-based</td>\n",
       "      <td>NaN</td>\n",
       "      <td>Fruit Salad - Mixed</td>\n",
       "      <td>2.0</td>\n",
       "    </tr>\n",
       "    <tr>\n",
       "      <th>1</th>\n",
       "      <td>Vegan Omelette</td>\n",
       "      <td>5. Vegan Omelette: 300 calories per portion, 1...</td>\n",
       "      <td>vegan</td>\n",
       "      <td>300.0</td>\n",
       "      <td>contains chickpea flour</td>\n",
       "      <td>food_4</td>\n",
       "      <td>ingredients:\\n- 1 cup chickpea flour\\n- 1 cup ...</td>\n",
       "      <td>\\n1. in a mixing bowl, whisk together the chic...</td>\n",
       "      <td>100.0</td>\n",
       "      <td>20.5</td>\n",
       "      <td>6.0</td>\n",
       "      <td>15.0</td>\n",
       "      <td>Savory</td>\n",
       "      <td>sauteed</td>\n",
       "      <td>veggie</td>\n",
       "      <td>20.0</td>\n",
       "      <td>Vegan Omelette - Vegan</td>\n",
       "      <td>2.0</td>\n",
       "    </tr>\n",
       "    <tr>\n",
       "      <th>2</th>\n",
       "      <td>Vegan French Toast</td>\n",
       "      <td>7. Vegan French Toast: 400 calories per portio...</td>\n",
       "      <td>vegan</td>\n",
       "      <td>400.0</td>\n",
       "      <td>NaN</td>\n",
       "      <td>food_6</td>\n",
       "      <td>ingredients:\\n- 4 slices of vegan bread\\n- 1 c...</td>\n",
       "      <td>\\n1. in a shallow dish, whisk together the alm...</td>\n",
       "      <td>115.0</td>\n",
       "      <td>38.5</td>\n",
       "      <td>11.8</td>\n",
       "      <td>17.0</td>\n",
       "      <td>sweet</td>\n",
       "      <td>sauteed</td>\n",
       "      <td>vegan</td>\n",
       "      <td>25.0</td>\n",
       "      <td>Vegan French Toast: French</td>\n",
       "      <td>1.0</td>\n",
       "    </tr>\n",
       "    <tr>\n",
       "      <th>3</th>\n",
       "      <td>Granola with Soy Milk</td>\n",
       "      <td>10. Granola with Soy Milk: 550 calories per po...</td>\n",
       "      <td>vegan</td>\n",
       "      <td>550.0</td>\n",
       "      <td>contains nuts (varies by brand)</td>\n",
       "      <td>food_9</td>\n",
       "      <td>ingredients:\\n- 3 cups rolled oats\\n- 1 cup nu...</td>\n",
       "      <td>\\n1. preheat your oven to 325°f (165°c).\\n2. i...</td>\n",
       "      <td>13.1</td>\n",
       "      <td>26.0</td>\n",
       "      <td>1.5</td>\n",
       "      <td>5.5</td>\n",
       "      <td>sweet</td>\n",
       "      <td>baked</td>\n",
       "      <td>grain-based</td>\n",
       "      <td>25.0</td>\n",
       "      <td>Breakfast</td>\n",
       "      <td>2.0</td>\n",
       "    </tr>\n",
       "    <tr>\n",
       "      <th>4</th>\n",
       "      <td>Vegan Waffles</td>\n",
       "      <td>11. Vegan Waffles: 600 calories per portion, 3...</td>\n",
       "      <td>vegan</td>\n",
       "      <td>600.0</td>\n",
       "      <td>NaN</td>\n",
       "      <td>food_10</td>\n",
       "      <td>ingredients:\\n- 2 cups all-purpose flour\\n- 2 ...</td>\n",
       "      <td>\\n1. in a large bowl, whisk together the flour...</td>\n",
       "      <td>382.0</td>\n",
       "      <td>19.6</td>\n",
       "      <td>3.6</td>\n",
       "      <td>2.6</td>\n",
       "      <td>sweet</td>\n",
       "      <td>baked</td>\n",
       "      <td>vegan</td>\n",
       "      <td>50.0</td>\n",
       "      <td>Vegan Waffles: Vegan</td>\n",
       "      <td>2.0</td>\n",
       "    </tr>\n",
       "    <tr>\n",
       "      <th>...</th>\n",
       "      <td>...</td>\n",
       "      <td>...</td>\n",
       "      <td>...</td>\n",
       "      <td>...</td>\n",
       "      <td>...</td>\n",
       "      <td>...</td>\n",
       "      <td>...</td>\n",
       "      <td>...</td>\n",
       "      <td>...</td>\n",
       "      <td>...</td>\n",
       "      <td>...</td>\n",
       "      <td>...</td>\n",
       "      <td>...</td>\n",
       "      <td>...</td>\n",
       "      <td>...</td>\n",
       "      <td>...</td>\n",
       "      <td>...</td>\n",
       "      <td>...</td>\n",
       "    </tr>\n",
       "    <tr>\n",
       "      <th>7222</th>\n",
       "      <td>Smoky Salmon with Miso-Dressed Vegetables</td>\n",
       "      <td>NaN</td>\n",
       "      <td>NaN</td>\n",
       "      <td>2106.0</td>\n",
       "      <td>NaN</td>\n",
       "      <td>food_8027</td>\n",
       "      <td>1/4 cup white miso \\n  1/4 cup chicken stock \\...</td>\n",
       "      <td>In a saucepan \\n  cook the miso \\n  chicken st...</td>\n",
       "      <td>NaN</td>\n",
       "      <td>432.0</td>\n",
       "      <td>NaN</td>\n",
       "      <td>NaN</td>\n",
       "      <td>Salty</td>\n",
       "      <td>Baked</td>\n",
       "      <td>Meat-based</td>\n",
       "      <td>30.0</td>\n",
       "      <td>French</td>\n",
       "      <td>2</td>\n",
       "    </tr>\n",
       "    <tr>\n",
       "      <th>7223</th>\n",
       "      <td>Lobster of the Links Napa Cabbage Wraps</td>\n",
       "      <td>NaN</td>\n",
       "      <td>NaN</td>\n",
       "      <td>5093.0</td>\n",
       "      <td>Shellfish</td>\n",
       "      <td>food_8028</td>\n",
       "      <td>1 pound butter \\n  4 (4-ounce) lobster tails \\...</td>\n",
       "      <td>To begin the lobster filling: Melt the butter ...</td>\n",
       "      <td>NaN</td>\n",
       "      <td>292.0</td>\n",
       "      <td>NaN</td>\n",
       "      <td>NaN</td>\n",
       "      <td>sweet</td>\n",
       "      <td>Baked</td>\n",
       "      <td>Meat-based</td>\n",
       "      <td>60.0</td>\n",
       "      <td>Salad</td>\n",
       "      <td>2</td>\n",
       "    </tr>\n",
       "    <tr>\n",
       "      <th>7224</th>\n",
       "      <td>Fresh Gingerbread with Port-Poached Pears</td>\n",
       "      <td>NaN</td>\n",
       "      <td>NaN</td>\n",
       "      <td>7653.6</td>\n",
       "      <td>NaN</td>\n",
       "      <td>food_8029</td>\n",
       "      <td>1/4 cup lemon juice fresh \\n  8 large pears fi...</td>\n",
       "      <td>FOR PEARS: Add lemon juice to large bowl of co...</td>\n",
       "      <td>NaN</td>\n",
       "      <td>10.0</td>\n",
       "      <td>NaN</td>\n",
       "      <td>NaN</td>\n",
       "      <td>Salty</td>\n",
       "      <td>Baked</td>\n",
       "      <td>dessert</td>\n",
       "      <td>45.0</td>\n",
       "      <td>Mediterranean</td>\n",
       "      <td>2</td>\n",
       "    </tr>\n",
       "    <tr>\n",
       "      <th>7225</th>\n",
       "      <td>Jamocha Bread</td>\n",
       "      <td>NaN</td>\n",
       "      <td>NaN</td>\n",
       "      <td>2128.0</td>\n",
       "      <td>NaN</td>\n",
       "      <td>food_8030</td>\n",
       "      <td>1 cup strong coffee (quality blend and brewed ...</td>\n",
       "      <td>Warm the coffee to about 100 degrees (30 secon...</td>\n",
       "      <td>NaN</td>\n",
       "      <td>124.0</td>\n",
       "      <td>NaN</td>\n",
       "      <td>NaN</td>\n",
       "      <td>Sweet</td>\n",
       "      <td>Baked</td>\n",
       "      <td>Beverage</td>\n",
       "      <td>30.0</td>\n",
       "      <td>Soup.</td>\n",
       "      <td>2</td>\n",
       "    </tr>\n",
       "    <tr>\n",
       "      <th>7226</th>\n",
       "      <td>Roast Beef With Potato Salad</td>\n",
       "      <td>NaN</td>\n",
       "      <td>NaN</td>\n",
       "      <td>2180.0</td>\n",
       "      <td>NaN</td>\n",
       "      <td>food_8031</td>\n",
       "      <td>2 lb. red potatoes \\n  1 small bunch of chives...</td>\n",
       "      <td>Place potatoes and water to cover in saucepan;...</td>\n",
       "      <td>NaN</td>\n",
       "      <td>NaN</td>\n",
       "      <td>NaN</td>\n",
       "      <td>NaN</td>\n",
       "      <td>sweet</td>\n",
       "      <td>NaN</td>\n",
       "      <td>Meat-based</td>\n",
       "      <td>30.0</td>\n",
       "      <td>NaN</td>\n",
       "      <td>NaN</td>\n",
       "    </tr>\n",
       "  </tbody>\n",
       "</table>\n",
       "<p>7227 rows × 18 columns</p>\n",
       "</div>"
      ],
      "text/plain": [
       "                                          title  \\\n",
       "0                                   Fruit Salad   \n",
       "1                                Vegan Omelette   \n",
       "2                            Vegan French Toast   \n",
       "3                         Granola with Soy Milk   \n",
       "4                                 Vegan Waffles   \n",
       "...                                         ...   \n",
       "7222  Smoky Salmon with Miso-Dressed Vegetables   \n",
       "7223    Lobster of the Links Napa Cabbage Wraps   \n",
       "7224  Fresh Gingerbread with Port-Poached Pears   \n",
       "7225                              Jamocha Bread   \n",
       "7226               Roast Beef With Potato Salad   \n",
       "\n",
       "                                               raw_text cultural_restriction  \\\n",
       "0     1. Fruit Salad: 70 calories per portion, 4 por...                vegan   \n",
       "1     5. Vegan Omelette: 300 calories per portion, 1...                vegan   \n",
       "2     7. Vegan French Toast: 400 calories per portio...                vegan   \n",
       "3     10. Granola with Soy Milk: 550 calories per po...                vegan   \n",
       "4     11. Vegan Waffles: 600 calories per portion, 3...                vegan   \n",
       "...                                                 ...                  ...   \n",
       "7222                                                NaN                  NaN   \n",
       "7223                                                NaN                  NaN   \n",
       "7224                                                NaN                  NaN   \n",
       "7225                                                NaN                  NaN   \n",
       "7226                                                NaN                  NaN   \n",
       "\n",
       "      calories                        allergies   recipeId  \\\n",
       "0         70.0             contains fruits only     food_0   \n",
       "1        300.0          contains chickpea flour     food_4   \n",
       "2        400.0                              NaN     food_6   \n",
       "3        550.0  contains nuts (varies by brand)     food_9   \n",
       "4        600.0                              NaN    food_10   \n",
       "...        ...                              ...        ...   \n",
       "7222    2106.0                              NaN  food_8027   \n",
       "7223    5093.0                        Shellfish  food_8028   \n",
       "7224    7653.6                              NaN  food_8029   \n",
       "7225    2128.0                              NaN  food_8030   \n",
       "7226    2180.0                              NaN  food_8031   \n",
       "\n",
       "                                            ingredients  \\\n",
       "0     ingredients:\\n- 1 apple\\n- 1 banana\\n- 1 orang...   \n",
       "1     ingredients:\\n- 1 cup chickpea flour\\n- 1 cup ...   \n",
       "2     ingredients:\\n- 4 slices of vegan bread\\n- 1 c...   \n",
       "3     ingredients:\\n- 3 cups rolled oats\\n- 1 cup nu...   \n",
       "4     ingredients:\\n- 2 cups all-purpose flour\\n- 2 ...   \n",
       "...                                                 ...   \n",
       "7222  1/4 cup white miso \\n  1/4 cup chicken stock \\...   \n",
       "7223  1 pound butter \\n  4 (4-ounce) lobster tails \\...   \n",
       "7224  1/4 cup lemon juice fresh \\n  8 large pears fi...   \n",
       "7225  1 cup strong coffee (quality blend and brewed ...   \n",
       "7226  2 lb. red potatoes \\n  1 small bunch of chives...   \n",
       "\n",
       "                                            preparation  carbs    fat  fiber  \\\n",
       "0     \\n1. wash and cut all the fruits into bite-siz...  223.0    2.0    0.0   \n",
       "1     \\n1. in a mixing bowl, whisk together the chic...  100.0   20.5    6.0   \n",
       "2     \\n1. in a shallow dish, whisk together the alm...  115.0   38.5   11.8   \n",
       "3     \\n1. preheat your oven to 325°f (165°c).\\n2. i...   13.1   26.0    1.5   \n",
       "4     \\n1. in a large bowl, whisk together the flour...  382.0   19.6    3.6   \n",
       "...                                                 ...    ...    ...    ...   \n",
       "7222  In a saucepan \\n  cook the miso \\n  chicken st...    NaN  432.0    NaN   \n",
       "7223  To begin the lobster filling: Melt the butter ...    NaN  292.0    NaN   \n",
       "7224  FOR PEARS: Add lemon juice to large bowl of co...    NaN   10.0    NaN   \n",
       "7225  Warm the coffee to about 100 degrees (30 secon...    NaN  124.0    NaN   \n",
       "7226  Place potatoes and water to cover in saucepan;...    NaN    NaN    NaN   \n",
       "\n",
       "      protein   taste cooking_style    meal_type  prep_time  \\\n",
       "0        15.0   sweet         mixed  fruit-based        NaN   \n",
       "1        15.0  Savory       sauteed       veggie       20.0   \n",
       "2        17.0   sweet       sauteed        vegan       25.0   \n",
       "3         5.5   sweet         baked  grain-based       25.0   \n",
       "4         2.6   sweet         baked        vegan       50.0   \n",
       "...       ...     ...           ...          ...        ...   \n",
       "7222      NaN   Salty         Baked   Meat-based       30.0   \n",
       "7223      NaN   sweet         Baked   Meat-based       60.0   \n",
       "7224      NaN   Salty         Baked      dessert       45.0   \n",
       "7225      NaN   Sweet         Baked     Beverage       30.0   \n",
       "7226      NaN   sweet           NaN   Meat-based       30.0   \n",
       "\n",
       "                         cuisine price  \n",
       "0            Fruit Salad - Mixed   2.0  \n",
       "1         Vegan Omelette - Vegan   2.0  \n",
       "2     Vegan French Toast: French   1.0  \n",
       "3                      Breakfast   2.0  \n",
       "4           Vegan Waffles: Vegan   2.0  \n",
       "...                          ...   ...  \n",
       "7222                      French     2  \n",
       "7223                       Salad     2  \n",
       "7224               Mediterranean     2  \n",
       "7225                       Soup.     2  \n",
       "7226                         NaN   NaN  \n",
       "\n",
       "[7227 rows x 18 columns]"
      ]
     },
     "execution_count": 6,
     "metadata": {},
     "output_type": "execute_result"
    }
   ],
   "source": [
    "df_almost_total"
   ]
  },
  {
   "cell_type": "code",
   "execution_count": 10,
   "metadata": {},
   "outputs": [],
   "source": [
    "cols = df_almost_total.columns"
   ]
  },
  {
   "cell_type": "code",
   "execution_count": 12,
   "metadata": {},
   "outputs": [
    {
     "name": "stdout",
     "output_type": "stream",
     "text": [
      "Col: title total nans: 0\n",
      "Col: raw_text total nans: 705\n",
      "Col: cultural_restriction total nans: 1032\n",
      "Col: calories total nans: 647\n",
      "Col: allergies total nans: 5068\n",
      "Col: recipeId total nans: 0\n",
      "Col: ingredients total nans: 0\n",
      "Col: preparation total nans: 15\n",
      "Col: carbs total nans: 80\n",
      "Col: fat total nans: 193\n",
      "Col: fiber total nans: 767\n",
      "Col: protein total nans: 210\n",
      "Col: taste total nans: 2\n",
      "Col: cooking_style total nans: 780\n",
      "Col: meal_type total nans: 759\n",
      "Col: prep_time total nans: 1723\n",
      "Col: cuisine total nans: 5\n",
      "Col: price total nans: 1\n"
     ]
    }
   ],
   "source": [
    "missing_values = {}\n",
    "for col in cols:\n",
    "    missing_values[col] = df_almost_total[col].isna()\n",
    "    print(f\"Col: {col} total nans: {sum(missing_values[col])}\")"
   ]
  },
  {
   "cell_type": "code",
   "execution_count": 15,
   "metadata": {},
   "outputs": [
    {
     "name": "stdout",
     "output_type": "stream",
     "text": [
      "For column: raw_text renew_df shape: (705, 18)\n",
      "For column: cultural_restriction renew_df shape: (1032, 18)\n",
      "For column: calories renew_df shape: (647, 18)\n",
      "For column: allergies renew_df shape: (5068, 18)\n",
      "For column: preparation renew_df shape: (15, 18)\n",
      "For column: carbs renew_df shape: (80, 18)\n",
      "For column: fat renew_df shape: (193, 18)\n",
      "For column: fiber renew_df shape: (767, 18)\n",
      "For column: protein renew_df shape: (210, 18)\n",
      "For column: taste renew_df shape: (2, 18)\n",
      "For column: cooking_style renew_df shape: (780, 18)\n",
      "For column: meal_type renew_df shape: (759, 18)\n",
      "For column: prep_time renew_df shape: (1723, 18)\n",
      "For column: cuisine renew_df shape: (5, 18)\n",
      "For column: price renew_df shape: (1, 18)\n"
     ]
    }
   ],
   "source": [
    "# fix empty cols \n",
    "for k, v in missing_values.items():\n",
    "    total_elements_to_fix = sum(v)\n",
    "    if total_elements_to_fix > 0:\n",
    "        df_selected = df_almost_total.loc[v, :]\n",
    "        print(f\"For column: {k} renew_df shape: {df_selected.shape}\")\n",
    "        df_selected.to_csv(f\"df_fix_final_col_{k}.csv\", sep='|')\n"
   ]
  },
  {
   "cell_type": "code",
   "execution_count": 30,
   "metadata": {},
   "outputs": [],
   "source": [
    "recipes_to_fix = df_almost_total.loc[missing_values['price'], :]"
   ]
  },
  {
   "cell_type": "code",
   "execution_count": 31,
   "metadata": {},
   "outputs": [
    {
     "data": {
      "text/html": [
       "<div>\n",
       "<style scoped>\n",
       "    .dataframe tbody tr th:only-of-type {\n",
       "        vertical-align: middle;\n",
       "    }\n",
       "\n",
       "    .dataframe tbody tr th {\n",
       "        vertical-align: top;\n",
       "    }\n",
       "\n",
       "    .dataframe thead th {\n",
       "        text-align: right;\n",
       "    }\n",
       "</style>\n",
       "<table border=\"1\" class=\"dataframe\">\n",
       "  <thead>\n",
       "    <tr style=\"text-align: right;\">\n",
       "      <th></th>\n",
       "      <th>title</th>\n",
       "      <th>raw_text</th>\n",
       "      <th>cultural_restriction</th>\n",
       "      <th>calories</th>\n",
       "      <th>allergies</th>\n",
       "      <th>recipeId</th>\n",
       "      <th>ingredients</th>\n",
       "      <th>preparation</th>\n",
       "      <th>carbs</th>\n",
       "      <th>fat</th>\n",
       "      <th>fiber</th>\n",
       "      <th>protein</th>\n",
       "      <th>taste</th>\n",
       "      <th>cooking_style</th>\n",
       "      <th>meal_type</th>\n",
       "      <th>prep_time</th>\n",
       "      <th>cuisine</th>\n",
       "      <th>price</th>\n",
       "    </tr>\n",
       "  </thead>\n",
       "  <tbody>\n",
       "    <tr>\n",
       "      <th>7226</th>\n",
       "      <td>Roast Beef With Potato Salad</td>\n",
       "      <td>NaN</td>\n",
       "      <td>NaN</td>\n",
       "      <td>2180.0</td>\n",
       "      <td>NaN</td>\n",
       "      <td>food_8031</td>\n",
       "      <td>2 lb. red potatoes \\n  1 small bunch of chives...</td>\n",
       "      <td>Place potatoes and water to cover in saucepan;...</td>\n",
       "      <td>NaN</td>\n",
       "      <td>NaN</td>\n",
       "      <td>NaN</td>\n",
       "      <td>NaN</td>\n",
       "      <td>sweet</td>\n",
       "      <td>NaN</td>\n",
       "      <td>Meat-based</td>\n",
       "      <td>30.0</td>\n",
       "      <td>NaN</td>\n",
       "      <td>NaN</td>\n",
       "    </tr>\n",
       "  </tbody>\n",
       "</table>\n",
       "</div>"
      ],
      "text/plain": [
       "                             title raw_text cultural_restriction  calories  \\\n",
       "7226  Roast Beef With Potato Salad      NaN                  NaN    2180.0   \n",
       "\n",
       "     allergies   recipeId                                        ingredients  \\\n",
       "7226       NaN  food_8031  2 lb. red potatoes \\n  1 small bunch of chives...   \n",
       "\n",
       "                                            preparation  carbs  fat  fiber  \\\n",
       "7226  Place potatoes and water to cover in saucepan;...    NaN  NaN    NaN   \n",
       "\n",
       "      protein  taste cooking_style   meal_type  prep_time cuisine price  \n",
       "7226      NaN  sweet           NaN  Meat-based       30.0     NaN   NaN  "
      ]
     },
     "execution_count": 31,
     "metadata": {},
     "output_type": "execute_result"
    }
   ],
   "source": [
    "recipes_to_fix"
   ]
  },
  {
   "cell_type": "code",
   "execution_count": 26,
   "metadata": {},
   "outputs": [
    {
     "data": {
      "text/plain": [
       "'i apologize, but i am an ai language model and cannot provide specific recipes that i have not been trained on. however, i can offer a general recipe for vegan raspberry almond scones. here it is:\\n\\ningredients:\\n- 1 ½ cups all-purpose flour (gluten-free flour can be substituted if desired)\\n- 2 tablespoons almond meal\\n- 2 teaspoons baking powder\\n- 1/4 teaspoon salt\\n- 1/4 cup cold vegan butter, cut into small pieces\\n- 3 tablespoons maple syrup or agave nectar\\n- 1/2 cup unsweetened almond milk\\n- 1 teaspoon vanilla extract\\n- 1/2 cup fresh or frozen raspberries\\n- 2 tablespoons sliced almonds\\n\\n'"
      ]
     },
     "execution_count": 26,
     "metadata": {},
     "output_type": "execute_result"
    }
   ],
   "source": [
    "recipes_to_fix['ingredients'].str.contains('')"
   ]
  },
  {
   "cell_type": "code",
   "execution_count": 29,
   "metadata": {},
   "outputs": [
    {
     "data": {
      "text/html": [
       "<div>\n",
       "<style scoped>\n",
       "    .dataframe tbody tr th:only-of-type {\n",
       "        vertical-align: middle;\n",
       "    }\n",
       "\n",
       "    .dataframe tbody tr th {\n",
       "        vertical-align: top;\n",
       "    }\n",
       "\n",
       "    .dataframe thead th {\n",
       "        text-align: right;\n",
       "    }\n",
       "</style>\n",
       "<table border=\"1\" class=\"dataframe\">\n",
       "  <thead>\n",
       "    <tr style=\"text-align: right;\">\n",
       "      <th></th>\n",
       "      <th>title</th>\n",
       "      <th>raw_text</th>\n",
       "      <th>cultural_restriction</th>\n",
       "      <th>calories</th>\n",
       "      <th>allergies</th>\n",
       "      <th>recipeId</th>\n",
       "      <th>ingredients</th>\n",
       "      <th>preparation</th>\n",
       "      <th>carbs</th>\n",
       "      <th>fat</th>\n",
       "      <th>fiber</th>\n",
       "      <th>protein</th>\n",
       "      <th>taste</th>\n",
       "      <th>cooking_style</th>\n",
       "      <th>meal_type</th>\n",
       "      <th>prep_time</th>\n",
       "      <th>cuisine</th>\n",
       "      <th>price</th>\n",
       "    </tr>\n",
       "  </thead>\n",
       "  <tbody>\n",
       "    <tr>\n",
       "      <th>167</th>\n",
       "      <td>Vegan Raspberry Almond Scones</td>\n",
       "      <td>50. Vegan Raspberry Almond Scones - 250 calori...</td>\n",
       "      <td>vegan</td>\n",
       "      <td>250.0</td>\n",
       "      <td>NaN</td>\n",
       "      <td>food_220</td>\n",
       "      <td>i apologize, but i am an ai language model and...</td>\n",
       "      <td>\\n1. preheat your oven to 425°f (220°c). line ...</td>\n",
       "      <td>NaN</td>\n",
       "      <td>65.0</td>\n",
       "      <td>2.4</td>\n",
       "      <td>18.0</td>\n",
       "      <td>sweet</td>\n",
       "      <td>baked</td>\n",
       "      <td>vegan</td>\n",
       "      <td>NaN</td>\n",
       "      <td>Vegan</td>\n",
       "      <td>2.0</td>\n",
       "    </tr>\n",
       "    <tr>\n",
       "      <th>378</th>\n",
       "      <td>Vegan Pumpkin Spice Pancakes</td>\n",
       "      <td>76. Vegan Pumpkin Spice Pancakes\\nCalories per...</td>\n",
       "      <td>vegan</td>\n",
       "      <td>NaN</td>\n",
       "      <td>NaN</td>\n",
       "      <td>food_504</td>\n",
       "      <td>ingredients:\\n- 1 cup pumpkin puree\\n- 1 3/4 c...</td>\n",
       "      <td>\\n1. in a large bowl, whisk together the pumpk...</td>\n",
       "      <td>NaN</td>\n",
       "      <td>20.0</td>\n",
       "      <td>15.0</td>\n",
       "      <td>25.0</td>\n",
       "      <td>sweet</td>\n",
       "      <td>sauteed</td>\n",
       "      <td>vegan</td>\n",
       "      <td>35.0</td>\n",
       "      <td>Vegan</td>\n",
       "      <td>2.0</td>\n",
       "    </tr>\n",
       "  </tbody>\n",
       "</table>\n",
       "</div>"
      ],
      "text/plain": [
       "                             title  \\\n",
       "167  Vegan Raspberry Almond Scones   \n",
       "378   Vegan Pumpkin Spice Pancakes   \n",
       "\n",
       "                                              raw_text cultural_restriction  \\\n",
       "167  50. Vegan Raspberry Almond Scones - 250 calori...                vegan   \n",
       "378  76. Vegan Pumpkin Spice Pancakes\\nCalories per...                vegan   \n",
       "\n",
       "     calories allergies  recipeId  \\\n",
       "167     250.0       NaN  food_220   \n",
       "378       NaN       NaN  food_504   \n",
       "\n",
       "                                           ingredients  \\\n",
       "167  i apologize, but i am an ai language model and...   \n",
       "378  ingredients:\\n- 1 cup pumpkin puree\\n- 1 3/4 c...   \n",
       "\n",
       "                                           preparation  carbs   fat  fiber  \\\n",
       "167  \\n1. preheat your oven to 425°f (220°c). line ...    NaN  65.0    2.4   \n",
       "378  \\n1. in a large bowl, whisk together the pumpk...    NaN  20.0   15.0   \n",
       "\n",
       "     protein  taste cooking_style meal_type  prep_time cuisine price  \n",
       "167     18.0  sweet         baked     vegan        NaN   Vegan   2.0  \n",
       "378     25.0  sweet       sauteed     vegan       35.0   Vegan   2.0  "
      ]
     },
     "execution_count": 29,
     "metadata": {},
     "output_type": "execute_result"
    }
   ],
   "source": [
    "recipes_to_fix.head(2)"
   ]
  },
  {
   "cell_type": "code",
   "execution_count": 38,
   "metadata": {},
   "outputs": [
    {
     "name": "stdout",
     "output_type": "stream",
     "text": [
      "2 lb. red potatoes \n",
      "  1 small bunch of chives \n",
      "  1/2 c. sour cream \n",
      "  2 tbsp. white horseradish \n",
      "  1 tsp. salt \n",
      "  .13 tsp. Pepper \n",
      "  1 minced shallot \n",
      "  1 1/2 lb. deli roast beef\n"
     ]
    }
   ],
   "source": [
    "print(recipes_to_fix['ingredients'][7226])"
   ]
  },
  {
   "cell_type": "code",
   "execution_count": 39,
   "metadata": {},
   "outputs": [],
   "source": [
    "df_almost_total.loc[7226, 'price'] = 2"
   ]
  },
  {
   "cell_type": "code",
   "execution_count": 41,
   "metadata": {},
   "outputs": [
    {
     "data": {
      "text/plain": [
       "title                                        Roast Beef With Potato Salad\n",
       "raw_text                                                              NaN\n",
       "cultural_restriction                                                  NaN\n",
       "calories                                                           2180.0\n",
       "allergies                                                             NaN\n",
       "recipeId                                                        food_8031\n",
       "ingredients             2 lb. red potatoes \\n  1 small bunch of chives...\n",
       "preparation             Place potatoes and water to cover in saucepan;...\n",
       "carbs                                                                 NaN\n",
       "fat                                                                   NaN\n",
       "fiber                                                                 NaN\n",
       "protein                                                               NaN\n",
       "taste                                                               sweet\n",
       "cooking_style                                                         NaN\n",
       "meal_type                                                      Meat-based\n",
       "prep_time                                                            30.0\n",
       "cuisine                                                               NaN\n",
       "price                                                                   2\n",
       "Name: 7226, dtype: object"
      ]
     },
     "execution_count": 41,
     "metadata": {},
     "output_type": "execute_result"
    }
   ],
   "source": [
    "# checking for empty values \n",
    "df_almost_total.loc[7226, :]"
   ]
  },
  {
   "cell_type": "code",
   "execution_count": null,
   "metadata": {},
   "outputs": [],
   "source": []
  },
  {
   "cell_type": "code",
   "execution_count": 42,
   "metadata": {},
   "outputs": [],
   "source": [
    "# fixed some columns \n",
    "mask_raw = df_almost_total['raw_text'].isna()"
   ]
  },
  {
   "cell_type": "code",
   "execution_count": 67,
   "metadata": {},
   "outputs": [],
   "source": [
    "def fill_raw(row:pd.Series):\n",
    "    text = \"\"\n",
    "    try:\n",
    "        text = row['title']+row['ingredients']+row['preparation']\n",
    "    except Exception as e:\n",
    "        print(f\"Error: {e}\")\n",
    "    return text"
   ]
  },
  {
   "cell_type": "code",
   "execution_count": 68,
   "metadata": {},
   "outputs": [
    {
     "data": {
      "text/plain": [
       "'Fruit Saladingredients:\\n- 1 apple\\n- 1 banana\\n- 1 orange\\n- 1 cup grapes\\n- 1 cup strawberries\\n- 1 cup pineapple chunks\\n- 1/2 cup blueberries\\n- 1/2 cup raspberries\\n- 1/4 cup honey\\n- 1 tablespoon lemon juice\\n\\n\\n1. wash and cut all the fruits into bite-sized pieces.\\n2. place the apple, banana, orange, grapes, strawberries, pineapple chunks, blueberries, and raspberries in a large mixing bowl.\\n3. in a separate small bowl, mix honey and lemon juice together until well combined.\\n4. pour the honey and lemon juice mixture over the fruits.\\n5. gently toss the fruits with the honey and lemon juice mixture until all fruits are evenly coated.\\n6. serve the fruit salad immediately or refrigerate for later use.\\n7. enjoy your delicious fruit salad!'"
      ]
     },
     "execution_count": 68,
     "metadata": {},
     "output_type": "execute_result"
    }
   ],
   "source": [
    "fill_raw(df_almost_total.loc[0, :])  "
   ]
  },
  {
   "cell_type": "code",
   "execution_count": 74,
   "metadata": {},
   "outputs": [],
   "source": [
    "df_almost_total['raw_text'] = df_almost_total['raw_text'].astype(\"string\")\n"
   ]
  },
  {
   "cell_type": "code",
   "execution_count": 78,
   "metadata": {},
   "outputs": [
    {
     "data": {
      "text/plain": [
       "647"
      ]
     },
     "execution_count": 78,
     "metadata": {},
     "output_type": "execute_result"
    }
   ],
   "source": [
    "sum(df_almost_total['calories'].isna())"
   ]
  },
  {
   "cell_type": "code",
   "execution_count": 118,
   "metadata": {},
   "outputs": [],
   "source": [
    "path = \"/home/victor/Documents/Expectation_data_generation/df_allergies_fixed_raw_new.csv\"\n",
    "df_data = pd.read_csv(path, sep='|', index_col=0)"
   ]
  },
  {
   "cell_type": "code",
   "execution_count": 133,
   "metadata": {},
   "outputs": [],
   "source": [
    "dict_to_fill = dict(zip(df_data['title'].tolist(), df_data['raw_text'].tolist()))"
   ]
  },
  {
   "cell_type": "code",
   "execution_count": 135,
   "metadata": {},
   "outputs": [],
   "source": [
    "for k, v in dict_to_fill.items():\n",
    "    mask = df_almost_total['title'] == k\n",
    "    df_almost_total.loc[mask, 'allergies'] = v    "
   ]
  },
  {
   "cell_type": "code",
   "execution_count": 122,
   "metadata": {},
   "outputs": [],
   "source": [
    "dict_allergies = {\n",
    "    'milk': ['milk', 'lactose', 'dairy', 'cream', 'butter', 'yogurt', 'cheese'], \n",
    "    'eggs': ['egg', 'eggs'], \n",
    "    'fish': ['bass', 'flounder', 'cod', 'fish'], \n",
    "    'shellfish': ['crustacean', 'shellfish', 'crab', 'lobster', 'shrimp'],\n",
    "    'nuts': ['tree nuts', 'nuts', 'almonds', 'walnuts', 'pecans'],\n",
    "    'peanuts': ['peanuts'],\n",
    "    'wheat': ['wheat', 'gluten', 'durum', 'gluten', 'semolina', 'spelt'], \n",
    "    'soybeans': ['soybeans', 'soy'], \n",
    "    'sesame': ['sesame']\n",
    "}"
   ]
  },
  {
   "cell_type": "code",
   "execution_count": 139,
   "metadata": {},
   "outputs": [],
   "source": [
    "def extract_allergies(text: str, dict_allergens: Dict[str, List[str]]):\n",
    "    lower_text = text.lower()\n",
    "    allergens_words = []\n",
    "    for k, v in dict_allergens.items():\n",
    "        words = '|'.join(v)\n",
    "        regex = r'\\b(?:{})\\b'\n",
    "        test = re.search(regex.format(words), lower_text)\n",
    "        if test is not None:\n",
    "            allergens_words.append(k)\n",
    "    if len(allergens_words) > 0:\n",
    "        return \";\".join(allergens_words)\n",
    "    else:\n",
    "        return lower_text"
   ]
  },
  {
   "cell_type": "code",
   "execution_count": 140,
   "metadata": {},
   "outputs": [],
   "source": [
    "partial_allergens = partial(extract_allergies, \n",
    "                            dict_allergens = dict_allergies)"
   ]
  },
  {
   "cell_type": "code",
   "execution_count": 141,
   "metadata": {},
   "outputs": [
    {
     "data": {
      "text/plain": [
       "'nuts'"
      ]
     },
     "execution_count": 141,
     "metadata": {},
     "output_type": "execute_result"
    }
   ],
   "source": [
    "partial_allergens('contains Nuts (varies by brand)')"
   ]
  },
  {
   "cell_type": "code",
   "execution_count": 157,
   "metadata": {},
   "outputs": [
    {
     "data": {
      "text/plain": [
       "0"
      ]
     },
     "execution_count": 157,
     "metadata": {},
     "output_type": "execute_result"
    }
   ],
   "source": [
    "mask = df_almost_total['allergies'].isna()\n",
    "sum(mask)"
   ]
  },
  {
   "cell_type": "code",
   "execution_count": 146,
   "metadata": {},
   "outputs": [],
   "source": [
    "df_almost_total.loc[~mask, 'allergies'] = df_almost_total.loc[~mask, 'allergies'].apply(lambda x: partial_allergens(x))"
   ]
  },
  {
   "cell_type": "code",
   "execution_count": 162,
   "metadata": {},
   "outputs": [
    {
     "data": {
      "text/plain": [
       "706"
      ]
     },
     "execution_count": 162,
     "metadata": {},
     "output_type": "execute_result"
    }
   ],
   "source": [
    "sum(df_almost_total['title'].str.contains(','))"
   ]
  },
  {
   "cell_type": "code",
   "execution_count": 171,
   "metadata": {},
   "outputs": [],
   "source": [
    "def long_word_detector(text:str, sup_limit:int=15):\n",
    "    n_words = len(text.split(\" \"))\n",
    "    if n_words > sup_limit:\n",
    "        return True\n",
    "    else:\n",
    "        return False"
   ]
  },
  {
   "cell_type": "code",
   "execution_count": null,
   "metadata": {},
   "outputs": [],
   "source": [
    "def fix_titles(text: str):\n",
    "    # fix titles at the end once all the data have been updated. \n",
    "    re.sub(r'\\(\\d+[\\w|\\W]+\\)', '', )"
   ]
  },
  {
   "cell_type": "code",
   "execution_count": 192,
   "metadata": {},
   "outputs": [],
   "source": [
    "def detect_incoherences(text: str):\n",
    "    lower_text = text.lower()\n",
    "    if 'apologize' in lower_text or 'sorry' in lower_text:\n",
    "        return True\n",
    "    else:\n",
    "        return False"
   ]
  },
  {
   "cell_type": "code",
   "execution_count": 193,
   "metadata": {},
   "outputs": [],
   "source": [
    "mask = df_almost_total['ingredients'].apply(lambda x: detect_incoherences(x))"
   ]
  },
  {
   "cell_type": "code",
   "execution_count": 194,
   "metadata": {},
   "outputs": [
    {
     "data": {
      "text/plain": [
       "10"
      ]
     },
     "execution_count": 194,
     "metadata": {},
     "output_type": "execute_result"
    }
   ],
   "source": [
    "sum(mask)"
   ]
  },
  {
   "cell_type": "code",
   "execution_count": 200,
   "metadata": {},
   "outputs": [
    {
     "data": {
      "text/plain": [
       "15"
      ]
     },
     "execution_count": 200,
     "metadata": {},
     "output_type": "execute_result"
    }
   ],
   "source": [
    "mask = df_almost_total['preparation'].isna()\n",
    "sum(mask)"
   ]
  },
  {
   "cell_type": "code",
   "execution_count": 202,
   "metadata": {},
   "outputs": [],
   "source": [
    "df_to_fix = df_almost_total.loc[mask, :]"
   ]
  },
  {
   "cell_type": "code",
   "execution_count": 203,
   "metadata": {},
   "outputs": [],
   "source": [
    "df_to_fix.to_csv(\"missing_instructions.csv\", sep='|')"
   ]
  },
  {
   "cell_type": "code",
   "execution_count": 206,
   "metadata": {},
   "outputs": [],
   "source": [
    "# load new instructions \n",
    "df_new_data = pd.read_excel(\"/home/victor/Documents/Expectation_data_generation/src/meals_collection/missing_instructions.xlsx\",\n",
    "                            index_col=0)"
   ]
  },
  {
   "cell_type": "code",
   "execution_count": 207,
   "metadata": {},
   "outputs": [
    {
     "data": {
      "text/html": [
       "<div>\n",
       "<style scoped>\n",
       "    .dataframe tbody tr th:only-of-type {\n",
       "        vertical-align: middle;\n",
       "    }\n",
       "\n",
       "    .dataframe tbody tr th {\n",
       "        vertical-align: top;\n",
       "    }\n",
       "\n",
       "    .dataframe thead th {\n",
       "        text-align: right;\n",
       "    }\n",
       "</style>\n",
       "<table border=\"1\" class=\"dataframe\">\n",
       "  <thead>\n",
       "    <tr style=\"text-align: right;\">\n",
       "      <th></th>\n",
       "      <th>title</th>\n",
       "      <th>raw_text</th>\n",
       "      <th>cultural_restriction</th>\n",
       "      <th>calories</th>\n",
       "      <th>allergies</th>\n",
       "      <th>recipeId</th>\n",
       "      <th>ingredients</th>\n",
       "      <th>preparation</th>\n",
       "      <th>carbs</th>\n",
       "      <th>fat</th>\n",
       "      <th>fiber</th>\n",
       "      <th>protein</th>\n",
       "      <th>taste</th>\n",
       "      <th>cooking_style</th>\n",
       "      <th>meal_type</th>\n",
       "      <th>prep_time</th>\n",
       "      <th>cuisine</th>\n",
       "      <th>price</th>\n",
       "    </tr>\n",
       "  </thead>\n",
       "  <tbody>\n",
       "    <tr>\n",
       "      <th>6198</th>\n",
       "      <td>**Beef and Broccoli - Lunch/Dinner**</td>\n",
       "      <td>8. **Beef and Broccoli - Lunch/Dinner**\\n   - ...</td>\n",
       "      <td>NaN</td>\n",
       "      <td>160.0</td>\n",
       "      <td>soybeans</td>\n",
       "      <td>food_7003</td>\n",
       "      <td>Ingredients:\\n\\n1 pound (450g) flank steak, th...</td>\n",
       "      <td>Instructions:\\n\\n1. In a small bowl, whisk tog...</td>\n",
       "      <td>12.0</td>\n",
       "      <td>6.0</td>\n",
       "      <td>2.0</td>\n",
       "      <td>17.0</td>\n",
       "      <td>salty</td>\n",
       "      <td>sauteed</td>\n",
       "      <td>lunch;dinner</td>\n",
       "      <td>NaN</td>\n",
       "      <td>Chinese</td>\n",
       "      <td>2.0</td>\n",
       "    </tr>\n",
       "    <tr>\n",
       "      <th>6201</th>\n",
       "      <td>**Char Siu (BBQ Pork) - Lunch/Dinner**</td>\n",
       "      <td>10. **Char Siu (BBQ Pork) - Lunch/Dinner**\\n  ...</td>\n",
       "      <td>NaN</td>\n",
       "      <td>230.0</td>\n",
       "      <td>wheat;soybeans</td>\n",
       "      <td>food_7006</td>\n",
       "      <td>Ingredients:\\n\\n1 pound (450g) pork shoulder o...</td>\n",
       "      <td>Instructions:\\n\\n1. In a bowl, whisk together ...</td>\n",
       "      <td>25.0</td>\n",
       "      <td>8.0</td>\n",
       "      <td>0.0</td>\n",
       "      <td>27.0</td>\n",
       "      <td>salty</td>\n",
       "      <td>grilled.</td>\n",
       "      <td>lunch;dinner</td>\n",
       "      <td>NaN</td>\n",
       "      <td>Chinese</td>\n",
       "      <td>2.0</td>\n",
       "    </tr>\n",
       "    <tr>\n",
       "      <th>6204</th>\n",
       "      <td>**Congee (Rice Porridge) - Breakfast**</td>\n",
       "      <td>1. **Congee (Rice Porridge) - Breakfast**\\n   ...</td>\n",
       "      <td>NaN</td>\n",
       "      <td>100.0</td>\n",
       "      <td>none (unless meat or additional ingredients co...</td>\n",
       "      <td>food_7009</td>\n",
       "      <td>Ingredients:\\n\\n1 cup rice (jasmine or long-gr...</td>\n",
       "      <td>Instructions:\\n\\n1. Rinse the rice thoroughly ...</td>\n",
       "      <td>20.0</td>\n",
       "      <td>1.0</td>\n",
       "      <td>0.2</td>\n",
       "      <td>3.0</td>\n",
       "      <td>salty</td>\n",
       "      <td>slow-cooked</td>\n",
       "      <td>breakfast</td>\n",
       "      <td>NaN</td>\n",
       "      <td>Chinese</td>\n",
       "      <td>2.0</td>\n",
       "    </tr>\n",
       "    <tr>\n",
       "      <th>6206</th>\n",
       "      <td>**Dan Dan Noodles - Lunch/Dinner**</td>\n",
       "      <td>11. **Dan Dan Noodles - Lunch/Dinner**\\n    - ...</td>\n",
       "      <td>NaN</td>\n",
       "      <td>180.0</td>\n",
       "      <td>wheat;soybeans</td>\n",
       "      <td>food_7011</td>\n",
       "      <td>Ingredients:\\n\\nFor the Sauce:\\n\\n2 tablespoon...</td>\n",
       "      <td>Instructions:\\n\\n1. Cook the Chinese egg noodl...</td>\n",
       "      <td>24.0</td>\n",
       "      <td>6.0</td>\n",
       "      <td>2024-05-01 00:00:00</td>\n",
       "      <td>9.0</td>\n",
       "      <td>salty</td>\n",
       "      <td>sauteed</td>\n",
       "      <td>lunch;dinner</td>\n",
       "      <td>NaN</td>\n",
       "      <td>Chinese</td>\n",
       "      <td>2.0</td>\n",
       "    </tr>\n",
       "    <tr>\n",
       "      <th>6210</th>\n",
       "      <td>**Egg Fried Rice - Lunch/Dinner**</td>\n",
       "      <td>2. **Egg Fried Rice - Lunch/Dinner**\\n   - Ing...</td>\n",
       "      <td>NaN</td>\n",
       "      <td>200.0</td>\n",
       "      <td>eggs;soybeans</td>\n",
       "      <td>food_7015</td>\n",
       "      <td>Ingredients:\\n\\n3 cups cooked and cooled rice ...</td>\n",
       "      <td>Instructions:\\n\\n1. Heat the vegetable oil in ...</td>\n",
       "      <td>30.0</td>\n",
       "      <td>5.0</td>\n",
       "      <td>1.0</td>\n",
       "      <td>5.0</td>\n",
       "      <td>salty</td>\n",
       "      <td>fried</td>\n",
       "      <td>lunch;dinner</td>\n",
       "      <td>NaN</td>\n",
       "      <td>Chinese</td>\n",
       "      <td>2.0</td>\n",
       "    </tr>\n",
       "    <tr>\n",
       "      <th>6218</th>\n",
       "      <td>**Hot and Sour Soup - Lunch/Dinner**</td>\n",
       "      <td>5. **Hot and Sour Soup - Lunch/Dinner**\\n   - ...</td>\n",
       "      <td>NaN</td>\n",
       "      <td>50.0</td>\n",
       "      <td>eggs;soybeans</td>\n",
       "      <td>food_7023</td>\n",
       "      <td>Ingredients:\\n\\n6 cups chicken or vegetable br...</td>\n",
       "      <td>Instructions:\\n\\n1. In a large pot, bring the ...</td>\n",
       "      <td>5.0</td>\n",
       "      <td>2.0</td>\n",
       "      <td>1.0</td>\n",
       "      <td>3.0</td>\n",
       "      <td>sour</td>\n",
       "      <td>simmered</td>\n",
       "      <td>lunch;dinner</td>\n",
       "      <td>NaN</td>\n",
       "      <td>Chinese</td>\n",
       "      <td>2.0</td>\n",
       "    </tr>\n",
       "    <tr>\n",
       "      <th>6223</th>\n",
       "      <td>**Kung Pao Chicken - Lunch/Dinner**</td>\n",
       "      <td>7. **Kung Pao Chicken - Lunch/Dinner**\\n   - I...</td>\n",
       "      <td>NaN</td>\n",
       "      <td>240.0</td>\n",
       "      <td>peanuts;soybeans</td>\n",
       "      <td>food_7028</td>\n",
       "      <td>Ingredients:\\n\\nFor the Chicken Marinade:\\n\\n1...</td>\n",
       "      <td>Instructions:\\n\\n1. In a bowl, combine the chi...</td>\n",
       "      <td>18.0</td>\n",
       "      <td>12.0</td>\n",
       "      <td>2.0</td>\n",
       "      <td>19.0</td>\n",
       "      <td>salty</td>\n",
       "      <td>sauteed</td>\n",
       "      <td>lunch;dinner</td>\n",
       "      <td>NaN</td>\n",
       "      <td>Chinese</td>\n",
       "      <td>2.0</td>\n",
       "    </tr>\n",
       "    <tr>\n",
       "      <th>6227</th>\n",
       "      <td>**Mapo Tofu - Lunch/Dinner**</td>\n",
       "      <td>4. **Mapo Tofu - Lunch/Dinner**\\n   - Ingredie...</td>\n",
       "      <td>NaN</td>\n",
       "      <td>150.0</td>\n",
       "      <td>soybeans</td>\n",
       "      <td>food_7032</td>\n",
       "      <td>\\nCertainly! Here are the preparation instruct...</td>\n",
       "      <td>Instructions:\\n\\n1. Heat the vegetable oil in ...</td>\n",
       "      <td>9.0</td>\n",
       "      <td>7.0</td>\n",
       "      <td>1.0</td>\n",
       "      <td>11.0</td>\n",
       "      <td>salty</td>\n",
       "      <td>sauteed</td>\n",
       "      <td>lunch;dinner</td>\n",
       "      <td>NaN</td>\n",
       "      <td>Chinese</td>\n",
       "      <td>2.0</td>\n",
       "    </tr>\n",
       "    <tr>\n",
       "      <th>6229</th>\n",
       "      <td>**Peking Duck - Dinner**</td>\n",
       "      <td>9. **Peking Duck - Dinner**\\n   - Ingredients:...</td>\n",
       "      <td>NaN</td>\n",
       "      <td>260.0</td>\n",
       "      <td>wheat;soybeans</td>\n",
       "      <td>food_7034</td>\n",
       "      <td>Ingredients:\\n\\nWhole duck (4-5 pounds)\\n1/4 c...</td>\n",
       "      <td>Instructions:\\n\\n1. Clean and rinse the duck t...</td>\n",
       "      <td>11.0</td>\n",
       "      <td>19.0</td>\n",
       "      <td>0.5</td>\n",
       "      <td>15.0</td>\n",
       "      <td>umami</td>\n",
       "      <td>roasted</td>\n",
       "      <td>dinner</td>\n",
       "      <td>NaN</td>\n",
       "      <td>Chinese</td>\n",
       "      <td>2.0</td>\n",
       "    </tr>\n",
       "    <tr>\n",
       "      <th>6238</th>\n",
       "      <td>**Scallion Pancakes - Breakfast/Lunch**</td>\n",
       "      <td>12. **Scallion Pancakes - Breakfast/Lunch**\\n ...</td>\n",
       "      <td>NaN</td>\n",
       "      <td>360.0</td>\n",
       "      <td>wheat</td>\n",
       "      <td>food_7043</td>\n",
       "      <td>Ingredients:\\n\\n2 cups all-purpose flour\\n1 cu...</td>\n",
       "      <td>Instructions:\\n\\n1. In a mixing bowl, add the ...</td>\n",
       "      <td>45.0</td>\n",
       "      <td>20.0</td>\n",
       "      <td>2024-05-02 00:00:00</td>\n",
       "      <td>6.0</td>\n",
       "      <td>salty</td>\n",
       "      <td>fried</td>\n",
       "      <td>breakfast;lunch</td>\n",
       "      <td>NaN</td>\n",
       "      <td>Chinese</td>\n",
       "      <td>1.0</td>\n",
       "    </tr>\n",
       "    <tr>\n",
       "      <th>6240</th>\n",
       "      <td>**Sichuan Green Beans - Lunch/Dinner**</td>\n",
       "      <td>6. **Sichuan Green Beans - Lunch/Dinner**\\n   ...</td>\n",
       "      <td>NaN</td>\n",
       "      <td>90.0</td>\n",
       "      <td>soybeans</td>\n",
       "      <td>food_7045</td>\n",
       "      <td>IIngredients:\\n\\n1 pound (450g) fresh green be...</td>\n",
       "      <td>Instructions:\\n\\n1. Heat vegetable oil in a wo...</td>\n",
       "      <td>10.0</td>\n",
       "      <td>4.0</td>\n",
       "      <td>3.0</td>\n",
       "      <td>3.0</td>\n",
       "      <td>salty</td>\n",
       "      <td>stir-fried.</td>\n",
       "      <td>lunch;dinner</td>\n",
       "      <td>NaN</td>\n",
       "      <td>Chinese</td>\n",
       "      <td>2.0</td>\n",
       "    </tr>\n",
       "    <tr>\n",
       "      <th>6243</th>\n",
       "      <td>**Steamed Dumplings - Lunch/Dinner**</td>\n",
       "      <td>3. **Steamed Dumplings - Lunch/Dinner**\\n   - ...</td>\n",
       "      <td>NaN</td>\n",
       "      <td>200.0</td>\n",
       "      <td>shellfish;wheat;soybeans</td>\n",
       "      <td>food_7048</td>\n",
       "      <td>Ingredients:\\n\\nFor the Dumpling Filling:\\n\\n1...</td>\n",
       "      <td>Instructions:\\n\\n1. In a mixing bowl, combine ...</td>\n",
       "      <td>25.0</td>\n",
       "      <td>6.0</td>\n",
       "      <td>1.0</td>\n",
       "      <td>12.0</td>\n",
       "      <td>salty</td>\n",
       "      <td>steamed</td>\n",
       "      <td>lunch;dinner</td>\n",
       "      <td>60.0</td>\n",
       "      <td>Chinese</td>\n",
       "      <td>2.0</td>\n",
       "    </tr>\n",
       "    <tr>\n",
       "      <th>6252</th>\n",
       "      <td>**Turnip Cakes (Dim Sum) - Breakfast/Lunch**</td>\n",
       "      <td>15. **Turnip Cakes (Dim Sum) - Breakfast/Lunch...</td>\n",
       "      <td>NaN</td>\n",
       "      <td>100.0</td>\n",
       "      <td>shellfish;soybeans</td>\n",
       "      <td>food_7057</td>\n",
       "      <td>Ingredients:\\n\\n2 cups grated turnips (Chinese...</td>\n",
       "      <td>Instructions:\\n\\n1. In a large mixing bowl, co...</td>\n",
       "      <td>18.0</td>\n",
       "      <td>2.0</td>\n",
       "      <td>2024-05-01 00:00:00</td>\n",
       "      <td>4.0</td>\n",
       "      <td>umami</td>\n",
       "      <td>steamed</td>\n",
       "      <td>breakfast;lunch</td>\n",
       "      <td>NaN</td>\n",
       "      <td>Chinese</td>\n",
       "      <td>2.0</td>\n",
       "    </tr>\n",
       "    <tr>\n",
       "      <th>6253</th>\n",
       "      <td>**Wonton Soup - Lunch/Dinner**</td>\n",
       "      <td>13. **Wonton Soup - Lunch/Dinner**\\n    - Ingr...</td>\n",
       "      <td>NaN</td>\n",
       "      <td>120.0</td>\n",
       "      <td>shellfish;wheat;soybeans</td>\n",
       "      <td>food_7058</td>\n",
       "      <td>Ingredients:\\n\\nFor the Wonton Filling:\\n\\n1/2...</td>\n",
       "      <td>Instructions:\\n\\n1. In a mixing bowl, combine ...</td>\n",
       "      <td>15.0</td>\n",
       "      <td>4.0</td>\n",
       "      <td>1.0</td>\n",
       "      <td>12.0</td>\n",
       "      <td>salty</td>\n",
       "      <td>boiled</td>\n",
       "      <td>lunch;dinner</td>\n",
       "      <td>NaN</td>\n",
       "      <td>Chinese</td>\n",
       "      <td>2.0</td>\n",
       "    </tr>\n",
       "    <tr>\n",
       "      <th>6257</th>\n",
       "      <td>**Zhajiangmian (Noodles with Bean Paste) - Lun...</td>\n",
       "      <td>14. **Zhajiangmian (Noodles with Bean Paste) -...</td>\n",
       "      <td>NaN</td>\n",
       "      <td>190.0</td>\n",
       "      <td>wheat;soybeans</td>\n",
       "      <td>food_7062</td>\n",
       "      <td>Ingredients:\\n\\nFor the Noodles:\\n\\nFresh or d...</td>\n",
       "      <td>Instructions:\\n\\n1. Cook the Chinese wheat noo...</td>\n",
       "      <td>29.0</td>\n",
       "      <td>5.0</td>\n",
       "      <td>2.0</td>\n",
       "      <td>11.0</td>\n",
       "      <td>salty</td>\n",
       "      <td>sauteed</td>\n",
       "      <td>lunch;dinner</td>\n",
       "      <td>NaN</td>\n",
       "      <td>Chinese</td>\n",
       "      <td>2.0</td>\n",
       "    </tr>\n",
       "  </tbody>\n",
       "</table>\n",
       "</div>"
      ],
      "text/plain": [
       "                                                  title  \\\n",
       "6198               **Beef and Broccoli - Lunch/Dinner**   \n",
       "6201             **Char Siu (BBQ Pork) - Lunch/Dinner**   \n",
       "6204             **Congee (Rice Porridge) - Breakfast**   \n",
       "6206                 **Dan Dan Noodles - Lunch/Dinner**   \n",
       "6210                  **Egg Fried Rice - Lunch/Dinner**   \n",
       "6218               **Hot and Sour Soup - Lunch/Dinner**   \n",
       "6223                **Kung Pao Chicken - Lunch/Dinner**   \n",
       "6227                       **Mapo Tofu - Lunch/Dinner**   \n",
       "6229                           **Peking Duck - Dinner**   \n",
       "6238            **Scallion Pancakes - Breakfast/Lunch**   \n",
       "6240             **Sichuan Green Beans - Lunch/Dinner**   \n",
       "6243               **Steamed Dumplings - Lunch/Dinner**   \n",
       "6252       **Turnip Cakes (Dim Sum) - Breakfast/Lunch**   \n",
       "6253                     **Wonton Soup - Lunch/Dinner**   \n",
       "6257  **Zhajiangmian (Noodles with Bean Paste) - Lun...   \n",
       "\n",
       "                                               raw_text  cultural_restriction  \\\n",
       "6198  8. **Beef and Broccoli - Lunch/Dinner**\\n   - ...                   NaN   \n",
       "6201  10. **Char Siu (BBQ Pork) - Lunch/Dinner**\\n  ...                   NaN   \n",
       "6204  1. **Congee (Rice Porridge) - Breakfast**\\n   ...                   NaN   \n",
       "6206  11. **Dan Dan Noodles - Lunch/Dinner**\\n    - ...                   NaN   \n",
       "6210  2. **Egg Fried Rice - Lunch/Dinner**\\n   - Ing...                   NaN   \n",
       "6218  5. **Hot and Sour Soup - Lunch/Dinner**\\n   - ...                   NaN   \n",
       "6223  7. **Kung Pao Chicken - Lunch/Dinner**\\n   - I...                   NaN   \n",
       "6227  4. **Mapo Tofu - Lunch/Dinner**\\n   - Ingredie...                   NaN   \n",
       "6229  9. **Peking Duck - Dinner**\\n   - Ingredients:...                   NaN   \n",
       "6238  12. **Scallion Pancakes - Breakfast/Lunch**\\n ...                   NaN   \n",
       "6240  6. **Sichuan Green Beans - Lunch/Dinner**\\n   ...                   NaN   \n",
       "6243  3. **Steamed Dumplings - Lunch/Dinner**\\n   - ...                   NaN   \n",
       "6252  15. **Turnip Cakes (Dim Sum) - Breakfast/Lunch...                   NaN   \n",
       "6253  13. **Wonton Soup - Lunch/Dinner**\\n    - Ingr...                   NaN   \n",
       "6257  14. **Zhajiangmian (Noodles with Bean Paste) -...                   NaN   \n",
       "\n",
       "      calories                                          allergies   recipeId  \\\n",
       "6198     160.0                                           soybeans  food_7003   \n",
       "6201     230.0                                     wheat;soybeans  food_7006   \n",
       "6204     100.0  none (unless meat or additional ingredients co...  food_7009   \n",
       "6206     180.0                                     wheat;soybeans  food_7011   \n",
       "6210     200.0                                      eggs;soybeans  food_7015   \n",
       "6218      50.0                                      eggs;soybeans  food_7023   \n",
       "6223     240.0                                   peanuts;soybeans  food_7028   \n",
       "6227     150.0                                           soybeans  food_7032   \n",
       "6229     260.0                                     wheat;soybeans  food_7034   \n",
       "6238     360.0                                              wheat  food_7043   \n",
       "6240      90.0                                           soybeans  food_7045   \n",
       "6243     200.0                           shellfish;wheat;soybeans  food_7048   \n",
       "6252     100.0                                 shellfish;soybeans  food_7057   \n",
       "6253     120.0                           shellfish;wheat;soybeans  food_7058   \n",
       "6257     190.0                                     wheat;soybeans  food_7062   \n",
       "\n",
       "                                            ingredients  \\\n",
       "6198  Ingredients:\\n\\n1 pound (450g) flank steak, th...   \n",
       "6201  Ingredients:\\n\\n1 pound (450g) pork shoulder o...   \n",
       "6204  Ingredients:\\n\\n1 cup rice (jasmine or long-gr...   \n",
       "6206  Ingredients:\\n\\nFor the Sauce:\\n\\n2 tablespoon...   \n",
       "6210  Ingredients:\\n\\n3 cups cooked and cooled rice ...   \n",
       "6218  Ingredients:\\n\\n6 cups chicken or vegetable br...   \n",
       "6223  Ingredients:\\n\\nFor the Chicken Marinade:\\n\\n1...   \n",
       "6227  \\nCertainly! Here are the preparation instruct...   \n",
       "6229  Ingredients:\\n\\nWhole duck (4-5 pounds)\\n1/4 c...   \n",
       "6238  Ingredients:\\n\\n2 cups all-purpose flour\\n1 cu...   \n",
       "6240  IIngredients:\\n\\n1 pound (450g) fresh green be...   \n",
       "6243  Ingredients:\\n\\nFor the Dumpling Filling:\\n\\n1...   \n",
       "6252  Ingredients:\\n\\n2 cups grated turnips (Chinese...   \n",
       "6253  Ingredients:\\n\\nFor the Wonton Filling:\\n\\n1/2...   \n",
       "6257  Ingredients:\\n\\nFor the Noodles:\\n\\nFresh or d...   \n",
       "\n",
       "                                            preparation  carbs   fat  \\\n",
       "6198  Instructions:\\n\\n1. In a small bowl, whisk tog...   12.0   6.0   \n",
       "6201  Instructions:\\n\\n1. In a bowl, whisk together ...   25.0   8.0   \n",
       "6204  Instructions:\\n\\n1. Rinse the rice thoroughly ...   20.0   1.0   \n",
       "6206  Instructions:\\n\\n1. Cook the Chinese egg noodl...   24.0   6.0   \n",
       "6210  Instructions:\\n\\n1. Heat the vegetable oil in ...   30.0   5.0   \n",
       "6218  Instructions:\\n\\n1. In a large pot, bring the ...    5.0   2.0   \n",
       "6223  Instructions:\\n\\n1. In a bowl, combine the chi...   18.0  12.0   \n",
       "6227  Instructions:\\n\\n1. Heat the vegetable oil in ...    9.0   7.0   \n",
       "6229  Instructions:\\n\\n1. Clean and rinse the duck t...   11.0  19.0   \n",
       "6238  Instructions:\\n\\n1. In a mixing bowl, add the ...   45.0  20.0   \n",
       "6240  Instructions:\\n\\n1. Heat vegetable oil in a wo...   10.0   4.0   \n",
       "6243  Instructions:\\n\\n1. In a mixing bowl, combine ...   25.0   6.0   \n",
       "6252  Instructions:\\n\\n1. In a large mixing bowl, co...   18.0   2.0   \n",
       "6253  Instructions:\\n\\n1. In a mixing bowl, combine ...   15.0   4.0   \n",
       "6257  Instructions:\\n\\n1. Cook the Chinese wheat noo...   29.0   5.0   \n",
       "\n",
       "                    fiber  protein  taste cooking_style        meal_type  \\\n",
       "6198                  2.0     17.0  salty       sauteed     lunch;dinner   \n",
       "6201                  0.0     27.0  salty      grilled.     lunch;dinner   \n",
       "6204                  0.2      3.0  salty   slow-cooked        breakfast   \n",
       "6206  2024-05-01 00:00:00      9.0  salty       sauteed     lunch;dinner   \n",
       "6210                  1.0      5.0  salty         fried     lunch;dinner   \n",
       "6218                  1.0      3.0   sour      simmered     lunch;dinner   \n",
       "6223                  2.0     19.0  salty       sauteed     lunch;dinner   \n",
       "6227                  1.0     11.0  salty       sauteed     lunch;dinner   \n",
       "6229                  0.5     15.0  umami       roasted           dinner   \n",
       "6238  2024-05-02 00:00:00      6.0  salty         fried  breakfast;lunch   \n",
       "6240                  3.0      3.0  salty   stir-fried.     lunch;dinner   \n",
       "6243                  1.0     12.0  salty       steamed     lunch;dinner   \n",
       "6252  2024-05-01 00:00:00      4.0  umami       steamed  breakfast;lunch   \n",
       "6253                  1.0     12.0  salty        boiled     lunch;dinner   \n",
       "6257                  2.0     11.0  salty       sauteed     lunch;dinner   \n",
       "\n",
       "      prep_time  cuisine  price  \n",
       "6198        NaN  Chinese    2.0  \n",
       "6201        NaN  Chinese    2.0  \n",
       "6204        NaN  Chinese    2.0  \n",
       "6206        NaN  Chinese    2.0  \n",
       "6210        NaN  Chinese    2.0  \n",
       "6218        NaN  Chinese    2.0  \n",
       "6223        NaN  Chinese    2.0  \n",
       "6227        NaN  Chinese    2.0  \n",
       "6229        NaN  Chinese    2.0  \n",
       "6238        NaN  Chinese    1.0  \n",
       "6240        NaN  Chinese    2.0  \n",
       "6243       60.0  Chinese    2.0  \n",
       "6252        NaN  Chinese    2.0  \n",
       "6253        NaN  Chinese    2.0  \n",
       "6257        NaN  Chinese    2.0  "
      ]
     },
     "execution_count": 207,
     "metadata": {},
     "output_type": "execute_result"
    }
   ],
   "source": [
    "df_new_data"
   ]
  },
  {
   "cell_type": "code",
   "execution_count": 225,
   "metadata": {},
   "outputs": [],
   "source": [
    "dict_replace = dict(zip(df_new_data.index, df_new_data['ingredients'].tolist()))"
   ]
  },
  {
   "cell_type": "code",
   "execution_count": 258,
   "metadata": {},
   "outputs": [],
   "source": [
    "def process_price(text: str):\n",
    "    if type(text) == str:\n",
    "        lower_text = text.lower()\n",
    "        if lower_text.isnumeric() or lower_text.isdecimal():\n",
    "            return float(lower_text)\n",
    "        else:\n",
    "            result = re.findall(r'\\d\\.?\\d*', lower_text)\n",
    "            if len(result) == 1:\n",
    "                return float(result[0])\n",
    "            elif len(result) > 1:\n",
    "                return float(result[-1])\n",
    "            else:\n",
    "                return np.nan\n",
    "    elif type(text) == int or type(text) == float:\n",
    "        print('float')\n",
    "        return float(text)"
   ]
  },
  {
   "cell_type": "code",
   "execution_count": 260,
   "metadata": {},
   "outputs": [
    {
     "name": "stdout",
     "output_type": "stream",
     "text": [
      "float\n"
     ]
    }
   ],
   "source": [
    "df_almost_total['price'] = df_almost_total['price'].apply(lambda x: process_price(x))"
   ]
  },
  {
   "cell_type": "code",
   "execution_count": 263,
   "metadata": {},
   "outputs": [],
   "source": [
    "mask = df_almost_total['price'].isna()\n",
    "to_fix = df_almost_total.loc[mask, :]"
   ]
  },
  {
   "cell_type": "code",
   "execution_count": 272,
   "metadata": {},
   "outputs": [
    {
     "data": {
      "text/plain": [
       "['Belgian Waffles',\n",
       " 'Orange Peel Cup',\n",
       " 'Omelet In A Bag',\n",
       " 'Instant Pot Braised Lamb With White Beans And Spinach ',\n",
       " \"Mother's Day Breakfast Cobbler\"]"
      ]
     },
     "execution_count": 272,
     "metadata": {},
     "output_type": "execute_result"
    }
   ],
   "source": [
    "to_fix['title'].tolist()"
   ]
  },
  {
   "cell_type": "code",
   "execution_count": null,
   "metadata": {},
   "outputs": [],
   "source": [
    "# fixed ingredients with annoying text"
   ]
  },
  {
   "cell_type": "code",
   "execution_count": 308,
   "metadata": {},
   "outputs": [],
   "source": [
    "df_almost_total.to_csv(\"df_almost_ready_feb_6.csv\", sep='|')"
   ]
  },
  {
   "cell_type": "code",
   "execution_count": 341,
   "metadata": {},
   "outputs": [],
   "source": [
    "def to_check(text: str): \n",
    "    lower_text = text.lower()\n",
    "    if lower_text.startswith('sure'): #'apologize' in lower_text: #or 'llm' in lower_text: or 'sure' in lower_text:\n",
    "        return True\n",
    "    else:\n",
    "        return False"
   ]
  },
  {
   "cell_type": "code",
   "execution_count": 342,
   "metadata": {},
   "outputs": [
    {
     "data": {
      "text/plain": [
       "2"
      ]
     },
     "execution_count": 342,
     "metadata": {},
     "output_type": "execute_result"
    }
   ],
   "source": [
    "\n",
    "mask = df_almost_total['ingredients'].apply(lambda x: to_check(x))\n",
    "sum(mask)"
   ]
  },
  {
   "cell_type": "code",
   "execution_count": 344,
   "metadata": {},
   "outputs": [
    {
     "data": {
      "text/plain": [
       "['sure! here is a recipe for vegan protein muffins:\\ningredients:\\n- 1 cup plant-based milk (such as almond or soy milk)\\n- 1 tablespoon apple cider vinegar\\n- 1 ½ cups whole wheat flour\\n- ½ cup vegan protein powder\\n- ½ cup rolled oats\\n- ¼ cup coconut sugar (or any other sweetener of choice)\\n- 2 teaspoons baking powder\\n- ½ teaspoon baking soda\\n- ½ teaspoon salt\\n- ½ teaspoon cinnamon\\n- ¼ cup melted coconut oil\\n- ½ cup unsweetened applesauce\\n- 1 teaspoon vanilla extract\\n- 1 cup chopped mixed nuts or seeds (such as almonds, walnuts, chia seeds, or sunflower seeds)\\n- ½ cup dried fruits (such as raisins, cranberries, or chopped dates)',\n",
       " \"sure! here's a recipe for veggie stir fry:\\ningredients:\\n- 1 tablespoon vegetable oil\\n- 1 small onion, sliced\\n- 2 cloves garlic, minced\\n- 1 small carrot, sliced\\n- 1 bell pepper, sliced\\n- 1 cup broccoli florets\\n- 1 cup sliced mushrooms\\n- 1 cup snap peas\\n- 1 cup tofu, cubed\\n- 2 tablespoons low-sodium soy sauce\\n- 1 tablespoon hoisin sauce\\n- 1 teaspoon sesame oil\\n- salt and pepper to taste\"]"
      ]
     },
     "execution_count": 344,
     "metadata": {},
     "output_type": "execute_result"
    }
   ],
   "source": [
    "df_almost_total.loc[mask, \"ingredients\"].tolist()"
   ]
  },
  {
   "cell_type": "code",
   "execution_count": 347,
   "metadata": {},
   "outputs": [
    {
     "name": "stdout",
     "output_type": "stream",
     "text": [
      "sure! here is a recipe for vegan protein muffins:\n",
      "ingredients:\n",
      "- 1 cup plant-based milk (such as almond or soy milk)\n",
      "- 1 tablespoon apple cider vinegar\n",
      "- 1 ½ cups whole wheat flour\n",
      "- ½ cup vegan protein powder\n",
      "- ½ cup rolled oats\n",
      "- ¼ cup coconut sugar (or any other sweetener of choice)\n",
      "- 2 teaspoons baking powder\n",
      "- ½ teaspoon baking soda\n",
      "- ½ teaspoon salt\n",
      "- ½ teaspoon cinnamon\n",
      "- ¼ cup melted coconut oil\n",
      "- ½ cup unsweetened applesauce\n",
      "- 1 teaspoon vanilla extract\n",
      "- 1 cup chopped mixed nuts or seeds (such as almonds, walnuts, chia seeds, or sunflower seeds)\n",
      "- ½ cup dried fruits (such as raisins, cranberries, or chopped dates)\n",
      "****************************\n",
      "ingredients:\n",
      "- 1 cup plant-based milk (such as almond or soy milk)\n",
      "- 1 tablespoon apple cider vinegar\n",
      "- 1 ½ cups whole wheat flour\n",
      "- ½ cup vegan protein powder\n",
      "- ½ cup rolled oats\n",
      "- ¼ cup coconut sugar (or any other sweetener of choice)\n",
      "- 2 teaspoons baking powder\n",
      "- ½ teaspoon baking soda\n",
      "- ½ teaspoon salt\n",
      "- ½ teaspoon cinnamon\n",
      "- ¼ cup melted coconut oil\n",
      "- ½ cup unsweetened applesauce\n",
      "- 1 teaspoon vanilla extract\n",
      "- 1 cup chopped mixed nuts or seeds (such as almonds, walnuts, chia seeds, or sunflower seeds)\n",
      "- ½ cup dried fruits (such as raisins, cranberries, or chopped dates)\n",
      "----------------------------------------------\n",
      "sure! here's a recipe for veggie stir fry:\n",
      "ingredients:\n",
      "- 1 tablespoon vegetable oil\n",
      "- 1 small onion, sliced\n",
      "- 2 cloves garlic, minced\n",
      "- 1 small carrot, sliced\n",
      "- 1 bell pepper, sliced\n",
      "- 1 cup broccoli florets\n",
      "- 1 cup sliced mushrooms\n",
      "- 1 cup snap peas\n",
      "- 1 cup tofu, cubed\n",
      "- 2 tablespoons low-sodium soy sauce\n",
      "- 1 tablespoon hoisin sauce\n",
      "- 1 teaspoon sesame oil\n",
      "- salt and pepper to taste\n",
      "****************************\n",
      "ingredients:\n",
      "- 1 tablespoon vegetable oil\n",
      "- 1 small onion, sliced\n",
      "- 2 cloves garlic, minced\n",
      "- 1 small carrot, sliced\n",
      "- 1 bell pepper, sliced\n",
      "- 1 cup broccoli florets\n",
      "- 1 cup sliced mushrooms\n",
      "- 1 cup snap peas\n",
      "- 1 cup tofu, cubed\n",
      "- 2 tablespoons low-sodium soy sauce\n",
      "- 1 tablespoon hoisin sauce\n",
      "- 1 teaspoon sesame oil\n",
      "- salt and pepper to taste\n",
      "----------------------------------------------\n"
     ]
    }
   ],
   "source": [
    "ingredients_improved = []\n",
    "for text in df_almost_total.loc[mask, \"ingredients\"].tolist():\n",
    "    print(text)\n",
    "    list_text = [txt for txt in text.split('\\n') if len(txt) > 2]\n",
    "    if len(list_text) == 1:\n",
    "        new_text = list_text[0]\n",
    "    else:\n",
    "        new_text = '\\n'.join(list_text[1:])\n",
    "    print(\"****************************\")\n",
    "    print(new_text)\n",
    "    ingredients_improved.append(new_text)\n",
    "    print(\"----------------------------------------------\")"
   ]
  },
  {
   "cell_type": "code",
   "execution_count": 348,
   "metadata": {},
   "outputs": [
    {
     "data": {
      "text/plain": [
       "2"
      ]
     },
     "execution_count": 348,
     "metadata": {},
     "output_type": "execute_result"
    }
   ],
   "source": [
    "len(ingredients_improved)"
   ]
  },
  {
   "cell_type": "code",
   "execution_count": 349,
   "metadata": {},
   "outputs": [
    {
     "data": {
      "text/plain": [
       "2"
      ]
     },
     "execution_count": 349,
     "metadata": {},
     "output_type": "execute_result"
    }
   ],
   "source": [
    "sum(mask)"
   ]
  },
  {
   "cell_type": "code",
   "execution_count": 350,
   "metadata": {},
   "outputs": [],
   "source": [
    "df_almost_total.loc[mask, \"ingredients\"] = ingredients_improved"
   ]
  },
  {
   "cell_type": "code",
   "execution_count": 351,
   "metadata": {},
   "outputs": [],
   "source": [
    "df_almost_total.to_csv(\"df_final_6_feb.csv\", sep='|')"
   ]
  },
  {
   "cell_type": "code",
   "execution_count": 365,
   "metadata": {},
   "outputs": [
    {
     "name": "stdout",
     "output_type": "stream",
     "text": [
      "1032\n"
     ]
    }
   ],
   "source": [
    "mask = df_almost_total['cultural_restriction'].isna()\n",
    "print(sum(mask))\n",
    "to_fix_carbs = df_almost_total.loc[mask, :]"
   ]
  },
  {
   "cell_type": "code",
   "execution_count": 366,
   "metadata": {},
   "outputs": [],
   "source": [
    "to_fix_carbs.to_csv(\"df_cultural_restriction_1032_fix.csv\", sep=\"|\")"
   ]
  },
  {
   "cell_type": "code",
   "execution_count": 2,
   "metadata": {},
   "outputs": [],
   "source": [
    "df_almost_total = pd.read_csv(\"df_final_almost_ready.csv\", \n",
    "                              sep=\"|\", \n",
    "                              index_col=0)"
   ]
  },
  {
   "cell_type": "code",
   "execution_count": 3,
   "metadata": {},
   "outputs": [
    {
     "data": {
      "text/plain": [
       "(7227, 18)"
      ]
     },
     "execution_count": 3,
     "metadata": {},
     "output_type": "execute_result"
    }
   ],
   "source": [
    "df_almost_total.shape"
   ]
  },
  {
   "cell_type": "code",
   "execution_count": 123,
   "metadata": {},
   "outputs": [],
   "source": [
    "df_prev = pd.read_csv(\"/home/victor/Documents/Expectation_data_generation/src/meals_collection/df_final_6_feb.csv\",\n",
    "                    sep='|', \n",
    "                    index_col=0)"
   ]
  },
  {
   "cell_type": "code",
   "execution_count": 124,
   "metadata": {},
   "outputs": [],
   "source": [
    "list_prev = df_prev.loc[mask, 'title'].tolist()"
   ]
  },
  {
   "cell_type": "code",
   "execution_count": 126,
   "metadata": {},
   "outputs": [],
   "source": [
    "df_almost_total.loc[mask, 'title'] = list_prev"
   ]
  },
  {
   "cell_type": "code",
   "execution_count": 4,
   "metadata": {},
   "outputs": [],
   "source": [
    "n_mask = df_almost_total['title'].apply(lambda x: len(x) < 9)"
   ]
  },
  {
   "cell_type": "code",
   "execution_count": 5,
   "metadata": {},
   "outputs": [
    {
     "data": {
      "text/plain": [
       "66"
      ]
     },
     "execution_count": 5,
     "metadata": {},
     "output_type": "execute_result"
    }
   ],
   "source": [
    "sum(n_mask)"
   ]
  },
  {
   "cell_type": "code",
   "execution_count": 10,
   "metadata": {},
   "outputs": [
    {
     "name": "stdout",
     "output_type": "stream",
     "text": [
      "['Vegan No', 'Oven', 'Quinoa', 'Falafel', 'Low', 'Greek', 'American', 'Hard', 'Edamame', 'Oat Bars', 'Muesli', 'Samosas', 'Frittata', 'Caprese', 'Lemon', 'Gazpacho', 'Veggie', 'Caponata', 'Indian', 'German', 'Pan', 'Energy', 'Turkish', 'Moroccan', 'Banana', 'Bacon', 'No', 'Pad Thai', 'Honey', 'Herb', 'Stir', 'Mexican', 'Israeli', 'Yogurt', 'Dairy', 'Gluten', 'Popcorn', 'Hummus', '3', 'Mujadara', 'Sushi', 'Halva', 'Ceviche', 'Borscht', 'Chili', 'Three', 'Italian', 'Muffins', 'Quiche', 'Fritters', 'Beignets', 'Porridge', 'Miso', 'One', 'Congee', 'Scones', 'Paratha', ' Arepas', ' Arepas', ' Cachapa', ' Ceviche', ' Ceviche', ' Humitas', ' Moqueca', 'Drommar', 'Monkfish']\n"
     ]
    }
   ],
   "source": [
    "print(df_almost_total.loc[n_mask, 'title'].tolist())"
   ]
  },
  {
   "cell_type": "code",
   "execution_count": 7,
   "metadata": {},
   "outputs": [],
   "source": [
    "new_list = ['Vegan No-Bake Energy Bites', \n",
    "            'Oven-Baked Zucchini Fries ', \n",
    "            'Quinoa-Stuffed Avocado', \n",
    "            'Falafel', \n",
    "            'Low-Calorie Veggie Stir-Fry', \n",
    "            'Greek-style baked beans',\n",
    "            'American-style stacked pancakes', \n",
    " 'Edamame', 'Oat Bars', 'Muesli', 'Samosas', 'Frittata', \n",
    " 'Caprese-stuffed garlic bread', \n",
    " 'Lemon-garlic roasted chickpeas', \n",
    " 'Gazpacho', \n",
    " 'Veggie-Stuffed Pita Pockets', \n",
    " 'Caponata', \n",
    " 'Indian-Style Spinach and Chickpeas', \n",
    " 'German-style potato pancakes with applesauce', \n",
    " 'Pan-Fried Halloumi Salad', \n",
    " 'Energy-Boosting Smoothie', \n",
    " 'Turkish-style boiled eggs', \n",
    " 'Moroccan-style boiled eggs', \n",
    " 'Banana-nut muffins', \n",
    " 'Bacon-Wrapped Dates', \n",
    " 'No-Bake Energy Bars', \n",
    " 'Pad Thai', \n",
    " 'Honey-Glazed Baked Ham', \n",
    " 'Herb-roasted turkey breast with sweet potatoes', \n",
    " 'Stir-Fried Noodles with Vegetables', \n",
    " 'Mexican-style breakfast wrap with eggs and black beans', \n",
    " 'Israeli-style salad with scrambled eggs', \n",
    " 'Yogurt-covered pretzels', \n",
    " 'Dairy-Free Oatmeal Cookies', \n",
    " 'Gluten-Free Peanut Butter Cookies', \n",
    " 'Popcorn', \n",
    " 'Hummus-Stuffed Bell Pepper Cups', \n",
    " 'Bean Salad', \n",
    " 'Mujadara', \n",
    " 'Sushi', \n",
    " 'Halva', \n",
    " 'Ceviche', \n",
    " 'Borscht', \n",
    " 'Chili-lime grilled fish tacos', \n",
    " 'Three-bean chili with cornbread', \n",
    " 'Italian-style breakfast sandwich with prosciutto and mozzarella', \n",
    " 'Muffins', \n",
    " 'Quiche', \n",
    " 'Fritters', \n",
    " 'Beignets', \n",
    " 'Porridge', \n",
    " 'Miso-glazed salmon with jasmine rice and steamed vegetables', \n",
    " 'One-pot creamy chicken and mushroom pasta', \n",
    " 'Congee', 'Scones', \n",
    " 'Paratha', \n",
    " 'Arepas', \n",
    " 'Arepas', \n",
    " 'Cachapa',\n",
    " 'Ceviche', \n",
    " 'Ceviche', \n",
    " 'Humitas', \n",
    " 'Moqueca', \n",
    " 'Drommar', \n",
    " 'Monkfish']"
   ]
  },
  {
   "cell_type": "code",
   "execution_count": 8,
   "metadata": {},
   "outputs": [
    {
     "data": {
      "text/plain": [
       "65"
      ]
     },
     "execution_count": 8,
     "metadata": {},
     "output_type": "execute_result"
    }
   ],
   "source": [
    "len(new_list)"
   ]
  },
  {
   "cell_type": "code",
   "execution_count": 5,
   "metadata": {},
   "outputs": [
    {
     "data": {
      "text/plain": [
       "(7227, 18)"
      ]
     },
     "execution_count": 5,
     "metadata": {},
     "output_type": "execute_result"
    }
   ],
   "source": [
    "df_almost_total.shape"
   ]
  },
  {
   "cell_type": "code",
   "execution_count": 102,
   "metadata": {},
   "outputs": [],
   "source": [
    "df_almost_total.to_csv('df_almost_final_feb_7.csv', sep='|')"
   ]
  },
  {
   "cell_type": "code",
   "execution_count": 108,
   "metadata": {},
   "outputs": [],
   "source": [
    "mask = df_almost_total['title'].apply(lambda x: len(x)<9)"
   ]
  },
  {
   "cell_type": "code",
   "execution_count": 109,
   "metadata": {},
   "outputs": [
    {
     "data": {
      "text/plain": [
       "108"
      ]
     },
     "execution_count": 109,
     "metadata": {},
     "output_type": "execute_result"
    }
   ],
   "source": [
    "sum(mask)"
   ]
  },
  {
   "cell_type": "code",
   "execution_count": 113,
   "metadata": {},
   "outputs": [],
   "source": [
    "def fix_titles(raw_text:str):\n",
    "    splitted = raw_text.split('\\n')\n",
    "    if len(splitted) > 2:\n",
    "        return splitted[0]\n",
    "    else:\n",
    "        return ''"
   ]
  },
  {
   "cell_type": "code",
   "execution_count": 121,
   "metadata": {},
   "outputs": [
    {
     "name": "stdout",
     "output_type": "stream",
     "text": [
      "65. Recipe: Vegan No-Bake Energy Bites\n",
      "Calories: 200 per portion\n",
      "Total Portions: 1\n",
      "Allergic Warnings: None\n",
      "Origin Country: Not applicable\n",
      "\n",
      " 8. Oven-Baked Zucchini Fries \n",
      "   Calories per portion: 150\n",
      "   Total portions: 2\n",
      "   Allergic warnings: None\n",
      "   Origin: N/A\n",
      "\n",
      " 32. Quinoa-Stuffed Avocado \n",
      "    Calories per portion: 280\n",
      "    Total portions: 2\n",
      "    Allergic warnings: None\n",
      "    Origin: N/A\n",
      "\n",
      " 10. Falafel - 250 calories per portion, 4 portions, Gluten, Middle East\n",
      "\n",
      " 3. Low-Calorie Veggie Stir-Fry (150 calories/portion, 3 portions) - China\n",
      " 29. Greek-style baked beans: 300kcal per portion, 2 portions, no allergic warnings, origin: Greece\n",
      " 38. American-style stacked pancakes: 400kcal per portion, 1 portion, contains gluten, origin: USA\n",
      " 44. Edamame: 100 calories per portion, 1 portion, origin: Japan\n",
      "    - Warning: None\n",
      "\n",
      " 50. Oat Bars: 200 calories per portion, 1 portion, origin: -\n",
      "    - Warning: Contains gluten\n",
      "\n",
      " 53. Muesli: 180 calories per portion, 1 portion, origin: Switzerland\n",
      "    - Warning: Contains gluten\n",
      "\n",
      " 87. Samosas: 180 calories per portion, 1 portion, origin: India\n",
      "    - Warning: Contains gluten\n",
      "\n",
      " 90. Frittata: 220 calories per portion, 1 portion, origin: Italy\n",
      "    - Warning: None\n",
      "\n",
      " 72. Caprese-stuffed garlic bread:\n",
      "    Calories per portion: 300\n",
      "    Total portions: 2\n",
      "    Allergic warnings: Dairy, Wheat (gluten)\n",
      "    Origin: Italy\n",
      "\n",
      " 74. Lemon-garlic roasted chickpeas:\n",
      "    Calories per portion: 150\n",
      "    Total portions: 4\n",
      "    Allergic warnings: None\n",
      "    Origin: Unknown\n",
      "\n",
      " 19. Gazpacho: 80 calories per portion, 4 portions, no allergic warnings, origin: Spain.\n",
      " 96. Veggie-Stuffed Pita Pockets: 220 calories per portion, 2 portions, contains gluten, origin: Mediterranean.\n",
      " 10. Caponata: 400 kcal per portion, 2 portions. Origin: Italy.\n",
      " 28. Indian-Style Spinach and Chickpeas: 300kcals per portion, 3 portions, no allergy warnings, India\n",
      " 54. German-style potato pancakes with applesauce - 350 calories per portion, 2 portions, contains gluten, origin: Germany\n",
      " 94. Pan-Fried Halloumi Salad: Total calories per portion - 250kcal, Total portions - 1, Allergic warnings - Dairy, Origin - Cyprus\n",
      " 72. Energy-Boosting Smoothie - Approx. 200 kcals per portion - Total Portions: 1 - Origin: Various\n",
      " 9. Turkish-style boiled eggs: 90 calories per portion, 2 portions, no allergic warnings, origin: Turkey\n",
      " 23. Moroccan-style boiled eggs: 110 calories per portion, 2 portions, no allergic warnings, origin: Morocco\n",
      " 11. Banana-nut muffins: 180 calories per portion, yields 6 portions, gluten, nuts (Multiple origins)\n",
      " 31. Bacon-Wrapped Dates: Total calories per portion: 180kcals, Total portions: 4, Allergic warnings: None, Origin: Middle East.\n",
      " 84. No-Bake Energy Bars: 120 calories per portion; 3 portions; Contains nuts and gluten; Origin: Various.\n",
      " 27. Pad Thai - 500kcals per portion, 4 portions. Allergic warnings: peanuts, shellfish. Origin: Thailand.\n",
      " 9. Honey-Glazed Baked Ham: 450 calories per portion, 4 portions, contains pork, origin: United States\n",
      " 14. Herb-roasted turkey breast with sweet potatoes\n",
      "- Calories: 350 per portion\n",
      "- Total portions: 6\n",
      "- Allergic warnings: None\n",
      "- Origin country: N/A\n",
      "\n",
      " 48. Stir-Fried Noodles with Vegetables: 400 kcals per portion, 4 portions, vegetarian, contains soy, origin: Asia\n",
      " 60. Mexican-style breakfast wrap with eggs and black beans (400 calories per portion, 2 portions, contains eggs, Mexican origin)\n",
      " 80. Israeli-style salad with scrambled eggs (380 calories per portion, 2 portions, nut-free, Israeli origin)\n",
      " 91. Yogurt-covered pretzels: 300kcal per portion, 200 portions, contains gluten and dairy.\n",
      " 10. Dairy-Free Oatmeal Cookies (90 kcal per portion, 4 portions) - Allergy Warning: Contains gluten. Origin: Unknown.\n",
      " 28. Gluten-Free Peanut Butter Cookies (100 kcal per portion, 5 portions) - Allergy Warning: Contains peanuts. Origin: Unknown.\n",
      " 21. Popcorn: 90 kcal per portion, 8 portions, contains corn, no origin.\n",
      " 22. Hummus-Stuffed Bell Pepper Cups:\n",
      "- Calories: 70 kcal per portion\n",
      "- Portions: 3\n",
      "- Allergy Warnings: Sesame\n",
      "- Origin: Middle East\n",
      "\n",
      " 68. 3-Bean Salad:\n",
      "- Calories: 150 kcal per portion\n",
      "- Portions: 1\n",
      "- Allergy Warnings: None\n",
      "- Origin: N/A\n",
      "\n",
      " 4. Mujadara - 280 kcals per portion, 3 portions, contains gluten (Lebanon).\n",
      " 19. Sushi - 250 kcals per portion, 2 portions, contains fish, soy (Japan).\n",
      " 23. Halva - 220 kcals per portion, 6 portions, may contain sesame (Middle East).\n",
      " 88. Ceviche - 120 kcals per portion, 2 portions, contains fish (Peru).\n",
      " 49. Borscht - Calories: 200, Portions: 4, Allergenic Warnings: None, Origin: Russia\n",
      " 42. Chili-lime grilled fish tacos – 400 calories per portion, 4 portions, contains fish (origin: Mexico)\n",
      " 85. Three-bean chili with cornbread – 350 calories per portion, 4 portions, vegan-friendly\n",
      " 79. Italian-style breakfast sandwich with prosciutto and mozzarella - Calories: 400 per portion / Portions: 1 / Allergic warnings: Gluten (if using bread), dairy / Origin country: Italy\n",
      " 15. Muffins:\n",
      "- Calories per portion: 180 kcal\n",
      "- Total portions: 1\n",
      "- Origin: N/A\n",
      "\n",
      " 37. Quiche:\n",
      "- Calories per portion: 400 kcal\n",
      "- Total portions: 1\n",
      "- Origin: France\n",
      "\n",
      " 38. Fritters:\n",
      "- Calories per portion: 250 kcal\n",
      "- Total portions: 1\n",
      "- Origin: N/A\n",
      "\n",
      " 45. Beignets:\n",
      "- Calories per portion: 300 kcal\n",
      "- Total portions: 1\n",
      "- Origin: France\n",
      "\n",
      " 58. Porridge:\n",
      "- Calories per portion: 200 kcal\n",
      "- Total portions: 1\n",
      "- Origin: United Kingdom\n",
      "\n",
      " 95. Miso-glazed salmon with jasmine rice and steamed vegetables - 500 kcals per portion, 2 portions, contains lactose\n",
      " 99. One-pot creamy chicken and mushroom pasta - 480 kcals per portion, 4 portions, contains gluten, lactose\n",
      " 28. Congee: 200kcals per portion, 1 portion, allergy-free, originated in China.\n",
      " 17. Scones:\n",
      "- Calories per portion: 250 kcal\n",
      "- Total portions: 1\n",
      "- Origin: United Kingdom\n",
      "\n",
      " 46. Paratha:\n",
      "- Calories per portion: 200 kcal\n",
      "- Total portions: 1\n",
      "- Origin: India\n",
      "\n",
      " 1. **Congee**\n",
      "   Ingredients: Rice, water, ginger, salt\n",
      "   Steps: Boil rice in water with ginger until it breaks down into a porridge.\n",
      "\n",
      "   Allergens: None (unless specific toppings are added)\n",
      "   Nutrition (estimated per 100g): 60-90 calories, 1-2g protein, 0-1g fat, 0-1g fiber, 10-20g carbs\n",
      "   Meal: Breakfast 2. **Stir-fried Bok Choy**\n",
      "   Ingredients: Bok choy, garlic, soy sauce, oil\n",
      "   Steps: Stir-fry bok choy and garlic, season with soy sauce.\n",
      "\n",
      "   Allergens: Soy\n",
      "   Nutrition (estimated per 100g): 20-40 calories, 1-3g protein, 0.2-2g fat, 1-2g fiber, 2-4g carbs\n",
      "   Meal: Lunch/Dinner 3. Arepas\n",
      "Ingredients:\n",
      "- 2 cups cornmeal (masa harina)\n",
      "- 2 cups warm water\n",
      "- 1 tsp salt\n",
      "- 1 cup shredded cheese\n",
      "- 2 tbsp vegetable oil\n",
      "\n",
      "Preparation:\n",
      "1. In a large bowl, mix together the cornmeal, warm water, and salt until well combined. Let the dough rest for 5 minutes.\n",
      "2. Divide the dough into 8 equal portions and shape each portion into a flat round disc.\n",
      "3. Heat the vegetable oil in a skillet over medium heat. Cook the arepas for about 4-5 minutes on each side, until golden brown.\n",
      "4. Slice the cooked arepas in half horizontally and stuff with shredded cheese.\n",
      "5. Serve warm.\n",
      "Carbohydrates: 23g\n",
      "Protein: 6g\n",
      "Fat: 5g\n",
      "Fiber: 2g\n",
      "Calories: 158\n",
      "Appropriate for: Breakfast, Lunch, Dinner 6. Arepas\n",
      "\n",
      "Ingredients:\n",
      "- 2 cups pre-cooked cornmeal (masarepa)\n",
      "- 2 cups warm water\n",
      "- 1 teaspoon salt\n",
      "- Your choice of fillings (e.g., cheese, shredded chicken, avocado, black beans)\n",
      "\n",
      "Preparation:\n",
      "1. In a mixing bowl, combine pre-cooked cornmeal, warm water, and salt. Mix until a soft dough forms.\n",
      "2. Let the dough rest for 5 minutes.\n",
      "3. Divide the dough into small balls and flatten them to about 1/2 inch thickness.\n",
      "4. Heat a non-stick skillet over medium heat and cook the arepas for about 5 minutes on each side, or until golden brown.\n",
      "5. Slice each arepa and fill with your desired fillings.\n",
      "6. Serve warm.\n",
      "\n",
      "Nutritional Information per 100g: Carbohydrates - 27g, Protein - 2g, Fat - 0.5g, Fiber - 2g, Calories - 124\n",
      "Appropriate for: Breakfast, Lunch or Dinner 20. Cachapa\n",
      "\n",
      "Ingredients:\n",
      "- 2 cups fresh corn kernels\n",
      "- 1 cup masa harina (corn flour)\n",
      "- 1/2 cup milk\n",
      "- 1/4 cup sugar\n",
      "- 1/4 cup melted butter\n",
      "- Salt to taste\n",
      "- Fresh cheese for serving\n",
      "\n",
      "Preparation:\n",
      "1. In a blender, blend fresh corn kernels, milk, sugar, melted butter, and salt until smooth.\n",
      "2. In a mixing bowl, combine the corn puree and masa harina. Mix well until a batter is formed.\n",
      "3. Preheat a non-stick skillet or griddle over medium heat.\n",
      "4. Pour 1/4 cup of the batter onto the skillet and spread it out to form a circle.\n",
      "5. Cook for about 3-4 minutes on each side, or until golden brown.\n",
      "6. Serve warm with fresh cheese.\n",
      "\n",
      "Nutritional Information per 100g: Carbohydrates - 28g, Protein - 3g, Fat - 3g, Fiber - 2g, Calories - 145\n",
      "Appropriate for: Breakfast, Lunch or Dinner 2. Ceviche\n",
      "Ingredients:\n",
      "- 1 lb fresh white fish fillets, cubed\n",
      "- 1 cup lime juice\n",
      "- 1 red onion, thinly sliced\n",
      "- 1 jalapeno, seeded and finely chopped\n",
      "- 1 tomato, diced\n",
      "- 1/4 cup chopped cilantro\n",
      "- Salt and pepper to taste\n",
      "- Corn or plantain chips, for serving\n",
      "\n",
      "Preparation:\n",
      "1. Place the fish cubes in a bowl and pour the lime juice over them. Let marinate in the refrigerator for at least 30 minutes.\n",
      "2. Drain the fish and discard the lime juice.\n",
      "3. Add the red onion, jalapeno, tomato, and cilantro to the fish. Mix well.\n",
      "4. Season with salt and pepper to taste.\n",
      "5. Serve with corn or plantain chips.\n",
      "Carbohydrates: 8g\n",
      "Protein: 28g\n",
      "Fat: 1g\n",
      "Fiber: 2g\n",
      "Calories: 132\n",
      "Appropriate for: Lunch, Dinner 2. Ceviche\n",
      "\n",
      "Ingredients:\n",
      "- 1 pound fresh white fish fillets, cut into small pieces\n",
      "- 1/2 cup lime juice\n",
      "- 1/4 cup orange juice\n",
      "- 1/2 red onion, thinly sliced\n",
      "- 1/2 cup chopped cilantro\n",
      "- 1 jalapeno, seeded and minced\n",
      "- 1/2 teaspoon salt\n",
      "- 1/4 teaspoon black pepper\n",
      "\n",
      "Preparation:\n",
      "1. In a bowl, combine lime juice, orange juice, salt, and black pepper.\n",
      "2. Add fish, onion, cilantro, and jalapeno to the bowl and mix well.\n",
      "3. Cover and refrigerate for at least 2 hours, allowing the fish to marinate and \"cook\" in the juices.\n",
      "4. Serve chilled.\n",
      "\n",
      "Nutritional Information per 100g: Carbohydrates - 5g, Protein - 15g, Fat - 1g, Fiber - 1g, Calories - 83\n",
      "Appropriate for: Lunch or Dinner 10. Humitas\n",
      "\n",
      "Ingredients:\n",
      "- 4 fresh corn ears, kernels removed\n",
      "- 1 cup cornmeal\n",
      "- 1/2 cup melted butter\n",
      "- 1/2 cup milk\n",
      "- 1/4 cup grated cheese (queso fresco or mozzarella)\n",
      "- 1 tablespoon sugar\n",
      "- Salt to taste\n",
      "- Corn husks for wrapping\n",
      "\n",
      "Preparation:\n",
      "1. In a blender, blend half of the corn kernels until smooth. Set aside.\n",
      "2. In a mixing bowl, combine cornmeal, melted butter, milk, cheese, sugar, and salt.\n",
      "3. Stir in the blended corn puree and the remaining corn kernels into the mixture. Mix until well combined.\n",
      "4. Soak the corn husks in warm water for about 10 minutes to soften.\n",
      "5. Take a corn husk, place a spoonful of the corn mixture in the center, and fold the husk into a packet, making sure the mixture is covered.\n",
      "6. Secure each packet with a strip of corn husk.\n",
      "7. Place the humitas in a steamer or a pot with a steamer basket. Steam for about 45 minutes to 1 hour until the humitas are cooked and firm.\n",
      "8. Serve warm.\n",
      "\n",
      "Nutritional Information per 100g: Carbohydrates - 17g, Protein - 4g, Fat - 5g, Fiber - 1g, Calories - 138\n",
      "Appropriate for: Breakfast, Lunch or Dinner 5. Moqueca\n",
      "\n",
      "Ingredients:\n",
      "- 1 pound firm white fish fillets, cut into chunks\n",
      "- 1 onion, sliced\n",
      "- 3 garlic cloves, minced\n",
      "- 1 red bell pepper, sliced\n",
      "- 1 green bell pepper, sliced\n",
      "- 1 can (14 ounces) diced tomatoes\n",
      "- 1 can (13.5 ounces) coconut milk\n",
      "- 2 tablespoons olive oil\n",
      "- 2 tablespoons lime juice\n",
      "- 1 tablespoon paprika\n",
      "- 1 tablespoon fresh cilantro, chopped\n",
      "- Salt and pepper to taste\n",
      "\n",
      "Preparation:\n",
      "1. In a large skillet or pot, heat olive oil over medium heat. Add onion, garlic, and bell peppers. Sauté until onions are translucent.\n",
      "2. Stir in diced tomatoes, coconut milk, lime juice, paprika, salt, and pepper. Bring to a simmer.\n",
      "3. Add fish to the skillet and cook for about 10-15 minutes, or until the fish is cooked through and flakes easily.\n",
      "4. Garnish with fresh cilantro.\n",
      "5. Serve with rice or crusty bread.\n",
      "\n",
      "Nutritional Information per 100g: Carbohydrates - 5g, Protein - 7g, Fat - 8g, Fiber - 1g, Calories - 118\n",
      "Appropriate for: Lunch or Dinner 4. Stir-Fried Tofu and Vegetables\n",
      "- Lunch/Dinner\n",
      "Ingredients: Tofu, bell peppers, onions, soy sauce, ginger, garlic.\n",
      "Preparation Steps: Stir-fry tofu until golden, add vegetables, add sauce, cook until tender.\n",
      "Allergens: Soy.\n",
      "Est. Nutritional per 100g: 90 kcal, 7g protein, 4g carbohydrates, 5g fat, 1g fiber. Lentil-Spinach Soup8 c. chicken stock or 48 oz. can stock \n",
      "  2 cloves chopped garlic \n",
      "  1 onion \n",
      "  chopped \n",
      "  3/4 c. chopped carrots \n",
      "  1 c. chopped celery \n",
      "  1 c. lentils \n",
      "  1 bunch spinach \n",
      "  3 Tbsp. lemon juice or vinegar \n",
      "  salt and pepper to tasteWash and pick over lentils. \n",
      "  Place in boiling water and cook 2 minutes. \n",
      "  Cover; let sit 1 hour and drain. \n",
      "  (This removes gas.) Onion-Tuna Quiche2 beaten eggs \n",
      "  1 tall can evaporated milk \n",
      "  1 c. shredded Cheddar \n",
      "  1 (6 1/2 oz.) can drained tuna \n",
      "  3 Tbsp. minced onion \n",
      "  1 tsp. garlic salt \n",
      "  1 (9-inch) frozen pie shellMix together the first 6 ingredients and pour into pie shell. Bake at 450\\u00b0 for 15 minutes. \n",
      "  Lower oven temperature to 350\\u00b0 and bake 30 minutes longer or until top is browned. \n",
      "  Let stand 15 minutes before serving. \n",
      "  Serves 6 to 8. Oven-Easy Beef And Potato Dinner Casserole4 c. frozen hash brown potatoes \n",
      "  thawed \n",
      "  3 Tbsp. oil \n",
      "  1/8 tsp. pepper \n",
      "  1 lb. ground beef \n",
      "  1 c. water \n",
      "  1 pkg. (about 3/4 oz.) brown gravy mix \n",
      "  1/2 tsp. garlic salt \n",
      "  1 (10 oz.) pkg. frozen mixed vegetables \n",
      "  thawed and drained \n",
      "  1 (2.8 oz.) can Durkee French fried onions \n",
      "  1 c. (4 oz.) shredded Cheddar cheesePreheat oven to 400\\u00b0. \n",
      "  In 8 x 12-inch baking dish \n",
      "  combine potatoes \n",
      "  oil and pepper. \n",
      "  Firmly press potato mixture evenly across bottom and up sides of dish to form a shell. \n",
      "  Bake \n",
      "  uncovered \n",
      "  at 400\\u00b0 for 15 minutes. Garlic-Parmesan Bread1 1/2 Tbsp. olive oil \n",
      "  1 clove garlic \n",
      "  minced \n",
      "  1 Tbsp. oregano \n",
      "  1 1/2 Tbsp. Parmesan \n",
      "  grated \n",
      "  1 Tbsp. hot water \n",
      "  1/2 loaf French bread \n",
      "  cut into 4 slicesMix olive oil \n",
      "  oregano \n",
      "  garlic and water. \n",
      "  Spread on French bread and sprinkle with Parmesan. \n",
      "  Wrap in foil and heat in oven at 350\\u00b0 for 15 minutes. Ginger-Garlic Spicy Chicken4 cloves garlic \n",
      "  minced \n",
      "  1 1/2 tsp. grated ginger root \n",
      "  1/2 tsp. salt \n",
      "  1/2 tsp. pepper \n",
      "  1/4 tsp. red pepper \n",
      "  1/4 tsp. cinnamon \n",
      "  1 Tbsp. catsup \n",
      "  1 Tbsp. red wine vinegar \n",
      "  1 Tbsp. waterMix all ingredients. \n",
      "  Brush both sides of each of 8 chicken breasts with garlic mixture. \n",
      "  Place chicken in a shallow baking pan. Bake \n",
      "  uncovered \n",
      "  in a 375\\u00b0 oven for 50 to 55 minutes or until done. Chic-Olie Bake8 stewed and boned chicken breasts \n",
      "  2 (10 oz.) pkg. broccoli \n",
      "  cooked and drained \n",
      "  3 cans cream of chicken soup \n",
      "  1 1/2 c. mayonnaise or Miracle Whip \n",
      "  1/2 c. Romano or Parmesan cheese \n",
      "  1/2 c. bread crumbs \n",
      "  1 Tbsp. margarine or butter \n",
      "  2 c. cooked rice or noodlesCombine soup and mayonnaise. \n",
      "  On bottom of 9 x 13-inch pan \n",
      "  spread rice or noodles. \n",
      "  Then in this order layer following ingredients: \n",
      "  broccoli \n",
      "  half of the soup and mayonnaise mixture \n",
      "  chicken and other half of soup and mayonnaise mixture. \n",
      "  Sprinkle with cheese and then bake for 1 hour at 300\\u00b0. Drommar1 cup butter \n",
      "  3/4 cup white sugar \n",
      "  1 teaspoon baking powder \n",
      "  2 teaspoons vanilla extract \n",
      "  1/2 teaspoon ground cardamom \n",
      "  2 cups all-purpose flour \n",
      "  50 blanched whole almonds \n",
      "  toastedPreheat oven to 350 degrees F (180 degrees C). \n",
      "  Place butter in a large heavy skillet and cook over medium-low heat without stirring for about 15 minutes \n",
      "  or until butter is a light tan color. Pour into mixing bowl. Place over a bowl of cold water and chill until firm. \n",
      "  Add sugar \n",
      "  baking powder \n",
      "  vanilla and cardamom; beat until combined. Stir in flour. \n",
      "  Shape dough into 1-inch balls. Place 1 inch apart on an ungreased cookie sheet. Top each with an almond; press almond slightly into dough. \n",
      "  Bake until golden brown \n",
      "  12 to 15 minutes. Remove to wire rack and cool. Chili-Rubbed Pork Tenderloin1 lb pork tenderloin \n",
      "  trimmed \n",
      "  2 tablespoons olive oil \n",
      "  1 tablespoon honey \n",
      "  1 tablespoon ground cumin \n",
      "  1 tablespoon chili powder \n",
      "  1 teaspoon dried oregano \n",
      "  1 teaspoon sugar \n",
      "  1/2 teaspoon red pepper flakes \n",
      "  1/2 teaspoon salt \n",
      "  1/4 teaspoon black pepperPreheat oven to 400\\u00b0F Lightly grease a rack in a roasting dish. \n",
      "  In a small bowl \n",
      "  whisk together all ingredients except the tenderloin; rub mixture over pork evenly to coat. Cover and marinate 4 hours or overnight. \n",
      "  Place pork on prepared rack. Roast until internal temperature reaches 160\\u00b0F \n",
      "  about 45 to 60 minutes. Remove from oven and cool 10 minutes. Slice and serve. Soup-Bowl Cabbage Rolls1 lb lean ground beef \n",
      "  1 garlic clove \n",
      "  minced \n",
      "  1 small head cabbage \n",
      "  chopped \n",
      "  2 1/2 cups water \n",
      "  2/3 cup uncooked long grain rice \n",
      "  1 tablespoon Worcestershire sauce \n",
      "  1 teaspoon onion powder \n",
      "  1 teaspoon dried basil \n",
      "  1/4 teaspoon cayenne pepper \n",
      "  1/4 teaspoon pepper \n",
      "  28 ounces crushed tomatoes \n",
      "  1/2 teaspoon salt \n",
      "  grated parmesan cheese (optional)In a nonstock Dutch oven \n",
      "  cook beef and garlic over medium heat until the meat is no longer pink and drain. \n",
      "  Stir in the next 8 ingredients and bring to a boil. \n",
      "  Reduce heat and simmer covered until rice is tender \n",
      "  25 to 30 minutes. \n",
      "  Stir in tomatoes and salt and heat through. If desired \n",
      "  sprinkle with cheese. Just-Like-Starbucks Doubleshot - Copycat2 ounces espresso (or strong coffee) \n",
      "  2 ounces half-and-half \n",
      "  2 ounces low-fat milk \n",
      "  1 teaspoon sugar \n",
      "  chocolate syrup (optional)Add sugar to hot espresso. \n",
      "  Pour all ingredients over ice. Almost-Instant Tomato Soup1 (16 ounce) can tomato sauce \n",
      "  1 1/2 cups cold filtered water \n",
      "  2 tablespoons tomato ketchup \n",
      "  2 teaspoons ranch dressing \n",
      "  5 teaspoons cornstarch \n",
      "  5 teaspoons sugar \n",
      "  1 dash allspice \n",
      "  1 dash dried basil (and \n",
      "  or dill weed) \n",
      "  1 dash nutmeg \n",
      "  1 dash Worcestershire sauceWHISK together ingredients a deep medium saucepan. \n",
      "  HEAT mixture to boiling while stirring. \n",
      "  REDUCE heat to medium-low. \n",
      "  SIMMER for 15 minutes \n",
      "  stirring occasionally. \n",
      "  SERVE and enjoy. Saffron-Pistachio Semolina Helva (Irmik Helvasi)1/2 teaspoon saffron \n",
      "  crumbled \n",
      "  2 tablespoons hot milk \n",
      "  2 cups milk \n",
      "  1/3 cup unsalted shelled pistachio \n",
      "  1 cup granulated sugar \n",
      "  1/2 cup unsalted butter \n",
      "  1 cup semolinaIn small bowl \n",
      "  soak saffron in 2 tbsp hot milk for 30 minutes. \n",
      "  Meanwhile \n",
      "  heat small skillet over medium then toast pistachios \n",
      "  shaking pan \n",
      "  until fragrant \n",
      "  about 3 to 5 minutes. \n",
      "  Place nuts on paper towels or clean tea towel; cover and rub to remove skins \n",
      "  if desired. \n",
      "  In small saucepan over low heat \n",
      "  dissolve sugar in 2 cups milk. Keep warm. \n",
      "  In medium saucepan \n",
      "  melt butter over low \n",
      "  add semolina and cook \n",
      "  stirring often \n",
      "  until lightly toasted \n",
      "  8 to 10 minutes. \n",
      "  Stir saffron milk into sugared milk. Stir into semolina. Remove pan from heat. Cover; let stand 15 minutes. Stir in pistachios. \n",
      "  Makes 3 cups for 6 servings. Cola-Can Chicken1 (3 1/2 lb) chicken \n",
      "  giblets removed \n",
      "  1 tablespoon vegetable oil \n",
      "  1 (12 ounce) can cola (not diet) \n",
      "  Barbeque Rub Ingredients \n",
      "  1 tablespoon chili powder \n",
      "  2 teaspoons salt \n",
      "  2 teaspoons light brown sugar \n",
      "  1 teaspoon black pepper \n",
      "  1 teaspoon ground cumin \n",
      "  1 teaspoon garlic powder \n",
      "  1/4 teaspoon ground red pepperUsing plain cool water \n",
      "  thoroughly wash chicken and dry. \n",
      "  Combine all ingredients for Barbeque Rub in a small bowl. \n",
      "  Rub oil over skin of chicken. \n",
      "  Sprinkle 1/2 tablespoon of Barbeque Rub inside the chicken body and neck cavity. \n",
      "  Rub 2 tablespoons of Barbeque Rub all over the chicken. \n",
      "  Try to get some rub under the skin where it is loose. \n",
      "  Pour out 3/4 cup of the cola and either drink it or discard it. \n",
      "  Pour remaining 1/2 tablespoon of rub into the cola can. \n",
      "  It may cause the cola to fizz \n",
      "  somewhat. \n",
      "  Holding chicken upright \n",
      "  place it onto the cola can \n",
      "  making sure the can fits deeply into the body cavity. \n",
      "  Pull the legs forward to form a tripod; this will allow the chicken to stand upright during cooking. \n",
      "  Refrigerate chicken and allow to marinate while you get your grill ready. \n",
      "  For charcoal grills: pile your hot coals around the perimeter of the grill leaving the middle open. \n",
      "  Place a drip pan in the middle of the grill. \n",
      "  For gas grills: use only one burner or side. \n",
      "  Place a drip pan on the unlit side. \n",
      "  Place chicken directly onto the drip pan and position it to stand upright. \n",
      "  Grill with lid closed for approximately 1 hour and 15 minutes or longer until meat thermometer register 180 degrees. \n",
      "  NOTE: I used a 4lb chicken and it took 1 1/2 hours. \n",
      "  Remove chicken from grill and let stand about 5 minutes. \n",
      "  Carefully remove cola can from cavity. \n",
      "  It will feel like it is stuck \n",
      "  but do not turn chicken on it's side as the hot cola will spill out. \n",
      "  I held the chicken on both sides and pulled it up while dh was holding onto the cola can. \n",
      "  This worked pretty well. Basil-Mint Pesto4 1/2 cups fresh basil leaves (packed) \n",
      "  1 1/2 cups fresh mint leaves (packed) \n",
      "  3/4 cup chopped walnuts \n",
      "  toasted (almonds \n",
      "  pine nuts or hazelnuts can be substituted) \n",
      "  6 tablespoons parmesan cheese \n",
      "  freshly grated \n",
      "  1 1/2 tablespoons garlic \n",
      "  minced \n",
      "  1 cup extra virgin olive oil \n",
      "  salt \n",
      "  pepperChop the basil \n",
      "  mint and nuts coarsely. Add them along with the Parmesan cheese and garlic to a food processor. \n",
      "  Gradually add the olive oil through the feed tube and process until pesto is well-blended. \n",
      "  Transfer to bowl and season with salt and pepper to taste. \n",
      "  Cover tightly and chill. Bring to room temperature before using. \n",
      "  Yield is estimated. Ginger-Almond Shortbread Cookies1 cup butter \n",
      "  at room temperature \n",
      "  2/3 cup sifted confectioners' sugar \n",
      "  1 teaspoon almond extract \n",
      "  1 1/2 cups all-purpose flour \n",
      "  2 teaspoons ground ginger \n",
      "  1/4 cup finely ground almonds \n",
      "  24 whole almondsPreheat oven to 350\\u00b0. \n",
      "  In a large mixing bowl \n",
      "  cream butter with sugar and almond extract until smooth. \n",
      "  Add flour \n",
      "  ginger \n",
      "  and ground almonds and beat mixture until well combined. \n",
      "  On a floured surface \n",
      "  roll dough out to 1/2-inch thickness. \n",
      "  Cut into two-inch rounds and place 1-inch apart on ungreased cookie sheet. \n",
      "  Press a whole almond into the center of each cookie and bake about 20 minutes or until very lightly colored. \n",
      "  Remove to rack and cool. Summer-Fruit Cobbler - Qa Member 5 tablespoons unsalted butter \n",
      "  sliced \n",
      "  plus more for greasing pan \n",
      "  4 cups (6 to 8) sliced peeled nectarines \n",
      "  1 pint raspberries \n",
      "  2/3 cup granulated sugar \n",
      "  divided \n",
      "  2 tablespoons cornstarch \n",
      "  1 tablespoon fresh lemon juice \n",
      "  3/4 teaspoon salt \n",
      "  divided \n",
      "  1 1/4 cups all-purpose flourRaspberries are packed with polyphenols \n",
      "  which may protect our brains \n",
      "  helping to keep us sharp. Turkey-Mushroom Burgers 1 lb. ground turkey (I don't use the all-white-meat; too tough) \n",
      "  4 oz. chopped mushrooms \n",
      "  about half a box (more or less; I've added a great deal more and still had good results. Shitake \n",
      "  brown \n",
      "  and plain old button all work.) \n",
      "  1 egg \n",
      "  beaten \n",
      "  1/3 cup fresh breadcrumbs \n",
      "  1/4 cup chopped shallot (you can substitute garlic for part or all of the shallot -- all garlic makes a VERY garlicky \n",
      "  vampire-killer of a burger) \n",
      "  1/4 cup dry white wine \n",
      "  salt & pepper \n",
      "  1 tbsp. olive oil \n",
      "  approximateBeat the egg \n",
      "  wine \n",
      "  and salt & pepper together until frothy; stir in shallot and breadcrumbs. Add mushrooms and turkey and squoosh around with your hands until well-mixed. \n",
      "   \n",
      "  Form turkey mixture into six patties \n",
      "  aim for wide and thinnish to make sure they cook all the way through without burning the outside. Heat olive oil in a large pan and saute turkey patties -- flip when underside is brown. Cheese is good melted onto the patties as well. Serve on burger buns (I use whole-grain). Dijon mustard is very nice with these. Lime- And Honey-Glazed Salmon With Basmati And Broccolini 1/4 cup fresh lime juice \n",
      "  2 tablespoons finely grated lime peel \n",
      "  2 tablespoons honey \n",
      "  2 tablespoons chopped fresh cilantro plus additional for sprinkling \n",
      "  4 teaspoons soy sauce \n",
      "  1 tablespoon olive oil \n",
      "  3/4 cup sliced shallots (about 3 large) \n",
      "  1 1/2 cups basmati rice (9 to 10 ounces) \n",
      "  3 1/4 cups (or more) low-salt chicken broth \n",
      "  4 5-to 6-ounce skinless salmon fillets \n",
      "  1 bunch broccolini \n",
      "  bottom inch trimmed \n",
      "  stalks separated if necessaryPreheat oven to 450\\u00b0F. Whisk lime juice \n",
      "  lime peel \n",
      "  honey \n",
      "  2 tablespoons cilantro \n",
      "  and soy sauce in small bowl; set aside. Heat oil in large deep ovenproof skillet or casserole (with lid) over medium-high heat. Add shallots and saute until beginning to soften and brown \n",
      "  about 5 minutes. Stir in rice \n",
      "  then 3 1/4 cups broth; bring to boil. Cover skillet tightly with lid; place in oven and bake 10 minutes (rice will be almost cooked through and most of broth will be absorbed; mix in more broth by 1/4 cupfuls if dry). \n",
      "  Remove skillet from oven. Sprinkle rice lightly with salt. Sprinkle salmon with salt and pepper and arrange on rice \n",
      "  pressing in lightly. Tuck broccolini in around fish \n",
      "  with stems anchored in rice. Spoon 1 tablespoon lime mixture over each salmon fillet. Cover skillet tightly and return to oven; bake until salmon is just opaque in center and broccolini is crisp-tender \n",
      "  8 to 10 minutes. Drizzle remaining lime mixture over fish and rice; sprinkle with additional chopped cilantro and serve from skillet. Lemon-Pepper French (Texas) ToastMeyer Lemon-Pepper Honey \n",
      "  1 1/2 cups honey \n",
      "  1 teaspoon Meyer lemon zest \n",
      "  3 tablespoons Meyer lemon juice \n",
      "  1 teaspoon freshly-cracked black pepper (do not substitute with ground black pepper!) \n",
      "  1 pinch cayenne \n",
      "  Egg Mixture \n",
      "  Bread \n",
      "  Oil for Griddle \n",
      "  2 cups whole milk \n",
      "  6 eggs \n",
      "  1 tablespoon vanilla \n",
      "  1 teaspoon cinnamon \n",
      "  1/4 teaspoon ginger \n",
      "  1/2 teaspoon Meyer lemon zest \n",
      "  2 1/2 tablespoons sugar \n",
      "  12 pieces Texas Toast \n",
      "  preferably stale or dry \n",
      "  Vegetable or peanut oil \n",
      "  for griddleIn small saucepan (or in mug in microwave) \n",
      "  warm Meyer Lemon-Pepper Honey ingredients and keep warm. \n",
      "  Preheat grill (charcoal is preferable; be sure briquettes are spaced evenly and not stacked \n",
      "  and only grill when hot coals are grey \n",
      "  not flaming or red). \n",
      "  Oil a clean \n",
      "  nonstick griddle pan with ridges and place the griddle pan on warm grill to gently preheat for five minutes (don't wait too long or oil will smoke). \n",
      "  Whisk (or blend with immersion blender or food processor) together egg mixture ingredients until frothy. \n",
      "  Submerge each slice of Texas Toast in egg mixture and set on plate. \n",
      "  Depending on your griddle pan size \n",
      "  place as many dipped toast slices on warmed griddle pan as will fit without overcrowding. Watch carefully and flip each slice with spatula after 1-2 minutes on each side (once grill lines form on toast); repeat for remaining slices of toast and set aside. \n",
      "  Sprinkle each slice with powdered sugar and serve with the warm \n",
      "  spiced honey. Mini-Crabcakes With Celery Root - Fennel SlawMini-Crabcakes \n",
      "  1 1/4 cups freshly made breadcrumbs \n",
      "  divided \n",
      "  Zest from 1 lemon \n",
      "  2 teaspoons chopped chives \n",
      "  divided \n",
      "  2 teaspoons chopped fennel leaves \n",
      "  divided \n",
      "  3 tablespoons unsalted butter \n",
      "  1 pound crabmeat \n",
      "  shells removed \n",
      "  1 tablespoon capers \n",
      "  1/4 cup mayonnaise \n",
      "  1 tablespoon dijon mustard \n",
      "  2 teaspoons Italian parsley \n",
      "  1/4-1/2 teaspoons cayenne pepper (optional) \n",
      "  1 teaspoon lemon juice \n",
      "  1 egg \n",
      "  beaten \n",
      "  salt and pepper to taste \n",
      "  Celery Root - Fennel Slaw \n",
      "  1 celery root \n",
      "  peeled and cut into very thin matchsticks \n",
      "  2 small stalks of celery \n",
      "  chopped (about 1/2 cup) \n",
      "  1 small fennel bulb (or 1/2 large bulb) \n",
      "  finely diced \n",
      "  1 tablespoon chopped chives \n",
      "  1 tablespoon chopped fennel leaves \n",
      "  5 scallions \n",
      "  white and light green parts \n",
      "  chopped \n",
      "  2 tablespoons watercress leaves \n",
      "  2 tablespoons apple cider vinegar \n",
      "  1 tablespoon mustard \n",
      "  1/2 cup olive oil \n",
      "  salt and pepper to tastePreheat the oven to 400F. Melt the butter in a pan over medium heat and add 1 cup breadcrumbs \n",
      "  lemon zest \n",
      "  1 teaspoon chives \n",
      "  and 1 teaspoon fennel leaves. Toss around to completely cover the breadcrumbs and to lightly toast them up. Set aside. \n",
      "  In a medium bowl \n",
      "  combine the rest of the breadcrumbs \n",
      "  chives and fennel leaves with the rest of the ingredients starting with the crabmeat. Make sure the ingredients are well combined. \n",
      "  Fill your molds with enough of the breadcrumb mixture to cover the bottom pretty well and tamp down. Fill the rest of the molds with the crabcake mixture and sprinkle a little of the breadcrumb mixture on the top. \n",
      "  Bake for about 20-25 minutes until the crabcakes are set. Remove from the oven and cool enough so the crabcakes can be handled easily. Remove and top with the Celery Root-Fennel Slaw. \n",
      "  Combine the apple cider vinegar and mustard until well mixed. Slowly add the olive oil with a whisk to ensure a good emulsion. Salt and pepper to taste. Set aside. \n",
      "  Combine all other ingredients together in a medium bowl and add 1/2 of the dressing. Toss together to mix really well. Add the rest of the dressing or as much as you want. Mix together really well again. \n",
      "  Pulse in a food processor until you have the consistency you want. Refrigerate for at least 30 minutes to meld the flavors together. \n",
      "  Put a dollop on each Mini-Crabcake when they're plated onto a serving tray. Elote-Style Cornbread WafflesFor the cornbread waffles \n",
      "  1 3/4 cups buttermilk \n",
      "  2 eggs \n",
      "  5 tablespoons butter \n",
      "  melted and cooled \n",
      "  1 1/2 cups all-purpose flour \n",
      "  1 cup yellow cornmeal \n",
      "  2 tablespoons sugar \n",
      "  2 teaspoons baking powder \n",
      "  1 teaspoon baking soda \n",
      "  1 teaspoon salt \n",
      "  For the elote toppings \n",
      "  1 cup mayonnaise \n",
      "  2 garlic cloves \n",
      "  minced \n",
      "  Juice from 1/2 a lime \n",
      "  Cayenne pepper \n",
      "  Chili powder \n",
      "  Paprika \n",
      "  Your favorite hot sauce (I like sriracha \n",
      "  but any would work) \n",
      "  1 cup crumbled cotija (or feta if you can't find cotija) cheeseIn a medium-sized mixing bowl \n",
      "  whisk together the buttermilk \n",
      "  eggs \n",
      "  and melted butter or oil. In a separate bowl \n",
      "  blend together the dry ingredients \n",
      "  then quickly and gently combine the wet and dry ingredients. Let the batter sit for 10 minutes \n",
      "  to allow the cornmeal to soften. \n",
      "  In the meantime \n",
      "  mix the mayo \n",
      "  minced garlic \n",
      "  and lime juice together. Add cayenne pepper \n",
      "  chili powder \n",
      "  paprika \n",
      "  and hot sauce (if using) to taste. \n",
      "  Drop the batter by 1/3-cupfuls onto a hot waffle iron and bake until the waffle iron stops steaming. Top with the spicy mayonnaise and crumbled cheese. Sprinkle on more cayenne pepper and/or chile powder as desired \n",
      "  and serve with lime wedges. Cocoa-And-Chile-Rubbed Pork Chops2 water \n",
      "  1 1/2 teaspoons crushed red pepper \n",
      "  Kosher salt \n",
      "  5 1/2-inch-thick boneless pork loin chops \n",
      "  1 tablespoon unsweetened cocoa powder \n",
      "  1 tablespoon light brown sugar \n",
      "  1 tablespoon pure ancho chile powder \n",
      "  Extra-virgin olive oil for brushingIn a large bowl \n",
      "  combine the water with the red pepper and 1 1/2 teaspoons of salt and stir until the salt dissolves. Add the pork chops and let brine at room temperature for 1 hour. \n",
      "  Light a grill and create a cool zone. (For a charcoal grill \n",
      "  rake the coals to one side; for a gas grill \n",
      "  leave one side unlit.) In a bowl \n",
      "  mix the cocoa \n",
      "  sugar and ancho powder with 1 tablespoon of salt. \n",
      "  Drain the pork chops and pat dry \n",
      "  removing any bits of crushed pepper. Brush generously with olive oil. Roll the pork chops in the cocoa rub and pat to help it adhere. Grill over moderately high heat for 4 minutes \n",
      "  turning the chops once or twice until lightly browned. Transfer the chops to the cool zone \n",
      "  cover and grill for about 15 minutes \n",
      "  until an instant-read thermometer inserted in the center of the chops registers 135\\u00b0 for medium meat. Let the chops rest for 10 minutes before serving. Orange-Tarragon Syrup2 cups sugar \n",
      "  1 cup fresh orange juice \n",
      "  1 cup water \n",
      "  1/2 cup loosely packed fresh tarragon leavesBring sugar \n",
      "  orange juice \n",
      "  water \n",
      "  and tarragon leaves to a boil in a medium saucepan over medium-high heat \n",
      "  stirring just until sugar dissolves. Boil 2 minutes. (Do not stir.) Remove from heat. Press through a wire-mesh strainer into a bowl \n",
      "  using back of a spoon to squeeze out liquid; discard solids. Cool completely (about 30 minutes). Transfer to a jar; cover and refrigerate up to 3 months. Tahini-Glazed Eggplant2 large slender eggplants (about 2 1/2 pounds total) \n",
      "  peeled and sliced \n",
      "  lengthwise 1 1/4 inches thick \n",
      "  1/4 cup plus 1 tablespoon extra-virgin olive oil \n",
      "  Salt and freshly ground pepper \n",
      "  1/2 cup tahini \n",
      "  at room temperature \n",
      "  1 tablespoon honey \n",
      "  2 teaspoons fresh lemon juice \n",
      "  1 large garlic clove \n",
      "  minced \n",
      "  Lemon wedges \n",
      "  for servingPreheat the oven to 500\\u00b0. Brush the eggplant slices with 1/4 cup of the olive oil and arrange them on a large rimmed baking sheet. Season the eggplant with salt and pepper and roast on the bottom shelf of the oven for about 15 minutes \n",
      "  until tender and browned on the bottom. \n",
      "  Meanwhile \n",
      "  in a small bowl \n",
      "  whisk the tahini with the honey \n",
      "  lemon juice \n",
      "  garlic and the remaining 1 tablespoon of olive oil. Season with salt and pepper. \n",
      "  Preheat the broiler. Flip the eggplant slices so the browned side is up and spread them with an even layer of the tahini mixture. Broil the eggplant \n",
      "  rotating the pan as necessary \n",
      "  until the tahini sauce is browned. Serve at once with lemon wedges. Orange-Glazed Hens3 (5- to 7-lb.) whole chickens \n",
      "  2 1/4 teaspoons salt \n",
      "  2 1/4 teaspoons pepper \n",
      "  2 small oranges \n",
      "  quartered \n",
      "  2 small onions \n",
      "  quartered \n",
      "  2 carrots \n",
      "  quartered \n",
      "  2 celery ribs \n",
      "  quartered \n",
      "  3 parsley sprigs \n",
      "  Kitchen string \n",
      "  1 (12-oz.) jar orange marmalade \n",
      "  1/4 cup orange juice \n",
      "  3 tablespoons honey \n",
      "  1 tablespoon lemon juice \n",
      "  1/4 teaspoon ground ginger \n",
      "  1/4 teaspoon crushed red pepper flakes \n",
      "  Garnishes: whole kumquats \n",
      "  fresh rosemary sprigsRemove giblet packages from hens \n",
      "  and reserve for another use. Rinse hens \n",
      "  and pat dry. Remove excess fat and skin. Rub hens evenly with salt and pepper. Squeeze juice from 1 orange quarter into each hen cavity. Fill hen cavities with remaining orange quarters \n",
      "  onions \n",
      "  carrots \n",
      "  celery \n",
      "  and parsley sprigs. Place hens \n",
      "  breast sides up \n",
      "  on a wire rack in an aluminum foil-lined shallow roasting pan. Tie legs together with kitchen string. \n",
      "  Stir together orange marmalade and next 5 ingredients in a small saucepan. Cook mixture over medium heat \n",
      "  stirring constantly \n",
      "  2 to 3 minutes or until orange marmalade is melted. Remove and reserve 3/4 cup mixture. \n",
      "  Bake hens at 350\\u00b0 for 1 1/2 hours; brush evenly with orange glaze \n",
      "  and bake 30 more minutes. Brush with orange glaze; shield with aluminum foil. Bake 15 minutes or until a meat thermometer inserted into thickest portion of thigh registers 170\\u00b0. Garnish \n",
      "  if desired. Serve with reserved 3/4 cup orange mixture. Vedge-Style Vegetable Stock2 teaspoons canola oil \n",
      "  6 carrots \n",
      "  chopped \n",
      "  3 celery stalks with leaves \n",
      "  chopped \n",
      "  2 leeks \n",
      "  rinsed and chopped \n",
      "  2 onions with skins \n",
      "  chopped \n",
      "  1 turnip \n",
      "  chopped \n",
      "  6 quarts water \n",
      "  3 green cabbage leaves \n",
      "  3 cups broccoli stems \n",
      "  2 cups kale stemsHeat a large stockpot over high heat. Add canola oil to pan; swirl to coat. Add carrots \n",
      "  celery \n",
      "  leeks \n",
      "  onions \n",
      "  and turnip to pan; cook \n",
      "  stirring occasionally \n",
      "  3 minutes or until browned and slightly charred. Add water; bring to a boil. Reduce heat to low. Add cabbage leaves \n",
      "  broccoli stems \n",
      "  and kale stems; simmer 25 minutes. Strain; cool. Currant-Glazed Ham Balls1 large egg \n",
      "  beaten \n",
      "  1 slice bread \n",
      "  crumbled \n",
      "  1/3 cup dried cranberries \n",
      "  chopped \n",
      "  1/4 cup finely chopped green onions \n",
      "  1 teaspoon dried parsley flakes \n",
      "  1/4 teaspoon pepper \n",
      "  1/2 pound ground fully cooked ham \n",
      "  1/2 pound ground beef \n",
      "  2/3 cup currant jelly \n",
      "  2 tablespoons prepared mustardIn a bowl \n",
      "  combine the first six ingredients. Crumble ham and beef over mixture and mix well. Shape into 1-in. balls. Place in an ungreased 15x10x1-in. baking pan. Bake \n",
      "  uncovered \n",
      "  at 350\\u00b0 for 15-18 minutes or until meatballs are no longer pink. Remove from pan; drain if needed. \n",
      "  In a large skillet \n",
      "  combine jelly and mustard. Cook and stir over low heat until jelly is melted. Add meatballs. stir to coat. Dark-Chocolate Souffle7 eggs separated \n",
      "  1 teaspoon salt \n",
      "  1 teaspoon cream of tartar \n",
      "  1 cup granulated sugar \n",
      "  1 teaspoon vanilla extract \n",
      "  1 cointreau tbspn \n",
      "  or framboise \n",
      "  6 ounces semisweet chocolate or bittersweet \n",
      "  chopped \n",
      "  melted \n",
      "  whipped cream sweetened to taste \n",
      "  vanilla ice cream or frozen yogurtButter a 6-cup souffle dish \n",
      "  a 10-inch round baking dish \n",
      "  or 8 individual souffle dishes \n",
      "  about 8 ounces each. Dust the bottom and sides of the dishes with sugar. \n",
      "  In a large bowl \n",
      "  beat the egg whites until foamy. Add the salt and cream of tartar and beat until soft peaks form. Gradually add 1/4 cup of the sugar \n",
      "  beating until stiff \n",
      "  glossy peaks form. \n",
      "  In a medium bowl \n",
      "  beat the yolks until thick and pale in color. Beat in the remaining 1/2 cup sugar and the vanilla or liqueur. Stir in the melted chocolate. Fold one-fourth of the beaten egg whites into the chocolate mixture. Fold this mixture into the remaining whites. \n",
      "  Spoon the souffle mixture into the prepared dishes. If making in advance \n",
      "  cover with plastic wrap and let sit at room temperature for up to 1 hour \n",
      "  or refrigerate for up to 24 hours. \n",
      "  Preheat oven to 375 degrees for the large souffle or 400 degrees for individual souffles. Bake the large souffle for 30 to 35 minutes or the individual souffles for 10 to 12 minutes \n",
      "  or until set. Add a few minutes to the baking time if refrigerated. Serve with whipped cream \n",
      "  ice cream \n",
      "  or frozen yogurt. Basil-Crusted Veal Chops1/4 cup minced fresh basil \n",
      "  1/4 cup plus 2 tablespoons fresh breadcrumbs made from crustless French bread \n",
      "  1/4 cup (packed) freshly grated Parmesan cheese \n",
      "  2 tablespoons (1/4 stick) butter \n",
      "  room temperature \n",
      "  2 teaspoons coarse-grained mustard \n",
      "  2 8-ounce veal loin chops (each about 1 1/2 inches thick) \n",
      "  1 tablespoon olive oilPreheat oven to 450F. \n",
      "  Mix basil \n",
      "  1/4 cup breadcrumbs \n",
      "  Parmesan \n",
      "  butter and mustard in small bowl. \n",
      "  Season with salt and pepper. \n",
      "  Pat veal chops dry with paper towels. \n",
      "  Sprinkle with salt and pepper. \n",
      "  Heat oil in heavy large ovenproof skillet over high heat. \n",
      "  Add veal. \n",
      "  Cook until brown \n",
      "  about 1 minute per side. \n",
      "  Remove from heat. \n",
      "  Press basil mixture onto top of veal chops. \n",
      "  Sprinkle 1 tablespoon remaining breadcrumbs over each. \n",
      "  Roast in oven until cooked to desired doneness \n",
      "  about 15 minutes for medium-rare. Double-Onion Dip2 Tbsp. KRAFT Zesty Italian Dressing \n",
      "  1 large yellow onion \n",
      "  chopped (about 2 cups) King Sooper's 1 lb For $0.99 thru 02/09 \n",
      "  1/4 tsp. ground red pepper (cayenne) \n",
      "  1 pkg. (8 oz.) PHILADELPHIA Cream Cheese \n",
      "  softened \n",
      "  1 cup MIRACLE WHIP Dressing Family Dollar $3.50 thru 02/07 \n",
      "  1 green onion \n",
      "  chopped \n",
      "  thin wheat snack crackersHeat Italian dressing in large skillet on medium heat. \n",
      "  Add yellow onions; cook 15 to 20 min. \n",
      "  or until browned and caramelized \n",
      "  stirring occasionally. \n",
      "  Stir in pepper. \n",
      "  Cool. \n",
      "  Mix cream cheese and MIRACLE WHIP in medium bowl until blended. \n",
      "  Add caramelized onions and green onions; mix well. \n",
      "  Serve with crackers. Oatmeal - Old Fashioned3 cups water \n",
      "  2 cups rolled oats \n",
      "  1 tablespoon butter \n",
      "  1 teaspoon cinnamon \n",
      "  1 -3 tablespoon honey (to taste)Put water into a medium saucepan. \n",
      "  Add oats \n",
      "  butter & cinnamon. \n",
      "  Heat mixture over high heat - stirring often - until it begins to bubble. \n",
      "  Reduce heat to low. \n",
      "  Stir in honey - or your preferred sweetener. \n",
      "  Let the oatmeal cook over low heat until it has reached the desired thickness. \n",
      "  (The longer you cook it \n",
      "  the thicker it will get). Honey-Orange Glazed Carrots2 lb. (900 g) baby carrots King Sooper's 1 lb For $0.99 thru 02/09 \n",
      "  1/4 cup orange juice \n",
      "  1 Tbsp. brown sugar \n",
      "  2 Tbsp. honey \n",
      "  3 Tbsp. (about 1/2 of 85-g pkg.) Jell-O Orange Jelly Powder \n",
      "  1 Tbsp. butter \n",
      "  1 Tbsp. finely chopped fresh parsleyCook carrots in boiling water in large saucepan 8 to 10 min. \n",
      "  or until crisp-tender. \n",
      "  Drain \n",
      "  reserving 1/4 cup cooking water. \n",
      "  Pour reserved cooking water into large skillet. \n",
      "  Add orange juice \n",
      "  sugar and honey; stir. \n",
      "  Bring just to boil \n",
      "  stirring occasionally. \n",
      "  Add dry jelly powder; stir 2 min. \n",
      "  until completely dissolved. \n",
      "  Add butter and carrots; cook 2 to 3 min. \n",
      "  or until carrots are glazed and tender \n",
      "  stirring frequently. \n",
      "  Use slotted spoon to transfer carrots to platter; top with sauce. \n",
      "  Sprinkle with parsley. Indian-Spiced Zucchini-Coconut Soup1 teaspoon olive oil \n",
      "  1 medium onion \n",
      "  peeled and chopped \n",
      "  2 cloves garlic \n",
      "  peeled and chopped \n",
      "  4 medium zucchini \n",
      "  cut into 1/2-inch dice \n",
      "  1 teaspoon ground cumin \n",
      "  1/2 teaspoon turmeric \n",
      "  Pinch cayenne \n",
      "  1 1/2 teaspoons kosher salt \n",
      "  Freshly ground pepper to taste \n",
      "  1 1/2 cups chicken broth \n",
      "  homemade or low-sodium canned \n",
      "  1/2 cup unsweetened coconut milk \n",
      "  2 teaspoons chopped fresh cilantro \n",
      "  2 teaspoons chopped fresh mint \n",
      "  1/2 teaspoon grated orange zest \n",
      "  1 teaspoon grated unsweetened coconutHeat the oil in a large pot over medium heat. \n",
      "  Add the onion and garlic and cook for 5 minutes. \n",
      "  Add the zucchini and cook for 5 minutes. \n",
      "  Stir in the cumin \n",
      "  turmeric \n",
      "  cayenne \n",
      "  salt and pepper. \n",
      "  Stir in the broth and coconut milk. \n",
      "  Bring to a boil. \n",
      "  Reduce heat and simmer until zucchini is soft \n",
      "  about 25 minutes. \n",
      "  Scrape the soup into a blender and process until smooth. \n",
      "  Place in a saucepan over low heat just until hot. \n",
      "  Combine the cilantro \n",
      "  mint and orange zest in a small bowl. \n",
      "  Divide soup among 4 bowls. \n",
      "  Sprinkle with the grated coconut and then the herb mixture. \n",
      "  Serve immediately. Banakiwi-Berry Glass1 medium banana \n",
      "  1 medium kiwi \n",
      "  4 tablespoons Fiber One cereal \n",
      "  12 blueberriesPut the banana in a food processor and run it until the banana is completely creamy-liquid. \n",
      "  Put half of that in a tall wine-glass. \n",
      "  Then peel the kiwi \n",
      "  cut it in little pieces and put half of it on the top. \n",
      "  Put 2 tbsp of Fibre 1 on the top. \n",
      "  Then repeat with the other half of the banana \n",
      "  the other half of the kiwi and 2 more tbsp of the cereal. \n",
      "  Top with blueberries. \n",
      "  Wait for about 5 minutes for the flavours to mix a bit and for the cereal to turn a bit softer. \n",
      "  Or you can eat it immediatly \n",
      "  it's good too. \n",
      "  That's it. \n",
      "  Quick \n",
      "  fun and delicious! \n",
      "  Enjoy ;). Aquavit-Marinated Shrimp1/2 cup aquavit \n",
      "  2 tablespoons yellow mustard seeds \n",
      "  1 tablespoon whole coriander seeds \n",
      "  crushed \n",
      "  1 tablespoon sugar \n",
      "  2 teaspoons whole allspice \n",
      "  2 bay leaves \n",
      "  2 teaspoons plus 2 tablespoons Dijon mustard \n",
      "  1/2 cup chopped fresh dill plus 1 bunch fresh dill sprigs \n",
      "  4 cups water \n",
      "  2 pounds uncooked large shrimp \n",
      "  peeled \n",
      "  tails intact \n",
      "  deveined \n",
      "  1/3 cup fat-free mayonnaise \n",
      "  1 cup yellow teardrop tomatoes \n",
      "  1 cup small cherry tomatoesCombine first 6 ingredients in large bowl. \n",
      "  Stir in 2 teaspoons Dijon mustard and 1/4 cup chopped dill. \n",
      "  Set marinade aside. \n",
      "  Place 1/4 cup chopped dill in medium saucepan. \n",
      "  Add 4 cups water. \n",
      "  Bring to boil. \n",
      "  Stir in shrimp. \n",
      "  Remove from heat. \n",
      "  Let stand until shrimp are opaque in center \n",
      "  about 2 minutes. \n",
      "  Drain shrimp; reserve 1/4 cup cooking liquid. \n",
      "  Stir reserved cooking liquid into marinade. \n",
      "  Add shrimp. \n",
      "  Cover; chill 2 hours \n",
      "  tossing occasionally. \n",
      "  Drain; reserve 3 tablespoons marinade. \n",
      "  Mix mayonnaise \n",
      "  2 tablespoons Dijon mustard and 3 tablespoons marinade in small bowl. \n",
      "  Season with salt and pepper. \n",
      "  (Shrimp and sauce can be made 6 hours ahead. \n",
      "  Chill separately.) \n",
      "  Arrange dill sprigs on platter. \n",
      "  Arrange shrimp and tomatoes atop dill. \n",
      "  Serve with sauce. Down-Home Cheesy Bacon Chicken2 slices OSCAR MAYER Bacon \n",
      "  chopped Rite Aid 2 For $7.00 thru 02/06 \n",
      "  4 small boneless skinless chicken breasts (1 lb.) \n",
      "  1/4 lb. (4 oz.) VELVEETA \n",
      "  cut into1/2-inch cubes \n",
      "  2 Tbsp. fat-free reduced-sodium chicken brothCook and stir bacon in large skillet on medium heat until crisp. \n",
      "  Remove bacon from skillet with slotted spoon; drain on paper towels. \n",
      "  Discard all but 1 Tbsp. \n",
      "  drippings. \n",
      "  Add chicken to drippings in skillet; cook on medium heat 6 to 7 min. \n",
      "  on each side or until done (165F). \n",
      "  Meanwhile \n",
      "  combine VELVEETA and chicken broth in small saucepan; cook on medium-low heat 2 to 3 min. \n",
      "  or until VELVEETA is melted and sauce is blended \n",
      "  stirring constantly. \n",
      "  Spoon over chicken; sprinkle with bacon. Asian-style Beef Skewers with Rice Noodles6 Tablespoons Low Sodium Soy Sauce \n",
      "  13 cups Sugar \n",
      "  2 Tablespoons Thai Chili Sauce \n",
      "  1 Tablespoon Vegetable Oil \n",
      "  1 Tablespoon Lime Juice \n",
      "  1 pound Top Sirloin Steak \n",
      "  Sliced Against The Grain Into Thin Strips \n",
      "  1/2 cups Water \n",
      "  8 ounces \n",
      "  weight Rice Sticks \n",
      "  3 Tablespoons Thinly Shredded Green Onions1. \n",
      "  Combine soy sauce \n",
      "  sugar \n",
      "  chili sauce \n",
      "  oil \n",
      "  and lime juice in a zip top bag. \n",
      "  Add beef to the bag; seal. \n",
      "  Marinate at room temperature for 30 minutes \n",
      "  turning once. \n",
      "  Remove steak from bag; reserve marinade. \n",
      "  2. \n",
      "  Thread steak evenly onto skewers. \n",
      "  Grill 2 minutes on each side or until desired degree of doneness. \n",
      "  3. \n",
      "  Combine reserved marinade and water in a small saucepan; bring to a boil. \n",
      "  Cook 1 minute. \n",
      "  4. \n",
      "  Soak noodles in boiling water until tender; drain. \n",
      "  Place noodles in a large bowl. \n",
      "  Pour reserved marinade mixture over the noodles. \n",
      "  Garnish with onions. \n",
      "  Serve with skewers. Quick-Fix Steak And Lemon-Pepper Potatoes1 cup salad dressing \n",
      "  italian \n",
      "  2 tablespoons soy sauce \n",
      "  tamari \n",
      "  1 1/2 pound beef \n",
      "  flank steak (london broil) \n",
      "  4 each potatoes cut into 2 inch chunks \n",
      "  1 1/2 tablespoon butter or margarine \n",
      "  cut into small pieces \n",
      "  1 1/2 tablespoon lemon juice fresh \n",
      "  1 teaspoon garlic minced \n",
      "  1 tablespoon parsley leaves fresh \n",
      "  chopped \n",
      "  1 1/2 teaspoon lemon zest grated \n",
      "  1/2 teaspoon black pepper \n",
      "  1 x salt to tasteIn shallow dish or pan mix together dressing and soy sauce. \n",
      "  Add steak \n",
      "  turning to coat; cover and refrigerate at least 20 minutes. \n",
      "  Meanwhile \n",
      "  place potatoes \n",
      "  butter \n",
      "  lemon juice and garlic in shallow 1 1/2 to 2 quart microwave-safe dish; toss. \n",
      "  Cover with plastic wrap \n",
      "  venting one corner. \n",
      "  Microwave on HIGH 12 to 16 minutes until just tender. \n",
      "  Meanwhile \n",
      "  heat broiler 10 minutes. \n",
      "  Remove steak from marinade. \n",
      "  Broil 4 to 5 inches from heat source 5 to 10 minutes on each side to desired doneness. \n",
      "  While steak cooks \n",
      "  mix parsley \n",
      "  lemon peel and pepper into cooked potatoes. \n",
      "  Season with salt and microwave on HIGH about 1 minute until hot. \n",
      "  Slice meat diagonally across the grain into thin slices. \n",
      "  Serve with potatoes. \n",
      "  NOTE: Microwave cooking times are based on a 700-watt microwave. \n",
      "  Adjust cooking times to your own oven. \n",
      "  Menu: Caesar Salad \n",
      "  Raspberry Frozen Yogurt Nutritional Information Per Serving: 580 calories; 33 g fat; 140 mg cholesterol; 850 mg sodium; 28 g carbohydrate; 3 g fiber; 44 g protein. Izakaya-Style Okara, Vegetable, Mayonnaise and Miso Salad80 grams Fresh okara \n",
      "  45 grams Carrot \n",
      "  1/2 Cucumber \n",
      "  35 grams Ham \n",
      "  1/2 tsp Rice vinegar \n",
      "  1 heaping teaspoon Awase miso (blended red and white miso) \n",
      "  4 heaping tablespoons Mayonnaise \n",
      "  1 tsp Soy saucePeel the carrots and slice thinly using a slicer (mandoline). \n",
      "  Boil briefly in salted water and drain. \n",
      "  Sprinkle the cucumber with salt and roll firmly on a cutting board. \n",
      "  Wash under running water and wipe well \n",
      "  then finely julienne. \n",
      "  Julienne the ham also. \n",
      "  Mix the ingredients together. \n",
      "  Add the fresh okara. \n",
      "  Done! Sugar-Pumpkin Puree1 sugar pumpkinSet a steamer basket in a saucepan filled with 1 inch water. \n",
      "  Cover; bring to a boil. \n",
      "  Add pumpkin. \n",
      "  Cover; cook until very tender \n",
      "  about 15 minutes. \n",
      "  Puree in a food processor until smooth. Monkfish2 lbs (.9 kg) monkfish \n",
      "  in large whole filets \n",
      "  skin and membranes removed \n",
      "  2 tbsp (30 ml) olive oil \n",
      "  3 lg garlic cloves \n",
      "  minced \n",
      "  3 lg red bell peppers \n",
      "  cored \n",
      "  seeded \n",
      "  cut into lengthwise strips \n",
      "  3/4 cup (175 ml) whole almonds \n",
      "  toasted \n",
      "  1/2 tsp (2 ml) saffron threads \n",
      "  1/2 cup (125 ml) dry white wine \n",
      "  1/2 cup (125 ml) fish stock \n",
      "  1/2 tsp (2 ml) salt \n",
      "  1/2 tsp (2 ml) white pepper \n",
      "  or to taste \n",
      "  1 oz (28 grm) sliced almonds \n",
      "  toasted \n",
      "  for garnishPreheat the oven to 350 degrees (175 C.). \n",
      "  Bake the fish in a buttered baking pan for 15 minutes. \n",
      "  Let cool. \n",
      "  Cut into medallions and set aside. \n",
      "  Reserve the baking juice. \n",
      "  Heat the oil in a large skillet; add the garlic and peppers \n",
      "  and saute over low heat for 20 minutes \n",
      "  stirring occasionally. \n",
      "  Grind whole almonds finely in a food processor and add to the skillet with the saffron \n",
      "  wine \n",
      "  stock \n",
      "  reserved fish juices \n",
      "  salt and pepper. \n",
      "  Cook over medium heat for 5 minutes. \n",
      "  Transfer to a blender or food processor and puree. \n",
      "  Return the sauce to the skillet \n",
      "  add the fish medallions \n",
      "  and heat through. \n",
      "  Serve immediately \n",
      "  with sliced almonds sprinkled on top. Korean-Style Steak and Lettuce Wraps1 lb flank steak \n",
      "  14 teaspoon salt (or to taste) \n",
      "  14 teaspoon pepper (or to taste) \n",
      "  1 cup diced peeled cucumber \n",
      "  6 cherry tomatoes \n",
      "  halved \n",
      "  14 cup thinly sliced shallot \n",
      "  1 tablespoon finely chopped of fresh mint \n",
      "  1 tablespoon finely chopped fresh basil \n",
      "  1 tablespoon finely chopped fresh cilantro \n",
      "  1 tablespoon brown sugar \n",
      "  2 tablespoons light soy sauce \n",
      "  2 tablespoons lime juice \n",
      "  12 teaspoon crushed red pepper flakes \n",
      "  1 head bibb lettuce \n",
      "  leaves separatedPreheat grill to medium-high. \n",
      "  Sprinkle steak with salt and pepper. \n",
      "  Oil grill rack; grill the steak for 6-8 minutes per side for medium. \n",
      "  Transfer steak to a cutting board; let steak rest for 5 minutes \n",
      "  then cut across the grain into thin slices. \n",
      "  In a bowl \n",
      "  combine the sliced steak \n",
      "  cucumber \n",
      "  tomatoes \n",
      "  shallot \n",
      "  mint \n",
      "  basil \n",
      "  and cilantro. \n",
      "  In a small bowl \n",
      "  mix the sugar \n",
      "  soy sauce \n",
      "  lime juice \n",
      "  and crushed red pepper flakes; drizzle over the steak mixture; toss to coat. \n",
      "  Serve: spoon a portion of the steak mixture into a lettuce leaf and roll up like a wrap.\n"
     ]
    }
   ],
   "source": [
    "print(*df_almost_total.loc[mask, 'raw_text'].tolist())"
   ]
  },
  {
   "cell_type": "code",
   "execution_count": 114,
   "metadata": {},
   "outputs": [],
   "source": [
    "partial_list = df_almost_total.loc[mask, 'raw_text'].apply(lambda x: fix_titles(x))"
   ]
  },
  {
   "cell_type": "code",
   "execution_count": 116,
   "metadata": {},
   "outputs": [],
   "source": [
    "new_mask = partial_list.apply(lambda x: len(x) > 0)"
   ]
  },
  {
   "cell_type": "code",
   "execution_count": 117,
   "metadata": {},
   "outputs": [
    {
     "data": {
      "text/plain": [
       "73"
      ]
     },
     "execution_count": 117,
     "metadata": {},
     "output_type": "execute_result"
    }
   ],
   "source": [
    "sum(new_mask)"
   ]
  },
  {
   "cell_type": "code",
   "execution_count": 118,
   "metadata": {},
   "outputs": [
    {
     "data": {
      "text/plain": [
       "301                65. Recipe: Vegan No-Bake Energy Bites\n",
       "588                         8. Oven-Baked Zucchini Fries \n",
       "612                           32. Quinoa-Stuffed Avocado \n",
       "1314    10. Falafel - 250 calories per portion, 4 port...\n",
       "1899    44. Edamame: 100 calories per portion, 1 porti...\n",
       "                              ...                        \n",
       "7081    Quick-Fix Steak And Lemon-Pepper Potatoes1 cup...\n",
       "7110    Izakaya-Style Okara, Vegetable, Mayonnaise and...\n",
       "7121    Sugar-Pumpkin Puree1 sugar pumpkinSet a steame...\n",
       "7126                      Monkfish2 lbs (.9 kg) monkfish \n",
       "7174    Korean-Style Steak and Lettuce Wraps1 lb flank...\n",
       "Name: raw_text, Length: 73, dtype: object"
      ]
     },
     "execution_count": 118,
     "metadata": {},
     "output_type": "execute_result"
    }
   ],
   "source": [
    "partial_list[new_mask]"
   ]
  },
  {
   "cell_type": "code",
   "execution_count": null,
   "metadata": {},
   "outputs": [],
   "source": [
    "fix_list = [\"Vegan No-Bake Energy Bites\",\n",
    "    \"Oven-Baked Zucchini Fries\",\n",
    "    \"Quinoa-Stuffed Avocado\",\n",
    "    \"Falafel\",\n",
    "    \"Low-Calorie Veggie Stir-Fry\",\n",
    "    \"Greek-style baked beans\",\n",
    "    \"American-style stacked pancakes\",\n",
    "    \"Oat Bars\",\n",
    "    \"Muesli\",\n",
    "    \"Samosas\", \n",
    "    'Frittata', \n",
    "    'Caprese-stuffed garlic bread',\n",
    "    'Lemon-garlic roasted chickpeas',\n",
    "    'Gazpacho',\n",
    "    'Veggie-Stuffed Pita Pockets',\n",
    "    'Caponata'\n",
    "    \n",
    "]"
   ]
  },
  {
   "cell_type": "code",
   "execution_count": null,
   "metadata": {},
   "outputs": [],
   "source": []
  },
  {
   "cell_type": "code",
   "execution_count": 111,
   "metadata": {},
   "outputs": [
    {
     "data": {
      "text/plain": [
       "['Vegan No',\n",
       " 'Oven',\n",
       " 'Quinoa',\n",
       " 'Falafel',\n",
       " 'Low',\n",
       " 'Greek',\n",
       " 'American',\n",
       " 'Edamame',\n",
       " 'Oat Bars',\n",
       " 'Muesli',\n",
       " 'Samosas',\n",
       " 'Frittata',\n",
       " 'Caprese',\n",
       " 'Lemon',\n",
       " 'Gazpacho',\n",
       " 'Veggie',\n",
       " 'Caponata',\n",
       " 'Indian',\n",
       " 'German',\n",
       " 'Pan',\n",
       " 'Energy',\n",
       " 'Turkish',\n",
       " 'Moroccan',\n",
       " 'Banana',\n",
       " 'Bacon',\n",
       " 'No',\n",
       " 'Pad Thai',\n",
       " 'Honey',\n",
       " 'Herb',\n",
       " 'Stir',\n",
       " 'Mexican',\n",
       " 'Israeli',\n",
       " 'Yogurt',\n",
       " 'Dairy',\n",
       " 'Gluten',\n",
       " 'Popcorn',\n",
       " 'Hummus',\n",
       " '3',\n",
       " 'Mujadara',\n",
       " 'Sushi',\n",
       " 'Halva',\n",
       " 'Ceviche',\n",
       " 'Borscht',\n",
       " 'Chili',\n",
       " 'Three',\n",
       " 'Italian',\n",
       " 'Muffins',\n",
       " 'Quiche',\n",
       " 'Fritters',\n",
       " 'Beignets',\n",
       " 'Porridge',\n",
       " 'Miso',\n",
       " 'One',\n",
       " 'Congee',\n",
       " 'Scones',\n",
       " 'Paratha',\n",
       " ' Congee',\n",
       " ' Stir',\n",
       " ' Arepas',\n",
       " ' Arepas',\n",
       " ' Cachapa',\n",
       " ' Ceviche',\n",
       " ' Ceviche',\n",
       " ' Humitas',\n",
       " ' Moqueca',\n",
       " ' Stir',\n",
       " 'Lentil',\n",
       " 'Onion',\n",
       " 'Oven',\n",
       " 'Garlic',\n",
       " 'Ginger',\n",
       " 'Chic',\n",
       " 'Drommar',\n",
       " 'Chili',\n",
       " 'Soup',\n",
       " 'Just',\n",
       " 'Almost',\n",
       " 'Saffron',\n",
       " 'Cola',\n",
       " 'Basil',\n",
       " 'Ginger',\n",
       " 'Summer',\n",
       " 'Turkey',\n",
       " 'Lime',\n",
       " 'Lemon',\n",
       " 'Mini',\n",
       " 'Elote',\n",
       " 'Cocoa',\n",
       " 'Orange',\n",
       " 'Tahini',\n",
       " 'Orange',\n",
       " 'Vedge',\n",
       " 'Currant',\n",
       " 'Dark',\n",
       " 'Basil',\n",
       " 'Double',\n",
       " 'Oatmeal ',\n",
       " 'Honey',\n",
       " 'Indian',\n",
       " 'Banakiwi',\n",
       " 'Aquavit',\n",
       " 'Down',\n",
       " 'Asian',\n",
       " 'Quick',\n",
       " 'Izakaya',\n",
       " 'Sugar',\n",
       " 'Monkfish',\n",
       " 'Korean']"
      ]
     },
     "execution_count": 111,
     "metadata": {},
     "output_type": "execute_result"
    }
   ],
   "source": [
    "df_almost_total.loc[mask, 'raw_text'].tolist()"
   ]
  },
  {
   "cell_type": "code",
   "execution_count": null,
   "metadata": {},
   "outputs": [],
   "source": []
  },
  {
   "cell_type": "code",
   "execution_count": null,
   "metadata": {},
   "outputs": [],
   "source": []
  },
  {
   "cell_type": "code",
   "execution_count": null,
   "metadata": {},
   "outputs": [],
   "source": []
  },
  {
   "cell_type": "code",
   "execution_count": 57,
   "metadata": {},
   "outputs": [],
   "source": [
    "dff = pd.read_csv(\"/home/victor/Documents/Expectation_data_generation/df_ingredients_187_raw_new.csv\",\n",
    "                  sep='|',\n",
    "                  index_col=0)"
   ]
  },
  {
   "cell_type": "code",
   "execution_count": 58,
   "metadata": {},
   "outputs": [
    {
     "data": {
      "text/plain": [
       "(185, 2)"
      ]
     },
     "execution_count": 58,
     "metadata": {},
     "output_type": "execute_result"
    }
   ],
   "source": [
    "dff.shape"
   ]
  },
  {
   "cell_type": "code",
   "execution_count": 66,
   "metadata": {},
   "outputs": [],
   "source": [
    "# get ingredients \n",
    "def get_ingredients(text: str):\n",
    "    answer = []\n",
    "    values = text.split(\"\\n\\n\")\n",
    "    for val in values:\n",
    "        if \"Ingredients:\" in val or '-' in val:\n",
    "            answer.append(val)\n",
    "    return answer"
   ]
  },
  {
   "cell_type": "code",
   "execution_count": 67,
   "metadata": {},
   "outputs": [],
   "source": [
    "dff['list_ingredients'] = dff['raw_text'].apply(lambda x: get_ingredients(x))"
   ]
  },
  {
   "cell_type": "code",
   "execution_count": 92,
   "metadata": {},
   "outputs": [
    {
     "data": {
      "text/plain": [
       "183"
      ]
     },
     "execution_count": 92,
     "metadata": {},
     "output_type": "execute_result"
    }
   ],
   "source": [
    "mask = dff['list_ingredients'].apply(lambda x: len(x) > 0)\n",
    "sum(mask)"
   ]
  },
  {
   "cell_type": "code",
   "execution_count": 94,
   "metadata": {},
   "outputs": [],
   "source": [
    "dff.loc[mask, 'ingredients']=dff.loc[mask, 'list_ingredients'].apply(lambda x: x[0])"
   ]
  },
  {
   "cell_type": "code",
   "execution_count": 95,
   "metadata": {},
   "outputs": [],
   "source": [
    "dff_to_fix = dff.loc[mask, :]"
   ]
  },
  {
   "cell_type": "code",
   "execution_count": 96,
   "metadata": {},
   "outputs": [
    {
     "data": {
      "text/plain": [
       "(183, 4)"
      ]
     },
     "execution_count": 96,
     "metadata": {},
     "output_type": "execute_result"
    }
   ],
   "source": [
    "dff_to_fix.shape"
   ]
  },
  {
   "cell_type": "code",
   "execution_count": 99,
   "metadata": {},
   "outputs": [
    {
     "name": "stdout",
     "output_type": "stream",
     "text": [
      "found: 1\n",
      "fixed\n",
      "found: 1\n",
      "fixed\n",
      "found: 1\n",
      "fixed\n",
      "found: 1\n",
      "fixed\n",
      "found: 1\n",
      "fixed\n",
      "found: 1\n",
      "fixed\n",
      "found: 1\n",
      "fixed\n",
      "found: 1\n",
      "fixed\n",
      "found: 1\n",
      "fixed\n",
      "found: 1\n",
      "fixed\n",
      "found: 1\n",
      "fixed\n",
      "found: 1\n",
      "fixed\n",
      "found: 1\n",
      "fixed\n",
      "found: 1\n",
      "fixed\n",
      "found: 1\n",
      "fixed\n",
      "found: 1\n",
      "fixed\n",
      "found: 1\n",
      "fixed\n",
      "found: 1\n",
      "fixed\n",
      "found: 1\n",
      "fixed\n",
      "found: 1\n",
      "fixed\n",
      "found: 1\n",
      "fixed\n",
      "found: 1\n",
      "fixed\n",
      "found: 1\n",
      "fixed\n",
      "found: 1\n",
      "fixed\n",
      "found: 1\n",
      "fixed\n",
      "found: 1\n",
      "fixed\n",
      "found: 1\n",
      "fixed\n",
      "found: 1\n",
      "fixed\n",
      "found: 1\n",
      "fixed\n",
      "found: 1\n",
      "fixed\n",
      "found: 1\n",
      "fixed\n",
      "found: 3\n",
      "found: 1\n",
      "fixed\n",
      "found: 2\n",
      "found: 1\n",
      "fixed\n",
      "found: 1\n",
      "fixed\n",
      "found: 1\n",
      "fixed\n",
      "found: 1\n",
      "fixed\n",
      "found: 1\n",
      "fixed\n",
      "found: 1\n",
      "fixed\n",
      "found: 1\n",
      "fixed\n",
      "found: 1\n",
      "fixed\n",
      "found: 5\n",
      "found: 4\n",
      "found: 1\n",
      "fixed\n",
      "found: 1\n",
      "fixed\n",
      "found: 1\n",
      "fixed\n",
      "found: 2\n",
      "found: 2\n",
      "found: 1\n",
      "fixed\n",
      "found: 2\n",
      "found: 1\n",
      "fixed\n",
      "found: 2\n",
      "found: 1\n",
      "fixed\n",
      "found: 2\n",
      "found: 1\n",
      "fixed\n",
      "found: 1\n",
      "fixed\n",
      "found: 2\n",
      "found: 1\n",
      "fixed\n",
      "found: 1\n",
      "fixed\n",
      "found: 1\n",
      "fixed\n",
      "found: 1\n",
      "fixed\n",
      "found: 1\n",
      "fixed\n",
      "found: 1\n",
      "fixed\n",
      "found: 1\n",
      "fixed\n",
      "found: 1\n",
      "fixed\n",
      "found: 1\n",
      "fixed\n",
      "found: 1\n",
      "fixed\n",
      "found: 1\n",
      "fixed\n",
      "found: 1\n",
      "fixed\n",
      "found: 1\n",
      "fixed\n",
      "found: 1\n",
      "fixed\n",
      "found: 1\n",
      "fixed\n",
      "found: 1\n",
      "fixed\n",
      "found: 1\n",
      "fixed\n",
      "found: 1\n",
      "fixed\n",
      "found: 1\n",
      "fixed\n",
      "found: 2\n",
      "found: 1\n",
      "fixed\n",
      "found: 1\n",
      "fixed\n",
      "found: 2\n",
      "found: 1\n",
      "fixed\n",
      "found: 1\n",
      "fixed\n",
      "found: 2\n",
      "found: 1\n",
      "fixed\n",
      "found: 2\n",
      "found: 1\n",
      "fixed\n",
      "found: 1\n",
      "fixed\n",
      "found: 1\n",
      "fixed\n",
      "found: 2\n",
      "found: 2\n",
      "found: 1\n",
      "fixed\n",
      "found: 1\n",
      "fixed\n",
      "found: 1\n",
      "fixed\n",
      "found: 1\n",
      "fixed\n",
      "found: 1\n",
      "fixed\n",
      "found: 1\n",
      "fixed\n",
      "found: 1\n",
      "fixed\n",
      "found: 1\n",
      "fixed\n",
      "found: 1\n",
      "fixed\n",
      "found: 1\n",
      "fixed\n",
      "found: 1\n",
      "fixed\n",
      "found: 1\n",
      "fixed\n",
      "found: 1\n",
      "fixed\n",
      "found: 1\n",
      "fixed\n",
      "found: 1\n",
      "fixed\n",
      "found: 1\n",
      "fixed\n",
      "found: 1\n",
      "fixed\n",
      "found: 1\n",
      "fixed\n",
      "found: 1\n",
      "fixed\n",
      "found: 1\n",
      "fixed\n",
      "found: 1\n",
      "fixed\n",
      "found: 1\n",
      "fixed\n",
      "found: 1\n",
      "fixed\n",
      "found: 1\n",
      "fixed\n",
      "found: 1\n",
      "fixed\n",
      "found: 1\n",
      "fixed\n",
      "found: 1\n",
      "fixed\n",
      "found: 1\n",
      "fixed\n",
      "found: 1\n",
      "fixed\n",
      "found: 1\n",
      "fixed\n",
      "found: 1\n",
      "fixed\n",
      "found: 1\n",
      "fixed\n",
      "found: 1\n",
      "fixed\n",
      "found: 1\n",
      "fixed\n",
      "found: 1\n",
      "fixed\n",
      "found: 2\n",
      "found: 1\n",
      "fixed\n",
      "found: 1\n",
      "fixed\n",
      "found: 2\n",
      "found: 1\n",
      "fixed\n",
      "found: 1\n",
      "fixed\n",
      "found: 1\n",
      "fixed\n",
      "found: 1\n",
      "fixed\n",
      "found: 1\n",
      "fixed\n",
      "found: 3\n",
      "found: 1\n",
      "fixed\n",
      "found: 1\n",
      "fixed\n",
      "found: 1\n",
      "fixed\n",
      "found: 1\n",
      "fixed\n",
      "found: 1\n",
      "fixed\n",
      "found: 1\n",
      "fixed\n",
      "found: 1\n",
      "fixed\n",
      "found: 1\n",
      "fixed\n",
      "found: 1\n",
      "fixed\n",
      "found: 1\n",
      "fixed\n",
      "found: 1\n",
      "fixed\n",
      "found: 1\n",
      "fixed\n",
      "found: 1\n",
      "fixed\n",
      "found: 1\n",
      "fixed\n",
      "found: 1\n",
      "fixed\n",
      "found: 1\n",
      "fixed\n",
      "found: 1\n",
      "fixed\n",
      "found: 1\n",
      "fixed\n",
      "found: 1\n",
      "fixed\n",
      "found: 1\n",
      "fixed\n",
      "found: 1\n",
      "fixed\n",
      "found: 1\n",
      "fixed\n",
      "found: 1\n",
      "fixed\n",
      "found: 1\n",
      "fixed\n",
      "found: 1\n",
      "fixed\n",
      "found: 1\n",
      "fixed\n",
      "found: 1\n",
      "fixed\n",
      "found: 1\n",
      "fixed\n",
      "found: 1\n",
      "fixed\n",
      "found: 1\n",
      "fixed\n",
      "found: 1\n",
      "fixed\n",
      "found: 1\n",
      "fixed\n",
      "found: 1\n",
      "fixed\n",
      "found: 1\n",
      "fixed\n",
      "found: 1\n",
      "fixed\n",
      "found: 1\n",
      "fixed\n",
      "found: 1\n",
      "fixed\n",
      "found: 1\n",
      "fixed\n",
      "found: 1\n",
      "fixed\n",
      "found: 1\n",
      "fixed\n",
      "found: 1\n",
      "fixed\n",
      "found: 1\n",
      "fixed\n",
      "found: 2\n",
      "found: 2\n",
      "found: 1\n",
      "fixed\n",
      "found: 1\n",
      "fixed\n",
      "found: 1\n",
      "fixed\n"
     ]
    }
   ],
   "source": [
    "for idx, title in enumerate(dff_to_fix['title'].tolist()):\n",
    "    new_mask = df_almost_total['title'] == title\n",
    "    print(f\"found: {sum(new_mask)}\")\n",
    "    if sum(new_mask) == 1:\n",
    "        print(\"fixed\")\n",
    "        df_almost_total.loc[new_mask, 'ingredients'] = dff.loc[idx, 'ingredients']\n",
    "    elif sum(new_mask) > 1:\n",
    "         df_almost_total.loc[new_mask, 'ingredients'] = dff.loc[idx, 'ingredients']\n",
    "        "
   ]
  },
  {
   "cell_type": "code",
   "execution_count": 83,
   "metadata": {},
   "outputs": [],
   "source": [
    "mask = df_almost_total['title'].str.contains('\"Sun')"
   ]
  },
  {
   "cell_type": "code",
   "execution_count": 86,
   "metadata": {},
   "outputs": [],
   "source": [
    "df_almost_total.loc[mask, 'title'] = '\"Sun Dried\" Tomatoes'"
   ]
  },
  {
   "cell_type": "code",
   "execution_count": 85,
   "metadata": {},
   "outputs": [
    {
     "data": {
      "text/plain": [
       "6794    \"Sun-Dried\" Tomatoestomatoes \\n  sea salt \\n  ...\n",
       "Name: raw_text, dtype: object"
      ]
     },
     "execution_count": 85,
     "metadata": {},
     "output_type": "execute_result"
    }
   ],
   "source": [
    "df_almost_total.loc[mask, 'raw_text']"
   ]
  },
  {
   "cell_type": "code",
   "execution_count": 71,
   "metadata": {},
   "outputs": [
    {
     "data": {
      "text/plain": [
       "109    Hard\n",
       "182    \"Sun\n",
       "Name: title, dtype: object"
      ]
     },
     "execution_count": 71,
     "metadata": {},
     "output_type": "execute_result"
    }
   ],
   "source": [
    "dff.loc[mask, 'title']"
   ]
  },
  {
   "cell_type": "code",
   "execution_count": 100,
   "metadata": {},
   "outputs": [
    {
     "data": {
      "text/html": [
       "<div>\n",
       "<style scoped>\n",
       "    .dataframe tbody tr th:only-of-type {\n",
       "        vertical-align: middle;\n",
       "    }\n",
       "\n",
       "    .dataframe tbody tr th {\n",
       "        vertical-align: top;\n",
       "    }\n",
       "\n",
       "    .dataframe thead th {\n",
       "        text-align: right;\n",
       "    }\n",
       "</style>\n",
       "<table border=\"1\" class=\"dataframe\">\n",
       "  <thead>\n",
       "    <tr style=\"text-align: right;\">\n",
       "      <th></th>\n",
       "      <th>title</th>\n",
       "      <th>raw_text</th>\n",
       "      <th>list_ingredients</th>\n",
       "      <th>ingredients</th>\n",
       "    </tr>\n",
       "  </thead>\n",
       "  <tbody>\n",
       "    <tr>\n",
       "      <th>0</th>\n",
       "      <td>Assorted cheese platter with crackers</td>\n",
       "      <td>Sure, here's a basic list of ingredients with ...</td>\n",
       "      <td>[- 150g of cheddar cheese\\n- 150g of brie chee...</td>\n",
       "      <td>- 150g of cheddar cheese\\n- 150g of brie chees...</td>\n",
       "    </tr>\n",
       "    <tr>\n",
       "      <th>1</th>\n",
       "      <td>Mini Bagels with Cream Cheese</td>\n",
       "      <td>Sure! Here's the list of ingredients for 2 por...</td>\n",
       "      <td>[Ingredients:\\n- 2 mini bagels\\n- 4 tablespoon...</td>\n",
       "      <td>Ingredients:\\n- 2 mini bagels\\n- 4 tablespoons...</td>\n",
       "    </tr>\n",
       "    <tr>\n",
       "      <th>2</th>\n",
       "      <td>Miniature Bruschetta Pizzas</td>\n",
       "      <td>Sure, here are the ingredients and quantities ...</td>\n",
       "      <td>[Ingredients:\\n- 4 slices of baguette or Itali...</td>\n",
       "      <td>Ingredients:\\n- 4 slices of baguette or Italia...</td>\n",
       "    </tr>\n",
       "    <tr>\n",
       "      <th>3</th>\n",
       "      <td>Mini Bagel Chips with Smoked Salmon</td>\n",
       "      <td>Sure, here's a recipe for Mini Bagel Chips wit...</td>\n",
       "      <td>[Ingredients:\\n- 2 mini bagels\\n- 100g smoked ...</td>\n",
       "      <td>Ingredients:\\n- 2 mini bagels\\n- 100g smoked s...</td>\n",
       "    </tr>\n",
       "    <tr>\n",
       "      <th>4</th>\n",
       "      <td>Veggie Sticks with Hummus</td>\n",
       "      <td>Sure, here's a recipe for Veggie Sticks with H...</td>\n",
       "      <td>[Ingredients:\\n- 2 carrots, peeled and cut int...</td>\n",
       "      <td>Ingredients:\\n- 2 carrots, peeled and cut into...</td>\n",
       "    </tr>\n",
       "    <tr>\n",
       "      <th>...</th>\n",
       "      <td>...</td>\n",
       "      <td>...</td>\n",
       "      <td>...</td>\n",
       "      <td>...</td>\n",
       "    </tr>\n",
       "    <tr>\n",
       "      <th>180</th>\n",
       "      <td>Yuca con Chicharrón (El Salvador)</td>\n",
       "      <td>Sure! Here are the ingredients with quantities...</td>\n",
       "      <td>[- 1 lb yuca (cassava), peeled and cut into ch...</td>\n",
       "      <td>- 1 lb yuca (cassava), peeled and cut into chu...</td>\n",
       "    </tr>\n",
       "    <tr>\n",
       "      <th>181</th>\n",
       "      <td>Johnny'S Navy Dressing</td>\n",
       "      <td>Sure, here's a recipe for Johnny's Navy Dressi...</td>\n",
       "      <td>[Ingredients:\\n- 2 tablespoons extra virgin ol...</td>\n",
       "      <td>Ingredients:\\n- 2 tablespoons extra virgin oli...</td>\n",
       "    </tr>\n",
       "    <tr>\n",
       "      <th>182</th>\n",
       "      <td>\"Sun</td>\n",
       "      <td>I'd be happy to help with that! It seems like ...</td>\n",
       "      <td>[]</td>\n",
       "      <td>NaN</td>\n",
       "    </tr>\n",
       "    <tr>\n",
       "      <th>183</th>\n",
       "      <td>Stuffed Baby Potatoes</td>\n",
       "      <td>Sure, here's a recipe for Stuffed Baby Potatoe...</td>\n",
       "      <td>[Ingredients:\\n- 10-12 baby potatoes\\n- 1/4 cu...</td>\n",
       "      <td>Ingredients:\\n- 10-12 baby potatoes\\n- 1/4 cup...</td>\n",
       "    </tr>\n",
       "    <tr>\n",
       "      <th>184</th>\n",
       "      <td>Beef Tenderloin</td>\n",
       "      <td>Sure, here's a recipe for Beef Tenderloin for ...</td>\n",
       "      <td>[Ingredients:\\n- 2 beef tenderloin steaks, abo...</td>\n",
       "      <td>Ingredients:\\n- 2 beef tenderloin steaks, abou...</td>\n",
       "    </tr>\n",
       "  </tbody>\n",
       "</table>\n",
       "<p>185 rows × 4 columns</p>\n",
       "</div>"
      ],
      "text/plain": [
       "                                     title  \\\n",
       "0    Assorted cheese platter with crackers   \n",
       "1            Mini Bagels with Cream Cheese   \n",
       "2              Miniature Bruschetta Pizzas   \n",
       "3      Mini Bagel Chips with Smoked Salmon   \n",
       "4                Veggie Sticks with Hummus   \n",
       "..                                     ...   \n",
       "180     Yuca con Chicharrón (El Salvador)    \n",
       "181                 Johnny'S Navy Dressing   \n",
       "182                                   \"Sun   \n",
       "183                 Stuffed Baby Potatoes    \n",
       "184                       Beef Tenderloin    \n",
       "\n",
       "                                              raw_text  \\\n",
       "0    Sure, here's a basic list of ingredients with ...   \n",
       "1    Sure! Here's the list of ingredients for 2 por...   \n",
       "2    Sure, here are the ingredients and quantities ...   \n",
       "3    Sure, here's a recipe for Mini Bagel Chips wit...   \n",
       "4    Sure, here's a recipe for Veggie Sticks with H...   \n",
       "..                                                 ...   \n",
       "180  Sure! Here are the ingredients with quantities...   \n",
       "181  Sure, here's a recipe for Johnny's Navy Dressi...   \n",
       "182  I'd be happy to help with that! It seems like ...   \n",
       "183  Sure, here's a recipe for Stuffed Baby Potatoe...   \n",
       "184  Sure, here's a recipe for Beef Tenderloin for ...   \n",
       "\n",
       "                                      list_ingredients  \\\n",
       "0    [- 150g of cheddar cheese\\n- 150g of brie chee...   \n",
       "1    [Ingredients:\\n- 2 mini bagels\\n- 4 tablespoon...   \n",
       "2    [Ingredients:\\n- 4 slices of baguette or Itali...   \n",
       "3    [Ingredients:\\n- 2 mini bagels\\n- 100g smoked ...   \n",
       "4    [Ingredients:\\n- 2 carrots, peeled and cut int...   \n",
       "..                                                 ...   \n",
       "180  [- 1 lb yuca (cassava), peeled and cut into ch...   \n",
       "181  [Ingredients:\\n- 2 tablespoons extra virgin ol...   \n",
       "182                                                 []   \n",
       "183  [Ingredients:\\n- 10-12 baby potatoes\\n- 1/4 cu...   \n",
       "184  [Ingredients:\\n- 2 beef tenderloin steaks, abo...   \n",
       "\n",
       "                                           ingredients  \n",
       "0    - 150g of cheddar cheese\\n- 150g of brie chees...  \n",
       "1    Ingredients:\\n- 2 mini bagels\\n- 4 tablespoons...  \n",
       "2    Ingredients:\\n- 4 slices of baguette or Italia...  \n",
       "3    Ingredients:\\n- 2 mini bagels\\n- 100g smoked s...  \n",
       "4    Ingredients:\\n- 2 carrots, peeled and cut into...  \n",
       "..                                                 ...  \n",
       "180  - 1 lb yuca (cassava), peeled and cut into chu...  \n",
       "181  Ingredients:\\n- 2 tablespoons extra virgin oli...  \n",
       "182                                                NaN  \n",
       "183  Ingredients:\\n- 10-12 baby potatoes\\n- 1/4 cup...  \n",
       "184  Ingredients:\\n- 2 beef tenderloin steaks, abou...  \n",
       "\n",
       "[185 rows x 4 columns]"
      ]
     },
     "execution_count": 100,
     "metadata": {},
     "output_type": "execute_result"
    }
   ],
   "source": [
    "dff"
   ]
  },
  {
   "cell_type": "code",
   "execution_count": null,
   "metadata": {},
   "outputs": [],
   "source": []
  },
  {
   "cell_type": "code",
   "execution_count": 6,
   "metadata": {},
   "outputs": [],
   "source": [
    "def extract_nutritional_info(text: str, pattern: str):\n",
    "    result = re.findall(pattern, text, re.IGNORECASE)\n",
    "    if len(result) == 0:\n",
    "        return np.nan\n",
    "    else:\n",
    "        return result[-1]"
   ]
  },
  {
   "cell_type": "code",
   "execution_count": 7,
   "metadata": {},
   "outputs": [],
   "source": [
    "def extract_prep_time(text: str):\n",
    "    lower_text = text.lower()\n",
    "    res = re.findall(r'\\d+\\.?\\d*', lower_text, re.IGNORECASE)\n",
    "    if len(res) == 0:\n",
    "        return np.nan\n",
    "    else:\n",
    "        val =  float(res[-1])\n",
    "        if val < 3.0:\n",
    "            return val*60.0\n",
    "        else: \n",
    "            return val"
   ]
  },
  {
   "cell_type": "code",
   "execution_count": 8,
   "metadata": {},
   "outputs": [],
   "source": [
    "grams_pattern = r'\\d+\\.?\\d*(?=\\s*g|\\s*gram|\\s*grams)'\n",
    "partial_extractor = partial(extract_nutritional_info, pattern=grams_pattern)"
   ]
  },
  {
   "cell_type": "code",
   "execution_count": 9,
   "metadata": {},
   "outputs": [],
   "source": [
    "dff['prep_time']=dff['raw_text'].apply(lambda x: extract_prep_time(x))"
   ]
  },
  {
   "cell_type": "code",
   "execution_count": 10,
   "metadata": {},
   "outputs": [
    {
     "data": {
      "text/plain": [
       "0"
      ]
     },
     "execution_count": 10,
     "metadata": {},
     "output_type": "execute_result"
    }
   ],
   "source": [
    "mask = dff['prep_time'].isna()\n",
    "sum(mask)"
   ]
  },
  {
   "cell_type": "code",
   "execution_count": 28,
   "metadata": {},
   "outputs": [
    {
     "name": "stdout",
     "output_type": "stream",
     "text": [
      "(1004, 2)\n"
     ]
    }
   ],
   "source": [
    "ingredients_to_fix = dff\n",
    "print(ingredients_to_fix.shape)"
   ]
  },
  {
   "cell_type": "code",
   "execution_count": 32,
   "metadata": {},
   "outputs": [
    {
     "name": "stdout",
     "output_type": "stream",
     "text": [
      "found: 1\n",
      "found: 1\n",
      "found: 1\n",
      "found: 1\n",
      "found: 1\n",
      "found: 1\n",
      "found: 1\n",
      "found: 1\n",
      "found: 1\n",
      "found: 1\n",
      "found: 1\n",
      "found: 1\n",
      "found: 1\n",
      "found: 1\n",
      "found: 1\n",
      "found: 1\n",
      "found: 1\n",
      "found: 1\n",
      "found: 1\n",
      "found: 1\n",
      "found: 1\n",
      "found: 1\n",
      "found: 1\n",
      "found: 1\n",
      "found: 1\n",
      "found: 1\n",
      "found: 1\n",
      "found: 1\n",
      "found: 1\n",
      "found: 1\n",
      "found: 1\n",
      "found: 1\n",
      "found: 1\n",
      "found: 1\n",
      "found: 1\n",
      "found: 1\n",
      "found: 1\n",
      "found: 1\n",
      "found: 1\n",
      "found: 1\n",
      "found: 1\n",
      "found: 1\n",
      "found: 1\n",
      "found: 1\n",
      "found: 1\n",
      "found: 1\n",
      "found: 1\n",
      "found: 1\n",
      "found: 1\n",
      "found: 1\n",
      "found: 1\n",
      "found: 1\n",
      "found: 1\n",
      "found: 1\n",
      "found: 1\n",
      "found: 1\n",
      "found: 1\n",
      "found: 1\n",
      "found: 1\n",
      "found: 1\n",
      "found: 1\n",
      "found: 1\n",
      "found: 1\n",
      "found: 1\n",
      "found: 1\n",
      "found: 1\n",
      "found: 1\n",
      "found: 1\n",
      "found: 1\n",
      "found: 1\n",
      "found: 1\n",
      "found: 1\n",
      "found: 1\n",
      "found: 1\n",
      "found: 1\n",
      "found: 1\n",
      "found: 1\n",
      "found: 1\n",
      "found: 1\n",
      "found: 1\n",
      "found: 1\n",
      "found: 1\n",
      "found: 1\n",
      "found: 1\n",
      "found: 1\n",
      "found: 1\n",
      "found: 1\n",
      "found: 1\n",
      "found: 1\n",
      "found: 1\n",
      "found: 1\n",
      "found: 1\n",
      "found: 1\n",
      "found: 1\n",
      "found: 1\n",
      "found: 1\n",
      "found: 1\n",
      "found: 1\n",
      "found: 1\n",
      "found: 1\n",
      "found: 1\n",
      "found: 1\n",
      "found: 1\n",
      "found: 1\n",
      "found: 1\n",
      "found: 1\n",
      "found: 1\n",
      "found: 1\n",
      "found: 1\n",
      "found: 1\n",
      "found: 1\n",
      "found: 1\n",
      "found: 1\n",
      "found: 1\n",
      "found: 1\n",
      "found: 1\n",
      "found: 1\n",
      "found: 1\n",
      "found: 1\n",
      "found: 1\n",
      "found: 1\n",
      "found: 1\n",
      "found: 1\n",
      "found: 1\n",
      "found: 1\n",
      "found: 1\n",
      "found: 1\n",
      "found: 1\n",
      "found: 1\n",
      "found: 1\n",
      "found: 1\n",
      "found: 1\n",
      "found: 1\n",
      "found: 1\n",
      "found: 1\n",
      "found: 1\n",
      "found: 1\n",
      "found: 1\n",
      "found: 1\n",
      "found: 1\n",
      "found: 1\n",
      "found: 1\n",
      "found: 1\n",
      "found: 1\n",
      "found: 1\n",
      "found: 1\n",
      "found: 1\n",
      "found: 1\n",
      "found: 1\n",
      "found: 1\n",
      "found: 1\n",
      "found: 1\n",
      "found: 1\n",
      "found: 1\n",
      "found: 1\n",
      "found: 1\n",
      "found: 1\n",
      "found: 1\n",
      "found: 1\n",
      "found: 1\n",
      "found: 1\n",
      "found: 1\n",
      "found: 1\n",
      "found: 1\n",
      "found: 1\n",
      "found: 1\n",
      "found: 1\n",
      "found: 1\n",
      "found: 1\n",
      "found: 1\n",
      "found: 1\n",
      "found: 1\n",
      "found: 1\n",
      "found: 1\n",
      "found: 1\n",
      "found: 1\n",
      "found: 1\n",
      "found: 1\n",
      "found: 1\n",
      "found: 1\n",
      "found: 1\n",
      "found: 1\n",
      "found: 1\n",
      "found: 1\n",
      "found: 1\n",
      "found: 1\n",
      "found: 1\n",
      "found: 1\n",
      "found: 1\n",
      "found: 1\n",
      "found: 1\n",
      "found: 1\n",
      "found: 1\n",
      "found: 1\n",
      "found: 1\n",
      "found: 1\n",
      "found: 1\n",
      "found: 1\n",
      "found: 1\n",
      "found: 1\n",
      "found: 1\n",
      "found: 1\n",
      "found: 1\n",
      "found: 1\n",
      "found: 1\n",
      "found: 1\n",
      "found: 1\n",
      "found: 1\n",
      "found: 1\n",
      "found: 1\n",
      "found: 1\n",
      "found: 1\n",
      "found: 1\n",
      "found: 1\n",
      "found: 1\n",
      "found: 1\n",
      "found: 1\n",
      "found: 1\n",
      "found: 1\n",
      "found: 1\n",
      "found: 1\n",
      "found: 1\n",
      "found: 1\n",
      "found: 1\n",
      "found: 1\n",
      "found: 1\n",
      "found: 1\n",
      "found: 1\n",
      "found: 1\n",
      "found: 1\n",
      "found: 1\n",
      "found: 1\n",
      "found: 1\n",
      "found: 1\n",
      "found: 1\n",
      "found: 1\n",
      "found: 1\n",
      "found: 1\n",
      "found: 1\n",
      "found: 1\n",
      "found: 1\n",
      "found: 1\n",
      "found: 1\n",
      "found: 1\n",
      "found: 1\n",
      "found: 1\n",
      "found: 1\n",
      "found: 1\n",
      "found: 1\n",
      "found: 1\n",
      "found: 1\n",
      "found: 1\n",
      "found: 1\n",
      "found: 1\n",
      "found: 1\n",
      "found: 1\n",
      "found: 1\n",
      "found: 1\n",
      "found: 1\n",
      "found: 1\n",
      "found: 1\n",
      "found: 1\n",
      "found: 1\n",
      "found: 1\n",
      "found: 1\n",
      "found: 1\n",
      "found: 1\n",
      "found: 1\n",
      "found: 1\n",
      "found: 1\n",
      "found: 1\n",
      "found: 1\n",
      "found: 1\n",
      "found: 1\n",
      "found: 1\n",
      "found: 1\n",
      "found: 1\n",
      "found: 1\n",
      "found: 1\n",
      "found: 1\n",
      "found: 1\n",
      "found: 1\n",
      "found: 1\n",
      "found: 1\n",
      "found: 1\n",
      "found: 1\n",
      "found: 1\n",
      "found: 1\n",
      "found: 1\n",
      "found: 1\n",
      "found: 1\n",
      "found: 1\n",
      "found: 1\n",
      "found: 1\n",
      "found: 1\n",
      "found: 1\n",
      "found: 1\n",
      "found: 1\n",
      "found: 1\n",
      "found: 1\n",
      "found: 1\n",
      "found: 1\n",
      "found: 1\n",
      "found: 1\n",
      "found: 1\n",
      "found: 1\n",
      "found: 1\n",
      "found: 1\n",
      "found: 1\n",
      "found: 1\n",
      "found: 1\n",
      "found: 1\n",
      "found: 1\n",
      "found: 1\n",
      "found: 1\n",
      "found: 1\n",
      "found: 1\n",
      "found: 1\n",
      "found: 1\n",
      "found: 1\n",
      "found: 1\n",
      "found: 1\n",
      "found: 1\n",
      "found: 1\n",
      "found: 1\n",
      "found: 1\n",
      "found: 1\n",
      "found: 1\n",
      "found: 1\n",
      "found: 1\n",
      "found: 1\n",
      "found: 1\n",
      "found: 1\n",
      "found: 1\n",
      "found: 1\n",
      "found: 1\n",
      "found: 1\n",
      "found: 1\n",
      "found: 1\n",
      "found: 1\n",
      "found: 1\n",
      "found: 1\n",
      "found: 1\n",
      "found: 1\n",
      "found: 1\n",
      "found: 1\n",
      "found: 1\n",
      "found: 1\n",
      "found: 1\n",
      "found: 1\n",
      "found: 1\n",
      "found: 1\n",
      "found: 1\n",
      "found: 1\n",
      "found: 1\n",
      "found: 1\n",
      "found: 1\n",
      "found: 1\n",
      "found: 1\n",
      "found: 1\n",
      "found: 1\n",
      "found: 1\n",
      "found: 1\n",
      "found: 1\n",
      "found: 1\n",
      "found: 1\n",
      "found: 1\n",
      "found: 1\n",
      "found: 1\n",
      "found: 1\n",
      "found: 1\n",
      "found: 1\n",
      "found: 1\n",
      "found: 1\n",
      "found: 1\n",
      "found: 1\n",
      "found: 1\n",
      "found: 1\n",
      "found: 1\n",
      "found: 1\n",
      "found: 1\n",
      "found: 1\n",
      "found: 1\n",
      "found: 1\n",
      "found: 1\n",
      "found: 1\n",
      "found: 1\n",
      "found: 1\n",
      "found: 1\n",
      "found: 1\n",
      "found: 1\n",
      "found: 1\n",
      "found: 1\n",
      "found: 1\n",
      "found: 1\n",
      "found: 1\n",
      "found: 1\n",
      "found: 1\n",
      "found: 1\n",
      "found: 1\n",
      "found: 1\n",
      "found: 1\n",
      "found: 1\n",
      "found: 1\n",
      "found: 1\n",
      "found: 1\n",
      "found: 1\n",
      "found: 1\n",
      "found: 1\n",
      "found: 1\n",
      "found: 1\n",
      "found: 1\n",
      "found: 1\n",
      "found: 1\n",
      "found: 1\n",
      "found: 1\n",
      "found: 1\n",
      "found: 1\n",
      "found: 1\n",
      "found: 1\n",
      "found: 1\n",
      "found: 1\n",
      "found: 1\n",
      "found: 1\n",
      "found: 1\n",
      "found: 1\n",
      "found: 1\n",
      "found: 1\n",
      "found: 1\n",
      "found: 1\n",
      "found: 1\n",
      "found: 1\n",
      "found: 1\n",
      "found: 1\n",
      "found: 1\n",
      "found: 1\n",
      "found: 1\n",
      "found: 1\n",
      "found: 1\n",
      "found: 1\n",
      "found: 1\n",
      "found: 1\n",
      "found: 1\n",
      "found: 1\n",
      "found: 1\n",
      "found: 1\n",
      "found: 1\n",
      "found: 1\n",
      "found: 1\n",
      "found: 1\n",
      "found: 1\n",
      "found: 1\n",
      "found: 1\n",
      "found: 1\n",
      "found: 1\n",
      "found: 1\n",
      "found: 1\n",
      "found: 1\n",
      "found: 1\n",
      "found: 1\n",
      "found: 1\n",
      "found: 1\n",
      "found: 1\n",
      "found: 1\n",
      "found: 1\n",
      "found: 1\n",
      "found: 1\n",
      "found: 1\n",
      "found: 1\n",
      "found: 1\n",
      "found: 1\n",
      "found: 1\n",
      "found: 1\n",
      "found: 1\n",
      "found: 1\n",
      "found: 1\n",
      "found: 1\n",
      "found: 1\n",
      "found: 1\n",
      "found: 1\n",
      "found: 1\n",
      "found: 1\n",
      "found: 1\n",
      "found: 1\n",
      "found: 1\n",
      "found: 1\n",
      "found: 1\n",
      "found: 1\n",
      "found: 1\n",
      "found: 1\n",
      "found: 1\n",
      "found: 1\n",
      "found: 1\n",
      "found: 1\n",
      "found: 1\n",
      "found: 1\n",
      "found: 1\n",
      "found: 1\n",
      "found: 1\n",
      "found: 1\n",
      "found: 1\n",
      "found: 1\n",
      "found: 1\n",
      "found: 1\n",
      "found: 1\n",
      "found: 1\n",
      "found: 1\n",
      "found: 1\n",
      "found: 1\n",
      "found: 1\n",
      "found: 1\n",
      "found: 1\n",
      "found: 1\n",
      "found: 1\n",
      "found: 1\n",
      "found: 1\n",
      "found: 1\n",
      "found: 1\n",
      "found: 1\n",
      "found: 1\n",
      "found: 1\n",
      "found: 1\n",
      "found: 1\n",
      "found: 1\n",
      "found: 1\n",
      "found: 1\n",
      "found: 1\n",
      "found: 1\n",
      "found: 1\n",
      "found: 1\n",
      "found: 1\n",
      "found: 1\n",
      "found: 1\n",
      "found: 1\n",
      "found: 1\n",
      "found: 1\n",
      "found: 1\n",
      "found: 1\n",
      "found: 1\n",
      "found: 1\n",
      "found: 1\n",
      "found: 1\n",
      "found: 1\n",
      "found: 1\n",
      "found: 1\n",
      "found: 1\n",
      "found: 1\n",
      "found: 1\n",
      "found: 1\n",
      "found: 1\n",
      "found: 1\n",
      "found: 1\n",
      "found: 1\n",
      "found: 1\n",
      "found: 1\n",
      "found: 1\n",
      "found: 1\n",
      "found: 1\n",
      "found: 1\n",
      "found: 1\n",
      "found: 1\n",
      "found: 1\n",
      "found: 1\n",
      "found: 1\n",
      "found: 1\n",
      "found: 1\n",
      "found: 1\n",
      "found: 1\n",
      "found: 1\n",
      "found: 1\n",
      "found: 1\n",
      "found: 1\n",
      "found: 1\n",
      "found: 1\n",
      "found: 1\n",
      "found: 1\n",
      "found: 1\n",
      "found: 1\n",
      "found: 1\n",
      "found: 1\n",
      "found: 1\n",
      "found: 1\n",
      "found: 1\n",
      "found: 1\n",
      "found: 1\n",
      "found: 1\n",
      "found: 1\n",
      "found: 1\n",
      "found: 1\n",
      "found: 1\n",
      "found: 1\n",
      "found: 1\n",
      "found: 1\n",
      "found: 1\n",
      "found: 1\n",
      "found: 1\n",
      "found: 1\n",
      "found: 1\n",
      "found: 1\n",
      "found: 1\n",
      "found: 1\n",
      "found: 1\n",
      "found: 1\n",
      "found: 1\n",
      "found: 1\n",
      "found: 1\n",
      "found: 1\n",
      "found: 1\n",
      "found: 1\n",
      "found: 1\n",
      "found: 1\n",
      "found: 1\n",
      "found: 1\n",
      "found: 1\n",
      "found: 1\n",
      "found: 1\n",
      "found: 1\n",
      "found: 1\n",
      "found: 1\n",
      "found: 1\n",
      "found: 1\n",
      "found: 1\n",
      "found: 1\n",
      "found: 1\n",
      "found: 1\n",
      "found: 1\n",
      "found: 1\n",
      "found: 1\n",
      "found: 1\n",
      "found: 1\n",
      "found: 1\n",
      "found: 1\n",
      "found: 1\n",
      "found: 1\n",
      "found: 1\n",
      "found: 1\n",
      "found: 1\n",
      "found: 1\n",
      "found: 1\n",
      "found: 1\n",
      "found: 1\n",
      "found: 1\n",
      "found: 1\n",
      "found: 1\n",
      "found: 1\n",
      "found: 1\n",
      "found: 1\n",
      "found: 1\n",
      "found: 1\n",
      "found: 1\n",
      "found: 1\n",
      "found: 2\n",
      "found: 1\n",
      "found: 1\n",
      "found: 1\n",
      "found: 1\n",
      "found: 1\n",
      "found: 1\n",
      "found: 1\n",
      "found: 1\n",
      "found: 1\n",
      "found: 1\n",
      "found: 1\n",
      "found: 1\n",
      "found: 1\n",
      "found: 1\n",
      "found: 1\n",
      "found: 1\n",
      "found: 1\n",
      "found: 2\n",
      "found: 1\n",
      "found: 1\n",
      "found: 1\n",
      "found: 1\n",
      "found: 1\n",
      "found: 1\n",
      "found: 1\n",
      "found: 1\n",
      "found: 1\n",
      "found: 1\n",
      "found: 1\n",
      "found: 1\n",
      "found: 1\n",
      "found: 1\n",
      "found: 1\n",
      "found: 1\n",
      "found: 1\n",
      "found: 1\n",
      "found: 1\n",
      "found: 1\n",
      "found: 1\n",
      "found: 1\n",
      "found: 1\n",
      "found: 1\n",
      "found: 1\n",
      "found: 1\n",
      "found: 1\n",
      "found: 1\n",
      "found: 2\n",
      "found: 1\n",
      "found: 1\n",
      "found: 1\n",
      "found: 1\n",
      "found: 1\n",
      "found: 1\n",
      "found: 1\n",
      "found: 1\n",
      "found: 2\n",
      "found: 1\n",
      "found: 1\n",
      "found: 1\n",
      "found: 1\n",
      "found: 1\n",
      "found: 1\n",
      "found: 1\n",
      "found: 1\n",
      "found: 1\n",
      "found: 1\n",
      "found: 1\n",
      "found: 1\n",
      "found: 1\n",
      "found: 1\n",
      "found: 1\n",
      "found: 1\n",
      "found: 1\n",
      "found: 2\n",
      "found: 1\n",
      "found: 1\n",
      "found: 1\n",
      "found: 1\n",
      "found: 1\n",
      "found: 1\n",
      "found: 1\n",
      "found: 1\n",
      "found: 1\n",
      "found: 1\n",
      "found: 1\n",
      "found: 1\n",
      "found: 1\n",
      "found: 1\n",
      "found: 1\n",
      "found: 1\n",
      "found: 1\n",
      "found: 1\n",
      "found: 1\n",
      "found: 1\n",
      "found: 1\n",
      "found: 1\n",
      "found: 1\n",
      "found: 1\n",
      "found: 1\n",
      "found: 1\n",
      "found: 1\n",
      "found: 1\n",
      "found: 1\n",
      "found: 1\n",
      "found: 1\n",
      "found: 1\n",
      "found: 2\n",
      "found: 2\n",
      "found: 1\n",
      "found: 1\n",
      "found: 1\n",
      "found: 1\n",
      "found: 1\n",
      "found: 1\n",
      "found: 1\n",
      "found: 1\n",
      "found: 1\n",
      "found: 1\n",
      "found: 1\n",
      "found: 1\n",
      "found: 1\n",
      "found: 1\n",
      "found: 1\n",
      "found: 1\n",
      "found: 1\n",
      "found: 1\n",
      "found: 1\n",
      "found: 1\n",
      "found: 1\n",
      "found: 1\n",
      "found: 1\n",
      "found: 2\n",
      "found: 1\n",
      "found: 1\n",
      "found: 1\n",
      "found: 1\n",
      "found: 1\n",
      "found: 1\n",
      "found: 1\n",
      "found: 1\n",
      "found: 1\n",
      "found: 1\n",
      "found: 1\n",
      "found: 1\n",
      "found: 1\n",
      "found: 1\n",
      "found: 1\n",
      "found: 1\n",
      "found: 1\n",
      "found: 1\n",
      "found: 1\n",
      "found: 1\n",
      "found: 1\n",
      "found: 1\n",
      "found: 2\n",
      "found: 1\n",
      "found: 3\n",
      "found: 1\n",
      "found: 1\n",
      "found: 2\n",
      "found: 1\n",
      "found: 1\n",
      "found: 1\n",
      "found: 1\n",
      "found: 1\n",
      "found: 1\n",
      "found: 1\n",
      "found: 1\n",
      "found: 1\n",
      "found: 1\n",
      "found: 1\n",
      "found: 1\n",
      "found: 1\n",
      "found: 2\n",
      "found: 1\n",
      "found: 1\n",
      "found: 1\n",
      "found: 1\n",
      "found: 1\n",
      "found: 1\n",
      "found: 1\n",
      "found: 2\n",
      "found: 2\n",
      "found: 1\n",
      "found: 1\n",
      "found: 1\n",
      "found: 1\n",
      "found: 1\n",
      "found: 1\n",
      "found: 1\n",
      "found: 1\n",
      "found: 1\n",
      "found: 1\n",
      "found: 1\n",
      "found: 1\n",
      "found: 1\n",
      "found: 1\n",
      "found: 1\n",
      "found: 1\n",
      "found: 1\n",
      "found: 1\n",
      "found: 1\n",
      "found: 1\n",
      "found: 1\n",
      "found: 1\n",
      "found: 1\n",
      "found: 1\n",
      "found: 1\n",
      "found: 1\n",
      "found: 2\n",
      "found: 1\n",
      "found: 1\n",
      "found: 1\n",
      "found: 1\n",
      "found: 1\n",
      "found: 1\n",
      "found: 1\n",
      "found: 1\n",
      "found: 2\n",
      "found: 3\n",
      "found: 4\n",
      "found: 1\n",
      "found: 1\n",
      "found: 2\n",
      "found: 1\n",
      "found: 1\n",
      "found: 1\n",
      "found: 1\n",
      "found: 1\n",
      "found: 1\n",
      "found: 1\n",
      "found: 1\n",
      "found: 1\n",
      "found: 1\n",
      "found: 1\n",
      "found: 2\n",
      "found: 1\n",
      "found: 1\n",
      "found: 1\n",
      "found: 1\n",
      "found: 1\n",
      "found: 1\n",
      "found: 1\n",
      "found: 1\n",
      "found: 1\n",
      "found: 1\n",
      "found: 1\n",
      "found: 1\n",
      "found: 1\n",
      "found: 2\n",
      "found: 1\n",
      "found: 1\n",
      "found: 1\n",
      "found: 1\n",
      "found: 1\n",
      "found: 1\n",
      "found: 1\n",
      "found: 1\n",
      "found: 1\n",
      "found: 1\n",
      "found: 1\n",
      "found: 1\n",
      "found: 1\n",
      "found: 1\n",
      "found: 2\n",
      "found: 1\n",
      "found: 1\n",
      "found: 1\n",
      "found: 1\n",
      "found: 1\n",
      "found: 1\n",
      "found: 1\n",
      "found: 1\n",
      "found: 1\n",
      "found: 1\n",
      "found: 1\n",
      "found: 1\n",
      "found: 2\n",
      "found: 1\n",
      "found: 1\n",
      "found: 1\n",
      "found: 1\n",
      "found: 1\n",
      "found: 1\n",
      "found: 1\n",
      "found: 1\n",
      "found: 1\n",
      "found: 1\n",
      "found: 1\n",
      "found: 1\n",
      "found: 1\n",
      "found: 1\n",
      "found: 1\n",
      "found: 1\n",
      "found: 1\n",
      "found: 1\n",
      "found: 1\n",
      "found: 1\n",
      "found: 1\n",
      "found: 1\n",
      "found: 1\n",
      "found: 1\n",
      "found: 1\n",
      "found: 1\n",
      "found: 1\n",
      "found: 1\n",
      "found: 1\n",
      "found: 1\n",
      "found: 1\n",
      "found: 1\n",
      "found: 1\n",
      "found: 1\n",
      "found: 1\n",
      "found: 1\n",
      "found: 1\n",
      "found: 1\n",
      "found: 1\n",
      "found: 1\n",
      "found: 1\n",
      "found: 1\n",
      "found: 1\n",
      "found: 1\n",
      "found: 1\n",
      "found: 1\n",
      "found: 1\n",
      "found: 1\n",
      "found: 1\n",
      "found: 1\n",
      "found: 1\n",
      "found: 1\n",
      "found: 1\n",
      "found: 1\n",
      "found: 1\n",
      "found: 1\n",
      "found: 1\n",
      "found: 1\n",
      "found: 1\n",
      "found: 1\n",
      "found: 1\n",
      "found: 1\n",
      "found: 1\n",
      "found: 1\n",
      "found: 1\n",
      "found: 1\n",
      "found: 1\n",
      "found: 1\n",
      "found: 1\n",
      "found: 1\n",
      "found: 1\n",
      "found: 1\n",
      "found: 1\n",
      "found: 1\n"
     ]
    }
   ],
   "source": [
    "for idx, t in enumerate(ingredients_to_fix['title'].tolist()):\n",
    "    mask = df_almost_total['title'] == t\n",
    "    if df_almost_total.loc[mask, 'cultural_restriction'].isna().any():\n",
    "        print(f\"found: {sum(mask)}\")\n",
    "        len_mask = sum(mask)\n",
    "        list_test = [ingredients_to_fix.loc[idx, 'raw_text']]\n",
    "        if len_mask > 1:\n",
    "            df_almost_total.loc[mask, 'cultural_restriction'] = list_test * len_mask\n",
    "        elif len_mask == 1:\n",
    "            df_almost_total.loc[mask, 'cultural_restriction'] = list_test[0]\n",
    "        else: \n",
    "            pass"
   ]
  },
  {
   "cell_type": "code",
   "execution_count": 33,
   "metadata": {},
   "outputs": [
    {
     "data": {
      "text/plain": [
       "1"
      ]
     },
     "execution_count": 33,
     "metadata": {},
     "output_type": "execute_result"
    }
   ],
   "source": [
    "mask = df_almost_total['cultural_restriction'].isna()\n",
    "sum(mask)"
   ]
  },
  {
   "cell_type": "code",
   "execution_count": 35,
   "metadata": {},
   "outputs": [],
   "source": [
    "df_almost_total.loc[mask, 'cultural_restriction'] = 'chicken-based'"
   ]
  },
  {
   "cell_type": "code",
   "execution_count": null,
   "metadata": {},
   "outputs": [],
   "source": []
  },
  {
   "cell_type": "code",
   "execution_count": 536,
   "metadata": {},
   "outputs": [],
   "source": [
    "df_almost_total.loc[idx, \"cooking_style\"] = df_partial['cooking_style'].tolist()"
   ]
  },
  {
   "cell_type": "code",
   "execution_count": 537,
   "metadata": {},
   "outputs": [
    {
     "name": "stdout",
     "output_type": "stream",
     "text": [
      "0\n"
     ]
    }
   ],
   "source": [
    "mask = df_almost_total['cooking_style'].isna()\n",
    "print(sum(mask))\n",
    "to_f = df_almost_total.loc[mask, :]"
   ]
  },
  {
   "cell_type": "code",
   "execution_count": 22,
   "metadata": {},
   "outputs": [
    {
     "name": "stdout",
     "output_type": "stream",
     "text": [
      "0\n"
     ]
    }
   ],
   "source": [
    "mask = df_almost_total['prep_time'].isna()\n",
    "print(sum(mask))"
   ]
  },
  {
   "cell_type": "code",
   "execution_count": 21,
   "metadata": {},
   "outputs": [],
   "source": [
    "df_almost_total.loc[mask, 'prep_time'] = [15, 20]"
   ]
  },
  {
   "cell_type": "code",
   "execution_count": 24,
   "metadata": {},
   "outputs": [],
   "source": [
    "df_almost_total['prep_time'] = pd.to_numeric(df_almost_total['prep_time'])"
   ]
  },
  {
   "cell_type": "code",
   "execution_count": 506,
   "metadata": {},
   "outputs": [],
   "source": [
    "#df_almost_total.loc[mask, 'fiber'] = [5, 8, 2, 2, 6, 3, 1, 0]"
   ]
  },
  {
   "cell_type": "code",
   "execution_count": 539,
   "metadata": {},
   "outputs": [],
   "source": [
    "#df_almost_total['protein']=pd.to_numeric(df_almost_total['protein'])\n",
    "df_almost_total['cooking_style']=df_almost_total['cooking_style'].astype('string')"
   ]
  },
  {
   "cell_type": "code",
   "execution_count": 97,
   "metadata": {},
   "outputs": [],
   "source": [
    "df_almost_total.to_csv(\"df_final_7_feb_titles_full.csv\", sep=\"|\")"
   ]
  },
  {
   "cell_type": "code",
   "execution_count": 37,
   "metadata": {},
   "outputs": [],
   "source": [
    "def save_titles(title: str): \n",
    "    res = title\n",
    "    if \"-\" in res:\n",
    "        val = title.split('-')[0]\n",
    "        if len(val) > 3:\n",
    "            res = val\n",
    "    if \"**\" in res:\n",
    "        res = res.replace(\"**\", \"\")\n",
    "    return res"
   ]
  },
  {
   "cell_type": "code",
   "execution_count": 42,
   "metadata": {},
   "outputs": [],
   "source": [
    "# process the titles \n",
    "df_almost_total['title'] = df_almost_total['title'].astype('string')"
   ]
  },
  {
   "cell_type": "code",
   "execution_count": 52,
   "metadata": {},
   "outputs": [],
   "source": [
    "def check_ingredients(text: str):\n",
    "    res = re.findall(r'\\d+\\.?\\d*', text)\n",
    "    if len(res) < 1:\n",
    "        return True\n",
    "    else:\n",
    "        return False"
   ]
  },
  {
   "cell_type": "code",
   "execution_count": 53,
   "metadata": {},
   "outputs": [
    {
     "name": "stdout",
     "output_type": "stream",
     "text": [
      "187\n"
     ]
    }
   ],
   "source": [
    "mask = df_almost_total['ingredients'].apply(lambda x: check_ingredients(x))\n",
    "print(sum(mask))"
   ]
  },
  {
   "cell_type": "code",
   "execution_count": 54,
   "metadata": {},
   "outputs": [],
   "source": [
    "to_fix_ingredients = df_almost_total.loc[mask, :] "
   ]
  },
  {
   "cell_type": "code",
   "execution_count": 56,
   "metadata": {},
   "outputs": [],
   "source": [
    "to_fix_ingredients.to_csv('df_ingredients_187_to_fix.csv', sep=\"|\")"
   ]
  }
 ],
 "metadata": {
  "interpreter": {
   "hash": "66bbf4fa6c6f4d9b7980e4a2f72372316a7dd0cd9956aefbd48db4c89728009f"
  },
  "kernelspec": {
   "display_name": "Python 3.9.16 ('data_gen')",
   "language": "python",
   "name": "python3"
  },
  "language_info": {
   "codemirror_mode": {
    "name": "ipython",
    "version": 3
   },
   "file_extension": ".py",
   "mimetype": "text/x-python",
   "name": "python",
   "nbconvert_exporter": "python",
   "pygments_lexer": "ipython3",
   "version": "3.9.16"
  },
  "orig_nbformat": 4
 },
 "nbformat": 4,
 "nbformat_minor": 2
}
