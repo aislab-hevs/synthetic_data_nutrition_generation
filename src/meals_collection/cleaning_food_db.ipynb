{
 "cells": [
  {
   "cell_type": "code",
   "execution_count": 44,
   "metadata": {},
   "outputs": [],
   "source": [
    "import pandas as pd\n",
    "import numpy as np\n",
    "import re \n",
    "from sklearn.feature_extraction.text import CountVectorizer, TfidfTransformer, HashingVectorizer"
   ]
  },
  {
   "cell_type": "code",
   "execution_count": 143,
   "metadata": {},
   "outputs": [],
   "source": [
    "path = '/home/victor/Documents/Expectation_data_generation/src/meals_collection/df_final_7000_with_ingredients_fixed.csv'\n",
    "df_recipes = pd.read_csv(path, index_col=0, sep='|')"
   ]
  },
  {
   "cell_type": "code",
   "execution_count": 144,
   "metadata": {},
   "outputs": [
    {
     "data": {
      "text/html": [
       "<div>\n",
       "<style scoped>\n",
       "    .dataframe tbody tr th:only-of-type {\n",
       "        vertical-align: middle;\n",
       "    }\n",
       "\n",
       "    .dataframe tbody tr th {\n",
       "        vertical-align: top;\n",
       "    }\n",
       "\n",
       "    .dataframe thead th {\n",
       "        text-align: right;\n",
       "    }\n",
       "</style>\n",
       "<table border=\"1\" class=\"dataframe\">\n",
       "  <thead>\n",
       "    <tr style=\"text-align: right;\">\n",
       "      <th></th>\n",
       "      <th>title</th>\n",
       "      <th>raw_text</th>\n",
       "      <th>cultural_restriction</th>\n",
       "      <th>calories</th>\n",
       "      <th>allergies</th>\n",
       "      <th>recipeId</th>\n",
       "      <th>ingredients</th>\n",
       "      <th>preparation</th>\n",
       "      <th>carbs</th>\n",
       "      <th>fat</th>\n",
       "      <th>fiber</th>\n",
       "      <th>protein</th>\n",
       "      <th>taste</th>\n",
       "      <th>cooking_style</th>\n",
       "      <th>meal_type</th>\n",
       "      <th>prep_time</th>\n",
       "      <th>cuisine</th>\n",
       "      <th>price</th>\n",
       "      <th>ingredients_list</th>\n",
       "    </tr>\n",
       "  </thead>\n",
       "  <tbody>\n",
       "    <tr>\n",
       "      <th>0</th>\n",
       "      <td>Fruit Salad</td>\n",
       "      <td>1. Fruit Salad: 70 calories per portion, 4 por...</td>\n",
       "      <td>vegan</td>\n",
       "      <td>70.0</td>\n",
       "      <td>contains fruits only</td>\n",
       "      <td>food_0</td>\n",
       "      <td>ingredients:\\n- 1 apple\\n- 1 banana\\n- 1 orang...</td>\n",
       "      <td>\\n1. wash and cut all the fruits into bite-siz...</td>\n",
       "      <td>223.0</td>\n",
       "      <td>2.0</td>\n",
       "      <td>0.0</td>\n",
       "      <td>15.0</td>\n",
       "      <td>sweet</td>\n",
       "      <td>mixed</td>\n",
       "      <td>fruit-based</td>\n",
       "      <td>NaN</td>\n",
       "      <td>Fruit Salad - Mixed</td>\n",
       "      <td>2.0</td>\n",
       "      <td>apple, banana, orange, grape, strawberry, pine...</td>\n",
       "    </tr>\n",
       "    <tr>\n",
       "      <th>1</th>\n",
       "      <td>Vegan Omelette</td>\n",
       "      <td>5. Vegan Omelette: 300 calories per portion, 1...</td>\n",
       "      <td>vegan</td>\n",
       "      <td>300.0</td>\n",
       "      <td>contains chickpea flour</td>\n",
       "      <td>food_4</td>\n",
       "      <td>ingredients:\\n- 1 cup chickpea flour\\n- 1 cup ...</td>\n",
       "      <td>\\n1. in a mixing bowl, whisk together the chic...</td>\n",
       "      <td>100.0</td>\n",
       "      <td>20.5</td>\n",
       "      <td>6.0</td>\n",
       "      <td>15.0</td>\n",
       "      <td>Savory</td>\n",
       "      <td>sauteed</td>\n",
       "      <td>veggie</td>\n",
       "      <td>20.0</td>\n",
       "      <td>Vegan Omelette - Vegan</td>\n",
       "      <td>2.0</td>\n",
       "      <td>chickpea, flour, water, yeast, turmeric, garli...</td>\n",
       "    </tr>\n",
       "  </tbody>\n",
       "</table>\n",
       "</div>"
      ],
      "text/plain": [
       "            title                                           raw_text  \\\n",
       "0     Fruit Salad  1. Fruit Salad: 70 calories per portion, 4 por...   \n",
       "1  Vegan Omelette  5. Vegan Omelette: 300 calories per portion, 1...   \n",
       "\n",
       "  cultural_restriction  calories                allergies recipeId  \\\n",
       "0                vegan      70.0     contains fruits only   food_0   \n",
       "1                vegan     300.0  contains chickpea flour   food_4   \n",
       "\n",
       "                                         ingredients  \\\n",
       "0  ingredients:\\n- 1 apple\\n- 1 banana\\n- 1 orang...   \n",
       "1  ingredients:\\n- 1 cup chickpea flour\\n- 1 cup ...   \n",
       "\n",
       "                                         preparation  carbs   fat  fiber  \\\n",
       "0  \\n1. wash and cut all the fruits into bite-siz...  223.0   2.0    0.0   \n",
       "1  \\n1. in a mixing bowl, whisk together the chic...  100.0  20.5    6.0   \n",
       "\n",
       "   protein   taste cooking_style    meal_type  prep_time  \\\n",
       "0     15.0   sweet         mixed  fruit-based        NaN   \n",
       "1     15.0  Savory       sauteed       veggie       20.0   \n",
       "\n",
       "                  cuisine price  \\\n",
       "0     Fruit Salad - Mixed   2.0   \n",
       "1  Vegan Omelette - Vegan   2.0   \n",
       "\n",
       "                                    ingredients_list  \n",
       "0  apple, banana, orange, grape, strawberry, pine...  \n",
       "1  chickpea, flour, water, yeast, turmeric, garli...  "
      ]
     },
     "execution_count": 144,
     "metadata": {},
     "output_type": "execute_result"
    }
   ],
   "source": [
    "df_recipes.head(2)"
   ]
  },
  {
   "cell_type": "code",
   "execution_count": 145,
   "metadata": {},
   "outputs": [],
   "source": [
    "# check which columns have empty values \n",
    "empty_cols = {}\n",
    "for col in df_recipes.columns:\n",
    "    num_empty = sum(df_recipes[col].isna())\n",
    "    if num_empty > 0:\n",
    "        empty_cols[col] = num_empty\n",
    "    "
   ]
  },
  {
   "cell_type": "code",
   "execution_count": 146,
   "metadata": {},
   "outputs": [
    {
     "data": {
      "text/plain": [
       "[('carbs', 62),\n",
       " ('protein', 120),\n",
       " ('fat', 180),\n",
       " ('fiber', 735),\n",
       " ('meal_type', 756),\n",
       " ('cooking_style', 779),\n",
       " ('cultural_restriction', 805),\n",
       " ('prep_time', 1709),\n",
       " ('allergies', 4938)]"
      ]
     },
     "execution_count": 146,
     "metadata": {},
     "output_type": "execute_result"
    }
   ],
   "source": [
    "sorted(empty_cols.items(), key=lambda x:x[1])"
   ]
  },
  {
   "cell_type": "code",
   "execution_count": 147,
   "metadata": {},
   "outputs": [
    {
     "name": "stdout",
     "output_type": "stream",
     "text": [
      "62\n"
     ]
    }
   ],
   "source": [
    "# Checking ingredients \n",
    "# mask = df_recipes['ingredients'].str.contains(' unfortunately ')\n",
    "# print(sum(mask))\n",
    "mask = df_recipes['carbs'].isna()\n",
    "print(sum(mask))"
   ]
  },
  {
   "cell_type": "code",
   "execution_count": 148,
   "metadata": {},
   "outputs": [],
   "source": [
    "df_to_fix = df_recipes.loc[mask, :]"
   ]
  },
  {
   "cell_type": "code",
   "execution_count": 150,
   "metadata": {},
   "outputs": [
    {
     "name": "stdout",
     "output_type": "stream",
     "text": [
      "['ingredients:\\n- 1 ½ cups all-purpose flour (gluten-free flour can be substituted if desired)\\n- 2 tablespoons almond meal\\n- 2 teaspoons baking powder\\n- 1/4 teaspoon salt\\n- 1/4 cup cold vegan butter, cut into small pieces\\n- 3 tablespoons maple syrup or agave nectar\\n- 1/2 cup unsweetened almond milk\\n- 1 teaspoon vanilla extract\\n- 1/2 cup fresh or frozen raspberries\\n- 2 tablespoons sliced almonds', 'ingredients:\\n- 1 cup pumpkin puree\\n- 1 3/4 cups plant-based milk\\n- 2 tablespoons maple syrup\\n- 1 teaspoon vanilla extract\\n- 2 cups all-purpose flour\\n- 2 tablespoons sugar\\n- 2 teaspoons baking powder\\n- 1 teaspoon baking soda\\n- 1 teaspoon ground cinnamon\\n- 1/2 teaspoon ground ginger\\n- 1/4 teaspoon ground nutmeg\\n- 1/4 teaspoon ground cloves\\n- 1/4 teaspoon salt\\n\\n', \"sure! here's a recipe for sweet potato chips:\\n\\ningredients:\\n- 2 medium sweet potatoes\\n- salt, to taste\\n- olive oil\\n\\n\", 'ingredients:\\n- 1 large cucumber\\n- 8 ounces vegan cream cheese\\n- 1 tablespoon fresh dill, chopped\\n- 1 tablespoon fresh chives, chopped\\n- 1 tablespoon lemon juice\\n- salt and pepper to taste', 'ingredients:\\n- 1 cup coconut yogurt\\n- 1 cup mixed berries (such as strawberries, blueberries, and raspberries)\\n- 1/4 cup granola\\n- 1 tablespoon honey (optional)\\n\\n', 'ingredients:\\n- mozzarella cheese sticks\\n- all-purpose flour\\n- eggs\\n- bread crumbs\\n- italian seasoning\\n- salt\\n- oil for frying\\n\\n', 'ingredients:\\n- oranges\\n\\n', 'ingredients:\\n- pizza dough\\n- tomato sauce\\n- mozzarella cheese, shredded\\n- assorted vegetables (e.g., bell peppers, mushrooms, onions, olives)\\n- olive oil\\n- salt\\n- dried oregano\\n- crushed red pepper flakes (optional)\\n\\n', 'ingredients:\\n- cherry tomatoes\\n- fresh mozzarella cheese\\n- fresh basil leaves\\n- balsamic glaze\\n- olive oil\\n- salt and pepper\\n\\n', 'ingredients:\\n- fresh mozzarella cheese\\n- cherry tomatoes\\n- fresh basil leaves\\n- balsamic glaze\\n- extra virgin olive oil\\n- salt\\n- pepper\\n\\n', 'ingredients:\\n- cherry tomatoes\\n- fresh mozzarella balls\\n- fresh basil leaves\\n- balsamic glaze\\n- skewers\\n\\n', 'ingredients:\\n- medjool dates\\n- almond butter\\n- optional toppings: shredded coconut, chopped nuts (e.g. almonds, pistachios), dark chocolate chips, sea salt\\n\\n', 'ingredients:\\n- 2 cups all-purpose flour\\n- 1 teaspoon salt\\n- 1 teaspoon dried oregano\\n- 1/2 teaspoon garlic powder\\n- 1/2 teaspoon dried basil\\n- 1/4 teaspoon black pepper\\n- 2 teaspoons active dry yeast\\n- 1 cup warm water\\n- 1 tablespoon olive oil\\n- 1 cup crumbled feta cheese\\n- 1/2 cup chopped kalamata olives\\n- 1/4 cup chopped fresh parsley\\n\\n', 'ingredients:\\n- assorted vegetables (such as sweet potatoes, beets, carrots, zucchini)\\n- olive oil\\n- salt\\n- pepper\\n- optional: garlic powder, paprika, or other desired seasonings\\n\\n', 'ingredients:\\n- mini pizza crusts or english muffins\\n- pizza sauce\\n- shredded mozzarella cheese\\n- assorted toppings such as pepperoni, sliced mushrooms, bell peppers, and olives\\n\\n', 'ingredients:\\n- fresh strawberries\\n- greek yogurt\\n- honey (optional)\\n- shredded coconut (optional)\\n\\n', 'ingredients:\\n- cherry tomatoes\\n- fresh mozzarella cheese\\n- fresh basil leaves\\n- balsamic glaze\\n- olive oil\\n- salt and pepper, to taste\\n\\n', 'ingredients:\\n- fresh tomatoes\\n- fresh mozzarella cheese\\n- fresh basil leaves\\n- extra virgin olive oil\\n- balsamic vinegar\\n- salt\\n- black pepper\\n\\n', 'ingredients:\\n- 2 cups all-purpose flour\\n- 1/2 teaspoon salt\\n- 1/2 cup warm water\\n- 2 tablespoons olive oil\\n- filling options: spinach and feta cheese, potato and cheese, minced meat with vegetables, etc.\\n- olive oil or melted butter for brushing', 'ingredients:\\n- 2 cups dried fava beans\\n- 4 cups water\\n- 4 cloves garlic, minced\\n- 1/4 cup olive oil\\n- 1 tablespoon ground cumin\\n- juice of 2 lemons\\n- salt, to taste\\n- fresh parsley, chopped (for garnish)\\n- olive oil (for drizzling)\\n- optional toppings: diced tomatoes, diced onions, tahini sauce', 'ingredients:\\n- mini sandwich rolls\\n- smoked ham, thinly sliced\\n- cheddar cheese, sliced\\n- butter, softened\\n- dijon mustard (optional)\\n- mayonnaise (optional)\\n- salt and pepper\\n\\n', 'ingredients:\\n- mini pita breads\\n- tomato sauce\\n- mozzarella cheese, grated\\n- toppings of your choice (e.g., pepperoni, bell peppers, mushrooms, onions, olives)\\n\\n', 'ingredients:\\n- ripe plantains\\n- vegetable oil\\n- salt to taste\\n\\n', 'ingredients:\\n- 1 boneless turkey breast (about 3 pounds)\\n- 2 tablespoons olive oil\\n- 2 teaspoons dried rosemary\\n- 2 teaspoons dried thyme\\n- 1 teaspoon dried sage\\n- salt and pepper to taste\\n- 4 medium sweet potatoes, peeled and cubed\\n- 2 tablespoons melted butter\\n- 2 tablespoons brown sugar\\n- 1 teaspoon cinnamon', 'ingredients:\\n- 4 boneless, skinless chicken breasts\\n- 2 cups baby spinach\\n- 1 cup crumbled feta cheese\\n- 1 tablespoon chopped fresh dill\\n- 1 teaspoon dried oregano\\n- 1/2 teaspoon garlic powder\\n- salt and pepper to taste\\n- 4 large potatoes, cut into quarters\\n- 2 tablespoons olive oil\\n- 1 teaspoon dried rosemary\\n- 1 teaspoon dried thyme\\n- 1 teaspoon dried oregano\\n- salt and pepper to taste', 'ingredients:\\n- chicken breasts, boneless and skinless\\n- honey\\n- soy sauce\\n- sesame oil\\n- garlic cloves, minced\\n- ginger, grated\\n- sesame seeds\\n- brown rice\\n- vegetable oil\\n- salt and pepper\\n- green onions, chopped (for garnish, optional)', 'ingredients:\\n- 2 slices of bread\\n- butter for spreading\\n- cheese (any kind you prefer, such as cheddar or mozzarella)\\n- tomato slices', 'ingredients:\\n- assorted vegetables (such as sweet potatoes, beets, zucchini, and carrots)\\n- olive oil\\n- salt\\n- pepper\\n- optional: spices/herbs of your choice (such as paprika, garlic powder, or dried rosemary)\\n\\n', 'ingredients:\\n- cherry tomatoes\\n- mozzarella balls (bocconcini or ciliegine)\\n- fresh basil leaves\\n- balsamic glaze\\n- olive oil\\n- salt and pepper to taste\\n- skewers (wooden or metal)\\n\\n', 'ingredients:\\n- mini bagels\\n- smoked salmon\\n- cream cheese\\n- fresh dill\\n- lemon zest\\n\\n', \"here's a recipe for roasted pumpkin seeds:\\n\\ningredients:\\n- pumpkin seeds\\n- olive oil\\n- salt (optional)\\n- seasonings of your choice (such as garlic powder, paprika, cayenne pepper, etc.)\\n\\n\", 'ingredients:\\n- fresh berries (strawberries, blueberries, raspberries, etc.)\\n- yogurt of your choice (preferably greek yogurt or plain yogurt)\\n- optional: honey or sweetener of your choice (if desired)', '200 calories\\n\\ningredients:\\n- cherry tomatoes\\n- fresh mozzarella pearls or cubes\\n- fresh basil leaves\\n- balsamic glaze\\n- olive oil\\n- salt and pepper\\n\\n', 'ingredients:\\n- mini baguette or french bread slices\\n- pizza sauce\\n- mozzarella cheese, shredded\\n- cherry tomatoes, halved\\n- fresh basil leaves\\n- olive oil\\n- salt and pepper to taste\\n\\n', 'ingredients:\\n- mozzarella balls\\n- cherry tomatoes\\n- fresh basil leaves\\n- balsamic glaze\\n- salt and pepper\\n\\n', 'grilled veggie burger with whole wheat bun:\\n\\ningredients:\\n- veggie burger patty\\n- whole wheat bun\\n- assorted grilled veggies (such as bell peppers, zucchini, eggplant)\\n- olive oil\\n- salt\\n- pepper\\n- optional toppings: lettuce, tomato, onion, avocado, mustard, ketchup\\n\\n', 'ingredients:\\n- 4 boneless, skinless chicken breasts\\n- 2 tablespoons olive oil\\n- 2 cloves garlic, minced\\n- 1 teaspoon dried oregano\\n- 1 teaspoon dried thyme\\n- 1 teaspoon paprika\\n- salt and black pepper, to taste\\n\\n', \" and whisk to combine.\\n\\n4. in another bowl, combine the non-dairy milk, vegetable or coconut oil, and vanilla extract. stir until well combined.\\n\\n5. pour the wet \\n into the dry \\n. mix until just combined, being careful not to overmix as this can lead to tough waffles. it’s okay if there are a few small lumps.\\n\\n6. if you're using vegan chocolate chips, gently fold them into the batter.\\n\\n7. spray the waffle iron with non-stick cooking spray or lightly brush it with oil to prevent sticking.\\n\\n8. pour the appropriate amount of batter onto the waffle iron. this amount will vary depending on your waffle iron size and model, so refer to your manufacturer's guidance.\\n\\n9. close the waffle iron and cook according to your waffle iron’s \", \"** together in a large bowl. combine the flour, sugar, baking powder, and salt.\\n\\n3. **separate the eggs**. place the yolks in one bowl and the whites in another.\\n\\n4. **beat the egg whites** until stiff peaks form. this will help give the waffles that traditional fluffy texture.\\n\\n5. **mix the wet \\n** with the egg yolks. whisk together the milk, melted butter, and vanilla extract.\\n\\n6. **combine the wet and dry \\n**. pour the wet mixture into the dry \\n and mix until just combined. be careful not to overmix, as this can result in dense waffles.\\n\\n7. **fold in the egg whites**. gently fold the beaten egg whites into the batter, trying not to deflate them too much. this will contribute to the light and airy consistency of the waffles.\\n\\n8. **prepare the waffle iron**. brush or spray the waffle iron with oil to ensure the waffles don't stick.\\n\\n9. **cook the waffles**. pour an appropriate amount of batter onto the preheated waffle iron (the amount will depend on the size of your waffle iron; usually, it's about 1/2 cup to 1 cup). spread the batter close to the edges, and close the lid. cook according to the waffle iron's \", 'loin pork chops (1 per person \\n  1/2-inch thick) \\n  trimmed of fat \\n  apples \\n  halved and cored (not peeled) \\n  onions \\n  sliced 1/2-inch thick \\n  salt and pepper to taste', '1 box yellow cake mix \\n  4 eggs \\n  1 can mandarin oranges \\n  1/2 c. oil', '1 large pkg. Oreo cookies \\n  1 1/2 gal. Blue Bell peppermint ice cream \\n  1 stick butter', '1 egg \\n  1 Ziploc Baggie', '1 bag boneless skinless thawed chicken breasts \\n  1 package provolone cheese slices \\n  1 bottle honey dijon salad dressing \\n  1 bag cooked bacon pieces', '1 qt. coffee ice cream \\n  9-inch graham cracker pie shell \\n  1 pt. pistachio \\n  butter pecan or vanilla ice cream \\n  1/4 c. dark creme de cacao or chocolate syrup', '2 (8 oz.) pkg. refrigerator crescent rolls \\n  2 (8 oz.) pkg. cream cheese \\n  3 Tbsp. mayonnaise \\n  1/2 tsp. basil leaves \\n  1/4 tsp. garlic powder \\n  chopped vegetables (broccoli \\n  red and green sweet peppers \\n  tomatoes and slivers of carrot) \\n  freshly grated Jack cheese', '4 lb. hamburger \\n  a whole box noodles \\n  5 drops basghetti sauce \\n  4 drops grease', '1 box German chocolate cake mix with pudding \\n  1 can condensed \\n  sweetened milk \\n  1 bag caramels \\n  1 bag chocolate chips \\n  1 stick butter \\n  1 bag walnuts or pecans', '3 large cans frozen lemonade \\n  diluted \\n  dry sherry \\n  1 to 2 bottles chilled soda water \\n  ice ring of lemonade', '2/3 c. dried apricots \\n  1/2 c. butter \\n  1/4 c. sugar \\n  1 c. sifted flour \\n  2 eggs \\n  beat slightly \\n  1 c. brown sugar \\n  packed \\n  1/3 c. sifted flour \\n  1/2 tsp. baking powder \\n  salt (optional) \\n  1/2 tsp. vanilla \\n  1 c. pecans', 'apple cider vinegar \\n  white sugar \\n  Crisco oil \\n  ketchup', 'vanilla wafers \\n  1 large pkg. instant vanilla pudding \\n  1 large tub whipped topping \\n  4 to 5 bananas \\n  1 large can crushed pineapple \\n  drained \\n  nuts \\n  cherries', '1 (10 ounce) package of pillsbury big and flaky crescent rolls \\n  4 slices deli ham \\n  4 slices swiss cheese', \"Chocolate Fried Ice Cream \\n  1 quart vanilla ice cream \\n  1 cup vanilla wafer crumbs (about 30 wafers \\n  crushed) \\n  1/2 cup finely chopped pecans \\n  1/2 cup mounds sweetened flaked coconut \\n  3 tablespoons hershey's cocoa \\n  2 eggs \\n  vegetable oil \\n  Chocolate Nut Sauce \\n  3 tablespoons butter or 3 tablespoons margarine \\n  1/3 cup pecan pieces \\n  2/3 cup sugar \\n  1/4 cup hershey's cocoa \\n  1/8 teaspoon salt \\n  1/2 cup light cream \\n  1/2 teaspoon vanilla extract\", '1 tbsp olive oil \\n  1 None onion \\n  finely chopped \\n  1 clove garlic \\n  minced \\n  2 tsp Madras curry powder \\n  5 cups vegetable stock \\n  3 1/4 lb butternut squash \\n  peeled \\n  deseeded \\n  cubed \\n  3.5 oz red lentils \\n  None None plain yogurt \\n  to serve \\n  None None fresh cilantro leaves \\n  to serve', '1 cup Dark Corn Syrup \\n  3 Eggs \\n  1 cup sugar \\n  2 tbsp melted butter \\n  1 tsp vanilla \\n  1/8 tsp salt \\n  1 1/2 cup Pecan halves', '1 1/2 cup Unsweetened almond milk \\n  1/3 cup Cocoa powder \\n  1 teaspoon Vanilla \\n  1/2 teaspoon Stevia extract \\n  1/2 cup Chia seeds', '2 tbl butter - 1/3 cup chopped leek \\n  white part - 3 cups chopped tart apple - 3 cups peeled & diced butternut squash - 1 cup peeled & chopped russet potato - 1/3 cup sherry - 3 cups broth - 1 cup orange juice - 1 tbl honey - 1/2 tsp kosher salt - 1/2 tsp grated nutmeg - 1 1/2 tbl curry powder - coarsely ground bl pepper - 1 1/4 cups 1/2 & 1/2 - 3/4 cup shredded cheddar cheese - shredded fresh basil', '2 bacon slices \\n  chopped \\n  5 1/2 cups thinly sliced trimmed collard greens (about 7 leaves) \\n  2 tablespoons water \\n  1/4 teaspoon kosher salt \\n  Hot sauce (optional)', \"3 large eggs \\n  3 tablespoons sugar \\n  1/2 teaspoon salt \\n  1/2 teaspoon vanilla extract \\n  2 cups all-purpose flour \\n  1-1/2 teaspoons baking powder \\n  1-1/2 teaspoons butter \\n  softened \\n  Oil for deep-fat frying \\n  Confectioners' sugar\", 'Olive Oil \\n  As Needed \\n  1 Medium Red Onion \\n  Finely Chopped \\n  750 grams Frozen Sweet Corn \\n  1 Medium Red Bell Pepper \\n  Chopped \\n  1/4 teaspoons Salt \\n  Plus More To Taste \\n  Pepper To Taste \\n  1 teaspoon Cumin \\n  3/4 cups Fresh Cilantro \\n  Washed And Roughly Chopped \\n  1 Lime \\n  Juiced', '1 cup Raisins \\n  1/8 cups Rum \\n  2 cups All-purpose Flour \\n  1 package Active Dry Yeast \\n  0.25 Ounce Packet \\n  1/4 cups Granulated Sugar \\n  1/2 teaspoons Salt \\n  1/4 cups Water \\n  1 teaspoon Vanilla Extract \\n  1/3 cups Milk \\n  1/2 sticks Butter \\n  2 Eggs \\n  3/4 cups All-purpose Flour \\n  1/2 cups Granulated Sugar \\n  2 Tablespoons Butter \\n  Softened \\n  2 teaspoons Cinnamon']\n"
     ]
    }
   ],
   "source": [
    "print(df_to_fix['ingredients'].tolist())"
   ]
  },
  {
   "cell_type": "code",
   "execution_count": 141,
   "metadata": {},
   "outputs": [],
   "source": [
    "df_recipes.loc[mask, 'cuisine'] = ['Snack', 'Dessert', 'Vegan', 'Italian']"
   ]
  },
  {
   "cell_type": "code",
   "execution_count": 97,
   "metadata": {},
   "outputs": [],
   "source": [
    "def process_ingredients(raw_ingredients:str):\n",
    "    ingredients = raw_ingredients.split('\\n\\n')\n",
    "    ingredients_list = []\n",
    "    for i in range(1, len(ingredients)):\n",
    "        if len(ingredients[i]) > 0:\n",
    "            ingredients_list.append(ingredients[i])\n",
    "    #print(len(ingredients_list))\n",
    "    return \"\\n\".join(ingredients_list)"
   ]
  },
  {
   "cell_type": "code",
   "execution_count": 98,
   "metadata": {},
   "outputs": [
    {
     "name": "stdout",
     "output_type": "stream",
     "text": [
      "ingredients:\n",
      "- 2 ½ cups all-purpose flour\n",
      "- 2 tsp baking powder\n",
      "- ½ tsp salt\n",
      "- 1 cup unsweetened almond milk (or any non-dairy milk)\n",
      "- ¼ cup melted coconut oil (or any vegetable oil)\n",
      "- ¼ cup maple syrup (or any sweetener of choice)\n",
      "- 1 tsp vanilla extract\n",
      "for the cinnamon filling:\n",
      "- ½ cup brown sugar\n",
      "- 2 tbsp ground cinnamon\n",
      "- ¼ cup melted vegan butter (or any vegetable spread)\n",
      "for the glaze:\n",
      "- 1 cup powdered sugar\n",
      "- 1-2 tbsp non-dairy milk\n",
      "- ½ tsp vanilla extract\n",
      "\n"
     ]
    }
   ],
   "source": [
    "text_test = \"\"\"\n",
    "unfortunately, as a language model ai, i don't have access to a specific recipe database or the ability to provide specific nutritional information like calories. however, i can give you a general recipe for vegan cinnamon rolls, and you can use online tools or apps to calculate the calories based on your specific ingredients and serving sizes. here's a simple recipe:\n",
    "\n",
    "ingredients:\n",
    "- 2 ½ cups all-purpose flour\n",
    "- 2 tsp baking powder\n",
    "- ½ tsp salt\n",
    "- 1 cup unsweetened almond milk (or any non-dairy milk)\n",
    "- ¼ cup melted coconut oil (or any vegetable oil)\n",
    "- ¼ cup maple syrup (or any sweetener of choice)\n",
    "- 1 tsp vanilla extract\n",
    "\n",
    "for the cinnamon filling:\n",
    "- ½ cup brown sugar\n",
    "- 2 tbsp ground cinnamon\n",
    "- ¼ cup melted vegan butter (or any vegetable spread)\n",
    "\n",
    "for the glaze:\n",
    "- 1 cup powdered sugar\n",
    "- 1-2 tbsp non-dairy milk\n",
    "- ½ tsp vanilla extract\n",
    "\"\"\"\n",
    "res = process_ingredients(text_test)\n",
    "print(res)"
   ]
  },
  {
   "cell_type": "code",
   "execution_count": 99,
   "metadata": {},
   "outputs": [],
   "source": [
    "df_recipes.loc[mask, 'ingredients'] = df_recipes.loc[mask, 'ingredients'].apply(lambda x: process_ingredients(x))"
   ]
  },
  {
   "cell_type": "code",
   "execution_count": 100,
   "metadata": {},
   "outputs": [
    {
     "data": {
      "text/plain": [
       "1"
      ]
     },
     "execution_count": 100,
     "metadata": {},
     "output_type": "execute_result"
    }
   ],
   "source": [
    "sum(mask)"
   ]
  },
  {
   "cell_type": "code",
   "execution_count": 82,
   "metadata": {},
   "outputs": [
    {
     "data": {
      "text/plain": [
       "965     ingredients:\\n- 8 oz rice noodles\\n- 4 cups ve...\n",
       "3013    ingredients:\\n- 2 cups all-purpose flour\\n- 1/...\n",
       "3053    ingredients:\\n- 2 cups dried fava beans\\n- 4 c...\n",
       "4149    ingredients:\\n- 14 oz (400g) firm tofu, cubed\\...\n",
       "4910    ingredients:\\n- fresh berries (strawberries, b...\n",
       "Name: ingredients, dtype: object"
      ]
     },
     "execution_count": 82,
     "metadata": {},
     "output_type": "execute_result"
    }
   ],
   "source": [
    "df_recipes.loc[mask, 'ingredients']"
   ]
  },
  {
   "cell_type": "code",
   "execution_count": 31,
   "metadata": {},
   "outputs": [
    {
     "name": "stdout",
     "output_type": "stream",
     "text": [
      "62\n"
     ]
    }
   ],
   "source": [
    "# checking nutritional values \n",
    "mask = df_recipes['carbs'].isna()\n",
    "print(sum(mask))"
   ]
  },
  {
   "cell_type": "code",
   "execution_count": 14,
   "metadata": {},
   "outputs": [],
   "source": [
    "df_to_fix = df_recipes.loc[mask, :]"
   ]
  },
  {
   "cell_type": "code",
   "execution_count": 15,
   "metadata": {},
   "outputs": [
    {
     "data": {
      "text/plain": [
       "'{\"title\":{\"167\":\"Vegan Raspberry Almond Scones\",\"378\":\"Vegan Pumpkin Spice Pancakes\",\"590\":\"Sweet Potato Chips \",\"627\":\"Cucumber Rolls with Vegan Cream Cheese \",\"1762\":\"Coconut Yogurt Parfait with Berries\",\"1781\":\"Mozzarella Sticks\",\"1931\":\"Fresh Squeezed Orange Juice\",\"1959\":\"Homemade Veggie Pizza\",\"2024\":\"Caprese Skewers with Balsamic Glaze\",\"2051\":\"Caprese salad skewers\",\"2054\":\"Tomato and mozzarella skewers\",\"2103\":\"Stuffed dates with almond butter\",\"2149\":\"Greek Feta and Olive Bread\",\"2192\":\"Veggie Chips\",\"2201\":\"Mini Pizzas\",\"2252\":\"Yogurt Covered Strawberries\",\"2306\":\"Tomato and Mozzarella Skewers\",\"2427\":\"Caprese salad\",\"3013\":\"Turkish G\\\\u00f6zleme\",\"3053\":\"Classical Arab Ful Medames\",\"3616\":\"Mini ham and cheese sandwiches\",\"3665\":\"Mini Pita Pizzas\",\"3697\":\"Fried Plantain\",\"4148\":\"Herb-roasted turkey breast with sweet potatoes\",\"4162\":\"Greek stuffed chicken breast with roasted potatoes\",\"4203\":\"Honey glazed sesame chicken with brown rice\",\"4546\":\"Cheese and Tomato Toastie\",\"4630\":\"Baked vegetable crisps\",\"4653\":\"Cherry tomato and mozzarella skewers\",\"4844\":\"Mini Bagel Chips with Smoked Salmon\",\"4897\":\"Roasted Pumpkin Seeds\",\"4910\":\"Yogurt Covered Berries\",\"4917\":\"Tomato and Mozzarella Salad Skewers\",\"4950\":\"Mini Bruschetta Pizzas\",\"4988\":\"Mozzarella and cherry tomato skewers\",\"5355\":\"Grilled Veggie Burger with whole wheat bun\",\"5536\":\"Grilled Chicken Breast\",\"6065\":\"Vegan Chocolate Waffles\",\"6133\":\"Belgian Waffles\",\"6515\":\"Baked Moist Pork Chops\",\"6523\":\"Pea Pickin Cake\",\"6529\":\"Cookies And Ice Cream Sandwich\",\"6541\":\"Omelet In A Bag\",\"6550\":\"Annie\\'S Alice Springs Chicken\",\"6556\":\"Cream De Cacao Pie\",\"6569\":\"Confetti Bites(Appetizer)  \",\"6573\":\"Basghetti\",\"6610\":\"Brownies(Extra Fattening, Bigger Butted Women, Beware!)  \",\"6616\":\"Shorter Mansion Punch\",\"6635\":\"Apricot Pecan Squares\",\"6637\":\"Johnny\\'S Navy Dressing\",\"6643\":\"Quick Banana Split Cake\",\"6711\":\"Ham And Cheese Crescent Wrap\",\"6758\":\"Chocolate Fried Ice Cream\",\"6801\":\"Curried Lentil And Squash Soup\",\"6803\":\"Traditional Pecan Pie \",\"6813\":\"Keto Chia Pudding \",\"6838\":\"Butternut Squash & Apple Bisque \",\"6889\":\"Quick Collards\",\"6916\":\"Italian Cenci Cookies\",\"6931\":\"Saut\\\\u00e9ed Sweet Corn With Red Pepper And Cilantro\",\"6936\":\"Rum Raisin Cinnamon Buns\"},\"ingredients\":{\"167\":\"i apologize, but i am an ai language model and cannot provide specific recipes that i have not been trained on. however, i can offer a general recipe for vegan raspberry almond scones. here it is:\\\\n\\\\ningredients:\\\\n- 1 \\\\u00bd cups all-purpose flour (gluten-free flour can be substituted if desired)\\\\n- 2 tablespoons almond meal\\\\n- 2 teaspoons baking powder\\\\n- 1\\\\/4 teaspoon salt\\\\n- 1\\\\/4 cup cold vegan butter, cut into small pieces\\\\n- 3 tablespoons maple syrup or agave nectar\\\\n- 1\\\\/2 cup unsweetened almond milk\\\\n- 1 teaspoon vanilla extract\\\\n- 1\\\\/2 cup fresh or frozen raspberries\\\\n- 2 tablespoons sliced almonds\\\\n\\\\n\",\"378\":\"ingredients:\\\\n- 1 cup pumpkin puree\\\\n- 1 3\\\\/4 cups plant-based milk\\\\n- 2 tablespoons maple syrup\\\\n- 1 teaspoon vanilla extract\\\\n- 2 cups all-purpose flour\\\\n- 2 tablespoons sugar\\\\n- 2 teaspoons baking powder\\\\n- 1 teaspoon baking soda\\\\n- 1 teaspoon ground cinnamon\\\\n- 1\\\\/2 teaspoon ground ginger\\\\n- 1\\\\/4 teaspoon ground nutmeg\\\\n- 1\\\\/4 teaspoon ground cloves\\\\n- 1\\\\/4 teaspoon salt\\\\n\\\\n\",\"590\":\"sure! here\\'s a recipe for sweet potato chips:\\\\n\\\\ningredients:\\\\n- 2 medium sweet potatoes\\\\n- salt, to taste\\\\n- olive oil\\\\n\\\\n\",\"627\":\"i apologize, but i cannot provide the nutrition information or real-time calorie count for recipes. however, i can provide you with the ingredients and preparation steps for the recipe cucumber rolls with vegan cream cheese. here it is:\\\\n\\\\ningredients:\\\\n- 1 large cucumber\\\\n- 8 ounces vegan cream cheese\\\\n- 1 tablespoon fresh dill, chopped\\\\n- 1 tablespoon fresh chives, chopped\\\\n- 1 tablespoon lemon juice\\\\n- salt and pepper to taste\\\\n\\\\n\",\"1762\":\"ingredients:\\\\n- 1 cup coconut yogurt\\\\n- 1 cup mixed berries (such as strawberries, blueberries, and raspberries)\\\\n- 1\\\\/4 cup granola\\\\n- 1 tablespoon honey (optional)\\\\n\\\\n\",\"1781\":\"ingredients:\\\\n- mozzarella cheese sticks\\\\n- all-purpose flour\\\\n- eggs\\\\n- bread crumbs\\\\n- italian seasoning\\\\n- salt\\\\n- oil for frying\\\\n\\\\n\",\"1931\":\"ingredients:\\\\n- oranges\\\\n\\\\n\",\"1959\":\"ingredients:\\\\n- pizza dough\\\\n- tomato sauce\\\\n- mozzarella cheese, shredded\\\\n- assorted vegetables (e.g., bell peppers, mushrooms, onions, olives)\\\\n- olive oil\\\\n- salt\\\\n- dried oregano\\\\n- crushed red pepper flakes (optional)\\\\n\\\\n\",\"2024\":\"ingredients:\\\\n- cherry tomatoes\\\\n- fresh mozzarella cheese\\\\n- fresh basil leaves\\\\n- balsamic glaze\\\\n- olive oil\\\\n- salt and pepper\\\\n\\\\n\",\"2051\":\"ingredients:\\\\n- fresh mozzarella cheese\\\\n- cherry tomatoes\\\\n- fresh basil leaves\\\\n- balsamic glaze\\\\n- extra virgin olive oil\\\\n- salt\\\\n- pepper\\\\n\\\\n\",\"2054\":\"ingredients:\\\\n- cherry tomatoes\\\\n- fresh mozzarella balls\\\\n- fresh basil leaves\\\\n- balsamic glaze\\\\n- skewers\\\\n\\\\n\",\"2103\":\"ingredients:\\\\n- medjool dates\\\\n- almond butter\\\\n- optional toppings: shredded coconut, chopped nuts (e.g. almonds, pistachios), dark chocolate chips, sea salt\\\\n\\\\n\",\"2149\":\"ingredients:\\\\n- 2 cups all-purpose flour\\\\n- 1 teaspoon salt\\\\n- 1 teaspoon dried oregano\\\\n- 1\\\\/2 teaspoon garlic powder\\\\n- 1\\\\/2 teaspoon dried basil\\\\n- 1\\\\/4 teaspoon black pepper\\\\n- 2 teaspoons active dry yeast\\\\n- 1 cup warm water\\\\n- 1 tablespoon olive oil\\\\n- 1 cup crumbled feta cheese\\\\n- 1\\\\/2 cup chopped kalamata olives\\\\n- 1\\\\/4 cup chopped fresh parsley\\\\n\\\\n\",\"2192\":\"ingredients:\\\\n- assorted vegetables (such as sweet potatoes, beets, carrots, zucchini)\\\\n- olive oil\\\\n- salt\\\\n- pepper\\\\n- optional: garlic powder, paprika, or other desired seasonings\\\\n\\\\n\",\"2201\":\"ingredients:\\\\n- mini pizza crusts or english muffins\\\\n- pizza sauce\\\\n- shredded mozzarella cheese\\\\n- assorted toppings such as pepperoni, sliced mushrooms, bell peppers, and olives\\\\n\\\\n\",\"2252\":\"ingredients:\\\\n- fresh strawberries\\\\n- greek yogurt\\\\n- honey (optional)\\\\n- shredded coconut (optional)\\\\n\\\\n\",\"2306\":\"ingredients:\\\\n- cherry tomatoes\\\\n- fresh mozzarella cheese\\\\n- fresh basil leaves\\\\n- balsamic glaze\\\\n- olive oil\\\\n- salt and pepper, to taste\\\\n\\\\n\",\"2427\":\"ingredients:\\\\n- fresh tomatoes\\\\n- fresh mozzarella cheese\\\\n- fresh basil leaves\\\\n- extra virgin olive oil\\\\n- balsamic vinegar\\\\n- salt\\\\n- black pepper\\\\n\\\\n\",\"3013\":\"unfortunately, as an ai language model, i am only able to provide text-based information and cannot calculate nutritional values such as calories. however, i can provide you with the ingredients and preparation steps for turkish g\\\\u00f6zleme. here\\'s a simple recipe you can follow:\\\\n\\\\ningredients:\\\\n- 2 cups all-purpose flour\\\\n- 1\\\\/2 teaspoon salt\\\\n- 1\\\\/2 cup warm water\\\\n- 2 tablespoons olive oil\\\\n- filling options: spinach and feta cheese, potato and cheese, minced meat with vegetables, etc.\\\\n- olive oil or melted butter for brushing\\\\n\\\\n\",\"3053\":\"unfortunately, i am an ai text-based model and cannot provide real-time information like calories for a specific recipe. however, i can give you the ingredients and preparation steps for classical arab ful medames. here\\'s the recipe:\\\\n\\\\ningredients:\\\\n- 2 cups dried fava beans\\\\n- 4 cups water\\\\n- 4 cloves garlic, minced\\\\n- 1\\\\/4 cup olive oil\\\\n- 1 tablespoon ground cumin\\\\n- juice of 2 lemons\\\\n- salt, to taste\\\\n- fresh parsley, chopped (for garnish)\\\\n- olive oil (for drizzling)\\\\n- optional toppings: diced tomatoes, diced onions, tahini sauce\\\\n\\\\n\",\"3616\":\"ingredients:\\\\n- mini sandwich rolls\\\\n- smoked ham, thinly sliced\\\\n- cheddar cheese, sliced\\\\n- butter, softened\\\\n- dijon mustard (optional)\\\\n- mayonnaise (optional)\\\\n- salt and pepper\\\\n\\\\n\",\"3665\":\"ingredients:\\\\n- mini pita breads\\\\n- tomato sauce\\\\n- mozzarella cheese, grated\\\\n- toppings of your choice (e.g., pepperoni, bell peppers, mushrooms, onions, olives)\\\\n\\\\n\",\"3697\":\"ingredients:\\\\n- ripe plantains\\\\n- vegetable oil\\\\n- salt to taste\\\\n\\\\n\",\"4148\":\"i apologize, but i don\\'t have access to the calorie information for recipes. however, i can provide you with the ingredients and preparation steps for herb-roasted turkey breast with sweet potatoes.\\\\n\\\\ningredients:\\\\n- 1 boneless turkey breast (about 3 pounds)\\\\n- 2 tablespoons olive oil\\\\n- 2 teaspoons dried rosemary\\\\n- 2 teaspoons dried thyme\\\\n- 1 teaspoon dried sage\\\\n- salt and pepper to taste\\\\n- 4 medium sweet potatoes, peeled and cubed\\\\n- 2 tablespoons melted butter\\\\n- 2 tablespoons brown sugar\\\\n- 1 teaspoon cinnamon\\\\n\\\\n\",\"4162\":\"i apologize, but as a text-based ai, i do not have the capability to provide specific nutritional information such as calories for recipes. however, i can provide you with the ingredients and preparation steps for greek stuffed chicken breast with roasted potatoes. here\\'s the information you requested:\\\\n\\\\ningredients:\\\\n- 4 boneless, skinless chicken breasts\\\\n- 2 cups baby spinach\\\\n- 1 cup crumbled feta cheese\\\\n- 1 tablespoon chopped fresh dill\\\\n- 1 teaspoon dried oregano\\\\n- 1\\\\/2 teaspoon garlic powder\\\\n- salt and pepper to taste\\\\n- 4 large potatoes, cut into quarters\\\\n- 2 tablespoons olive oil\\\\n- 1 teaspoon dried rosemary\\\\n- 1 teaspoon dried thyme\\\\n- 1 teaspoon dried oregano\\\\n- salt and pepper to taste\\\\n\\\\n\",\"4203\":\"i apologize, but as an ai text-based model, i don\\'t have access to a database of specific recipes or nutritional information, including calories. however, i can provide you with a general recipe for honey glazed sesame chicken with brown rice:\\\\n\\\\ningredients:\\\\n- chicken breasts, boneless and skinless\\\\n- honey\\\\n- soy sauce\\\\n- sesame oil\\\\n- garlic cloves, minced\\\\n- ginger, grated\\\\n- sesame seeds\\\\n- brown rice\\\\n- vegetable oil\\\\n- salt and pepper\\\\n- green onions, chopped (for garnish, optional)\\\\n\\\\n\",\"4546\":\"i apologize, but as a language model, i do not have access to the specific nutritional information for recipes. however, i can provide you with the ingredients and preparation steps for a cheese and tomato toastie:\\\\n\\\\ningredients:\\\\n- 2 slices of bread\\\\n- butter for spreading\\\\n- cheese (any kind you prefer, such as cheddar or mozzarella)\\\\n- tomato slices\\\\n\\\\n\",\"4630\":\"ingredients:\\\\n- assorted vegetables (such as sweet potatoes, beets, zucchini, and carrots)\\\\n- olive oil\\\\n- salt\\\\n- pepper\\\\n- optional: spices\\\\/herbs of your choice (such as paprika, garlic powder, or dried rosemary)\\\\n\\\\n\",\"4653\":\"ingredients:\\\\n- cherry tomatoes\\\\n- mozzarella balls (bocconcini or ciliegine)\\\\n- fresh basil leaves\\\\n- balsamic glaze\\\\n- olive oil\\\\n- salt and pepper to taste\\\\n- skewers (wooden or metal)\\\\n\\\\n\",\"4844\":\"ingredients:\\\\n- mini bagels\\\\n- smoked salmon\\\\n- cream cheese\\\\n- fresh dill\\\\n- lemon zest\\\\n\\\\n\",\"4897\":\"here\\'s a recipe for roasted pumpkin seeds:\\\\n\\\\ningredients:\\\\n- pumpkin seeds\\\\n- olive oil\\\\n- salt (optional)\\\\n- seasonings of your choice (such as garlic powder, paprika, cayenne pepper, etc.)\\\\n\\\\n\",\"4910\":\"unfortunately, i am an ai language model and do not have access to specific recipes or their calorie information. however, i can provide you with a general idea of how to make yogurt covered berries. \\\\n\\\\ningredients:\\\\n- fresh berries (strawberries, blueberries, raspberries, etc.)\\\\n- yogurt of your choice (preferably greek yogurt or plain yogurt)\\\\n- optional: honey or sweetener of your choice (if desired)\\\\n\\\\n\",\"4917\":\"200 calories\\\\n\\\\ningredients:\\\\n- cherry tomatoes\\\\n- fresh mozzarella pearls or cubes\\\\n- fresh basil leaves\\\\n- balsamic glaze\\\\n- olive oil\\\\n- salt and pepper\\\\n\\\\n\",\"4950\":\"ingredients:\\\\n- mini baguette or french bread slices\\\\n- pizza sauce\\\\n- mozzarella cheese, shredded\\\\n- cherry tomatoes, halved\\\\n- fresh basil leaves\\\\n- olive oil\\\\n- salt and pepper to taste\\\\n\\\\n\",\"4988\":\"ingredients:\\\\n- mozzarella balls\\\\n- cherry tomatoes\\\\n- fresh basil leaves\\\\n- balsamic glaze\\\\n- salt and pepper\\\\n\\\\n\",\"5355\":\"grilled veggie burger with whole wheat bun:\\\\n\\\\ningredients:\\\\n- veggie burger patty\\\\n- whole wheat bun\\\\n- assorted grilled veggies (such as bell peppers, zucchini, eggplant)\\\\n- olive oil\\\\n- salt\\\\n- pepper\\\\n- optional toppings: lettuce, tomato, onion, avocado, mustard, ketchup\\\\n\\\\n\",\"5536\":\"ingredients:\\\\n- 4 boneless, skinless chicken breasts\\\\n- 2 tablespoons olive oil\\\\n- 2 cloves garlic, minced\\\\n- 1 teaspoon dried oregano\\\\n- 1 teaspoon dried thyme\\\\n- 1 teaspoon paprika\\\\n- salt and black pepper, to taste\\\\n\\\\n\",\"6065\":\" and whisk to combine.\\\\n\\\\n4. in another bowl, combine the non-dairy milk, vegetable or coconut oil, and vanilla extract. stir until well combined.\\\\n\\\\n5. pour the wet \\\\n into the dry \\\\n. mix until just combined, being careful not to overmix as this can lead to tough waffles. it\\\\u2019s okay if there are a few small lumps.\\\\n\\\\n6. if you\\'re using vegan chocolate chips, gently fold them into the batter.\\\\n\\\\n7. spray the waffle iron with non-stick cooking spray or lightly brush it with oil to prevent sticking.\\\\n\\\\n8. pour the appropriate amount of batter onto the waffle iron. this amount will vary depending on your waffle iron size and model, so refer to your manufacturer\\'s guidance.\\\\n\\\\n9. close the waffle iron and cook according to your waffle iron\\\\u2019s \",\"6133\":\"** together in a large bowl. combine the flour, sugar, baking powder, and salt.\\\\n\\\\n3. **separate the eggs**. place the yolks in one bowl and the whites in another.\\\\n\\\\n4. **beat the egg whites** until stiff peaks form. this will help give the waffles that traditional fluffy texture.\\\\n\\\\n5. **mix the wet \\\\n** with the egg yolks. whisk together the milk, melted butter, and vanilla extract.\\\\n\\\\n6. **combine the wet and dry \\\\n**. pour the wet mixture into the dry \\\\n and mix until just combined. be careful not to overmix, as this can result in dense waffles.\\\\n\\\\n7. **fold in the egg whites**. gently fold the beaten egg whites into the batter, trying not to deflate them too much. this will contribute to the light and airy consistency of the waffles.\\\\n\\\\n8. **prepare the waffle iron**. brush or spray the waffle iron with oil to ensure the waffles don\\'t stick.\\\\n\\\\n9. **cook the waffles**. pour an appropriate amount of batter onto the preheated waffle iron (the amount will depend on the size of your waffle iron; usually, it\\'s about 1\\\\/2 cup to 1 cup). spread the batter close to the edges, and close the lid. cook according to the waffle iron\\'s \",\"6515\":\"loin pork chops (1 per person \\\\n  1\\\\/2-inch thick) \\\\n  trimmed of fat \\\\n  apples \\\\n  halved and cored (not peeled) \\\\n  onions \\\\n  sliced 1\\\\/2-inch thick \\\\n  salt and pepper to taste\",\"6523\":\"1 box yellow cake mix \\\\n  4 eggs \\\\n  1 can mandarin oranges \\\\n  1\\\\/2 c. oil\",\"6529\":\"1 large pkg. Oreo cookies \\\\n  1 1\\\\/2 gal. Blue Bell peppermint ice cream \\\\n  1 stick butter\",\"6541\":\"1 egg \\\\n  1 Ziploc Baggie\",\"6550\":\"1 bag boneless skinless thawed chicken breasts \\\\n  1 package provolone cheese slices \\\\n  1 bottle honey dijon salad dressing \\\\n  1 bag cooked bacon pieces\",\"6556\":\"1 qt. coffee ice cream \\\\n  9-inch graham cracker pie shell \\\\n  1 pt. pistachio \\\\n  butter pecan or vanilla ice cream \\\\n  1\\\\/4 c. dark creme de cacao or chocolate syrup\",\"6569\":\"2 (8 oz.) pkg. refrigerator crescent rolls \\\\n  2 (8 oz.) pkg. cream cheese \\\\n  3 Tbsp. mayonnaise \\\\n  1\\\\/2 tsp. basil leaves \\\\n  1\\\\/4 tsp. garlic powder \\\\n  chopped vegetables (broccoli \\\\n  red and green sweet peppers \\\\n  tomatoes and slivers of carrot) \\\\n  freshly grated Jack cheese\",\"6573\":\"4 lb. hamburger \\\\n  a whole box noodles \\\\n  5 drops basghetti sauce \\\\n  4 drops grease\",\"6610\":\"1 box German chocolate cake mix with pudding \\\\n  1 can condensed \\\\n  sweetened milk \\\\n  1 bag caramels \\\\n  1 bag chocolate chips \\\\n  1 stick butter \\\\n  1 bag walnuts or pecans\",\"6616\":\"3 large cans frozen lemonade \\\\n  diluted \\\\n  dry sherry \\\\n  1 to 2 bottles chilled soda water \\\\n  ice ring of lemonade\",\"6635\":\"2\\\\/3 c. dried apricots \\\\n  1\\\\/2 c. butter \\\\n  1\\\\/4 c. sugar \\\\n  1 c. sifted flour \\\\n  2 eggs \\\\n  beat slightly \\\\n  1 c. brown sugar \\\\n  packed \\\\n  1\\\\/3 c. sifted flour \\\\n  1\\\\/2 tsp. baking powder \\\\n  salt (optional) \\\\n  1\\\\/2 tsp. vanilla \\\\n  1 c. pecans\",\"6637\":\"apple cider vinegar \\\\n  white sugar \\\\n  Crisco oil \\\\n  ketchup\",\"6643\":\"vanilla wafers \\\\n  1 large pkg. instant vanilla pudding \\\\n  1 large tub whipped topping \\\\n  4 to 5 bananas \\\\n  1 large can crushed pineapple \\\\n  drained \\\\n  nuts \\\\n  cherries\",\"6711\":\"1 (10 ounce) package of pillsbury big and flaky crescent rolls \\\\n  4 slices deli ham \\\\n  4 slices swiss cheese\",\"6758\":\"Chocolate Fried Ice Cream \\\\n  1 quart vanilla ice cream \\\\n  1 cup vanilla wafer crumbs (about 30 wafers \\\\n  crushed) \\\\n  1\\\\/2 cup finely chopped pecans \\\\n  1\\\\/2 cup mounds sweetened flaked coconut \\\\n  3 tablespoons hershey\\'s cocoa \\\\n  2 eggs \\\\n  vegetable oil \\\\n  Chocolate Nut Sauce \\\\n  3 tablespoons butter or 3 tablespoons margarine \\\\n  1\\\\/3 cup pecan pieces \\\\n  2\\\\/3 cup sugar \\\\n  1\\\\/4 cup hershey\\'s cocoa \\\\n  1\\\\/8 teaspoon salt \\\\n  1\\\\/2 cup light cream \\\\n  1\\\\/2 teaspoon vanilla extract\",\"6801\":\"1 tbsp olive oil \\\\n  1 None onion \\\\n  finely chopped \\\\n  1 clove garlic \\\\n  minced \\\\n  2 tsp Madras curry powder \\\\n  5 cups vegetable stock \\\\n  3 1\\\\/4 lb butternut squash \\\\n  peeled \\\\n  deseeded \\\\n  cubed \\\\n  3.5 oz red lentils \\\\n  None None plain yogurt \\\\n  to serve \\\\n  None None fresh cilantro leaves \\\\n  to serve\",\"6803\":\"1 cup Dark Corn Syrup \\\\n  3 Eggs \\\\n  1 cup sugar \\\\n  2 tbsp melted butter \\\\n  1 tsp vanilla \\\\n  1\\\\/8 tsp salt \\\\n  1 1\\\\/2 cup Pecan halves\",\"6813\":\"1 1\\\\/2 cup Unsweetened almond milk \\\\n  1\\\\/3 cup Cocoa powder \\\\n  1 teaspoon Vanilla \\\\n  1\\\\/2 teaspoon Stevia extract \\\\n  1\\\\/2 cup Chia seeds\",\"6838\":\"2 tbl butter - 1\\\\/3 cup chopped leek \\\\n  white part - 3 cups chopped tart apple - 3 cups peeled & diced butternut squash - 1 cup peeled & chopped russet potato - 1\\\\/3 cup sherry - 3 cups broth - 1 cup orange juice - 1 tbl honey - 1\\\\/2 tsp kosher salt - 1\\\\/2 tsp grated nutmeg - 1 1\\\\/2 tbl curry powder - coarsely ground bl pepper - 1 1\\\\/4 cups 1\\\\/2 & 1\\\\/2 - 3\\\\/4 cup shredded cheddar cheese - shredded fresh basil\",\"6889\":\"2 bacon slices \\\\n  chopped \\\\n  5 1\\\\/2 cups thinly sliced trimmed collard greens (about 7 leaves) \\\\n  2 tablespoons water \\\\n  1\\\\/4 teaspoon kosher salt \\\\n  Hot sauce (optional)\",\"6916\":\"3 large eggs \\\\n  3 tablespoons sugar \\\\n  1\\\\/2 teaspoon salt \\\\n  1\\\\/2 teaspoon vanilla extract \\\\n  2 cups all-purpose flour \\\\n  1-1\\\\/2 teaspoons baking powder \\\\n  1-1\\\\/2 teaspoons butter \\\\n  softened \\\\n  Oil for deep-fat frying \\\\n  Confectioners\\' sugar\",\"6931\":\"Olive Oil \\\\n  As Needed \\\\n  1 Medium Red Onion \\\\n  Finely Chopped \\\\n  750 grams Frozen Sweet Corn \\\\n  1 Medium Red Bell Pepper \\\\n  Chopped \\\\n  1\\\\/4 teaspoons Salt \\\\n  Plus More To Taste \\\\n  Pepper To Taste \\\\n  1 teaspoon Cumin \\\\n  3\\\\/4 cups Fresh Cilantro \\\\n  Washed And Roughly Chopped \\\\n  1 Lime \\\\n  Juiced\",\"6936\":\"1 cup Raisins \\\\n  1\\\\/8 cups Rum \\\\n  2 cups All-purpose Flour \\\\n  1 package Active Dry Yeast \\\\n  0.25 Ounce Packet \\\\n  1\\\\/4 cups Granulated Sugar \\\\n  1\\\\/2 teaspoons Salt \\\\n  1\\\\/4 cups Water \\\\n  1 teaspoon Vanilla Extract \\\\n  1\\\\/3 cups Milk \\\\n  1\\\\/2 sticks Butter \\\\n  2 Eggs \\\\n  3\\\\/4 cups All-purpose Flour \\\\n  1\\\\/2 cups Granulated Sugar \\\\n  2 Tablespoons Butter \\\\n  Softened \\\\n  2 teaspoons Cinnamon\"}}'"
      ]
     },
     "execution_count": 15,
     "metadata": {},
     "output_type": "execute_result"
    }
   ],
   "source": [
    "df_to_fix[['title','ingredients']].to_json()"
   ]
  },
  {
   "cell_type": "code",
   "execution_count": 142,
   "metadata": {},
   "outputs": [],
   "source": [
    "df_recipes.to_csv('/home/victor/Documents/Expectation_data_generation/src/meals_collection/df_final_7000_with_ingredients_fixed.csv', \n",
    "                  sep='|')"
   ]
  },
  {
   "cell_type": "code",
   "execution_count": 17,
   "metadata": {},
   "outputs": [],
   "source": [
    "df_to_fix = df_recipes.loc[mask, :]"
   ]
  },
  {
   "cell_type": "code",
   "execution_count": 18,
   "metadata": {},
   "outputs": [],
   "source": [
    "df_recipes.loc[mask, \"ingredients\"] = df_to_fix[\"ingredients\"].apply(lambda x: x.split(\"\\n\\n\")[-1]).tolist()"
   ]
  },
  {
   "cell_type": "code",
   "execution_count": 19,
   "metadata": {},
   "outputs": [],
   "source": [
    "# fixing columns \n",
    "mask = df_recipes['carbs'].isna()\n",
    "df_to_fix = df_recipes.loc[mask, :]"
   ]
  },
  {
   "cell_type": "code",
   "execution_count": 20,
   "metadata": {},
   "outputs": [
    {
     "data": {
      "text/plain": [
       "['',\n",
       " '',\n",
       " '',\n",
       " '',\n",
       " '',\n",
       " '',\n",
       " '',\n",
       " '',\n",
       " '',\n",
       " '',\n",
       " '',\n",
       " '',\n",
       " '',\n",
       " '',\n",
       " '',\n",
       " '',\n",
       " '',\n",
       " '',\n",
       " '',\n",
       " '',\n",
       " '',\n",
       " '',\n",
       " '',\n",
       " '',\n",
       " '',\n",
       " '',\n",
       " '',\n",
       " '',\n",
       " '',\n",
       " '',\n",
       " '',\n",
       " '',\n",
       " '',\n",
       " '',\n",
       " '',\n",
       " '',\n",
       " '',\n",
       " '9. close the waffle iron and cook according to your waffle iron’s ',\n",
       " \"9. **cook the waffles**. pour an appropriate amount of batter onto the preheated waffle iron (the amount will depend on the size of your waffle iron; usually, it's about 1/2 cup to 1 cup). spread the batter close to the edges, and close the lid. cook according to the waffle iron's \",\n",
       " 'loin pork chops (1 per person \\n  1/2-inch thick) \\n  trimmed of fat \\n  apples \\n  halved and cored (not peeled) \\n  onions \\n  sliced 1/2-inch thick \\n  salt and pepper to taste',\n",
       " '1 box yellow cake mix \\n  4 eggs \\n  1 can mandarin oranges \\n  1/2 c. oil',\n",
       " '1 large pkg. Oreo cookies \\n  1 1/2 gal. Blue Bell peppermint ice cream \\n  1 stick butter',\n",
       " '1 egg \\n  1 Ziploc Baggie',\n",
       " '1 bag boneless skinless thawed chicken breasts \\n  1 package provolone cheese slices \\n  1 bottle honey dijon salad dressing \\n  1 bag cooked bacon pieces',\n",
       " '1 qt. coffee ice cream \\n  9-inch graham cracker pie shell \\n  1 pt. pistachio \\n  butter pecan or vanilla ice cream \\n  1/4 c. dark creme de cacao or chocolate syrup',\n",
       " '2 (8 oz.) pkg. refrigerator crescent rolls \\n  2 (8 oz.) pkg. cream cheese \\n  3 Tbsp. mayonnaise \\n  1/2 tsp. basil leaves \\n  1/4 tsp. garlic powder \\n  chopped vegetables (broccoli \\n  red and green sweet peppers \\n  tomatoes and slivers of carrot) \\n  freshly grated Jack cheese',\n",
       " '4 lb. hamburger \\n  a whole box noodles \\n  5 drops basghetti sauce \\n  4 drops grease',\n",
       " '1 box German chocolate cake mix with pudding \\n  1 can condensed \\n  sweetened milk \\n  1 bag caramels \\n  1 bag chocolate chips \\n  1 stick butter \\n  1 bag walnuts or pecans',\n",
       " '3 large cans frozen lemonade \\n  diluted \\n  dry sherry \\n  1 to 2 bottles chilled soda water \\n  ice ring of lemonade',\n",
       " '2/3 c. dried apricots \\n  1/2 c. butter \\n  1/4 c. sugar \\n  1 c. sifted flour \\n  2 eggs \\n  beat slightly \\n  1 c. brown sugar \\n  packed \\n  1/3 c. sifted flour \\n  1/2 tsp. baking powder \\n  salt (optional) \\n  1/2 tsp. vanilla \\n  1 c. pecans',\n",
       " 'apple cider vinegar \\n  white sugar \\n  Crisco oil \\n  ketchup',\n",
       " 'vanilla wafers \\n  1 large pkg. instant vanilla pudding \\n  1 large tub whipped topping \\n  4 to 5 bananas \\n  1 large can crushed pineapple \\n  drained \\n  nuts \\n  cherries',\n",
       " '1 (10 ounce) package of pillsbury big and flaky crescent rolls \\n  4 slices deli ham \\n  4 slices swiss cheese',\n",
       " \"Chocolate Fried Ice Cream \\n  1 quart vanilla ice cream \\n  1 cup vanilla wafer crumbs (about 30 wafers \\n  crushed) \\n  1/2 cup finely chopped pecans \\n  1/2 cup mounds sweetened flaked coconut \\n  3 tablespoons hershey's cocoa \\n  2 eggs \\n  vegetable oil \\n  Chocolate Nut Sauce \\n  3 tablespoons butter or 3 tablespoons margarine \\n  1/3 cup pecan pieces \\n  2/3 cup sugar \\n  1/4 cup hershey's cocoa \\n  1/8 teaspoon salt \\n  1/2 cup light cream \\n  1/2 teaspoon vanilla extract\",\n",
       " '1 tbsp olive oil \\n  1 None onion \\n  finely chopped \\n  1 clove garlic \\n  minced \\n  2 tsp Madras curry powder \\n  5 cups vegetable stock \\n  3 1/4 lb butternut squash \\n  peeled \\n  deseeded \\n  cubed \\n  3.5 oz red lentils \\n  None None plain yogurt \\n  to serve \\n  None None fresh cilantro leaves \\n  to serve',\n",
       " '1 cup Dark Corn Syrup \\n  3 Eggs \\n  1 cup sugar \\n  2 tbsp melted butter \\n  1 tsp vanilla \\n  1/8 tsp salt \\n  1 1/2 cup Pecan halves',\n",
       " '1 1/2 cup Unsweetened almond milk \\n  1/3 cup Cocoa powder \\n  1 teaspoon Vanilla \\n  1/2 teaspoon Stevia extract \\n  1/2 cup Chia seeds',\n",
       " '2 tbl butter - 1/3 cup chopped leek \\n  white part - 3 cups chopped tart apple - 3 cups peeled & diced butternut squash - 1 cup peeled & chopped russet potato - 1/3 cup sherry - 3 cups broth - 1 cup orange juice - 1 tbl honey - 1/2 tsp kosher salt - 1/2 tsp grated nutmeg - 1 1/2 tbl curry powder - coarsely ground bl pepper - 1 1/4 cups 1/2 & 1/2 - 3/4 cup shredded cheddar cheese - shredded fresh basil',\n",
       " '2 bacon slices \\n  chopped \\n  5 1/2 cups thinly sliced trimmed collard greens (about 7 leaves) \\n  2 tablespoons water \\n  1/4 teaspoon kosher salt \\n  Hot sauce (optional)',\n",
       " \"3 large eggs \\n  3 tablespoons sugar \\n  1/2 teaspoon salt \\n  1/2 teaspoon vanilla extract \\n  2 cups all-purpose flour \\n  1-1/2 teaspoons baking powder \\n  1-1/2 teaspoons butter \\n  softened \\n  Oil for deep-fat frying \\n  Confectioners' sugar\",\n",
       " 'Olive Oil \\n  As Needed \\n  1 Medium Red Onion \\n  Finely Chopped \\n  750 grams Frozen Sweet Corn \\n  1 Medium Red Bell Pepper \\n  Chopped \\n  1/4 teaspoons Salt \\n  Plus More To Taste \\n  Pepper To Taste \\n  1 teaspoon Cumin \\n  3/4 cups Fresh Cilantro \\n  Washed And Roughly Chopped \\n  1 Lime \\n  Juiced',\n",
       " '1 cup Raisins \\n  1/8 cups Rum \\n  2 cups All-purpose Flour \\n  1 package Active Dry Yeast \\n  0.25 Ounce Packet \\n  1/4 cups Granulated Sugar \\n  1/2 teaspoons Salt \\n  1/4 cups Water \\n  1 teaspoon Vanilla Extract \\n  1/3 cups Milk \\n  1/2 sticks Butter \\n  2 Eggs \\n  3/4 cups All-purpose Flour \\n  1/2 cups Granulated Sugar \\n  2 Tablespoons Butter \\n  Softened \\n  2 teaspoons Cinnamon']"
      ]
     },
     "execution_count": 20,
     "metadata": {},
     "output_type": "execute_result"
    }
   ],
   "source": [
    "df_to_fix['ingredients'].tolist()"
   ]
  },
  {
   "cell_type": "code",
   "execution_count": 21,
   "metadata": {},
   "outputs": [
    {
     "data": {
      "text/plain": [
       "['Vegan Raspberry Almond Scones',\n",
       " 'Vegan Pumpkin Spice Pancakes',\n",
       " 'Sweet Potato Chips ',\n",
       " 'Cucumber Rolls with Vegan Cream Cheese ',\n",
       " 'Coconut Yogurt Parfait with Berries',\n",
       " 'Mozzarella Sticks',\n",
       " 'Fresh Squeezed Orange Juice',\n",
       " 'Homemade Veggie Pizza',\n",
       " 'Caprese Skewers with Balsamic Glaze',\n",
       " 'Caprese salad skewers',\n",
       " 'Tomato and mozzarella skewers',\n",
       " 'Stuffed dates with almond butter',\n",
       " 'Greek Feta and Olive Bread',\n",
       " 'Veggie Chips',\n",
       " 'Mini Pizzas',\n",
       " 'Yogurt Covered Strawberries',\n",
       " 'Tomato and Mozzarella Skewers',\n",
       " 'Caprese salad',\n",
       " 'Turkish Gözleme',\n",
       " 'Classical Arab Ful Medames',\n",
       " 'Mini ham and cheese sandwiches',\n",
       " 'Mini Pita Pizzas',\n",
       " 'Fried Plantain',\n",
       " 'Herb-roasted turkey breast with sweet potatoes',\n",
       " 'Greek stuffed chicken breast with roasted potatoes',\n",
       " 'Honey glazed sesame chicken with brown rice',\n",
       " 'Cheese and Tomato Toastie',\n",
       " 'Baked vegetable crisps',\n",
       " 'Cherry tomato and mozzarella skewers',\n",
       " 'Mini Bagel Chips with Smoked Salmon',\n",
       " 'Roasted Pumpkin Seeds',\n",
       " 'Yogurt Covered Berries',\n",
       " 'Tomato and Mozzarella Salad Skewers',\n",
       " 'Mini Bruschetta Pizzas',\n",
       " 'Mozzarella and cherry tomato skewers',\n",
       " 'Grilled Veggie Burger with whole wheat bun',\n",
       " 'Grilled Chicken Breast',\n",
       " 'Vegan Chocolate Waffles',\n",
       " 'Belgian Waffles',\n",
       " 'Baked Moist Pork Chops',\n",
       " 'Pea Pickin Cake',\n",
       " 'Cookies And Ice Cream Sandwich',\n",
       " 'Omelet In A Bag',\n",
       " \"Annie'S Alice Springs Chicken\",\n",
       " 'Cream De Cacao Pie',\n",
       " 'Confetti Bites(Appetizer)  ',\n",
       " 'Basghetti',\n",
       " 'Brownies(Extra Fattening, Bigger Butted Women, Beware!)  ',\n",
       " 'Shorter Mansion Punch',\n",
       " 'Apricot Pecan Squares',\n",
       " \"Johnny'S Navy Dressing\",\n",
       " 'Quick Banana Split Cake',\n",
       " 'Ham And Cheese Crescent Wrap',\n",
       " 'Chocolate Fried Ice Cream',\n",
       " 'Curried Lentil And Squash Soup',\n",
       " 'Traditional Pecan Pie ',\n",
       " 'Keto Chia Pudding ',\n",
       " 'Butternut Squash & Apple Bisque ',\n",
       " 'Quick Collards',\n",
       " 'Italian Cenci Cookies',\n",
       " 'Sautéed Sweet Corn With Red Pepper And Cilantro',\n",
       " 'Rum Raisin Cinnamon Buns']"
      ]
     },
     "execution_count": 21,
     "metadata": {},
     "output_type": "execute_result"
    }
   ],
   "source": [
    "df_to_fix['title'].tolist()"
   ]
  },
  {
   "cell_type": "code",
   "execution_count": 112,
   "metadata": {},
   "outputs": [],
   "source": [
    "df_recipes.loc[mask, 'taste'] = 'sweet'"
   ]
  },
  {
   "cell_type": "markdown",
   "metadata": {},
   "source": [
    "## Continue fixing "
   ]
  },
  {
   "cell_type": "code",
   "execution_count": 113,
   "metadata": {},
   "outputs": [],
   "source": [
    "df = pd.read_csv('/home/victor/Documents/Expectation_data_generation/src/meals_collection/df_final_7000_with_ingredients_fixed.csv',\n",
    "                 sep='|', index_col=0)"
   ]
  },
  {
   "cell_type": "code",
   "execution_count": 116,
   "metadata": {},
   "outputs": [
    {
     "name": "stdout",
     "output_type": "stream",
     "text": [
      "15\n"
     ]
    }
   ],
   "source": [
    "mask = df['preparation'].isna()\n",
    "print(sum(mask))\n",
    "df.loc[mask, 'preparation'] = [\"\"\"Slice beef thinly and marinate with soy sauce, garlic, ginger, and a bit of cornstarch.\n",
    "Blanch broccoli florets in boiling water for a few minutes until slightly tender.\n",
    "Stir-fry marinated beef in a hot wok until browned, then set aside.\n",
    "In the same wok, stir-fry broccoli with additional garlic and ginger until vibrant green.\n",
    "Return beef to the wok, add a sauce made of soy sauce, oyster sauce, and a bit of sugar.\n",
    "Cook until the sauce thickens and coats the beef and broccoli. Serve hot with steamed rice.\n",
    "                                       \"\"\", \n",
    "                                       \"\"\"\n",
    "                                       Marinate pork strips in a mixture of hoisin sauce, soy sauce, honey, Chinese five-spice powder, and garlic.\n",
    "Let the pork marinate for a few hours or overnight.\n",
    "Roast the marinated pork in the oven or grill until cooked through and slightly charred on the edges.\n",
    "Baste with additional marinade during cooking for extra flavor.\n",
    "Slice and serve hot, typically with steamed rice or noodles.\n",
    "                                       \"\"\", \n",
    "                                       \"\"\"\n",
    "                                       Rinse rice and place it in a large pot with plenty of water.\n",
    "Bring to a boil, then reduce heat to low and simmer, stirring occasionally.\n",
    "As the rice cooks and breaks down, it will thicken into a porridge-like consistency.\n",
    "Season with salt and pepper to taste.\n",
    "Serve hot with various toppings such as green onions, shredded chicken, fried shallots, soy sauce, and pickled vegetables.\n",
    "                                       \"\"\", \n",
    "                                       \"\"\"\n",
    "                                       Cook noodles according to package instructions and drain.\n",
    "Meanwhile, prepare the sauce by mixing together soy sauce, sesame paste, chili oil, vinegar, sugar, and Sichuan peppercorn powder.\n",
    "Cook ground pork with ginger, garlic, and Sichuan peppercorn until browned and fragrant.\n",
    "Combine cooked noodles with the sauce and cooked pork, tossing well to coat.\n",
    "Serve topped with chopped green onions and crushed peanuts for garnish.\n",
    "                                       \"\"\",\n",
    "                                       \"\"\"\n",
    "                                       Cook rice and let it cool completely, preferably using day-old rice.\n",
    "Heat oil in a wok or large skillet over high heat.\n",
    "Add beaten eggs and scramble until just set, then remove from the wok and set aside.\n",
    "Add more oil to the wok and stir-fry finely chopped vegetables like carrots, peas, and bell peppers until tender.\n",
    "Add the cooled rice to the wok along with soy sauce and any desired seasonings.\n",
    "Stir-fry everything together until the rice is heated through and evenly coated with the sauce.\n",
    "Add the scrambled eggs back into the wok and toss everything together until well combined.\n",
    "Serve hot, garnished with chopped green onions.\n",
    "                                       \"\"\", \n",
    "                                       \"\"\"\n",
    "                                       Prepare a broth by simmering chicken or vegetable stock with aromatics like ginger, garlic, and mushrooms.\n",
    "Season the broth with soy sauce, vinegar, and a bit of sugar for balance.\n",
    "Add in tofu, bamboo shoots, and any desired protein like shredded chicken or pork.\n",
    "Thicken the soup with a slurry made of cornstarch and water.\n",
    "Just before serving, swirl in beaten eggs to create ribbons.\n",
    "Adjust seasoning with salt, pepper, and additional vinegar or soy sauce to taste.\n",
    "Garnish with chopped green onions and a drizzle of sesame oil before serving.\n",
    "                                       \"\"\",\n",
    "                                       \"\"\"\n",
    "                                       Marinate chicken pieces in soy sauce, rice wine, and cornstarch for about 30 minutes.\n",
    "Heat oil in a wok over high heat and stir-fry marinated chicken until cooked through.\n",
    "Remove chicken from the wok and set aside.\n",
    "In the same wok, stir-fry dried red chilies, Sichuan peppercorns, and peanuts until fragrant.\n",
    "Add minced garlic, ginger, and diced bell peppers, stirring constantly.\n",
    "Return the cooked chicken to the wok and add a sauce made of soy sauce, hoisin sauce, vinegar, and sugar.\n",
    "Cook until the sauce thickens and coats the chicken and vegetables.\n",
    "Serve hot with steamed rice.\n",
    "                                       \"\"\", \n",
    "                                       \"\"\"\n",
    "                                       Sauté ground pork with garlic, ginger, and doubanjiang (fermented bean paste) until browned.\n",
    "Add diced tofu and gently stir to combine.\n",
    "Pour in a sauce made of soy sauce, fermented black beans, and chicken or vegetable stock.\n",
    "Simmer until the tofu absorbs the flavors of the sauce.\n",
    "Thicken the sauce with a slurry made of cornstarch and water.\n",
    "Garnish with sliced green onions and a drizzle of sesame oil before serving.\n",
    "                                       \"\"\",\n",
    "                                       \"\"\"\n",
    "                                       Rub duck with a mixture of Chinese five-spice powder, salt, and sugar, and let it marinate overnight.\n",
    "Roast duck in a hot oven until the skin is crispy and golden brown.\n",
    "Serve sliced duck with thin pancakes, hoisin sauce, sliced cucumbers, and green onions.\n",
    "To eat, spread hoisin sauce on a pancake, add slices of duck, cucumber, and green onions, then roll up and enjoy.\n",
    "                                       \"\"\", \n",
    "                                       \"\"\"\n",
    "                                       Mix together flour, water, and salt to form a dough.\n",
    "Roll out the dough into a thin rectangle on a floured surface.\n",
    "Brush the dough with sesame oil and sprinkle chopped scallions evenly over the surface.\n",
    "Roll up the dough into a tight cylinder, then coil it into a spiral.\n",
    "Flatten the coil into a pancake shape.\n",
    "Pan-fry the pancake in a hot skillet until golden brown and crispy on both sides.\n",
    "Serve hot, sliced into wedges, with dipping sauce.\n",
    "                                       \"\"\",\n",
    "                                       \"\"\"\n",
    "                                       Blanch green beans in boiling water for a few minutes, then drain and set aside.\n",
    "Heat oil in a wok and stir-fry minced garlic, ginger, and dried red chilies until fragrant.\n",
    "Add blanched green beans to the wok and stir-fry until tender-crisp.\n",
    "Season with soy sauce, sugar, and a splash of rice vinegar.\n",
    "Toss everything together until the beans are evenly coated with the sauce.\n",
    "Serve hot, garnished with chopped green onions and sesame seeds.\n",
    "                                       \"\"\", \n",
    "                                       \"\"\"\n",
    "                                       Prepare a filling by combining ground meat (usually pork or chicken) with minced vegetables, garlic, ginger, soy sauce, sesame oil, and other seasonings.\n",
    "Place a small amount of filling in the center of a dumpling wrapper.\n",
    "Moisten the edges of the wrapper with water, then fold and pleat the edges to seal the dumpling.\n",
    "Arrange the dumplings in a steamer basket and steam until cooked through, about 10-15 minutes.\n",
    "Serve hot with soy sauce or dipping sauce of choice.\n",
    "                                       \"\"\",\n",
    "                                       \"\"\"\n",
    "                                       Grate turnips and mix them with rice flour, water, and seasonings like salt, white pepper, and dried shrimp.\n",
    "Pour the mixture into a greased pan and steam until set and cooked through.\n",
    "Let the turnip cake cool completely, then slice into pieces.\n",
    "Pan-fry the sliced turnip cakes until crispy and golden brown on both sides.\n",
    "Serve hot with soy sauce or hoisin sauce.\n",
    "                                       \"\"\", \n",
    "                                       \"\"\"\n",
    "                                       Prepare a filling by mixing ground pork with minced garlic, ginger, green onions, soy sauce, sesame oil, and a bit of cornstarch.\n",
    "Place a small amount of filling in the center of a wonton wrapper.\n",
    "Moisten the edges of the wrapper with water, then fold and seal the wonton into desired shapes.\n",
    "Bring chicken or vegetable broth to a simmer and carefully drop in the wontons.\n",
    "Cook until the wontons float to the surface and the filling is cooked through.\n",
    "Season the soup with salt, pepper, and additional soy sauce to taste.\n",
    "Garnish with chopped green onions before serving.\n",
    "                                       \"\"\",\n",
    "                                       \"\"\"\n",
    "                                       Instructions:\n",
    "\n",
    "Prepare the Noodles:\n",
    "\n",
    "Cook the noodles according to package instructions until al dente.\n",
    "Drain and rinse the noodles under cold water to stop the cooking process and prevent them from sticking together.\n",
    "Toss the noodles with a bit of sesame oil to prevent sticking and set aside.\n",
    "Prepare the Sauce:\n",
    "\n",
    "In a small bowl, mix together 3-4 tablespoons of fermented yellow soybean paste (Huangjiang), 1 tablespoon of soy sauce, and 1 teaspoon of sugar. Adjust the quantities to your taste preference.\n",
    "Stir until the soybean paste is well combined with the other ingredients. Set the sauce aside.\n",
    "Cook the Ground Pork or Beef:\n",
    "\n",
    "Heat a bit of cooking oil in a pan or wok over medium heat.\n",
    "Add minced garlic and ginger to the pan and sauté until fragrant, about 1-2 minutes.\n",
    "Add the ground pork or beef to the pan and cook, breaking it apart with a spatula, until browned and cooked through.\n",
    "Once cooked, drain excess fat if necessary.\n",
    "Combine Sauce and Meat:\n",
    "\n",
    "Lower the heat and add the prepared sauce to the cooked meat in the pan.\n",
    "Stir well to combine, ensuring that the meat is evenly coated with the sauce.\n",
    "Allow the mixture to simmer for a few minutes to allow the flavors to meld together.\n",
    "Assemble the Dish:\n",
    "\n",
    "Place a portion of cooked noodles in serving bowls.\n",
    "Spoon the meat and sauce mixture over the noodles.\n",
    "Optionally, garnish with julienned cucumber, shredded carrots, and chopped green onions for added texture and freshness.\n",
    "Serve:\n",
    "\n",
    "Serve the Zhajiangmian hot, allowing each diner to mix the noodles and sauce together before eating.\n",
    "You can also serve it with additional soy sauce or chili oil on the side for those who prefer extra flavor or spice.\n",
    "Enjoy your homemade Zhajiangmian!\n",
    "                                       \"\"\"\n",
    "                                       ] "
   ]
  },
  {
   "cell_type": "code",
   "execution_count": 122,
   "metadata": {},
   "outputs": [],
   "source": [
    "df.to_csv('/home/victor/Documents/Expectation_data_generation/src/meals_collection/df_final_7000_with_ingredients_prep_fixed.csv', \n",
    "          sep='|', encoding='utf-8')"
   ]
  },
  {
   "cell_type": "code",
   "execution_count": 117,
   "metadata": {},
   "outputs": [
    {
     "name": "stdout",
     "output_type": "stream",
     "text": [
      "0\n"
     ]
    }
   ],
   "source": [
    "mask = df['preparation'].isna()\n",
    "print(sum(mask))"
   ]
  }
 ],
 "metadata": {
  "kernelspec": {
   "display_name": "data_gen",
   "language": "python",
   "name": "python3"
  },
  "language_info": {
   "codemirror_mode": {
    "name": "ipython",
    "version": 3
   },
   "file_extension": ".py",
   "mimetype": "text/x-python",
   "name": "python",
   "nbconvert_exporter": "python",
   "pygments_lexer": "ipython3",
   "version": "3.9.16"
  },
  "orig_nbformat": 4
 },
 "nbformat": 4,
 "nbformat_minor": 2
}
