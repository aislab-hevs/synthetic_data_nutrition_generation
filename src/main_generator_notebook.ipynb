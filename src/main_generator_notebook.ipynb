{
 "cells": [
  {
   "cell_type": "markdown",
   "metadata": {},
   "source": [
    "# User's notebook \n",
    "\n",
    "Please run the imports, fill the fields and press the simulation button. once the simulation have concluded you can download the summary table and the generated dataset. "
   ]
  },
  {
   "cell_type": "markdown",
   "metadata": {},
   "source": [
    "# 1. Imports \n",
    "please run the cells below before continue with the execution."
   ]
  },
  {
   "cell_type": "code",
   "execution_count": 3,
   "metadata": {},
   "outputs": [
    {
     "name": "stdout",
     "output_type": "stream",
     "text": [
      "The autoreload extension is already loaded. To reload it, use:\n",
      "  %reload_ext autoreload\n"
     ]
    }
   ],
   "source": [
    "%load_ext autoreload\n",
    "%autoreload 2\n",
    "from visualization.visualization_helpers import build_full_ui"
   ]
  },
  {
   "cell_type": "markdown",
   "metadata": {},
   "source": [
    "# 2. Run simulations \n",
    "\n",
    "Please fill the following form and then run the simulation. "
   ]
  },
  {
   "cell_type": "code",
   "execution_count": 4,
   "metadata": {
    "scrolled": false
   },
   "outputs": [
    {
     "data": {
      "application/vnd.jupyter.widget-view+json": {
       "model_id": "38682bd73cf94e03815127c92cd2f413",
       "version_major": 2,
       "version_minor": 0
      },
      "text/plain": [
       "Box(children=(IntText(value=500, description='Total users:'), IntText(value=365, description='Days to generate…"
      ]
     },
     "metadata": {},
     "output_type": "display_data"
    },
    {
     "data": {
      "application/vnd.jupyter.widget-view+json": {
       "model_id": "df2989768dd6498bab295b897a5c417d",
       "version_major": 2,
       "version_minor": 0
      },
      "text/plain": [
       "Accordion(children=(VBox(children=(SelectionSlider(description='20-29', index=2, layout=Layout(display='flex',…"
      ]
     },
     "metadata": {},
     "output_type": "display_data"
    },
    {
     "data": {
      "application/vnd.jupyter.widget-view+json": {
       "model_id": "ab9b0800f1704fd0bf451eae1f3d0c24",
       "version_major": 2,
       "version_minor": 0
      },
      "text/plain": [
       "Button(description='Start Generation', icon='play', style=ButtonStyle(), tooltip='Click to start the data gene…"
      ]
     },
     "metadata": {},
     "output_type": "display_data"
    },
    {
     "data": {
      "application/vnd.jupyter.widget-view+json": {
       "model_id": "59a53f1c0ee146f6ab72111d24ed04de",
       "version_major": 2,
       "version_minor": 0
      },
      "text/plain": [
       "Output()"
      ]
     },
     "metadata": {},
     "output_type": "display_data"
    }
   ],
   "source": [
    "build_full_ui()"
   ]
  }
 ],
 "metadata": {
  "interpreter": {
   "hash": "66bbf4fa6c6f4d9b7980e4a2f72372316a7dd0cd9956aefbd48db4c89728009f"
  },
  "kernelspec": {
   "display_name": "Python 3 (ipykernel)",
   "language": "python",
   "name": "python3"
  },
  "language_info": {
   "codemirror_mode": {
    "name": "ipython",
    "version": 3
   },
   "file_extension": ".py",
   "mimetype": "text/x-python",
   "name": "python",
   "nbconvert_exporter": "python",
   "pygments_lexer": "ipython3",
   "version": "3.9.16"
  }
 },
 "nbformat": 4,
 "nbformat_minor": 2
}
