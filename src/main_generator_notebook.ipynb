{
 "cells": [
  {
   "cell_type": "markdown",
   "metadata": {},
   "source": [
    "# User's notebook \n",
    "\n",
    "Please run the imports, fill the fields and press the simulation button. once the simulation have concluded you can download the summary table and the generated dataset. "
   ]
  },
  {
   "cell_type": "markdown",
   "metadata": {},
   "source": [
    "# 1. Imports \n",
    "please run the cells below before continue with the execution."
   ]
  },
  {
   "cell_type": "code",
   "execution_count": 1,
   "metadata": {},
   "outputs": [],
   "source": [
    "%load_ext autoreload\n",
    "%autoreload 2\n",
    "from visualization.visualization_helpers import build_full_ui"
   ]
  },
  {
   "cell_type": "markdown",
   "metadata": {},
   "source": [
    "# 2. Run simulations \n",
    "\n",
    "Please fill the following form and then run the simulation. "
   ]
  },
  {
   "cell_type": "code",
   "execution_count": 2,
   "metadata": {
    "scrolled": false
   },
   "outputs": [
    {
     "data": {
      "application/vnd.jupyter.widget-view+json": {
       "model_id": "33f29876d0d44dc7b14e1684d50b5c9e",
       "version_major": 2,
       "version_minor": 0
      },
      "text/plain": [
       "Box(children=(IntText(value=500, description='Total users:'), IntText(value=365, description='Days to generate…"
      ]
     },
     "metadata": {},
     "output_type": "display_data"
    },
    {
     "data": {
      "application/vnd.jupyter.widget-view+json": {
       "model_id": "d88df22daeba452ea2ab7160133890f4",
       "version_major": 2,
       "version_minor": 0
      },
      "text/plain": [
       "Accordion(children=(VBox(children=(SelectionSlider(description='18-29', index=2, layout=Layout(display='flex',…"
      ]
     },
     "metadata": {},
     "output_type": "display_data"
    },
    {
     "data": {
      "application/vnd.jupyter.widget-view+json": {
       "model_id": "dc9afcf07fe94d7cbef03a97256da37b",
       "version_major": 2,
       "version_minor": 0
      },
      "text/plain": [
       "Button(description='Start Generation', icon='play', style=ButtonStyle(), tooltip='Click to start the data gene…"
      ]
     },
     "metadata": {},
     "output_type": "display_data"
    },
    {
     "data": {
      "application/vnd.jupyter.widget-view+json": {
       "model_id": "1b1a5aca7f1d4e798b34b5621b8d7138",
       "version_major": 2,
       "version_minor": 0
      },
      "text/plain": [
       "Output()"
      ]
     },
     "metadata": {},
     "output_type": "display_data"
    }
   ],
   "source": [
    "build_full_ui()"
   ]
  }
 ],
 "metadata": {
  "interpreter": {
   "hash": "66bbf4fa6c6f4d9b7980e4a2f72372316a7dd0cd9956aefbd48db4c89728009f"
  },
  "kernelspec": {
   "display_name": "Python 3 (ipykernel)",
   "language": "python",
   "name": "python3"
  },
  "language_info": {
   "codemirror_mode": {
    "name": "ipython",
    "version": 3
   },
   "file_extension": ".py",
   "mimetype": "text/x-python",
   "name": "python",
   "nbconvert_exporter": "python",
   "pygments_lexer": "ipython3",
   "version": "3.9.16"
  }
 },
 "nbformat": 4,
 "nbformat_minor": 2
}
