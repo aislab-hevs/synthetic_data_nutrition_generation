{
 "cells": [
  {
   "cell_type": "markdown",
   "metadata": {},
   "source": [
    "# User's notebook \n",
    "\n",
    "Please run the imports, fill the fields and press the simulation button. once the simulation have concluded you can download the summary table and the generated dataset. "
   ]
  },
  {
   "cell_type": "markdown",
   "metadata": {},
   "source": [
    "# 1. Imports \n",
    "please run the cells below before continue with the execution."
   ]
  },
  {
   "cell_type": "code",
   "execution_count": 1,
   "metadata": {},
   "outputs": [],
   "source": [
    "%load_ext autoreload\n",
    "%autoreload 2\n",
    "from visualization.visualization_helpers import build_full_ui"
   ]
  },
  {
   "cell_type": "markdown",
   "metadata": {},
   "source": [
    "# 2. Run simulations \n",
    "\n",
    "Please fill the following form and then run the simulation. "
   ]
  },
  {
   "cell_type": "code",
   "execution_count": 2,
   "metadata": {
    "scrolled": false
   },
   "outputs": [
    {
     "name": "stdout",
     "output_type": "stream",
     "text": [
      "executing meal time\n"
     ]
    },
    {
     "data": {
      "application/vnd.jupyter.widget-view+json": {
       "model_id": "e975e91d62134abbb3c5ea2dc7cbc955",
       "version_major": 2,
       "version_minor": 0
      },
      "text/plain": [
       "Box(children=(IntText(value=500, description='Total users:'), IntText(value=365, description='Days to generate…"
      ]
     },
     "metadata": {},
     "output_type": "display_data"
    },
    {
     "data": {
      "application/vnd.jupyter.widget-view+json": {
       "model_id": "df859f9a44c64dd3bf5ddae97423e8aa",
       "version_major": 2,
       "version_minor": 0
      },
      "text/plain": [
       "Accordion(children=(VBox(children=(Dropdown(description='Age preset: ', options=('Flat', 'Young', 'Adult', 'El…"
      ]
     },
     "metadata": {},
     "output_type": "display_data"
    },
    {
     "data": {
      "application/vnd.jupyter.widget-view+json": {
       "model_id": "7b70ec9c4e5144398f8866f794792cba",
       "version_major": 2,
       "version_minor": 0
      },
      "text/plain": [
       "Button(description='Start Generation', icon='play', style=ButtonStyle(), tooltip='Click to start the data gene…"
      ]
     },
     "metadata": {},
     "output_type": "display_data"
    },
    {
     "data": {
      "application/vnd.jupyter.widget-view+json": {
       "model_id": "ab8dceebdad542cc860968b89551e457",
       "version_major": 2,
       "version_minor": 0
      },
      "text/plain": [
       "Output()"
      ]
     },
     "metadata": {},
     "output_type": "display_data"
    }
   ],
   "source": [
    "build_full_ui()"
   ]
  },
  {
   "cell_type": "markdown",
   "metadata": {},
   "source": [
    "# References \n",
    "\n",
    "1. Nwaru BI, Hickstein L, Panesar SS, Roberts G, Muraro A, Sheikh A; EAACI Food Allergy and Anaphylaxis Guidelines Group. Prevalence of common food allergies in Europe: a systematic review and meta-analysis. Allergy. 2014 Aug;69(8):992-1007. doi: 10.1111/all.12423. Epub 2014 May 10. PMID: 24816523.\n",
    "2. Lee AJ, Thalayasingam M, Lee BW. Food allergy in Asia: how does it compare? Asia Pac Allergy. 2013 Jan;3(1):3-14. doi: 10.5415/apallergy.2013.3.1.3. Epub 2013 Jan 22. PMID: 23403837; PMCID: PMC3563019.\n",
    "3. Ghislain M, Goodman RE, Barekye A. (2021). Defeating late blight disease of potato in sub-Saharan Africa. OpenAccessGovernment. https://www.openaccessgovernment.org/late-blight-disease/108180/.\n",
    "4. Sánchez, J., & Sánchez, A. (2015). Epidemiology of food allergy in Latin America. Allergologia et Immunopathologia, 43(2), 185–195. doi:10.1016/j.aller.2013.07.001.\n",
    "5. Gupta RS, Warren CM, Smith BM, et al. Prevalence and Severity of Food Allergies Among US Adults. JAMA Netw Open. 2019;2(1):e185630. doi:10.1001/jamanetworkopen.2018.5630.\n",
    "6. Nwaru BI, Hickstein L, Panesar SS, Roberts G, Muraro A, Sheikh A; EAACI Food Allergy and Anaphylaxis Guidelines Group. Prevalence of common food allergies in Europe: a systematic review and meta-analysis. Allergy. 2014 Aug;69(8):992-1007. doi: 10.1111/all.12423. Epub 2014 May 10. PMID: 24816523.\n",
    "7. https://ec.europa.eu/eurostat/web/products-eurostat-news/-/ddn-20210721-2#:~:text=While%2045%25%20of%20adults%20living,body%20mass%20index%20(BMI).\n",
    "8. https://www.hsph.harvard.edu/obesity-prevention-source/obesity-trends-original/obesity-rates-worldwide/\n",
    "9. https://www.economist.com/middle-east-and-africa/2021/01/28/why-obesity-is-spreading-across-africa\n",
    "10. https://www.bbc.com/news/health-45878325"
   ]
  },
  {
   "cell_type": "code",
   "execution_count": null,
   "metadata": {},
   "outputs": [],
   "source": []
  }
 ],
 "metadata": {
  "interpreter": {
   "hash": "66bbf4fa6c6f4d9b7980e4a2f72372316a7dd0cd9956aefbd48db4c89728009f"
  },
  "kernelspec": {
   "display_name": "Python 3 (ipykernel)",
   "language": "python",
   "name": "python3"
  },
  "language_info": {
   "codemirror_mode": {
    "name": "ipython",
    "version": 3
   },
   "file_extension": ".py",
   "mimetype": "text/x-python",
   "name": "python",
   "nbconvert_exporter": "python",
   "pygments_lexer": "ipython3",
   "version": "3.9.16"
  }
 },
 "nbformat": 4,
 "nbformat_minor": 2
}
