{
 "cells": [
  {
   "cell_type": "markdown",
   "metadata": {},
   "source": [
    "# User's notebook \n",
    "\n",
    "Please run the imports, fill the fields and press the simulation button. once the simulation have concluded you can download the summary table and the generated dataset. "
   ]
  },
  {
   "cell_type": "markdown",
   "metadata": {},
   "source": [
    "# 1. Imports \n",
    "please run the cells below before continue with the execution."
   ]
  },
  {
   "cell_type": "code",
   "execution_count": 65,
   "metadata": {},
   "outputs": [
    {
     "name": "stdout",
     "output_type": "stream",
     "text": [
      "The autoreload extension is already loaded. To reload it, use:\n",
      "  %reload_ext autoreload\n"
     ]
    }
   ],
   "source": [
    "%load_ext autoreload\n",
    "%autoreload 2\n",
    "from visualization.visualization_helpers import build_full_ui"
   ]
  },
  {
   "cell_type": "markdown",
   "metadata": {},
   "source": [
    "# 2. Run simulations \n",
    "\n",
    "Please fill the following form and then run the simulation. "
   ]
  },
  {
   "cell_type": "code",
   "execution_count": 66,
   "metadata": {
    "scrolled": false
   },
   "outputs": [
    {
     "data": {
      "application/vnd.jupyter.widget-view+json": {
       "model_id": "6a4e43cf45b74508a6b76c9a0b60cfdb",
       "version_major": 2,
       "version_minor": 0
      },
      "text/plain": [
       "Box(children=(IntText(value=500, description='Total users:'), IntText(value=365, description='Days to generate…"
      ]
     },
     "metadata": {},
     "output_type": "display_data"
    },
    {
     "data": {
      "application/vnd.jupyter.widget-view+json": {
       "model_id": "d76594b4d657438798f7b664f7432314",
       "version_major": 2,
       "version_minor": 0
      },
      "text/plain": [
       "Accordion(children=(VBox(children=(SelectionSlider(description='20-29', index=2, layout=Layout(display='flex',…"
      ]
     },
     "metadata": {},
     "output_type": "display_data"
    },
    {
     "data": {
      "application/vnd.jupyter.widget-view+json": {
       "model_id": "28b2657aee904f349613d12afa638835",
       "version_major": 2,
       "version_minor": 0
      },
      "text/plain": [
       "Button(description='Start Generation', icon='play', style=ButtonStyle(), tooltip='Click to start the data gene…"
      ]
     },
     "metadata": {},
     "output_type": "display_data"
    },
    {
     "data": {
      "application/vnd.jupyter.widget-view+json": {
       "model_id": "d3455367b84e4bfe9ca707f4ac426526",
       "version_major": 2,
       "version_minor": 0
      },
      "text/plain": [
       "Output()"
      ]
     },
     "metadata": {},
     "output_type": "display_data"
    },
    {
     "name": "stdout",
     "output_type": "stream",
     "text": [
      "1\n",
      "1\n",
      "One user detected\n",
      "100\n",
      "calculated values condition underweight: breakfast mean 329.09090909090907 std 89.40952454731746\n",
      "calculated values condition underweight: morning snacks mean 116.16161616161617 std 70.96574440526938\n",
      "calculated values condition underweight: afternoon snacks mean 0.0 std 0.0\n",
      "calculated values condition underweight: lunch mean 91.21212121212122 std 75.06830532136642\n",
      "calculated values condition underweight: dinner mean 328.09090909090907 std 85.38533197518213\n",
      "1\n",
      "0\n",
      "0\n",
      "3\n",
      "0\n",
      "0\n"
     ]
    }
   ],
   "source": [
    "build_full_ui()"
   ]
  }
 ],
 "metadata": {
  "interpreter": {
   "hash": "66bbf4fa6c6f4d9b7980e4a2f72372316a7dd0cd9956aefbd48db4c89728009f"
  },
  "kernelspec": {
   "display_name": "Python 3 (ipykernel)",
   "language": "python",
   "name": "python3"
  },
  "language_info": {
   "codemirror_mode": {
    "name": "ipython",
    "version": 3
   },
   "file_extension": ".py",
   "mimetype": "text/x-python",
   "name": "python",
   "nbconvert_exporter": "python",
   "pygments_lexer": "ipython3",
   "version": "3.9.16"
  }
 },
 "nbformat": 4,
 "nbformat_minor": 2
}
